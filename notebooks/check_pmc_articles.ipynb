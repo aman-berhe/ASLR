{
 "cells": [
  {
   "cell_type": "code",
   "execution_count": 1,
   "id": "c5ad28bf-d152-4bb1-be0c-30ccd85b6279",
   "metadata": {},
   "outputs": [],
   "source": [
    "import os\n",
    "import pandas as pd\n",
    "import multiprocessing as mp\n",
    "from tqdm import tqdm\n",
    "\n",
    "from bs4 import BeautifulSoup\n",
    "import re\n",
    "import sys"
   ]
  },
  {
   "cell_type": "code",
   "execution_count": 2,
   "id": "6b11eb8c-3fda-47fa-abe2-eca7d4ea582a",
   "metadata": {
    "tags": []
   },
   "outputs": [],
   "source": [
    "sys.path.append(\"/home/aberhe/Projects/SANTAL/ASLR/\")"
   ]
  },
  {
   "cell_type": "code",
   "execution_count": 3,
   "id": "29bf3327-a94c-40b4-8e03-e3946dee8308",
   "metadata": {
    "tags": []
   },
   "outputs": [],
   "source": [
    "import src.artcileDetail_xml as ad"
   ]
  },
  {
   "cell_type": "code",
   "execution_count": 4,
   "id": "7feaf6c4-6f33-4773-936d-c719ac5a33fb",
   "metadata": {
    "tags": []
   },
   "outputs": [
    {
     "data": {
      "text/plain": [
       "48"
      ]
     },
     "execution_count": 4,
     "metadata": {},
     "output_type": "execute_result"
    }
   ],
   "source": [
    "mp.cpu_count()"
   ]
  },
  {
   "cell_type": "code",
   "execution_count": 5,
   "id": "0c176d3c-e9be-4b4a-a1a7-318ecd7faa99",
   "metadata": {
    "tags": []
   },
   "outputs": [],
   "source": [
    "import psutil"
   ]
  },
  {
   "cell_type": "code",
   "execution_count": 6,
   "id": "21d1efa2-a022-4160-a9e9-910f9cbb02e7",
   "metadata": {
    "tags": []
   },
   "outputs": [
    {
     "name": "stdout",
     "output_type": "stream",
     "text": [
      "CPU Core 0: 2.6% Usage\n"
     ]
    }
   ],
   "source": [
    "cpu_usage_per_core = psutil.cpu_percent(percpu=True)\n",
    "\n",
    "# Print the information\n",
    "for i, percentage in enumerate(cpu_usage_per_core):\n",
    "    print(f\"CPU Core {i}: {percentage}% Usage\")\n",
    "    break"
   ]
  },
  {
   "cell_type": "code",
   "execution_count": 46,
   "id": "277eb100-83d8-4a60-88fe-589889ccc2cd",
   "metadata": {
    "tags": []
   },
   "outputs": [],
   "source": [
    "ROOT_file_xml=os.path.PATH=\"/data/projects/santal/data/PMC_Articles\"\n",
    "OA_COMM_PATH=\"/data/projects/santal/data/PMC_Articles/oa_comm/txt/all\"\n",
    "OA_NONCOMM_PATH=\"/data/projects/santal/data/PMC_Articles/oa_noncomm/txt/all\""
   ]
  },
  {
   "cell_type": "code",
   "execution_count": 47,
   "id": "487b28ee-2f4a-41bb-a00c-2ad31e38d09d",
   "metadata": {},
   "outputs": [],
   "source": [
    "articles_metadData=pd.read_csv(\"/data/projects/santal/data/PMC_Articles/oa_comm/txt/metadata/csv/oa_comm.filelist.csv\")\n",
    "articles_metadData_NonComm=pd.read_csv(\"/data/projects/santal/data/PMC_Articles/oa_noncomm/txt/metadata/csv/oa_noncomm.filelist.csv\")\n",
    "articles_metadData_phe=pd.read_csv(\"/data/projects/santal/data/PMC_Articles/phe_timebound/txt/metadata/csv/phe_timebound.filelist.csv\")\n",
    "articles_metadData_author=pd.read_csv(\"/data/projects/santal/data/PMC_Articles/author_manuscript/txt/metadata/csv/author_manuscript.filelist.csv\")\n",
    "#/data/projects/santal/data/PMC_Articles/phe_timebound/txt/metadata/csv"
   ]
  },
  {
   "cell_type": "code",
   "execution_count": 49,
   "id": "f4b782d0-0c58-4d7c-af6a-dc04b5d2f410",
   "metadata": {
    "tags": []
   },
   "outputs": [],
   "source": [
    "articles_metadData_xml=pd.read_csv(\"/data/projects/santal/data/PMC_Articles/oa_comm/xml/metadata/csv/oa_comm.filelist.csv\")\n",
    "articles_metadData_NonComm_xml=pd.read_csv(\"/data/projects/santal/data/PMC_Articles/oa_noncomm/xml/metadata/csv/oa_noncomm.filelist.csv\")\n",
    "articles_metadData_phe_xml=pd.read_csv(\"/data/projects/santal/data/PMC_Articles/phe_timebound/xml/metadata/csv/phe_timebound.filelist.csv\")\n",
    "articles_metadData_author_xml=pd.read_csv(\"/data/projects/santal/data/PMC_Articles/author_manuscript/xml/metadata/csv/author_manuscript.filelist.csv\")\n",
    "#/data/projects/santal/data/PMC_Articles/phe_timebound/txt/metadata/csv"
   ]
  },
  {
   "cell_type": "code",
   "execution_count": 63,
   "id": "831ffc23-9001-447a-8b5b-02a4bef15c05",
   "metadata": {
    "tags": []
   },
   "outputs": [
    {
     "data": {
      "text/plain": [
       "(3390902, 8)"
      ]
     },
     "execution_count": 63,
     "metadata": {},
     "output_type": "execute_result"
    }
   ],
   "source": [
    "articles_metadData.shape"
   ]
  },
  {
   "cell_type": "code",
   "execution_count": 62,
   "id": "e89611bb-0d0a-45e1-9066-127cc2d4f636",
   "metadata": {
    "tags": []
   },
   "outputs": [
    {
     "data": {
      "text/plain": [
       "(3391148, 8)"
      ]
     },
     "execution_count": 62,
     "metadata": {},
     "output_type": "execute_result"
    }
   ],
   "source": [
    "articles_metadData_xml.shape"
   ]
  },
  {
   "cell_type": "code",
   "execution_count": 65,
   "id": "58510dd4-639f-4b0e-8cc7-63d70aae4275",
   "metadata": {
    "tags": []
   },
   "outputs": [
    {
     "ename": "TypeError",
     "evalue": "unsupported operand type(s) for -: 'list' and 'list'",
     "output_type": "error",
     "traceback": [
      "\u001b[0;31m---------------------------------------------------------------------------\u001b[0m",
      "\u001b[0;31mTypeError\u001b[0m                                 Traceback (most recent call last)",
      "Cell \u001b[0;32mIn[65], line 1\u001b[0m\n\u001b[0;32m----> 1\u001b[0m \u001b[38;5;28mlen\u001b[39m(\u001b[43marticles_metadData_xml\u001b[49m\u001b[43m[\u001b[49m\u001b[38;5;124;43m\"\u001b[39;49m\u001b[38;5;124;43mAccessionID\u001b[39;49m\u001b[38;5;124;43m\"\u001b[39;49m\u001b[43m]\u001b[49m\u001b[38;5;241;43m.\u001b[39;49m\u001b[43mtolist\u001b[49m\u001b[43m(\u001b[49m\u001b[43m)\u001b[49m\u001b[38;5;241;43m-\u001b[39;49m\u001b[43marticles_metadData\u001b[49m\u001b[43m[\u001b[49m\u001b[38;5;124;43m\"\u001b[39;49m\u001b[38;5;124;43mAccessionID\u001b[39;49m\u001b[38;5;124;43m\"\u001b[39;49m\u001b[43m]\u001b[49m\u001b[38;5;241;43m.\u001b[39;49m\u001b[43mtolist\u001b[49m\u001b[43m(\u001b[49m\u001b[43m)\u001b[49m)\n",
      "\u001b[0;31mTypeError\u001b[0m: unsupported operand type(s) for -: 'list' and 'list'"
     ]
    }
   ],
   "source": [
    "len(articles_metadData_xml[\"AccessionID\"].tolist()-articles_metadData[\"AccessionID\"].tolist())"
   ]
  },
  {
   "cell_type": "code",
   "execution_count": 55,
   "id": "a042fad5-5476-4635-9274-f22fb3c7b24d",
   "metadata": {
    "tags": []
   },
   "outputs": [
    {
     "ename": "KeyError",
     "evalue": "'key'",
     "output_type": "error",
     "traceback": [
      "\u001b[0;31m---------------------------------------------------------------------------\u001b[0m",
      "\u001b[0;31mKeyError\u001b[0m                                  Traceback (most recent call last)",
      "File \u001b[0;32m/opt/conda/lib/python3.10/site-packages/pandas/core/indexes/base.py:3802\u001b[0m, in \u001b[0;36mIndex.get_loc\u001b[0;34m(self, key, method, tolerance)\u001b[0m\n\u001b[1;32m   3801\u001b[0m \u001b[38;5;28;01mtry\u001b[39;00m:\n\u001b[0;32m-> 3802\u001b[0m     \u001b[38;5;28;01mreturn\u001b[39;00m \u001b[38;5;28;43mself\u001b[39;49m\u001b[38;5;241;43m.\u001b[39;49m\u001b[43m_engine\u001b[49m\u001b[38;5;241;43m.\u001b[39;49m\u001b[43mget_loc\u001b[49m\u001b[43m(\u001b[49m\u001b[43mcasted_key\u001b[49m\u001b[43m)\u001b[49m\n\u001b[1;32m   3803\u001b[0m \u001b[38;5;28;01mexcept\u001b[39;00m \u001b[38;5;167;01mKeyError\u001b[39;00m \u001b[38;5;28;01mas\u001b[39;00m err:\n",
      "File \u001b[0;32m/opt/conda/lib/python3.10/site-packages/pandas/_libs/index.pyx:138\u001b[0m, in \u001b[0;36mpandas._libs.index.IndexEngine.get_loc\u001b[0;34m()\u001b[0m\n",
      "File \u001b[0;32m/opt/conda/lib/python3.10/site-packages/pandas/_libs/index.pyx:165\u001b[0m, in \u001b[0;36mpandas._libs.index.IndexEngine.get_loc\u001b[0;34m()\u001b[0m\n",
      "File \u001b[0;32mpandas/_libs/hashtable_class_helper.pxi:5745\u001b[0m, in \u001b[0;36mpandas._libs.hashtable.PyObjectHashTable.get_item\u001b[0;34m()\u001b[0m\n",
      "File \u001b[0;32mpandas/_libs/hashtable_class_helper.pxi:5753\u001b[0m, in \u001b[0;36mpandas._libs.hashtable.PyObjectHashTable.get_item\u001b[0;34m()\u001b[0m\n",
      "\u001b[0;31mKeyError\u001b[0m: 'key'",
      "\nThe above exception was the direct cause of the following exception:\n",
      "\u001b[0;31mKeyError\u001b[0m                                  Traceback (most recent call last)",
      "Cell \u001b[0;32mIn[55], line 1\u001b[0m\n\u001b[0;32m----> 1\u001b[0m xml_oaCom\u001b[38;5;241m=\u001b[39m[ent\u001b[38;5;241m.\u001b[39msplit(\u001b[38;5;124m\"\u001b[39m\u001b[38;5;124m/\u001b[39m\u001b[38;5;124m\"\u001b[39m)\u001b[38;5;241m.\u001b[39mreplace(\u001b[38;5;124m\"\u001b[39m\u001b[38;5;124m.xml\u001b[39m\u001b[38;5;124m\"\u001b[39m,\u001b[38;5;124m\"\u001b[39m\u001b[38;5;124m\"\u001b[39m) \u001b[38;5;28;01mfor\u001b[39;00m ent \u001b[38;5;129;01min\u001b[39;00m \u001b[43marticles_metadData_xml\u001b[49m\u001b[43m[\u001b[49m\u001b[38;5;124;43m\"\u001b[39;49m\u001b[38;5;124;43mkey\u001b[39;49m\u001b[38;5;124;43m\"\u001b[39;49m\u001b[43m]\u001b[49m\u001b[38;5;241m.\u001b[39mtolist()]\n\u001b[1;32m      2\u001b[0m oaCom\u001b[38;5;241m=\u001b[39m[ent\u001b[38;5;241m.\u001b[39msplit(\u001b[38;5;124m\"\u001b[39m\u001b[38;5;124m/\u001b[39m\u001b[38;5;124m\"\u001b[39m)\u001b[38;5;241m.\u001b[39mreplace(\u001b[38;5;124m\"\u001b[39m\u001b[38;5;124m.txt\u001b[39m\u001b[38;5;124m\"\u001b[39m,\u001b[38;5;124m\"\u001b[39m\u001b[38;5;124m\"\u001b[39m) \u001b[38;5;28;01mfor\u001b[39;00m ent \u001b[38;5;129;01min\u001b[39;00m articles_metadData[\u001b[38;5;124m\"\u001b[39m\u001b[38;5;124mkey\u001b[39m\u001b[38;5;124m\"\u001b[39m]\u001b[38;5;241m.\u001b[39mtolist()]\n",
      "File \u001b[0;32m/opt/conda/lib/python3.10/site-packages/pandas/core/frame.py:3807\u001b[0m, in \u001b[0;36mDataFrame.__getitem__\u001b[0;34m(self, key)\u001b[0m\n\u001b[1;32m   3805\u001b[0m \u001b[38;5;28;01mif\u001b[39;00m \u001b[38;5;28mself\u001b[39m\u001b[38;5;241m.\u001b[39mcolumns\u001b[38;5;241m.\u001b[39mnlevels \u001b[38;5;241m>\u001b[39m \u001b[38;5;241m1\u001b[39m:\n\u001b[1;32m   3806\u001b[0m     \u001b[38;5;28;01mreturn\u001b[39;00m \u001b[38;5;28mself\u001b[39m\u001b[38;5;241m.\u001b[39m_getitem_multilevel(key)\n\u001b[0;32m-> 3807\u001b[0m indexer \u001b[38;5;241m=\u001b[39m \u001b[38;5;28;43mself\u001b[39;49m\u001b[38;5;241;43m.\u001b[39;49m\u001b[43mcolumns\u001b[49m\u001b[38;5;241;43m.\u001b[39;49m\u001b[43mget_loc\u001b[49m\u001b[43m(\u001b[49m\u001b[43mkey\u001b[49m\u001b[43m)\u001b[49m\n\u001b[1;32m   3808\u001b[0m \u001b[38;5;28;01mif\u001b[39;00m is_integer(indexer):\n\u001b[1;32m   3809\u001b[0m     indexer \u001b[38;5;241m=\u001b[39m [indexer]\n",
      "File \u001b[0;32m/opt/conda/lib/python3.10/site-packages/pandas/core/indexes/base.py:3804\u001b[0m, in \u001b[0;36mIndex.get_loc\u001b[0;34m(self, key, method, tolerance)\u001b[0m\n\u001b[1;32m   3802\u001b[0m     \u001b[38;5;28;01mreturn\u001b[39;00m \u001b[38;5;28mself\u001b[39m\u001b[38;5;241m.\u001b[39m_engine\u001b[38;5;241m.\u001b[39mget_loc(casted_key)\n\u001b[1;32m   3803\u001b[0m \u001b[38;5;28;01mexcept\u001b[39;00m \u001b[38;5;167;01mKeyError\u001b[39;00m \u001b[38;5;28;01mas\u001b[39;00m err:\n\u001b[0;32m-> 3804\u001b[0m     \u001b[38;5;28;01mraise\u001b[39;00m \u001b[38;5;167;01mKeyError\u001b[39;00m(key) \u001b[38;5;28;01mfrom\u001b[39;00m \u001b[38;5;21;01merr\u001b[39;00m\n\u001b[1;32m   3805\u001b[0m \u001b[38;5;28;01mexcept\u001b[39;00m \u001b[38;5;167;01mTypeError\u001b[39;00m:\n\u001b[1;32m   3806\u001b[0m     \u001b[38;5;66;03m# If we have a listlike key, _check_indexing_error will raise\u001b[39;00m\n\u001b[1;32m   3807\u001b[0m     \u001b[38;5;66;03m#  InvalidIndexError. Otherwise we fall through and re-raise\u001b[39;00m\n\u001b[1;32m   3808\u001b[0m     \u001b[38;5;66;03m#  the TypeError.\u001b[39;00m\n\u001b[1;32m   3809\u001b[0m     \u001b[38;5;28mself\u001b[39m\u001b[38;5;241m.\u001b[39m_check_indexing_error(key)\n",
      "\u001b[0;31mKeyError\u001b[0m: 'key'"
     ]
    }
   ],
   "source": [
    "xml_oaCom=[ent.split(\"/\").replace(\".xml\",\"\") for ent in articles_metadData_xml[\"AccessionID\"].tolist()]\n",
    "oaCom=[ent.split(\"/\").replace(\".txt\",\"\") for ent in articles_metadData[\"AccessionID\"].tolist()]"
   ]
  },
  {
   "cell_type": "code",
   "execution_count": 56,
   "id": "4faf295f-b9b8-4842-a63f-222da15d96ff",
   "metadata": {
    "tags": []
   },
   "outputs": [],
   "source": [
    "from collections import Counter\n",
    "\n",
    "def list_diff(list1, list2):\n",
    "    counter1 = Counter(list1)\n",
    "    counter2 = Counter(list2)\n",
    "    diff = counter1 - counter2\n",
    "    return list(diff.elements())"
   ]
  },
  {
   "cell_type": "code",
   "execution_count": 77,
   "id": "220a00bf-d1c0-44b6-9f42-7ccd7806d2a9",
   "metadata": {
    "tags": []
   },
   "outputs": [],
   "source": [
    "diff1=list_diff(articles_metadData_phe_xml[\"AccessionID\"].tolist(),articles_metadData_phe[\"AccessionID\"].tolist())\n",
    "diff2=list_diff(articles_metadData_phe[\"AccessionID\"].tolist(),articles_metadData_phe_xml[\"AccessionID\"].tolist())"
   ]
  },
  {
   "cell_type": "code",
   "execution_count": 80,
   "id": "15b44e0d-c118-4565-bf23-a6d8efb37145",
   "metadata": {
    "tags": []
   },
   "outputs": [
    {
     "data": {
      "text/plain": [
       "['PMC10038664']"
      ]
     },
     "execution_count": 80,
     "metadata": {},
     "output_type": "execute_result"
    }
   ],
   "source": [
    "diff1"
   ]
  },
  {
   "cell_type": "code",
   "execution_count": 71,
   "id": "967702e2-7c64-4fc8-8190-56742009f0f6",
   "metadata": {
    "tags": []
   },
   "outputs": [
    {
     "ename": "ValueError",
     "evalue": "'PMC5633705' is not in list",
     "output_type": "error",
     "traceback": [
      "\u001b[0;31m---------------------------------------------------------------------------\u001b[0m",
      "\u001b[0;31mValueError\u001b[0m                                Traceback (most recent call last)",
      "Cell \u001b[0;32mIn[71], line 1\u001b[0m\n\u001b[0;32m----> 1\u001b[0m \u001b[43marticles_metadData_xml\u001b[49m\u001b[43m[\u001b[49m\u001b[38;5;124;43m\"\u001b[39;49m\u001b[38;5;124;43mAccessionID\u001b[39;49m\u001b[38;5;124;43m\"\u001b[39;49m\u001b[43m]\u001b[49m\u001b[38;5;241;43m.\u001b[39;49m\u001b[43mtolist\u001b[49m\u001b[43m(\u001b[49m\u001b[43m)\u001b[49m\u001b[38;5;241;43m.\u001b[39;49m\u001b[43mindex\u001b[49m\u001b[43m(\u001b[49m\u001b[43mdiff2\u001b[49m\u001b[43m[\u001b[49m\u001b[38;5;241;43m0\u001b[39;49m\u001b[43m]\u001b[49m\u001b[43m)\u001b[49m\n",
      "\u001b[0;31mValueError\u001b[0m: 'PMC5633705' is not in list"
     ]
    }
   ],
   "source": [
    "articles_metadData_NonComm[\"AccessionID\"].tolist().index(diff2[0])"
   ]
  },
  {
   "cell_type": "code",
   "execution_count": 60,
   "id": "ab4b8845-1b57-4701-a55a-aa7f8a49356e",
   "metadata": {
    "tags": []
   },
   "outputs": [],
   "source": [
    "def list_diffenrenc(list1,list2):\n",
    "    diff1=[elt for elt in list1 if elt not in list2]\n",
    "    diff2=[elt for elt in list2 if elt not in list1]\n",
    "    return diff1,diff2"
   ]
  },
  {
   "cell_type": "code",
   "execution_count": 61,
   "id": "b545c5a2-b0e0-47fe-a035-74073720dde1",
   "metadata": {
    "tags": []
   },
   "outputs": [
    {
     "ename": "KeyboardInterrupt",
     "evalue": "",
     "output_type": "error",
     "traceback": [
      "\u001b[0;31m---------------------------------------------------------------------------\u001b[0m",
      "\u001b[0;31mKeyboardInterrupt\u001b[0m                         Traceback (most recent call last)",
      "Cell \u001b[0;32mIn[61], line 1\u001b[0m\n\u001b[0;32m----> 1\u001b[0m diff1,diff2\u001b[38;5;241m=\u001b[39m\u001b[43mlist_diffenrenc\u001b[49m\u001b[43m(\u001b[49m\u001b[43marticles_metadData_xml\u001b[49m\u001b[43m[\u001b[49m\u001b[38;5;124;43m\"\u001b[39;49m\u001b[38;5;124;43mAccessionID\u001b[39;49m\u001b[38;5;124;43m\"\u001b[39;49m\u001b[43m]\u001b[49m\u001b[38;5;241;43m.\u001b[39;49m\u001b[43mtolist\u001b[49m\u001b[43m(\u001b[49m\u001b[43m)\u001b[49m\u001b[43m,\u001b[49m\u001b[43marticles_metadData\u001b[49m\u001b[43m[\u001b[49m\u001b[38;5;124;43m\"\u001b[39;49m\u001b[38;5;124;43mAccessionID\u001b[39;49m\u001b[38;5;124;43m\"\u001b[39;49m\u001b[43m]\u001b[49m\u001b[38;5;241;43m.\u001b[39;49m\u001b[43mtolist\u001b[49m\u001b[43m(\u001b[49m\u001b[43m)\u001b[49m\u001b[43m)\u001b[49m\n",
      "Cell \u001b[0;32mIn[60], line 2\u001b[0m, in \u001b[0;36mlist_diffenrenc\u001b[0;34m(list1, list2)\u001b[0m\n\u001b[1;32m      1\u001b[0m \u001b[38;5;28;01mdef\u001b[39;00m \u001b[38;5;21mlist_diffenrenc\u001b[39m(list1,list2):\n\u001b[0;32m----> 2\u001b[0m     diff1\u001b[38;5;241m=\u001b[39m[elt \u001b[38;5;28;01mfor\u001b[39;00m elt \u001b[38;5;129;01min\u001b[39;00m list1 \u001b[38;5;28;01mif\u001b[39;00m elt \u001b[38;5;129;01mnot\u001b[39;00m \u001b[38;5;129;01min\u001b[39;00m list2]\n\u001b[1;32m      3\u001b[0m     diff2\u001b[38;5;241m=\u001b[39m[elt \u001b[38;5;28;01mfor\u001b[39;00m elt \u001b[38;5;129;01min\u001b[39;00m list2 \u001b[38;5;28;01mif\u001b[39;00m elt \u001b[38;5;129;01mnot\u001b[39;00m \u001b[38;5;129;01min\u001b[39;00m list1]\n\u001b[1;32m      4\u001b[0m     \u001b[38;5;28;01mreturn\u001b[39;00m diff1,diff2\n",
      "Cell \u001b[0;32mIn[60], line 2\u001b[0m, in \u001b[0;36m<listcomp>\u001b[0;34m(.0)\u001b[0m\n\u001b[1;32m      1\u001b[0m \u001b[38;5;28;01mdef\u001b[39;00m \u001b[38;5;21mlist_diffenrenc\u001b[39m(list1,list2):\n\u001b[0;32m----> 2\u001b[0m     diff1\u001b[38;5;241m=\u001b[39m[elt \u001b[38;5;28;01mfor\u001b[39;00m elt \u001b[38;5;129;01min\u001b[39;00m list1 \u001b[38;5;28;01mif\u001b[39;00m elt \u001b[38;5;129;01mnot\u001b[39;00m \u001b[38;5;129;01min\u001b[39;00m list2]\n\u001b[1;32m      3\u001b[0m     diff2\u001b[38;5;241m=\u001b[39m[elt \u001b[38;5;28;01mfor\u001b[39;00m elt \u001b[38;5;129;01min\u001b[39;00m list2 \u001b[38;5;28;01mif\u001b[39;00m elt \u001b[38;5;129;01mnot\u001b[39;00m \u001b[38;5;129;01min\u001b[39;00m list1]\n\u001b[1;32m      4\u001b[0m     \u001b[38;5;28;01mreturn\u001b[39;00m diff1,diff2\n",
      "\u001b[0;31mKeyboardInterrupt\u001b[0m: "
     ]
    }
   ],
   "source": [
    "diff1,diff2=list_diffenrenc(articles_metadData_xml[\"AccessionID\"].tolist(),articles_metadData[\"AccessionID\"].tolist())"
   ]
  },
  {
   "cell_type": "code",
   "execution_count": null,
   "id": "ef4e72a7-7eec-4976-a451-33a33fa071a2",
   "metadata": {
    "tags": []
   },
   "outputs": [],
   "source": [
    "len(diff1)"
   ]
  },
  {
   "cell_type": "code",
   "execution_count": 59,
   "id": "e5f3cc18-c878-4d88-9972-9f8c73e6e2c1",
   "metadata": {
    "tags": []
   },
   "outputs": [
    {
     "data": {
      "text/plain": [
       "(247, 1)"
      ]
     },
     "execution_count": 59,
     "metadata": {},
     "output_type": "execute_result"
    }
   ],
   "source": [
    "len(diff1),len(diff2)"
   ]
  },
  {
   "cell_type": "code",
   "execution_count": 53,
   "id": "29366637-1dcf-4950-b2c7-35c35a7d19bc",
   "metadata": {
    "tags": []
   },
   "outputs": [
    {
     "data": {
      "text/plain": [
       "((3390902, 8), (1353816, 8), (224739, 8), (835592, 6))"
      ]
     },
     "execution_count": 53,
     "metadata": {},
     "output_type": "execute_result"
    }
   ],
   "source": [
    "articles_metadData.shape,articles_metadData_NonComm.shape,articles_metadData_phe.shape,articles_metadData_author.shape"
   ]
  },
  {
   "cell_type": "code",
   "execution_count": 74,
   "id": "b8460817-3163-496b-bcea-defdb3e0b3d5",
   "metadata": {
    "tags": []
   },
   "outputs": [
    {
     "data": {
      "text/plain": [
       "((3391148, 8), (1354209, 8), (224740, 8), (835592, 6))"
      ]
     },
     "execution_count": 74,
     "metadata": {},
     "output_type": "execute_result"
    }
   ],
   "source": [
    "articles_metadData_xml.shape,articles_metadData_NonComm_xml.shape,articles_metadData_phe_xml.shape,articles_metadData_author_xml.shape"
   ]
  },
  {
   "cell_type": "code",
   "execution_count": 54,
   "id": "5d621159-5a91-4ce0-9e58-076634a266cc",
   "metadata": {
    "tags": []
   },
   "outputs": [
    {
     "data": {
      "text/plain": [
       "5805049"
      ]
     },
     "execution_count": 54,
     "metadata": {},
     "output_type": "execute_result"
    }
   ],
   "source": [
    "sum([len(articles_metadData_NonComm),len(articles_metadData),len(articles_metadData_phe),len(articles_metadData_author)])"
   ]
  },
  {
   "cell_type": "code",
   "execution_count": 55,
   "id": "d09df86e-2705-4c95-bd3a-77377c8d60d6",
   "metadata": {
    "tags": []
   },
   "outputs": [
    {
     "data": {
      "text/html": [
       "<div>\n",
       "<style scoped>\n",
       "    .dataframe tbody tr th:only-of-type {\n",
       "        vertical-align: middle;\n",
       "    }\n",
       "\n",
       "    .dataframe tbody tr th {\n",
       "        vertical-align: top;\n",
       "    }\n",
       "\n",
       "    .dataframe thead th {\n",
       "        text-align: right;\n",
       "    }\n",
       "</style>\n",
       "<table border=\"1\" class=\"dataframe\">\n",
       "  <thead>\n",
       "    <tr style=\"text-align: right;\">\n",
       "      <th></th>\n",
       "      <th>Key</th>\n",
       "      <th>ETag</th>\n",
       "      <th>AccessionID</th>\n",
       "      <th>Last Updated UTC (YYYY-MM-DD HH:MM:SS)</th>\n",
       "      <th>PMID</th>\n",
       "      <th>MID</th>\n",
       "    </tr>\n",
       "  </thead>\n",
       "  <tbody>\n",
       "    <tr>\n",
       "      <th>0</th>\n",
       "      <td>author_manuscript/txt/all/PMC10000016.txt</td>\n",
       "      <td>b64f69f96fa82f24914dc59b0f60b385</td>\n",
       "      <td>PMC10000016</td>\n",
       "      <td>2023-03-15 07:46:46</td>\n",
       "      <td>36350991</td>\n",
       "      <td>NIHMS1871023</td>\n",
       "    </tr>\n",
       "    <tr>\n",
       "      <th>1</th>\n",
       "      <td>author_manuscript/txt/all/PMC10000018.txt</td>\n",
       "      <td>7eaa9c853b05ba20c3eff8bd0cd1fea9</td>\n",
       "      <td>PMC10000018</td>\n",
       "      <td>2023-03-15 07:46:46</td>\n",
       "      <td>35931018</td>\n",
       "      <td>NIHMS1875621</td>\n",
       "    </tr>\n",
       "    <tr>\n",
       "      <th>2</th>\n",
       "      <td>author_manuscript/txt/all/PMC10000019.txt</td>\n",
       "      <td>be821355607ee4228a82e10a2a31f77b</td>\n",
       "      <td>PMC10000019</td>\n",
       "      <td>2023-03-15 07:46:46</td>\n",
       "      <td>32514150</td>\n",
       "      <td>NIHMS1875865</td>\n",
       "    </tr>\n",
       "    <tr>\n",
       "      <th>3</th>\n",
       "      <td>author_manuscript/txt/all/PMC10000020.txt</td>\n",
       "      <td>ebdb75e4cba9bbd7b6e18c44ee76b15c</td>\n",
       "      <td>PMC10000020</td>\n",
       "      <td>2023-03-15 07:46:46</td>\n",
       "      <td>34107125</td>\n",
       "      <td>NIHMS1868785</td>\n",
       "    </tr>\n",
       "    <tr>\n",
       "      <th>4</th>\n",
       "      <td>author_manuscript/txt/all/PMC10000282.txt</td>\n",
       "      <td>08bce6e2a1fccca146447ef0eedafc49</td>\n",
       "      <td>PMC10000282</td>\n",
       "      <td>2023-03-15 07:46:46</td>\n",
       "      <td>36369271</td>\n",
       "      <td>NIHMS1875906</td>\n",
       "    </tr>\n",
       "  </tbody>\n",
       "</table>\n",
       "</div>"
      ],
      "text/plain": [
       "                                         Key  \\\n",
       "0  author_manuscript/txt/all/PMC10000016.txt   \n",
       "1  author_manuscript/txt/all/PMC10000018.txt   \n",
       "2  author_manuscript/txt/all/PMC10000019.txt   \n",
       "3  author_manuscript/txt/all/PMC10000020.txt   \n",
       "4  author_manuscript/txt/all/PMC10000282.txt   \n",
       "\n",
       "                               ETag  AccessionID  \\\n",
       "0  b64f69f96fa82f24914dc59b0f60b385  PMC10000016   \n",
       "1  7eaa9c853b05ba20c3eff8bd0cd1fea9  PMC10000018   \n",
       "2  be821355607ee4228a82e10a2a31f77b  PMC10000019   \n",
       "3  ebdb75e4cba9bbd7b6e18c44ee76b15c  PMC10000020   \n",
       "4  08bce6e2a1fccca146447ef0eedafc49  PMC10000282   \n",
       "\n",
       "  Last Updated UTC (YYYY-MM-DD HH:MM:SS)      PMID           MID  \n",
       "0                    2023-03-15 07:46:46  36350991  NIHMS1871023  \n",
       "1                    2023-03-15 07:46:46  35931018  NIHMS1875621  \n",
       "2                    2023-03-15 07:46:46  32514150  NIHMS1875865  \n",
       "3                    2023-03-15 07:46:46  34107125  NIHMS1868785  \n",
       "4                    2023-03-15 07:46:46  36369271  NIHMS1875906  "
      ]
     },
     "execution_count": 55,
     "metadata": {},
     "output_type": "execute_result"
    }
   ],
   "source": [
    "articles_metadData_author.head()"
   ]
  },
  {
   "cell_type": "code",
   "execution_count": 9,
   "id": "14571c14-6641-4363-b2b4-40be4da0c1f6",
   "metadata": {
    "tags": []
   },
   "outputs": [
    {
     "name": "stdout",
     "output_type": "stream",
     "text": [
      "PMC10000067.txt\n",
      "PMC10000065.txt\n",
      "PMC10000083.txt\n",
      "PMC10000014.txt\n",
      "PMC10000015.txt\n",
      "PMC10000017.txt\n",
      "PMC10000086.txt\n",
      "PMC10000070.txt\n",
      "PMC10000071.txt\n",
      "PMC10000023.txt\n"
     ]
    }
   ],
   "source": [
    "files_Paths_10=[]\n",
    "for i, name in enumerate(os.listdir(OA_COMM_PATH)):\n",
    "    if i<10:\n",
    "        print(name)\n",
    "        files_Paths_10.append(os.path.join(OA_COMM_PATH,name))\n",
    "    else:\n",
    "        break"
   ]
  },
  {
   "cell_type": "code",
   "execution_count": 59,
   "id": "d1031e77-13e3-4414-9f37-c6c29c36f02b",
   "metadata": {
    "tags": []
   },
   "outputs": [
    {
     "data": {
      "text/plain": [
       "'/data/projects/santal/data/PMC_Articles/oa_comm/txt/all/PMC10000014.txt'"
      ]
     },
     "execution_count": 59,
     "metadata": {},
     "output_type": "execute_result"
    }
   ],
   "source": [
    "os.path.join(ROOT_file_xml,articles_metadData[\"Key\"][0])"
   ]
  },
  {
   "cell_type": "code",
   "execution_count": 60,
   "id": "c183db7a-44ff-4b62-a43e-613c713df13c",
   "metadata": {
    "tags": []
   },
   "outputs": [],
   "source": [
    "files = [os.path.join(ROOT_file_xml, articles_metadData[\"Key\"][i]) for i in range(len(articles_metadData))]"
   ]
  },
  {
   "cell_type": "code",
   "execution_count": 61,
   "id": "0d30fa09-f022-45d1-b81a-71273f6f0669",
   "metadata": {
    "tags": []
   },
   "outputs": [],
   "source": [
    "with open ('/data/projects/santal/data/PMC_Articles/oa_comm/txt/all/PMC10000014.txt','r',encoding='utf-8') as f:\n",
    "    content=f.read()"
   ]
  },
  {
   "cell_type": "code",
   "execution_count": 62,
   "id": "4144520b-af79-494c-9dfb-c8e765bac759",
   "metadata": {
    "tags": []
   },
   "outputs": [],
   "source": [
    "#print(content)"
   ]
  },
  {
   "cell_type": "code",
   "execution_count": 63,
   "id": "38801616-7e94-40a1-bc54-c0137656f672",
   "metadata": {
    "tags": []
   },
   "outputs": [
    {
     "data": {
      "text/plain": [
       "3390902"
      ]
     },
     "execution_count": 63,
     "metadata": {},
     "output_type": "execute_result"
    }
   ],
   "source": [
    "len(files)"
   ]
  },
  {
   "cell_type": "code",
   "execution_count": 65,
   "id": "063143c9-b98f-462e-a856-97db7411dc01",
   "metadata": {
    "tags": []
   },
   "outputs": [],
   "source": [
    "def search_term(file_path):\n",
    "    try:\n",
    "        with open(file_path, 'r',encoding='utf-8') as file:\n",
    "            content = file.read()\n",
    "            if \"Veillonella\" in content:\n",
    "                #print(\"found \",file_path.split(\".\")[-1])\n",
    "                return file_path\n",
    "        return None\n",
    "    except:\n",
    "       #print(\"BAD FILE FORMAT!\")\n",
    "       return None\n",
    "    \n",
    "def parallel_term_search(files):\n",
    "    num_cores = mp.cpu_count()\n",
    "    pool = mp.Pool(processes=num_cores-10)\n",
    "    \n",
    "    search_pattern = 'Veillonella'\n",
    "    \n",
    "    progress_bar = tqdm(total=len(files),desc='Processing')\n",
    "\n",
    "    # Apply the function to each file path in parallel\n",
    "    results = []\n",
    "    for result in pool.imap_unordered(search_term, files):\n",
    "        progress_bar.update(1)  # Update progress bar\n",
    "        if result is not None:\n",
    "            results.append(result)\n",
    "    #results=pool.map(search_file,files)\n",
    "    \n",
    "    pool.close()\n",
    "    #progress_bar.close()\n",
    "    return results\n",
    "\n",
    "#result_list=parallel_term_search(files)"
   ]
  },
  {
   "cell_type": "code",
   "execution_count": 66,
   "id": "0a877d49-e7dd-4be1-80b2-6a6b71140e19",
   "metadata": {
    "tags": []
   },
   "outputs": [
    {
     "name": "stderr",
     "output_type": "stream",
     "text": [
      "Processing: 100%|██████████| 3390902/3390902 [15:57<00:00, 3542.71it/s] \n"
     ]
    }
   ],
   "source": [
    "result_list=parallel_term_search(files)"
   ]
  },
  {
   "cell_type": "code",
   "execution_count": 68,
   "id": "04ea8880-63b8-4dc7-ba6b-aa7e9323c7ae",
   "metadata": {
    "tags": []
   },
   "outputs": [
    {
     "name": "stdout",
     "output_type": "stream",
     "text": [
      "/data/projects/santal/data/PMC_Articles/oa_comm/txt/all/PMC10000167.txt\n"
     ]
    }
   ],
   "source": [
    "for file_path in result_list:\n",
    "    print(file_path)\n",
    "    break"
   ]
  },
  {
   "cell_type": "code",
   "execution_count": 67,
   "id": "91276465-3783-4003-a59d-e6974cb99f1e",
   "metadata": {
    "tags": []
   },
   "outputs": [
    {
     "data": {
      "text/plain": [
       "7872"
      ]
     },
     "execution_count": 67,
     "metadata": {},
     "output_type": "execute_result"
    }
   ],
   "source": [
    "len(result_list)"
   ]
  },
  {
   "cell_type": "code",
   "execution_count": 69,
   "id": "f6605ee5-ff77-4dfd-9c18-51a36061535b",
   "metadata": {
    "tags": []
   },
   "outputs": [
    {
     "data": {
      "text/plain": [
       "7872"
      ]
     },
     "execution_count": 69,
     "metadata": {},
     "output_type": "execute_result"
    }
   ],
   "source": [
    "len(result_list)"
   ]
  },
  {
   "cell_type": "code",
   "execution_count": 72,
   "id": "92bbd4e8-2629-4dab-8f96-df877b8c3f0f",
   "metadata": {
    "tags": []
   },
   "outputs": [],
   "source": [
    "with open(\"/home/aberhe/Projects/SANTAL/ASLR/data/Veillonella_articles_found.txt\", \"r\") as f:\n",
    "    files_veillonella=f.readlines()"
   ]
  },
  {
   "cell_type": "code",
   "execution_count": 75,
   "id": "ec7db4cb-bddc-470f-8ea4-c331ec5fac81",
   "metadata": {
    "tags": []
   },
   "outputs": [
    {
     "name": "stderr",
     "output_type": "stream",
     "text": [
      "  0%|          | 0/9363 [00:00<?, ?it/s]\n"
     ]
    }
   ],
   "source": [
    "with open(\"/home/aberhe/Projects/SANTAL/ASLR/data/Veillonella_articles_found.txt\", \"r\") as f:\n",
    "    files_veillonella=f.readlines()\n",
    "for article in tqdm(files_veillonella):#(path_to_included_articles+'/'+signature)):\n",
    "    #articlePath=path_to_included_articles+'/'+signature+'/'+ article\n",
    "    articlePath=\"/home/aberhe/Projects/SANTAL/ASLR/data/PMC_Articles/oa_comm/xml/all/\"+article.split(\"/\")[-1].split(\".txt\")[0]+\".xml\"\n",
    "    break"
   ]
  },
  {
   "cell_type": "code",
   "execution_count": 76,
   "id": "5a79bf45-ed49-4aed-80ca-0b1f4234c00b",
   "metadata": {
    "tags": []
   },
   "outputs": [
    {
     "data": {
      "text/plain": [
       "'/home/aberhe/Projects/SANTAL/ASLR/data/PMC_Articles/oa_comm/xml/all/PMC10000167.xml'"
      ]
     },
     "execution_count": 76,
     "metadata": {},
     "output_type": "execute_result"
    }
   ],
   "source": [
    "articlePath"
   ]
  },
  {
   "cell_type": "code",
   "execution_count": 79,
   "id": "3fc769b1-9098-4047-817e-eeb26a6d862e",
   "metadata": {
    "tags": []
   },
   "outputs": [
    {
     "data": {
      "text/plain": [
       "'/data/projects/santal/data/PMC_Articles/oa_comm/xml/all/PMC10000014.xml'"
      ]
     },
     "execution_count": 79,
     "metadata": {},
     "output_type": "execute_result"
    }
   ],
   "source": [
    "'/data/projects/santal/data/PMC_Articles/oa_comm/xml/all/PMC10000014.xml'"
   ]
  },
  {
   "cell_type": "code",
   "execution_count": 78,
   "id": "cb00469c-aee3-4d4b-9ae2-e5689dfa9631",
   "metadata": {
    "tags": []
   },
   "outputs": [
    {
     "data": {
      "text/plain": [
       "pandas.core.frame.DataFrame"
      ]
     },
     "execution_count": 78,
     "metadata": {},
     "output_type": "execute_result"
    }
   ],
   "source": [
    "type(articles_metadData)"
   ]
  },
  {
   "cell_type": "code",
   "execution_count": 2,
   "id": "91a08aef-ec50-4a2c-9ca9-a5364a7fcd0b",
   "metadata": {
    "tags": []
   },
   "outputs": [
    {
     "data": {
      "text/plain": [
       "9363"
      ]
     },
     "execution_count": 2,
     "metadata": {},
     "output_type": "execute_result"
    }
   ],
   "source": [
    "len(files_veillonella)"
   ]
  },
  {
   "cell_type": "code",
   "execution_count": 3,
   "id": "0a881f98-3d5e-4962-8531-083cd61f9114",
   "metadata": {
    "tags": []
   },
   "outputs": [
    {
     "data": {
      "text/plain": [
       "['/data/projects/santal/data/PMC_Articles/oa_comm/txt/all/PMC10000167.txt\\n',\n",
       " '/data/projects/santal/data/PMC_Articles/oa_comm/txt/all/PMC10000248.txt\\n',\n",
       " '/data/projects/santal/data/PMC_Articles/oa_comm/txt/all/PMC10000530.txt\\n',\n",
       " '/data/projects/santal/data/PMC_Articles/oa_comm/txt/all/PMC10000868.txt\\n',\n",
       " '/data/projects/santal/data/PMC_Articles/oa_comm/txt/all/PMC10001176.txt\\n',\n",
       " '/data/projects/santal/data/PMC_Articles/oa_comm/txt/all/PMC10001284.txt\\n',\n",
       " '/data/projects/santal/data/PMC_Articles/oa_comm/txt/all/PMC10001305.txt\\n',\n",
       " '/data/projects/santal/data/PMC_Articles/oa_comm/txt/all/PMC10002483.txt\\n',\n",
       " '/data/projects/santal/data/PMC_Articles/oa_comm/txt/all/PMC10003001.txt\\n',\n",
       " '/data/projects/santal/data/PMC_Articles/oa_comm/txt/all/PMC10003052.txt\\n']"
      ]
     },
     "execution_count": 3,
     "metadata": {},
     "output_type": "execute_result"
    }
   ],
   "source": [
    "files_veillonella[0:10]"
   ]
  },
  {
   "cell_type": "code",
   "execution_count": 3,
   "id": "33f68e24-41c6-4850-b73b-14dff7978bf0",
   "metadata": {
    "tags": []
   },
   "outputs": [
    {
     "data": {
      "text/plain": [
       "['author_manuscript', 'oa_comm', 'oa_noncomm', 'phe_timebound']"
      ]
     },
     "execution_count": 3,
     "metadata": {},
     "output_type": "execute_result"
    }
   ],
   "source": [
    "os.listdir(path_to_PMC)"
   ]
  },
  {
   "cell_type": "code",
   "execution_count": 9,
   "id": "546028c3-52ff-4992-a0fd-e01c0c9cd6a4",
   "metadata": {
    "tags": []
   },
   "outputs": [
    {
     "data": {
      "text/plain": [
       "3390909"
      ]
     },
     "execution_count": 9,
     "metadata": {},
     "output_type": "execute_result"
    }
   ],
   "source": [
    "len(os.listdir(os.path.join(path_to_PMC,\"oa_comm/txt/all/PMC10000067.txt\")))"
   ]
  },
  {
   "cell_type": "code",
   "execution_count": 10,
   "id": "dd0a7487-4587-40a8-893f-c6b55714a407",
   "metadata": {
    "tags": []
   },
   "outputs": [
    {
     "data": {
      "text/plain": [
       "1353821"
      ]
     },
     "execution_count": 10,
     "metadata": {},
     "output_type": "execute_result"
    }
   ],
   "source": [
    "len(os.listdir(os.path.join(path_to_PMC,\"oa_noncomm/txt/all\")))"
   ]
  },
  {
   "cell_type": "code",
   "execution_count": 8,
   "id": "172de4e3-a23e-44a2-b5bf-4a1a1c8c35ff",
   "metadata": {
    "tags": []
   },
   "outputs": [
    {
     "data": {
      "text/plain": [
       "['all', 'metadata']"
      ]
     },
     "execution_count": 8,
     "metadata": {},
     "output_type": "execute_result"
    }
   ],
   "source": [
    "os.listdir(os.path.join(path_to_PMC,\"oa_comm/txt\"))"
   ]
  },
  {
   "cell_type": "code",
   "execution_count": 22,
   "id": "5fdbd210-25d0-4246-981b-5d82643dcd84",
   "metadata": {
    "tags": []
   },
   "outputs": [],
   "source": [
    "with open (os.path.join(path_to_PMC,\"oa_comm/xml/all/PMC10000067.xml\"),\"r\") as f:\n",
    "    content=f.readlines()"
   ]
  },
  {
   "cell_type": "code",
   "execution_count": 8,
   "id": "653c9825-d2a0-4a4d-8da6-d019f49769ce",
   "metadata": {
    "tags": []
   },
   "outputs": [],
   "source": [
    "trial_list=[\"PMC10000067\",\"PMC10000065\",\"PMC10000083\",\"PMC10000014\",\"PMC10000015\",\"PMC10000017\",\"PMC10000086\",\"PMC10000070\",\"PMC10000071\",\"PMC10000023\"]"
   ]
  },
  {
   "cell_type": "code",
   "execution_count": 24,
   "id": "4d9bcc1e-83c7-454c-8e4b-1bee8aeb4450",
   "metadata": {
    "tags": []
   },
   "outputs": [],
   "source": [
    "file_xml=os.path.join(ROOT_PATH,\"oa_comm/xml/all/PMC10000014.xml\")"
   ]
  },
  {
   "cell_type": "code",
   "execution_count": 25,
   "id": "cf06a2a1-6e27-4b0a-8fb2-fb76e9d6ff75",
   "metadata": {
    "tags": []
   },
   "outputs": [
    {
     "data": {
      "text/plain": [
       "True"
      ]
     },
     "execution_count": 25,
     "metadata": {},
     "output_type": "execute_result"
    }
   ],
   "source": [
    "os.path.exists(file_xml)"
   ]
  },
  {
   "cell_type": "code",
   "execution_count": 26,
   "id": "8bb9f0da-9d23-42ae-b447-32c4c5ad151c",
   "metadata": {
    "tags": []
   },
   "outputs": [
    {
     "data": {
      "text/plain": [
       "'/data/projects/santal/data/PMC_Articles/oa_comm/xml/all/PMC10000014.xml'"
      ]
     },
     "execution_count": 26,
     "metadata": {},
     "output_type": "execute_result"
    }
   ],
   "source": [
    "file_xml='/data/projects/santal/data/PMC_Articles/oa_comm/xml/all/PMC10000014.xml'"
   ]
  },
  {
   "cell_type": "code",
   "execution_count": 83,
   "id": "ac5a7550-4a1d-44cd-818b-4e6ffde499d6",
   "metadata": {
    "tags": []
   },
   "outputs": [],
   "source": [
    "file_xml='/data/projects/santal/data/PMC_Articles/oa_comm/xml/all/PMC10000167.xml'#'/data/projects/santal/data/PMC_Articles/oa_comm/xml/all/PMC10000014.xml'\n",
    "with open(file_xml, 'r') as f:\n",
    "    data = f.read()"
   ]
  },
  {
   "cell_type": "code",
   "execution_count": 28,
   "id": "81026a9e-695f-43b5-a640-f2f45df1d580",
   "metadata": {
    "tags": []
   },
   "outputs": [],
   "source": [
    "soup = BeautifulSoup(data, 'xml')"
   ]
  },
  {
   "cell_type": "code",
   "execution_count": 34,
   "id": "31746853-976c-449c-a9d9-507de50f2c70",
   "metadata": {
    "tags": []
   },
   "outputs": [
    {
     "ename": "TypeError",
     "evalue": "'NoneType' object is not iterable",
     "output_type": "error",
     "traceback": [
      "\u001b[0;31m---------------------------------------------------------------------------\u001b[0m",
      "\u001b[0;31mTypeError\u001b[0m                                 Traceback (most recent call last)",
      "Cell \u001b[0;32mIn[34], line 2\u001b[0m\n\u001b[1;32m      1\u001b[0m \u001b[38;5;28;01mfor\u001b[39;00m tags \u001b[38;5;129;01min\u001b[39;00m soup\u001b[38;5;241m.\u001b[39mfind_all(\u001b[38;5;124m\"\u001b[39m\u001b[38;5;124marticle\u001b[39m\u001b[38;5;124m\"\u001b[39m):\n\u001b[0;32m----> 2\u001b[0m     \u001b[38;5;28;01mfor\u001b[39;00m tag \u001b[38;5;129;01min\u001b[39;00m tags\u001b[38;5;241m.\u001b[39mtag:\n\u001b[1;32m      3\u001b[0m         \u001b[38;5;28mprint\u001b[39m(tag\u001b[38;5;241m.\u001b[39mname)\n",
      "\u001b[0;31mTypeError\u001b[0m: 'NoneType' object is not iterable"
     ]
    }
   ],
   "source": [
    "for tags in soup.find_all(\"article\"):\n",
    "    for tag in tags.tag:\n",
    "        print(tag.name)"
   ]
  },
  {
   "cell_type": "code",
   "execution_count": 14,
   "id": "0eb868c2-54b8-481d-8178-a9e5c4fcad37",
   "metadata": {
    "tags": []
   },
   "outputs": [],
   "source": [
    "def getTitle(soup):\n",
    "    title_group=soup.find(\"title-group\")\n",
    "    #print(tg)\n",
    "    title_tags=title_group.find_all()\n",
    "    titles=[]\n",
    "    for tgg in title_tags:\n",
    "        if tgg.name==\"article-title\":\n",
    "            titles.append(tgg.text)\n",
    "        else:\n",
    "            if tgg.get('xml:lang')!=None:\n",
    "                titles.append(tgg.text+ \" [\"+tgg.get('xml:lang')+\"]\")\n",
    "    return titles"
   ]
  },
  {
   "cell_type": "code",
   "execution_count": 15,
   "id": "308358b8-491d-411e-bbf1-2e7ff52012b0",
   "metadata": {
    "tags": []
   },
   "outputs": [
    {
     "data": {
      "text/plain": [
       "['Emergency department use and Artificial Intelligence in Pelotas: design and baseline results',\n",
       " 'Uso serviços de serviços de urgência e emergência e Inteligência Artificial em Pelotas: protocolo e resultados iniciais [pt]']"
      ]
     },
     "execution_count": 15,
     "metadata": {},
     "output_type": "execute_result"
    }
   ],
   "source": [
    "getTitle(soup=soup)"
   ]
  },
  {
   "cell_type": "code",
   "execution_count": 130,
   "id": "774cff69-875b-4b5c-b006-b51f33867c97",
   "metadata": {
    "tags": []
   },
   "outputs": [
    {
     "data": {
      "text/plain": [
       "'Artigo Original'"
      ]
     },
     "execution_count": 130,
     "metadata": {},
     "output_type": "execute_result"
    }
   ],
   "source": [
    "soup.find(\"article-categories\").text"
   ]
  },
  {
   "cell_type": "code",
   "execution_count": 179,
   "id": "bca98bd7-540e-4857-9f04-4f971c51eeb7",
   "metadata": {
    "tags": []
   },
   "outputs": [],
   "source": [
    "authors=soup.find(\"contrib-group\")"
   ]
  },
  {
   "cell_type": "code",
   "execution_count": 205,
   "id": "dd180462-e231-41df-bbb2-6601282dbd8e",
   "metadata": {
    "tags": []
   },
   "outputs": [
    {
     "data": {
      "text/plain": [
       "[<name><surname>Delpino</surname><given-names>Felipe Mendes</given-names></name>,\n",
       " <name><surname>Figueiredo</surname><given-names>Lílian Munhoz</given-names></name>,\n",
       " <name><surname>Costa</surname><given-names>Ândria Krolow</given-names></name>,\n",
       " <name><surname>Carreno</surname><given-names>Ioná</given-names></name>,\n",
       " <name><surname>da Silva</surname><given-names>Luan Nascimento</given-names></name>,\n",
       " <name><surname>Flores</surname><given-names>Alana Duarte</given-names></name>,\n",
       " <name><surname>Pinheiro</surname><given-names>Milena Afonso</given-names></name>,\n",
       " <name><surname>da Silva</surname><given-names>Eloisa Porciúncula</given-names></name>,\n",
       " <name><surname>Marques</surname><given-names>Gabriela Ávila</given-names></name>,\n",
       " <name><surname>Saes</surname><given-names>Mirelle de Oliveira</given-names></name>,\n",
       " <name><surname>Duro</surname><given-names>Suele Manjourany Silva</given-names></name>,\n",
       " <name><surname>Facchini</surname><given-names>Luiz Augusto</given-names></name>,\n",
       " <name><surname>Vissoci</surname><given-names>João Ricardo Nickenig</given-names></name>,\n",
       " <name><surname>Flores</surname><given-names>Thaynã Ramos</given-names></name>,\n",
       " <name><surname>Demarco</surname><given-names>Flávio Fernando</given-names></name>,\n",
       " <name><surname>Blumenberg</surname><given-names>Cauane</given-names></name>,\n",
       " <name><surname>Chiavegatto</surname><given-names>Alexandre Dias Porto</given-names><suffix>Filho</suffix></name>,\n",
       " <name><surname>da Silva</surname><given-names>Inácio Crochemore</given-names></name>,\n",
       " <name><surname>Batista</surname><given-names>Sandro Rodrigues</given-names></name>,\n",
       " <name><surname>Arcêncio</surname><given-names>Ricardo Alexandre</given-names></name>,\n",
       " <name><surname>Nunes</surname><given-names>Bruno Pereira</given-names></name>]"
      ]
     },
     "execution_count": 205,
     "metadata": {},
     "output_type": "execute_result"
    }
   ],
   "source": [
    "authors.find_all(\"name\")"
   ]
  },
  {
   "cell_type": "code",
   "execution_count": 184,
   "id": "7954669b-a1a7-4964-bcc2-9a3fd6e843e8",
   "metadata": {
    "tags": []
   },
   "outputs": [
    {
     "data": {
      "text/plain": [
       "<contrib contrib-type=\"author\"><contrib-id contrib-id-type=\"orcid\">http://orcid.org/0000-0002-3562-3246</contrib-id><name><surname>Delpino</surname><given-names>Felipe Mendes</given-names></name><role content-type=\"https://credit.niso.org/contributor-roles/conceptualization/\">Conceptualization</role><role content-type=\"https://credit.niso.org/contributor-roles/formal-analysis/\">Formal analysis</role><role content-type=\"https://credit.niso.org/contributor-roles/methodology/\">Methodology</role><role content-type=\"https://credit.niso.org/contributor-roles/writing-original-draft/\">Writing – original draft</role><role content-type=\"https://credit.niso.org/contributor-roles/writing-review-editing/\">Writing – review &amp; editing</role><xref ref-type=\"aff\" rid=\"aff1\">\n",
       "<sup>I</sup>\n",
       "</xref></contrib>"
      ]
     },
     "execution_count": 184,
     "metadata": {},
     "output_type": "execute_result"
    }
   ],
   "source": [
    "authors.find()"
   ]
  },
  {
   "cell_type": "code",
   "execution_count": 16,
   "id": "86945986-0dd6-4c4b-9290-8f79c98b67ad",
   "metadata": {
    "tags": []
   },
   "outputs": [],
   "source": [
    "def getAuthors(soup):\n",
    "    authors=soup.find_all(lambda tag: tag.has_attr(\"contrib-type\") and tag[\"contrib-type\"] == \"author\")\n",
    "    author_list=[]\n",
    "    orcid_list=[]\n",
    "    for author in authors:#orcid in zip(authors.find_all(\"name\"),authors.find_all(\"contrib-id\")):\n",
    "        author_list.append(\", \".join([author.find(\"surname\").text.upper(),author.find(\"given-names\").text]))\n",
    "        orcid_list.append(author.find(\"contrib-id\").text)\n",
    "    \n",
    "    return author_list,orcid_list\n",
    "\n",
    "def getEditors(soup):\n",
    "    authors=soup.find_all(lambda tag: tag.has_attr(\"contrib-type\") and tag[\"contrib-type\"] == \"editor\")\n",
    "    author_list=[]\n",
    "    orcid_list=[]\n",
    "    for author in authors:#orcid in zip(authors.find_all(\"name\"),authors.find_all(\"contrib-id\")):\n",
    "        author_list.append(\", \".join([author.find(\"surname\").text.upper(),author.find(\"given-names\").text]))\n",
    "        orcid_list.append(author.find(\"contrib-id\").text)\n",
    "    \n",
    "    return author_list,orcid_list"
   ]
  },
  {
   "cell_type": "code",
   "execution_count": 239,
   "id": "1e1978f7-a336-4601-ad0e-328a43b252d0",
   "metadata": {
    "tags": []
   },
   "outputs": [],
   "source": [
    "authors=soup.find_all(lambda tag: tag.has_attr(\"contrib-type\") and tag[\"contrib-type\"] == \"author\")"
   ]
  },
  {
   "cell_type": "code",
   "execution_count": 240,
   "id": "06694af1-eae2-4586-8b73-1974e58e426d",
   "metadata": {
    "tags": []
   },
   "outputs": [
    {
     "data": {
      "text/plain": [
       "'http://orcid.org/0000-0002-3562-3246'"
      ]
     },
     "execution_count": 240,
     "metadata": {},
     "output_type": "execute_result"
    }
   ],
   "source": [
    "authors[0].find(\"contrib-id\").text"
   ]
  },
  {
   "cell_type": "code",
   "execution_count": 241,
   "id": "5dfdf69d-dc64-484b-b534-e94c355f436c",
   "metadata": {
    "tags": []
   },
   "outputs": [],
   "source": [
    "author_list,orcid_list=getAuthors(soup=soup)"
   ]
  },
  {
   "cell_type": "code",
   "execution_count": 246,
   "id": "8976afa9-2e43-44a8-b47e-d07cdb46e5b8",
   "metadata": {
    "tags": []
   },
   "outputs": [],
   "source": [
    "author_list,orcid_list=getEditors(soup=soup)"
   ]
  },
  {
   "cell_type": "code",
   "execution_count": 247,
   "id": "41dafcc7-1c88-45d8-a94f-b740be079a2c",
   "metadata": {
    "tags": []
   },
   "outputs": [],
   "source": [
    "for author, orcid in zip(author_list,orcid_list):\n",
    "    print(author,\"\\t\",orcid)"
   ]
  },
  {
   "cell_type": "code",
   "execution_count": 208,
   "id": "9f4e829a-c009-4f2a-bedd-0a06f75fcd35",
   "metadata": {
    "tags": []
   },
   "outputs": [
    {
     "name": "stdout",
     "output_type": "stream",
     "text": [
      "['Delpino,Felipe Mendes', 'Figueiredo,Lílian Munhoz', 'Costa,Ândria Krolow', 'Carreno,Ioná', 'da Silva,Luan Nascimento', 'Flores,Alana Duarte', 'Pinheiro,Milena Afonso', 'da Silva,Eloisa Porciúncula', 'Marques,Gabriela Ávila', 'Saes,Mirelle de Oliveira', 'Duro,Suele Manjourany Silva', 'Facchini,Luiz Augusto', 'Vissoci,João Ricardo Nickenig', 'Flores,Thaynã Ramos', 'Demarco,Flávio Fernando', 'Blumenberg,Cauane', 'Chiavegatto,Alexandre Dias Porto', 'da Silva,Inácio Crochemore', 'Batista,Sandro Rodrigues', 'Arcêncio,Ricardo Alexandre', 'Nunes,Bruno Pereira']\n",
      "['http://orcid.org/0000-0002-3562-3246', 'http://orcid.org/0000-0001-5152-5059', 'http://orcid.org/0000-0003-3052-2742', 'http://orcid.org/0000-0002-9872-217X', 'http://orcid.org/0000-0003-2425-4227', 'http://orcid.org/0000-0002-1677-4989', 'http://orcid.org/0000-0002-1025-3330', 'http://orcid.org/0000-0002-3287-8948', 'http://orcid.org/0000-0003-3935-5207', 'http://orcid.org/0000-0001-7225-1552', 'http://orcid.org/0000-0001-5730-0811', 'http://orcid.org/0000-0002-5746-5170', 'http://orcid.org/0000-0001-7276-0402', 'http://orcid.org/0000-0001-5335-6973', 'http://orcid.org/0000-0003-2276-491X', 'http://orcid.org/0000-0002-4580-3849', 'http://orcid.org/0000-0003-3251-9600', 'http://orcid.org/0000-0001-5390-8360', 'http://orcid.org/0000-0001-7356-522X', 'http://orcid.org/0000-0003-4792-8714', 'http://orcid.org/0000-0002-4496-4122']\n"
     ]
    }
   ],
   "source": [
    "author_lis=[]\n",
    "orcids=[]\n",
    "for author,orcid in zip(authors.find_all(\"name\"),authors.find_all(\"contrib-id\")):\n",
    "    author_lis.append(\",\".join([author.find(\"surname\").text,author.find(\"given-names\").text]))\n",
    "    orcids.append(orcid.text)\n",
    "print(author_lis)\n",
    "print(orcids)"
   ]
  },
  {
   "cell_type": "code",
   "execution_count": 251,
   "id": "952a3bc3-7425-4b6d-871c-64e98c09820f",
   "metadata": {
    "tags": []
   },
   "outputs": [
    {
     "data": {
      "text/plain": [
       "[]"
      ]
     },
     "execution_count": 251,
     "metadata": {},
     "output_type": "execute_result"
    }
   ],
   "source": [
    "soup.find_all(lambda tag: tag.has_attr(\"contrib\") and tag[\"contrib-type\"] == \"editor\")"
   ]
  },
  {
   "cell_type": "code",
   "execution_count": 34,
   "id": "8994a13d-c10a-4549-b8a7-7dffd848f487",
   "metadata": {
    "tags": []
   },
   "outputs": [
    {
     "data": {
      "text/plain": [
       "[<abstract><title>RESUMO</title><sec><title>Objetivo:</title><p>To describe the initial baseline results of a population-based study, as well as a protocol in order to evaluate the performance of different machine learning algorithms with the objective of predicting the demand for urgent and emergency services in a representative sample of adults from the urban area of Pelotas, Southern Brazil.</p></sec><sec><title>Methods:</title><p>The study is entitled “Emergency department use and Artificial Intelligence in PELOTAS (RS) (EAI PELOTAS)” (<ext-link ext-link-type=\"uri\" xlink:href=\"https://wp.ufpel.edu.br/eaipelotas/\">https://wp.ufpel.edu.br/eaipelotas/</ext-link>). Between September and December 2021, a baseline was carried out with participants. A follow-up was planned to be conducted after 12 months in order to assess the use of urgent and emergency services in the last year. Afterwards, machine learning algorithms will be tested to predict the use of urgent and emergency services over one year.</p></sec><sec><title>Results:</title><p>In total, 5,722 participants answered the survey, mostly females (66.8%), with an average age of 50.3 years. The mean number of household people was 2.6. Most of the sample has white skin color and incomplete elementary school or less. Around 30% of the sample has obesity, 14% diabetes, and 39% hypertension.</p></sec><sec><title>Conclusion:</title><p>The present paper presented a protocol describing the steps that were and will be taken to produce a model capable of predicting the demand for urgent and emergency services in one year among residents of Pelotas, in Rio Grande do Sul state.</p></sec></abstract>]"
      ]
     },
     "execution_count": 34,
     "metadata": {},
     "output_type": "execute_result"
    }
   ],
   "source": [
    "soup.find_all(\"abstract\")"
   ]
  },
  {
   "cell_type": "code",
   "execution_count": 37,
   "id": "bebb1891-b373-4ef2-afa2-46a809480b0e",
   "metadata": {
    "tags": []
   },
   "outputs": [],
   "source": [
    "def getTitle(soup):\n",
    "    title_group=soup.find(\"title-group\")\n",
    "    #print(tg)\n",
    "    title_tags=title_group.find_all()\n",
    "    titles=[]\n",
    "    for tgg in title_tags:\n",
    "        if tgg.name==\"article-title\":\n",
    "            titles.append(tgg.text)\n",
    "        else:\n",
    "            if tgg.get('xml:lang')!=None:\n",
    "                titles.append(tgg.text+ \" [\"+tgg.get('xml:lang')+\"]\")\n",
    "    return titles\n",
    "\n",
    "def getAuthors(soup):\n",
    "    \"\"\"\n",
    "    Takes the soup object and gets the details of authors of the article\n",
    "    \n",
    "    Retruns a dictionary of authors and their roles, affiliations, authord ids and year of publication\n",
    "    \"\"\"\n",
    "    authorDetails={\"Authors\":[],\"Affiliations\":[],\"Author-ID\":[],\"Role\":[]}\n",
    "    for cont in soup.find_all(\"contrib-group\"):\n",
    "        ref_authors=[]\n",
    "        for names in cont.find_all(\"name\"):\n",
    "            #print(names.find(\"surname\").getText(),names.find(\"given-names\").getText(),end=\", \")\n",
    "            ref_authors.append(names.find(\"surname\").getText()+\" \"+names.find(\"given-names\").getText())\n",
    "            authorDetails[\"Authors\"].append(names.find(\"surname\").getText()+\" \"+names.find(\"given-names\").getText())\n",
    "        authorDetails[\"Role\"].append(cont.find(\"role\").getText())\n",
    "    \n",
    "        #authorDetails[\"Authors\"].append(ref_authors)\n",
    "    authorDetails[\"Year\"]=soup.find_all(\"article-meta\")[0].find(\"year\").getText()\n",
    "    for afff in soup.find_all(\"article-meta\"):\n",
    "        for aff in afff.find_all(\"aff\"):\n",
    "            authorDetails[\"Affiliations\"].append(aff.getText())\n",
    "        \n",
    "        for conid in afff.find_all(\"contrib-id\"):\n",
    "            authorDetails[\"Author-ID\"].append(conid.getText())\n",
    "    \n",
    "    return authorDetails\n",
    "\n",
    "def getAbstTags(soup):\n",
    "    \"\"\"\n",
    "    Takes the soup (BeuatifulSoup object) and gets the set of tags inside an abstarct. This is designed to get all sections in an article. \n",
    "    However there all articles might not have the same sections.\n",
    "    \n",
    "    Returns sa set of tags inside an abstarct which are the different sections of the abstarcu. like objective, methods, results, etc.\n",
    "    \"\"\"\n",
    "    tags=[]\n",
    "    tags_lits=soup.find_all(\"abstract\")[0].find_all()\n",
    "    for tag in tags_lits:\n",
    "        tags.append(tag.name)\n",
    "    \n",
    "    return list(set(tags))\n",
    "\n",
    "def getAbstract(soup):\n",
    "    \"\"\"\n",
    "    Takes the soup (BeuatifulSoup object) and gets the abstract of an article\n",
    "    It returns a dictionary of abstract with its different sections as keys and the paragraph inside them as their values.\n",
    "    \"\"\"\n",
    "    abstract={}\n",
    "    tags=getAbstTags(soup)\n",
    "    if 'sec' in tags or 'section' in tags:\n",
    "        for absSec in soup.find(\"abstract\").find_all('sec'):\n",
    "            secText=\"\"\n",
    "            for parg in absSec.find_all('p'):\n",
    "                secText=secText+parg.getText()+\"\\n\"\n",
    "            abstract[absSec.find('title').getText().replace(\":\",\"\")]=secText\n",
    "\n",
    "        return abstract\n",
    "    else:\n",
    "        return soup.find(\"abstract\").getText()\n",
    "    \n",
    "def getKeywords(soup):\n",
    "    keywords=[]\n",
    "    for kwd in soup.find_all(\"kwd-group\")[0].find_all(\"kwd\"):\n",
    "        for k in kwd:\n",
    "            keywords.append(k.getText())\n",
    "    \n",
    "    return keywords\n",
    "    \n",
    "def getSections(soup):\n",
    "    \"\"\"\n",
    "    Takes the soup (BeuatifulSoup object) and gets the body of an article\n",
    "    It returns a dictionary of abstract with its different sections as keys and the paragraph inside them as their values.\n",
    "    \"\"\"\n",
    "    sections={}\n",
    "    for sec in soup.find_all('body')[0].find_all(\"sec\"):\n",
    "        secText=\"\"\n",
    "        for parg in sec.find_all(\"p\"):\n",
    "            secText=secText+parg.getText()+\"\\n\"\n",
    "        sections[sec.find(\"title\").getText()]=secText\n",
    "    return sections\n",
    "\n",
    "def getReference(soup):\n",
    "    referenceDetail={\"Title\":[],\"Authors\":[],\"Year\":[],\"Publication-Type\":[],\"Pub-ID\":[]}\n",
    "    for front in soup.find_all(\"ref\"):\n",
    "        try:\n",
    "            ref_authors=[]\n",
    "            for names in front.find_all(\"name\"):\n",
    "                #print(names.find(\"surname\").getText(),names.find(\"given-names\").getText(),end=\", \")\n",
    "                ref_authors.append(names.find(\"surname\").getText()+\" \"+names.find(\"given-names\").getText())\n",
    "            referenceDetail[\"Authors\"].append(ref_authors)\n",
    "            referenceDetail[\"Title\"].append(front.find(\"article-title\").getText())\n",
    "            referenceDetail[\"Year\"].append(front.find(\"year\").getText())\n",
    "            referenceDetail[\"Publication-Type\"].append(front.find(\"element-citation\").get_attribute_list(\"publication-type\")[0])\n",
    "            referenceDetail[\"Pub-ID\"].append(front.find(\"pub-id\").getText())\n",
    "        except:\n",
    "            continue\n",
    "    return referenceDetail"
   ]
  },
  {
   "cell_type": "code",
   "execution_count": 39,
   "id": "ef8f7143-82d2-417f-9503-e566f9b7ee4e",
   "metadata": {
    "tags": []
   },
   "outputs": [],
   "source": [
    "articleDetails=ArticleDetail(soup)"
   ]
  },
  {
   "cell_type": "code",
   "execution_count": 40,
   "id": "6061a1d7-844d-4222-a81e-94a97f646223",
   "metadata": {
    "tags": []
   },
   "outputs": [
    {
     "data": {
      "text/plain": [
       "['Emergency department use and Artificial Intelligence in Pelotas: design and baseline results',\n",
       " 'Uso serviços de serviços de urgência e emergência e Inteligência Artificial em Pelotas: protocolo e resultados iniciais [pt]']"
      ]
     },
     "execution_count": 40,
     "metadata": {},
     "output_type": "execute_result"
    }
   ],
   "source": [
    "articleDetails.title"
   ]
  },
  {
   "cell_type": "code",
   "execution_count": 41,
   "id": "440081d1-272d-42a5-81d9-24b74c4a25a3",
   "metadata": {
    "tags": []
   },
   "outputs": [
    {
     "data": {
      "text/plain": [
       "{'Authors': ['Delpino Felipe Mendes',\n",
       "  'Figueiredo Lílian Munhoz',\n",
       "  'Costa Ândria Krolow',\n",
       "  'Carreno Ioná',\n",
       "  'da Silva Luan Nascimento',\n",
       "  'Flores Alana Duarte',\n",
       "  'Pinheiro Milena Afonso',\n",
       "  'da Silva Eloisa Porciúncula',\n",
       "  'Marques Gabriela Ávila',\n",
       "  'Saes Mirelle de Oliveira',\n",
       "  'Duro Suele Manjourany Silva',\n",
       "  'Facchini Luiz Augusto',\n",
       "  'Vissoci João Ricardo Nickenig',\n",
       "  'Flores Thaynã Ramos',\n",
       "  'Demarco Flávio Fernando',\n",
       "  'Blumenberg Cauane',\n",
       "  'Chiavegatto Alexandre Dias Porto',\n",
       "  'da Silva Inácio Crochemore',\n",
       "  'Batista Sandro Rodrigues',\n",
       "  'Arcêncio Ricardo Alexandre',\n",
       "  'Nunes Bruno Pereira'],\n",
       " 'Affiliations': ['Universidade Federal de Pelotas – Pelotas (RS), Brazil.',\n",
       "  'Duke University School of Medicine – Durham (NC), United States.',\n",
       "  'Universidade de São Paulo – São Paulo (SP), Brazil.',\n",
       "  'Universidade Federal de Goias – Goiânia (GO), Brazil.',\n",
       "  'Universidade de São Paulo – Ribeirão Preto (SP), Brazil.'],\n",
       " 'Author-ID': ['http://orcid.org/0000-0002-3562-3246',\n",
       "  'http://orcid.org/0000-0001-5152-5059',\n",
       "  'http://orcid.org/0000-0003-3052-2742',\n",
       "  'http://orcid.org/0000-0002-9872-217X',\n",
       "  'http://orcid.org/0000-0003-2425-4227',\n",
       "  'http://orcid.org/0000-0002-1677-4989',\n",
       "  'http://orcid.org/0000-0002-1025-3330',\n",
       "  'http://orcid.org/0000-0002-3287-8948',\n",
       "  'http://orcid.org/0000-0003-3935-5207',\n",
       "  'http://orcid.org/0000-0001-7225-1552',\n",
       "  'http://orcid.org/0000-0001-5730-0811',\n",
       "  'http://orcid.org/0000-0002-5746-5170',\n",
       "  'http://orcid.org/0000-0001-7276-0402',\n",
       "  'http://orcid.org/0000-0001-5335-6973',\n",
       "  'http://orcid.org/0000-0003-2276-491X',\n",
       "  'http://orcid.org/0000-0002-4580-3849',\n",
       "  'http://orcid.org/0000-0003-3251-9600',\n",
       "  'http://orcid.org/0000-0001-5390-8360',\n",
       "  'http://orcid.org/0000-0001-7356-522X',\n",
       "  'http://orcid.org/0000-0003-4792-8714',\n",
       "  'http://orcid.org/0000-0002-4496-4122'],\n",
       " 'Role': ['Conceptualization'],\n",
       " 'Year': '2023'}"
      ]
     },
     "execution_count": 41,
     "metadata": {},
     "output_type": "execute_result"
    }
   ],
   "source": [
    "articleDetails.authors"
   ]
  },
  {
   "cell_type": "code",
   "execution_count": 42,
   "id": "1d223504-1d1d-40ac-b8c9-edae490a09cb",
   "metadata": {
    "tags": []
   },
   "outputs": [
    {
     "data": {
      "text/plain": [
       "{'Objetivo': 'To describe the initial baseline results of a population-based study, as well as a protocol in order to evaluate the performance of different machine learning algorithms with the objective of predicting the demand for urgent and emergency services in a representative sample of adults from the urban area of Pelotas, Southern Brazil.\\n',\n",
       " 'Methods': 'The study is entitled “Emergency department use and Artificial Intelligence in PELOTAS (RS) (EAI PELOTAS)” (https://wp.ufpel.edu.br/eaipelotas/). Between September and December 2021, a baseline was carried out with participants. A follow-up was planned to be conducted after 12 months in order to assess the use of urgent and emergency services in the last year. Afterwards, machine learning algorithms will be tested to predict the use of urgent and emergency services over one year.\\n',\n",
       " 'Results': 'In total, 5,722 participants answered the survey, mostly females (66.8%), with an average age of 50.3 years. The mean number of household people was 2.6. Most of the sample has white skin color and incomplete elementary school or less. Around 30% of the sample has obesity, 14% diabetes, and 39% hypertension.\\n',\n",
       " 'Conclusion': 'The present paper presented a protocol describing the steps that were and will be taken to produce a model capable of predicting the demand for urgent and emergency services in one year among residents of Pelotas, in Rio Grande do Sul state.\\n'}"
      ]
     },
     "execution_count": 42,
     "metadata": {},
     "output_type": "execute_result"
    }
   ],
   "source": [
    "articleDetails.abstart"
   ]
  },
  {
   "cell_type": "code",
   "execution_count": null,
   "id": "d50fda1e-ab68-4f81-9dd2-ab827638450a",
   "metadata": {
    "tags": []
   },
   "outputs": [],
   "source": []
  },
  {
   "cell_type": "code",
   "execution_count": 132,
   "id": "139af786-a038-4db4-9ab9-73ac1d1a8c23",
   "metadata": {
    "tags": []
   },
   "outputs": [
    {
     "name": "stdout",
     "output_type": "stream",
     "text": [
      "Objetivo:\n",
      "To describe the initial baseline results of a population-based study, as well as a protocol in order to evaluate the performance of different machine learning algorithms with the objective of predicting the demand for urgent and emergency services in a representative sample of adults from the urban area of Pelotas, Southern Brazil.\n",
      "Methods:\n",
      "The study is entitled “Emergency department use and Artificial Intelligence in PELOTAS (RS) (EAI PELOTAS)” (https://wp.ufpel.edu.br/eaipelotas/). Between September and December 2021, a baseline was carried out with participants. A follow-up was planned to be conducted after 12 months in order to assess the use of urgent and emergency services in the last year. Afterwards, machine learning algorithms will be tested to predict the use of urgent and emergency services over one year.\n",
      "Results:\n",
      "In total, 5,722 participants answered the survey, mostly females (66.8%), with an average age of 50.3 years. The mean number of household people was 2.6. Most of the sample has white skin color and incomplete elementary school or less. Around 30% of the sample has obesity, 14% diabetes, and 39% hypertension.\n",
      "Conclusion:\n",
      "The present paper presented a protocol describing the steps that were and will be taken to produce a model capable of predicting the demand for urgent and emergency services in one year among residents of Pelotas, in Rio Grande do Sul state.\n"
     ]
    }
   ],
   "source": [
    "for absSec in soup.find_all(\"abstract\")[0].find_all('sec'):\n",
    "    print(absSec.find('title').getText())\n",
    "    print(absSec.find('p').getText())"
   ]
  },
  {
   "cell_type": "code",
   "execution_count": 53,
   "id": "0fa04ddc-76ae-4ec5-88ca-b0c02f190771",
   "metadata": {
    "tags": []
   },
   "outputs": [],
   "source": [
    "def getAbstTags(soup):\n",
    "    tags=[]\n",
    "    tags_lits=soup.find_all(\"abstract\")[0].find_all()\n",
    "    for tag in tags_lits:\n",
    "        tags.append(tag.name)\n",
    "    \n",
    "    return list(set(tags))"
   ]
  },
  {
   "cell_type": "code",
   "execution_count": 1,
   "id": "776637d0-f05b-4a93-860f-42710957488d",
   "metadata": {
    "tags": []
   },
   "outputs": [],
   "source": [
    "def getAuthors(soup):\n",
    "    authorDetails={\"Authors\":[],\"Affiliations\":[],\"Author-ID\":[],\"Role\":[]}\n",
    "    for cont in soup.find_all(\"contrib-group\"):\n",
    "        ref_authors=[]\n",
    "        for names in cont.find_all(\"name\"):\n",
    "            #print(names.find(\"surname\").getText(),names.find(\"given-names\").getText(),end=\", \")\n",
    "            ref_authors.append(names.find(\"surname\").getText()+\" \"+names.find(\"given-names\").getText())\n",
    "        authorDetails[\"Authors\"].append(names.find(\"surname\").getText()+\" \"+names.find(\"given-names\").getText())\n",
    "        authorDetails[\"Role\"].append(cont.find(\"role\").getText())\n",
    "    \n",
    "        #authorDetails[\"Authors\"].append(ref_authors)\n",
    "    authorDetails[\"Year\"]=soup.find_all(\"article-meta\")[0].find(\"year\").getText()\n",
    "    for afff in soup.find_all(\"article-meta\"):\n",
    "        for aff in afff.find_all(\"aff\"):\n",
    "            authorDetails[\"Affiliations\"].append(aff.getText())\n",
    "        \n",
    "        for conid in afff.find_all(\"contrib-id\"):\n",
    "            authorDetails[\"Author-ID\"].append(conid.getText())\n",
    "    \n",
    "    return authorDetails\n",
    "\n",
    "def getReference(soup):\n",
    "    referenceDetail={\"Title\":[],\"Authors\":[],\"Year\":[],\"Publication-Type\":[],\"Pub-ID\":[]}\n",
    "    for front in soup.find_all(\"ref\"):\n",
    "        try:\n",
    "            ref_authors=[]\n",
    "            for names in front.find_all(\"name\"):\n",
    "                #print(names.find(\"surname\").getText(),names.find(\"given-names\").getText(),end=\", \")\n",
    "                ref_authors.append(names.find(\"surname\").getText()+\" \"+names.find(\"given-names\").getText())\n",
    "            referenceDetail[\"Authors\"].append(ref_authors)\n",
    "            referenceDetail[\"Title\"].append(front.find(\"article-title\").getText())\n",
    "            referenceDetail[\"Year\"].append(front.find(\"year\").getText())\n",
    "            referenceDetail[\"Publication-Type\"].append(front.find(\"element-citation\").get_attribute_list(\"publication-type\")[0])\n",
    "            referenceDetail[\"Pub-ID\"].append(front.find(\"pub-id\").getText())\n",
    "        except:\n",
    "            continue\n",
    "    return referenceDetail"
   ]
  },
  {
   "cell_type": "code",
   "execution_count": 54,
   "id": "34c444ed-4abb-47d3-a69e-8fe6bf448e66",
   "metadata": {
    "tags": []
   },
   "outputs": [],
   "source": [
    "tags=getAbstTags(soup)"
   ]
  },
  {
   "cell_type": "code",
   "execution_count": 55,
   "id": "8b33c6e8-b8ba-4016-b084-89caa106c85a",
   "metadata": {
    "tags": []
   },
   "outputs": [
    {
     "data": {
      "text/plain": [
       "['ext-link', 'sec', 'title', 'p']"
      ]
     },
     "execution_count": 55,
     "metadata": {},
     "output_type": "execute_result"
    }
   ],
   "source": [
    "tags.get"
   ]
  },
  {
   "cell_type": "code",
   "execution_count": 270,
   "id": "c0971ca2-b428-451f-86b6-f5c4da586abf",
   "metadata": {
    "tags": []
   },
   "outputs": [],
   "source": []
  },
  {
   "cell_type": "code",
   "execution_count": 271,
   "id": "fe0dcbd6-706a-4108-a944-c438c75ea06b",
   "metadata": {
    "tags": []
   },
   "outputs": [],
   "source": [
    "referenceDetail=getReference(soup)"
   ]
  },
  {
   "cell_type": "code",
   "execution_count": 273,
   "id": "a2aa02ec-c30f-4511-977b-0c4b156f8fb0",
   "metadata": {
    "tags": []
   },
   "outputs": [],
   "source": [
    "#referenceDetail"
   ]
  },
  {
   "cell_type": "code",
   "execution_count": null,
   "id": "f77766dd-b611-485f-b48e-06a8b77c8589",
   "metadata": {
    "tags": []
   },
   "outputs": [],
   "source": [
    "for front in soup.find_all(\"ref\"):\n",
    "    try:\n",
    "        #if front.find('article-title'):\n",
    "        ref_authors=[]\n",
    "        for names in front.find_all(\"name\"):\n",
    "            #print(names.find(\"surname\").getText(),names.find(\"given-names\").getText(),end=\", \")\n",
    "            ref_authors.append(names.find(\"surname\").getText()+\" \"+names.find(\"given-names\").getText())\n",
    "        print(\", \".join(ref_authors))\n",
    "        print(front.find(\"volume\").getText())\n",
    "        print(front.find(\"year\").getText())\n",
    "        print(front.find(\"article-title\").getText())\n",
    "        print(front.find(\"pub-id\").getText())\n",
    "        print(front.find(\"element-citation\").get_attribute_list(\"publication-type\")[0])\n",
    "        print(\"_\"*100)\n",
    "    except:\n",
    "        #else:\n",
    "            print(\"ERROR:\",front)\n",
    "            print(\"_\"*100)"
   ]
  },
  {
   "cell_type": "code",
   "execution_count": 360,
   "id": "42f99277-09f6-47c2-b4b0-f1d650500996",
   "metadata": {
    "tags": []
   },
   "outputs": [
    {
     "name": "stdout",
     "output_type": "stream",
     "text": [
      "Universidade Federal de Pelotas – Pelotas (RS), Brazil.\n",
      "Duke University School of Medicine – Durham (NC), United States.\n",
      "Universidade de São Paulo – São Paulo (SP), Brazil.\n",
      "Universidade Federal de Goias – Goiânia (GO), Brazil.\n",
      "Universidade de São Paulo – Ribeirão Preto (SP), Brazil.\n"
     ]
    }
   ],
   "source": [
    "authorDetails=getAuthors(soup)"
   ]
  },
  {
   "cell_type": "code",
   "execution_count": 361,
   "id": "395e5820-c29b-4f70-aa7c-aa33b791c3ed",
   "metadata": {
    "tags": []
   },
   "outputs": [
    {
     "data": {
      "text/plain": [
       "['Nunes Bruno Pereira']"
      ]
     },
     "execution_count": 361,
     "metadata": {},
     "output_type": "execute_result"
    }
   ],
   "source": [
    "authorDetails[\"Authors\"]"
   ]
  },
  {
   "cell_type": "code",
   "execution_count": 325,
   "id": "7b482bd3-6467-4f6f-95d7-73bc65bf6d4a",
   "metadata": {
    "tags": []
   },
   "outputs": [
    {
     "name": "stdout",
     "output_type": "stream",
     "text": [
      "Universidade Federal de Pelotas – Pelotas (RS), Brazil.\n",
      "Duke University School of Medicine – Durham (NC), United States.\n",
      "Universidade de São Paulo – São Paulo (SP), Brazil.\n",
      "Universidade Federal de Goias – Goiânia (GO), Brazil.\n",
      "Universidade de São Paulo – Ribeirão Preto (SP), Brazil.\n"
     ]
    }
   ],
   "source": [
    "for afff in soup.find_all(\"article-meta\"):\n",
    "    for aff in afff.find_all(\"aff\"):\n",
    "        print(aff.getText())"
   ]
  },
  {
   "cell_type": "code",
   "execution_count": 6,
   "id": "a37d0e7b-43e2-426a-86ae-c5c06678f522",
   "metadata": {
    "tags": []
   },
   "outputs": [],
   "source": [
    "#soup.find_all(\"article-meta\")[0].find_all()"
   ]
  },
  {
   "cell_type": "code",
   "execution_count": 311,
   "id": "28465910-e35a-47c7-a266-6d37d4568729",
   "metadata": {
    "tags": []
   },
   "outputs": [
    {
     "name": "stdout",
     "output_type": "stream",
     "text": [
      "<contrib-id contrib-id-type=\"orcid\">http://orcid.org/0000-0002-3562-3246</contrib-id>\n",
      "http://orcid.org/0000-0002-3562-3246DelpinoFelipe MendesConceptualizationFormal analysisMethodologyWriting – original draftWriting – review & editing\n",
      "I\n",
      "\n",
      "<contrib-id contrib-id-type=\"orcid\">http://orcid.org/0000-0001-5152-5059</contrib-id>\n",
      "http://orcid.org/0000-0002-3562-3246DelpinoFelipe MendesConceptualizationFormal analysisMethodologyWriting – original draftWriting – review & editing\n",
      "I\n",
      "\n",
      "<contrib-id contrib-id-type=\"orcid\">http://orcid.org/0000-0003-3052-2742</contrib-id>\n",
      "http://orcid.org/0000-0002-3562-3246DelpinoFelipe MendesConceptualizationFormal analysisMethodologyWriting – original draftWriting – review & editing\n",
      "I\n",
      "\n",
      "<contrib-id contrib-id-type=\"orcid\">http://orcid.org/0000-0002-9872-217X</contrib-id>\n",
      "http://orcid.org/0000-0002-3562-3246DelpinoFelipe MendesConceptualizationFormal analysisMethodologyWriting – original draftWriting – review & editing\n",
      "I\n",
      "\n",
      "<contrib-id contrib-id-type=\"orcid\">http://orcid.org/0000-0003-2425-4227</contrib-id>\n",
      "http://orcid.org/0000-0002-3562-3246DelpinoFelipe MendesConceptualizationFormal analysisMethodologyWriting – original draftWriting – review & editing\n",
      "I\n",
      "\n",
      "<contrib-id contrib-id-type=\"orcid\">http://orcid.org/0000-0002-1677-4989</contrib-id>\n",
      "http://orcid.org/0000-0002-3562-3246DelpinoFelipe MendesConceptualizationFormal analysisMethodologyWriting – original draftWriting – review & editing\n",
      "I\n",
      "\n",
      "<contrib-id contrib-id-type=\"orcid\">http://orcid.org/0000-0002-1025-3330</contrib-id>\n",
      "http://orcid.org/0000-0002-3562-3246DelpinoFelipe MendesConceptualizationFormal analysisMethodologyWriting – original draftWriting – review & editing\n",
      "I\n",
      "\n",
      "<contrib-id contrib-id-type=\"orcid\">http://orcid.org/0000-0002-3287-8948</contrib-id>\n",
      "http://orcid.org/0000-0002-3562-3246DelpinoFelipe MendesConceptualizationFormal analysisMethodologyWriting – original draftWriting – review & editing\n",
      "I\n",
      "\n",
      "<contrib-id contrib-id-type=\"orcid\">http://orcid.org/0000-0003-3935-5207</contrib-id>\n",
      "http://orcid.org/0000-0002-3562-3246DelpinoFelipe MendesConceptualizationFormal analysisMethodologyWriting – original draftWriting – review & editing\n",
      "I\n",
      "\n",
      "<contrib-id contrib-id-type=\"orcid\">http://orcid.org/0000-0001-7225-1552</contrib-id>\n",
      "http://orcid.org/0000-0002-3562-3246DelpinoFelipe MendesConceptualizationFormal analysisMethodologyWriting – original draftWriting – review & editing\n",
      "I\n",
      "\n",
      "<contrib-id contrib-id-type=\"orcid\">http://orcid.org/0000-0001-5730-0811</contrib-id>\n",
      "http://orcid.org/0000-0002-3562-3246DelpinoFelipe MendesConceptualizationFormal analysisMethodologyWriting – original draftWriting – review & editing\n",
      "I\n",
      "\n",
      "<contrib-id contrib-id-type=\"orcid\">http://orcid.org/0000-0002-5746-5170</contrib-id>\n",
      "http://orcid.org/0000-0002-3562-3246DelpinoFelipe MendesConceptualizationFormal analysisMethodologyWriting – original draftWriting – review & editing\n",
      "I\n",
      "\n",
      "<contrib-id contrib-id-type=\"orcid\">http://orcid.org/0000-0001-7276-0402</contrib-id>\n",
      "http://orcid.org/0000-0002-3562-3246DelpinoFelipe MendesConceptualizationFormal analysisMethodologyWriting – original draftWriting – review & editing\n",
      "I\n",
      "\n",
      "<contrib-id contrib-id-type=\"orcid\">http://orcid.org/0000-0001-5335-6973</contrib-id>\n",
      "http://orcid.org/0000-0002-3562-3246DelpinoFelipe MendesConceptualizationFormal analysisMethodologyWriting – original draftWriting – review & editing\n",
      "I\n",
      "\n",
      "<contrib-id contrib-id-type=\"orcid\">http://orcid.org/0000-0003-2276-491X</contrib-id>\n",
      "http://orcid.org/0000-0002-3562-3246DelpinoFelipe MendesConceptualizationFormal analysisMethodologyWriting – original draftWriting – review & editing\n",
      "I\n",
      "\n",
      "<contrib-id contrib-id-type=\"orcid\">http://orcid.org/0000-0002-4580-3849</contrib-id>\n",
      "http://orcid.org/0000-0002-3562-3246DelpinoFelipe MendesConceptualizationFormal analysisMethodologyWriting – original draftWriting – review & editing\n",
      "I\n",
      "\n",
      "<contrib-id contrib-id-type=\"orcid\">http://orcid.org/0000-0003-3251-9600</contrib-id>\n",
      "http://orcid.org/0000-0002-3562-3246DelpinoFelipe MendesConceptualizationFormal analysisMethodologyWriting – original draftWriting – review & editing\n",
      "I\n",
      "\n",
      "<contrib-id contrib-id-type=\"orcid\">http://orcid.org/0000-0001-5390-8360</contrib-id>\n",
      "http://orcid.org/0000-0002-3562-3246DelpinoFelipe MendesConceptualizationFormal analysisMethodologyWriting – original draftWriting – review & editing\n",
      "I\n",
      "\n",
      "<contrib-id contrib-id-type=\"orcid\">http://orcid.org/0000-0001-7356-522X</contrib-id>\n",
      "http://orcid.org/0000-0002-3562-3246DelpinoFelipe MendesConceptualizationFormal analysisMethodologyWriting – original draftWriting – review & editing\n",
      "I\n",
      "\n",
      "<contrib-id contrib-id-type=\"orcid\">http://orcid.org/0000-0003-4792-8714</contrib-id>\n",
      "http://orcid.org/0000-0002-3562-3246DelpinoFelipe MendesConceptualizationFormal analysisMethodologyWriting – original draftWriting – review & editing\n",
      "I\n",
      "\n",
      "<contrib-id contrib-id-type=\"orcid\">http://orcid.org/0000-0002-4496-4122</contrib-id>\n",
      "http://orcid.org/0000-0002-3562-3246DelpinoFelipe MendesConceptualizationFormal analysisMethodologyWriting – original draftWriting – review & editing\n",
      "I\n",
      "\n"
     ]
    }
   ],
   "source": [
    "soup.find_all(\"article-meta\")[0].getText()\n",
    "all_tags=soup.find_all(\"contrib-group\")[0]\n",
    "for tag in all_tags:\n",
    "    print(tag.find())\n",
    "    print(soup.find_all(\"contrib-group\")[0].find(tag.name).getText())"
   ]
  },
  {
   "cell_type": "code",
   "execution_count": 290,
   "id": "9bdc71fe-c32e-4ba4-a0d2-ee42d378ce7c",
   "metadata": {
    "tags": []
   },
   "outputs": [],
   "source": [
    "def getKeywords(soup):\n",
    "    keywords=[]\n",
    "    for kwd in soup.find_all(\"kwd-group\")[0].find_all(\"kwd\"):\n",
    "        for k in kwd:\n",
    "            keywords.append(k.getText())\n",
    "    \n",
    "    return keywords"
   ]
  },
  {
   "cell_type": "code",
   "execution_count": 292,
   "id": "f20348fc-77f8-4d51-b33a-e3e79c22a480",
   "metadata": {
    "tags": []
   },
   "outputs": [],
   "source": [
    "keywords=getKeywords(soup)"
   ]
  },
  {
   "cell_type": "code",
   "execution_count": 293,
   "id": "52c3e049-6780-446d-9eb7-adfac8f7c0c2",
   "metadata": {
    "tags": []
   },
   "outputs": [
    {
     "data": {
      "text/plain": [
       "['Machine learning',\n",
       " 'Chronic diseases',\n",
       " 'Multimorbidity',\n",
       " 'Urgent and emergency care']"
      ]
     },
     "execution_count": 293,
     "metadata": {},
     "output_type": "execute_result"
    }
   ],
   "source": [
    "keywords"
   ]
  },
  {
   "cell_type": "code",
   "execution_count": 176,
   "id": "1b69421b-0906-44b0-b1e5-987f82b65d95",
   "metadata": {
    "tags": []
   },
   "outputs": [
    {
     "data": {
      "text/plain": [
       "'Valentim IVL'"
      ]
     },
     "execution_count": 176,
     "metadata": {},
     "output_type": "execute_result"
    }
   ],
   "source": [
    "soup.find_all(\"back\")[0].find(\"ref\").find(\"surname\").text+\" \"+soup.find_all(\"back\")[0].find(\"ref\").find(\"given-names\").text"
   ]
  },
  {
   "cell_type": "code",
   "execution_count": null,
   "id": "712f5727-b8ed-48a0-b311-eb7b6503d692",
   "metadata": {},
   "outputs": [],
   "source": [
    "def getreference(soup):\n",
    "    reference={\"Title\":[],\"Authors\":[],}"
   ]
  },
  {
   "cell_type": "code",
   "execution_count": 87,
   "id": "4e9b2897-669a-46a9-ae3b-b4c46f6cfc8f",
   "metadata": {
    "tags": []
   },
   "outputs": [],
   "source": [
    "#soup.find_all('body')[0]"
   ]
  },
  {
   "cell_type": "code",
   "execution_count": 100,
   "id": "92a6e386-5bbe-4c4e-a798-9757997277c6",
   "metadata": {
    "tags": []
   },
   "outputs": [
    {
     "data": {
      "text/plain": [
       "'INTRODUCTIONChronic diseases affect a large part of the population of adults and older adults, leading these individuals to seek urgent and emergency care. The implementation in 1988 of the Unified Health System (SUS) resulted in a model aimed at prevention and health promotion actions based on collective activities\\n1\\n – starting at Basic Health Units (UBS). There is also the National Emergency Care Policy, which advanced in the construction of the SUS, and has as guidelines universality, integrity, decentralization, and social participation, alongside humanization, the right of every citizen\\n2\\n.In a study that evaluated the characteristics of users of primary health care services in a Brazilian urban-representative sample, it was found that the vast majority were women and part of poorer individuals, in addition to almost 1/4 of the sample receiving the national income distribution program (family allowance)\\n3\\n. Brazil is a country highly unequal in socioeconomic terms; approximately 75% of the Brazilian population uses the SUS and depends exclusively on it, and do not have private health insurance\\n4,5\\n. Individuals with multimorbidity are part of the vast majority who seek urgent and emergency services\\n6\\n. Multimorbidity is a condition that affects a large part of the population\\n7\\n, especially older adults\\n7\\n. In addition, the association of multimorbidity with higher demand for emergency services is a challenge to appropriately manage and prevent these problems\\n8,9\\n. Innovative approaches may allow health professionals to provide direct care to individuals who are more likely to seek urgent and emergency services. The use of artificial intelligence can make it possible to identify and monitor a group of individuals with a higher probability of developing multimorbidity. In this context, machine learning (ML), an application of artificial intelligence, is a promising and feasible tool to be used on large scale to identify these population subgroups. Some previous studies have demonstrated that ML models can predict the demand for urgent and emergency services\\n10,11\\n. Besides, a systematic review showed that ML could accurately predict the triage of patients entering emergency care\\n12\\n. However, in a search for studies in Brazil, we found no published article on the subject.In Brazil, urgent and emergency services are a fundamental part of the health care network, ensuring timely care in cases of risk to individuals’ lives\\n9\\n. Urgent and emergency services are characterized by overcrowding and high demand. In addition, with the current pandemic of COVID-19, updated evidence on the characteristics of the users seeking these services is timely and necessary. The objective of this article was to describe the initial baseline results of a population-based study, as well as a protocol in order to evaluate the performance of different ML algorithms with the objective of predicting the demand for urgent and emergency services in a representative sample of adults from the urban area of Pelotas.'"
      ]
     },
     "execution_count": 100,
     "metadata": {},
     "output_type": "execute_result"
    }
   ],
   "source": [
    "soup.find_all('body')[0].find_all(\"sec\")[0].getText()"
   ]
  },
  {
   "cell_type": "code",
   "execution_count": 107,
   "id": "ddf0d7f5-fe93-4c54-87ee-c42cf1e2e7ad",
   "metadata": {
    "tags": []
   },
   "outputs": [
    {
     "name": "stdout",
     "output_type": "stream",
     "text": [
      "INTRODUCTION\n",
      "METHODS\n",
      "Study location and target population\n",
      "Criteria for inclusion and exclusion of study participants\n",
      "Sample calculation, sampling process, and data collection\n",
      "Data collection instrument\n",
      "Dependent variables\n",
      "Independent variables\n",
      "Data analysis\n",
      "COVID-19\n",
      "Quality assurance and control\n",
      "Ethical principles\n",
      "Schedule\n",
      "RESULTS\n",
      "First descriptive results and comparison with a population-based study\n",
      "DISCUSSION\n"
     ]
    }
   ],
   "source": [
    "for sec in soup.find_all('body')[0].find_all(\"sec\"):\n",
    "    print(sec.find(\"title\").getText())"
   ]
  },
  {
   "cell_type": "code",
   "execution_count": 104,
   "id": "7d7c2a6f-bb83-4139-a3de-e3d96d8522c1",
   "metadata": {
    "tags": []
   },
   "outputs": [
    {
     "data": {
      "text/plain": [
       "'In Brazil, urgent and emergency services are a fundamental part of the health care network, ensuring timely care in cases of risk to individuals’ lives\\n9\\n. Urgent and emergency services are characterized by overcrowding and high demand. In addition, with the current pandemic of COVID-19, updated evidence on the characteristics of the users seeking these services is timely and necessary. The objective of this article was to describe the initial baseline results of a population-based study, as well as a protocol in order to evaluate the performance of different ML algorithms with the objective of predicting the demand for urgent and emergency services in a representative sample of adults from the urban area of Pelotas.'"
      ]
     },
     "execution_count": 104,
     "metadata": {},
     "output_type": "execute_result"
    }
   ],
   "source": [
    "soup.find_all('body')[0].find_all(\"sec\")[0].find_all(\"p\")[-1].getText()"
   ]
  },
  {
   "cell_type": "code",
   "execution_count": 119,
   "id": "42a31760-1194-45d1-af3d-9c12a4eae003",
   "metadata": {
    "tags": []
   },
   "outputs": [],
   "source": [
    "def getSections(soup):\n",
    "    sections={}\n",
    "    for sec in soup.find_all('body')[0].find_all(\"sec\"):\n",
    "        secText=\"\"\n",
    "        for parg in sec.find_all(\"p\"):\n",
    "            secText=secText+parg.getText()+\"\\n\"\n",
    "        sections[sec.find(\"title\").getText()]=secText\n",
    "    return sections"
   ]
  },
  {
   "cell_type": "code",
   "execution_count": 120,
   "id": "c83197fd-9c40-4131-a496-a1005eae04d6",
   "metadata": {
    "tags": []
   },
   "outputs": [],
   "source": [
    "sections=getSections(soup)"
   ]
  },
  {
   "cell_type": "code",
   "execution_count": 123,
   "id": "2ea27bdc-d3df-4dd1-bda2-826b86c9ef3e",
   "metadata": {
    "tags": []
   },
   "outputs": [
    {
     "data": {
      "text/plain": [
       "'Chronic diseases affect a large part of the population of adults and older adults, leading these individuals to seek urgent and emergency care. The implementation in 1988 of the Unified Health System (SUS) resulted in a model aimed at prevention and health promotion actions based on collective activities\\n1\\n – starting at Basic Health Units (UBS). There is also the National Emergency Care Policy, which advanced in the construction of the SUS, and has as guidelines universality, integrity, decentralization, and social participation, alongside humanization, the right of every citizen\\n2\\n.\\nIn a study that evaluated the characteristics of users of primary health care services in a Brazilian urban-representative sample, it was found that the vast majority were women and part of poorer individuals, in addition to almost 1/4 of the sample receiving the national income distribution program (family allowance)\\n3\\n. Brazil is a country highly unequal in socioeconomic terms; approximately 75% of the Brazilian population uses the SUS and depends exclusively on it, and do not have private health insurance\\n4,5\\n. \\nIndividuals with multimorbidity are part of the vast majority who seek urgent and emergency services\\n6\\n. Multimorbidity is a condition that affects a large part of the population\\n7\\n, especially older adults\\n7\\n. In addition, the association of multimorbidity with higher demand for emergency services is a challenge to appropriately manage and prevent these problems\\n8,9\\n. \\nInnovative approaches may allow health professionals to provide direct care to individuals who are more likely to seek urgent and emergency services. The use of artificial intelligence can make it possible to identify and monitor a group of individuals with a higher probability of developing multimorbidity. In this context, machine learning (ML), an application of artificial intelligence, is a promising and feasible tool to be used on large scale to identify these population subgroups. Some previous studies have demonstrated that ML models can predict the demand for urgent and emergency services\\n10,11\\n. Besides, a systematic review showed that ML could accurately predict the triage of patients entering emergency care\\n12\\n. However, in a search for studies in Brazil, we found no published article on the subject.\\nIn Brazil, urgent and emergency services are a fundamental part of the health care network, ensuring timely care in cases of risk to individuals’ lives\\n9\\n. Urgent and emergency services are characterized by overcrowding and high demand. In addition, with the current pandemic of COVID-19, updated evidence on the characteristics of the users seeking these services is timely and necessary. The objective of this article was to describe the initial baseline results of a population-based study, as well as a protocol in order to evaluate the performance of different ML algorithms with the objective of predicting the demand for urgent and emergency services in a representative sample of adults from the urban area of Pelotas.\\n'"
      ]
     },
     "execution_count": 123,
     "metadata": {},
     "output_type": "execute_result"
    }
   ],
   "source": [
    "sections[\"INTRODUCTION\"]"
   ]
  },
  {
   "cell_type": "code",
   "execution_count": 85,
   "id": "dabd8ff4-763b-4c5c-ab47-526788fece9b",
   "metadata": {
    "tags": []
   },
   "outputs": [
    {
     "data": {
      "text/plain": [
       "'Associação Brasileira de Saúde Coletiva'"
      ]
     },
     "execution_count": 85,
     "metadata": {},
     "output_type": "execute_result"
    }
   ],
   "source": [
    "soup.find_all('front')[0].find(\"publisher\").getText()#(\"journal-title\")"
   ]
  },
  {
   "cell_type": "code",
   "execution_count": null,
   "id": "2e2c63fb-bb82-44a0-a448-30a9cff811d6",
   "metadata": {},
   "outputs": [],
   "source": []
  },
  {
   "cell_type": "code",
   "execution_count": null,
   "id": "85f0f9ae-e006-4217-aa21-306171327a0e",
   "metadata": {
    "tags": []
   },
   "outputs": [],
   "source": []
  },
  {
   "cell_type": "code",
   "execution_count": 1,
   "id": "0e2899e6-51f3-4425-9c8b-aac3c52713bb",
   "metadata": {
    "tags": []
   },
   "outputs": [],
   "source": [
    "#print(soup.prettify())"
   ]
  },
  {
   "cell_type": "code",
   "execution_count": 53,
   "id": "a1ac7a74-0e74-4176-9e83-7143bc655bab",
   "metadata": {
    "tags": []
   },
   "outputs": [
    {
     "data": {
      "text/plain": [
       "[<article-id pub-id-type=\"pmc\">PMC10000071</article-id>,\n",
       " <article-id pub-id-type=\"doi\">10.3390/cancers15051358</article-id>,\n",
       " <article-id pub-id-type=\"publisher-id\">cancers-15-01358</article-id>]"
      ]
     },
     "execution_count": 53,
     "metadata": {},
     "output_type": "execute_result"
    }
   ],
   "source": [
    "soup.find_all(\"article-id\")"
   ]
  },
  {
   "cell_type": "code",
   "execution_count": 58,
   "id": "18078402-a1db-4658-a8e4-27265412d05b",
   "metadata": {
    "tags": []
   },
   "outputs": [
    {
     "data": {
      "text/plain": [
       "'MicroRNAs as Predictive Biomarkers in Patients with Colorectal Cancer Receiving Chemotherapy or Chemoradiotherapy: A Narrative Literature Review'"
      ]
     },
     "execution_count": 58,
     "metadata": {},
     "output_type": "execute_result"
    }
   ],
   "source": [
    "soup.find_all(\"title-group\")[0].text"
   ]
  },
  {
   "cell_type": "code",
   "execution_count": null,
   "id": "93675674-652e-4a0b-9704-fb8a4fe4093f",
   "metadata": {
    "tags": []
   },
   "outputs": [],
   "source": [
    "for m in soup.find_all(\"article-meta\"):\n",
    "    print(m)\n",
    "    print()"
   ]
  },
  {
   "cell_type": "code",
   "execution_count": 19,
   "id": "d3c233ec-60e1-49dd-9dd3-d47683088200",
   "metadata": {
    "tags": []
   },
   "outputs": [
    {
     "name": "stdout",
     "output_type": "stream",
     "text": [
      "Article Title: Emergency department use and Artificial Intelligence in Pelotas: design and baseline results\n",
      "\n",
      "Abstract: RESUMOObjetivo:To describe the initial baseline results of a population-based study, as well as a protocol in order to evaluate the performance of different machine learning algorithms with the objective of predicting the demand for urgent and emergency services in a representative sample of adults from the urban area of Pelotas, Southern Brazil.Methods:The study is entitled “Emergency department use and Artificial Intelligence in PELOTAS (RS) (EAI PELOTAS)” (https://wp.ufpel.edu.br/eaipelotas/). Between September and December 2021, a baseline was carried out with participants. A follow-up was planned to be conducted after 12 months in order to assess the use of urgent and emergency services in the last year. Afterwards, machine learning algorithms will be tested to predict the use of urgent and emergency services over one year.Results:In total, 5,722 participants answered the survey, mostly females (66.8%), with an average age of 50.3 years. The mean number of household people was 2.6. Most of the sample has white skin color and incomplete elementary school or less. Around 30% of the sample has obesity, 14% diabetes, and 39% hypertension.Conclusion:The present paper presented a protocol describing the steps that were and will be taken to produce a model capable of predicting the demand for urgent and emergency services in one year among residents of Pelotas, in Rio Grande do Sul state.\n",
      "\n"
     ]
    }
   ],
   "source": [
    "articles=soup.find_all(\"article\")\n",
    "for article in articles:\n",
    "    # Access article attributes and elements\n",
    "    article_title = article.find(\"article-title\").get_text()\n",
    "    abstract = article.find(\"abstract\").get_text()\n",
    "    article_body = article.find(\"body\").get_text()\n",
    "\n",
    "    # Print or perform other operations with the article data\n",
    "    print(\"Article Title:\", article_title)\n",
    "    print()\n",
    "    print(\"Abstract:\", abstract)\n",
    "    print()\n",
    "    #print(\"Category: \",article_body.split(\"2. \"))\n",
    "    #print()\n",
    "    parts = re.split(r'\\d+\\.', article_body)\n",
    "    #for p in parts:\n",
    "        #print(p)\n",
    "        #print()"
   ]
  },
  {
   "cell_type": "code",
   "execution_count": 7,
   "id": "99d5a92d-f09b-4bcd-930b-6cbec8ba2c43",
   "metadata": {
    "tags": []
   },
   "outputs": [],
   "source": [
    "file_xml=os.path.join(ROOT_PATH,\"oa_comm/xml/all/PMC10000014.xml\")"
   ]
  },
  {
   "cell_type": "code",
   "execution_count": 9,
   "id": "28c7de49-cad5-49c5-9e7b-735d64c1a0e8",
   "metadata": {},
   "outputs": [],
   "source": [
    "articleDetails=ad.ArticleDetails(file_xml)"
   ]
  },
  {
   "cell_type": "code",
   "execution_count": 10,
   "id": "473898fd-2473-4e6b-af00-6581b54d5e1d",
   "metadata": {
    "tags": []
   },
   "outputs": [],
   "source": [
    "articleDetails.getDetails()"
   ]
  },
  {
   "cell_type": "code",
   "execution_count": 12,
   "id": "06888f72-5060-4e0f-89d0-3051f9168d89",
   "metadata": {
    "tags": []
   },
   "outputs": [
    {
     "data": {
      "text/plain": [
       "{'Objetivo': 'To describe the initial baseline results of a population-based study, as well as a protocol in order to evaluate the performance of different machine learning algorithms with the objective of predicting the demand for urgent and emergency services in a representative sample of adults from the urban area of Pelotas, Southern Brazil.\\n',\n",
       " 'Methods': 'The study is entitled “Emergency department use and Artificial Intelligence in PELOTAS (RS) (EAI PELOTAS)” (https://wp.ufpel.edu.br/eaipelotas/). Between September and December 2021, a baseline was carried out with participants. A follow-up was planned to be conducted after 12 months in order to assess the use of urgent and emergency services in the last year. Afterwards, machine learning algorithms will be tested to predict the use of urgent and emergency services over one year.\\n',\n",
       " 'Results': 'In total, 5,722 participants answered the survey, mostly females (66.8%), with an average age of 50.3 years. The mean number of household people was 2.6. Most of the sample has white skin color and incomplete elementary school or less. Around 30% of the sample has obesity, 14% diabetes, and 39% hypertension.\\n',\n",
       " 'Conclusion': 'The present paper presented a protocol describing the steps that were and will be taken to produce a model capable of predicting the demand for urgent and emergency services in one year among residents of Pelotas, in Rio Grande do Sul state.\\n'}"
      ]
     },
     "execution_count": 12,
     "metadata": {},
     "output_type": "execute_result"
    }
   ],
   "source": [
    "articleDetails.abstract"
   ]
  },
  {
   "cell_type": "code",
   "execution_count": 18,
   "id": "c35a00aa-3542-4479-9b46-687f5d42e825",
   "metadata": {
    "tags": []
   },
   "outputs": [
    {
     "data": {
      "text/plain": [
       "dict_keys(['Objetivo', 'Methods', 'Results', 'Conclusion'])"
      ]
     },
     "execution_count": 18,
     "metadata": {},
     "output_type": "execute_result"
    }
   ],
   "source": [
    "articleDetails.abstract.keys()"
   ]
  },
  {
   "cell_type": "code",
   "execution_count": 42,
   "id": "699524f3-320e-4959-8b4c-0aa502275f3c",
   "metadata": {
    "tags": []
   },
   "outputs": [
    {
     "name": "stdout",
     "output_type": "stream",
     "text": [
      "INTRODUCTION\n",
      "METHODS\n",
      "Study location and target population\n",
      "Criteria for inclusion and exclusion of study participants\n",
      "Sample calculation, sampling process, and data collection\n",
      "Data collection instrument\n",
      "Dependent variables\n",
      "Independent variables\n",
      "Data analysis\n",
      "COVID-19\n",
      "Quality assurance and control\n",
      "Ethical principles\n",
      "Schedule\n",
      "RESULTS\n",
      "First descriptive results and comparison with a population-based study\n",
      "DISCUSSION\n",
      "Chronic diseases affect a large part of the population of adults and older adults, leading these individuals to seek urgent and emergency care. The implementation in 1988 of the Unified Health System (SUS) resulted in a model aimed at prevention and health promotion actions based on collective activities\n",
      "1\n",
      " – starting at Basic Health Units (UBS). There is also the National Emergency Care Policy, which advanced in the construction of the SUS, and has as guidelines universality, integrity, decentralization, and social participation, alongside humanization, the right of every citizen\n",
      "2\n",
      ".\n",
      "In a study that evaluated the characteristics of users of primary health care services in a Brazilian urban-representative sample, it was found that the vast majority were women and part of poorer individuals, in addition to almost 1/4 of the sample receiving the national income distribution program (family allowance)\n",
      "3\n",
      ". Brazil is a country highly unequal in socioeconomic terms; approximately 75% of the Brazilian population uses the SUS and depends exclusively on it, and do not have private health insurance\n",
      "4,5\n",
      ". \n",
      "Individuals with multimorbidity are part of the vast majority who seek urgent and emergency services\n",
      "6\n",
      ". Multimorbidity is a condition that affects a large part of the population\n",
      "7\n",
      ", especially older adults\n",
      "7\n",
      ". In addition, the association of multimorbidity with higher demand for emergency services is a challenge to appropriately manage and prevent these problems\n",
      "8,9\n",
      ". \n",
      "Innovative approaches may allow health professionals to provide direct care to individuals who are more likely to seek urgent and emergency services. The use of artificial intelligence can make it possible to identify and monitor a group of individuals with a higher probability of developing multimorbidity. In this context, machine learning (ML), an application of artificial intelligence, is a promising and feasible tool to be used on large scale to identify these population subgroups. Some previous studies have demonstrated that ML models can predict the demand for urgent and emergency services\n",
      "10,11\n",
      ". Besides, a systematic review showed that ML could accurately predict the triage of patients entering emergency care\n",
      "12\n",
      ". However, in a search for studies in Brazil, we found no published article on the subject.\n",
      "In Brazil, urgent and emergency services are a fundamental part of the health care network, ensuring timely care in cases of risk to individuals’ lives\n",
      "9\n",
      ". Urgent and emergency services are characterized by overcrowding and high demand. In addition, with the current pandemic of COVID-19, updated evidence on the characteristics of the users seeking these services is timely and necessary. The objective of this article was to describe the initial baseline results of a population-based study, as well as a protocol in order to evaluate the performance of different ML algorithms with the objective of predicting the demand for urgent and emergency services in a representative sample of adults from the urban area of Pelotas.\n",
      "The present cohort study is entitled “Emergency department use and Artificial Intelligence in PELOTAS-RS (EAI PELOTAS)” (https://wp.ufpel.edu.br/eaipelotas/). The baseline was conducted between September and December 2021, and a follow-up was planned to be conducted 12 months later. We utilized the cross-sectional study to measure the prevalence of urgent and emergency care and the prevalence of multimorbidity, in addition to other variables and instruments of interest. The prospective cohort design intends to estimate the risk of using and reusing urgent emergency services after 12 months. Contact information, collected to ensure follow-up, included telephone, social networks, and full address. In addition, we also collected the latitude and longitude of households for control of the interviews.\n",
      "The present study was conducted in adult households in the Pelotas, Rio Grande do Sul (RS), Southern Brazil. According to estimates by the Brazilian Institute of Geography and Statistics (IBGE) in 2020, Pelotas had an estimated population of 343,132 individuals (https://cidades.ibge.gov.br/brasil/rs/pelotas/panorama). Figure 1 shows the location of the city of Pelotas in Brazil. \n",
      "Pelotas has a human development index (HDI) of 0.739 and a gross domestic product per capita (GDP) of BRL 27,586.96 (https://www.ibge.gov.br/cidades-e-estados/rs/pelotas.html). The municipality has a Municipal Emergency Room that operates 24 hours a day, seven days a week, and serves about 300 patients a day, according to data provided by the unit.\n",
      "We included adults aged 18 years or older residing in the urban area of Pelotas. Children and individuals who were mentally unable to answer the questionnaire were not included in the sample.\n",
      "The sample size was calculated considering three objectives. First, to determine the sample size required to assess the prevalence of urgent and emergency services use, it was considered an estimated prevalence of 9%, with±two percentage points as a margin of error and a 95% confidence level\n",
      "13\n",
      ", concluding that 785 individuals would be necessary. Second, for multimorbidity prevalence, an estimated prevalence of 25%, with ± three percentage points as a margin of error and a confidence level of 95% was used \n",
      "14,15\n",
      "; reaching again, a total of 785 individuals needed. Finally, for the association calculations, similar studies in Brazil were assessed, and the following parameters were considered: significance level of 95%, power of 80%, exposed/unexposed ratio of 0.1, percentage of the outcome in the unexposed 20%, and a minimum prevalence ratio of 1.3. With these parameters, 5,104 individuals would be necessary to study the proposed associations. Adding 10 to 20% for losses and/or refusals, the final sample size would be composed of 5,615–5,890 participants.\n",
      "The process to provide a population-based sample was carried out in multiple stages. The city of Pelotas has approximately 550 census tracts, according to the last update estimates provided by IBGE in 2019. From there, we randomly selected 100 sectors. Since the sectors vary in size, we defined a proportional number of households for each.\n",
      "Thus, it was estimated that, in total, the 100 sectors had approximately 24,345 eligible households. To interview one resident per household, we divided the total number of households by the sample size required, which resulted in 4.3. Based on this information, we divided each of the 100 sectors by 4.3 to reach the necessary number of households for each sector. One resident per household was interviewed, resulting in a total of 5,615 households. If there was more than one eligible resident, the choice was made by a random number generator application. Residents were placed in order, a number was assigned for each one, and one of them was selected according to the result of the draw. The first household interviewed in each sector was selected through a draw, considering the selected jump (4.3 households). Trades and empty squares were considered ineligible, and thus, the next square was chosen. Due to a large number of empty houses, it was necessary to select another 50 sectors to complete the required sample size. The additional households were drawn according to the same methodological criteria as the first draw to ensure equiprobability.\n",
      "We collected the data with the Research Electronic Data Capture (REDCap), a data collection program using smartphones\n",
      "16,17\n",
      ". Experienced and trained research assistants collected the data. The questionnaire from EAI PELOTAS was prepared, when possible, based on standardized instruments, including questions about chronic diseases, physical activity, food security, use of urgent and emergency services, functional disability, frailty syndrome, self-perception of health, COVID-19, in addition to sociodemographic and behavioral questions. Supplementary Table 1 shows the instruments utilized in the present study.\n",
      "*n=5.722; †n=3.002. PNS: Brazilian National Health Survey. PNS 2019 includes residents (selected to interview) from the urban area from the Rio Grande do Sul State; Survey design: weighted for primary unit sampling and post-weight estimates\n",
      "The use of urgent and emergency services was assessed on a baseline using the following question: “In the last 12 months, how many times have you sought urgent and emergency services, such as an emergency room?”. This was followed by the characterization of the service used, city of service, frequency of use, and referral after use. One year after the study baseline, we will contact again the respondents to inquire about the use of urgent and emergency care services (number of times and type of service used). \n",
      "We assessed multimorbidity as the main exposure using a list of 22 chronic diseases and others (asthma/bronchitis, osteoporosis, arthritis/arthrosis/rheumatism, hypertension, diabetes, cardiac insufficiency, pulmonary emphysema/chronic obstructive pulmonary disease, acute kidney failure, Parkinson’s disease, prostate disease, hypo/hyperthyroidism, glaucoma, cataract, Alzheimer’s disease, urinary/fecal incontinence, angina, stroke, dyslipidemia, epileptic fit/seizures, depression, gastric ulcer, urinary infection, pneumonia, and the flu). The association with urgent and emergency services will be performed with different cutoff points, including total number, ≥2, ≥3, and combinations of morbidities. We will also perform network analyzes to assess the pattern of morbidities.\n",
      "Other independent variables were selected from previous studies in the literature\n",
      "18-21\n",
      ", including demographic, socioeconomic information, behavioral characteristics, health status, access, use and quality of health services.\n",
      "We will test artificial intelligence algorithms, ML, to predict the use of urgent and emergency services after 12 months. The purpose of ML is to predict health outcomes through the basic characteristics of the individuals, such as sex, education, and lifestyle. The algorithms will be trained to predict the occurrence of health outcomes, which will contribute to decision-making. With a good amount of data and the right algorithms, ML may be able to predict health outcomes with satisfactory performance. \n",
      "The area of ML in healthcare has shown rapid growth in recent years, having been used in significant public health problems such as diagnosing diseases and predicting the risk of adverse health events and deaths\n",
      "22-24\n",
      ". The use of predictive algorithms aims to improve health care and support decision-making by health professionals and managers. For the present study, individuals’ baseline characteristics will be used to train popular ML algorithms such as Support Vector Machine (SVM), Neural Networks (ANNs), Random Forests, Penalized Regressions, Gradient Boosted Trees, and Extreme Gradient Boosting (XGBoost). These models were chosen based on a previous review in which the authors identified the most used models in healthcare studies\n",
      "25\n",
      ". We will use the Python programming language to perform the analyzes.\n",
      "To test the predictive performance of the algorithms in new unseen data, individuals will be divided into training (70% of patients, which will be used to define the parameters and hyperparameters of each algorithm) and testing (30%, which will be used to test the predictive ability of models in new data).\n",
      "We will also perform all the preliminary steps to ensure a good performance of the algorithms, especially those related to the pre-processing of predictor variables, such as the standardization of continuous variables, separation of categorical predictors with one-hot encoding, exclusion of strongly correlated variables, dimension reduction using principal component analysis and selection of hyperparameters with 10-fold cross-validation. Different metrics will evaluate the predictive capacity of the models, the main one being the area under the receiver operating characteristic (ROC) curve (AUC). In a simplified way, the AUC is a value that varies from 0 to 1, and the closer to 1 the better the model’s predictive capacity\n",
      "26\n",
      ". The other metrics will be F1-score, sensitivity, specificity, and accuracy. As measures of model fit, we will perform hyperparameters and balancing fit, as well as K-fold (cross-validation).\n",
      "The present study was conducted in adult households in the Pelotas, Rio Grande do Sul (RS), Southern Brazil. According to estimates by the Brazilian Institute of Geography and Statistics (IBGE) in 2020, Pelotas had an estimated population of 343,132 individuals (https://cidades.ibge.gov.br/brasil/rs/pelotas/panorama). Figure 1 shows the location of the city of Pelotas in Brazil. \n",
      "Pelotas has a human development index (HDI) of 0.739 and a gross domestic product per capita (GDP) of BRL 27,586.96 (https://www.ibge.gov.br/cidades-e-estados/rs/pelotas.html). The municipality has a Municipal Emergency Room that operates 24 hours a day, seven days a week, and serves about 300 patients a day, according to data provided by the unit.\n",
      "We included adults aged 18 years or older residing in the urban area of Pelotas. Children and individuals who were mentally unable to answer the questionnaire were not included in the sample.\n",
      "The sample size was calculated considering three objectives. First, to determine the sample size required to assess the prevalence of urgent and emergency services use, it was considered an estimated prevalence of 9%, with±two percentage points as a margin of error and a 95% confidence level\n",
      "13\n",
      ", concluding that 785 individuals would be necessary. Second, for multimorbidity prevalence, an estimated prevalence of 25%, with ± three percentage points as a margin of error and a confidence level of 95% was used \n",
      "14,15\n",
      "; reaching again, a total of 785 individuals needed. Finally, for the association calculations, similar studies in Brazil were assessed, and the following parameters were considered: significance level of 95%, power of 80%, exposed/unexposed ratio of 0.1, percentage of the outcome in the unexposed 20%, and a minimum prevalence ratio of 1.3. With these parameters, 5,104 individuals would be necessary to study the proposed associations. Adding 10 to 20% for losses and/or refusals, the final sample size would be composed of 5,615–5,890 participants.\n",
      "The process to provide a population-based sample was carried out in multiple stages. The city of Pelotas has approximately 550 census tracts, according to the last update estimates provided by IBGE in 2019. From there, we randomly selected 100 sectors. Since the sectors vary in size, we defined a proportional number of households for each.\n",
      "Thus, it was estimated that, in total, the 100 sectors had approximately 24,345 eligible households. To interview one resident per household, we divided the total number of households by the sample size required, which resulted in 4.3. Based on this information, we divided each of the 100 sectors by 4.3 to reach the necessary number of households for each sector. One resident per household was interviewed, resulting in a total of 5,615 households. If there was more than one eligible resident, the choice was made by a random number generator application. Residents were placed in order, a number was assigned for each one, and one of them was selected according to the result of the draw. The first household interviewed in each sector was selected through a draw, considering the selected jump (4.3 households). Trades and empty squares were considered ineligible, and thus, the next square was chosen. Due to a large number of empty houses, it was necessary to select another 50 sectors to complete the required sample size. The additional households were drawn according to the same methodological criteria as the first draw to ensure equiprobability.\n",
      "We collected the data with the Research Electronic Data Capture (REDCap), a data collection program using smartphones\n",
      "16,17\n",
      ". Experienced and trained research assistants collected the data. The questionnaire from EAI PELOTAS was prepared, when possible, based on standardized instruments, including questions about chronic diseases, physical activity, food security, use of urgent and emergency services, functional disability, frailty syndrome, self-perception of health, COVID-19, in addition to sociodemographic and behavioral questions. Supplementary Table 1 shows the instruments utilized in the present study.\n",
      "*n=5.722; †n=3.002. PNS: Brazilian National Health Survey. PNS 2019 includes residents (selected to interview) from the urban area from the Rio Grande do Sul State; Survey design: weighted for primary unit sampling and post-weight estimates\n",
      "The use of urgent and emergency services was assessed on a baseline using the following question: “In the last 12 months, how many times have you sought urgent and emergency services, such as an emergency room?”. This was followed by the characterization of the service used, city of service, frequency of use, and referral after use. One year after the study baseline, we will contact again the respondents to inquire about the use of urgent and emergency care services (number of times and type of service used).\n",
      "We assessed multimorbidity as the main exposure using a list of 22 chronic diseases and others (asthma/bronchitis, osteoporosis, arthritis/arthrosis/rheumatism, hypertension, diabetes, cardiac insufficiency, pulmonary emphysema/chronic obstructive pulmonary disease, acute kidney failure, Parkinson’s disease, prostate disease, hypo/hyperthyroidism, glaucoma, cataract, Alzheimer’s disease, urinary/fecal incontinence, angina, stroke, dyslipidemia, epileptic fit/seizures, depression, gastric ulcer, urinary infection, pneumonia, and the flu). The association with urgent and emergency services will be performed with different cutoff points, including total number, ≥2, ≥3, and combinations of morbidities. We will also perform network analyzes to assess the pattern of morbidities.\n",
      "Other independent variables were selected from previous studies in the literature\n",
      "18-21\n",
      ", including demographic, socioeconomic information, behavioral characteristics, health status, access, use and quality of health services.\n",
      "We will test artificial intelligence algorithms, ML, to predict the use of urgent and emergency services after 12 months. The purpose of ML is to predict health outcomes through the basic characteristics of the individuals, such as sex, education, and lifestyle. The algorithms will be trained to predict the occurrence of health outcomes, which will contribute to decision-making. With a good amount of data and the right algorithms, ML may be able to predict health outcomes with satisfactory performance. \n",
      "The area of ML in healthcare has shown rapid growth in recent years, having been used in significant public health problems such as diagnosing diseases and predicting the risk of adverse health events and deaths\n",
      "22-24\n",
      ". The use of predictive algorithms aims to improve health care and support decision-making by health professionals and managers. For the present study, individuals’ baseline characteristics will be used to train popular ML algorithms such as Support Vector Machine (SVM), Neural Networks (ANNs), Random Forests, Penalized Regressions, Gradient Boosted Trees, and Extreme Gradient Boosting (XGBoost). These models were chosen based on a previous review in which the authors identified the most used models in healthcare studies\n",
      "25\n",
      ". We will use the Python programming language to perform the analyzes.\n",
      "To test the predictive performance of the algorithms in new unseen data, individuals will be divided into training (70% of patients, which will be used to define the parameters and hyperparameters of each algorithm) and testing (30%, which will be used to test the predictive ability of models in new data).\n",
      "We will also perform all the preliminary steps to ensure a good performance of the algorithms, especially those related to the pre-processing of predictor variables, such as the standardization of continuous variables, separation of categorical predictors with one-hot encoding, exclusion of strongly correlated variables, dimension reduction using principal component analysis and selection of hyperparameters with 10-fold cross-validation. Different metrics will evaluate the predictive capacity of the models, the main one being the area under the receiver operating characteristic (ROC) curve (AUC). In a simplified way, the AUC is a value that varies from 0 to 1, and the closer to 1 the better the model’s predictive capacity\n",
      "26\n",
      ". The other metrics will be F1-score, sensitivity, specificity, and accuracy. As measures of model fit, we will perform hyperparameters and balancing fit, as well as K-fold (cross-validation).\n",
      "The current pandemic, caused by the SARS-CoV-2 virus, has brought uncertainty to the world population. Although vaccination coverage is already high in large parts of the population, the arrival of new variants and the lack of other essential measures to face the pandemic still create uncertainty about the effects of the pandemic on people. General questions about symptoms, tests, and possible effects caused by coronavirus contamination were included in our baseline survey. We will also use SARS-CoV-2-related questions to evaluate the performance of ML algorithms. In September 2021, restrictive measures were relaxed due to a decrease in COVID-19 cases in Pelotas, allowing the study to begin. A vaccination passport was required from the interviewers to ensure the safety of both participants and interviewers. In addition, all interviewers received protective equipment against COVID-19, including masks, face shields, and alcohol gel. Finally, the interviewers were instructed to conduct the research in an open and airy area, ensuring the protection of the participants.\n",
      "The activities to allow for control and data quality were characterized by a series of measures aimed at ensuring results without the risk of bias. Initially, we developed a research protocol, followed by an instruction manual for each interviewer. Thereafter, interviewers were trained and standardized in all necessary aspects.\n",
      "REDCap was also important to garanteee the control and quality of responses as the questions were designed using validation checks according to what was expected for each answer. Another measure that ensured the control of interviews was the collection of latitude and longitude of households, which was plotted by two members of the study coordination weekly on maps, to ensure that the data collection was performed according to the study sample. With latitude and longitude data, it is also intended to carry out spatial analysis articles with techniques such as sweep statistics and Kernel.\n",
      "The database of the questions was checked daily to find possible inconsistencies. Finally, two members of the study coordination made random phone calls to 10% of the sample, in which a reduced questionnaire was applied, with the objective of comparing the answers with the main questionnaire.\n",
      "We carried out this study using free and informed consent, as determined by the ethical aspects of Resolution No. 466/2012 of the National Council of the Ministry of Health and the Code of Ethics for Nursing Professionals, of the duties in Chapter IV, Article 35, 36 and 37, and the prohibitions in chapter V, article 53 and 54. After identifying and selecting the study participants, they were informed about the research objectives and signed the Informed Consent Form (ICF). The project was referred to the Research Ethics Committee via the Brazilian platform and approved under the CAAE 39096720.0.0000.5317.\n",
      "Initially, we conducted a stage for the preparation of an electronic questionnaire at the beginning of 2021. In February 2021, we initiated data collection after preparing the online questionnaire. The database verification and cleaning steps occurred simultaneously with the collection, and continued until March 2022. After this step, data analysis and writing of scientific articles began.\n",
      "The activities to allow for control and data quality were characterized by a series of measures aimed at ensuring results without the risk of bias. Initially, we developed a research protocol, followed by an instruction manual for each interviewer. Thereafter, interviewers were trained and standardized in all necessary aspects.\n",
      "REDCap was also important to garanteee the control and quality of responses as the questions were designed using validation checks according to what was expected for each answer. Another measure that ensured the control of interviews was the collection of latitude and longitude of households, which was plotted by two members of the study coordination weekly on maps, to ensure that the data collection was performed according to the study sample. With latitude and longitude data, it is also intended to carry out spatial analysis articles with techniques such as sweep statistics and Kernel.\n",
      "The database of the questions was checked daily to find possible inconsistencies. Finally, two members of the study coordination made random phone calls to 10% of the sample, in which a reduced questionnaire was applied, with the objective of comparing the answers with the main questionnaire.\n",
      "We carried out this study using free and informed consent, as determined by the ethical aspects of Resolution No. 466/2012 of the National Council of the Ministry of Health and the Code of Ethics for Nursing Professionals, of the duties in Chapter IV, Article 35, 36 and 37, and the prohibitions in chapter V, article 53 and 54. After identifying and selecting the study participants, they were informed about the research objectives and signed the Informed Consent Form (ICF). The project was referred to the Research Ethics Committee via the Brazilian platform and approved under the CAAE 39096720.0.0000.5317.\n",
      "Initially, we conducted a stage for the preparation of an electronic questionnaire at the beginning of 2021. In February 2021, we initiated data collection after preparing the online questionnaire. The database verification and cleaning steps occurred simultaneously with the collection, and continued until March 2022. After this step, data analysis and writing of scientific articles began.\n",
      "Of approximately 15,526 households approached, 8,196 were excluded — 4,761 residents were absent at the visit, 1,735 were ineligible, and 1,700 were empty (see Figure 2). We identified 7,330 eligible participants, of which 1,607 refused to participate in the study, totalizing 5,722 residents. Comparing the female gender percentage of the refusals with the completed interviews, we observed a slightly lower prevalence with 63.2% (95%CI 60.7–65.5) among the refusals, and 66.8% (95%CI 65.6–68.0) among the complete interviews. The mean age was similar between participants who agreed to participate (50.3; 95%CI 49.9–50.8) and those who refused (50.4; 95%CI 49.0–51.9).\n",
      "To evaluate the first descriptive results of our sample, we compared our results with the 2019 Brazilian National Health Survey (PNS) database. The PNS 2019 was collected by the IBGE in partnership with the Ministry of Health. The data are in the public domain and are available in the IBGE website (https://www.ibge.gov.br/). To ensure the greatest possible comparability between studies, we used only residents of the urban area of the state of Rio Grande do Sul, aged using the command svy from Stata, resulting in 3,002 individuals (residents selected to interview).\n",
      "We developed two models to compare our data with the PNS 2019 survey: Crude model (crude results from the EAI PELOTAS study, without considering survey design estimates); Model 1 using survey design: primary sampling units (PSUs) using census tracts as variables and post-weight variables based on estimates of Pelotas population projection for 2020 (Table 1). We evaluated another model using individual sampling weight (i.e., the inverse of the probability of being interviewed in each census tract). These models are virtually equal to the above estimates (data not shown).\n",
      "\n",
      "Crude model (crude results from the EAI PELOTAS study, without considering survey design estimates); \n",
      "Model 1 using survey design: primary sampling units (PSUs) using census tracts as variables and post-weight variables based on estimates of Pelotas population projection for 2020 (Table 1). We evaluated another model using individual sampling weight (i.e., the inverse of the probability of being interviewed in each census tract). These models are virtually equal to the above estimates (data not shown).\n",
      "The mean age of our sample was 50.3 years (Table 1), 46.2 for model 1, which was similar to PNS 2019 (46.7 years). Our weighted estimates presented a similar proportion of females compared to the PNS 2019 sample. The proportions of skin colors were similar in all categories and models. Our crude model presented a higher proportion of participants with incomplete elementary school or less compared to model 1 and PNS 2019.\n",
      "\n",
      "Table 2 describes the prevalence of chronic diseases and lifestyle factors in our study and the PNS 2019 sample. Our prevalence of diabetes was higher in the crude model compared to weighted estimates and PNS 2019 sample. In both models, we had a higher proportion of individuals with obesity and hypertension than in PNS 2019. Asthma and/or bronchitis presented similar proportions in our results compared to PNS 2019; the same occurred for cancer. Our study presented a higher proportion of smoking participants in both models than in the PNS 2019 sample.\n",
      "*n=5.722; †n=3.002. PNS: Brazilian National Health Survey. PNS 2019 includes residents (selected to interview) from the urban area from the Rio Grande do Sul State; Survey design 1: weighted for primary unit sampling and post-weight estimates.\n",
      "Of approximately 15,526 households approached, 8,196 were excluded — 4,761 residents were absent at the visit, 1,735 were ineligible, and 1,700 were empty (see Figure 2). We identified 7,330 eligible participants, of which 1,607 refused to participate in the study, totalizing 5,722 residents. Comparing the female gender percentage of the refusals with the completed interviews, we observed a slightly lower prevalence with 63.2% (95%CI 60.7–65.5) among the refusals, and 66.8% (95%CI 65.6–68.0) among the complete interviews. The mean age was similar between participants who agreed to participate (50.3; 95%CI 49.9–50.8) and those who refused (50.4; 95%CI 49.0–51.9).\n",
      "To evaluate the first descriptive results of our sample, we compared our results with the 2019 Brazilian National Health Survey (PNS) database. The PNS 2019 was collected by the IBGE in partnership with the Ministry of Health. The data are in the public domain and are available in the IBGE website (https://www.ibge.gov.br/). To ensure the greatest possible comparability between studies, we used only residents of the urban area of the state of Rio Grande do Sul, aged using the command svy from Stata, resulting in 3,002 individuals (residents selected to interview).\n",
      "We developed two models to compare our data with the PNS 2019 survey: Crude model (crude results from the EAI PELOTAS study, without considering survey design estimates); Model 1 using survey design: primary sampling units (PSUs) using census tracts as variables and post-weight variables based on estimates of Pelotas population projection for 2020 (Table 1). We evaluated another model using individual sampling weight (i.e., the inverse of the probability of being interviewed in each census tract). These models are virtually equal to the above estimates (data not shown).\n",
      "\n",
      "Crude model (crude results from the EAI PELOTAS study, without considering survey design estimates); \n",
      "Model 1 using survey design: primary sampling units (PSUs) using census tracts as variables and post-weight variables based on estimates of Pelotas population projection for 2020 (Table 1). We evaluated another model using individual sampling weight (i.e., the inverse of the probability of being interviewed in each census tract). These models are virtually equal to the above estimates (data not shown).\n",
      "The mean age of our sample was 50.3 years (Table 1), 46.2 for model 1, which was similar to PNS 2019 (46.7 years). Our weighted estimates presented a similar proportion of females compared to the PNS 2019 sample. The proportions of skin colors were similar in all categories and models. Our crude model presented a higher proportion of participants with incomplete elementary school or less compared to model 1 and PNS 2019.\n",
      "\n",
      "Table 2 describes the prevalence of chronic diseases and lifestyle factors in our study and the PNS 2019 sample. Our prevalence of diabetes was higher in the crude model compared to weighted estimates and PNS 2019 sample. In both models, we had a higher proportion of individuals with obesity and hypertension than in PNS 2019. Asthma and/or bronchitis presented similar proportions in our results compared to PNS 2019; the same occurred for cancer. Our study presented a higher proportion of smoking participants in both models than in the PNS 2019 sample.\n",
      "*n=5.722; †n=3.002. PNS: Brazilian National Health Survey. PNS 2019 includes residents (selected to interview) from the urban area from the Rio Grande do Sul State; Survey design 1: weighted for primary unit sampling and post-weight estimates.\n",
      "We described the initial descriptive results, methodology, protocol, and the steps required to perform the ML analysis for predicting the use of urgent and emergency services among the residents of Pelotas, Southern Brazil. We expect to provide subsidies to health professionals and managers for decision-making, helping to identify interventions targeted at patients more likely to use urgent and emergency services, as well as those more likely to develop multimorbidity and mortality. We also expect to help health systems optimize their space and resources by directing human and physical capital to those at greater risk of developing multiple chronic diseases and dying. Recent studies in developed countries have found this a feasible challenge with ML\n",
      "21,27\n",
      ". If our study presents satisfactory results, we intend to test its practical applicability and acceptance to assist health professionals and managers in decision-making in emergency services among residents of Pelotas.\n",
      "The baseline and methods used to select households resemble the main population-based studies conducted in Brazil, such as the Brazilian Longitudinal Study of Aging (ELSI-Brazil)\n",
      "28\n",
      ", the EPICOVID\n",
      "29\n",
      ", and the PNS. The applicability of ML requires suitable predictive variables. Our study included sociodemographic and behavioral variables related to urgent and emergency services, and chronic diseases. EAI PELOTAS study also includes essential topics that deserve particular importance during the COVID-19 pandemic, such as food insecurity, decreased income, physical activity, access to health services, and social support.\n",
      "We also presented one weighting option in order to obtain sample estimates considering the complex study design. All estimates have their strength and limitation. Each research question answered through this study may consider these possibilities and choose the most suitable one. The estimates were similar without weighting and those considering the primary sampling unit (PSU) and sampling weight. Using the census tract in the PSU is fundamental to consider the sampling design in the estimates of variability (standard error, variance, 95%CI, among others). In addition, due to the possible selection bias in the sample, which contains more women and older people than expected, the use of a post-weighting strategy becomes necessary to obtain estimates adjusted for the sex and age distributions of the target population (due to the lack of census data, we used population projections). However, it should be noted that this strategy can produce estimates simulating the expected distribution only by sex and age. Still, we do not know how much this strategy can distort the estimates since the demographic adjustment cannot reproduce adjustment in all sample characteristics, especially for non-measured variables that may have influenced the selection of participants. Thus, we recommend defining the use of each strategy on a case-by-case basis, depending on the objective of the scientific product. Finally, we suggest reporting the different estimates according to the sample design for specific outcomes (e.g., the prevalence of a specific condition) that aim to extrapolate the data to the target population (adults of the city of Pelotas). \n",
      "In conclusion, the present article presented a protocol describing the steps that were and will be taken to produce a model capable of predicting the demand for urgent and emergency services in one year among residents in Pelotas (RS), Southern Brazil.\n",
      "\n"
     ]
    }
   ],
   "source": [
    "abs_joined=\"\"\n",
    "for key in articleDetails.sections:\n",
    "    print(key)\n",
    "    abs_joined=abs_joined+articleDetails.sections[key].strip()+'\\n'\n",
    "print(abs_joined)"
   ]
  },
  {
   "cell_type": "code",
   "execution_count": 39,
   "id": "07a9a896-a7ce-4d2e-8d9e-f04e74cbeb65",
   "metadata": {
    "tags": []
   },
   "outputs": [
    {
     "data": {
      "text/plain": [
       "['Machine learning',\n",
       " 'Chronic diseases',\n",
       " 'Multimorbidity',\n",
       " 'Urgent and emergency care']"
      ]
     },
     "execution_count": 39,
     "metadata": {},
     "output_type": "execute_result"
    }
   ],
   "source": [
    "articleDetails.keywords"
   ]
  },
  {
   "cell_type": "code",
   "execution_count": 40,
   "id": "49bd6324-3b1b-4370-8b6e-06d748d93098",
   "metadata": {
    "tags": []
   },
   "outputs": [
    {
     "data": {
      "text/plain": [
       "{'Objetivo': 'To describe the initial baseline results of a population-based study, as well as a protocol in order to evaluate the performance of different machine learning algorithms with the objective of predicting the demand for urgent and emergency services in a representative sample of adults from the urban area of Pelotas, Southern Brazil.\\n',\n",
       " 'Methods': 'The study is entitled “Emergency department use and Artificial Intelligence in PELOTAS (RS) (EAI PELOTAS)” (https://wp.ufpel.edu.br/eaipelotas/). Between September and December 2021, a baseline was carried out with participants. A follow-up was planned to be conducted after 12 months in order to assess the use of urgent and emergency services in the last year. Afterwards, machine learning algorithms will be tested to predict the use of urgent and emergency services over one year.\\n',\n",
       " 'Results': 'In total, 5,722 participants answered the survey, mostly females (66.8%), with an average age of 50.3 years. The mean number of household people was 2.6. Most of the sample has white skin color and incomplete elementary school or less. Around 30% of the sample has obesity, 14% diabetes, and 39% hypertension.\\n',\n",
       " 'Conclusion': 'The present paper presented a protocol describing the steps that were and will be taken to produce a model capable of predicting the demand for urgent and emergency services in one year among residents of Pelotas, in Rio Grande do Sul state.\\n'}"
      ]
     },
     "execution_count": 40,
     "metadata": {},
     "output_type": "execute_result"
    }
   ],
   "source": [
    "articleDetails.abstract"
   ]
  },
  {
   "cell_type": "code",
   "execution_count": 8,
   "id": "3bfc1e5f-9927-4747-b352-9df628589c97",
   "metadata": {},
   "outputs": [],
   "source": [
    "data_path=\"/home/aberhe/Projects/SANTAL/ASLR/data/from_predomics_models/\""
   ]
  },
  {
   "cell_type": "code",
   "execution_count": 9,
   "id": "b8db0990-7423-46b1-9f0c-7e7524ea8fb5",
   "metadata": {
    "tags": []
   },
   "outputs": [],
   "source": [
    "df=pd.read_csv(data_path+\"featureTable_Try2_299models_182features.txt\",sep=\"\\t\")"
   ]
  },
  {
   "cell_type": "code",
   "execution_count": 10,
   "id": "651eb219-04ed-4c9b-b35d-30bd65eb4969",
   "metadata": {
    "tags": []
   },
   "outputs": [
    {
     "data": {
      "text/plain": [
       "(6021, 6)"
      ]
     },
     "execution_count": 10,
     "metadata": {},
     "output_type": "execute_result"
    }
   ],
   "source": [
    "df.shape"
   ]
  },
  {
   "cell_type": "code",
   "execution_count": 11,
   "id": "cff4bac3-993a-478b-8329-87a91950f740",
   "metadata": {
    "tags": []
   },
   "outputs": [
    {
     "data": {
      "text/plain": [
       "features\n",
       "s__Veillonella_unclassified                   299\n",
       "s__Clostridium_perfringens                    299\n",
       "s__Bacteroides_sp_4_3_47FAA                   299\n",
       "s__Lachnospiraceae_bacterium_3_1_57FAA_CT1    294\n",
       "s__Clostridiales_bacterium_1_7_47FAA          292\n",
       "                                             ... \n",
       "s__Streptococcus_mitis_oralis_pneumoniae        1\n",
       "s__Lactobacillus_iners                          1\n",
       "s__Clostridium_citroniae                        1\n",
       "s__Alloprevotella_tannerae                      1\n",
       "s__Actinomyces_sp_HPA0247                       1\n",
       "Name: count, Length: 182, dtype: int64"
      ]
     },
     "execution_count": 11,
     "metadata": {},
     "output_type": "execute_result"
    }
   ],
   "source": [
    "df[\"features\"].value_counts()"
   ]
  },
  {
   "cell_type": "code",
   "execution_count": 12,
   "id": "5ae727b2-02a4-4c71-901b-a0ee6a2d3709",
   "metadata": {
    "tags": []
   },
   "outputs": [],
   "source": [
    "unique_features=list(set(df[\"features\"].tolist()))"
   ]
  },
  {
   "cell_type": "code",
   "execution_count": 13,
   "id": "3b5a7f87-dea4-4a61-bd9f-279502d63e9a",
   "metadata": {
    "tags": []
   },
   "outputs": [
    {
     "data": {
      "text/plain": [
       "182"
      ]
     },
     "execution_count": 13,
     "metadata": {},
     "output_type": "execute_result"
    }
   ],
   "source": [
    "len(unique_features)"
   ]
  },
  {
   "cell_type": "code",
   "execution_count": 62,
   "id": "e6151abf-e954-4958-aaf8-b4635cb75f0c",
   "metadata": {},
   "outputs": [],
   "source": [
    "#unique_features "
   ]
  },
  {
   "cell_type": "code",
   "execution_count": 64,
   "id": "9cfc7c5b-2a45-4382-9259-af2e9b7c4fd0",
   "metadata": {
    "tags": []
   },
   "outputs": [],
   "source": [
    "unique_features_sp=[feat.split(\"__\")[-1] for feat in unique_features]"
   ]
  },
  {
   "cell_type": "code",
   "execution_count": 69,
   "id": "ca4497a9-1fdf-4588-94f5-478df4c05563",
   "metadata": {
    "tags": []
   },
   "outputs": [],
   "source": [
    "unique_features_sp_pattern=[feat.replace(\"_\",\".\") for feat in unique_features_sp]"
   ]
  },
  {
   "cell_type": "code",
   "execution_count": 65,
   "id": "f6be7de6-5b61-46bc-8498-6788515afd9c",
   "metadata": {
    "tags": []
   },
   "outputs": [
    {
     "name": "stdout",
     "output_type": "stream",
     "text": [
      "['Actinomyces_turicensis', 'Leuconostoc_lactis', 'Ruminococcus_champanellensis', 'Lachnospiraceae_bacterium_oral_taxon_082', 'Streptococcus_sobrinus', 'Erysipelotrichaceae_bacterium_2_2_44A', 'Bacillus_amyloliquefaciens', 'Streptococcus_phage_Sfi21', 'Leptotrichia_wadei', 'Centipeda_periodontii', 'Enterobacteria_phage_HK97', 'Haemophilus_pittmaniae', 'Prevotella_multiformis', 'Haemophilus_phage_HP1', 'Catenibacterium_mitsuokai', 'Alloprevotella_tannerae', 'Streptococcus_vestibularis', 'Capnocytophaga_unclassified', 'Solobacterium_moorei', 'Enterobacteria_phage_HK225', 'Burkholderia_unclassified', 'Clostridiaceae_bacterium_JC118', 'Enterobacteriaceae_bacterium_9_2_54FAA', 'Bifidobacterium_dentium', 'Streptococcus_lutetiensis', 'Lactobacillus_reuteri', 'Corynebacterium_matruchotii', 'Campylobacter_concisus', 'Lactobacillus_phage_Lc_Nu', 'Bacteroides_sp_4_3_47FAA', 'Actinomyces_naeslundii', 'Saccharomonospora_unclassified', 'Bacteroides_sp_2_1_56FAA', 'Rothia_dentocariosa', 'Ruminococcus_sp_JC304', 'Morganella_morganii', 'Eikenella_corrodens', 'Lactobacillus_casei_paracasei', 'Lactobacillus_crispatus', 'Bacteroides_fluxus', 'Actinomyces_sp_HPA0247', 'Lachnospiraceae_bacterium_3_1_57FAA_CT1', 'Lactococcus_lactis', 'Lactobacillus_oris', 'Haemophilus_parahaemolyticus', 'Lactobacillus_rhamnosus', 'Lachnospiraceae_bacterium_4_1_37FAA', 'Bifidobacterium_breve', 'Clostridiales_bacterium_1_7_47FAA', 'Lactobacillus_mucosae', 'Collinsella_tanakaei', 'Ruminococcaceae_bacterium_D16', 'Staphylococcus_phage_phi5967PVL', 'Prevotella_multisaccharivorax', 'Clostridium_citroniae', 'Coprobacillus_sp_D6', 'Acidaminococcus_intestini', 'Aeromonas_caviae', 'Streptococcus_gordonii', 'Parvimonas_unclassified', 'Lactobacillus_ingluviei', 'Streptococcus_oligofermentans', 'Selenomonas_noxia', 'Lactobacillus_vaginalis', 'Blautia_producta', 'Enterobacter_hormaechei', 'Lactobacillus_sanfranciscensis', 'Lautropia_mirabilis', 'Gemella_haemolysans', 'Shewanella_unclassified', 'Scardovia_wiggsiae', 'Alloprevotella_unclassified', 'Coriobacteriaceae_bacterium_phI', 'Actinomyces_viscosus', 'Prevotella_oulorum', 'Lachnospiraceae_bacterium_9_1_43BFAA', 'Lactococcus_garvieae', 'Streptococcus_downei', 'Lactobacillus_phage_PL_1', 'Streptococcus_anginosus', 'Leptotrichia_shahii', 'Neisseria_sicca', 'Clostridium_sordellii', 'Clostridium_asparagiforme', 'Rothia_mucilaginosa', 'Klebsiella_sp_MS_92_3', 'Prevotella_denticola', 'Pseudomonas_unclassified', 'Prevotella_dentalis', 'Neisseria_meningitidis', 'Prevotella_salivae', 'Cellulophaga_unclassified', 'Rothia_unclassified', 'Anaerotruncus_colihominis', 'Bifidobacterium_animalis', 'Lactobacillus_iners', 'Deinococcus_unclassified', 'Enterobacteria_phage_HK022', 'Butyricicoccus_pullicaecorum', 'Dysgonomonas_unclassified', 'Streptococcus_infantis', 'Peptostreptococcus_unclassified', 'Prevotella_timonensis', 'Atopobium_rimae', 'Streptococcus_sp_GMD4S', 'Clostridium_perfringens', 'Veillonella_ratti', 'Fusobacterium_gonidiaformans', 'Gordonibacter_pamelaeae', 'Haemophilus_sputorum', 'Turicibacter_unclassified', 'Clostridium_methylpentosum', 'Clostridium_hiranonis', 'Aggregatibacter_unclassified', 'Gemella_morbillorum', 'Eubacterium_sp_3_1_31', 'Clostridium_butyricum', 'Enterobacteria_phage_PsP3', 'Streptococcus_mutans', 'Streptococcus_cristatus', 'Eggerthella_lenta', 'Rothia_aeria', 'Aggregatibacter_sp_oral_taxon_458', 'Lachnospiraceae_bacterium_1_4_56FAA', 'Campylobacter_gracilis', 'Bacillus_cereus_thuringiensis', 'Proteus_penneri', 'Enterococcus_avium', 'Streptococcus_sp_GMD5S', 'Prevotella_veroralis', 'Cronobacter_sakazakii', 'Streptococcus_mitis_oralis_pneumoniae', 'Slackia_unclassified', 'Actinobacillus_unclassified', 'Anaerostipes_caccae', 'Lactobacillus_pentosus', 'Lactobacillus_gasseri', 'Salmonella_phage_Vi_II_E1', 'Pusillimonas_unclassified', 'Bacteroides_oleiciplenus', 'Klebsiella_phage_KP36', 'Enterobacteria_phage_SfV', 'Streptococcus_phage_O1205', 'Eubacterium_cylindroides', 'Mitsuokella_multacida', 'Fusobacterium_nucleatum', 'Lactobacillus_fermentum', 'Lactobacillus_plantarum', 'Veillonella_unclassified', 'Aeromonas_unclassified', 'Lactobacillus_equicursoris', 'Proteus_mirabilis', 'Stomatobaculum_longum', 'Streptococcus_macedonicus', 'Cetobacterium_somerae', 'Neisseria_elongata', 'Alistipes_sp_HGB5', 'candidate_division_TM7_single_cell_isolate_TM7c', 'Saccharomyces_cerevisiae', 'Vicia_cryptic_virus', 'Prevotella_oris', 'Campylobacter_curvus', 'Clostridium_spiroforme', 'Blautia_hydrogenotrophica', 'Helicobacter_pylori', 'Raoultella_ornithinolytica', 'Mitsuokella_unclassified', 'Clostridium_ramosum', 'Bacillus_megaterium', 'Neisseria_flavescens', 'Actinopolyspora_unclassified', 'Erysipelotrichaceae_bacterium_6_1_45', 'Campylobacter_showae', 'Clostridium_celatum', 'Veillonella_atypica', 'Enterococcus_casseliflavus', 'Providencia_alcalifaciens', 'Alternanthera_yellow_vein_betasatellite', 'Weissella_unclassified', 'Kosakonia_radicincitans', 'Aggregatibacter_segnis', 'Plesiomonas_shigelloides']\n"
     ]
    }
   ],
   "source": [
    "print(unique_features_sp)"
   ]
  },
  {
   "cell_type": "code",
   "execution_count": 70,
   "id": "14f4de2b-b91e-4fe6-bd28-9093c8968ddc",
   "metadata": {
    "tags": []
   },
   "outputs": [],
   "source": [
    "df_species=pd.DataFrame(columns=[\"species\",\"pattern\"])\n",
    "df_species[\"species\"]=unique_features_sp\n",
    "df_species[\"pattern\"]=unique_features_sp_pattern"
   ]
  },
  {
   "cell_type": "code",
   "execution_count": null,
   "id": "0d9b595c-ba7e-445b-becb-f518e2863702",
   "metadata": {},
   "outputs": [],
   "source": []
  },
  {
   "cell_type": "code",
   "execution_count": 74,
   "id": "c44d387f-06a1-4598-b1d9-18a3c389afce",
   "metadata": {
    "tags": []
   },
   "outputs": [
    {
     "data": {
      "text/plain": [
       "'Enterobacteria.phage.HK97'"
      ]
     },
     "execution_count": 74,
     "metadata": {},
     "output_type": "execute_result"
    }
   ],
   "source": [
    "df_species[\"pattern\"][10]"
   ]
  },
  {
   "cell_type": "code",
   "execution_count": 71,
   "id": "0a9fe2e5-c9e2-493d-8821-29e3098875b4",
   "metadata": {
    "tags": []
   },
   "outputs": [
    {
     "data": {
      "text/html": [
       "<div>\n",
       "<style scoped>\n",
       "    .dataframe tbody tr th:only-of-type {\n",
       "        vertical-align: middle;\n",
       "    }\n",
       "\n",
       "    .dataframe tbody tr th {\n",
       "        vertical-align: top;\n",
       "    }\n",
       "\n",
       "    .dataframe thead th {\n",
       "        text-align: right;\n",
       "    }\n",
       "</style>\n",
       "<table border=\"1\" class=\"dataframe\">\n",
       "  <thead>\n",
       "    <tr style=\"text-align: right;\">\n",
       "      <th></th>\n",
       "      <th>species</th>\n",
       "      <th>pattern</th>\n",
       "    </tr>\n",
       "  </thead>\n",
       "  <tbody>\n",
       "    <tr>\n",
       "      <th>0</th>\n",
       "      <td>Actinomyces_turicensis</td>\n",
       "      <td>Actinomyces.turicensis</td>\n",
       "    </tr>\n",
       "    <tr>\n",
       "      <th>1</th>\n",
       "      <td>Leuconostoc_lactis</td>\n",
       "      <td>Leuconostoc.lactis</td>\n",
       "    </tr>\n",
       "    <tr>\n",
       "      <th>2</th>\n",
       "      <td>Ruminococcus_champanellensis</td>\n",
       "      <td>Ruminococcus.champanellensis</td>\n",
       "    </tr>\n",
       "    <tr>\n",
       "      <th>3</th>\n",
       "      <td>Lachnospiraceae_bacterium_oral_taxon_082</td>\n",
       "      <td>Lachnospiraceae.bacterium.oral.taxon.082</td>\n",
       "    </tr>\n",
       "    <tr>\n",
       "      <th>4</th>\n",
       "      <td>Streptococcus_sobrinus</td>\n",
       "      <td>Streptococcus.sobrinus</td>\n",
       "    </tr>\n",
       "    <tr>\n",
       "      <th>...</th>\n",
       "      <td>...</td>\n",
       "      <td>...</td>\n",
       "    </tr>\n",
       "    <tr>\n",
       "      <th>177</th>\n",
       "      <td>Alternanthera_yellow_vein_betasatellite</td>\n",
       "      <td>Alternanthera.yellow.vein.betasatellite</td>\n",
       "    </tr>\n",
       "    <tr>\n",
       "      <th>178</th>\n",
       "      <td>Weissella_unclassified</td>\n",
       "      <td>Weissella.unclassified</td>\n",
       "    </tr>\n",
       "    <tr>\n",
       "      <th>179</th>\n",
       "      <td>Kosakonia_radicincitans</td>\n",
       "      <td>Kosakonia.radicincitans</td>\n",
       "    </tr>\n",
       "    <tr>\n",
       "      <th>180</th>\n",
       "      <td>Aggregatibacter_segnis</td>\n",
       "      <td>Aggregatibacter.segnis</td>\n",
       "    </tr>\n",
       "    <tr>\n",
       "      <th>181</th>\n",
       "      <td>Plesiomonas_shigelloides</td>\n",
       "      <td>Plesiomonas.shigelloides</td>\n",
       "    </tr>\n",
       "  </tbody>\n",
       "</table>\n",
       "<p>182 rows × 2 columns</p>\n",
       "</div>"
      ],
      "text/plain": [
       "                                      species  \\\n",
       "0                      Actinomyces_turicensis   \n",
       "1                          Leuconostoc_lactis   \n",
       "2                Ruminococcus_champanellensis   \n",
       "3    Lachnospiraceae_bacterium_oral_taxon_082   \n",
       "4                      Streptococcus_sobrinus   \n",
       "..                                        ...   \n",
       "177   Alternanthera_yellow_vein_betasatellite   \n",
       "178                    Weissella_unclassified   \n",
       "179                   Kosakonia_radicincitans   \n",
       "180                    Aggregatibacter_segnis   \n",
       "181                  Plesiomonas_shigelloides   \n",
       "\n",
       "                                      pattern  \n",
       "0                      Actinomyces.turicensis  \n",
       "1                          Leuconostoc.lactis  \n",
       "2                Ruminococcus.champanellensis  \n",
       "3    Lachnospiraceae.bacterium.oral.taxon.082  \n",
       "4                      Streptococcus.sobrinus  \n",
       "..                                        ...  \n",
       "177   Alternanthera.yellow.vein.betasatellite  \n",
       "178                    Weissella.unclassified  \n",
       "179                   Kosakonia.radicincitans  \n",
       "180                    Aggregatibacter.segnis  \n",
       "181                  Plesiomonas.shigelloides  \n",
       "\n",
       "[182 rows x 2 columns]"
      ]
     },
     "execution_count": 71,
     "metadata": {},
     "output_type": "execute_result"
    }
   ],
   "source": [
    "df_species"
   ]
  },
  {
   "cell_type": "code",
   "execution_count": 72,
   "id": "c2e6fdfc-bfd2-4782-b63d-707d76c4d45b",
   "metadata": {
    "tags": []
   },
   "outputs": [],
   "source": [
    "df_species.to_csv(os.path.join(data_path,\"Species_Patterns_to_search.csv\"))"
   ]
  },
  {
   "cell_type": "code",
   "execution_count": 159,
   "id": "afdaaecc-eea0-4549-932c-f125e430c875",
   "metadata": {
    "tags": []
   },
   "outputs": [],
   "source": [
    "import re\n",
    "\n",
    "# Your input text\n",
    "text = \"Alternanthera yellow vein betasatellite is a species that come in cirhhosis\"\n",
    "\n",
    "# Define your pattern using regular expressions\n",
    "pattern = 'Alternanthera.{1,2}yellow.{1,2}vein'\n"
   ]
  },
  {
   "cell_type": "code",
   "execution_count": 160,
   "id": "d0d4336d-c931-4473-aa77-4eec4793e4dd",
   "metadata": {
    "tags": []
   },
   "outputs": [],
   "source": [
    "a=re.search(pattern.lower(),text.lower())"
   ]
  },
  {
   "cell_type": "code",
   "execution_count": 161,
   "id": "88bf606d-8ea3-460d-ab13-5ab0f43e532e",
   "metadata": {
    "tags": []
   },
   "outputs": [
    {
     "data": {
      "text/plain": [
       "False"
      ]
     },
     "execution_count": 161,
     "metadata": {},
     "output_type": "execute_result"
    }
   ],
   "source": [
    "a==None"
   ]
  },
  {
   "cell_type": "code",
   "execution_count": 162,
   "id": "4a6ab321-c3d6-4075-8330-05fd635f1fa6",
   "metadata": {
    "tags": []
   },
   "outputs": [],
   "source": [
    "a=re.search(pattern.lower(),text.lower()).group()"
   ]
  },
  {
   "cell_type": "code",
   "execution_count": 174,
   "id": "b4f07a70-6c26-45cb-b671-8b3d6b3396d7",
   "metadata": {
    "tags": []
   },
   "outputs": [],
   "source": [
    "file=\"/data/projects/santal/data/PMC_Articles/oa_comm/txt/all/PMC6302302.txt\""
   ]
  },
  {
   "cell_type": "code",
   "execution_count": 175,
   "id": "f09db4af-e163-4752-9dd5-19e11e3c84b3",
   "metadata": {
    "tags": []
   },
   "outputs": [],
   "source": [
    "with open(file,\"r\",encoding='utf-8') as f:\n",
    "    content = f.read()"
   ]
  },
  {
   "cell_type": "code",
   "execution_count": 178,
   "id": "baa8bd49-f098-4236-9f20-c8eb9773ab66",
   "metadata": {
    "tags": []
   },
   "outputs": [],
   "source": [
    "pattern=r'Actinomyces.turicensis'"
   ]
  },
  {
   "cell_type": "code",
   "execution_count": 179,
   "id": "6280b018-4f1d-49e4-8b93-4a1bd402d368",
   "metadata": {
    "tags": []
   },
   "outputs": [],
   "source": [
    "import time"
   ]
  },
  {
   "cell_type": "code",
   "execution_count": 183,
   "id": "e2e914ee-eb45-451c-98e3-f8583eefab0f",
   "metadata": {
    "tags": []
   },
   "outputs": [
    {
     "name": "stdout",
     "output_type": "stream",
     "text": [
      "actinomyces turicensis\n",
      "0.0005297660827636719\n"
     ]
    }
   ],
   "source": [
    "#print(content)\n",
    "start=time.time()\n",
    "a=re.search(pattern.lower(),content.lower()).group()\n",
    "print(a)\n",
    "print(time.time()-start)"
   ]
  },
  {
   "cell_type": "code",
   "execution_count": 184,
   "id": "11d81de1-ba8c-4207-b47f-0dabda879795",
   "metadata": {
    "tags": []
   },
   "outputs": [
    {
     "name": "stdout",
     "output_type": "stream",
     "text": [
      "['actinomyces turicensis', 'actinomyces turicensis', 'actinomyces turicensis', 'actinomyces turicensis']\n",
      "0.0003788471221923828\n"
     ]
    }
   ],
   "source": [
    "#print(content)\n",
    "start=time.time()\n",
    "a=re.findall(pattern.lower(),content.lower())\n",
    "print(a)\n",
    "print(time.time()-start)"
   ]
  },
  {
   "cell_type": "code",
   "execution_count": 9,
   "id": "e433ea77-7665-4ac1-9fb0-48591203d6ae",
   "metadata": {
    "tags": []
   },
   "outputs": [],
   "source": [
    "org_species=pd.read_csv(\"/home/aberhe/Projects/SANTAL/ASLR/data/All_organism_species_combined.csv\",sep=\"\\t\")\n",
    "#org_species.to_csv(\"/home/aberhe/Projects/SANTAL/ASLR/data/All_organism_species_combined_classification.csv\",sep=\"\\t\")"
   ]
  },
  {
   "cell_type": "code",
   "execution_count": 10,
   "id": "4d4023f6-e61f-4ee7-991d-ff58514865ce",
   "metadata": {
    "tags": []
   },
   "outputs": [],
   "source": [
    "org_species=org_species[\"#Classification\"]"
   ]
  },
  {
   "cell_type": "code",
   "execution_count": 42,
   "id": "4a71e02b-2b94-475f-b28a-fab2ced9171f",
   "metadata": {
    "tags": []
   },
   "outputs": [
    {
     "data": {
      "text/plain": [
       "0       k__Bacteria|c__Candidatus_Babeliae|o__Candidat...\n",
       "1       k__Bacteria|f__Candidatus_Chazhemtobacteraceae...\n",
       "2       k__Bacteria|p__Acidobacteria|c__Acidobacteriia...\n",
       "3       k__Bacteria|p__Acidobacteria|c__Acidobacteriia...\n",
       "4       k__Bacteria|p__Acidobacteria|c__Acidobacteriia...\n",
       "                              ...                        \n",
       "6494    k__Bacteria|p__Verrucomicrobia|c__Verrucomicro...\n",
       "6495    k__Bacteria|p__Verrucomicrobia|g__Methylacidim...\n",
       "6496    k__Bacteria|p__Verrucomicrobia|g__Methylacidim...\n",
       "6497    k__Bacteria|s__Abyssogena_phaseoliformis_symbiont\n",
       "6498    k__Bacteria|s__Isorropodon_fossajaponicum_symb...\n",
       "Name: #Classification, Length: 6499, dtype: object"
      ]
     },
     "execution_count": 42,
     "metadata": {},
     "output_type": "execute_result"
    }
   ],
   "source": [
    "org_species"
   ]
  },
  {
   "cell_type": "code",
   "execution_count": 43,
   "id": "464f6daa-3e6e-4117-b6c9-2eb3b2e43be0",
   "metadata": {
    "tags": []
   },
   "outputs": [],
   "source": [
    "species_classification=org_species.to_list()"
   ]
  },
  {
   "cell_type": "code",
   "execution_count": 44,
   "id": "ede4f717-3558-4050-ad45-3e96643b1746",
   "metadata": {
    "tags": []
   },
   "outputs": [
    {
     "data": {
      "text/plain": [
       "['k__Bacteria',\n",
       " 'c__Candidatus_Babeliae',\n",
       " 'o__Candidatus_Babeliales',\n",
       " 'f__Candidatus_Babeliaceae',\n",
       " 'g__Candidatus_Babela',\n",
       " 's__Candidatus_Babela_massiliensis']"
      ]
     },
     "execution_count": 44,
     "metadata": {},
     "output_type": "execute_result"
    }
   ],
   "source": [
    "a=species_classification[0].split(\"|\")\n",
    "a"
   ]
  },
  {
   "cell_type": "code",
   "execution_count": 45,
   "id": "70f9068a-0bab-4596-af47-c5e6f71ab7b0",
   "metadata": {
    "tags": []
   },
   "outputs": [],
   "source": [
    "a.sort()"
   ]
  },
  {
   "cell_type": "code",
   "execution_count": 46,
   "id": "4c1c5d2f-b07f-488b-a81a-e5caee3c2a3f",
   "metadata": {
    "tags": []
   },
   "outputs": [
    {
     "data": {
      "text/plain": [
       "['c__Candidatus_Babeliae',\n",
       " 'f__Candidatus_Babeliaceae',\n",
       " 'g__Candidatus_Babela',\n",
       " 'k__Bacteria',\n",
       " 'o__Candidatus_Babeliales',\n",
       " 's__Candidatus_Babela_massiliensis']"
      ]
     },
     "execution_count": 46,
     "metadata": {},
     "output_type": "execute_result"
    }
   ],
   "source": [
    "a"
   ]
  },
  {
   "cell_type": "code",
   "execution_count": 47,
   "id": "ebde3a44-3b06-461a-a380-23c1f7619833",
   "metadata": {},
   "outputs": [],
   "source": [
    "sp_cl_df=pd.DataFrame(columns=[\"Kingdom\",\"Phylum\",\"Class\",\"Order\",\"Family\",\"Genus\",\"Species\"])"
   ]
  },
  {
   "cell_type": "code",
   "execution_count": 48,
   "id": "7775bee8-916a-48d7-8a71-dbd7d298cf2d",
   "metadata": {
    "tags": []
   },
   "outputs": [],
   "source": [
    "apprivation_keys={\"k\":\"Kingdom\",\"p\":\"Phylum\",\"c\":\"Class\",\"o\":\"Order\",\"f\":\"Family\",\"g\":\"Genus\",\"s\":\"Species\"}"
   ]
  },
  {
   "cell_type": "code",
   "execution_count": 49,
   "id": "e53b742a-4595-4a83-a220-d7138e8903f0",
   "metadata": {
    "tags": []
   },
   "outputs": [],
   "source": [
    "list_class=[]\n",
    "for sp_cl in species_classification:\n",
    "    dict_sp={\"Kingdom\":\"\",\"Phylum\":\"\",\"Class\":\"\",\"Order\":\"\",\"Family\":\"\",\"Genus\":\"\",\"Species\":\"\"}\n",
    "    species_class=sp_cl.split((\"|\"))\n",
    "    for s_c in species_class:\n",
    "        cl=s_c.split(\"__\")\n",
    "        dict_sp[apprivation_keys[cl[0]]]=cl[1]\n",
    "    list_class.append(dict_sp) "
   ]
  },
  {
   "cell_type": "code",
   "execution_count": 50,
   "id": "d64b0465-0934-44ec-bf2b-6d12e513212e",
   "metadata": {
    "tags": []
   },
   "outputs": [],
   "source": [
    "sp_cl_df=pd.DataFrame.from_dict(list_class)"
   ]
  },
  {
   "cell_type": "code",
   "execution_count": 51,
   "id": "754d9827-29df-451d-b2a3-c22a574f5bd0",
   "metadata": {
    "tags": []
   },
   "outputs": [
    {
     "data": {
      "text/html": [
       "<div>\n",
       "<style scoped>\n",
       "    .dataframe tbody tr th:only-of-type {\n",
       "        vertical-align: middle;\n",
       "    }\n",
       "\n",
       "    .dataframe tbody tr th {\n",
       "        vertical-align: top;\n",
       "    }\n",
       "\n",
       "    .dataframe thead th {\n",
       "        text-align: right;\n",
       "    }\n",
       "</style>\n",
       "<table border=\"1\" class=\"dataframe\">\n",
       "  <thead>\n",
       "    <tr style=\"text-align: right;\">\n",
       "      <th></th>\n",
       "      <th>Kingdom</th>\n",
       "      <th>Phylum</th>\n",
       "      <th>Class</th>\n",
       "      <th>Order</th>\n",
       "      <th>Family</th>\n",
       "      <th>Genus</th>\n",
       "      <th>Species</th>\n",
       "    </tr>\n",
       "  </thead>\n",
       "  <tbody>\n",
       "    <tr>\n",
       "      <th>0</th>\n",
       "      <td>Bacteria</td>\n",
       "      <td></td>\n",
       "      <td>Candidatus_Babeliae</td>\n",
       "      <td>Candidatus_Babeliales</td>\n",
       "      <td>Candidatus_Babeliaceae</td>\n",
       "      <td>Candidatus_Babela</td>\n",
       "      <td>Candidatus_Babela_massiliensis</td>\n",
       "    </tr>\n",
       "    <tr>\n",
       "      <th>1</th>\n",
       "      <td>Bacteria</td>\n",
       "      <td></td>\n",
       "      <td></td>\n",
       "      <td></td>\n",
       "      <td>Candidatus_Chazhemtobacteraceae</td>\n",
       "      <td>Candidatus_Chazhemtobacterium</td>\n",
       "      <td>Candidatus_Chazhemtobacterium_aquaticus</td>\n",
       "    </tr>\n",
       "    <tr>\n",
       "      <th>2</th>\n",
       "      <td>Bacteria</td>\n",
       "      <td>Acidobacteria</td>\n",
       "      <td>Acidobacteriia</td>\n",
       "      <td>Acidobacteriales</td>\n",
       "      <td>Acidobacteriaceae</td>\n",
       "      <td>Acidisarcina</td>\n",
       "      <td>Acidisarcina_polymorpha</td>\n",
       "    </tr>\n",
       "    <tr>\n",
       "      <th>3</th>\n",
       "      <td>Bacteria</td>\n",
       "      <td>Acidobacteria</td>\n",
       "      <td>Acidobacteriia</td>\n",
       "      <td>Acidobacteriales</td>\n",
       "      <td>Acidobacteriaceae</td>\n",
       "      <td>Acidobacterium</td>\n",
       "      <td>Acidobacterium_capsulatum</td>\n",
       "    </tr>\n",
       "    <tr>\n",
       "      <th>4</th>\n",
       "      <td>Bacteria</td>\n",
       "      <td>Acidobacteria</td>\n",
       "      <td>Acidobacteriia</td>\n",
       "      <td>Acidobacteriales</td>\n",
       "      <td>Acidobacteriaceae</td>\n",
       "      <td>Acidobacterium</td>\n",
       "      <td>Acidobacterium_sp._4Y35</td>\n",
       "    </tr>\n",
       "    <tr>\n",
       "      <th>...</th>\n",
       "      <td>...</td>\n",
       "      <td>...</td>\n",
       "      <td>...</td>\n",
       "      <td>...</td>\n",
       "      <td>...</td>\n",
       "      <td>...</td>\n",
       "      <td>...</td>\n",
       "    </tr>\n",
       "    <tr>\n",
       "      <th>6494</th>\n",
       "      <td>Bacteria</td>\n",
       "      <td>Verrucomicrobia</td>\n",
       "      <td>Verrucomicrobiae</td>\n",
       "      <td>Verrucomicrobiales</td>\n",
       "      <td>Verrucomicrobiaceae</td>\n",
       "      <td>Verrucomicrobium</td>\n",
       "      <td>Verrucomicrobium_spinosum</td>\n",
       "    </tr>\n",
       "    <tr>\n",
       "      <th>6495</th>\n",
       "      <td>Bacteria</td>\n",
       "      <td>Verrucomicrobia</td>\n",
       "      <td></td>\n",
       "      <td></td>\n",
       "      <td></td>\n",
       "      <td>Methylacidimicrobium</td>\n",
       "      <td>Methylacidimicrobium_sp._AP8</td>\n",
       "    </tr>\n",
       "    <tr>\n",
       "      <th>6496</th>\n",
       "      <td>Bacteria</td>\n",
       "      <td>Verrucomicrobia</td>\n",
       "      <td></td>\n",
       "      <td></td>\n",
       "      <td></td>\n",
       "      <td>Methylacidimicrobium</td>\n",
       "      <td>Methylacidimicrobium_sp._B4</td>\n",
       "    </tr>\n",
       "    <tr>\n",
       "      <th>6497</th>\n",
       "      <td>Bacteria</td>\n",
       "      <td></td>\n",
       "      <td></td>\n",
       "      <td></td>\n",
       "      <td></td>\n",
       "      <td></td>\n",
       "      <td>Abyssogena_phaseoliformis_symbiont</td>\n",
       "    </tr>\n",
       "    <tr>\n",
       "      <th>6498</th>\n",
       "      <td>Bacteria</td>\n",
       "      <td></td>\n",
       "      <td></td>\n",
       "      <td></td>\n",
       "      <td></td>\n",
       "      <td></td>\n",
       "      <td>Isorropodon_fossajaponicum_symbiont</td>\n",
       "    </tr>\n",
       "  </tbody>\n",
       "</table>\n",
       "<p>6499 rows × 7 columns</p>\n",
       "</div>"
      ],
      "text/plain": [
       "       Kingdom           Phylum                Class                  Order  \\\n",
       "0     Bacteria                   Candidatus_Babeliae  Candidatus_Babeliales   \n",
       "1     Bacteria                                                                \n",
       "2     Bacteria    Acidobacteria       Acidobacteriia       Acidobacteriales   \n",
       "3     Bacteria    Acidobacteria       Acidobacteriia       Acidobacteriales   \n",
       "4     Bacteria    Acidobacteria       Acidobacteriia       Acidobacteriales   \n",
       "...        ...              ...                  ...                    ...   \n",
       "6494  Bacteria  Verrucomicrobia     Verrucomicrobiae     Verrucomicrobiales   \n",
       "6495  Bacteria  Verrucomicrobia                                               \n",
       "6496  Bacteria  Verrucomicrobia                                               \n",
       "6497  Bacteria                                                                \n",
       "6498  Bacteria                                                                \n",
       "\n",
       "                               Family                          Genus  \\\n",
       "0              Candidatus_Babeliaceae              Candidatus_Babela   \n",
       "1     Candidatus_Chazhemtobacteraceae  Candidatus_Chazhemtobacterium   \n",
       "2                   Acidobacteriaceae                   Acidisarcina   \n",
       "3                   Acidobacteriaceae                 Acidobacterium   \n",
       "4                   Acidobacteriaceae                 Acidobacterium   \n",
       "...                               ...                            ...   \n",
       "6494              Verrucomicrobiaceae               Verrucomicrobium   \n",
       "6495                                            Methylacidimicrobium   \n",
       "6496                                            Methylacidimicrobium   \n",
       "6497                                                                   \n",
       "6498                                                                   \n",
       "\n",
       "                                      Species  \n",
       "0              Candidatus_Babela_massiliensis  \n",
       "1     Candidatus_Chazhemtobacterium_aquaticus  \n",
       "2                     Acidisarcina_polymorpha  \n",
       "3                   Acidobacterium_capsulatum  \n",
       "4                     Acidobacterium_sp._4Y35  \n",
       "...                                       ...  \n",
       "6494                Verrucomicrobium_spinosum  \n",
       "6495             Methylacidimicrobium_sp._AP8  \n",
       "6496              Methylacidimicrobium_sp._B4  \n",
       "6497       Abyssogena_phaseoliformis_symbiont  \n",
       "6498      Isorropodon_fossajaponicum_symbiont  \n",
       "\n",
       "[6499 rows x 7 columns]"
      ]
     },
     "execution_count": 51,
     "metadata": {},
     "output_type": "execute_result"
    }
   ],
   "source": [
    "sp_cl_df"
   ]
  },
  {
   "cell_type": "code",
   "execution_count": 52,
   "id": "6b57ea21-829b-4a74-b76b-340aad5bed60",
   "metadata": {
    "tags": []
   },
   "outputs": [
    {
     "data": {
      "text/plain": [
       "'--Candidatus_Babeliae--Candidatus_Babeliales--Candidatus_Babeliaceae--Candidatus_Babela'"
      ]
     },
     "execution_count": 52,
     "metadata": {},
     "output_type": "execute_result"
    }
   ],
   "source": [
    "\"--\".join(sp_cl_df.iloc[0:1, 1:6].values.tolist()[0])"
   ]
  },
  {
   "cell_type": "code",
   "execution_count": 53,
   "id": "9840a20d-9985-47ae-8633-c4b6f17d6c24",
   "metadata": {
    "tags": []
   },
   "outputs": [],
   "source": [
    "list_species=[sp.split(\"_\")[0] if sp.split(\"_\")[0]!=\"Candidatus\" else sp.split(\"_\")[1] for sp in sp_cl_df[\"Species\"].tolist()]\n",
    "#list_species=list(set(list_species))"
   ]
  },
  {
   "cell_type": "code",
   "execution_count": 54,
   "id": "80ac85cb-b231-4ff3-936a-327a7f02dd40",
   "metadata": {
    "tags": []
   },
   "outputs": [],
   "source": [
    "#unique_features"
   ]
  },
  {
   "cell_type": "code",
   "execution_count": 17,
   "id": "6057f195-fdc7-4653-a9bc-7c519bd0ed6d",
   "metadata": {
    "tags": []
   },
   "outputs": [
    {
     "data": {
      "text/plain": [
       "'\\nbacterias_to_search=[]\\nnot_in_db=[]\\nfor i,feat in enumerate(unique_features):\\n    if not feat.split(\"__\")[1].split(\"_\")[0] in list_species:\\n        print(i,feat.split(\"__\")[1].split(\"_\")[0])\\n        #bacterias_to_search.append(feat.split(\"__\")[1].split(\"_\"))\\n        not_in_db.append(feat.split(\"__\")[1].split(\"_\")[0])\\n    else:\\n        bacterias_to_search.append([sp_cl_df[\"Class\"][list_species.index(feat.split(\"__\")[1].split(\"_\")[0])],\\n                                   sp_cl_df[\"Order\"][list_species.index(feat.split(\"__\")[1].split(\"_\")[0])],\\n                                   sp_cl_df[\"Family\"][list_species.index(feat.split(\"__\")[1].split(\"_\")[0])],\\n                                   sp_cl_df[\"Genus\"][list_species.index(feat.split(\"__\")[1].split(\"_\")[0])],\\n                                   sp_cl_df[\"Species\"][list_species.index(feat.split(\"__\")[1].split(\"_\")[0])]]\\n                                  )\\n'"
      ]
     },
     "execution_count": 17,
     "metadata": {},
     "output_type": "execute_result"
    }
   ],
   "source": [
    "\"\"\"\n",
    "bacterias_to_search=[]\n",
    "not_in_db=[]\n",
    "for i,feat in enumerate(unique_features):\n",
    "    if not feat.split(\"__\")[1].split(\"_\")[0] in list_species:\n",
    "        print(i,feat.split(\"__\")[1].split(\"_\")[0])\n",
    "        #bacterias_to_search.append(feat.split(\"__\")[1].split(\"_\"))\n",
    "        not_in_db.append(feat.split(\"__\")[1].split(\"_\")[0])\n",
    "    else:\n",
    "        bacterias_to_search.append([sp_cl_df[\"Class\"][list_species.index(feat.split(\"__\")[1].split(\"_\")[0])],\n",
    "                                   sp_cl_df[\"Order\"][list_species.index(feat.split(\"__\")[1].split(\"_\")[0])],\n",
    "                                   sp_cl_df[\"Family\"][list_species.index(feat.split(\"__\")[1].split(\"_\")[0])],\n",
    "                                   sp_cl_df[\"Genus\"][list_species.index(feat.split(\"__\")[1].split(\"_\")[0])],\n",
    "                                   sp_cl_df[\"Species\"][list_species.index(feat.split(\"__\")[1].split(\"_\")[0])]]\n",
    "                                  )\n",
    "\"\"\""
   ]
  },
  {
   "cell_type": "code",
   "execution_count": 39,
   "id": "69fcbf49-dd22-48d0-968d-03678aa748e1",
   "metadata": {
    "tags": []
   },
   "outputs": [],
   "source": [
    "#bacterias_to_df=pd.DataFrame(bacterias_to_search,columns=[\"Class\",\"Order\",\"Family\",\"Genus\",\"Species\"])"
   ]
  },
  {
   "cell_type": "code",
   "execution_count": 133,
   "id": "f13b7c4a-8ae1-4030-9628-03711a0051b2",
   "metadata": {
    "tags": []
   },
   "outputs": [],
   "source": [
    "bacterias_to_search=pd.read_csv(\"/home/aberhe/Projects/SANTAL/ASLR/data/Bacteria_to_search_with_higher_taxonomy.csv\")\n",
    "#bacterias_to_df.to_csv(\"/home/aberhe/Projects/SANTAL/ASLR/data/Bacteria_to_search_with_higher_taxonomy.csv\")\n",
    "bacterias_to_search=bacterias_to_search.drop(columns=[\"Unnamed: 0\"])"
   ]
  },
  {
   "cell_type": "code",
   "execution_count": 57,
   "id": "f80cf924-c2d9-499e-b19a-56288208eb78",
   "metadata": {
    "tags": []
   },
   "outputs": [
    {
     "name": "stdout",
     "output_type": "stream",
     "text": [
      "(150, 5)\n"
     ]
    },
    {
     "data": {
      "text/html": [
       "<div>\n",
       "<style scoped>\n",
       "    .dataframe tbody tr th:only-of-type {\n",
       "        vertical-align: middle;\n",
       "    }\n",
       "\n",
       "    .dataframe tbody tr th {\n",
       "        vertical-align: top;\n",
       "    }\n",
       "\n",
       "    .dataframe thead th {\n",
       "        text-align: right;\n",
       "    }\n",
       "</style>\n",
       "<table border=\"1\" class=\"dataframe\">\n",
       "  <thead>\n",
       "    <tr style=\"text-align: right;\">\n",
       "      <th></th>\n",
       "      <th>Class</th>\n",
       "      <th>Order</th>\n",
       "      <th>Family</th>\n",
       "      <th>Genus</th>\n",
       "      <th>Species</th>\n",
       "    </tr>\n",
       "  </thead>\n",
       "  <tbody>\n",
       "    <tr>\n",
       "      <th>0</th>\n",
       "      <td>Actinomycetia</td>\n",
       "      <td>Actinomycetales</td>\n",
       "      <td>Actinomycetaceae</td>\n",
       "      <td>Actinomyces</td>\n",
       "      <td>Actinomyces_gaoshouyii</td>\n",
       "    </tr>\n",
       "    <tr>\n",
       "      <th>1</th>\n",
       "      <td>Bacilli</td>\n",
       "      <td>Lactobacillales</td>\n",
       "      <td>Lactobacillaceae</td>\n",
       "      <td>Lactobacillus</td>\n",
       "      <td>Lactobacillus_acetotolerans</td>\n",
       "    </tr>\n",
       "    <tr>\n",
       "      <th>2</th>\n",
       "      <td>Bacteroidia</td>\n",
       "      <td>Bacteroidales</td>\n",
       "      <td>Prevotellaceae</td>\n",
       "      <td>Prevotella</td>\n",
       "      <td>Prevotella_copri</td>\n",
       "    </tr>\n",
       "    <tr>\n",
       "      <th>3</th>\n",
       "      <td>Epsilonproteobacteria</td>\n",
       "      <td>Campylobacterales</td>\n",
       "      <td>Campylobacteraceae</td>\n",
       "      <td>Campylobacter</td>\n",
       "      <td>Campylobacter_armoricus</td>\n",
       "    </tr>\n",
       "    <tr>\n",
       "      <th>4</th>\n",
       "      <td>Gammaproteobacteria</td>\n",
       "      <td>Aeromonadales</td>\n",
       "      <td>Aeromonadaceae</td>\n",
       "      <td>Aeromonas</td>\n",
       "      <td>Aeromonas_allosaccharophila</td>\n",
       "    </tr>\n",
       "  </tbody>\n",
       "</table>\n",
       "</div>"
      ],
      "text/plain": [
       "                   Class              Order              Family  \\\n",
       "0          Actinomycetia    Actinomycetales    Actinomycetaceae   \n",
       "1                Bacilli    Lactobacillales    Lactobacillaceae   \n",
       "2            Bacteroidia      Bacteroidales      Prevotellaceae   \n",
       "3  Epsilonproteobacteria  Campylobacterales  Campylobacteraceae   \n",
       "4    Gammaproteobacteria      Aeromonadales      Aeromonadaceae   \n",
       "\n",
       "           Genus                      Species  \n",
       "0    Actinomyces       Actinomyces_gaoshouyii  \n",
       "1  Lactobacillus  Lactobacillus_acetotolerans  \n",
       "2     Prevotella             Prevotella_copri  \n",
       "3  Campylobacter      Campylobacter_armoricus  \n",
       "4      Aeromonas  Aeromonas_allosaccharophila  "
      ]
     },
     "execution_count": 57,
     "metadata": {},
     "output_type": "execute_result"
    }
   ],
   "source": [
    "print(bacterias_to_search.shape)\n",
    "bacterias_to_search.head()"
   ]
  },
  {
   "cell_type": "code",
   "execution_count": 65,
   "id": "5835b459-ca64-4d7a-971d-373a97867c77",
   "metadata": {
    "tags": []
   },
   "outputs": [
    {
     "data": {
      "text/plain": [
       "'Actinomyces_gaoshouyii'"
      ]
     },
     "execution_count": 65,
     "metadata": {},
     "output_type": "execute_result"
    }
   ],
   "source": [
    "bacterias_to_search.Species[0]"
   ]
  },
  {
   "cell_type": "code",
   "execution_count": 59,
   "id": "384438fe-19ab-4d5d-83f1-e57166a0d542",
   "metadata": {
    "tags": []
   },
   "outputs": [
    {
     "data": {
      "text/plain": [
       "64"
      ]
     },
     "execution_count": 59,
     "metadata": {},
     "output_type": "execute_result"
    }
   ],
   "source": [
    "bacs=[bac.split(\"_\")[0] for bac in bacterias_to_search.Species]\n",
    "len(list(set(bacs)))"
   ]
  },
  {
   "cell_type": "code",
   "execution_count": 60,
   "id": "b1f094a4-6c59-4129-a42a-fcf2764365fc",
   "metadata": {
    "tags": []
   },
   "outputs": [
    {
     "data": {
      "text/plain": [
       "'Actinomyces'"
      ]
     },
     "execution_count": 60,
     "metadata": {},
     "output_type": "execute_result"
    }
   ],
   "source": [
    "bacs[0]"
   ]
  },
  {
   "cell_type": "code",
   "execution_count": 63,
   "id": "7a1649c5-7b3d-4ff0-a415-d31c31e0d447",
   "metadata": {
    "tags": []
   },
   "outputs": [
    {
     "data": {
      "text/plain": [
       "61"
      ]
     },
     "execution_count": 63,
     "metadata": {},
     "output_type": "execute_result"
    }
   ],
   "source": [
    "bacs2=[bac.split(\"_\")[1] for bac in bacterias_to_search.Species]\n",
    "len(list(set(bacs2)))"
   ]
  },
  {
   "cell_type": "code",
   "execution_count": 64,
   "id": "d12c4dd9-d905-4a74-90cb-aa98b43dbd25",
   "metadata": {
    "tags": []
   },
   "outputs": [
    {
     "data": {
      "text/plain": [
       "'gaoshouyii'"
      ]
     },
     "execution_count": 64,
     "metadata": {},
     "output_type": "execute_result"
    }
   ],
   "source": [
    "bacs2[0]"
   ]
  },
  {
   "cell_type": "code",
   "execution_count": 23,
   "id": "925a9de9-9f8b-4d34-a66c-638316be07b6",
   "metadata": {
    "tags": []
   },
   "outputs": [
    {
     "data": {
      "text/plain": [
       "150"
      ]
     },
     "execution_count": 23,
     "metadata": {},
     "output_type": "execute_result"
    }
   ],
   "source": [
    "len(bacterias_to_df.Species.tolist())"
   ]
  },
  {
   "cell_type": "code",
   "execution_count": 26,
   "id": "fc930280-6990-43c1-868b-f6a13fb2e20e",
   "metadata": {
    "tags": []
   },
   "outputs": [
    {
     "data": {
      "text/plain": [
       "False"
      ]
     },
     "execution_count": 26,
     "metadata": {},
     "output_type": "execute_result"
    }
   ],
   "source": [
    "\"Clostridium_citroniae\" in sp_cl_df[\"Species\"].tolist()"
   ]
  },
  {
   "cell_type": "code",
   "execution_count": 66,
   "id": "4a2ce047-ec57-4a44-b855-24a860ac7a9b",
   "metadata": {
    "tags": []
   },
   "outputs": [
    {
     "data": {
      "text/html": [
       "<div>\n",
       "<style scoped>\n",
       "    .dataframe tbody tr th:only-of-type {\n",
       "        vertical-align: middle;\n",
       "    }\n",
       "\n",
       "    .dataframe tbody tr th {\n",
       "        vertical-align: top;\n",
       "    }\n",
       "\n",
       "    .dataframe thead th {\n",
       "        text-align: right;\n",
       "    }\n",
       "</style>\n",
       "<table border=\"1\" class=\"dataframe\">\n",
       "  <thead>\n",
       "    <tr style=\"text-align: right;\">\n",
       "      <th></th>\n",
       "      <th>Class</th>\n",
       "      <th>Order</th>\n",
       "      <th>Family</th>\n",
       "      <th>Genus</th>\n",
       "      <th>Species</th>\n",
       "    </tr>\n",
       "  </thead>\n",
       "  <tbody>\n",
       "    <tr>\n",
       "      <th>0</th>\n",
       "      <td>Actinomycetia</td>\n",
       "      <td>Actinomycetales</td>\n",
       "      <td>Actinomycetaceae</td>\n",
       "      <td>Actinomyces</td>\n",
       "      <td>Actinomyces_gaoshouyii</td>\n",
       "    </tr>\n",
       "    <tr>\n",
       "      <th>1</th>\n",
       "      <td>Bacilli</td>\n",
       "      <td>Lactobacillales</td>\n",
       "      <td>Lactobacillaceae</td>\n",
       "      <td>Lactobacillus</td>\n",
       "      <td>Lactobacillus_acetotolerans</td>\n",
       "    </tr>\n",
       "    <tr>\n",
       "      <th>2</th>\n",
       "      <td>Bacteroidia</td>\n",
       "      <td>Bacteroidales</td>\n",
       "      <td>Prevotellaceae</td>\n",
       "      <td>Prevotella</td>\n",
       "      <td>Prevotella_copri</td>\n",
       "    </tr>\n",
       "    <tr>\n",
       "      <th>3</th>\n",
       "      <td>Epsilonproteobacteria</td>\n",
       "      <td>Campylobacterales</td>\n",
       "      <td>Campylobacteraceae</td>\n",
       "      <td>Campylobacter</td>\n",
       "      <td>Campylobacter_armoricus</td>\n",
       "    </tr>\n",
       "    <tr>\n",
       "      <th>4</th>\n",
       "      <td>Gammaproteobacteria</td>\n",
       "      <td>Aeromonadales</td>\n",
       "      <td>Aeromonadaceae</td>\n",
       "      <td>Aeromonas</td>\n",
       "      <td>Aeromonas_allosaccharophila</td>\n",
       "    </tr>\n",
       "    <tr>\n",
       "      <th>...</th>\n",
       "      <td>...</td>\n",
       "      <td>...</td>\n",
       "      <td>...</td>\n",
       "      <td>...</td>\n",
       "      <td>...</td>\n",
       "    </tr>\n",
       "    <tr>\n",
       "      <th>145</th>\n",
       "      <td>Betaproteobacteria</td>\n",
       "      <td>Neisseriales</td>\n",
       "      <td>Neisseriaceae</td>\n",
       "      <td>Neisseria</td>\n",
       "      <td>Neisseria_animalis</td>\n",
       "    </tr>\n",
       "    <tr>\n",
       "      <th>146</th>\n",
       "      <td>Bacteroidia</td>\n",
       "      <td>Bacteroidales</td>\n",
       "      <td>Bacteroidaceae</td>\n",
       "      <td>Bacteroides</td>\n",
       "      <td>Bacteroides_caccae</td>\n",
       "    </tr>\n",
       "    <tr>\n",
       "      <th>147</th>\n",
       "      <td>Gammaproteobacteria</td>\n",
       "      <td>Pasteurellales</td>\n",
       "      <td>Pasteurellaceae</td>\n",
       "      <td>Actinobacillus</td>\n",
       "      <td>Actinobacillus_delphinicola</td>\n",
       "    </tr>\n",
       "    <tr>\n",
       "      <th>148</th>\n",
       "      <td>Bacilli</td>\n",
       "      <td>Lactobacillales</td>\n",
       "      <td>Streptococcaceae</td>\n",
       "      <td>Streptococcus</td>\n",
       "      <td>Streptococcus_acidominimus</td>\n",
       "    </tr>\n",
       "    <tr>\n",
       "      <th>149</th>\n",
       "      <td>Erysipelotrichia</td>\n",
       "      <td>Erysipelotrichales</td>\n",
       "      <td>Turicibacteraceae</td>\n",
       "      <td>Turicibacter</td>\n",
       "      <td>Turicibacter_sanguinis</td>\n",
       "    </tr>\n",
       "  </tbody>\n",
       "</table>\n",
       "<p>150 rows × 5 columns</p>\n",
       "</div>"
      ],
      "text/plain": [
       "                     Class               Order              Family  \\\n",
       "0            Actinomycetia     Actinomycetales    Actinomycetaceae   \n",
       "1                  Bacilli     Lactobacillales    Lactobacillaceae   \n",
       "2              Bacteroidia       Bacteroidales      Prevotellaceae   \n",
       "3    Epsilonproteobacteria   Campylobacterales  Campylobacteraceae   \n",
       "4      Gammaproteobacteria       Aeromonadales      Aeromonadaceae   \n",
       "..                     ...                 ...                 ...   \n",
       "145     Betaproteobacteria        Neisseriales       Neisseriaceae   \n",
       "146            Bacteroidia       Bacteroidales      Bacteroidaceae   \n",
       "147    Gammaproteobacteria      Pasteurellales     Pasteurellaceae   \n",
       "148                Bacilli     Lactobacillales    Streptococcaceae   \n",
       "149       Erysipelotrichia  Erysipelotrichales   Turicibacteraceae   \n",
       "\n",
       "              Genus                      Species  \n",
       "0       Actinomyces       Actinomyces_gaoshouyii  \n",
       "1     Lactobacillus  Lactobacillus_acetotolerans  \n",
       "2        Prevotella             Prevotella_copri  \n",
       "3     Campylobacter      Campylobacter_armoricus  \n",
       "4         Aeromonas  Aeromonas_allosaccharophila  \n",
       "..              ...                          ...  \n",
       "145       Neisseria           Neisseria_animalis  \n",
       "146     Bacteroides           Bacteroides_caccae  \n",
       "147  Actinobacillus  Actinobacillus_delphinicola  \n",
       "148   Streptococcus   Streptococcus_acidominimus  \n",
       "149    Turicibacter       Turicibacter_sanguinis  \n",
       "\n",
       "[150 rows x 5 columns]"
      ]
     },
     "execution_count": 66,
     "metadata": {},
     "output_type": "execute_result"
    }
   ],
   "source": [
    "bacterias_to_search.sp"
   ]
  },
  {
   "cell_type": "code",
   "execution_count": 27,
   "id": "f7d3c8d4-3f37-456f-b2ee-8f918d1f103d",
   "metadata": {
    "tags": []
   },
   "outputs": [],
   "source": [
    "#print(sp_cl_df[\"Species\"].tolist())\n",
    "#print(list_species)"
   ]
  },
  {
   "cell_type": "code",
   "execution_count": 145,
   "id": "88a8de8a-2fe9-46f0-85ae-601595cfd336",
   "metadata": {
    "tags": []
   },
   "outputs": [
    {
     "name": "stdout",
     "output_type": "stream",
     "text": [
      "{'Bacteroides', 'Morganella', 'Deinococcus', 'Lactobacillus', 'Klebsiella', 'endosymbiont', 'Saccharomonospora', 'Cronobacter', 'Parvimonas', 'Actinopolyspora', 'Kosakonia', 'Prevotella', 'Leptotrichia', 'Acidaminococcus', 'Actinobacillus', 'Streptococcus', 'Bifidobacterium', 'Pseudomonas', 'Gordonibacter', 'Clostridium', 'Bacillus', 'Lautropia', 'Cellulophaga', 'Alistipes', 'Slackia', 'Capnocytophaga', 'Collinsella', 'Ruminococcus', 'Raoultella', 'sp.', 'Providencia', 'Eikenella', 'Corynebacterium', 'Rothia', 'Eggerthella', 'Anaerostipes', 'Leuconostoc', 'Fusobacterium', 'Burkholderia', 'Turicibacter', 'Weissella', 'Scardovia', 'Eubacterium', 'Aggregatibacter', 'Staphylococcus', 'Actinomyces', 'Shewanella', 'Enterococcus', 'Lactococcus', 'Enterobacter', 'Veillonella', 'Gemella', 'Haemophilus', 'Plesiomonas', 'Helicobacter', 'Aeromonas', 'Selenomonas', 'Salmonella', 'Proteus', 'Campylobacter', 'Blautia', 'Neisseria'}\n",
      "62\n"
     ]
    }
   ],
   "source": [
    "baclist_299_model=[]\n",
    "for bac in bacterias_to_search.Species.tolist():\n",
    "    baclist_299_model.append(bac.split(\"_\")[0])\n",
    "print(set(bac_list))\n",
    "print(len(set(bac_list)))"
   ]
  },
  {
   "cell_type": "code",
   "execution_count": 37,
   "id": "a91da2a5-0dba-4d16-9ee6-dac0cdcf419d",
   "metadata": {},
   "outputs": [],
   "source": [
    "bacterias_to_search_sorted=bacterias_to_search"
   ]
  },
  {
   "cell_type": "code",
   "execution_count": 38,
   "id": "b0a6ef01-6588-4c72-bf32-f38a94dbc016",
   "metadata": {
    "tags": []
   },
   "outputs": [],
   "source": [
    "bacterias_to_search_sorted.sort()"
   ]
  },
  {
   "cell_type": "code",
   "execution_count": 40,
   "id": "900e6c27-e139-4134-9e17-80adbaaf8974",
   "metadata": {
    "tags": []
   },
   "outputs": [],
   "source": [
    "bacterias_to_search_sorted_sp=[srch_trm.split(\"--\") for srch_trm in bacterias_to_search_sorted]"
   ]
  },
  {
   "cell_type": "code",
   "execution_count": 81,
   "id": "84048f5e-42ad-4d36-a841-7206d6961645",
   "metadata": {
    "tags": []
   },
   "outputs": [],
   "source": [
    "#bacterias_to_search_sorted_sp"
   ]
  },
  {
   "cell_type": "code",
   "execution_count": 2,
   "id": "82f46ba1-bc75-487a-ab7d-77ebbd37f50d",
   "metadata": {
    "tags": []
   },
   "outputs": [],
   "source": [
    "import os"
   ]
  },
  {
   "cell_type": "code",
   "execution_count": 38,
   "id": "d4f006e1-c140-42d8-977e-bcab7565a1fb",
   "metadata": {},
   "outputs": [],
   "source": [
    "with open(\"/home/aberhe/Projects/SANTAL/ASLR/data/Veillonella_articles_found.txt\", \"r\") as f:\n",
    "    files_veillonella=f.readlines()\n",
    "#with open(\"/home/aberhe/Projects/SANTAL/ASLR/data/Veillonella_articles_found_exits.txt\", \"r\") as fw:\n",
    "list_files=[]\n",
    "for article in files_veillonella:#tqdm(files_veillonella):#(path_to_included_articles+'/'+signature)):\n",
    "    #articlePath=path_to_included_articles+'/'+signature+'/'+ article\n",
    "    articlePath=\"/data/projects/santal/data/PMC_Articles/oa_comm/xml/all/\"+article.split(\"/\")[-1].replace(\".txt\",\".xml\").replace(\"\\n\",\"\").strip()\n",
    "    #print(article.split(\"/\")[-1].replace(\".txt\",\".xml\"))\n",
    "    if os.path.exists(articlePath):\n",
    "        list_files.append(articlePath+'\\n')"
   ]
  },
  {
   "cell_type": "code",
   "execution_count": 39,
   "id": "09da8d26-933f-4d28-bba6-b46ab021797f",
   "metadata": {},
   "outputs": [
    {
     "data": {
      "text/plain": [
       "['/data/projects/santal/data/PMC_Articles/oa_comm/xml/all/PMC10000167.xml\\n',\n",
       " '/data/projects/santal/data/PMC_Articles/oa_comm/xml/all/PMC10000248.xml\\n',\n",
       " '/data/projects/santal/data/PMC_Articles/oa_comm/xml/all/PMC10000530.xml\\n']"
      ]
     },
     "execution_count": 39,
     "metadata": {},
     "output_type": "execute_result"
    }
   ],
   "source": [
    "list_files[0:3]"
   ]
  },
  {
   "cell_type": "code",
   "execution_count": 40,
   "id": "2b748c55-afd7-413b-aba1-71941fea9be8",
   "metadata": {
    "tags": []
   },
   "outputs": [],
   "source": [
    " with open(\"/home/aberhe/Projects/SANTAL/ASLR/data/Veillonella_articles_found_exits77.txt\", \"w\") as fw:\n",
    "        fw.writelines(list_files)"
   ]
  },
  {
   "cell_type": "code",
   "execution_count": 1,
   "id": "20380329-fae2-4741-8582-33050860b228",
   "metadata": {},
   "outputs": [
    {
     "data": {
      "text/plain": [
       "'CIRRHOSIS'"
      ]
     },
     "execution_count": 1,
     "metadata": {},
     "output_type": "execute_result"
    }
   ],
   "source": [
    "\"cirrhosis\".upper()"
   ]
  },
  {
   "cell_type": "code",
   "execution_count": 2,
   "id": "1c386c5a-f3d3-4092-bd5e-77ffcd284b5c",
   "metadata": {
    "tags": []
   },
   "outputs": [],
   "source": [
    "import pandas as pd"
   ]
  },
  {
   "cell_type": "code",
   "execution_count": 137,
   "id": "62d27fab-7d28-457f-955c-672648115a77",
   "metadata": {},
   "outputs": [],
   "source": [
    "df=pd.read_csv(\"/home/aberhe/Projects/SANTAL/ASLR/data/Bacteria_to_search_with_higher_taxonomy.csv\")"
   ]
  },
  {
   "cell_type": "code",
   "execution_count": 138,
   "id": "72ee4b2b-dee0-4f3c-a8b8-8f8f9a5c5623",
   "metadata": {
    "tags": []
   },
   "outputs": [],
   "source": [
    "lis_sp=df.Species.tolist()"
   ]
  },
  {
   "cell_type": "code",
   "execution_count": 139,
   "id": "e63b61fc-f804-4fd3-8614-066f8a4c49f2",
   "metadata": {
    "tags": []
   },
   "outputs": [
    {
     "data": {
      "text/plain": [
       "150"
      ]
     },
     "execution_count": 139,
     "metadata": {},
     "output_type": "execute_result"
    }
   ],
   "source": [
    "len(lis_sp)"
   ]
  },
  {
   "cell_type": "code",
   "execution_count": 141,
   "id": "77201e8c-4fd6-4ea2-8f2c-1d4c5085df7e",
   "metadata": {
    "tags": []
   },
   "outputs": [
    {
     "name": "stdout",
     "output_type": "stream",
     "text": [
      "Selenomonas_ruminantium\n"
     ]
    }
   ],
   "source": [
    "for sp in lis_sp:\n",
    "    if \"ruminantium\" in sp:\n",
    "        print(sp)"
   ]
  },
  {
   "cell_type": "code",
   "execution_count": 71,
   "id": "80142875-89fd-4a20-8adb-205b8e264f1e",
   "metadata": {
    "tags": []
   },
   "outputs": [],
   "source": [
    "lis_sp_sp=[sp.split(\"_\") for sp in lis_sp if len(sp.split(\"_\"))<=2]"
   ]
  },
  {
   "cell_type": "code",
   "execution_count": 72,
   "id": "6eae50af-999f-408c-a4dd-9a7755977270",
   "metadata": {
    "tags": []
   },
   "outputs": [],
   "source": [
    "lis_sp_sp_beg=[sp[1] for sp in lis_sp_sp]\n",
    "lis_sp_sp_begFam=[sp[0] for sp in lis_sp_sp]"
   ]
  },
  {
   "cell_type": "code",
   "execution_count": 73,
   "id": "f8cf44c1-1c89-4fd7-b6ca-797191d5d8fb",
   "metadata": {
    "tags": []
   },
   "outputs": [
    {
     "data": {
      "text/plain": [
       "(58, 144, 59, 144)"
      ]
     },
     "execution_count": 73,
     "metadata": {},
     "output_type": "execute_result"
    }
   ],
   "source": [
    "len(set(lis_sp_sp_beg)),len(lis_sp_sp),len(set(lis_sp_sp_begFam)),len(lis_sp_sp_begFam)"
   ]
  },
  {
   "cell_type": "code",
   "execution_count": 95,
   "id": "456aecd0-3518-4720-83d8-817c9cae007f",
   "metadata": {
    "tags": []
   },
   "outputs": [],
   "source": [
    "countList=set(lis_sp_sp_begFam)"
   ]
  },
  {
   "cell_type": "code",
   "execution_count": 96,
   "id": "d8e4c2cc-7929-444a-9fc1-5c7ccd4b07e1",
   "metadata": {
    "tags": []
   },
   "outputs": [],
   "source": [
    "dic={}\n",
    "countLess2=[]\n",
    "for sp in countList:\n",
    "    #print(sp)\n",
    "    dic[sp]=lis_sp_sp_begFam.count(sp)\n",
    "    if lis_sp_sp_begFam.count(sp)<=2:\n",
    "        countLess2.append(sp)"
   ]
  },
  {
   "cell_type": "code",
   "execution_count": 76,
   "id": "256ed207-19de-44cf-b809-9509be14ce3c",
   "metadata": {
    "tags": []
   },
   "outputs": [
    {
     "data": {
      "text/plain": [
       "4"
      ]
     },
     "execution_count": 76,
     "metadata": {},
     "output_type": "execute_result"
    }
   ],
   "source": [
    "lis_sp_sp_beg.count(lis_sp_sp_beg[0])"
   ]
  },
  {
   "cell_type": "code",
   "execution_count": 40,
   "id": "cfd1a48c-5587-4fba-9aba-52eedc6cea5a",
   "metadata": {
    "tags": []
   },
   "outputs": [
    {
     "data": {
      "text/plain": [
       "'gaoshouyii'"
      ]
     },
     "execution_count": 40,
     "metadata": {},
     "output_type": "execute_result"
    }
   ],
   "source": [
    "lis_sp_sp_beg[0]"
   ]
  },
  {
   "cell_type": "code",
   "execution_count": 56,
   "id": "eec85ab2-fecc-4c22-a508-704980c842d4",
   "metadata": {
    "tags": []
   },
   "outputs": [
    {
     "data": {
      "text/plain": [
       "44"
      ]
     },
     "execution_count": 56,
     "metadata": {},
     "output_type": "execute_result"
    }
   ],
   "source": [
    "len(countLess2)"
   ]
  },
  {
   "cell_type": "code",
   "execution_count": 67,
   "id": "d38bd1e4-9b3d-4cec-a64c-1bd9ff11d2d7",
   "metadata": {
    "tags": []
   },
   "outputs": [
    {
     "ename": "NameError",
     "evalue": "name 'countLess2' is not defined",
     "output_type": "error",
     "traceback": [
      "\u001b[0;31m---------------------------------------------------------------------------\u001b[0m",
      "\u001b[0;31mNameError\u001b[0m                                 Traceback (most recent call last)",
      "Cell \u001b[0;32mIn[67], line 1\u001b[0m\n\u001b[0;32m----> 1\u001b[0m \u001b[38;5;28mlen\u001b[39m(\u001b[43mcountLess2\u001b[49m)\n",
      "\u001b[0;31mNameError\u001b[0m: name 'countLess2' is not defined"
     ]
    }
   ],
   "source": [
    "len(countLess2)"
   ]
  },
  {
   "cell_type": "code",
   "execution_count": 97,
   "id": "990da270-18ec-47d6-bdcb-539672808e2a",
   "metadata": {
    "tags": []
   },
   "outputs": [
    {
     "data": {
      "text/plain": [
       "{'Bacteroides': 4,\n",
       " 'Morganella': 1,\n",
       " 'Deinococcus': 1,\n",
       " 'Lactobacillus': 17,\n",
       " 'Klebsiella': 2,\n",
       " 'Saccharomonospora': 1,\n",
       " 'Cronobacter': 1,\n",
       " 'Parvimonas': 1,\n",
       " 'Actinopolyspora': 1,\n",
       " 'Kosakonia': 1,\n",
       " 'Prevotella': 9,\n",
       " 'Leptotrichia': 2,\n",
       " 'Acidaminococcus': 1,\n",
       " 'Actinobacillus': 1,\n",
       " 'Streptococcus': 16,\n",
       " 'Bifidobacterium': 3,\n",
       " 'Gordonibacter': 1,\n",
       " 'Clostridium': 10,\n",
       " 'Bacillus': 3,\n",
       " 'Lautropia': 1,\n",
       " 'Cellulophaga': 1,\n",
       " 'Alistipes': 1,\n",
       " 'Slackia': 1,\n",
       " 'Capnocytophaga': 1,\n",
       " 'Collinsella': 1,\n",
       " 'Ruminococcus': 2,\n",
       " 'Raoultella': 1,\n",
       " 'Providencia': 1,\n",
       " 'Eikenella': 1,\n",
       " 'Corynebacterium': 1,\n",
       " 'Rothia': 4,\n",
       " 'Eggerthella': 1,\n",
       " 'Anaerostipes': 1,\n",
       " 'Leuconostoc': 1,\n",
       " 'Fusobacterium': 2,\n",
       " 'Burkholderia': 1,\n",
       " 'Turicibacter': 1,\n",
       " 'Weissella': 1,\n",
       " 'Scardovia': 1,\n",
       " 'Eubacterium': 2,\n",
       " 'Aggregatibacter': 3,\n",
       " 'Staphylococcus': 1,\n",
       " 'Actinomyces': 4,\n",
       " 'Shewanella': 1,\n",
       " 'Enterococcus': 2,\n",
       " 'Lactococcus': 2,\n",
       " 'Enterobacter': 1,\n",
       " 'Veillonella': 3,\n",
       " 'Gemella': 2,\n",
       " 'Haemophilus': 4,\n",
       " 'Plesiomonas': 1,\n",
       " 'Helicobacter': 1,\n",
       " 'Aeromonas': 2,\n",
       " 'Selenomonas': 1,\n",
       " 'Salmonella': 1,\n",
       " 'Proteus': 2,\n",
       " 'Campylobacter': 4,\n",
       " 'Blautia': 2,\n",
       " 'Neisseria': 4}"
      ]
     },
     "execution_count": 97,
     "metadata": {},
     "output_type": "execute_result"
    }
   ],
   "source": [
    "dic"
   ]
  },
  {
   "cell_type": "code",
   "execution_count": 98,
   "id": "decbc516-7c5c-4c00-93e9-24127f37ed12",
   "metadata": {
    "tags": []
   },
   "outputs": [],
   "source": [
    "bacs_lis=[]\n",
    "for k, v in dic.items():\n",
    "    bacs_lis.append([k,v])"
   ]
  },
  {
   "cell_type": "code",
   "execution_count": 99,
   "id": "2afcdca4-192e-4919-b785-85b9968292e0",
   "metadata": {},
   "outputs": [],
   "source": [
    "df=pd.DataFrame(bacs_lis,columns=[\"name\",\"counts\"])"
   ]
  },
  {
   "cell_type": "code",
   "execution_count": 130,
   "id": "5aba86d9-f223-4494-a8f2-ba8161dfd3de",
   "metadata": {
    "tags": []
   },
   "outputs": [],
   "source": [
    "df_lastName=pd.read_csv(\"/home/aberhe/Projects/SANTAL/ASLR/data/Bacteria_to_search_last_names_with_counts.csv\")\n",
    "df_lastName=df_lastName.drop(columns=[\"Unnamed: 0\"])\n",
    "df_firstName=pd.read_csv(\"/home/aberhe/Projects/SANTAL/ASLR/data/Bacteria_to_search_first_names_with_counts.csv\")\n",
    "df_firstName=df_firstName.drop(columns=[\"Unnamed: 0\"])"
   ]
  },
  {
   "cell_type": "code",
   "execution_count": 109,
   "id": "74dba348-e4ce-48df-986e-c256fdd59a3f",
   "metadata": {
    "tags": []
   },
   "outputs": [
    {
     "data": {
      "text/plain": [
       "(59, 2)"
      ]
     },
     "execution_count": 109,
     "metadata": {},
     "output_type": "execute_result"
    }
   ],
   "source": [
    "df.shape"
   ]
  },
  {
   "cell_type": "code",
   "execution_count": 151,
   "id": "e93da9a8-98c6-4de2-a7d8-465605aa37a6",
   "metadata": {
    "tags": []
   },
   "outputs": [
    {
     "name": "stdout",
     "output_type": "stream",
     "text": [
      "Acidaminococcus\n",
      "Actinobacillus\n",
      "Actinomyces\n",
      "Actinopolyspora\n",
      "Aeromonas\n",
      "Aggregatibacter\n",
      "Alistipes\n",
      "Anaerostipes\n",
      "Bacillus\n",
      "Bacteroides\n",
      "Bifidobacterium\n",
      "Blautia\n",
      "Burkholderia\n",
      "Campylobacter\n",
      "Capnocytophaga\n",
      "Cellulophaga\n",
      "Clostridium\n",
      "Collinsella\n",
      "Corynebacterium\n",
      "Cronobacter\n",
      "Deinococcus\n",
      "Eggerthella\n",
      "Eikenella\n",
      "Enterobacter\n",
      "Enterococcus\n",
      "Eubacterium\n",
      "Fusobacterium\n",
      "Gemella\n",
      "Gordonibacter\n",
      "Haemophilus\n",
      "Helicobacter\n",
      "Klebsiella\n",
      "Kosakonia\n",
      "Lactobacillus\n",
      "Lactococcus\n",
      "Lautropia\n",
      "Leptotrichia\n",
      "Leuconostoc\n",
      "Morganella\n",
      "Neisseria\n",
      "Parvimonas\n",
      "Plesiomonas\n",
      "Prevotella\n",
      "Proteus\n",
      "Providencia\n",
      "Raoultella\n",
      "Rothia\n",
      "Ruminococcus\n",
      "Saccharomonospora\n",
      "Salmonella\n",
      "Scardovia\n",
      "Selenomonas\n",
      "Shewanella\n",
      "Slackia\n",
      "Staphylococcus\n",
      "Streptococcus\n",
      "Turicibacter\n",
      "Veillonella\n",
      "Weissella\n"
     ]
    }
   ],
   "source": [
    "for species in df_firstName.sort_values(\"name\").name.tolist():\n",
    "    pattern=species\n",
    "    print(pattern)"
   ]
  },
  {
   "cell_type": "code",
   "execution_count": 143,
   "id": "e4a1f230-40ba-4d7f-a016-8119423ffe45",
   "metadata": {
    "tags": []
   },
   "outputs": [
    {
     "data": {
      "text/plain": [
       "0           Bacteroides\n",
       "1            Morganella\n",
       "2           Deinococcus\n",
       "3         Lactobacillus\n",
       "4            Klebsiella\n",
       "5     Saccharomonospora\n",
       "6           Cronobacter\n",
       "7            Parvimonas\n",
       "8       Actinopolyspora\n",
       "9             Kosakonia\n",
       "10           Prevotella\n",
       "11         Leptotrichia\n",
       "12      Acidaminococcus\n",
       "13       Actinobacillus\n",
       "14        Streptococcus\n",
       "15      Bifidobacterium\n",
       "16        Gordonibacter\n",
       "17          Clostridium\n",
       "18             Bacillus\n",
       "19            Lautropia\n",
       "20         Cellulophaga\n",
       "21            Alistipes\n",
       "22              Slackia\n",
       "23       Capnocytophaga\n",
       "24          Collinsella\n",
       "25         Ruminococcus\n",
       "26           Raoultella\n",
       "27          Providencia\n",
       "28            Eikenella\n",
       "29      Corynebacterium\n",
       "30               Rothia\n",
       "31          Eggerthella\n",
       "32         Anaerostipes\n",
       "33          Leuconostoc\n",
       "34        Fusobacterium\n",
       "35         Burkholderia\n",
       "36         Turicibacter\n",
       "37            Weissella\n",
       "38            Scardovia\n",
       "39          Eubacterium\n",
       "40      Aggregatibacter\n",
       "41       Staphylococcus\n",
       "42          Actinomyces\n",
       "43           Shewanella\n",
       "44         Enterococcus\n",
       "45          Lactococcus\n",
       "46         Enterobacter\n",
       "47          Veillonella\n",
       "48              Gemella\n",
       "49          Haemophilus\n",
       "50          Plesiomonas\n",
       "51         Helicobacter\n",
       "52            Aeromonas\n",
       "53          Selenomonas\n",
       "54           Salmonella\n",
       "55              Proteus\n",
       "56        Campylobacter\n",
       "57              Blautia\n",
       "58            Neisseria\n",
       "Name: name, dtype: object"
      ]
     },
     "execution_count": 143,
     "metadata": {},
     "output_type": "execute_result"
    }
   ],
   "source": [
    "df_firstName.name"
   ]
  },
  {
   "cell_type": "code",
   "execution_count": null,
   "id": "0e0f9a2c-58c9-473c-b980-25b21a593268",
   "metadata": {},
   "outputs": [],
   "source": [
    "bacterias_to_search"
   ]
  },
  {
   "cell_type": "code",
   "execution_count": 128,
   "id": "4985a656-fd96-4537-afe9-b8bf91adf26f",
   "metadata": {
    "tags": []
   },
   "outputs": [
    {
     "name": "stdout",
     "output_type": "stream",
     "text": [
      "['Enterobacteriaceae', 'endosymbiont', 'of', 'Donacia', 'bicoloricornis']\n",
      "['Dysgonomonas', 'sp.', 'HDW5A']\n",
      "['Pusillimonas', 'sp.', 'DMV24BSW', 'D']\n",
      "['Candidatus', 'Pseudomonas', 'adelgestsugas']\n",
      "['Alloprevotella', 'sp.', 'E39']\n",
      "['Alloprevotella', 'sp.', 'E39']\n"
     ]
    }
   ],
   "source": [
    "bac_list=[]\n",
    "for bacteria in bacterias_to_search[\"Species\"].tolist():\n",
    "    #print(\"Bacteria: {}\".format(bacteria))\n",
    "    #print()\n",
    "    species_splt=bacteria.split(\"_\")\n",
    "    if len(species_splt)>2:\n",
    "        print(species_splt)\n",
    "        bacteria_name= species_splt[1]\n",
    "    else:\n",
    "        bacteria_name= species_splt[0]\n",
    "    bac_list.append(bacteria_name)"
   ]
  },
  {
   "cell_type": "code",
   "execution_count": 120,
   "id": "75f5baa9-396d-4688-bd4d-f552b2529e15",
   "metadata": {
    "tags": []
   },
   "outputs": [
    {
     "data": {
      "text/plain": [
       "150"
      ]
     },
     "execution_count": 120,
     "metadata": {},
     "output_type": "execute_result"
    }
   ],
   "source": [
    "len(bac_list)"
   ]
  },
  {
   "cell_type": "code",
   "execution_count": 129,
   "id": "8deda0ee-acbf-47f4-8d0e-8963deeeed61",
   "metadata": {
    "tags": []
   },
   "outputs": [
    {
     "data": {
      "text/plain": [
       "{'Acidaminococcus',\n",
       " 'Actinobacillus',\n",
       " 'Actinomyces',\n",
       " 'Actinopolyspora',\n",
       " 'Aeromonas',\n",
       " 'Aggregatibacter',\n",
       " 'Alistipes',\n",
       " 'Anaerostipes',\n",
       " 'Bacillus',\n",
       " 'Bacteroides',\n",
       " 'Bifidobacterium',\n",
       " 'Blautia',\n",
       " 'Burkholderia',\n",
       " 'Campylobacter',\n",
       " 'Capnocytophaga',\n",
       " 'Cellulophaga',\n",
       " 'Clostridium',\n",
       " 'Collinsella',\n",
       " 'Corynebacterium',\n",
       " 'Cronobacter',\n",
       " 'Deinococcus',\n",
       " 'Eggerthella',\n",
       " 'Eikenella',\n",
       " 'Enterobacter',\n",
       " 'Enterococcus',\n",
       " 'Eubacterium',\n",
       " 'Fusobacterium',\n",
       " 'Gemella',\n",
       " 'Gordonibacter',\n",
       " 'Haemophilus',\n",
       " 'Helicobacter',\n",
       " 'Klebsiella',\n",
       " 'Kosakonia',\n",
       " 'Lactobacillus',\n",
       " 'Lactococcus',\n",
       " 'Lautropia',\n",
       " 'Leptotrichia',\n",
       " 'Leuconostoc',\n",
       " 'Morganella',\n",
       " 'Neisseria',\n",
       " 'Parvimonas',\n",
       " 'Plesiomonas',\n",
       " 'Prevotella',\n",
       " 'Proteus',\n",
       " 'Providencia',\n",
       " 'Pseudomonas',\n",
       " 'Raoultella',\n",
       " 'Rothia',\n",
       " 'Ruminococcus',\n",
       " 'Saccharomonospora',\n",
       " 'Salmonella',\n",
       " 'Scardovia',\n",
       " 'Selenomonas',\n",
       " 'Shewanella',\n",
       " 'Slackia',\n",
       " 'Staphylococcus',\n",
       " 'Streptococcus',\n",
       " 'Turicibacter',\n",
       " 'Veillonella',\n",
       " 'Weissella',\n",
       " 'endosymbiont',\n",
       " 'sp.'}"
      ]
     },
     "execution_count": 129,
     "metadata": {},
     "output_type": "execute_result"
    }
   ],
   "source": [
    "set(bac_list)"
   ]
  },
  {
   "cell_type": "code",
   "execution_count": null,
   "id": "ac0289a7-7d75-46d0-82d0-27f7e826d011",
   "metadata": {},
   "outputs": [],
   "source": []
  }
 ],
 "metadata": {
  "kernelspec": {
   "display_name": "Python 3 (ipykernel)",
   "language": "python",
   "name": "python3"
  },
  "language_info": {
   "codemirror_mode": {
    "name": "ipython",
    "version": 3
   },
   "file_extension": ".py",
   "mimetype": "text/x-python",
   "name": "python",
   "nbconvert_exporter": "python",
   "pygments_lexer": "ipython3",
   "version": "3.10.12"
  }
 },
 "nbformat": 4,
 "nbformat_minor": 5
}
