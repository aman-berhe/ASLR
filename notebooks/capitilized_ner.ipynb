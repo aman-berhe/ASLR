{
 "cells": [
  {
   "cell_type": "code",
   "execution_count": 1,
   "id": "9b213b49-66b9-436d-800e-6f4023822aa3",
   "metadata": {},
   "outputs": [],
   "source": [
    "import os\n",
    "import sys\n",
    "import pandas as pd\n",
    "import matplotlib.pyplot as plt"
   ]
  },
  {
   "cell_type": "code",
   "execution_count": 2,
   "id": "fbce9991-a9c1-4917-a963-213982dd8e4f",
   "metadata": {},
   "outputs": [],
   "source": [
    "import datasets"
   ]
  },
  {
   "cell_type": "code",
   "execution_count": 3,
   "id": "814a253d",
   "metadata": {},
   "outputs": [],
   "source": [
    "sys.path.append(\"/home/aberhe/Projects/SANTAL/ASLR/src/\")"
   ]
  },
  {
   "cell_type": "code",
   "execution_count": 4,
   "id": "49f3f35f",
   "metadata": {},
   "outputs": [
    {
     "name": "stderr",
     "output_type": "stream",
     "text": [
      "2023-10-11 15:39:20.613781: I tensorflow/core/platform/cpu_feature_guard.cc:182] This TensorFlow binary is optimized to use available CPU instructions in performance-critical operations.\n",
      "To enable the following instructions: AVX2 FMA, in other operations, rebuild TensorFlow with the appropriate compiler flags.\n",
      "2023-10-11 15:39:21.454257: W tensorflow/compiler/tf2tensorrt/utils/py_utils.cc:38] TF-TRT Warning: Could not find TensorRT\n"
     ]
    }
   ],
   "source": [
    "import model_ner as ner_model"
   ]
  },
  {
   "cell_type": "code",
   "execution_count": 60,
   "id": "b46c4be7-03e5-44f9-9553-33353b25fc90",
   "metadata": {},
   "outputs": [],
   "source": [
    "datasets_path=\"/home/aberhe/Projects/SANTAL/ASLR/data/ner/Species_linnaeus_dataset_ner/\"\n",
    "#the path to the dataset, make sure your dataset have the \"tokens\" and \"ner_token_tags\" columns or you should specify the column names you want inside the code\n",
    "#model_name should have a format \"model_name/model_name\" e.g. \"AliBERT/AliBERT\" which is a folder/model folder name\n",
    "#tokenizer_name should have a format \"tokenizer_name/tokenizer_name\" e.g. \"AliBERT/AliBERT\" which is a folder/tokenizer folder name\n"
   ]
  },
  {
   "cell_type": "code",
   "execution_count": 61,
   "id": "df39e427",
   "metadata": {},
   "outputs": [],
   "source": [
    "dataset=datasets.load_from_disk(dataset_path=datasets_path)"
   ]
  },
  {
   "cell_type": "code",
   "execution_count": 42,
   "id": "77687b1a",
   "metadata": {},
   "outputs": [],
   "source": [
    "args={\"model_name\":\"allenai/scibert_scivocab_uncased\",\n",
    "      \"tokenizer_name\":\"allenai/scibert_scivocab_uncased\",\n",
    "      \"entity_type\":\"Species\",\n",
    "      \"entity_list\":[\"O\",\"B-Disease\",\"I-Disease\"]}"
   ]
  },
  {
   "cell_type": "code",
   "execution_count": 8,
   "id": "679a5ab1",
   "metadata": {},
   "outputs": [],
   "source": [
    "label2Index={e:i for i,e in enumerate(args[\"entity_list\"])}\n",
    "index2Label={i:e for i,e in enumerate(args[\"entity_list\"])}"
   ]
  },
  {
   "cell_type": "code",
   "execution_count": 9,
   "id": "6a2f7415",
   "metadata": {},
   "outputs": [
    {
     "data": {
      "text/plain": [
       "{0: 'O', 1: 'B', 2: 'I'}"
      ]
     },
     "execution_count": 9,
     "metadata": {},
     "output_type": "execute_result"
    }
   ],
   "source": [
    "index2Label"
   ]
  },
  {
   "cell_type": "code",
   "execution_count": 10,
   "id": "24289d38",
   "metadata": {},
   "outputs": [
    {
     "data": {
      "text/plain": [
       "{'O': 0, 'B': 1, 'I': 2}"
      ]
     },
     "execution_count": 10,
     "metadata": {},
     "output_type": "execute_result"
    }
   ],
   "source": [
    "label2Index"
   ]
  },
  {
   "cell_type": "code",
   "execution_count": 62,
   "id": "50e40e31",
   "metadata": {},
   "outputs": [
    {
     "data": {
      "text/plain": [
       "DatasetDict({\n",
       "    train: Dataset({\n",
       "        features: ['tokens', 'ner_tags'],\n",
       "        num_rows: 11935\n",
       "    })\n",
       "    valid: Dataset({\n",
       "        features: ['tokens', 'ner_tags'],\n",
       "        num_rows: 4078\n",
       "    })\n",
       "    test: Dataset({\n",
       "        features: ['tokens', 'ner_tags'],\n",
       "        num_rows: 7142\n",
       "    })\n",
       "})"
      ]
     },
     "execution_count": 62,
     "metadata": {},
     "output_type": "execute_result"
    }
   ],
   "source": [
    "dataset"
   ]
  },
  {
   "cell_type": "code",
   "execution_count": 67,
   "id": "6d5429ab",
   "metadata": {},
   "outputs": [
    {
     "name": "stdout",
     "output_type": "stream",
     "text": [
      "['Scp160p', 'is', 'a', '160', 'kDa', 'protein', 'in', 'the', 'yeast', 'Saccharomyces', 'cerevisiae', 'that', 'contains', '14', 'repeats', 'of', 'the', 'hnRNP', 'K', '-', 'homology', '(KH)', 'domain', ',', 'and', 'demonstrates', 'significant', 'sequence', 'homology', 'to', 'a', 'family', 'of', 'proteins', 'collectively', 'known', 'as', 'vigilins', '.']\n"
     ]
    }
   ],
   "source": [
    "print(dataset[\"train\"][2][\"tokens\"])"
   ]
  },
  {
   "cell_type": "code",
   "execution_count": 66,
   "id": "1c598ec2",
   "metadata": {},
   "outputs": [
    {
     "name": "stdout",
     "output_type": "stream",
     "text": [
      "['O\\n', 'O\\n', 'O\\n', 'O\\n', 'O\\n', 'O\\n', 'O\\n', 'O\\n', 'B\\n', 'B\\n', 'I\\n', 'O\\n', 'O\\n', 'O\\n', 'O\\n', 'O\\n', 'O\\n', 'O\\n', 'O\\n', 'O\\n', 'O\\n', 'O\\n', 'O\\n', 'O\\n', 'O\\n', 'O\\n', 'O\\n', 'O\\n', 'O\\n', 'O\\n', 'O\\n', 'O\\n', 'O\\n', 'O\\n', 'O\\n', 'O\\n', 'O\\n', 'O\\n', 'O\\n']\n"
     ]
    }
   ],
   "source": [
    "print(dataset[\"train\"][2][\"ner_tags\"])"
   ]
  },
  {
   "cell_type": "code",
   "execution_count": 15,
   "id": "5dbdcc42",
   "metadata": {},
   "outputs": [
    {
     "data": {
      "text/plain": [
       "5424"
      ]
     },
     "execution_count": 15,
     "metadata": {},
     "output_type": "execute_result"
    }
   ],
   "source": [
    "len(dataset[\"train\"])"
   ]
  },
  {
   "cell_type": "code",
   "execution_count": 17,
   "id": "16ada8df",
   "metadata": {},
   "outputs": [
    {
     "name": "stdout",
     "output_type": "stream",
     "text": [
      "['Identification', 'of', 'APC2', ',', 'a', 'homologue', 'of', 'the', 'adenomatous', 'polyposis', 'coli', 'tumour', 'suppressor', '.']\n",
      "['O\\n', 'O\\n', 'O\\n', 'O\\n', 'O\\n', 'O\\n', 'O\\n', 'O\\n', 'B-Disease\\n', 'I-Disease\\n', 'I-Disease\\n', 'I-Disease\\n', 'O\\n', 'O\\n']\n"
     ]
    }
   ],
   "source": [
    "print(dataset['train'][0][\"tokens\"])\n",
    "print(dataset['train'][0][\"ner_tags\"])"
   ]
  },
  {
   "cell_type": "code",
   "execution_count": null,
   "id": "fdd8361b",
   "metadata": {},
   "outputs": [],
   "source": []
  },
  {
   "cell_type": "code",
   "execution_count": 28,
   "id": "b226bb88",
   "metadata": {},
   "outputs": [],
   "source": [
    "entity_list=['O',\"B-Disease\",\"I-Disease\"]\n",
    "label2Index={e:i for i,e in enumerate(entity_list)}\n",
    "index2Label={i:e for i,e in enumerate(entity_list)}"
   ]
  },
  {
   "cell_type": "code",
   "execution_count": 24,
   "id": "b3f9252b",
   "metadata": {},
   "outputs": [
    {
     "data": {
      "text/plain": [
       "{0: 'O', 1: 'B-Disease', 2: 'I-B-Disease'}"
      ]
     },
     "execution_count": 24,
     "metadata": {},
     "output_type": "execute_result"
    }
   ],
   "source": [
    "index2Label"
   ]
  },
  {
   "cell_type": "code",
   "execution_count": 25,
   "id": "8d228219",
   "metadata": {},
   "outputs": [],
   "source": [
    "from tqdm import tqdm"
   ]
  },
  {
   "cell_type": "code",
   "execution_count": 4,
   "id": "8c009d2c",
   "metadata": {},
   "outputs": [],
   "source": [
    "def change_labels2Int(dataset,label2Index,split_name=[\"train\",\"valid\",\"test\"]):\n",
    "    dataset_list=[]\n",
    "    for name in tqdm(split_name):\n",
    "        labels=[]\n",
    "        for i in range(len(dataset[name])):\n",
    "            lbls=[]\n",
    "            for j in range(len(dataset[name][i][\"ner_tags\"])):\n",
    "                #print(dataset[\"train\"][i][\"ner_tags\"][j].reaplace())\n",
    "                lbls.append(label2Index[dataset[name][i][\"ner_tags\"][j].replace(\"\\n\",\"\")])\n",
    "                #dataset[\"train\"][i][\"ner_tokens_tags\"][j]=label2Index[dataset[\"train\"][i][\"ner_tags\"][j].replace(\"\\n\",\"\")]\n",
    "            labels.append(lbls)\n",
    "        dataset_list.append(dataset[name].add_column(\"ner_token_tags\",labels))\n",
    "    print(len(dataset_list))\n",
    "    ds=datasets.DatasetDict({\"train\":dataset_list[0],\"valid\":dataset_list[1],\"test\":dataset_list[2]})\n",
    "    return ds "
   ]
  },
  {
   "cell_type": "code",
   "execution_count": 30,
   "id": "7d62d2bd",
   "metadata": {},
   "outputs": [
    {
     "name": "stderr",
     "output_type": "stream",
     "text": [
      "100%|██████████| 3/3 [00:11<00:00,  3.84s/it]"
     ]
    },
    {
     "name": "stdout",
     "output_type": "stream",
     "text": [
      "3\n"
     ]
    },
    {
     "name": "stderr",
     "output_type": "stream",
     "text": [
      "\n"
     ]
    }
   ],
   "source": [
    "ds=change_labels2Int(dataset=dataset,label2Index=label2Index)"
   ]
  },
  {
   "cell_type": "code",
   "execution_count": 31,
   "id": "ec311f15",
   "metadata": {},
   "outputs": [
    {
     "data": {
      "text/plain": [
       "DatasetDict({\n",
       "    train: Dataset({\n",
       "        features: ['tokens', 'ner_tags', 'ner_token_tags'],\n",
       "        num_rows: 5424\n",
       "    })\n",
       "    valid: Dataset({\n",
       "        features: ['tokens', 'ner_tags', 'ner_token_tags'],\n",
       "        num_rows: 923\n",
       "    })\n",
       "    test: Dataset({\n",
       "        features: ['tokens', 'ner_tags', 'ner_token_tags'],\n",
       "        num_rows: 940\n",
       "    })\n",
       "})"
      ]
     },
     "execution_count": 31,
     "metadata": {},
     "output_type": "execute_result"
    }
   ],
   "source": [
    "ds"
   ]
  },
  {
   "cell_type": "code",
   "execution_count": 85,
   "id": "3e714449",
   "metadata": {},
   "outputs": [
    {
     "data": {
      "text/plain": [
       "datasets.arrow_dataset.Dataset"
      ]
     },
     "execution_count": 85,
     "metadata": {},
     "output_type": "execute_result"
    }
   ],
   "source": [
    "type(dataset_train)"
   ]
  },
  {
   "cell_type": "code",
   "execution_count": 86,
   "id": "784cb724",
   "metadata": {},
   "outputs": [],
   "source": [
    "species_dataset1=datasets.DatasetDict({\"train\":dataset_train,\"valid\":dataset_valid,\"test\":dataset_test})"
   ]
  },
  {
   "cell_type": "code",
   "execution_count": 91,
   "id": "090d5a2c",
   "metadata": {},
   "outputs": [
    {
     "name": "stdout",
     "output_type": "stream",
     "text": [
      "[1, 2, 0, 0, 0, 0, 0, 0, 0, 0, 0, 0, 0, 0, 0, 0, 0]\n"
     ]
    }
   ],
   "source": [
    "print(species_dataset[\"train\"][0][\"ner_token_tags\"])"
   ]
  },
  {
   "cell_type": "code",
   "execution_count": 90,
   "id": "a6186f7f",
   "metadata": {},
   "outputs": [
    {
     "name": "stdout",
     "output_type": "stream",
     "text": [
      "['B\\n', 'I\\n', 'O\\n', 'O\\n', 'O\\n', 'O\\n', 'O\\n', 'O\\n', 'O\\n', 'O\\n', 'O\\n', 'O\\n', 'O\\n', 'O\\n', 'O\\n', 'O\\n', 'O\\n']\n"
     ]
    }
   ],
   "source": [
    "print(species_dataset[\"train\"][0][\"ner_tags\"])"
   ]
  },
  {
   "cell_type": "code",
   "execution_count": 36,
   "id": "77e2f4f6",
   "metadata": {},
   "outputs": [
    {
     "data": {
      "application/vnd.jupyter.widget-view+json": {
       "model_id": "e55186368e9a4c00b8d14df707a67537",
       "version_major": 2,
       "version_minor": 0
      },
      "text/plain": [
       "Saving the dataset (0/1 shards):   0%|          | 0/5424 [00:00<?, ? examples/s]"
      ]
     },
     "metadata": {},
     "output_type": "display_data"
    },
    {
     "data": {
      "application/vnd.jupyter.widget-view+json": {
       "model_id": "8ca4ee502f6f4090a3ee08df4bae89b3",
       "version_major": 2,
       "version_minor": 0
      },
      "text/plain": [
       "Saving the dataset (0/1 shards):   0%|          | 0/923 [00:00<?, ? examples/s]"
      ]
     },
     "metadata": {},
     "output_type": "display_data"
    },
    {
     "data": {
      "application/vnd.jupyter.widget-view+json": {
       "model_id": "8c3440bd0ac74fa4818570f5257fb2b7",
       "version_major": 2,
       "version_minor": 0
      },
      "text/plain": [
       "Saving the dataset (0/1 shards):   0%|          | 0/940 [00:00<?, ? examples/s]"
      ]
     },
     "metadata": {},
     "output_type": "display_data"
    }
   ],
   "source": [
    "ds.save_to_disk(\"/home/aberhe/Projects/SANTAL/ASLR/data/ner/Disease_NCBI-disease_dataset_ner_cleaned\")"
   ]
  },
  {
   "cell_type": "code",
   "execution_count": 43,
   "id": "4d3041c8-1542-4d99-832f-f2c2a25381d0",
   "metadata": {},
   "outputs": [],
   "source": [
    "### Initializing the NER class with the model, tokenizer, list of entities\n",
    "args[\"model_name\"]=\"microsoft/BiomedNLP-PubMedBERT-base-uncased-abstract-fulltext\"\n",
    "args[\"tokenizer\"]=\"microsoft/BiomedNLP-PubMedBERT-base-uncased-abstract-fulltext\"\n",
    "args[\"entity_list\"]=entity_list"
   ]
  },
  {
   "cell_type": "code",
   "execution_count": 44,
   "id": "6f5e8e81-9848-4bab-ad52-1e23cda1488f",
   "metadata": {},
   "outputs": [
    {
     "name": "stdout",
     "output_type": "stream",
     "text": [
      "microsoft/BiomedNLP-PubMedBERT-base-uncased-abstract-fulltext\n"
     ]
    },
    {
     "name": "stderr",
     "output_type": "stream",
     "text": [
      "Some weights of BertForTokenClassification were not initialized from the model checkpoint at microsoft/BiomedNLP-PubMedBERT-base-uncased-abstract-fulltext and are newly initialized: ['classifier.bias', 'classifier.weight']\n",
      "You should probably TRAIN this model on a down-stream task to be able to use it for predictions and inference.\n"
     ]
    }
   ],
   "source": [
    "nlp_ner=ner_model.AlibertForTokenClassification(model_name=args[\"model_name\"],tokenizer_name=args[\"tokenizer\"],list_entities=args[\"entity_list\"],train=True)"
   ]
  },
  {
   "cell_type": "code",
   "execution_count": 45,
   "id": "7fac75f9",
   "metadata": {},
   "outputs": [],
   "source": [
    "datasets_path=\"/home/aberhe/Projects/SANTAL/ASLR/data/ner/Disease_NCBI-disease_dataset_ner_cleaned\""
   ]
  },
  {
   "cell_type": "markdown",
   "id": "b9d47e1f-b014-4566-b422-18e836016be3",
   "metadata": {},
   "source": [
    "### Train the initialized ner model by passing the dataset path and saving mode (True will save the finetunned model)"
   ]
  },
  {
   "cell_type": "code",
   "execution_count": 46,
   "id": "38e648a4-32a7-4ab5-8350-dc9a6a7329fc",
   "metadata": {},
   "outputs": [
    {
     "data": {
      "application/vnd.jupyter.widget-view+json": {
       "model_id": "3aa8fdc1ddf64d9e837a3c644ea302c7",
       "version_major": 2,
       "version_minor": 0
      },
      "text/plain": [
       "Map:   0%|          | 0/5424 [00:00<?, ? examples/s]"
      ]
     },
     "metadata": {},
     "output_type": "display_data"
    },
    {
     "data": {
      "application/vnd.jupyter.widget-view+json": {
       "model_id": "2c7e0ff14ba7465e9c2c5f2d02527657",
       "version_major": 2,
       "version_minor": 0
      },
      "text/plain": [
       "Map:   0%|          | 0/923 [00:00<?, ? examples/s]"
      ]
     },
     "metadata": {},
     "output_type": "display_data"
    },
    {
     "data": {
      "application/vnd.jupyter.widget-view+json": {
       "model_id": "72ce4d4298ab4131b68329b020bb9f31",
       "version_major": 2,
       "version_minor": 0
      },
      "text/plain": [
       "Map:   0%|          | 0/940 [00:00<?, ? examples/s]"
      ]
     },
     "metadata": {},
     "output_type": "display_data"
    },
    {
     "name": "stderr",
     "output_type": "stream",
     "text": [
      "You're using a BertTokenizerFast tokenizer. Please note that with a fast tokenizer, using the `__call__` method is faster than using a method to encode the text followed by a call to the `pad` method to get a padded encoding.\n",
      "/opt/conda/lib/python3.11/site-packages/torch/nn/parallel/_functions.py:68: UserWarning: Was asked to gather along dimension 0, but all input tensors were scalars; will instead unsqueeze and return a vector.\n",
      "  warnings.warn('Was asked to gather along dimension 0, but all '\n"
     ]
    },
    {
     "data": {
      "text/html": [
       "\n",
       "    <div>\n",
       "      \n",
       "      <progress value='300' max='300' style='width:300px; height:20px; vertical-align: middle;'></progress>\n",
       "      [300/300 01:02, Epoch 1/2]\n",
       "    </div>\n",
       "    <table border=\"1\" class=\"dataframe\">\n",
       "  <thead>\n",
       " <tr style=\"text-align: left;\">\n",
       "      <th>Step</th>\n",
       "      <th>Training Loss</th>\n",
       "      <th>Validation Loss</th>\n",
       "      <th>O Precision</th>\n",
       "      <th>O Recall</th>\n",
       "      <th>O F1-score</th>\n",
       "      <th>O Support</th>\n",
       "      <th>I-disease Precision</th>\n",
       "      <th>I-disease Recall</th>\n",
       "      <th>I-disease F1-score</th>\n",
       "      <th>I-disease Support</th>\n",
       "      <th>B-disease Precision</th>\n",
       "      <th>B-disease Recall</th>\n",
       "      <th>B-disease F1-score</th>\n",
       "      <th>B-disease Support</th>\n",
       "      <th>Overall Accuracy</th>\n",
       "      <th>Macro Precision</th>\n",
       "      <th>Macro Recall</th>\n",
       "      <th>Macro F1-score</th>\n",
       "    </tr>\n",
       "  </thead>\n",
       "  <tbody>\n",
       "    <tr>\n",
       "      <td>50</td>\n",
       "      <td>0.138700</td>\n",
       "      <td>0.121173</td>\n",
       "      <td>0.648202</td>\n",
       "      <td>0.696242</td>\n",
       "      <td>0.671364</td>\n",
       "      <td>958.000000</td>\n",
       "      <td>0.880616</td>\n",
       "      <td>0.549679</td>\n",
       "      <td>0.676862</td>\n",
       "      <td>1248.000000</td>\n",
       "      <td>0.978268</td>\n",
       "      <td>0.994815</td>\n",
       "      <td>0.986472</td>\n",
       "      <td>23530.000000</td>\n",
       "      <td>0.962115</td>\n",
       "      <td>0.835695</td>\n",
       "      <td>0.746912</td>\n",
       "      <td>0.778233</td>\n",
       "    </tr>\n",
       "    <tr>\n",
       "      <td>100</td>\n",
       "      <td>0.090100</td>\n",
       "      <td>0.072982</td>\n",
       "      <td>0.743379</td>\n",
       "      <td>0.849687</td>\n",
       "      <td>0.792986</td>\n",
       "      <td>958.000000</td>\n",
       "      <td>0.884859</td>\n",
       "      <td>0.782051</td>\n",
       "      <td>0.830285</td>\n",
       "      <td>1248.000000</td>\n",
       "      <td>0.989974</td>\n",
       "      <td>0.990310</td>\n",
       "      <td>0.990142</td>\n",
       "      <td>23530.000000</td>\n",
       "      <td>0.974977</td>\n",
       "      <td>0.872737</td>\n",
       "      <td>0.874016</td>\n",
       "      <td>0.871138</td>\n",
       "    </tr>\n",
       "    <tr>\n",
       "      <td>150</td>\n",
       "      <td>0.053500</td>\n",
       "      <td>0.060745</td>\n",
       "      <td>0.816306</td>\n",
       "      <td>0.867432</td>\n",
       "      <td>0.841093</td>\n",
       "      <td>958.000000</td>\n",
       "      <td>0.938078</td>\n",
       "      <td>0.813301</td>\n",
       "      <td>0.871245</td>\n",
       "      <td>1248.000000</td>\n",
       "      <td>0.989634</td>\n",
       "      <td>0.994093</td>\n",
       "      <td>0.991859</td>\n",
       "      <td>23530.000000</td>\n",
       "      <td>0.980611</td>\n",
       "      <td>0.914673</td>\n",
       "      <td>0.891609</td>\n",
       "      <td>0.901399</td>\n",
       "    </tr>\n",
       "    <tr>\n",
       "      <td>200</td>\n",
       "      <td>0.053700</td>\n",
       "      <td>0.057711</td>\n",
       "      <td>0.826772</td>\n",
       "      <td>0.876827</td>\n",
       "      <td>0.851064</td>\n",
       "      <td>958.000000</td>\n",
       "      <td>0.913191</td>\n",
       "      <td>0.859776</td>\n",
       "      <td>0.885679</td>\n",
       "      <td>1248.000000</td>\n",
       "      <td>0.992185</td>\n",
       "      <td>0.992818</td>\n",
       "      <td>0.992501</td>\n",
       "      <td>23530.000000</td>\n",
       "      <td>0.982048</td>\n",
       "      <td>0.910716</td>\n",
       "      <td>0.909807</td>\n",
       "      <td>0.909748</td>\n",
       "    </tr>\n",
       "    <tr>\n",
       "      <td>250</td>\n",
       "      <td>0.032600</td>\n",
       "      <td>0.055740</td>\n",
       "      <td>0.838485</td>\n",
       "      <td>0.877871</td>\n",
       "      <td>0.857726</td>\n",
       "      <td>958.000000</td>\n",
       "      <td>0.898539</td>\n",
       "      <td>0.887019</td>\n",
       "      <td>0.892742</td>\n",
       "      <td>1248.000000</td>\n",
       "      <td>0.993107</td>\n",
       "      <td>0.991883</td>\n",
       "      <td>0.992494</td>\n",
       "      <td>23530.000000</td>\n",
       "      <td>0.982554</td>\n",
       "      <td>0.910043</td>\n",
       "      <td>0.918924</td>\n",
       "      <td>0.914321</td>\n",
       "    </tr>\n",
       "    <tr>\n",
       "      <td>300</td>\n",
       "      <td>0.038800</td>\n",
       "      <td>0.054723</td>\n",
       "      <td>0.845842</td>\n",
       "      <td>0.870564</td>\n",
       "      <td>0.858025</td>\n",
       "      <td>958.000000</td>\n",
       "      <td>0.909472</td>\n",
       "      <td>0.869391</td>\n",
       "      <td>0.888980</td>\n",
       "      <td>1248.000000</td>\n",
       "      <td>0.992104</td>\n",
       "      <td>0.993243</td>\n",
       "      <td>0.992673</td>\n",
       "      <td>23530.000000</td>\n",
       "      <td>0.982670</td>\n",
       "      <td>0.915806</td>\n",
       "      <td>0.911066</td>\n",
       "      <td>0.913226</td>\n",
       "    </tr>\n",
       "  </tbody>\n",
       "</table><p>"
      ],
      "text/plain": [
       "<IPython.core.display.HTML object>"
      ]
     },
     "metadata": {},
     "output_type": "display_data"
    },
    {
     "name": "stderr",
     "output_type": "stream",
     "text": [
      "/opt/conda/lib/python3.11/site-packages/torch/nn/parallel/_functions.py:68: UserWarning: Was asked to gather along dimension 0, but all input tensors were scalars; will instead unsqueeze and return a vector.\n",
      "  warnings.warn('Was asked to gather along dimension 0, but all '\n",
      "/opt/conda/lib/python3.11/site-packages/torch/nn/parallel/_functions.py:68: UserWarning: Was asked to gather along dimension 0, but all input tensors were scalars; will instead unsqueeze and return a vector.\n",
      "  warnings.warn('Was asked to gather along dimension 0, but all '\n",
      "/opt/conda/lib/python3.11/site-packages/torch/nn/parallel/_functions.py:68: UserWarning: Was asked to gather along dimension 0, but all input tensors were scalars; will instead unsqueeze and return a vector.\n",
      "  warnings.warn('Was asked to gather along dimension 0, but all '\n",
      "/opt/conda/lib/python3.11/site-packages/torch/nn/parallel/_functions.py:68: UserWarning: Was asked to gather along dimension 0, but all input tensors were scalars; will instead unsqueeze and return a vector.\n",
      "  warnings.warn('Was asked to gather along dimension 0, but all '\n",
      "/opt/conda/lib/python3.11/site-packages/torch/nn/parallel/_functions.py:68: UserWarning: Was asked to gather along dimension 0, but all input tensors were scalars; will instead unsqueeze and return a vector.\n",
      "  warnings.warn('Was asked to gather along dimension 0, but all '\n",
      "/opt/conda/lib/python3.11/site-packages/torch/nn/parallel/_functions.py:68: UserWarning: Was asked to gather along dimension 0, but all input tensors were scalars; will instead unsqueeze and return a vector.\n",
      "  warnings.warn('Was asked to gather along dimension 0, but all '\n"
     ]
    },
    {
     "data": {
      "text/html": [],
      "text/plain": [
       "<IPython.core.display.HTML object>"
      ]
     },
     "metadata": {},
     "output_type": "display_data"
    }
   ],
   "source": [
    "nlp_ner.train_ner_model(dataset_path=datasets_path,save_mode=True)"
   ]
  },
  {
   "cell_type": "code",
   "execution_count": 47,
   "id": "b40980c7",
   "metadata": {},
   "outputs": [
    {
     "data": {
      "text/html": [
       "<div>\n",
       "<style scoped>\n",
       "    .dataframe tbody tr th:only-of-type {\n",
       "        vertical-align: middle;\n",
       "    }\n",
       "\n",
       "    .dataframe tbody tr th {\n",
       "        vertical-align: top;\n",
       "    }\n",
       "\n",
       "    .dataframe thead th {\n",
       "        text-align: right;\n",
       "    }\n",
       "</style>\n",
       "<table border=\"1\" class=\"dataframe\">\n",
       "  <thead>\n",
       "    <tr style=\"text-align: right;\">\n",
       "      <th></th>\n",
       "      <th>Entity</th>\n",
       "      <th>Precision</th>\n",
       "      <th>Recall</th>\n",
       "      <th>F1_Score</th>\n",
       "    </tr>\n",
       "  </thead>\n",
       "  <tbody>\n",
       "    <tr>\n",
       "      <th>0</th>\n",
       "      <td>O</td>\n",
       "      <td>0.885031</td>\n",
       "      <td>0.906003</td>\n",
       "      <td>0.895394</td>\n",
       "    </tr>\n",
       "    <tr>\n",
       "      <th>1</th>\n",
       "      <td>B-Disease</td>\n",
       "      <td>0.993842</td>\n",
       "      <td>0.990421</td>\n",
       "      <td>0.992128</td>\n",
       "    </tr>\n",
       "    <tr>\n",
       "      <th>2</th>\n",
       "      <td>I-Disease</td>\n",
       "      <td>0.872498</td>\n",
       "      <td>0.908179</td>\n",
       "      <td>0.889981</td>\n",
       "    </tr>\n",
       "    <tr>\n",
       "      <th>3</th>\n",
       "      <td>Over_all_macro</td>\n",
       "      <td>0.917124</td>\n",
       "      <td>0.934868</td>\n",
       "      <td>0.925835</td>\n",
       "    </tr>\n",
       "  </tbody>\n",
       "</table>\n",
       "</div>"
      ],
      "text/plain": [
       "           Entity  Precision    Recall  F1_Score\n",
       "0               O   0.885031  0.906003  0.895394\n",
       "1       B-Disease   0.993842  0.990421  0.992128\n",
       "2       I-Disease   0.872498  0.908179  0.889981\n",
       "3  Over_all_macro   0.917124  0.934868  0.925835"
      ]
     },
     "execution_count": 47,
     "metadata": {},
     "output_type": "execute_result"
    }
   ],
   "source": [
    "nlp_ner.df_results"
   ]
  },
  {
   "cell_type": "markdown",
   "id": "3b30d25d-0aad-47d7-a2db-8d7585686597",
   "metadata": {},
   "source": [
    "### Results of test data: you can just use the df_results "
   ]
  },
  {
   "cell_type": "code",
   "execution_count": 27,
   "id": "a671ddf9-d722-4bc0-a9a1-305a39c8b292",
   "metadata": {},
   "outputs": [
    {
     "data": {
      "text/html": [
       "<div>\n",
       "<style scoped>\n",
       "    .dataframe tbody tr th:only-of-type {\n",
       "        vertical-align: middle;\n",
       "    }\n",
       "\n",
       "    .dataframe tbody tr th {\n",
       "        vertical-align: top;\n",
       "    }\n",
       "\n",
       "    .dataframe thead th {\n",
       "        text-align: right;\n",
       "    }\n",
       "</style>\n",
       "<table border=\"1\" class=\"dataframe\">\n",
       "  <thead>\n",
       "    <tr style=\"text-align: right;\">\n",
       "      <th></th>\n",
       "      <th>Entity</th>\n",
       "      <th>Precision</th>\n",
       "      <th>Recall</th>\n",
       "      <th>F1_Score</th>\n",
       "    </tr>\n",
       "  </thead>\n",
       "  <tbody>\n",
       "    <tr>\n",
       "      <th>0</th>\n",
       "      <td>O</td>\n",
       "      <td>0.989259</td>\n",
       "      <td>0.993671</td>\n",
       "      <td>0.991460</td>\n",
       "    </tr>\n",
       "    <tr>\n",
       "      <th>1</th>\n",
       "      <td>B</td>\n",
       "      <td>0.849635</td>\n",
       "      <td>0.833811</td>\n",
       "      <td>0.841649</td>\n",
       "    </tr>\n",
       "    <tr>\n",
       "      <th>2</th>\n",
       "      <td>I</td>\n",
       "      <td>0.891841</td>\n",
       "      <td>0.759289</td>\n",
       "      <td>0.820244</td>\n",
       "    </tr>\n",
       "    <tr>\n",
       "      <th>3</th>\n",
       "      <td>Over_all_macro</td>\n",
       "      <td>0.910245</td>\n",
       "      <td>0.862257</td>\n",
       "      <td>0.884451</td>\n",
       "    </tr>\n",
       "  </tbody>\n",
       "</table>\n",
       "</div>"
      ],
      "text/plain": [
       "           Entity  Precision    Recall  F1_Score\n",
       "0               O   0.989259  0.993671  0.991460\n",
       "1               B   0.849635  0.833811  0.841649\n",
       "2               I   0.891841  0.759289  0.820244\n",
       "3  Over_all_macro   0.910245  0.862257  0.884451"
      ]
     },
     "execution_count": 27,
     "metadata": {},
     "output_type": "execute_result"
    }
   ],
   "source": [
    "nlp_ner.df_results"
   ]
  },
  {
   "cell_type": "code",
   "execution_count": 29,
   "id": "93c79bcc-7a18-447c-936f-bea8f93abb39",
   "metadata": {},
   "outputs": [
    {
     "name": "stdout",
     "output_type": "stream",
     "text": [
      "allenai/scibert_scivocab_uncased\n"
     ]
    },
    {
     "name": "stderr",
     "output_type": "stream",
     "text": [
      "Some weights of BertForTokenClassification were not initialized from the model checkpoint at allenai/scibert_scivocab_uncased and are newly initialized: ['classifier.weight', 'classifier.bias']\n",
      "You should probably TRAIN this model on a down-stream task to be able to use it for predictions and inference.\n"
     ]
    },
    {
     "data": {
      "application/vnd.jupyter.widget-view+json": {
       "model_id": "ba98575a18fe40518c6c70e6885b0393",
       "version_major": 2,
       "version_minor": 0
      },
      "text/plain": [
       "Map:   0%|          | 0/5733 [00:00<?, ? examples/s]"
      ]
     },
     "metadata": {},
     "output_type": "display_data"
    },
    {
     "data": {
      "application/vnd.jupyter.widget-view+json": {
       "model_id": "93fa1a7bb1ae43ea9dec5108b6cdeeda",
       "version_major": 2,
       "version_minor": 0
      },
      "text/plain": [
       "Map:   0%|          | 0/830 [00:00<?, ? examples/s]"
      ]
     },
     "metadata": {},
     "output_type": "display_data"
    },
    {
     "data": {
      "application/vnd.jupyter.widget-view+json": {
       "model_id": "39fbe375148a406282fb2ce0429278cf",
       "version_major": 2,
       "version_minor": 0
      },
      "text/plain": [
       "Map:   0%|          | 0/830 [00:00<?, ? examples/s]"
      ]
     },
     "metadata": {},
     "output_type": "display_data"
    },
    {
     "name": "stderr",
     "output_type": "stream",
     "text": [
      "You're using a BertTokenizerFast tokenizer. Please note that with a fast tokenizer, using the `__call__` method is faster than using a method to encode the text followed by a call to the `pad` method to get a padded encoding.\n",
      "/opt/conda/lib/python3.11/site-packages/torch/nn/parallel/_functions.py:68: UserWarning: Was asked to gather along dimension 0, but all input tensors were scalars; will instead unsqueeze and return a vector.\n",
      "  warnings.warn('Was asked to gather along dimension 0, but all '\n"
     ]
    },
    {
     "data": {
      "text/html": [
       "\n",
       "    <div>\n",
       "      \n",
       "      <progress value='300' max='300' style='width:300px; height:20px; vertical-align: middle;'></progress>\n",
       "      [300/300 01:16, Epoch 1/2]\n",
       "    </div>\n",
       "    <table border=\"1\" class=\"dataframe\">\n",
       "  <thead>\n",
       " <tr style=\"text-align: left;\">\n",
       "      <th>Step</th>\n",
       "      <th>Training Loss</th>\n",
       "      <th>Validation Loss</th>\n",
       "      <th>I Precision</th>\n",
       "      <th>I Recall</th>\n",
       "      <th>I F1-score</th>\n",
       "      <th>I Support</th>\n",
       "      <th>B Precision</th>\n",
       "      <th>B Recall</th>\n",
       "      <th>B F1-score</th>\n",
       "      <th>B Support</th>\n",
       "      <th>O Precision</th>\n",
       "      <th>O Recall</th>\n",
       "      <th>O F1-score</th>\n",
       "      <th>O Support</th>\n",
       "      <th>Overall Accuracy</th>\n",
       "      <th>Macro Precision</th>\n",
       "      <th>Macro Recall</th>\n",
       "      <th>Macro F1-score</th>\n",
       "    </tr>\n",
       "  </thead>\n",
       "  <tbody>\n",
       "    <tr>\n",
       "      <td>50</td>\n",
       "      <td>0.091900</td>\n",
       "      <td>0.080999</td>\n",
       "      <td>0.682737</td>\n",
       "      <td>0.661145</td>\n",
       "      <td>0.671767</td>\n",
       "      <td>664.000000</td>\n",
       "      <td>0.721550</td>\n",
       "      <td>0.796791</td>\n",
       "      <td>0.757306</td>\n",
       "      <td>748.000000</td>\n",
       "      <td>0.987461</td>\n",
       "      <td>0.985122</td>\n",
       "      <td>0.986291</td>\n",
       "      <td>24063.000000</td>\n",
       "      <td>0.971148</td>\n",
       "      <td>0.797249</td>\n",
       "      <td>0.814353</td>\n",
       "      <td>0.805121</td>\n",
       "    </tr>\n",
       "    <tr>\n",
       "      <td>100</td>\n",
       "      <td>0.057300</td>\n",
       "      <td>0.068200</td>\n",
       "      <td>0.902552</td>\n",
       "      <td>0.585843</td>\n",
       "      <td>0.710502</td>\n",
       "      <td>664.000000</td>\n",
       "      <td>0.864507</td>\n",
       "      <td>0.784759</td>\n",
       "      <td>0.822705</td>\n",
       "      <td>748.000000</td>\n",
       "      <td>0.982598</td>\n",
       "      <td>0.994930</td>\n",
       "      <td>0.988726</td>\n",
       "      <td>24063.000000</td>\n",
       "      <td>0.978096</td>\n",
       "      <td>0.916552</td>\n",
       "      <td>0.788511</td>\n",
       "      <td>0.840644</td>\n",
       "    </tr>\n",
       "    <tr>\n",
       "      <td>150</td>\n",
       "      <td>0.074400</td>\n",
       "      <td>0.056381</td>\n",
       "      <td>0.793939</td>\n",
       "      <td>0.789157</td>\n",
       "      <td>0.791541</td>\n",
       "      <td>664.000000</td>\n",
       "      <td>0.808132</td>\n",
       "      <td>0.850267</td>\n",
       "      <td>0.828664</td>\n",
       "      <td>748.000000</td>\n",
       "      <td>0.990303</td>\n",
       "      <td>0.988863</td>\n",
       "      <td>0.989582</td>\n",
       "      <td>24063.000000</td>\n",
       "      <td>0.979588</td>\n",
       "      <td>0.864125</td>\n",
       "      <td>0.876096</td>\n",
       "      <td>0.869929</td>\n",
       "    </tr>\n",
       "    <tr>\n",
       "      <td>200</td>\n",
       "      <td>0.033500</td>\n",
       "      <td>0.057780</td>\n",
       "      <td>0.800307</td>\n",
       "      <td>0.784639</td>\n",
       "      <td>0.792395</td>\n",
       "      <td>664.000000</td>\n",
       "      <td>0.820972</td>\n",
       "      <td>0.858289</td>\n",
       "      <td>0.839216</td>\n",
       "      <td>748.000000</td>\n",
       "      <td>0.990600</td>\n",
       "      <td>0.989735</td>\n",
       "      <td>0.990167</td>\n",
       "      <td>24063.000000</td>\n",
       "      <td>0.980530</td>\n",
       "      <td>0.870626</td>\n",
       "      <td>0.877554</td>\n",
       "      <td>0.873926</td>\n",
       "    </tr>\n",
       "    <tr>\n",
       "      <td>250</td>\n",
       "      <td>0.044000</td>\n",
       "      <td>0.055688</td>\n",
       "      <td>0.804878</td>\n",
       "      <td>0.795181</td>\n",
       "      <td>0.800000</td>\n",
       "      <td>664.000000</td>\n",
       "      <td>0.814628</td>\n",
       "      <td>0.863636</td>\n",
       "      <td>0.838417</td>\n",
       "      <td>748.000000</td>\n",
       "      <td>0.991176</td>\n",
       "      <td>0.989652</td>\n",
       "      <td>0.990414</td>\n",
       "      <td>24063.000000</td>\n",
       "      <td>0.980883</td>\n",
       "      <td>0.870227</td>\n",
       "      <td>0.882823</td>\n",
       "      <td>0.876277</td>\n",
       "    </tr>\n",
       "    <tr>\n",
       "      <td>300</td>\n",
       "      <td>0.031700</td>\n",
       "      <td>0.057433</td>\n",
       "      <td>0.836806</td>\n",
       "      <td>0.725904</td>\n",
       "      <td>0.777419</td>\n",
       "      <td>664.000000</td>\n",
       "      <td>0.834688</td>\n",
       "      <td>0.823529</td>\n",
       "      <td>0.829071</td>\n",
       "      <td>748.000000</td>\n",
       "      <td>0.987666</td>\n",
       "      <td>0.991688</td>\n",
       "      <td>0.989673</td>\n",
       "      <td>24063.000000</td>\n",
       "      <td>0.979823</td>\n",
       "      <td>0.886387</td>\n",
       "      <td>0.847041</td>\n",
       "      <td>0.865388</td>\n",
       "    </tr>\n",
       "  </tbody>\n",
       "</table><p>"
      ],
      "text/plain": [
       "<IPython.core.display.HTML object>"
      ]
     },
     "metadata": {},
     "output_type": "display_data"
    },
    {
     "name": "stderr",
     "output_type": "stream",
     "text": [
      "/opt/conda/lib/python3.11/site-packages/torch/nn/parallel/_functions.py:68: UserWarning: Was asked to gather along dimension 0, but all input tensors were scalars; will instead unsqueeze and return a vector.\n",
      "  warnings.warn('Was asked to gather along dimension 0, but all '\n",
      "/opt/conda/lib/python3.11/site-packages/torch/nn/parallel/_functions.py:68: UserWarning: Was asked to gather along dimension 0, but all input tensors were scalars; will instead unsqueeze and return a vector.\n",
      "  warnings.warn('Was asked to gather along dimension 0, but all '\n",
      "/opt/conda/lib/python3.11/site-packages/torch/nn/parallel/_functions.py:68: UserWarning: Was asked to gather along dimension 0, but all input tensors were scalars; will instead unsqueeze and return a vector.\n",
      "  warnings.warn('Was asked to gather along dimension 0, but all '\n",
      "/opt/conda/lib/python3.11/site-packages/torch/nn/parallel/_functions.py:68: UserWarning: Was asked to gather along dimension 0, but all input tensors were scalars; will instead unsqueeze and return a vector.\n",
      "  warnings.warn('Was asked to gather along dimension 0, but all '\n",
      "/opt/conda/lib/python3.11/site-packages/torch/nn/parallel/_functions.py:68: UserWarning: Was asked to gather along dimension 0, but all input tensors were scalars; will instead unsqueeze and return a vector.\n",
      "  warnings.warn('Was asked to gather along dimension 0, but all '\n",
      "/opt/conda/lib/python3.11/site-packages/torch/nn/parallel/_functions.py:68: UserWarning: Was asked to gather along dimension 0, but all input tensors were scalars; will instead unsqueeze and return a vector.\n",
      "  warnings.warn('Was asked to gather along dimension 0, but all '\n"
     ]
    },
    {
     "data": {
      "text/html": [],
      "text/plain": [
       "<IPython.core.display.HTML object>"
      ]
     },
     "metadata": {},
     "output_type": "display_data"
    },
    {
     "data": {
      "text/html": [
       "<div>\n",
       "<style scoped>\n",
       "    .dataframe tbody tr th:only-of-type {\n",
       "        vertical-align: middle;\n",
       "    }\n",
       "\n",
       "    .dataframe tbody tr th {\n",
       "        vertical-align: top;\n",
       "    }\n",
       "\n",
       "    .dataframe thead th {\n",
       "        text-align: right;\n",
       "    }\n",
       "</style>\n",
       "<table border=\"1\" class=\"dataframe\">\n",
       "  <thead>\n",
       "    <tr style=\"text-align: right;\">\n",
       "      <th></th>\n",
       "      <th>Entity</th>\n",
       "      <th>Precision</th>\n",
       "      <th>Recall</th>\n",
       "      <th>F1_Score</th>\n",
       "    </tr>\n",
       "  </thead>\n",
       "  <tbody>\n",
       "    <tr>\n",
       "      <th>0</th>\n",
       "      <td>O</td>\n",
       "      <td>0.987666</td>\n",
       "      <td>0.991688</td>\n",
       "      <td>0.989673</td>\n",
       "    </tr>\n",
       "    <tr>\n",
       "      <th>1</th>\n",
       "      <td>B</td>\n",
       "      <td>0.834688</td>\n",
       "      <td>0.823529</td>\n",
       "      <td>0.829071</td>\n",
       "    </tr>\n",
       "    <tr>\n",
       "      <th>2</th>\n",
       "      <td>I</td>\n",
       "      <td>0.836806</td>\n",
       "      <td>0.725904</td>\n",
       "      <td>0.777419</td>\n",
       "    </tr>\n",
       "    <tr>\n",
       "      <th>3</th>\n",
       "      <td>Over_all_macro</td>\n",
       "      <td>0.886387</td>\n",
       "      <td>0.847041</td>\n",
       "      <td>0.865388</td>\n",
       "    </tr>\n",
       "  </tbody>\n",
       "</table>\n",
       "</div>"
      ],
      "text/plain": [
       "           Entity  Precision    Recall  F1_Score\n",
       "0               O   0.987666  0.991688  0.989673\n",
       "1               B   0.834688  0.823529  0.829071\n",
       "2               I   0.836806  0.725904  0.777419\n",
       "3  Over_all_macro   0.886387  0.847041  0.865388"
      ]
     },
     "execution_count": 29,
     "metadata": {},
     "output_type": "execute_result"
    }
   ],
   "source": [
    "### Initializing the NER class with the model, tokenizer, list of entities\n",
    "args[\"model_name\"]=\"allenai/scibert_scivocab_uncased\"\n",
    "args[\"tokenizer\"]=\"allenai/scibert_scivocab_uncased\"\n",
    "nlp_ner=ner_model.AlibertForTokenClassification(model_name=args[\"model_name\"],tokenizer_name=args[\"tokenizer\"],list_entities=args[\"entity_list\"],train=True)\n",
    "nlp_ner.train_ner_model(dataset_path=datasets_path,save_mode=True)\n",
    "nlp_ner.df_results"
   ]
  },
  {
   "cell_type": "code",
   "execution_count": 69,
   "id": "e7e294b1",
   "metadata": {},
   "outputs": [],
   "source": [
    "dataset_chem=datasets.load_from_disk(\"/home/aberhe/Projects/SANTAL/ASLR/data/ner/Chemical_bc5cdr_dataset_ner_cleaned\")"
   ]
  },
  {
   "cell_type": "code",
   "execution_count": 72,
   "id": "8ce8ae48",
   "metadata": {},
   "outputs": [
    {
     "data": {
      "text/plain": [
       "[2,\n",
       " 0,\n",
       " 0,\n",
       " 1,\n",
       " 2,\n",
       " 0,\n",
       " 0,\n",
       " 0,\n",
       " 0,\n",
       " 0,\n",
       " 0,\n",
       " 0,\n",
       " 0,\n",
       " 0,\n",
       " 2,\n",
       " 0,\n",
       " 0,\n",
       " 0,\n",
       " 0,\n",
       " 0,\n",
       " 0,\n",
       " 0,\n",
       " 0,\n",
       " 0,\n",
       " 2,\n",
       " 0,\n",
       " 0,\n",
       " 0,\n",
       " 0,\n",
       " 0,\n",
       " 0,\n",
       " 0,\n",
       " 0,\n",
       " 0,\n",
       " 0,\n",
       " 0,\n",
       " 0,\n",
       " 0,\n",
       " 0,\n",
       " 0,\n",
       " 0,\n",
       " 0,\n",
       " 0,\n",
       " 0,\n",
       " 0,\n",
       " 0,\n",
       " 0,\n",
       " 0,\n",
       " 0,\n",
       " 0,\n",
       " 0,\n",
       " 0,\n",
       " 2,\n",
       " 0,\n",
       " 0,\n",
       " 0,\n",
       " 0,\n",
       " 0,\n",
       " 0,\n",
       " 0,\n",
       " 0,\n",
       " 0,\n",
       " 0,\n",
       " 0,\n",
       " 0,\n",
       " 2]"
      ]
     },
     "execution_count": 72,
     "metadata": {},
     "output_type": "execute_result"
    }
   ],
   "source": [
    "dataset_chem[\"train\"][1][\"ner_token_tags\"]"
   ]
  },
  {
   "cell_type": "code",
   "execution_count": 34,
   "id": "893e5321",
   "metadata": {},
   "outputs": [
    {
     "data": {
      "text/plain": [
       "['I-Chemical',\n",
       " 'O',\n",
       " 'O',\n",
       " 'B-Chemical',\n",
       " 'I-Chemical',\n",
       " 'O',\n",
       " 'O',\n",
       " 'O',\n",
       " 'O',\n",
       " 'O',\n",
       " 'O',\n",
       " 'O',\n",
       " 'O',\n",
       " 'O',\n",
       " 'I-Chemical',\n",
       " 'O',\n",
       " 'O',\n",
       " 'O',\n",
       " 'O',\n",
       " 'O',\n",
       " 'O',\n",
       " 'O',\n",
       " 'O',\n",
       " 'O',\n",
       " 'I-Chemical',\n",
       " 'O',\n",
       " 'O',\n",
       " 'O',\n",
       " 'O',\n",
       " 'O',\n",
       " 'O',\n",
       " 'O',\n",
       " 'O',\n",
       " 'O',\n",
       " 'O',\n",
       " 'O',\n",
       " 'O',\n",
       " 'O',\n",
       " 'O',\n",
       " 'O',\n",
       " 'O',\n",
       " 'O',\n",
       " 'O',\n",
       " 'O',\n",
       " 'O',\n",
       " 'O',\n",
       " 'O',\n",
       " 'O',\n",
       " 'O',\n",
       " 'O',\n",
       " 'O',\n",
       " 'O',\n",
       " 'I-Chemical',\n",
       " 'O',\n",
       " 'O',\n",
       " 'O',\n",
       " 'O',\n",
       " 'O',\n",
       " 'O',\n",
       " 'O',\n",
       " 'O',\n",
       " 'O',\n",
       " 'O',\n",
       " 'O',\n",
       " 'O',\n",
       " 'I-Chemical']"
      ]
     },
     "execution_count": 34,
     "metadata": {},
     "output_type": "execute_result"
    }
   ],
   "source": [
    "dataset_chem[\"train\"][1][\"ner_tags\"]"
   ]
  },
  {
   "cell_type": "code",
   "execution_count": 35,
   "id": "dbdd3515",
   "metadata": {},
   "outputs": [],
   "source": [
    "args[\"entity_list\"]=[\"O\",'B-Chemical','I-Chemical',]"
   ]
  },
  {
   "cell_type": "code",
   "execution_count": 36,
   "id": "ddec58e2",
   "metadata": {},
   "outputs": [],
   "source": [
    "label2Index={e:i for i,e in enumerate(args[\"entity_list\"])}\n",
    "index2Label={i:e for i,e in enumerate(args[\"entity_list\"])}"
   ]
  },
  {
   "cell_type": "code",
   "execution_count": 37,
   "id": "9d444c48",
   "metadata": {},
   "outputs": [
    {
     "name": "stderr",
     "output_type": "stream",
     "text": [
      "100%|██████████| 3/3 [01:08<00:00, 22.78s/it]"
     ]
    },
    {
     "name": "stdout",
     "output_type": "stream",
     "text": [
      "3\n"
     ]
    },
    {
     "name": "stderr",
     "output_type": "stream",
     "text": [
      "\n"
     ]
    }
   ],
   "source": [
    "ds=change_labels2Int(dataset=dataset_chem,label2Index=label2Index)"
   ]
  },
  {
   "cell_type": "code",
   "execution_count": 38,
   "id": "beee66ed",
   "metadata": {},
   "outputs": [
    {
     "data": {
      "application/vnd.jupyter.widget-view+json": {
       "model_id": "6434a36d2f9047eb85a8a3613f067d9f",
       "version_major": 2,
       "version_minor": 0
      },
      "text/plain": [
       "Saving the dataset (0/1 shards):   0%|          | 0/499 [00:00<?, ? examples/s]"
      ]
     },
     "metadata": {},
     "output_type": "display_data"
    },
    {
     "data": {
      "application/vnd.jupyter.widget-view+json": {
       "model_id": "a00c1bb3dd70435aa048d49876168af0",
       "version_major": 2,
       "version_minor": 0
      },
      "text/plain": [
       "Saving the dataset (0/1 shards):   0%|          | 0/499 [00:00<?, ? examples/s]"
      ]
     },
     "metadata": {},
     "output_type": "display_data"
    },
    {
     "data": {
      "application/vnd.jupyter.widget-view+json": {
       "model_id": "b29486ca3b2d412281f57cff263ee423",
       "version_major": 2,
       "version_minor": 0
      },
      "text/plain": [
       "Saving the dataset (0/1 shards):   0%|          | 0/499 [00:00<?, ? examples/s]"
      ]
     },
     "metadata": {},
     "output_type": "display_data"
    }
   ],
   "source": [
    "ds.save_to_disk(\"/home/aberhe/Projects/SANTAL/ASLR/data/ner/Chemical_bc5cdr_dataset_ner_cleaned\")"
   ]
  },
  {
   "cell_type": "markdown",
   "id": "211f6dd4",
   "metadata": {},
   "source": [
    "###  Running All models and Dataset Together!"
   ]
  },
  {
   "cell_type": "code",
   "execution_count": 14,
   "id": "68669020",
   "metadata": {},
   "outputs": [],
   "source": [
    "path_datasets=\"/home/aberhe/Projects/SANTAL/ASLR/data/ner/\"\n",
    "dataset_names=[\"Chemical_bc5cdr_dataset_ner_cleaned\",\"Disease_NCBI-disease_dataset_ner_cleaned\",\"Species_s800_dataset_ner_cleaned\"]\n",
    "\n",
    "models=[\"allenai/scibert_scivocab_uncased\",\"michiyasunaga/BioLinkBERT-base\",\"microsoft/BiomedNLP-PubMedBERT-base-uncased-abstract-fulltext\"]\n",
    "tokenizers=[\"allenai/scibert_scivocab_uncased\",\"michiyasunaga/BioLinkBERT-base\",\"microsoft/BiomedNLP-PubMedBERT-base-uncased-abstract-fulltext\"]"
   ]
  },
  {
   "cell_type": "code",
   "execution_count": 15,
   "id": "2e287db3",
   "metadata": {},
   "outputs": [],
   "source": [
    "args={}"
   ]
  },
  {
   "cell_type": "code",
   "execution_count": 16,
   "id": "18c8d91f",
   "metadata": {},
   "outputs": [
    {
     "name": "stdout",
     "output_type": "stream",
     "text": [
      "Train \t Valid \t Test\n",
      "499 \t  499 \t 499\n",
      "\n",
      "Train \t Valid \t Test\n",
      "5424 \t  923 \t 940\n",
      "\n",
      "Train \t Valid \t Test\n",
      "5733 \t  830 \t 830\n",
      "\n",
      "Train \t Valid \t Test\n",
      "11935 \t  4078 \t 7142\n",
      "\n"
     ]
    }
   ],
   "source": [
    "for i in dataset_names:\n",
    "    data_ent=datasets.load_from_disk(os.path.join(path_datasets,i))\n",
    "\n",
    "    if \"test\" in data_ent.column_names:\n",
    "        print(\"Train \\t Valid \\t Test\")\n",
    "        print(f'{len(data_ent[\"train\"])} \\t  {len(data_ent[\"valid\"])} \\t {len(data_ent[\"test\"])}\\n')"
   ]
  },
  {
   "cell_type": "code",
   "execution_count": null,
   "id": "7bbb3356",
   "metadata": {},
   "outputs": [],
   "source": []
  },
  {
   "cell_type": "code",
   "execution_count": 11,
   "id": "6af2bd71",
   "metadata": {},
   "outputs": [
    {
     "name": "stdout",
     "output_type": "stream",
     "text": [
      "allenai/scibert_scivocab_uncased allenai/scibert_scivocab_uncased\n",
      "{'model_name': 'allenai/scibert_scivocab_uncased', 'tokenizer_name': 'allenai/scibert_scivocab_uncased', 'entity_type': 'Chemical', 'entity_list': ['O', 'B', 'I']}\n",
      "allenai/scibert_scivocab_uncased\n"
     ]
    },
    {
     "name": "stderr",
     "output_type": "stream",
     "text": [
      "Some weights of BertForTokenClassification were not initialized from the model checkpoint at allenai/scibert_scivocab_uncased and are newly initialized: ['classifier.bias', 'classifier.weight']\n",
      "You should probably TRAIN this model on a down-stream task to be able to use it for predictions and inference.\n"
     ]
    },
    {
     "data": {
      "application/vnd.jupyter.widget-view+json": {
       "model_id": "cd08ec18c9164c7d94acee3005fa777a",
       "version_major": 2,
       "version_minor": 0
      },
      "text/plain": [
       "Map:   0%|          | 0/499 [00:00<?, ? examples/s]"
      ]
     },
     "metadata": {},
     "output_type": "display_data"
    },
    {
     "data": {
      "application/vnd.jupyter.widget-view+json": {
       "model_id": "6a1fcb048a9c4950a7e004d3e54dc8ad",
       "version_major": 2,
       "version_minor": 0
      },
      "text/plain": [
       "Map:   0%|          | 0/499 [00:00<?, ? examples/s]"
      ]
     },
     "metadata": {},
     "output_type": "display_data"
    },
    {
     "data": {
      "application/vnd.jupyter.widget-view+json": {
       "model_id": "7cf1843554c94066895a2f5b1b9146f3",
       "version_major": 2,
       "version_minor": 0
      },
      "text/plain": [
       "Map:   0%|          | 0/499 [00:00<?, ? examples/s]"
      ]
     },
     "metadata": {},
     "output_type": "display_data"
    },
    {
     "name": "stderr",
     "output_type": "stream",
     "text": [
      "You're using a BertTokenizerFast tokenizer. Please note that with a fast tokenizer, using the `__call__` method is faster than using a method to encode the text followed by a call to the `pad` method to get a padded encoding.\n",
      "/opt/conda/lib/python3.11/site-packages/torch/nn/parallel/_functions.py:68: UserWarning: Was asked to gather along dimension 0, but all input tensors were scalars; will instead unsqueeze and return a vector.\n",
      "  warnings.warn('Was asked to gather along dimension 0, but all '\n"
     ]
    },
    {
     "data": {
      "text/html": [
       "\n",
       "    <div>\n",
       "      \n",
       "      <progress value='300' max='300' style='width:300px; height:20px; vertical-align: middle;'></progress>\n",
       "      [300/300 01:46, Epoch 18/19]\n",
       "    </div>\n",
       "    <table border=\"1\" class=\"dataframe\">\n",
       "  <thead>\n",
       " <tr style=\"text-align: left;\">\n",
       "      <th>Step</th>\n",
       "      <th>Training Loss</th>\n",
       "      <th>Validation Loss</th>\n",
       "      <th>I Precision</th>\n",
       "      <th>I Recall</th>\n",
       "      <th>I F1-score</th>\n",
       "      <th>I Support</th>\n",
       "      <th>B Precision</th>\n",
       "      <th>B Recall</th>\n",
       "      <th>B F1-score</th>\n",
       "      <th>B Support</th>\n",
       "      <th>O Precision</th>\n",
       "      <th>O Recall</th>\n",
       "      <th>O F1-score</th>\n",
       "      <th>O Support</th>\n",
       "      <th>Overall Accuracy</th>\n",
       "      <th>Macro Precision</th>\n",
       "      <th>Macro Recall</th>\n",
       "      <th>Macro F1-score</th>\n",
       "    </tr>\n",
       "  </thead>\n",
       "  <tbody>\n",
       "    <tr>\n",
       "      <td>50</td>\n",
       "      <td>0.165400</td>\n",
       "      <td>0.155962</td>\n",
       "      <td>0.666933</td>\n",
       "      <td>0.516209</td>\n",
       "      <td>0.581970</td>\n",
       "      <td>3239.000000</td>\n",
       "      <td>0.834235</td>\n",
       "      <td>0.905367</td>\n",
       "      <td>0.868347</td>\n",
       "      <td>19750.000000</td>\n",
       "      <td>0.978416</td>\n",
       "      <td>0.967838</td>\n",
       "      <td>0.973098</td>\n",
       "      <td>88053.000000</td>\n",
       "      <td>0.943553</td>\n",
       "      <td>0.826528</td>\n",
       "      <td>0.796471</td>\n",
       "      <td>0.807805</td>\n",
       "    </tr>\n",
       "    <tr>\n",
       "      <td>100</td>\n",
       "      <td>0.068500</td>\n",
       "      <td>0.122884</td>\n",
       "      <td>0.792391</td>\n",
       "      <td>0.675208</td>\n",
       "      <td>0.729122</td>\n",
       "      <td>3239.000000</td>\n",
       "      <td>0.886335</td>\n",
       "      <td>0.923494</td>\n",
       "      <td>0.904533</td>\n",
       "      <td>19750.000000</td>\n",
       "      <td>0.981130</td>\n",
       "      <td>0.977241</td>\n",
       "      <td>0.979181</td>\n",
       "      <td>88053.000000</td>\n",
       "      <td>0.958871</td>\n",
       "      <td>0.886619</td>\n",
       "      <td>0.858648</td>\n",
       "      <td>0.870945</td>\n",
       "    </tr>\n",
       "    <tr>\n",
       "      <td>150</td>\n",
       "      <td>0.032800</td>\n",
       "      <td>0.136939</td>\n",
       "      <td>0.748690</td>\n",
       "      <td>0.793764</td>\n",
       "      <td>0.770568</td>\n",
       "      <td>3239.000000</td>\n",
       "      <td>0.892960</td>\n",
       "      <td>0.929266</td>\n",
       "      <td>0.910751</td>\n",
       "      <td>19750.000000</td>\n",
       "      <td>0.985044</td>\n",
       "      <td>0.973879</td>\n",
       "      <td>0.979430</td>\n",
       "      <td>88053.000000</td>\n",
       "      <td>0.960691</td>\n",
       "      <td>0.875564</td>\n",
       "      <td>0.898970</td>\n",
       "      <td>0.886916</td>\n",
       "    </tr>\n",
       "    <tr>\n",
       "      <td>200</td>\n",
       "      <td>0.018400</td>\n",
       "      <td>0.157417</td>\n",
       "      <td>0.763118</td>\n",
       "      <td>0.785736</td>\n",
       "      <td>0.774262</td>\n",
       "      <td>3239.000000</td>\n",
       "      <td>0.878890</td>\n",
       "      <td>0.941013</td>\n",
       "      <td>0.908891</td>\n",
       "      <td>19750.000000</td>\n",
       "      <td>0.986795</td>\n",
       "      <td>0.970075</td>\n",
       "      <td>0.978364</td>\n",
       "      <td>88053.000000</td>\n",
       "      <td>0.959529</td>\n",
       "      <td>0.876268</td>\n",
       "      <td>0.898941</td>\n",
       "      <td>0.887172</td>\n",
       "    </tr>\n",
       "    <tr>\n",
       "      <td>250</td>\n",
       "      <td>0.013900</td>\n",
       "      <td>0.156825</td>\n",
       "      <td>0.777000</td>\n",
       "      <td>0.788515</td>\n",
       "      <td>0.782715</td>\n",
       "      <td>3239.000000</td>\n",
       "      <td>0.897425</td>\n",
       "      <td>0.935139</td>\n",
       "      <td>0.915894</td>\n",
       "      <td>19750.000000</td>\n",
       "      <td>0.985076</td>\n",
       "      <td>0.975254</td>\n",
       "      <td>0.980140</td>\n",
       "      <td>88053.000000</td>\n",
       "      <td>0.962672</td>\n",
       "      <td>0.886500</td>\n",
       "      <td>0.899636</td>\n",
       "      <td>0.892916</td>\n",
       "    </tr>\n",
       "    <tr>\n",
       "      <td>300</td>\n",
       "      <td>0.011500</td>\n",
       "      <td>0.162399</td>\n",
       "      <td>0.768886</td>\n",
       "      <td>0.794998</td>\n",
       "      <td>0.781724</td>\n",
       "      <td>3239.000000</td>\n",
       "      <td>0.893819</td>\n",
       "      <td>0.937266</td>\n",
       "      <td>0.915027</td>\n",
       "      <td>19750.000000</td>\n",
       "      <td>0.985905</td>\n",
       "      <td>0.973925</td>\n",
       "      <td>0.979878</td>\n",
       "      <td>88053.000000</td>\n",
       "      <td>0.962185</td>\n",
       "      <td>0.882870</td>\n",
       "      <td>0.902063</td>\n",
       "      <td>0.892210</td>\n",
       "    </tr>\n",
       "  </tbody>\n",
       "</table><p>"
      ],
      "text/plain": [
       "<IPython.core.display.HTML object>"
      ]
     },
     "metadata": {},
     "output_type": "display_data"
    },
    {
     "name": "stderr",
     "output_type": "stream",
     "text": [
      "/opt/conda/lib/python3.11/site-packages/torch/nn/parallel/_functions.py:68: UserWarning: Was asked to gather along dimension 0, but all input tensors were scalars; will instead unsqueeze and return a vector.\n",
      "  warnings.warn('Was asked to gather along dimension 0, but all '\n",
      "/opt/conda/lib/python3.11/site-packages/torch/nn/parallel/_functions.py:68: UserWarning: Was asked to gather along dimension 0, but all input tensors were scalars; will instead unsqueeze and return a vector.\n",
      "  warnings.warn('Was asked to gather along dimension 0, but all '\n",
      "/opt/conda/lib/python3.11/site-packages/torch/nn/parallel/_functions.py:68: UserWarning: Was asked to gather along dimension 0, but all input tensors were scalars; will instead unsqueeze and return a vector.\n",
      "  warnings.warn('Was asked to gather along dimension 0, but all '\n",
      "/opt/conda/lib/python3.11/site-packages/torch/nn/parallel/_functions.py:68: UserWarning: Was asked to gather along dimension 0, but all input tensors were scalars; will instead unsqueeze and return a vector.\n",
      "  warnings.warn('Was asked to gather along dimension 0, but all '\n",
      "/opt/conda/lib/python3.11/site-packages/torch/nn/parallel/_functions.py:68: UserWarning: Was asked to gather along dimension 0, but all input tensors were scalars; will instead unsqueeze and return a vector.\n",
      "  warnings.warn('Was asked to gather along dimension 0, but all '\n",
      "/opt/conda/lib/python3.11/site-packages/torch/nn/parallel/_functions.py:68: UserWarning: Was asked to gather along dimension 0, but all input tensors were scalars; will instead unsqueeze and return a vector.\n",
      "  warnings.warn('Was asked to gather along dimension 0, but all '\n"
     ]
    },
    {
     "data": {
      "text/html": [],
      "text/plain": [
       "<IPython.core.display.HTML object>"
      ]
     },
     "metadata": {},
     "output_type": "display_data"
    },
    {
     "name": "stdout",
     "output_type": "stream",
     "text": [
      "michiyasunaga/BioLinkBERT-base michiyasunaga/BioLinkBERT-base\n",
      "{'model_name': 'michiyasunaga/BioLinkBERT-base', 'tokenizer_name': 'michiyasunaga/BioLinkBERT-base', 'entity_type': 'Chemical', 'entity_list': ['O', 'B', 'I']}\n",
      "michiyasunaga/BioLinkBERT-base\n"
     ]
    },
    {
     "name": "stderr",
     "output_type": "stream",
     "text": [
      "Some weights of BertForTokenClassification were not initialized from the model checkpoint at michiyasunaga/BioLinkBERT-base and are newly initialized: ['classifier.bias', 'classifier.weight']\n",
      "You should probably TRAIN this model on a down-stream task to be able to use it for predictions and inference.\n"
     ]
    },
    {
     "data": {
      "application/vnd.jupyter.widget-view+json": {
       "model_id": "d9bec862a1e94afd825a0729a89f0271",
       "version_major": 2,
       "version_minor": 0
      },
      "text/plain": [
       "Map:   0%|          | 0/499 [00:00<?, ? examples/s]"
      ]
     },
     "metadata": {},
     "output_type": "display_data"
    },
    {
     "data": {
      "application/vnd.jupyter.widget-view+json": {
       "model_id": "4c940eac037347199eeb7202410b3400",
       "version_major": 2,
       "version_minor": 0
      },
      "text/plain": [
       "Map:   0%|          | 0/499 [00:00<?, ? examples/s]"
      ]
     },
     "metadata": {},
     "output_type": "display_data"
    },
    {
     "data": {
      "application/vnd.jupyter.widget-view+json": {
       "model_id": "d1c6a2e6fe784eed8b1811b2f5c5bf6f",
       "version_major": 2,
       "version_minor": 0
      },
      "text/plain": [
       "Map:   0%|          | 0/499 [00:00<?, ? examples/s]"
      ]
     },
     "metadata": {},
     "output_type": "display_data"
    },
    {
     "name": "stderr",
     "output_type": "stream",
     "text": [
      "You're using a BertTokenizerFast tokenizer. Please note that with a fast tokenizer, using the `__call__` method is faster than using a method to encode the text followed by a call to the `pad` method to get a padded encoding.\n",
      "/opt/conda/lib/python3.11/site-packages/torch/nn/parallel/_functions.py:68: UserWarning: Was asked to gather along dimension 0, but all input tensors were scalars; will instead unsqueeze and return a vector.\n",
      "  warnings.warn('Was asked to gather along dimension 0, but all '\n"
     ]
    },
    {
     "data": {
      "text/html": [
       "\n",
       "    <div>\n",
       "      \n",
       "      <progress value='300' max='300' style='width:300px; height:20px; vertical-align: middle;'></progress>\n",
       "      [300/300 01:45, Epoch 18/19]\n",
       "    </div>\n",
       "    <table border=\"1\" class=\"dataframe\">\n",
       "  <thead>\n",
       " <tr style=\"text-align: left;\">\n",
       "      <th>Step</th>\n",
       "      <th>Training Loss</th>\n",
       "      <th>Validation Loss</th>\n",
       "      <th>I Precision</th>\n",
       "      <th>I Recall</th>\n",
       "      <th>I F1-score</th>\n",
       "      <th>I Support</th>\n",
       "      <th>B Precision</th>\n",
       "      <th>B Recall</th>\n",
       "      <th>B F1-score</th>\n",
       "      <th>B Support</th>\n",
       "      <th>O Precision</th>\n",
       "      <th>O Recall</th>\n",
       "      <th>O F1-score</th>\n",
       "      <th>O Support</th>\n",
       "      <th>Overall Accuracy</th>\n",
       "      <th>Macro Precision</th>\n",
       "      <th>Macro Recall</th>\n",
       "      <th>Macro F1-score</th>\n",
       "    </tr>\n",
       "  </thead>\n",
       "  <tbody>\n",
       "    <tr>\n",
       "      <td>50</td>\n",
       "      <td>0.225200</td>\n",
       "      <td>0.184793</td>\n",
       "      <td>0.694805</td>\n",
       "      <td>0.038269</td>\n",
       "      <td>0.072542</td>\n",
       "      <td>2796.000000</td>\n",
       "      <td>0.725284</td>\n",
       "      <td>0.886835</td>\n",
       "      <td>0.797965</td>\n",
       "      <td>14766.000000</td>\n",
       "      <td>0.975226</td>\n",
       "      <td>0.967926</td>\n",
       "      <td>0.971562</td>\n",
       "      <td>86424.000000</td>\n",
       "      <td>0.931414</td>\n",
       "      <td>0.798439</td>\n",
       "      <td>0.631010</td>\n",
       "      <td>0.614023</td>\n",
       "    </tr>\n",
       "    <tr>\n",
       "      <td>100</td>\n",
       "      <td>0.108100</td>\n",
       "      <td>0.125031</td>\n",
       "      <td>0.750000</td>\n",
       "      <td>0.595494</td>\n",
       "      <td>0.663876</td>\n",
       "      <td>2796.000000</td>\n",
       "      <td>0.832267</td>\n",
       "      <td>0.916362</td>\n",
       "      <td>0.872292</td>\n",
       "      <td>14766.000000</td>\n",
       "      <td>0.984341</td>\n",
       "      <td>0.973908</td>\n",
       "      <td>0.979096</td>\n",
       "      <td>86424.000000</td>\n",
       "      <td>0.955561</td>\n",
       "      <td>0.855536</td>\n",
       "      <td>0.828588</td>\n",
       "      <td>0.838421</td>\n",
       "    </tr>\n",
       "    <tr>\n",
       "      <td>150</td>\n",
       "      <td>0.065700</td>\n",
       "      <td>0.114364</td>\n",
       "      <td>0.737118</td>\n",
       "      <td>0.803290</td>\n",
       "      <td>0.768783</td>\n",
       "      <td>2796.000000</td>\n",
       "      <td>0.877306</td>\n",
       "      <td>0.911350</td>\n",
       "      <td>0.894004</td>\n",
       "      <td>14766.000000</td>\n",
       "      <td>0.985783</td>\n",
       "      <td>0.976384</td>\n",
       "      <td>0.981061</td>\n",
       "      <td>86424.000000</td>\n",
       "      <td>0.962495</td>\n",
       "      <td>0.866736</td>\n",
       "      <td>0.897008</td>\n",
       "      <td>0.881283</td>\n",
       "    </tr>\n",
       "    <tr>\n",
       "      <td>200</td>\n",
       "      <td>0.041600</td>\n",
       "      <td>0.114886</td>\n",
       "      <td>0.765449</td>\n",
       "      <td>0.801860</td>\n",
       "      <td>0.783231</td>\n",
       "      <td>2796.000000</td>\n",
       "      <td>0.887271</td>\n",
       "      <td>0.912028</td>\n",
       "      <td>0.899479</td>\n",
       "      <td>14766.000000</td>\n",
       "      <td>0.985037</td>\n",
       "      <td>0.978825</td>\n",
       "      <td>0.981921</td>\n",
       "      <td>86424.000000</td>\n",
       "      <td>0.964582</td>\n",
       "      <td>0.879252</td>\n",
       "      <td>0.897571</td>\n",
       "      <td>0.888211</td>\n",
       "    </tr>\n",
       "    <tr>\n",
       "      <td>250</td>\n",
       "      <td>0.036700</td>\n",
       "      <td>0.119257</td>\n",
       "      <td>0.774205</td>\n",
       "      <td>0.809371</td>\n",
       "      <td>0.791397</td>\n",
       "      <td>2796.000000</td>\n",
       "      <td>0.885223</td>\n",
       "      <td>0.914059</td>\n",
       "      <td>0.899410</td>\n",
       "      <td>14766.000000</td>\n",
       "      <td>0.985271</td>\n",
       "      <td>0.978339</td>\n",
       "      <td>0.981793</td>\n",
       "      <td>86424.000000</td>\n",
       "      <td>0.964668</td>\n",
       "      <td>0.881566</td>\n",
       "      <td>0.900590</td>\n",
       "      <td>0.890867</td>\n",
       "    </tr>\n",
       "    <tr>\n",
       "      <td>300</td>\n",
       "      <td>0.029400</td>\n",
       "      <td>0.121844</td>\n",
       "      <td>0.768375</td>\n",
       "      <td>0.815093</td>\n",
       "      <td>0.791045</td>\n",
       "      <td>2796.000000</td>\n",
       "      <td>0.883634</td>\n",
       "      <td>0.917445</td>\n",
       "      <td>0.900223</td>\n",
       "      <td>14766.000000</td>\n",
       "      <td>0.986066</td>\n",
       "      <td>0.977680</td>\n",
       "      <td>0.981855</td>\n",
       "      <td>86424.000000</td>\n",
       "      <td>0.964755</td>\n",
       "      <td>0.879358</td>\n",
       "      <td>0.903406</td>\n",
       "      <td>0.891041</td>\n",
       "    </tr>\n",
       "  </tbody>\n",
       "</table><p>"
      ],
      "text/plain": [
       "<IPython.core.display.HTML object>"
      ]
     },
     "metadata": {},
     "output_type": "display_data"
    },
    {
     "name": "stderr",
     "output_type": "stream",
     "text": [
      "/opt/conda/lib/python3.11/site-packages/torch/nn/parallel/_functions.py:68: UserWarning: Was asked to gather along dimension 0, but all input tensors were scalars; will instead unsqueeze and return a vector.\n",
      "  warnings.warn('Was asked to gather along dimension 0, but all '\n",
      "/opt/conda/lib/python3.11/site-packages/torch/nn/parallel/_functions.py:68: UserWarning: Was asked to gather along dimension 0, but all input tensors were scalars; will instead unsqueeze and return a vector.\n",
      "  warnings.warn('Was asked to gather along dimension 0, but all '\n",
      "/opt/conda/lib/python3.11/site-packages/torch/nn/parallel/_functions.py:68: UserWarning: Was asked to gather along dimension 0, but all input tensors were scalars; will instead unsqueeze and return a vector.\n",
      "  warnings.warn('Was asked to gather along dimension 0, but all '\n",
      "/opt/conda/lib/python3.11/site-packages/torch/nn/parallel/_functions.py:68: UserWarning: Was asked to gather along dimension 0, but all input tensors were scalars; will instead unsqueeze and return a vector.\n",
      "  warnings.warn('Was asked to gather along dimension 0, but all '\n",
      "/opt/conda/lib/python3.11/site-packages/torch/nn/parallel/_functions.py:68: UserWarning: Was asked to gather along dimension 0, but all input tensors were scalars; will instead unsqueeze and return a vector.\n",
      "  warnings.warn('Was asked to gather along dimension 0, but all '\n",
      "/opt/conda/lib/python3.11/site-packages/torch/nn/parallel/_functions.py:68: UserWarning: Was asked to gather along dimension 0, but all input tensors were scalars; will instead unsqueeze and return a vector.\n",
      "  warnings.warn('Was asked to gather along dimension 0, but all '\n"
     ]
    },
    {
     "data": {
      "text/html": [],
      "text/plain": [
       "<IPython.core.display.HTML object>"
      ]
     },
     "metadata": {},
     "output_type": "display_data"
    },
    {
     "name": "stdout",
     "output_type": "stream",
     "text": [
      "microsoft/BiomedNLP-PubMedBERT-base-uncased-abstract-fulltext microsoft/BiomedNLP-PubMedBERT-base-uncased-abstract-fulltext\n",
      "{'model_name': 'microsoft/BiomedNLP-PubMedBERT-base-uncased-abstract-fulltext', 'tokenizer_name': 'microsoft/BiomedNLP-PubMedBERT-base-uncased-abstract-fulltext', 'entity_type': 'Chemical', 'entity_list': ['O', 'B', 'I']}\n",
      "microsoft/BiomedNLP-PubMedBERT-base-uncased-abstract-fulltext\n"
     ]
    },
    {
     "name": "stderr",
     "output_type": "stream",
     "text": [
      "Some weights of BertForTokenClassification were not initialized from the model checkpoint at microsoft/BiomedNLP-PubMedBERT-base-uncased-abstract-fulltext and are newly initialized: ['classifier.bias', 'classifier.weight']\n",
      "You should probably TRAIN this model on a down-stream task to be able to use it for predictions and inference.\n"
     ]
    },
    {
     "data": {
      "application/vnd.jupyter.widget-view+json": {
       "model_id": "86b3750d495e45fa9be9034e508afcd3",
       "version_major": 2,
       "version_minor": 0
      },
      "text/plain": [
       "Map:   0%|          | 0/499 [00:00<?, ? examples/s]"
      ]
     },
     "metadata": {},
     "output_type": "display_data"
    },
    {
     "data": {
      "application/vnd.jupyter.widget-view+json": {
       "model_id": "9d59fb96e4114aaabe25f3abefa661ec",
       "version_major": 2,
       "version_minor": 0
      },
      "text/plain": [
       "Map:   0%|          | 0/499 [00:00<?, ? examples/s]"
      ]
     },
     "metadata": {},
     "output_type": "display_data"
    },
    {
     "data": {
      "application/vnd.jupyter.widget-view+json": {
       "model_id": "95098513e4494c399906d5881a2fc198",
       "version_major": 2,
       "version_minor": 0
      },
      "text/plain": [
       "Map:   0%|          | 0/499 [00:00<?, ? examples/s]"
      ]
     },
     "metadata": {},
     "output_type": "display_data"
    },
    {
     "name": "stderr",
     "output_type": "stream",
     "text": [
      "You're using a BertTokenizerFast tokenizer. Please note that with a fast tokenizer, using the `__call__` method is faster than using a method to encode the text followed by a call to the `pad` method to get a padded encoding.\n",
      "/opt/conda/lib/python3.11/site-packages/torch/nn/parallel/_functions.py:68: UserWarning: Was asked to gather along dimension 0, but all input tensors were scalars; will instead unsqueeze and return a vector.\n",
      "  warnings.warn('Was asked to gather along dimension 0, but all '\n"
     ]
    },
    {
     "data": {
      "text/html": [
       "\n",
       "    <div>\n",
       "      \n",
       "      <progress value='300' max='300' style='width:300px; height:20px; vertical-align: middle;'></progress>\n",
       "      [300/300 01:44, Epoch 18/19]\n",
       "    </div>\n",
       "    <table border=\"1\" class=\"dataframe\">\n",
       "  <thead>\n",
       " <tr style=\"text-align: left;\">\n",
       "      <th>Step</th>\n",
       "      <th>Training Loss</th>\n",
       "      <th>Validation Loss</th>\n",
       "      <th>I Precision</th>\n",
       "      <th>I Recall</th>\n",
       "      <th>I F1-score</th>\n",
       "      <th>I Support</th>\n",
       "      <th>B Precision</th>\n",
       "      <th>B Recall</th>\n",
       "      <th>B F1-score</th>\n",
       "      <th>B Support</th>\n",
       "      <th>O Precision</th>\n",
       "      <th>O Recall</th>\n",
       "      <th>O F1-score</th>\n",
       "      <th>O Support</th>\n",
       "      <th>Overall Accuracy</th>\n",
       "      <th>Macro Precision</th>\n",
       "      <th>Macro Recall</th>\n",
       "      <th>Macro F1-score</th>\n",
       "    </tr>\n",
       "  </thead>\n",
       "  <tbody>\n",
       "    <tr>\n",
       "      <td>50</td>\n",
       "      <td>0.216600</td>\n",
       "      <td>0.181767</td>\n",
       "      <td>0.647355</td>\n",
       "      <td>0.087863</td>\n",
       "      <td>0.154726</td>\n",
       "      <td>2925.000000</td>\n",
       "      <td>0.769198</td>\n",
       "      <td>0.876325</td>\n",
       "      <td>0.819274</td>\n",
       "      <td>16608.000000</td>\n",
       "      <td>0.970487</td>\n",
       "      <td>0.972888</td>\n",
       "      <td>0.971686</td>\n",
       "      <td>86898.000000</td>\n",
       "      <td>0.933497</td>\n",
       "      <td>0.795680</td>\n",
       "      <td>0.645692</td>\n",
       "      <td>0.648562</td>\n",
       "    </tr>\n",
       "    <tr>\n",
       "      <td>100</td>\n",
       "      <td>0.093800</td>\n",
       "      <td>0.121587</td>\n",
       "      <td>0.789992</td>\n",
       "      <td>0.658462</td>\n",
       "      <td>0.718255</td>\n",
       "      <td>2925.000000</td>\n",
       "      <td>0.867461</td>\n",
       "      <td>0.911910</td>\n",
       "      <td>0.889130</td>\n",
       "      <td>16608.000000</td>\n",
       "      <td>0.981741</td>\n",
       "      <td>0.977629</td>\n",
       "      <td>0.979681</td>\n",
       "      <td>86898.000000</td>\n",
       "      <td>0.958602</td>\n",
       "      <td>0.879731</td>\n",
       "      <td>0.849333</td>\n",
       "      <td>0.862355</td>\n",
       "    </tr>\n",
       "    <tr>\n",
       "      <td>150</td>\n",
       "      <td>0.055500</td>\n",
       "      <td>0.122189</td>\n",
       "      <td>0.728741</td>\n",
       "      <td>0.817436</td>\n",
       "      <td>0.770545</td>\n",
       "      <td>2925.000000</td>\n",
       "      <td>0.889816</td>\n",
       "      <td>0.912211</td>\n",
       "      <td>0.900874</td>\n",
       "      <td>16608.000000</td>\n",
       "      <td>0.984847</td>\n",
       "      <td>0.976075</td>\n",
       "      <td>0.980442</td>\n",
       "      <td>86898.000000</td>\n",
       "      <td>0.961750</td>\n",
       "      <td>0.867801</td>\n",
       "      <td>0.901907</td>\n",
       "      <td>0.883954</td>\n",
       "    </tr>\n",
       "    <tr>\n",
       "      <td>200</td>\n",
       "      <td>0.035700</td>\n",
       "      <td>0.133694</td>\n",
       "      <td>0.736988</td>\n",
       "      <td>0.818120</td>\n",
       "      <td>0.775437</td>\n",
       "      <td>2925.000000</td>\n",
       "      <td>0.878061</td>\n",
       "      <td>0.928288</td>\n",
       "      <td>0.902476</td>\n",
       "      <td>16608.000000</td>\n",
       "      <td>0.987632</td>\n",
       "      <td>0.973175</td>\n",
       "      <td>0.980351</td>\n",
       "      <td>86898.000000</td>\n",
       "      <td>0.961910</td>\n",
       "      <td>0.867561</td>\n",
       "      <td>0.906528</td>\n",
       "      <td>0.886088</td>\n",
       "    </tr>\n",
       "    <tr>\n",
       "      <td>250</td>\n",
       "      <td>0.030700</td>\n",
       "      <td>0.141260</td>\n",
       "      <td>0.738066</td>\n",
       "      <td>0.824615</td>\n",
       "      <td>0.778944</td>\n",
       "      <td>2925.000000</td>\n",
       "      <td>0.872846</td>\n",
       "      <td>0.933285</td>\n",
       "      <td>0.902054</td>\n",
       "      <td>16608.000000</td>\n",
       "      <td>0.988490</td>\n",
       "      <td>0.971507</td>\n",
       "      <td>0.979925</td>\n",
       "      <td>86898.000000</td>\n",
       "      <td>0.961506</td>\n",
       "      <td>0.866467</td>\n",
       "      <td>0.909802</td>\n",
       "      <td>0.886974</td>\n",
       "    </tr>\n",
       "    <tr>\n",
       "      <td>300</td>\n",
       "      <td>0.023500</td>\n",
       "      <td>0.135308</td>\n",
       "      <td>0.758059</td>\n",
       "      <td>0.828034</td>\n",
       "      <td>0.791503</td>\n",
       "      <td>2925.000000</td>\n",
       "      <td>0.888217</td>\n",
       "      <td>0.928167</td>\n",
       "      <td>0.907753</td>\n",
       "      <td>16608.000000</td>\n",
       "      <td>0.987261</td>\n",
       "      <td>0.975707</td>\n",
       "      <td>0.981450</td>\n",
       "      <td>86898.000000</td>\n",
       "      <td>0.964230</td>\n",
       "      <td>0.877846</td>\n",
       "      <td>0.910636</td>\n",
       "      <td>0.893569</td>\n",
       "    </tr>\n",
       "  </tbody>\n",
       "</table><p>"
      ],
      "text/plain": [
       "<IPython.core.display.HTML object>"
      ]
     },
     "metadata": {},
     "output_type": "display_data"
    },
    {
     "name": "stderr",
     "output_type": "stream",
     "text": [
      "/opt/conda/lib/python3.11/site-packages/torch/nn/parallel/_functions.py:68: UserWarning: Was asked to gather along dimension 0, but all input tensors were scalars; will instead unsqueeze and return a vector.\n",
      "  warnings.warn('Was asked to gather along dimension 0, but all '\n",
      "/opt/conda/lib/python3.11/site-packages/torch/nn/parallel/_functions.py:68: UserWarning: Was asked to gather along dimension 0, but all input tensors were scalars; will instead unsqueeze and return a vector.\n",
      "  warnings.warn('Was asked to gather along dimension 0, but all '\n",
      "/opt/conda/lib/python3.11/site-packages/torch/nn/parallel/_functions.py:68: UserWarning: Was asked to gather along dimension 0, but all input tensors were scalars; will instead unsqueeze and return a vector.\n",
      "  warnings.warn('Was asked to gather along dimension 0, but all '\n",
      "/opt/conda/lib/python3.11/site-packages/torch/nn/parallel/_functions.py:68: UserWarning: Was asked to gather along dimension 0, but all input tensors were scalars; will instead unsqueeze and return a vector.\n",
      "  warnings.warn('Was asked to gather along dimension 0, but all '\n",
      "/opt/conda/lib/python3.11/site-packages/torch/nn/parallel/_functions.py:68: UserWarning: Was asked to gather along dimension 0, but all input tensors were scalars; will instead unsqueeze and return a vector.\n",
      "  warnings.warn('Was asked to gather along dimension 0, but all '\n",
      "/opt/conda/lib/python3.11/site-packages/torch/nn/parallel/_functions.py:68: UserWarning: Was asked to gather along dimension 0, but all input tensors were scalars; will instead unsqueeze and return a vector.\n",
      "  warnings.warn('Was asked to gather along dimension 0, but all '\n"
     ]
    },
    {
     "data": {
      "text/html": [],
      "text/plain": [
       "<IPython.core.display.HTML object>"
      ]
     },
     "metadata": {},
     "output_type": "display_data"
    },
    {
     "name": "stdout",
     "output_type": "stream",
     "text": [
      "allenai/scibert_scivocab_uncased allenai/scibert_scivocab_uncased\n",
      "{'model_name': 'allenai/scibert_scivocab_uncased', 'tokenizer_name': 'allenai/scibert_scivocab_uncased', 'entity_type': 'Disease', 'entity_list': ['O', 'B', 'I']}\n",
      "allenai/scibert_scivocab_uncased\n"
     ]
    },
    {
     "name": "stderr",
     "output_type": "stream",
     "text": [
      "Some weights of BertForTokenClassification were not initialized from the model checkpoint at allenai/scibert_scivocab_uncased and are newly initialized: ['classifier.bias', 'classifier.weight']\n",
      "You should probably TRAIN this model on a down-stream task to be able to use it for predictions and inference.\n"
     ]
    },
    {
     "data": {
      "application/vnd.jupyter.widget-view+json": {
       "model_id": "c24a2fca98204c528190a6b08a671a86",
       "version_major": 2,
       "version_minor": 0
      },
      "text/plain": [
       "Map:   0%|          | 0/5424 [00:00<?, ? examples/s]"
      ]
     },
     "metadata": {},
     "output_type": "display_data"
    },
    {
     "data": {
      "application/vnd.jupyter.widget-view+json": {
       "model_id": "9b339b0c015f4a8da35f3473b4e863f6",
       "version_major": 2,
       "version_minor": 0
      },
      "text/plain": [
       "Map:   0%|          | 0/923 [00:00<?, ? examples/s]"
      ]
     },
     "metadata": {},
     "output_type": "display_data"
    },
    {
     "data": {
      "application/vnd.jupyter.widget-view+json": {
       "model_id": "c5b0843989f9453d88b8d0c9d0db1b57",
       "version_major": 2,
       "version_minor": 0
      },
      "text/plain": [
       "Map:   0%|          | 0/940 [00:00<?, ? examples/s]"
      ]
     },
     "metadata": {},
     "output_type": "display_data"
    },
    {
     "name": "stderr",
     "output_type": "stream",
     "text": [
      "You're using a BertTokenizerFast tokenizer. Please note that with a fast tokenizer, using the `__call__` method is faster than using a method to encode the text followed by a call to the `pad` method to get a padded encoding.\n",
      "/opt/conda/lib/python3.11/site-packages/torch/nn/parallel/_functions.py:68: UserWarning: Was asked to gather along dimension 0, but all input tensors were scalars; will instead unsqueeze and return a vector.\n",
      "  warnings.warn('Was asked to gather along dimension 0, but all '\n"
     ]
    },
    {
     "data": {
      "text/html": [
       "\n",
       "    <div>\n",
       "      \n",
       "      <progress value='300' max='300' style='width:300px; height:20px; vertical-align: middle;'></progress>\n",
       "      [300/300 01:05, Epoch 1/2]\n",
       "    </div>\n",
       "    <table border=\"1\" class=\"dataframe\">\n",
       "  <thead>\n",
       " <tr style=\"text-align: left;\">\n",
       "      <th>Step</th>\n",
       "      <th>Training Loss</th>\n",
       "      <th>Validation Loss</th>\n",
       "      <th>I Precision</th>\n",
       "      <th>I Recall</th>\n",
       "      <th>I F1-score</th>\n",
       "      <th>I Support</th>\n",
       "      <th>B Precision</th>\n",
       "      <th>B Recall</th>\n",
       "      <th>B F1-score</th>\n",
       "      <th>B Support</th>\n",
       "      <th>O Precision</th>\n",
       "      <th>O Recall</th>\n",
       "      <th>O F1-score</th>\n",
       "      <th>O Support</th>\n",
       "      <th>Overall Accuracy</th>\n",
       "      <th>Macro Precision</th>\n",
       "      <th>Macro Recall</th>\n",
       "      <th>Macro F1-score</th>\n",
       "    </tr>\n",
       "  </thead>\n",
       "  <tbody>\n",
       "    <tr>\n",
       "      <td>50</td>\n",
       "      <td>0.116700</td>\n",
       "      <td>0.095332</td>\n",
       "      <td>0.756125</td>\n",
       "      <td>0.665686</td>\n",
       "      <td>0.708029</td>\n",
       "      <td>1020.000000</td>\n",
       "      <td>0.860465</td>\n",
       "      <td>0.742199</td>\n",
       "      <td>0.796968</td>\n",
       "      <td>1346.000000</td>\n",
       "      <td>0.980904</td>\n",
       "      <td>0.993294</td>\n",
       "      <td>0.987060</td>\n",
       "      <td>24305.000000</td>\n",
       "      <td>0.968093</td>\n",
       "      <td>0.865831</td>\n",
       "      <td>0.800393</td>\n",
       "      <td>0.830686</td>\n",
       "    </tr>\n",
       "    <tr>\n",
       "      <td>100</td>\n",
       "      <td>0.075600</td>\n",
       "      <td>0.062078</td>\n",
       "      <td>0.814745</td>\n",
       "      <td>0.845098</td>\n",
       "      <td>0.829644</td>\n",
       "      <td>1020.000000</td>\n",
       "      <td>0.925801</td>\n",
       "      <td>0.815750</td>\n",
       "      <td>0.867299</td>\n",
       "      <td>1346.000000</td>\n",
       "      <td>0.989151</td>\n",
       "      <td>0.994116</td>\n",
       "      <td>0.991628</td>\n",
       "      <td>24305.000000</td>\n",
       "      <td>0.979416</td>\n",
       "      <td>0.909899</td>\n",
       "      <td>0.884988</td>\n",
       "      <td>0.896190</td>\n",
       "    </tr>\n",
       "    <tr>\n",
       "      <td>150</td>\n",
       "      <td>0.057400</td>\n",
       "      <td>0.055437</td>\n",
       "      <td>0.837476</td>\n",
       "      <td>0.858824</td>\n",
       "      <td>0.848015</td>\n",
       "      <td>1020.000000</td>\n",
       "      <td>0.941127</td>\n",
       "      <td>0.831352</td>\n",
       "      <td>0.882840</td>\n",
       "      <td>1346.000000</td>\n",
       "      <td>0.989360</td>\n",
       "      <td>0.994692</td>\n",
       "      <td>0.992019</td>\n",
       "      <td>24305.000000</td>\n",
       "      <td>0.981253</td>\n",
       "      <td>0.922654</td>\n",
       "      <td>0.894956</td>\n",
       "      <td>0.907625</td>\n",
       "    </tr>\n",
       "    <tr>\n",
       "      <td>200</td>\n",
       "      <td>0.034300</td>\n",
       "      <td>0.053348</td>\n",
       "      <td>0.831502</td>\n",
       "      <td>0.890196</td>\n",
       "      <td>0.859848</td>\n",
       "      <td>1020.000000</td>\n",
       "      <td>0.946399</td>\n",
       "      <td>0.839525</td>\n",
       "      <td>0.889764</td>\n",
       "      <td>1346.000000</td>\n",
       "      <td>0.991511</td>\n",
       "      <td>0.994775</td>\n",
       "      <td>0.993140</td>\n",
       "      <td>24305.000000</td>\n",
       "      <td>0.982940</td>\n",
       "      <td>0.923137</td>\n",
       "      <td>0.908165</td>\n",
       "      <td>0.914251</td>\n",
       "    </tr>\n",
       "    <tr>\n",
       "      <td>250</td>\n",
       "      <td>0.032600</td>\n",
       "      <td>0.052181</td>\n",
       "      <td>0.853107</td>\n",
       "      <td>0.888235</td>\n",
       "      <td>0.870317</td>\n",
       "      <td>1020.000000</td>\n",
       "      <td>0.932401</td>\n",
       "      <td>0.891530</td>\n",
       "      <td>0.911508</td>\n",
       "      <td>1346.000000</td>\n",
       "      <td>0.993010</td>\n",
       "      <td>0.993705</td>\n",
       "      <td>0.993358</td>\n",
       "      <td>24305.000000</td>\n",
       "      <td>0.984515</td>\n",
       "      <td>0.926173</td>\n",
       "      <td>0.924490</td>\n",
       "      <td>0.925061</td>\n",
       "    </tr>\n",
       "    <tr>\n",
       "      <td>300</td>\n",
       "      <td>0.035600</td>\n",
       "      <td>0.051802</td>\n",
       "      <td>0.855641</td>\n",
       "      <td>0.877451</td>\n",
       "      <td>0.866409</td>\n",
       "      <td>1020.000000</td>\n",
       "      <td>0.937052</td>\n",
       "      <td>0.873700</td>\n",
       "      <td>0.904268</td>\n",
       "      <td>1346.000000</td>\n",
       "      <td>0.992162</td>\n",
       "      <td>0.994816</td>\n",
       "      <td>0.993487</td>\n",
       "      <td>24305.000000</td>\n",
       "      <td>0.984215</td>\n",
       "      <td>0.928285</td>\n",
       "      <td>0.915322</td>\n",
       "      <td>0.921388</td>\n",
       "    </tr>\n",
       "  </tbody>\n",
       "</table><p>"
      ],
      "text/plain": [
       "<IPython.core.display.HTML object>"
      ]
     },
     "metadata": {},
     "output_type": "display_data"
    },
    {
     "name": "stderr",
     "output_type": "stream",
     "text": [
      "/opt/conda/lib/python3.11/site-packages/torch/nn/parallel/_functions.py:68: UserWarning: Was asked to gather along dimension 0, but all input tensors were scalars; will instead unsqueeze and return a vector.\n",
      "  warnings.warn('Was asked to gather along dimension 0, but all '\n",
      "/opt/conda/lib/python3.11/site-packages/torch/nn/parallel/_functions.py:68: UserWarning: Was asked to gather along dimension 0, but all input tensors were scalars; will instead unsqueeze and return a vector.\n",
      "  warnings.warn('Was asked to gather along dimension 0, but all '\n",
      "/opt/conda/lib/python3.11/site-packages/torch/nn/parallel/_functions.py:68: UserWarning: Was asked to gather along dimension 0, but all input tensors were scalars; will instead unsqueeze and return a vector.\n",
      "  warnings.warn('Was asked to gather along dimension 0, but all '\n",
      "/opt/conda/lib/python3.11/site-packages/torch/nn/parallel/_functions.py:68: UserWarning: Was asked to gather along dimension 0, but all input tensors were scalars; will instead unsqueeze and return a vector.\n",
      "  warnings.warn('Was asked to gather along dimension 0, but all '\n",
      "/opt/conda/lib/python3.11/site-packages/torch/nn/parallel/_functions.py:68: UserWarning: Was asked to gather along dimension 0, but all input tensors were scalars; will instead unsqueeze and return a vector.\n",
      "  warnings.warn('Was asked to gather along dimension 0, but all '\n",
      "/opt/conda/lib/python3.11/site-packages/torch/nn/parallel/_functions.py:68: UserWarning: Was asked to gather along dimension 0, but all input tensors were scalars; will instead unsqueeze and return a vector.\n",
      "  warnings.warn('Was asked to gather along dimension 0, but all '\n"
     ]
    },
    {
     "data": {
      "text/html": [],
      "text/plain": [
       "<IPython.core.display.HTML object>"
      ]
     },
     "metadata": {},
     "output_type": "display_data"
    },
    {
     "name": "stdout",
     "output_type": "stream",
     "text": [
      "michiyasunaga/BioLinkBERT-base michiyasunaga/BioLinkBERT-base\n",
      "{'model_name': 'michiyasunaga/BioLinkBERT-base', 'tokenizer_name': 'michiyasunaga/BioLinkBERT-base', 'entity_type': 'Disease', 'entity_list': ['O', 'B', 'I']}\n",
      "michiyasunaga/BioLinkBERT-base\n"
     ]
    },
    {
     "name": "stderr",
     "output_type": "stream",
     "text": [
      "Some weights of BertForTokenClassification were not initialized from the model checkpoint at michiyasunaga/BioLinkBERT-base and are newly initialized: ['classifier.bias', 'classifier.weight']\n",
      "You should probably TRAIN this model on a down-stream task to be able to use it for predictions and inference.\n"
     ]
    },
    {
     "data": {
      "application/vnd.jupyter.widget-view+json": {
       "model_id": "41f704adc97a40f388a0c3c92585369c",
       "version_major": 2,
       "version_minor": 0
      },
      "text/plain": [
       "Map:   0%|          | 0/5424 [00:00<?, ? examples/s]"
      ]
     },
     "metadata": {},
     "output_type": "display_data"
    },
    {
     "data": {
      "application/vnd.jupyter.widget-view+json": {
       "model_id": "7e9af3ba5f4b47f890e7b285ee9909eb",
       "version_major": 2,
       "version_minor": 0
      },
      "text/plain": [
       "Map:   0%|          | 0/923 [00:00<?, ? examples/s]"
      ]
     },
     "metadata": {},
     "output_type": "display_data"
    },
    {
     "data": {
      "application/vnd.jupyter.widget-view+json": {
       "model_id": "e47a53914d31445aa1d00cd03c9ed570",
       "version_major": 2,
       "version_minor": 0
      },
      "text/plain": [
       "Map:   0%|          | 0/940 [00:00<?, ? examples/s]"
      ]
     },
     "metadata": {},
     "output_type": "display_data"
    },
    {
     "name": "stderr",
     "output_type": "stream",
     "text": [
      "You're using a BertTokenizerFast tokenizer. Please note that with a fast tokenizer, using the `__call__` method is faster than using a method to encode the text followed by a call to the `pad` method to get a padded encoding.\n",
      "/opt/conda/lib/python3.11/site-packages/torch/nn/parallel/_functions.py:68: UserWarning: Was asked to gather along dimension 0, but all input tensors were scalars; will instead unsqueeze and return a vector.\n",
      "  warnings.warn('Was asked to gather along dimension 0, but all '\n"
     ]
    },
    {
     "data": {
      "text/html": [
       "\n",
       "    <div>\n",
       "      \n",
       "      <progress value='300' max='300' style='width:300px; height:20px; vertical-align: middle;'></progress>\n",
       "      [300/300 01:11, Epoch 1/2]\n",
       "    </div>\n",
       "    <table border=\"1\" class=\"dataframe\">\n",
       "  <thead>\n",
       " <tr style=\"text-align: left;\">\n",
       "      <th>Step</th>\n",
       "      <th>Training Loss</th>\n",
       "      <th>Validation Loss</th>\n",
       "      <th>I Precision</th>\n",
       "      <th>I Recall</th>\n",
       "      <th>I F1-score</th>\n",
       "      <th>I Support</th>\n",
       "      <th>B Precision</th>\n",
       "      <th>B Recall</th>\n",
       "      <th>B F1-score</th>\n",
       "      <th>B Support</th>\n",
       "      <th>O Precision</th>\n",
       "      <th>O Recall</th>\n",
       "      <th>O F1-score</th>\n",
       "      <th>O Support</th>\n",
       "      <th>Overall Accuracy</th>\n",
       "      <th>Macro Precision</th>\n",
       "      <th>Macro Recall</th>\n",
       "      <th>Macro F1-score</th>\n",
       "    </tr>\n",
       "  </thead>\n",
       "  <tbody>\n",
       "    <tr>\n",
       "      <td>50</td>\n",
       "      <td>0.152300</td>\n",
       "      <td>0.127047</td>\n",
       "      <td>0.675070</td>\n",
       "      <td>0.512766</td>\n",
       "      <td>0.582830</td>\n",
       "      <td>940.000000</td>\n",
       "      <td>0.750668</td>\n",
       "      <td>0.702500</td>\n",
       "      <td>0.725786</td>\n",
       "      <td>1200.000000</td>\n",
       "      <td>0.979807</td>\n",
       "      <td>0.992378</td>\n",
       "      <td>0.986052</td>\n",
       "      <td>23616.000000</td>\n",
       "      <td>0.961368</td>\n",
       "      <td>0.801848</td>\n",
       "      <td>0.735881</td>\n",
       "      <td>0.764889</td>\n",
       "    </tr>\n",
       "    <tr>\n",
       "      <td>100</td>\n",
       "      <td>0.099300</td>\n",
       "      <td>0.080506</td>\n",
       "      <td>0.753099</td>\n",
       "      <td>0.775532</td>\n",
       "      <td>0.764151</td>\n",
       "      <td>940.000000</td>\n",
       "      <td>0.882466</td>\n",
       "      <td>0.763333</td>\n",
       "      <td>0.818588</td>\n",
       "      <td>1200.000000</td>\n",
       "      <td>0.987958</td>\n",
       "      <td>0.993564</td>\n",
       "      <td>0.990753</td>\n",
       "      <td>23616.000000</td>\n",
       "      <td>0.974880</td>\n",
       "      <td>0.874508</td>\n",
       "      <td>0.844143</td>\n",
       "      <td>0.857831</td>\n",
       "    </tr>\n",
       "    <tr>\n",
       "      <td>150</td>\n",
       "      <td>0.064500</td>\n",
       "      <td>0.063869</td>\n",
       "      <td>0.798604</td>\n",
       "      <td>0.852128</td>\n",
       "      <td>0.824498</td>\n",
       "      <td>940.000000</td>\n",
       "      <td>0.916350</td>\n",
       "      <td>0.803333</td>\n",
       "      <td>0.856128</td>\n",
       "      <td>1200.000000</td>\n",
       "      <td>0.989832</td>\n",
       "      <td>0.993394</td>\n",
       "      <td>0.991610</td>\n",
       "      <td>23616.000000</td>\n",
       "      <td>0.979383</td>\n",
       "      <td>0.901595</td>\n",
       "      <td>0.882952</td>\n",
       "      <td>0.890745</td>\n",
       "    </tr>\n",
       "    <tr>\n",
       "      <td>200</td>\n",
       "      <td>0.053100</td>\n",
       "      <td>0.056686</td>\n",
       "      <td>0.800386</td>\n",
       "      <td>0.882979</td>\n",
       "      <td>0.839656</td>\n",
       "      <td>940.000000</td>\n",
       "      <td>0.921659</td>\n",
       "      <td>0.833333</td>\n",
       "      <td>0.875274</td>\n",
       "      <td>1200.000000</td>\n",
       "      <td>0.992130</td>\n",
       "      <td>0.992886</td>\n",
       "      <td>0.992508</td>\n",
       "      <td>23616.000000</td>\n",
       "      <td>0.981441</td>\n",
       "      <td>0.904725</td>\n",
       "      <td>0.903066</td>\n",
       "      <td>0.902479</td>\n",
       "    </tr>\n",
       "    <tr>\n",
       "      <td>250</td>\n",
       "      <td>0.040700</td>\n",
       "      <td>0.055391</td>\n",
       "      <td>0.803810</td>\n",
       "      <td>0.897872</td>\n",
       "      <td>0.848241</td>\n",
       "      <td>940.000000</td>\n",
       "      <td>0.918149</td>\n",
       "      <td>0.860000</td>\n",
       "      <td>0.888124</td>\n",
       "      <td>1200.000000</td>\n",
       "      <td>0.993300</td>\n",
       "      <td>0.991870</td>\n",
       "      <td>0.992584</td>\n",
       "      <td>23616.000000</td>\n",
       "      <td>0.982295</td>\n",
       "      <td>0.905086</td>\n",
       "      <td>0.916581</td>\n",
       "      <td>0.909650</td>\n",
       "    </tr>\n",
       "    <tr>\n",
       "      <td>300</td>\n",
       "      <td>0.046900</td>\n",
       "      <td>0.054826</td>\n",
       "      <td>0.805956</td>\n",
       "      <td>0.892553</td>\n",
       "      <td>0.847047</td>\n",
       "      <td>940.000000</td>\n",
       "      <td>0.919964</td>\n",
       "      <td>0.852500</td>\n",
       "      <td>0.884948</td>\n",
       "      <td>1200.000000</td>\n",
       "      <td>0.992840</td>\n",
       "      <td>0.992293</td>\n",
       "      <td>0.992567</td>\n",
       "      <td>23616.000000</td>\n",
       "      <td>0.982140</td>\n",
       "      <td>0.906253</td>\n",
       "      <td>0.912449</td>\n",
       "      <td>0.908187</td>\n",
       "    </tr>\n",
       "  </tbody>\n",
       "</table><p>"
      ],
      "text/plain": [
       "<IPython.core.display.HTML object>"
      ]
     },
     "metadata": {},
     "output_type": "display_data"
    },
    {
     "name": "stderr",
     "output_type": "stream",
     "text": [
      "/opt/conda/lib/python3.11/site-packages/torch/nn/parallel/_functions.py:68: UserWarning: Was asked to gather along dimension 0, but all input tensors were scalars; will instead unsqueeze and return a vector.\n",
      "  warnings.warn('Was asked to gather along dimension 0, but all '\n",
      "/opt/conda/lib/python3.11/site-packages/torch/nn/parallel/_functions.py:68: UserWarning: Was asked to gather along dimension 0, but all input tensors were scalars; will instead unsqueeze and return a vector.\n",
      "  warnings.warn('Was asked to gather along dimension 0, but all '\n",
      "/opt/conda/lib/python3.11/site-packages/torch/nn/parallel/_functions.py:68: UserWarning: Was asked to gather along dimension 0, but all input tensors were scalars; will instead unsqueeze and return a vector.\n",
      "  warnings.warn('Was asked to gather along dimension 0, but all '\n",
      "/opt/conda/lib/python3.11/site-packages/torch/nn/parallel/_functions.py:68: UserWarning: Was asked to gather along dimension 0, but all input tensors were scalars; will instead unsqueeze and return a vector.\n",
      "  warnings.warn('Was asked to gather along dimension 0, but all '\n",
      "/opt/conda/lib/python3.11/site-packages/torch/nn/parallel/_functions.py:68: UserWarning: Was asked to gather along dimension 0, but all input tensors were scalars; will instead unsqueeze and return a vector.\n",
      "  warnings.warn('Was asked to gather along dimension 0, but all '\n",
      "/opt/conda/lib/python3.11/site-packages/torch/nn/parallel/_functions.py:68: UserWarning: Was asked to gather along dimension 0, but all input tensors were scalars; will instead unsqueeze and return a vector.\n",
      "  warnings.warn('Was asked to gather along dimension 0, but all '\n"
     ]
    },
    {
     "data": {
      "text/html": [],
      "text/plain": [
       "<IPython.core.display.HTML object>"
      ]
     },
     "metadata": {},
     "output_type": "display_data"
    },
    {
     "name": "stdout",
     "output_type": "stream",
     "text": [
      "microsoft/BiomedNLP-PubMedBERT-base-uncased-abstract-fulltext microsoft/BiomedNLP-PubMedBERT-base-uncased-abstract-fulltext\n",
      "{'model_name': 'microsoft/BiomedNLP-PubMedBERT-base-uncased-abstract-fulltext', 'tokenizer_name': 'microsoft/BiomedNLP-PubMedBERT-base-uncased-abstract-fulltext', 'entity_type': 'Disease', 'entity_list': ['O', 'B', 'I']}\n",
      "microsoft/BiomedNLP-PubMedBERT-base-uncased-abstract-fulltext\n"
     ]
    },
    {
     "name": "stderr",
     "output_type": "stream",
     "text": [
      "Some weights of BertForTokenClassification were not initialized from the model checkpoint at microsoft/BiomedNLP-PubMedBERT-base-uncased-abstract-fulltext and are newly initialized: ['classifier.bias', 'classifier.weight']\n",
      "You should probably TRAIN this model on a down-stream task to be able to use it for predictions and inference.\n"
     ]
    },
    {
     "data": {
      "application/vnd.jupyter.widget-view+json": {
       "model_id": "8ca491bc2f8642e3a21f4a781b402f08",
       "version_major": 2,
       "version_minor": 0
      },
      "text/plain": [
       "Map:   0%|          | 0/5424 [00:00<?, ? examples/s]"
      ]
     },
     "metadata": {},
     "output_type": "display_data"
    },
    {
     "data": {
      "application/vnd.jupyter.widget-view+json": {
       "model_id": "87b9725591104f60a2128069c328de0d",
       "version_major": 2,
       "version_minor": 0
      },
      "text/plain": [
       "Map:   0%|          | 0/923 [00:00<?, ? examples/s]"
      ]
     },
     "metadata": {},
     "output_type": "display_data"
    },
    {
     "data": {
      "application/vnd.jupyter.widget-view+json": {
       "model_id": "c0818e608a7b4b2c887aec79c4141d12",
       "version_major": 2,
       "version_minor": 0
      },
      "text/plain": [
       "Map:   0%|          | 0/940 [00:00<?, ? examples/s]"
      ]
     },
     "metadata": {},
     "output_type": "display_data"
    },
    {
     "name": "stderr",
     "output_type": "stream",
     "text": [
      "You're using a BertTokenizerFast tokenizer. Please note that with a fast tokenizer, using the `__call__` method is faster than using a method to encode the text followed by a call to the `pad` method to get a padded encoding.\n",
      "/opt/conda/lib/python3.11/site-packages/torch/nn/parallel/_functions.py:68: UserWarning: Was asked to gather along dimension 0, but all input tensors were scalars; will instead unsqueeze and return a vector.\n",
      "  warnings.warn('Was asked to gather along dimension 0, but all '\n"
     ]
    },
    {
     "data": {
      "text/html": [
       "\n",
       "    <div>\n",
       "      \n",
       "      <progress value='300' max='300' style='width:300px; height:20px; vertical-align: middle;'></progress>\n",
       "      [300/300 01:12, Epoch 1/2]\n",
       "    </div>\n",
       "    <table border=\"1\" class=\"dataframe\">\n",
       "  <thead>\n",
       " <tr style=\"text-align: left;\">\n",
       "      <th>Step</th>\n",
       "      <th>Training Loss</th>\n",
       "      <th>Validation Loss</th>\n",
       "      <th>I Precision</th>\n",
       "      <th>I Recall</th>\n",
       "      <th>I F1-score</th>\n",
       "      <th>I Support</th>\n",
       "      <th>B Precision</th>\n",
       "      <th>B Recall</th>\n",
       "      <th>B F1-score</th>\n",
       "      <th>B Support</th>\n",
       "      <th>O Precision</th>\n",
       "      <th>O Recall</th>\n",
       "      <th>O F1-score</th>\n",
       "      <th>O Support</th>\n",
       "      <th>Overall Accuracy</th>\n",
       "      <th>Macro Precision</th>\n",
       "      <th>Macro Recall</th>\n",
       "      <th>Macro F1-score</th>\n",
       "    </tr>\n",
       "  </thead>\n",
       "  <tbody>\n",
       "    <tr>\n",
       "      <td>50</td>\n",
       "      <td>0.138700</td>\n",
       "      <td>0.121173</td>\n",
       "      <td>0.648202</td>\n",
       "      <td>0.696242</td>\n",
       "      <td>0.671364</td>\n",
       "      <td>958.000000</td>\n",
       "      <td>0.880616</td>\n",
       "      <td>0.549679</td>\n",
       "      <td>0.676862</td>\n",
       "      <td>1248.000000</td>\n",
       "      <td>0.978268</td>\n",
       "      <td>0.994815</td>\n",
       "      <td>0.986472</td>\n",
       "      <td>23530.000000</td>\n",
       "      <td>0.962115</td>\n",
       "      <td>0.835695</td>\n",
       "      <td>0.746912</td>\n",
       "      <td>0.778233</td>\n",
       "    </tr>\n",
       "    <tr>\n",
       "      <td>100</td>\n",
       "      <td>0.090100</td>\n",
       "      <td>0.072982</td>\n",
       "      <td>0.743379</td>\n",
       "      <td>0.849687</td>\n",
       "      <td>0.792986</td>\n",
       "      <td>958.000000</td>\n",
       "      <td>0.884859</td>\n",
       "      <td>0.782051</td>\n",
       "      <td>0.830285</td>\n",
       "      <td>1248.000000</td>\n",
       "      <td>0.989974</td>\n",
       "      <td>0.990310</td>\n",
       "      <td>0.990142</td>\n",
       "      <td>23530.000000</td>\n",
       "      <td>0.974977</td>\n",
       "      <td>0.872737</td>\n",
       "      <td>0.874016</td>\n",
       "      <td>0.871138</td>\n",
       "    </tr>\n",
       "    <tr>\n",
       "      <td>150</td>\n",
       "      <td>0.053500</td>\n",
       "      <td>0.060745</td>\n",
       "      <td>0.816306</td>\n",
       "      <td>0.867432</td>\n",
       "      <td>0.841093</td>\n",
       "      <td>958.000000</td>\n",
       "      <td>0.938078</td>\n",
       "      <td>0.813301</td>\n",
       "      <td>0.871245</td>\n",
       "      <td>1248.000000</td>\n",
       "      <td>0.989634</td>\n",
       "      <td>0.994093</td>\n",
       "      <td>0.991859</td>\n",
       "      <td>23530.000000</td>\n",
       "      <td>0.980611</td>\n",
       "      <td>0.914673</td>\n",
       "      <td>0.891609</td>\n",
       "      <td>0.901399</td>\n",
       "    </tr>\n",
       "    <tr>\n",
       "      <td>200</td>\n",
       "      <td>0.053700</td>\n",
       "      <td>0.057711</td>\n",
       "      <td>0.826772</td>\n",
       "      <td>0.876827</td>\n",
       "      <td>0.851064</td>\n",
       "      <td>958.000000</td>\n",
       "      <td>0.913191</td>\n",
       "      <td>0.859776</td>\n",
       "      <td>0.885679</td>\n",
       "      <td>1248.000000</td>\n",
       "      <td>0.992185</td>\n",
       "      <td>0.992818</td>\n",
       "      <td>0.992501</td>\n",
       "      <td>23530.000000</td>\n",
       "      <td>0.982048</td>\n",
       "      <td>0.910716</td>\n",
       "      <td>0.909807</td>\n",
       "      <td>0.909748</td>\n",
       "    </tr>\n",
       "    <tr>\n",
       "      <td>250</td>\n",
       "      <td>0.032600</td>\n",
       "      <td>0.055740</td>\n",
       "      <td>0.838485</td>\n",
       "      <td>0.877871</td>\n",
       "      <td>0.857726</td>\n",
       "      <td>958.000000</td>\n",
       "      <td>0.898539</td>\n",
       "      <td>0.887019</td>\n",
       "      <td>0.892742</td>\n",
       "      <td>1248.000000</td>\n",
       "      <td>0.993107</td>\n",
       "      <td>0.991883</td>\n",
       "      <td>0.992494</td>\n",
       "      <td>23530.000000</td>\n",
       "      <td>0.982554</td>\n",
       "      <td>0.910043</td>\n",
       "      <td>0.918924</td>\n",
       "      <td>0.914321</td>\n",
       "    </tr>\n",
       "    <tr>\n",
       "      <td>300</td>\n",
       "      <td>0.038800</td>\n",
       "      <td>0.054723</td>\n",
       "      <td>0.845842</td>\n",
       "      <td>0.870564</td>\n",
       "      <td>0.858025</td>\n",
       "      <td>958.000000</td>\n",
       "      <td>0.909472</td>\n",
       "      <td>0.869391</td>\n",
       "      <td>0.888980</td>\n",
       "      <td>1248.000000</td>\n",
       "      <td>0.992104</td>\n",
       "      <td>0.993243</td>\n",
       "      <td>0.992673</td>\n",
       "      <td>23530.000000</td>\n",
       "      <td>0.982670</td>\n",
       "      <td>0.915806</td>\n",
       "      <td>0.911066</td>\n",
       "      <td>0.913226</td>\n",
       "    </tr>\n",
       "  </tbody>\n",
       "</table><p>"
      ],
      "text/plain": [
       "<IPython.core.display.HTML object>"
      ]
     },
     "metadata": {},
     "output_type": "display_data"
    },
    {
     "name": "stderr",
     "output_type": "stream",
     "text": [
      "/opt/conda/lib/python3.11/site-packages/torch/nn/parallel/_functions.py:68: UserWarning: Was asked to gather along dimension 0, but all input tensors were scalars; will instead unsqueeze and return a vector.\n",
      "  warnings.warn('Was asked to gather along dimension 0, but all '\n",
      "/opt/conda/lib/python3.11/site-packages/torch/nn/parallel/_functions.py:68: UserWarning: Was asked to gather along dimension 0, but all input tensors were scalars; will instead unsqueeze and return a vector.\n",
      "  warnings.warn('Was asked to gather along dimension 0, but all '\n",
      "/opt/conda/lib/python3.11/site-packages/torch/nn/parallel/_functions.py:68: UserWarning: Was asked to gather along dimension 0, but all input tensors were scalars; will instead unsqueeze and return a vector.\n",
      "  warnings.warn('Was asked to gather along dimension 0, but all '\n",
      "/opt/conda/lib/python3.11/site-packages/torch/nn/parallel/_functions.py:68: UserWarning: Was asked to gather along dimension 0, but all input tensors were scalars; will instead unsqueeze and return a vector.\n",
      "  warnings.warn('Was asked to gather along dimension 0, but all '\n",
      "/opt/conda/lib/python3.11/site-packages/torch/nn/parallel/_functions.py:68: UserWarning: Was asked to gather along dimension 0, but all input tensors were scalars; will instead unsqueeze and return a vector.\n",
      "  warnings.warn('Was asked to gather along dimension 0, but all '\n",
      "/opt/conda/lib/python3.11/site-packages/torch/nn/parallel/_functions.py:68: UserWarning: Was asked to gather along dimension 0, but all input tensors were scalars; will instead unsqueeze and return a vector.\n",
      "  warnings.warn('Was asked to gather along dimension 0, but all '\n"
     ]
    },
    {
     "data": {
      "text/html": [],
      "text/plain": [
       "<IPython.core.display.HTML object>"
      ]
     },
     "metadata": {},
     "output_type": "display_data"
    },
    {
     "name": "stdout",
     "output_type": "stream",
     "text": [
      "allenai/scibert_scivocab_uncased allenai/scibert_scivocab_uncased\n",
      "{'model_name': 'allenai/scibert_scivocab_uncased', 'tokenizer_name': 'allenai/scibert_scivocab_uncased', 'entity_type': 'Species', 'entity_list': ['O', 'B', 'I']}\n",
      "allenai/scibert_scivocab_uncased\n"
     ]
    },
    {
     "name": "stderr",
     "output_type": "stream",
     "text": [
      "Some weights of BertForTokenClassification were not initialized from the model checkpoint at allenai/scibert_scivocab_uncased and are newly initialized: ['classifier.bias', 'classifier.weight']\n",
      "You should probably TRAIN this model on a down-stream task to be able to use it for predictions and inference.\n"
     ]
    },
    {
     "data": {
      "application/vnd.jupyter.widget-view+json": {
       "model_id": "b1738f2ffcf84c6e95944c460a1bdfed",
       "version_major": 2,
       "version_minor": 0
      },
      "text/plain": [
       "Map:   0%|          | 0/830 [00:00<?, ? examples/s]"
      ]
     },
     "metadata": {},
     "output_type": "display_data"
    },
    {
     "name": "stderr",
     "output_type": "stream",
     "text": [
      "You're using a BertTokenizerFast tokenizer. Please note that with a fast tokenizer, using the `__call__` method is faster than using a method to encode the text followed by a call to the `pad` method to get a padded encoding.\n",
      "/opt/conda/lib/python3.11/site-packages/torch/nn/parallel/_functions.py:68: UserWarning: Was asked to gather along dimension 0, but all input tensors were scalars; will instead unsqueeze and return a vector.\n",
      "  warnings.warn('Was asked to gather along dimension 0, but all '\n"
     ]
    },
    {
     "data": {
      "text/html": [
       "\n",
       "    <div>\n",
       "      \n",
       "      <progress value='300' max='300' style='width:300px; height:20px; vertical-align: middle;'></progress>\n",
       "      [300/300 01:11, Epoch 1/2]\n",
       "    </div>\n",
       "    <table border=\"1\" class=\"dataframe\">\n",
       "  <thead>\n",
       " <tr style=\"text-align: left;\">\n",
       "      <th>Step</th>\n",
       "      <th>Training Loss</th>\n",
       "      <th>Validation Loss</th>\n",
       "      <th>I Precision</th>\n",
       "      <th>I Recall</th>\n",
       "      <th>I F1-score</th>\n",
       "      <th>I Support</th>\n",
       "      <th>B Precision</th>\n",
       "      <th>B Recall</th>\n",
       "      <th>B F1-score</th>\n",
       "      <th>B Support</th>\n",
       "      <th>O Precision</th>\n",
       "      <th>O Recall</th>\n",
       "      <th>O F1-score</th>\n",
       "      <th>O Support</th>\n",
       "      <th>Overall Accuracy</th>\n",
       "      <th>Macro Precision</th>\n",
       "      <th>Macro Recall</th>\n",
       "      <th>Macro F1-score</th>\n",
       "    </tr>\n",
       "  </thead>\n",
       "  <tbody>\n",
       "    <tr>\n",
       "      <td>50</td>\n",
       "      <td>0.091900</td>\n",
       "      <td>0.080999</td>\n",
       "      <td>0.682737</td>\n",
       "      <td>0.661145</td>\n",
       "      <td>0.671767</td>\n",
       "      <td>664.000000</td>\n",
       "      <td>0.721550</td>\n",
       "      <td>0.796791</td>\n",
       "      <td>0.757306</td>\n",
       "      <td>748.000000</td>\n",
       "      <td>0.987461</td>\n",
       "      <td>0.985122</td>\n",
       "      <td>0.986291</td>\n",
       "      <td>24063.000000</td>\n",
       "      <td>0.971148</td>\n",
       "      <td>0.797249</td>\n",
       "      <td>0.814353</td>\n",
       "      <td>0.805121</td>\n",
       "    </tr>\n",
       "    <tr>\n",
       "      <td>100</td>\n",
       "      <td>0.057300</td>\n",
       "      <td>0.068200</td>\n",
       "      <td>0.902552</td>\n",
       "      <td>0.585843</td>\n",
       "      <td>0.710502</td>\n",
       "      <td>664.000000</td>\n",
       "      <td>0.864507</td>\n",
       "      <td>0.784759</td>\n",
       "      <td>0.822705</td>\n",
       "      <td>748.000000</td>\n",
       "      <td>0.982598</td>\n",
       "      <td>0.994930</td>\n",
       "      <td>0.988726</td>\n",
       "      <td>24063.000000</td>\n",
       "      <td>0.978096</td>\n",
       "      <td>0.916552</td>\n",
       "      <td>0.788511</td>\n",
       "      <td>0.840644</td>\n",
       "    </tr>\n",
       "    <tr>\n",
       "      <td>150</td>\n",
       "      <td>0.074400</td>\n",
       "      <td>0.056381</td>\n",
       "      <td>0.793939</td>\n",
       "      <td>0.789157</td>\n",
       "      <td>0.791541</td>\n",
       "      <td>664.000000</td>\n",
       "      <td>0.808132</td>\n",
       "      <td>0.850267</td>\n",
       "      <td>0.828664</td>\n",
       "      <td>748.000000</td>\n",
       "      <td>0.990303</td>\n",
       "      <td>0.988863</td>\n",
       "      <td>0.989582</td>\n",
       "      <td>24063.000000</td>\n",
       "      <td>0.979588</td>\n",
       "      <td>0.864125</td>\n",
       "      <td>0.876096</td>\n",
       "      <td>0.869929</td>\n",
       "    </tr>\n",
       "    <tr>\n",
       "      <td>200</td>\n",
       "      <td>0.033500</td>\n",
       "      <td>0.057780</td>\n",
       "      <td>0.800307</td>\n",
       "      <td>0.784639</td>\n",
       "      <td>0.792395</td>\n",
       "      <td>664.000000</td>\n",
       "      <td>0.820972</td>\n",
       "      <td>0.858289</td>\n",
       "      <td>0.839216</td>\n",
       "      <td>748.000000</td>\n",
       "      <td>0.990600</td>\n",
       "      <td>0.989735</td>\n",
       "      <td>0.990167</td>\n",
       "      <td>24063.000000</td>\n",
       "      <td>0.980530</td>\n",
       "      <td>0.870626</td>\n",
       "      <td>0.877554</td>\n",
       "      <td>0.873926</td>\n",
       "    </tr>\n",
       "    <tr>\n",
       "      <td>250</td>\n",
       "      <td>0.044000</td>\n",
       "      <td>0.055688</td>\n",
       "      <td>0.804878</td>\n",
       "      <td>0.795181</td>\n",
       "      <td>0.800000</td>\n",
       "      <td>664.000000</td>\n",
       "      <td>0.814628</td>\n",
       "      <td>0.863636</td>\n",
       "      <td>0.838417</td>\n",
       "      <td>748.000000</td>\n",
       "      <td>0.991176</td>\n",
       "      <td>0.989652</td>\n",
       "      <td>0.990414</td>\n",
       "      <td>24063.000000</td>\n",
       "      <td>0.980883</td>\n",
       "      <td>0.870227</td>\n",
       "      <td>0.882823</td>\n",
       "      <td>0.876277</td>\n",
       "    </tr>\n",
       "    <tr>\n",
       "      <td>300</td>\n",
       "      <td>0.031700</td>\n",
       "      <td>0.057433</td>\n",
       "      <td>0.836806</td>\n",
       "      <td>0.725904</td>\n",
       "      <td>0.777419</td>\n",
       "      <td>664.000000</td>\n",
       "      <td>0.834688</td>\n",
       "      <td>0.823529</td>\n",
       "      <td>0.829071</td>\n",
       "      <td>748.000000</td>\n",
       "      <td>0.987666</td>\n",
       "      <td>0.991688</td>\n",
       "      <td>0.989673</td>\n",
       "      <td>24063.000000</td>\n",
       "      <td>0.979823</td>\n",
       "      <td>0.886387</td>\n",
       "      <td>0.847041</td>\n",
       "      <td>0.865388</td>\n",
       "    </tr>\n",
       "  </tbody>\n",
       "</table><p>"
      ],
      "text/plain": [
       "<IPython.core.display.HTML object>"
      ]
     },
     "metadata": {},
     "output_type": "display_data"
    },
    {
     "name": "stderr",
     "output_type": "stream",
     "text": [
      "/opt/conda/lib/python3.11/site-packages/torch/nn/parallel/_functions.py:68: UserWarning: Was asked to gather along dimension 0, but all input tensors were scalars; will instead unsqueeze and return a vector.\n",
      "  warnings.warn('Was asked to gather along dimension 0, but all '\n",
      "/opt/conda/lib/python3.11/site-packages/torch/nn/parallel/_functions.py:68: UserWarning: Was asked to gather along dimension 0, but all input tensors were scalars; will instead unsqueeze and return a vector.\n",
      "  warnings.warn('Was asked to gather along dimension 0, but all '\n",
      "/opt/conda/lib/python3.11/site-packages/torch/nn/parallel/_functions.py:68: UserWarning: Was asked to gather along dimension 0, but all input tensors were scalars; will instead unsqueeze and return a vector.\n",
      "  warnings.warn('Was asked to gather along dimension 0, but all '\n",
      "/opt/conda/lib/python3.11/site-packages/torch/nn/parallel/_functions.py:68: UserWarning: Was asked to gather along dimension 0, but all input tensors were scalars; will instead unsqueeze and return a vector.\n",
      "  warnings.warn('Was asked to gather along dimension 0, but all '\n",
      "/opt/conda/lib/python3.11/site-packages/torch/nn/parallel/_functions.py:68: UserWarning: Was asked to gather along dimension 0, but all input tensors were scalars; will instead unsqueeze and return a vector.\n",
      "  warnings.warn('Was asked to gather along dimension 0, but all '\n",
      "/opt/conda/lib/python3.11/site-packages/torch/nn/parallel/_functions.py:68: UserWarning: Was asked to gather along dimension 0, but all input tensors were scalars; will instead unsqueeze and return a vector.\n",
      "  warnings.warn('Was asked to gather along dimension 0, but all '\n"
     ]
    },
    {
     "data": {
      "text/html": [],
      "text/plain": [
       "<IPython.core.display.HTML object>"
      ]
     },
     "metadata": {},
     "output_type": "display_data"
    },
    {
     "name": "stdout",
     "output_type": "stream",
     "text": [
      "michiyasunaga/BioLinkBERT-base michiyasunaga/BioLinkBERT-base\n",
      "{'model_name': 'michiyasunaga/BioLinkBERT-base', 'tokenizer_name': 'michiyasunaga/BioLinkBERT-base', 'entity_type': 'Species', 'entity_list': ['O', 'B', 'I']}\n",
      "michiyasunaga/BioLinkBERT-base\n"
     ]
    },
    {
     "name": "stderr",
     "output_type": "stream",
     "text": [
      "Some weights of BertForTokenClassification were not initialized from the model checkpoint at michiyasunaga/BioLinkBERT-base and are newly initialized: ['classifier.bias', 'classifier.weight']\n",
      "You should probably TRAIN this model on a down-stream task to be able to use it for predictions and inference.\n"
     ]
    },
    {
     "data": {
      "application/vnd.jupyter.widget-view+json": {
       "model_id": "d0693e2cf2a24bf4ad7dbe488e4d9ff1",
       "version_major": 2,
       "version_minor": 0
      },
      "text/plain": [
       "Map:   0%|          | 0/5733 [00:00<?, ? examples/s]"
      ]
     },
     "metadata": {},
     "output_type": "display_data"
    },
    {
     "data": {
      "application/vnd.jupyter.widget-view+json": {
       "model_id": "a7c3380d6c3d47dba59c19c75520272d",
       "version_major": 2,
       "version_minor": 0
      },
      "text/plain": [
       "Map:   0%|          | 0/830 [00:00<?, ? examples/s]"
      ]
     },
     "metadata": {},
     "output_type": "display_data"
    },
    {
     "data": {
      "application/vnd.jupyter.widget-view+json": {
       "model_id": "db0da4e04f1144d5b12a9b6b65689e7d",
       "version_major": 2,
       "version_minor": 0
      },
      "text/plain": [
       "Map:   0%|          | 0/830 [00:00<?, ? examples/s]"
      ]
     },
     "metadata": {},
     "output_type": "display_data"
    },
    {
     "name": "stderr",
     "output_type": "stream",
     "text": [
      "You're using a BertTokenizerFast tokenizer. Please note that with a fast tokenizer, using the `__call__` method is faster than using a method to encode the text followed by a call to the `pad` method to get a padded encoding.\n",
      "/opt/conda/lib/python3.11/site-packages/torch/nn/parallel/_functions.py:68: UserWarning: Was asked to gather along dimension 0, but all input tensors were scalars; will instead unsqueeze and return a vector.\n",
      "  warnings.warn('Was asked to gather along dimension 0, but all '\n"
     ]
    },
    {
     "data": {
      "text/html": [
       "\n",
       "    <div>\n",
       "      \n",
       "      <progress value='300' max='300' style='width:300px; height:20px; vertical-align: middle;'></progress>\n",
       "      [300/300 01:18, Epoch 1/2]\n",
       "    </div>\n",
       "    <table border=\"1\" class=\"dataframe\">\n",
       "  <thead>\n",
       " <tr style=\"text-align: left;\">\n",
       "      <th>Step</th>\n",
       "      <th>Training Loss</th>\n",
       "      <th>Validation Loss</th>\n",
       "      <th>I Precision</th>\n",
       "      <th>I Recall</th>\n",
       "      <th>I F1-score</th>\n",
       "      <th>I Support</th>\n",
       "      <th>B Precision</th>\n",
       "      <th>B Recall</th>\n",
       "      <th>B F1-score</th>\n",
       "      <th>B Support</th>\n",
       "      <th>O Precision</th>\n",
       "      <th>O Recall</th>\n",
       "      <th>O F1-score</th>\n",
       "      <th>O Support</th>\n",
       "      <th>Overall Accuracy</th>\n",
       "      <th>Macro Precision</th>\n",
       "      <th>Macro Recall</th>\n",
       "      <th>Macro F1-score</th>\n",
       "    </tr>\n",
       "  </thead>\n",
       "  <tbody>\n",
       "    <tr>\n",
       "      <td>50</td>\n",
       "      <td>0.135500</td>\n",
       "      <td>0.104499</td>\n",
       "      <td>0.709677</td>\n",
       "      <td>0.250000</td>\n",
       "      <td>0.369748</td>\n",
       "      <td>616.000000</td>\n",
       "      <td>0.517518</td>\n",
       "      <td>0.723077</td>\n",
       "      <td>0.603267</td>\n",
       "      <td>715.000000</td>\n",
       "      <td>0.982513</td>\n",
       "      <td>0.987297</td>\n",
       "      <td>0.984899</td>\n",
       "      <td>23617.000000</td>\n",
       "      <td>0.961520</td>\n",
       "      <td>0.736569</td>\n",
       "      <td>0.653458</td>\n",
       "      <td>0.652638</td>\n",
       "    </tr>\n",
       "    <tr>\n",
       "      <td>100</td>\n",
       "      <td>0.067600</td>\n",
       "      <td>0.067723</td>\n",
       "      <td>0.870098</td>\n",
       "      <td>0.576299</td>\n",
       "      <td>0.693359</td>\n",
       "      <td>616.000000</td>\n",
       "      <td>0.752169</td>\n",
       "      <td>0.848951</td>\n",
       "      <td>0.797635</td>\n",
       "      <td>715.000000</td>\n",
       "      <td>0.986896</td>\n",
       "      <td>0.991743</td>\n",
       "      <td>0.989314</td>\n",
       "      <td>23617.000000</td>\n",
       "      <td>0.977393</td>\n",
       "      <td>0.869721</td>\n",
       "      <td>0.805664</td>\n",
       "      <td>0.826769</td>\n",
       "    </tr>\n",
       "    <tr>\n",
       "      <td>150</td>\n",
       "      <td>0.078700</td>\n",
       "      <td>0.058679</td>\n",
       "      <td>0.764516</td>\n",
       "      <td>0.769481</td>\n",
       "      <td>0.766990</td>\n",
       "      <td>616.000000</td>\n",
       "      <td>0.804318</td>\n",
       "      <td>0.833566</td>\n",
       "      <td>0.818681</td>\n",
       "      <td>715.000000</td>\n",
       "      <td>0.990842</td>\n",
       "      <td>0.989584</td>\n",
       "      <td>0.990213</td>\n",
       "      <td>23617.000000</td>\n",
       "      <td>0.979678</td>\n",
       "      <td>0.853226</td>\n",
       "      <td>0.864210</td>\n",
       "      <td>0.858628</td>\n",
       "    </tr>\n",
       "    <tr>\n",
       "      <td>200</td>\n",
       "      <td>0.041200</td>\n",
       "      <td>0.058164</td>\n",
       "      <td>0.743161</td>\n",
       "      <td>0.793831</td>\n",
       "      <td>0.767661</td>\n",
       "      <td>616.000000</td>\n",
       "      <td>0.795226</td>\n",
       "      <td>0.885315</td>\n",
       "      <td>0.837856</td>\n",
       "      <td>715.000000</td>\n",
       "      <td>0.992892</td>\n",
       "      <td>0.987721</td>\n",
       "      <td>0.990300</td>\n",
       "      <td>23617.000000</td>\n",
       "      <td>0.979998</td>\n",
       "      <td>0.843760</td>\n",
       "      <td>0.888956</td>\n",
       "      <td>0.865272</td>\n",
       "    </tr>\n",
       "    <tr>\n",
       "      <td>250</td>\n",
       "      <td>0.055200</td>\n",
       "      <td>0.051410</td>\n",
       "      <td>0.834798</td>\n",
       "      <td>0.771104</td>\n",
       "      <td>0.801688</td>\n",
       "      <td>616.000000</td>\n",
       "      <td>0.865356</td>\n",
       "      <td>0.800000</td>\n",
       "      <td>0.831395</td>\n",
       "      <td>715.000000</td>\n",
       "      <td>0.988911</td>\n",
       "      <td>0.993141</td>\n",
       "      <td>0.991021</td>\n",
       "      <td>23617.000000</td>\n",
       "      <td>0.982123</td>\n",
       "      <td>0.896355</td>\n",
       "      <td>0.854748</td>\n",
       "      <td>0.874702</td>\n",
       "    </tr>\n",
       "    <tr>\n",
       "      <td>300</td>\n",
       "      <td>0.036500</td>\n",
       "      <td>0.050813</td>\n",
       "      <td>0.856364</td>\n",
       "      <td>0.764610</td>\n",
       "      <td>0.807890</td>\n",
       "      <td>616.000000</td>\n",
       "      <td>0.848787</td>\n",
       "      <td>0.832168</td>\n",
       "      <td>0.840395</td>\n",
       "      <td>715.000000</td>\n",
       "      <td>0.989661</td>\n",
       "      <td>0.993014</td>\n",
       "      <td>0.991334</td>\n",
       "      <td>23617.000000</td>\n",
       "      <td>0.982764</td>\n",
       "      <td>0.898271</td>\n",
       "      <td>0.863264</td>\n",
       "      <td>0.879873</td>\n",
       "    </tr>\n",
       "  </tbody>\n",
       "</table><p>"
      ],
      "text/plain": [
       "<IPython.core.display.HTML object>"
      ]
     },
     "metadata": {},
     "output_type": "display_data"
    },
    {
     "name": "stderr",
     "output_type": "stream",
     "text": [
      "/opt/conda/lib/python3.11/site-packages/torch/nn/parallel/_functions.py:68: UserWarning: Was asked to gather along dimension 0, but all input tensors were scalars; will instead unsqueeze and return a vector.\n",
      "  warnings.warn('Was asked to gather along dimension 0, but all '\n",
      "/opt/conda/lib/python3.11/site-packages/torch/nn/parallel/_functions.py:68: UserWarning: Was asked to gather along dimension 0, but all input tensors were scalars; will instead unsqueeze and return a vector.\n",
      "  warnings.warn('Was asked to gather along dimension 0, but all '\n",
      "/opt/conda/lib/python3.11/site-packages/torch/nn/parallel/_functions.py:68: UserWarning: Was asked to gather along dimension 0, but all input tensors were scalars; will instead unsqueeze and return a vector.\n",
      "  warnings.warn('Was asked to gather along dimension 0, but all '\n",
      "/opt/conda/lib/python3.11/site-packages/torch/nn/parallel/_functions.py:68: UserWarning: Was asked to gather along dimension 0, but all input tensors were scalars; will instead unsqueeze and return a vector.\n",
      "  warnings.warn('Was asked to gather along dimension 0, but all '\n",
      "/opt/conda/lib/python3.11/site-packages/torch/nn/parallel/_functions.py:68: UserWarning: Was asked to gather along dimension 0, but all input tensors were scalars; will instead unsqueeze and return a vector.\n",
      "  warnings.warn('Was asked to gather along dimension 0, but all '\n",
      "/opt/conda/lib/python3.11/site-packages/torch/nn/parallel/_functions.py:68: UserWarning: Was asked to gather along dimension 0, but all input tensors were scalars; will instead unsqueeze and return a vector.\n",
      "  warnings.warn('Was asked to gather along dimension 0, but all '\n"
     ]
    },
    {
     "data": {
      "text/html": [],
      "text/plain": [
       "<IPython.core.display.HTML object>"
      ]
     },
     "metadata": {},
     "output_type": "display_data"
    },
    {
     "name": "stdout",
     "output_type": "stream",
     "text": [
      "microsoft/BiomedNLP-PubMedBERT-base-uncased-abstract-fulltext microsoft/BiomedNLP-PubMedBERT-base-uncased-abstract-fulltext\n",
      "{'model_name': 'microsoft/BiomedNLP-PubMedBERT-base-uncased-abstract-fulltext', 'tokenizer_name': 'microsoft/BiomedNLP-PubMedBERT-base-uncased-abstract-fulltext', 'entity_type': 'Species', 'entity_list': ['O', 'B', 'I']}\n",
      "microsoft/BiomedNLP-PubMedBERT-base-uncased-abstract-fulltext\n"
     ]
    },
    {
     "name": "stderr",
     "output_type": "stream",
     "text": [
      "Some weights of BertForTokenClassification were not initialized from the model checkpoint at microsoft/BiomedNLP-PubMedBERT-base-uncased-abstract-fulltext and are newly initialized: ['classifier.bias', 'classifier.weight']\n",
      "You should probably TRAIN this model on a down-stream task to be able to use it for predictions and inference.\n"
     ]
    },
    {
     "data": {
      "application/vnd.jupyter.widget-view+json": {
       "model_id": "fa29e7ce805941068f642c50f3f7acd1",
       "version_major": 2,
       "version_minor": 0
      },
      "text/plain": [
       "Map:   0%|          | 0/5733 [00:00<?, ? examples/s]"
      ]
     },
     "metadata": {},
     "output_type": "display_data"
    },
    {
     "data": {
      "application/vnd.jupyter.widget-view+json": {
       "model_id": "96ff6fcb47f046e8bea2a23b4d3f4b83",
       "version_major": 2,
       "version_minor": 0
      },
      "text/plain": [
       "Map:   0%|          | 0/830 [00:00<?, ? examples/s]"
      ]
     },
     "metadata": {},
     "output_type": "display_data"
    },
    {
     "data": {
      "application/vnd.jupyter.widget-view+json": {
       "model_id": "cb30ebd4c6194f369bfffe90920fed3f",
       "version_major": 2,
       "version_minor": 0
      },
      "text/plain": [
       "Map:   0%|          | 0/830 [00:00<?, ? examples/s]"
      ]
     },
     "metadata": {},
     "output_type": "display_data"
    },
    {
     "name": "stderr",
     "output_type": "stream",
     "text": [
      "You're using a BertTokenizerFast tokenizer. Please note that with a fast tokenizer, using the `__call__` method is faster than using a method to encode the text followed by a call to the `pad` method to get a padded encoding.\n",
      "/opt/conda/lib/python3.11/site-packages/torch/nn/parallel/_functions.py:68: UserWarning: Was asked to gather along dimension 0, but all input tensors were scalars; will instead unsqueeze and return a vector.\n",
      "  warnings.warn('Was asked to gather along dimension 0, but all '\n"
     ]
    },
    {
     "data": {
      "text/html": [
       "\n",
       "    <div>\n",
       "      \n",
       "      <progress value='300' max='300' style='width:300px; height:20px; vertical-align: middle;'></progress>\n",
       "      [300/300 01:16, Epoch 1/2]\n",
       "    </div>\n",
       "    <table border=\"1\" class=\"dataframe\">\n",
       "  <thead>\n",
       " <tr style=\"text-align: left;\">\n",
       "      <th>Step</th>\n",
       "      <th>Training Loss</th>\n",
       "      <th>Validation Loss</th>\n",
       "      <th>I Precision</th>\n",
       "      <th>I Recall</th>\n",
       "      <th>I F1-score</th>\n",
       "      <th>I Support</th>\n",
       "      <th>B Precision</th>\n",
       "      <th>B Recall</th>\n",
       "      <th>B F1-score</th>\n",
       "      <th>B Support</th>\n",
       "      <th>O Precision</th>\n",
       "      <th>O Recall</th>\n",
       "      <th>O F1-score</th>\n",
       "      <th>O Support</th>\n",
       "      <th>Overall Accuracy</th>\n",
       "      <th>Macro Precision</th>\n",
       "      <th>Macro Recall</th>\n",
       "      <th>Macro F1-score</th>\n",
       "    </tr>\n",
       "  </thead>\n",
       "  <tbody>\n",
       "    <tr>\n",
       "      <td>50</td>\n",
       "      <td>0.118700</td>\n",
       "      <td>0.093070</td>\n",
       "      <td>0.721133</td>\n",
       "      <td>0.534733</td>\n",
       "      <td>0.614100</td>\n",
       "      <td>619.000000</td>\n",
       "      <td>0.633333</td>\n",
       "      <td>0.707736</td>\n",
       "      <td>0.668471</td>\n",
       "      <td>698.000000</td>\n",
       "      <td>0.983912</td>\n",
       "      <td>0.987172</td>\n",
       "      <td>0.985539</td>\n",
       "      <td>23542.000000</td>\n",
       "      <td>0.968060</td>\n",
       "      <td>0.779459</td>\n",
       "      <td>0.743214</td>\n",
       "      <td>0.756037</td>\n",
       "    </tr>\n",
       "    <tr>\n",
       "      <td>100</td>\n",
       "      <td>0.063800</td>\n",
       "      <td>0.062800</td>\n",
       "      <td>0.897375</td>\n",
       "      <td>0.607431</td>\n",
       "      <td>0.724470</td>\n",
       "      <td>619.000000</td>\n",
       "      <td>0.866894</td>\n",
       "      <td>0.727794</td>\n",
       "      <td>0.791277</td>\n",
       "      <td>698.000000</td>\n",
       "      <td>0.982477</td>\n",
       "      <td>0.995497</td>\n",
       "      <td>0.988944</td>\n",
       "      <td>23542.000000</td>\n",
       "      <td>0.978318</td>\n",
       "      <td>0.915582</td>\n",
       "      <td>0.776907</td>\n",
       "      <td>0.834897</td>\n",
       "    </tr>\n",
       "    <tr>\n",
       "      <td>150</td>\n",
       "      <td>0.073000</td>\n",
       "      <td>0.049658</td>\n",
       "      <td>0.891304</td>\n",
       "      <td>0.728595</td>\n",
       "      <td>0.801778</td>\n",
       "      <td>619.000000</td>\n",
       "      <td>0.847432</td>\n",
       "      <td>0.803725</td>\n",
       "      <td>0.825000</td>\n",
       "      <td>698.000000</td>\n",
       "      <td>0.987717</td>\n",
       "      <td>0.993968</td>\n",
       "      <td>0.990833</td>\n",
       "      <td>23542.000000</td>\n",
       "      <td>0.982019</td>\n",
       "      <td>0.908818</td>\n",
       "      <td>0.842096</td>\n",
       "      <td>0.872537</td>\n",
       "    </tr>\n",
       "    <tr>\n",
       "      <td>200</td>\n",
       "      <td>0.033100</td>\n",
       "      <td>0.051003</td>\n",
       "      <td>0.796267</td>\n",
       "      <td>0.827141</td>\n",
       "      <td>0.811410</td>\n",
       "      <td>619.000000</td>\n",
       "      <td>0.857143</td>\n",
       "      <td>0.842407</td>\n",
       "      <td>0.849711</td>\n",
       "      <td>698.000000</td>\n",
       "      <td>0.991925</td>\n",
       "      <td>0.991420</td>\n",
       "      <td>0.991672</td>\n",
       "      <td>23542.000000</td>\n",
       "      <td>0.983145</td>\n",
       "      <td>0.881779</td>\n",
       "      <td>0.886989</td>\n",
       "      <td>0.884265</td>\n",
       "    </tr>\n",
       "    <tr>\n",
       "      <td>250</td>\n",
       "      <td>0.047300</td>\n",
       "      <td>0.046932</td>\n",
       "      <td>0.871972</td>\n",
       "      <td>0.814216</td>\n",
       "      <td>0.842105</td>\n",
       "      <td>619.000000</td>\n",
       "      <td>0.871118</td>\n",
       "      <td>0.803725</td>\n",
       "      <td>0.836066</td>\n",
       "      <td>698.000000</td>\n",
       "      <td>0.989762</td>\n",
       "      <td>0.993756</td>\n",
       "      <td>0.991755</td>\n",
       "      <td>23542.000000</td>\n",
       "      <td>0.983949</td>\n",
       "      <td>0.910951</td>\n",
       "      <td>0.870566</td>\n",
       "      <td>0.889975</td>\n",
       "    </tr>\n",
       "    <tr>\n",
       "      <td>300</td>\n",
       "      <td>0.033500</td>\n",
       "      <td>0.047307</td>\n",
       "      <td>0.889908</td>\n",
       "      <td>0.783522</td>\n",
       "      <td>0.833333</td>\n",
       "      <td>619.000000</td>\n",
       "      <td>0.862222</td>\n",
       "      <td>0.833811</td>\n",
       "      <td>0.847779</td>\n",
       "      <td>698.000000</td>\n",
       "      <td>0.989805</td>\n",
       "      <td>0.993883</td>\n",
       "      <td>0.991840</td>\n",
       "      <td>23542.000000</td>\n",
       "      <td>0.984151</td>\n",
       "      <td>0.913978</td>\n",
       "      <td>0.870405</td>\n",
       "      <td>0.890984</td>\n",
       "    </tr>\n",
       "  </tbody>\n",
       "</table><p>"
      ],
      "text/plain": [
       "<IPython.core.display.HTML object>"
      ]
     },
     "metadata": {},
     "output_type": "display_data"
    },
    {
     "name": "stderr",
     "output_type": "stream",
     "text": [
      "/opt/conda/lib/python3.11/site-packages/torch/nn/parallel/_functions.py:68: UserWarning: Was asked to gather along dimension 0, but all input tensors were scalars; will instead unsqueeze and return a vector.\n",
      "  warnings.warn('Was asked to gather along dimension 0, but all '\n",
      "/opt/conda/lib/python3.11/site-packages/torch/nn/parallel/_functions.py:68: UserWarning: Was asked to gather along dimension 0, but all input tensors were scalars; will instead unsqueeze and return a vector.\n",
      "  warnings.warn('Was asked to gather along dimension 0, but all '\n",
      "/opt/conda/lib/python3.11/site-packages/torch/nn/parallel/_functions.py:68: UserWarning: Was asked to gather along dimension 0, but all input tensors were scalars; will instead unsqueeze and return a vector.\n",
      "  warnings.warn('Was asked to gather along dimension 0, but all '\n",
      "/opt/conda/lib/python3.11/site-packages/torch/nn/parallel/_functions.py:68: UserWarning: Was asked to gather along dimension 0, but all input tensors were scalars; will instead unsqueeze and return a vector.\n",
      "  warnings.warn('Was asked to gather along dimension 0, but all '\n",
      "/opt/conda/lib/python3.11/site-packages/torch/nn/parallel/_functions.py:68: UserWarning: Was asked to gather along dimension 0, but all input tensors were scalars; will instead unsqueeze and return a vector.\n",
      "  warnings.warn('Was asked to gather along dimension 0, but all '\n",
      "/opt/conda/lib/python3.11/site-packages/torch/nn/parallel/_functions.py:68: UserWarning: Was asked to gather along dimension 0, but all input tensors were scalars; will instead unsqueeze and return a vector.\n",
      "  warnings.warn('Was asked to gather along dimension 0, but all '\n"
     ]
    },
    {
     "data": {
      "text/html": [],
      "text/plain": [
       "<IPython.core.display.HTML object>"
      ]
     },
     "metadata": {},
     "output_type": "display_data"
    }
   ],
   "source": [
    "all_list_df=[]\n",
    "for ds_name in dataset_names:\n",
    "    list_df=[]\n",
    "    for m,t in zip(models,tokenizers):\n",
    "        print(m,t)\n",
    "        args[\"model_name\"]=m\n",
    "        args[\"tokenizer_name\"]=t\n",
    "        args[\"entity_type\"]=ds_name.split(\"_\")[0]\n",
    "        args[\"entity_list\"]=[\"O\",\"B\",\"I\"]\n",
    "\n",
    "        datasets_path=os.path.join(path_datasets,ds_name)\n",
    "        print(args)\n",
    "        nlp_ner=ner_model.AlibertForTokenClassification(model_name=args[\"model_name\"],tokenizer_name=args[\"tokenizer_name\"],list_entities=args[\"entity_list\"],train=True)\n",
    "        nlp_ner.train_ner_model(dataset_path=datasets_path,save_mode=True)\n",
    "        df=nlp_ner.df_results\n",
    "        list_df.append(df)\n",
    "    all_list_df.append(list_df)\n",
    "        \n"
   ]
  },
  {
   "cell_type": "code",
   "execution_count": 5,
   "id": "e9859919",
   "metadata": {},
   "outputs": [
    {
     "ename": "NameError",
     "evalue": "name 'datasets_path' is not defined",
     "output_type": "error",
     "traceback": [
      "\u001b[0;31m---------------------------------------------------------------------------\u001b[0m",
      "\u001b[0;31mNameError\u001b[0m                                 Traceback (most recent call last)",
      "\u001b[1;32m/home/aberhe/Projects/SANTAL/ASLR/notebooks/capitilized_ner.ipynb Cell 48\u001b[0m line \u001b[0;36m1\n\u001b[0;32m----> <a href='vscode-notebook-cell://ssh-remote%2Bhpc-cng4.ummisco.ioit/home/aberhe/Projects/SANTAL/ASLR/notebooks/capitilized_ner.ipynb#X65sdnNjb2RlLXJlbW90ZQ%3D%3D?line=0'>1</a>\u001b[0m datasets_path\n",
      "\u001b[0;31mNameError\u001b[0m: name 'datasets_path' is not defined"
     ]
    }
   ],
   "source": [
    "datasets_path"
   ]
  },
  {
   "cell_type": "code",
   "execution_count": 12,
   "id": "b534356c",
   "metadata": {},
   "outputs": [
    {
     "data": {
      "text/plain": [
       "3"
      ]
     },
     "execution_count": 12,
     "metadata": {},
     "output_type": "execute_result"
    }
   ],
   "source": [
    "len(all_list_df)"
   ]
  },
  {
   "cell_type": "code",
   "execution_count": 13,
   "id": "ff944eb7",
   "metadata": {},
   "outputs": [
    {
     "data": {
      "text/plain": [
       "3"
      ]
     },
     "execution_count": 13,
     "metadata": {},
     "output_type": "execute_result"
    }
   ],
   "source": [
    "len(all_list_df[0])"
   ]
  },
  {
   "cell_type": "code",
   "execution_count": 14,
   "id": "5d30394b",
   "metadata": {},
   "outputs": [
    {
     "data": {
      "text/html": [
       "<div>\n",
       "<style scoped>\n",
       "    .dataframe tbody tr th:only-of-type {\n",
       "        vertical-align: middle;\n",
       "    }\n",
       "\n",
       "    .dataframe tbody tr th {\n",
       "        vertical-align: top;\n",
       "    }\n",
       "\n",
       "    .dataframe thead th {\n",
       "        text-align: right;\n",
       "    }\n",
       "</style>\n",
       "<table border=\"1\" class=\"dataframe\">\n",
       "  <thead>\n",
       "    <tr style=\"text-align: right;\">\n",
       "      <th></th>\n",
       "      <th>Entity</th>\n",
       "      <th>Precision</th>\n",
       "      <th>Recall</th>\n",
       "      <th>F1_Score</th>\n",
       "    </tr>\n",
       "  </thead>\n",
       "  <tbody>\n",
       "    <tr>\n",
       "      <th>0</th>\n",
       "      <td>O</td>\n",
       "      <td>0.986781</td>\n",
       "      <td>0.971618</td>\n",
       "      <td>0.979141</td>\n",
       "    </tr>\n",
       "    <tr>\n",
       "      <th>1</th>\n",
       "      <td>B</td>\n",
       "      <td>0.882523</td>\n",
       "      <td>0.940553</td>\n",
       "      <td>0.910614</td>\n",
       "    </tr>\n",
       "    <tr>\n",
       "      <th>2</th>\n",
       "      <td>I</td>\n",
       "      <td>0.737810</td>\n",
       "      <td>0.769674</td>\n",
       "      <td>0.753405</td>\n",
       "    </tr>\n",
       "    <tr>\n",
       "      <th>3</th>\n",
       "      <td>Over_all_macro</td>\n",
       "      <td>0.869038</td>\n",
       "      <td>0.893948</td>\n",
       "      <td>0.881054</td>\n",
       "    </tr>\n",
       "  </tbody>\n",
       "</table>\n",
       "</div>"
      ],
      "text/plain": [
       "           Entity  Precision    Recall  F1_Score\n",
       "0               O   0.986781  0.971618  0.979141\n",
       "1               B   0.882523  0.940553  0.910614\n",
       "2               I   0.737810  0.769674  0.753405\n",
       "3  Over_all_macro   0.869038  0.893948  0.881054"
      ]
     },
     "execution_count": 14,
     "metadata": {},
     "output_type": "execute_result"
    }
   ],
   "source": [
    "all_list_df[0][0]"
   ]
  },
  {
   "cell_type": "code",
   "execution_count": 17,
   "id": "e8facdc9",
   "metadata": {},
   "outputs": [
    {
     "data": {
      "text/html": [
       "<div>\n",
       "<style scoped>\n",
       "    .dataframe tbody tr th:only-of-type {\n",
       "        vertical-align: middle;\n",
       "    }\n",
       "\n",
       "    .dataframe tbody tr th {\n",
       "        vertical-align: top;\n",
       "    }\n",
       "\n",
       "    .dataframe thead th {\n",
       "        text-align: right;\n",
       "    }\n",
       "</style>\n",
       "<table border=\"1\" class=\"dataframe\">\n",
       "  <thead>\n",
       "    <tr style=\"text-align: right;\">\n",
       "      <th></th>\n",
       "      <th>PubMed-Entity</th>\n",
       "      <th>PubMed-Precision</th>\n",
       "      <th>PubMed-Recall</th>\n",
       "      <th>PubMed-F1_Score</th>\n",
       "    </tr>\n",
       "  </thead>\n",
       "  <tbody>\n",
       "    <tr>\n",
       "      <th>0</th>\n",
       "      <td>O</td>\n",
       "      <td>0.986781</td>\n",
       "      <td>0.971618</td>\n",
       "      <td>0.979141</td>\n",
       "    </tr>\n",
       "    <tr>\n",
       "      <th>1</th>\n",
       "      <td>B</td>\n",
       "      <td>0.882523</td>\n",
       "      <td>0.940553</td>\n",
       "      <td>0.910614</td>\n",
       "    </tr>\n",
       "    <tr>\n",
       "      <th>2</th>\n",
       "      <td>I</td>\n",
       "      <td>0.737810</td>\n",
       "      <td>0.769674</td>\n",
       "      <td>0.753405</td>\n",
       "    </tr>\n",
       "    <tr>\n",
       "      <th>3</th>\n",
       "      <td>Over_all_macro</td>\n",
       "      <td>0.869038</td>\n",
       "      <td>0.893948</td>\n",
       "      <td>0.881054</td>\n",
       "    </tr>\n",
       "  </tbody>\n",
       "</table>\n",
       "</div>"
      ],
      "text/plain": [
       "    PubMed-Entity  PubMed-Precision  PubMed-Recall  PubMed-F1_Score\n",
       "0               O          0.986781       0.971618         0.979141\n",
       "1               B          0.882523       0.940553         0.910614\n",
       "2               I          0.737810       0.769674         0.753405\n",
       "3  Over_all_macro          0.869038       0.893948         0.881054"
      ]
     },
     "execution_count": 17,
     "metadata": {},
     "output_type": "execute_result"
    }
   ],
   "source": [
    "all_list_df[0][0].add_prefix(\"PubMed-\")"
   ]
  },
  {
   "cell_type": "code",
   "execution_count": 38,
   "id": "74b172e7",
   "metadata": {},
   "outputs": [],
   "source": [
    "\n",
    "for j in range(len(all_list_df)):\n",
    "    df_list=[]\n",
    "    for i in range(len(models)):\n",
    "        pref=models[i].split(\"/\")[-1].split(\"-\")[0].split(\"_\")[0]+\"-\"\n",
    "        df_list.append(all_list_df[j][i].add_prefix(pref) )\n",
    "    concat_df=pd.concat(df_list,axis=1,ignore_index=)\n",
    "    concat_df.to_csv(dataset_names[j]+\"NER_results.csv\")"
   ]
  },
  {
   "cell_type": "code",
   "execution_count": 35,
   "id": "49eb9532",
   "metadata": {},
   "outputs": [
    {
     "data": {
      "text/html": [
       "<div>\n",
       "<style scoped>\n",
       "    .dataframe tbody tr th:only-of-type {\n",
       "        vertical-align: middle;\n",
       "    }\n",
       "\n",
       "    .dataframe tbody tr th {\n",
       "        vertical-align: top;\n",
       "    }\n",
       "\n",
       "    .dataframe thead th {\n",
       "        text-align: right;\n",
       "    }\n",
       "</style>\n",
       "<table border=\"1\" class=\"dataframe\">\n",
       "  <thead>\n",
       "    <tr style=\"text-align: right;\">\n",
       "      <th></th>\n",
       "      <th>scibert-Entity</th>\n",
       "      <th>scibert-Precision</th>\n",
       "      <th>scibert-Recall</th>\n",
       "      <th>scibert-F1_Score</th>\n",
       "      <th>BioLinkBERT-Entity</th>\n",
       "      <th>BioLinkBERT-Precision</th>\n",
       "      <th>BioLinkBERT-Recall</th>\n",
       "      <th>BioLinkBERT-F1_Score</th>\n",
       "      <th>BiomedNLP-Entity</th>\n",
       "      <th>BiomedNLP-Precision</th>\n",
       "      <th>BiomedNLP-Recall</th>\n",
       "      <th>BiomedNLP-F1_Score</th>\n",
       "    </tr>\n",
       "  </thead>\n",
       "  <tbody>\n",
       "    <tr>\n",
       "      <th>0</th>\n",
       "      <td>O</td>\n",
       "      <td>0.987666</td>\n",
       "      <td>0.991688</td>\n",
       "      <td>0.989673</td>\n",
       "      <td>O</td>\n",
       "      <td>0.989661</td>\n",
       "      <td>0.993014</td>\n",
       "      <td>0.991334</td>\n",
       "      <td>O</td>\n",
       "      <td>0.989805</td>\n",
       "      <td>0.993883</td>\n",
       "      <td>0.991840</td>\n",
       "    </tr>\n",
       "    <tr>\n",
       "      <th>1</th>\n",
       "      <td>B</td>\n",
       "      <td>0.834688</td>\n",
       "      <td>0.823529</td>\n",
       "      <td>0.829071</td>\n",
       "      <td>B</td>\n",
       "      <td>0.848787</td>\n",
       "      <td>0.832168</td>\n",
       "      <td>0.840395</td>\n",
       "      <td>B</td>\n",
       "      <td>0.862222</td>\n",
       "      <td>0.833811</td>\n",
       "      <td>0.847779</td>\n",
       "    </tr>\n",
       "    <tr>\n",
       "      <th>2</th>\n",
       "      <td>I</td>\n",
       "      <td>0.836806</td>\n",
       "      <td>0.725904</td>\n",
       "      <td>0.777419</td>\n",
       "      <td>I</td>\n",
       "      <td>0.856364</td>\n",
       "      <td>0.764610</td>\n",
       "      <td>0.807890</td>\n",
       "      <td>I</td>\n",
       "      <td>0.889908</td>\n",
       "      <td>0.783522</td>\n",
       "      <td>0.833333</td>\n",
       "    </tr>\n",
       "    <tr>\n",
       "      <th>3</th>\n",
       "      <td>Over_all_macro</td>\n",
       "      <td>0.886387</td>\n",
       "      <td>0.847041</td>\n",
       "      <td>0.865388</td>\n",
       "      <td>Over_all_macro</td>\n",
       "      <td>0.898271</td>\n",
       "      <td>0.863264</td>\n",
       "      <td>0.879873</td>\n",
       "      <td>Over_all_macro</td>\n",
       "      <td>0.913978</td>\n",
       "      <td>0.870405</td>\n",
       "      <td>0.890984</td>\n",
       "    </tr>\n",
       "  </tbody>\n",
       "</table>\n",
       "</div>"
      ],
      "text/plain": [
       "   scibert-Entity  scibert-Precision  scibert-Recall  scibert-F1_Score  \\\n",
       "0               O           0.987666        0.991688          0.989673   \n",
       "1               B           0.834688        0.823529          0.829071   \n",
       "2               I           0.836806        0.725904          0.777419   \n",
       "3  Over_all_macro           0.886387        0.847041          0.865388   \n",
       "\n",
       "  BioLinkBERT-Entity  BioLinkBERT-Precision  BioLinkBERT-Recall  \\\n",
       "0                  O               0.989661            0.993014   \n",
       "1                  B               0.848787            0.832168   \n",
       "2                  I               0.856364            0.764610   \n",
       "3     Over_all_macro               0.898271            0.863264   \n",
       "\n",
       "   BioLinkBERT-F1_Score BiomedNLP-Entity  BiomedNLP-Precision  \\\n",
       "0              0.991334                O             0.989805   \n",
       "1              0.840395                B             0.862222   \n",
       "2              0.807890                I             0.889908   \n",
       "3              0.879873   Over_all_macro             0.913978   \n",
       "\n",
       "   BiomedNLP-Recall  BiomedNLP-F1_Score  \n",
       "0          0.993883            0.991840  \n",
       "1          0.833811            0.847779  \n",
       "2          0.783522            0.833333  \n",
       "3          0.870405            0.890984  "
      ]
     },
     "execution_count": 35,
     "metadata": {},
     "output_type": "execute_result"
    }
   ],
   "source": [
    "concat_df"
   ]
  },
  {
   "cell_type": "code",
   "execution_count": null,
   "id": "30fa2038",
   "metadata": {},
   "outputs": [],
   "source": []
  },
  {
   "cell_type": "code",
   "execution_count": 18,
   "id": "62bc1941",
   "metadata": {},
   "outputs": [],
   "source": [
    "res_Chem=pd.read_csv(dataset_names[0]+\"NER_results.csv\")\n",
    "res_Disease=pd.read_csv(dataset_names[1]+\"NER_results.csv\")\n",
    "res_Species=pd.read_csv(dataset_names[2]+\"NER_results.csv\")"
   ]
  },
  {
   "cell_type": "code",
   "execution_count": 8,
   "id": "1d9055c0",
   "metadata": {},
   "outputs": [
    {
     "data": {
      "text/plain": [
       "Index(['Unnamed: 0', 'scibert-Entity', 'scibert-Precision', 'scibert-Recall',\n",
       "       'scibert-F1_Score', 'BioLinkBERT-Entity', 'BioLinkBERT-Precision',\n",
       "       'BioLinkBERT-Recall', 'BioLinkBERT-F1_Score', 'BiomedNLP-Entity',\n",
       "       'BiomedNLP-Precision', 'BiomedNLP-Recall', 'BiomedNLP-F1_Score'],\n",
       "      dtype='object')"
      ]
     },
     "execution_count": 8,
     "metadata": {},
     "output_type": "execute_result"
    }
   ],
   "source": [
    "res_Chem.columns"
   ]
  },
  {
   "cell_type": "code",
   "execution_count": 19,
   "id": "26465574",
   "metadata": {},
   "outputs": [],
   "source": [
    "res_Chem=res_Chem.drop(columns=['Unnamed: 0','BioLinkBERT-Entity','BiomedNLP-Entity'])"
   ]
  },
  {
   "cell_type": "code",
   "execution_count": 10,
   "id": "b9e77fc0",
   "metadata": {},
   "outputs": [
    {
     "data": {
      "text/html": [
       "<div>\n",
       "<style scoped>\n",
       "    .dataframe tbody tr th:only-of-type {\n",
       "        vertical-align: middle;\n",
       "    }\n",
       "\n",
       "    .dataframe tbody tr th {\n",
       "        vertical-align: top;\n",
       "    }\n",
       "\n",
       "    .dataframe thead th {\n",
       "        text-align: right;\n",
       "    }\n",
       "</style>\n",
       "<table border=\"1\" class=\"dataframe\">\n",
       "  <thead>\n",
       "    <tr style=\"text-align: right;\">\n",
       "      <th></th>\n",
       "      <th>scibert-Entity</th>\n",
       "      <th>scibert-Precision</th>\n",
       "      <th>scibert-Recall</th>\n",
       "      <th>scibert-F1_Score</th>\n",
       "      <th>BioLinkBERT-Precision</th>\n",
       "      <th>BioLinkBERT-Recall</th>\n",
       "      <th>BioLinkBERT-F1_Score</th>\n",
       "      <th>BiomedNLP-Precision</th>\n",
       "      <th>BiomedNLP-Recall</th>\n",
       "      <th>BiomedNLP-F1_Score</th>\n",
       "    </tr>\n",
       "  </thead>\n",
       "  <tbody>\n",
       "    <tr>\n",
       "      <th>0</th>\n",
       "      <td>O</td>\n",
       "      <td>0.986781</td>\n",
       "      <td>0.971618</td>\n",
       "      <td>0.979141</td>\n",
       "      <td>0.988703</td>\n",
       "      <td>0.974631</td>\n",
       "      <td>0.981616</td>\n",
       "      <td>0.988820</td>\n",
       "      <td>0.971790</td>\n",
       "      <td>0.980231</td>\n",
       "    </tr>\n",
       "    <tr>\n",
       "      <th>1</th>\n",
       "      <td>B</td>\n",
       "      <td>0.882523</td>\n",
       "      <td>0.940553</td>\n",
       "      <td>0.910614</td>\n",
       "      <td>0.868459</td>\n",
       "      <td>0.933164</td>\n",
       "      <td>0.899650</td>\n",
       "      <td>0.871547</td>\n",
       "      <td>0.938460</td>\n",
       "      <td>0.903766</td>\n",
       "    </tr>\n",
       "    <tr>\n",
       "      <th>2</th>\n",
       "      <td>I</td>\n",
       "      <td>0.737810</td>\n",
       "      <td>0.769674</td>\n",
       "      <td>0.753405</td>\n",
       "      <td>0.745877</td>\n",
       "      <td>0.797696</td>\n",
       "      <td>0.770917</td>\n",
       "      <td>0.734351</td>\n",
       "      <td>0.814508</td>\n",
       "      <td>0.772355</td>\n",
       "    </tr>\n",
       "    <tr>\n",
       "      <th>3</th>\n",
       "      <td>Over_all_macro</td>\n",
       "      <td>0.869038</td>\n",
       "      <td>0.893948</td>\n",
       "      <td>0.881054</td>\n",
       "      <td>0.867679</td>\n",
       "      <td>0.901830</td>\n",
       "      <td>0.884061</td>\n",
       "      <td>0.864906</td>\n",
       "      <td>0.908252</td>\n",
       "      <td>0.885451</td>\n",
       "    </tr>\n",
       "  </tbody>\n",
       "</table>\n",
       "</div>"
      ],
      "text/plain": [
       "   scibert-Entity  scibert-Precision  scibert-Recall  scibert-F1_Score  \\\n",
       "0               O           0.986781        0.971618          0.979141   \n",
       "1               B           0.882523        0.940553          0.910614   \n",
       "2               I           0.737810        0.769674          0.753405   \n",
       "3  Over_all_macro           0.869038        0.893948          0.881054   \n",
       "\n",
       "   BioLinkBERT-Precision  BioLinkBERT-Recall  BioLinkBERT-F1_Score  \\\n",
       "0               0.988703            0.974631              0.981616   \n",
       "1               0.868459            0.933164              0.899650   \n",
       "2               0.745877            0.797696              0.770917   \n",
       "3               0.867679            0.901830              0.884061   \n",
       "\n",
       "   BiomedNLP-Precision  BiomedNLP-Recall  BiomedNLP-F1_Score  \n",
       "0             0.988820          0.971790            0.980231  \n",
       "1             0.871547          0.938460            0.903766  \n",
       "2             0.734351          0.814508            0.772355  \n",
       "3             0.864906          0.908252            0.885451  "
      ]
     },
     "execution_count": 10,
     "metadata": {},
     "output_type": "execute_result"
    }
   ],
   "source": [
    "res_Chem.his"
   ]
  },
  {
   "cell_type": "code",
   "execution_count": 19,
   "id": "7311a0db",
   "metadata": {},
   "outputs": [
    {
     "data": {
      "image/png": "[encoded data removed]",
      "text/plain": [
       "<Figure size 640x480 with 1 Axes>"
      ]
     },
     "metadata": {},
     "output_type": "display_data"
    }
   ],
   "source": [
    "#plt.hist(res_Chem['scibert-Entity'], bins=5, edgecolor='black')  # You can adjust the number of bins as needed\n",
    "plt.xlabel('Entities')\n",
    "plt.ylabel('Frequency')\n",
    "plt.title('Histogram of Column x')\n",
    "\n",
    "# Show additional data as lines (y and z)\n",
    "plt.plot(res_Chem['scibert-Entity'], res_Chem['scibert-F1_Score'], label='SciBERT', marker='o')\n",
    "plt.plot(res_Chem['scibert-Entity'], res_Chem['BioLinkBERT-F1_Score'], label='BioLinkBERT', marker='s')\n",
    "plt.plot(res_Chem['scibert-Entity'], res_Chem['BiomedNLP-F1_Score'], label='PubMedBERT', marker='o')\n",
    "\n",
    "# Add a legend\n",
    "plt.legend()\n",
    "\n",
    "# Show the plot\n",
    "plt.show()"
   ]
  },
  {
   "cell_type": "code",
   "execution_count": 24,
   "id": "951fda20",
   "metadata": {},
   "outputs": [],
   "source": [
    "def plotLineConnectes(df,entity_name=\"Chemical\"):\n",
    "    plt.xlabel('Entities')\n",
    "    plt.ylabel('Score')\n",
    "    plt.title(entity_name)\n",
    "\n",
    "    # Show additional data as lines (y and z)\n",
    "    plt.plot(df['scibert-Entity'], df['scibert-F1_Score'], label='SciBERT', marker='o')\n",
    "    plt.plot(df['scibert-Entity'], df['BioLinkBERT-F1_Score'], label='BioLinkBERT', marker='s')\n",
    "    plt.plot(df['scibert-Entity'], df['BiomedNLP-F1_Score'], label='PubMedBERT', marker='o')\n",
    "\n",
    "    # Add a legend\n",
    "    plt.legend()\n",
    "\n",
    "    # Show the plot\n",
    "    plt.show()"
   ]
  },
  {
   "cell_type": "code",
   "execution_count": 26,
   "id": "c4eaa0e4",
   "metadata": {},
   "outputs": [
    {
     "data": {
      "image/png": "[encoded data removed]",
      "text/plain": [
       "<Figure size 640x480 with 1 Axes>"
      ]
     },
     "metadata": {},
     "output_type": "display_data"
    }
   ],
   "source": [
    "plotLineConnectes(res_Chem,entity_name=\"Chemical F1-Score\")"
   ]
  },
  {
   "cell_type": "code",
   "execution_count": 28,
   "id": "2bbe6d67",
   "metadata": {},
   "outputs": [
    {
     "data": {
      "image/png": "[encoded data removed]",
      "text/plain": [
       "<Figure size 640x480 with 1 Axes>"
      ]
     },
     "metadata": {},
     "output_type": "display_data"
    }
   ],
   "source": [
    "plotLineConnectes(res_Disease,entity_name=\"Diseases F1-Score\")"
   ]
  },
  {
   "cell_type": "code",
   "execution_count": 29,
   "id": "a7ac82e9",
   "metadata": {},
   "outputs": [
    {
     "data": {
      "image/png": "[encoded data removed]",
      "text/plain": [
       "<Figure size 640x480 with 1 Axes>"
      ]
     },
     "metadata": {},
     "output_type": "display_data"
    }
   ],
   "source": [
    "plotLineConnectes(res_Species,entity_name=\"Species F1-Score\")"
   ]
  },
  {
   "cell_type": "code",
   "execution_count": 30,
   "id": "70313b01",
   "metadata": {},
   "outputs": [
    {
     "ename": "ValueError",
     "evalue": "x must be a label or position",
     "output_type": "error",
     "traceback": [
      "\u001b[0;31m---------------------------------------------------------------------------\u001b[0m",
      "\u001b[0;31mValueError\u001b[0m                                Traceback (most recent call last)",
      "\u001b[1;32m/home/aberhe/Projects/SANTAL/ASLR/notebooks/capitilized_ner.ipynb Cell 67\u001b[0m line \u001b[0;36m1\n\u001b[0;32m----> <a href='vscode-notebook-cell://ssh-remote%2Bhpc-cng4.ummisco.ioit/home/aberhe/Projects/SANTAL/ASLR/notebooks/capitilized_ner.ipynb#Y131sdnNjb2RlLXJlbW90ZQ%3D%3D?line=0'>1</a>\u001b[0m res_Disease\u001b[39m.\u001b[39;49mplot([\u001b[39m\"\u001b[39;49m\u001b[39mBiomedNLP-Precision\u001b[39;49m\u001b[39m\"\u001b[39;49m,\u001b[39m\"\u001b[39;49m\u001b[39mBiomedNLP-Recall\u001b[39;49m\u001b[39m\"\u001b[39;49m,\u001b[39m\"\u001b[39;49m\u001b[39mBiomedNLP-F1_Score\u001b[39;49m\u001b[39m\"\u001b[39;49m])\n",
      "File \u001b[0;32m/opt/conda/lib/python3.11/site-packages/pandas/plotting/_core.py:997\u001b[0m, in \u001b[0;36mPlotAccessor.__call__\u001b[0;34m(self, *args, **kwargs)\u001b[0m\n\u001b[1;32m    995\u001b[0m         x \u001b[39m=\u001b[39m data_cols[x]\n\u001b[1;32m    996\u001b[0m     \u001b[39melif\u001b[39;00m \u001b[39mnot\u001b[39;00m \u001b[39misinstance\u001b[39m(data[x], ABCSeries):\n\u001b[0;32m--> 997\u001b[0m         \u001b[39mraise\u001b[39;00m \u001b[39mValueError\u001b[39;00m(\u001b[39m\"\u001b[39m\u001b[39mx must be a label or position\u001b[39m\u001b[39m\"\u001b[39m)\n\u001b[1;32m    998\u001b[0m     data \u001b[39m=\u001b[39m data\u001b[39m.\u001b[39mset_index(x)\n\u001b[1;32m    999\u001b[0m \u001b[39mif\u001b[39;00m y \u001b[39mis\u001b[39;00m \u001b[39mnot\u001b[39;00m \u001b[39mNone\u001b[39;00m:\n\u001b[1;32m   1000\u001b[0m     \u001b[39m# check if we have y as int or list of ints\u001b[39;00m\n",
      "\u001b[0;31mValueError\u001b[0m: x must be a label or position"
     ]
    }
   ],
   "source": [
    "res_Disease.plot([\"BiomedNLP-Precision\",\"BiomedNLP-Recall\",\"BiomedNLP-F1_Score\"])"
   ]
  },
  {
   "cell_type": "code",
   "execution_count": 35,
   "id": "9ac389bc",
   "metadata": {},
   "outputs": [
    {
     "data": {
      "image/png": "[encoded data removed]",
      "text/plain": [
       "<Figure size 640x480 with 1 Axes>"
      ]
     },
     "metadata": {},
     "output_type": "display_data"
    }
   ],
   "source": [
    "bar_width = 0.35\n",
    "plt.barh(res_Chem['scibert-Entity'], res_Chem['scibert-F1_Score'], bar_width,label='SciBERT', color='yellow',alpha=0.5)\n",
    "plt.barh(res_Chem['scibert-Entity'], res_Chem['BioLinkBERT-F1_Score'], bar_width, label='BioLinkBERT', color='blue',alpha=0.1)\n",
    "plt.barh(res_Chem['scibert-Entity'], res_Chem['BiomedNLP-F1_Score'], bar_width, label='PubMedBERT', color='green',alpha=0.3)\n",
    "\n",
    "# Show the plot\n",
    "plt.show()"
   ]
  },
  {
   "cell_type": "code",
   "execution_count": 48,
   "id": "68348e82",
   "metadata": {},
   "outputs": [],
   "source": [
    "res_Disease12=res_Disease.drop(columns=[\"Unnamed: 0\",'scibert-Entity', 'BioLinkBERT-Entity'])"
   ]
  },
  {
   "cell_type": "code",
   "execution_count": 55,
   "id": "d42a8012",
   "metadata": {},
   "outputs": [
    {
     "data": {
      "text/plain": [
       "<Axes: ylabel='BiomedNLP-Entity'>"
      ]
     },
     "execution_count": 55,
     "metadata": {},
     "output_type": "execute_result"
    },
    {
     "data": {
      "image/png": "[encoded data removed]",
      "text/plain": [
       "<Figure size 640x480 with 1 Axes>"
      ]
     },
     "metadata": {},
     "output_type": "display_data"
    }
   ],
   "source": [
    "index=[\"O\",\"B\",\"I\",\"Macro\"]\n",
    "res_Disease1.plot.barh(x=\"BiomedNLP-Entity\")"
   ]
  },
  {
   "cell_type": "code",
   "execution_count": 59,
   "id": "4511229d",
   "metadata": {},
   "outputs": [
    {
     "data": {
      "text/plain": [
       "<Axes: ylabel='BiomedNLP-Entity'>"
      ]
     },
     "execution_count": 59,
     "metadata": {},
     "output_type": "execute_result"
    },
    {
     "data": {
      "image/png": "[encoded data removed]",
      "text/plain": [
       "<Figure size 640x480 with 1 Axes>"
      ]
     },
     "metadata": {},
     "output_type": "display_data"
    }
   ],
   "source": [
    "res_Spc1.plot.barh(x=\"BiomedNLP-Entity\")"
   ]
  },
  {
   "cell_type": "code",
   "execution_count": 89,
   "id": "73e053b0",
   "metadata": {},
   "outputs": [],
   "source": [
    "def plotHorizontal(df,entity_name=\"Chemical\",column_x=\"scibert-Entity\"):\n",
    "    ax=df.plot.barh(x=column_x)\n",
    "    ax.set_ylabel(entity_name+' Entities')\n",
    "    ax.set_xlabel('Scores')  # Change the x-axis label\n",
    "    legend = ax.legend(loc='upper right', bbox_to_anchor=(1.3, 1))\n",
    "\n",
    "    # Show the plot\n",
    "    plt.show()"
   ]
  },
  {
   "cell_type": "code",
   "execution_count": 90,
   "id": "0481f59d",
   "metadata": {},
   "outputs": [
    {
     "data": {
      "image/png": "[encoded data removed]",
      "text/plain": [
       "<Figure size 640x480 with 1 Axes>"
      ]
     },
     "metadata": {},
     "output_type": "display_data"
    }
   ],
   "source": [
    "plotHorizontal(res_Chem1)"
   ]
  },
  {
   "cell_type": "code",
   "execution_count": 91,
   "id": "e4ed638f",
   "metadata": {},
   "outputs": [
    {
     "data": {
      "image/png": "[encoded data removed]",
      "text/plain": [
       "<Figure size 640x480 with 1 Axes>"
      ]
     },
     "metadata": {},
     "output_type": "display_data"
    }
   ],
   "source": [
    "#res_Spc1=res_Spc1.drop(columns=[\"Unnamed: 0\"])\n",
    "plotHorizontal(res_Spc1,entity_name=\"Species\",column_x=\"BiomedNLP-Entity\")"
   ]
  },
  {
   "cell_type": "code",
   "execution_count": 93,
   "id": "8cbc6239",
   "metadata": {},
   "outputs": [
    {
     "data": {
      "image/png": "[encoded data removed]",
      "text/plain": [
       "<Figure size 640x480 with 1 Axes>"
      ]
     },
     "metadata": {},
     "output_type": "display_data"
    }
   ],
   "source": [
    "plotHorizontal(res_Spc1,entity_name=\"Disease\",column_x=\"BiomedNLP-Entity\")"
   ]
  },
  {
   "cell_type": "code",
   "execution_count": 76,
   "id": "c85936b9",
   "metadata": {},
   "outputs": [
    {
     "data": {
      "image/png": "[encoded data removed]",
      "text/plain": [
       "<Figure size 640x480 with 1 Axes>"
      ]
     },
     "metadata": {},
     "output_type": "display_data"
    }
   ],
   "source": [
    "ax=res_Chem1.plot.barh(x=\"scibert-Entity\",xlabel=\"Entities\")\n",
    "ax.set_ylabel('Chemical Entities')\n",
    "ax.set_xlabel('Scores')  # Change the x-axis label\n",
    "\n",
    "# Show the plot\n",
    "plt.show()"
   ]
  },
  {
   "cell_type": "code",
   "execution_count": 72,
   "id": "282b1229",
   "metadata": {},
   "outputs": [
    {
     "data": {
      "text/html": [
       "<div>\n",
       "<style scoped>\n",
       "    .dataframe tbody tr th:only-of-type {\n",
       "        vertical-align: middle;\n",
       "    }\n",
       "\n",
       "    .dataframe tbody tr th {\n",
       "        vertical-align: top;\n",
       "    }\n",
       "\n",
       "    .dataframe thead th {\n",
       "        text-align: right;\n",
       "    }\n",
       "</style>\n",
       "<table border=\"1\" class=\"dataframe\">\n",
       "  <thead>\n",
       "    <tr style=\"text-align: right;\">\n",
       "      <th></th>\n",
       "      <th>Unnamed: 0</th>\n",
       "      <th>BiomedNLP-Entity</th>\n",
       "      <th>BiomedNLP-Precision</th>\n",
       "      <th>BiomedNLP-Recall</th>\n",
       "      <th>BiomedNLP-F1_Score</th>\n",
       "    </tr>\n",
       "  </thead>\n",
       "  <tbody>\n",
       "    <tr>\n",
       "      <th>0</th>\n",
       "      <td>0</td>\n",
       "      <td>O</td>\n",
       "      <td>0.989805</td>\n",
       "      <td>0.993883</td>\n",
       "      <td>0.991840</td>\n",
       "    </tr>\n",
       "    <tr>\n",
       "      <th>1</th>\n",
       "      <td>1</td>\n",
       "      <td>B</td>\n",
       "      <td>0.862222</td>\n",
       "      <td>0.833811</td>\n",
       "      <td>0.847779</td>\n",
       "    </tr>\n",
       "    <tr>\n",
       "      <th>2</th>\n",
       "      <td>2</td>\n",
       "      <td>I</td>\n",
       "      <td>0.889908</td>\n",
       "      <td>0.783522</td>\n",
       "      <td>0.833333</td>\n",
       "    </tr>\n",
       "    <tr>\n",
       "      <th>3</th>\n",
       "      <td>3</td>\n",
       "      <td>Over_all_macro</td>\n",
       "      <td>0.913978</td>\n",
       "      <td>0.870405</td>\n",
       "      <td>0.890984</td>\n",
       "    </tr>\n",
       "  </tbody>\n",
       "</table>\n",
       "</div>"
      ],
      "text/plain": [
       "   Unnamed: 0 BiomedNLP-Entity  BiomedNLP-Precision  BiomedNLP-Recall  \\\n",
       "0           0                O             0.989805          0.993883   \n",
       "1           1                B             0.862222          0.833811   \n",
       "2           2                I             0.889908          0.783522   \n",
       "3           3   Over_all_macro             0.913978          0.870405   \n",
       "\n",
       "   BiomedNLP-F1_Score  \n",
       "0            0.991840  \n",
       "1            0.847779  \n",
       "2            0.833333  \n",
       "3            0.890984  "
      ]
     },
     "execution_count": 72,
     "metadata": {},
     "output_type": "execute_result"
    }
   ],
   "source": [
    "res_Spc1"
   ]
  },
  {
   "cell_type": "code",
   "execution_count": 61,
   "id": "70c87aea",
   "metadata": {},
   "outputs": [],
   "source": [
    "res_Spc1=res_Species.drop(columns=['scibert-Entity', 'scibert-Precision', 'scibert-Recall',\n",
    "       'scibert-F1_Score', 'BioLinkBERT-Entity', 'BioLinkBERT-Precision',\n",
    "       'BioLinkBERT-Recall', 'BioLinkBERT-F1_Score'])"
   ]
  },
  {
   "cell_type": "code",
   "execution_count": 92,
   "id": "c85b672c",
   "metadata": {},
   "outputs": [],
   "source": [
    "res_Dis1=res_Disease.drop(columns=['scibert-Entity', 'scibert-Precision', 'scibert-Recall',\n",
    "       'scibert-F1_Score', 'BioLinkBERT-Entity', 'BioLinkBERT-Precision',\n",
    "       'BioLinkBERT-Recall', 'BioLinkBERT-F1_Score'])"
   ]
  },
  {
   "cell_type": "code",
   "execution_count": 64,
   "id": "f05d9f22",
   "metadata": {},
   "outputs": [
    {
     "data": {
      "text/plain": [
       "Index(['scibert-Entity', 'scibert-Precision', 'scibert-Recall',\n",
       "       'scibert-F1_Score', 'BioLinkBERT-Precision', 'BioLinkBERT-Recall',\n",
       "       'BioLinkBERT-F1_Score', 'BiomedNLP-Precision', 'BiomedNLP-Recall',\n",
       "       'BiomedNLP-F1_Score'],\n",
       "      dtype='object')"
      ]
     },
     "execution_count": 64,
     "metadata": {},
     "output_type": "execute_result"
    }
   ],
   "source": [
    "res_Chem.columns"
   ]
  },
  {
   "cell_type": "code",
   "execution_count": 65,
   "id": "2c574d0a",
   "metadata": {},
   "outputs": [],
   "source": [
    "res_Chem1=res_Chem.drop(columns=['scibert-Precision', 'scibert-Recall',\n",
    "       'scibert-F1_Score', 'BioLinkBERT-Precision',\n",
    "       'BioLinkBERT-Recall', 'BioLinkBERT-F1_Score'])"
   ]
  },
  {
   "cell_type": "code",
   "execution_count": 38,
   "id": "5ee39ba9",
   "metadata": {},
   "outputs": [
    {
     "data": {
      "text/plain": [
       "Index(['Unnamed: 0', 'scibert-Entity', 'scibert-Precision', 'scibert-Recall',\n",
       "       'scibert-F1_Score', 'BioLinkBERT-Entity', 'BioLinkBERT-Precision',\n",
       "       'BioLinkBERT-Recall', 'BioLinkBERT-F1_Score', 'BiomedNLP-Entity',\n",
       "       'BiomedNLP-Precision', 'BiomedNLP-Recall', 'BiomedNLP-F1_Score'],\n",
       "      dtype='object')"
      ]
     },
     "execution_count": 38,
     "metadata": {},
     "output_type": "execute_result"
    }
   ],
   "source": [
    "res_Disease.columns"
   ]
  },
  {
   "cell_type": "code",
   "execution_count": 42,
   "id": "262baebf",
   "metadata": {},
   "outputs": [
    {
     "data": {
      "text/html": [
       "<div>\n",
       "<style scoped>\n",
       "    .dataframe tbody tr th:only-of-type {\n",
       "        vertical-align: middle;\n",
       "    }\n",
       "\n",
       "    .dataframe tbody tr th {\n",
       "        vertical-align: top;\n",
       "    }\n",
       "\n",
       "    .dataframe thead th {\n",
       "        text-align: right;\n",
       "    }\n",
       "</style>\n",
       "<table border=\"1\" class=\"dataframe\">\n",
       "  <thead>\n",
       "    <tr style=\"text-align: right;\">\n",
       "      <th></th>\n",
       "      <th>Unnamed: 0</th>\n",
       "      <th>scibert-Entity</th>\n",
       "      <th>scibert-Precision</th>\n",
       "      <th>scibert-Recall</th>\n",
       "      <th>scibert-F1_Score</th>\n",
       "      <th>BioLinkBERT-Entity</th>\n",
       "      <th>BioLinkBERT-Precision</th>\n",
       "      <th>BioLinkBERT-Recall</th>\n",
       "      <th>BioLinkBERT-F1_Score</th>\n",
       "      <th>BiomedNLP-Entity</th>\n",
       "      <th>BiomedNLP-Precision</th>\n",
       "      <th>BiomedNLP-Recall</th>\n",
       "      <th>BiomedNLP-F1_Score</th>\n",
       "    </tr>\n",
       "  </thead>\n",
       "  <tbody>\n",
       "    <tr>\n",
       "      <th>0</th>\n",
       "      <td>0</td>\n",
       "      <td>O</td>\n",
       "      <td>0.987666</td>\n",
       "      <td>0.991688</td>\n",
       "      <td>0.989673</td>\n",
       "      <td>O</td>\n",
       "      <td>0.989661</td>\n",
       "      <td>0.993014</td>\n",
       "      <td>0.991334</td>\n",
       "      <td>O</td>\n",
       "      <td>0.989805</td>\n",
       "      <td>0.993883</td>\n",
       "      <td>0.991840</td>\n",
       "    </tr>\n",
       "    <tr>\n",
       "      <th>1</th>\n",
       "      <td>1</td>\n",
       "      <td>B</td>\n",
       "      <td>0.834688</td>\n",
       "      <td>0.823529</td>\n",
       "      <td>0.829071</td>\n",
       "      <td>B</td>\n",
       "      <td>0.848787</td>\n",
       "      <td>0.832168</td>\n",
       "      <td>0.840395</td>\n",
       "      <td>B</td>\n",
       "      <td>0.862222</td>\n",
       "      <td>0.833811</td>\n",
       "      <td>0.847779</td>\n",
       "    </tr>\n",
       "    <tr>\n",
       "      <th>2</th>\n",
       "      <td>2</td>\n",
       "      <td>I</td>\n",
       "      <td>0.836806</td>\n",
       "      <td>0.725904</td>\n",
       "      <td>0.777419</td>\n",
       "      <td>I</td>\n",
       "      <td>0.856364</td>\n",
       "      <td>0.764610</td>\n",
       "      <td>0.807890</td>\n",
       "      <td>I</td>\n",
       "      <td>0.889908</td>\n",
       "      <td>0.783522</td>\n",
       "      <td>0.833333</td>\n",
       "    </tr>\n",
       "    <tr>\n",
       "      <th>3</th>\n",
       "      <td>3</td>\n",
       "      <td>Over_all_macro</td>\n",
       "      <td>0.886387</td>\n",
       "      <td>0.847041</td>\n",
       "      <td>0.865388</td>\n",
       "      <td>Over_all_macro</td>\n",
       "      <td>0.898271</td>\n",
       "      <td>0.863264</td>\n",
       "      <td>0.879873</td>\n",
       "      <td>Over_all_macro</td>\n",
       "      <td>0.913978</td>\n",
       "      <td>0.870405</td>\n",
       "      <td>0.890984</td>\n",
       "    </tr>\n",
       "  </tbody>\n",
       "</table>\n",
       "</div>"
      ],
      "text/plain": [
       "   Unnamed: 0  scibert-Entity  scibert-Precision  scibert-Recall  \\\n",
       "0           0               O           0.987666        0.991688   \n",
       "1           1               B           0.834688        0.823529   \n",
       "2           2               I           0.836806        0.725904   \n",
       "3           3  Over_all_macro           0.886387        0.847041   \n",
       "\n",
       "   scibert-F1_Score BioLinkBERT-Entity  BioLinkBERT-Precision  \\\n",
       "0          0.989673                  O               0.989661   \n",
       "1          0.829071                  B               0.848787   \n",
       "2          0.777419                  I               0.856364   \n",
       "3          0.865388     Over_all_macro               0.898271   \n",
       "\n",
       "   BioLinkBERT-Recall  BioLinkBERT-F1_Score BiomedNLP-Entity  \\\n",
       "0            0.993014              0.991334                O   \n",
       "1            0.832168              0.840395                B   \n",
       "2            0.764610              0.807890                I   \n",
       "3            0.863264              0.879873   Over_all_macro   \n",
       "\n",
       "   BiomedNLP-Precision  BiomedNLP-Recall  BiomedNLP-F1_Score  \n",
       "0             0.989805          0.993883            0.991840  \n",
       "1             0.862222          0.833811            0.847779  \n",
       "2             0.889908          0.783522            0.833333  \n",
       "3             0.913978          0.870405            0.890984  "
      ]
     },
     "execution_count": 42,
     "metadata": {},
     "output_type": "execute_result"
    }
   ],
   "source": [
    "res_Species"
   ]
  },
  {
   "cell_type": "code",
   "execution_count": 14,
   "id": "3a34af38",
   "metadata": {},
   "outputs": [
    {
     "name": "stdout",
     "output_type": "stream",
     "text": [
      "\u001b[0;31mSignature:\u001b[0m\n",
      "\u001b[0mplt\u001b[0m\u001b[0;34m.\u001b[0m\u001b[0mplot\u001b[0m\u001b[0;34m(\u001b[0m\u001b[0;34m\u001b[0m\n",
      "\u001b[0;34m\u001b[0m    \u001b[0;34m*\u001b[0m\u001b[0margs\u001b[0m\u001b[0;34m:\u001b[0m \u001b[0;34m'float | ArrayLike | str'\u001b[0m\u001b[0;34m,\u001b[0m\u001b[0;34m\u001b[0m\n",
      "\u001b[0;34m\u001b[0m    \u001b[0mscalex\u001b[0m\u001b[0;34m:\u001b[0m \u001b[0;34m'bool'\u001b[0m \u001b[0;34m=\u001b[0m \u001b[0;32mTrue\u001b[0m\u001b[0;34m,\u001b[0m\u001b[0;34m\u001b[0m\n",
      "\u001b[0;34m\u001b[0m    \u001b[0mscaley\u001b[0m\u001b[0;34m:\u001b[0m \u001b[0;34m'bool'\u001b[0m \u001b[0;34m=\u001b[0m \u001b[0;32mTrue\u001b[0m\u001b[0;34m,\u001b[0m\u001b[0;34m\u001b[0m\n",
      "\u001b[0;34m\u001b[0m    \u001b[0mdata\u001b[0m\u001b[0;34m=\u001b[0m\u001b[0;32mNone\u001b[0m\u001b[0;34m,\u001b[0m\u001b[0;34m\u001b[0m\n",
      "\u001b[0;34m\u001b[0m    \u001b[0;34m**\u001b[0m\u001b[0mkwargs\u001b[0m\u001b[0;34m,\u001b[0m\u001b[0;34m\u001b[0m\n",
      "\u001b[0;34m\u001b[0m\u001b[0;34m)\u001b[0m \u001b[0;34m->\u001b[0m \u001b[0;34m'list[Line2D]'\u001b[0m\u001b[0;34m\u001b[0m\u001b[0;34m\u001b[0m\u001b[0m\n",
      "\u001b[0;31mDocstring:\u001b[0m\n",
      "Plot y versus x as lines and/or markers.\n",
      "\n",
      "Call signatures::\n",
      "\n",
      "    plot([x], y, [fmt], *, data=None, **kwargs)\n",
      "    plot([x], y, [fmt], [x2], y2, [fmt2], ..., **kwargs)\n",
      "\n",
      "The coordinates of the points or line nodes are given by *x*, *y*.\n",
      "\n",
      "The optional parameter *fmt* is a convenient way for defining basic\n",
      "formatting like color, marker and linestyle. It's a shortcut string\n",
      "notation described in the *Notes* section below.\n",
      "\n",
      ">>> plot(x, y)        # plot x and y using default line style and color\n",
      ">>> plot(x, y, 'bo')  # plot x and y using blue circle markers\n",
      ">>> plot(y)           # plot y using x as index array 0..N-1\n",
      ">>> plot(y, 'r+')     # ditto, but with red plusses\n",
      "\n",
      "You can use `.Line2D` properties as keyword arguments for more\n",
      "control on the appearance. Line properties and *fmt* can be mixed.\n",
      "The following two calls yield identical results:\n",
      "\n",
      ">>> plot(x, y, 'go--', linewidth=2, markersize=12)\n",
      ">>> plot(x, y, color='green', marker='o', linestyle='dashed',\n",
      "...      linewidth=2, markersize=12)\n",
      "\n",
      "When conflicting with *fmt*, keyword arguments take precedence.\n",
      "\n",
      "\n",
      "**Plotting labelled data**\n",
      "\n",
      "There's a convenient way for plotting objects with labelled data (i.e.\n",
      "data that can be accessed by index ``obj['y']``). Instead of giving\n",
      "the data in *x* and *y*, you can provide the object in the *data*\n",
      "parameter and just give the labels for *x* and *y*::\n",
      "\n",
      ">>> plot('xlabel', 'ylabel', data=obj)\n",
      "\n",
      "All indexable objects are supported. This could e.g. be a `dict`, a\n",
      "`pandas.DataFrame` or a structured numpy array.\n",
      "\n",
      "\n",
      "**Plotting multiple sets of data**\n",
      "\n",
      "There are various ways to plot multiple sets of data.\n",
      "\n",
      "- The most straight forward way is just to call `plot` multiple times.\n",
      "  Example:\n",
      "\n",
      "  >>> plot(x1, y1, 'bo')\n",
      "  >>> plot(x2, y2, 'go')\n",
      "\n",
      "- If *x* and/or *y* are 2D arrays a separate data set will be drawn\n",
      "  for every column. If both *x* and *y* are 2D, they must have the\n",
      "  same shape. If only one of them is 2D with shape (N, m) the other\n",
      "  must have length N and will be used for every data set m.\n",
      "\n",
      "  Example:\n",
      "\n",
      "  >>> x = [1, 2, 3]\n",
      "  >>> y = np.array([[1, 2], [3, 4], [5, 6]])\n",
      "  >>> plot(x, y)\n",
      "\n",
      "  is equivalent to:\n",
      "\n",
      "  >>> for col in range(y.shape[1]):\n",
      "  ...     plot(x, y[:, col])\n",
      "\n",
      "- The third way is to specify multiple sets of *[x]*, *y*, *[fmt]*\n",
      "  groups::\n",
      "\n",
      "  >>> plot(x1, y1, 'g^', x2, y2, 'g-')\n",
      "\n",
      "  In this case, any additional keyword argument applies to all\n",
      "  datasets. Also, this syntax cannot be combined with the *data*\n",
      "  parameter.\n",
      "\n",
      "By default, each line is assigned a different style specified by a\n",
      "'style cycle'. The *fmt* and line property parameters are only\n",
      "necessary if you want explicit deviations from these defaults.\n",
      "Alternatively, you can also change the style cycle using\n",
      ":rc:`axes.prop_cycle`.\n",
      "\n",
      "\n",
      "Parameters\n",
      "----------\n",
      "x, y : array-like or scalar\n",
      "    The horizontal / vertical coordinates of the data points.\n",
      "    *x* values are optional and default to ``range(len(y))``.\n",
      "\n",
      "    Commonly, these parameters are 1D arrays.\n",
      "\n",
      "    They can also be scalars, or two-dimensional (in that case, the\n",
      "    columns represent separate data sets).\n",
      "\n",
      "    These arguments cannot be passed as keywords.\n",
      "\n",
      "fmt : str, optional\n",
      "    A format string, e.g. 'ro' for red circles. See the *Notes*\n",
      "    section for a full description of the format strings.\n",
      "\n",
      "    Format strings are just an abbreviation for quickly setting\n",
      "    basic line properties. All of these and more can also be\n",
      "    controlled by keyword arguments.\n",
      "\n",
      "    This argument cannot be passed as keyword.\n",
      "\n",
      "data : indexable object, optional\n",
      "    An object with labelled data. If given, provide the label names to\n",
      "    plot in *x* and *y*.\n",
      "\n",
      "    .. note::\n",
      "        Technically there's a slight ambiguity in calls where the\n",
      "        second label is a valid *fmt*. ``plot('n', 'o', data=obj)``\n",
      "        could be ``plt(x, y)`` or ``plt(y, fmt)``. In such cases,\n",
      "        the former interpretation is chosen, but a warning is issued.\n",
      "        You may suppress the warning by adding an empty format string\n",
      "        ``plot('n', 'o', '', data=obj)``.\n",
      "\n",
      "Returns\n",
      "-------\n",
      "list of `.Line2D`\n",
      "    A list of lines representing the plotted data.\n",
      "\n",
      "Other Parameters\n",
      "----------------\n",
      "scalex, scaley : bool, default: True\n",
      "    These parameters determine if the view limits are adapted to the\n",
      "    data limits. The values are passed on to\n",
      "    `~.axes.Axes.autoscale_view`.\n",
      "\n",
      "**kwargs : `~matplotlib.lines.Line2D` properties, optional\n",
      "    *kwargs* are used to specify properties like a line label (for\n",
      "    auto legends), linewidth, antialiasing, marker face color.\n",
      "    Example::\n",
      "\n",
      "    >>> plot([1, 2, 3], [1, 2, 3], 'go-', label='line 1', linewidth=2)\n",
      "    >>> plot([1, 2, 3], [1, 4, 9], 'rs', label='line 2')\n",
      "\n",
      "    If you specify multiple lines with one plot call, the kwargs apply\n",
      "    to all those lines. In case the label object is iterable, each\n",
      "    element is used as labels for each set of data.\n",
      "\n",
      "    Here is a list of available `.Line2D` properties:\n",
      "\n",
      "    Properties:\n",
      "    agg_filter: a filter function, which takes a (m, n, 3) float array and a dpi value, and returns a (m, n, 3) array and two offsets from the bottom left corner of the image\n",
      "    alpha: scalar or None\n",
      "    animated: bool\n",
      "    antialiased or aa: bool\n",
      "    clip_box: `~matplotlib.transforms.BboxBase` or None\n",
      "    clip_on: bool\n",
      "    clip_path: Patch or (Path, Transform) or None\n",
      "    color or c: color\n",
      "    dash_capstyle: `.CapStyle` or {'butt', 'projecting', 'round'}\n",
      "    dash_joinstyle: `.JoinStyle` or {'miter', 'round', 'bevel'}\n",
      "    dashes: sequence of floats (on/off ink in points) or (None, None)\n",
      "    data: (2, N) array or two 1D arrays\n",
      "    drawstyle or ds: {'default', 'steps', 'steps-pre', 'steps-mid', 'steps-post'}, default: 'default'\n",
      "    figure: `~matplotlib.figure.Figure`\n",
      "    fillstyle: {'full', 'left', 'right', 'bottom', 'top', 'none'}\n",
      "    gapcolor: color or None\n",
      "    gid: str\n",
      "    in_layout: bool\n",
      "    label: object\n",
      "    linestyle or ls: {'-', '--', '-.', ':', '', (offset, on-off-seq), ...}\n",
      "    linewidth or lw: float\n",
      "    marker: marker style string, `~.path.Path` or `~.markers.MarkerStyle`\n",
      "    markeredgecolor or mec: color\n",
      "    markeredgewidth or mew: float\n",
      "    markerfacecolor or mfc: color\n",
      "    markerfacecoloralt or mfcalt: color\n",
      "    markersize or ms: float\n",
      "    markevery: None or int or (int, int) or slice or list[int] or float or (float, float) or list[bool]\n",
      "    mouseover: bool\n",
      "    path_effects: list of `.AbstractPathEffect`\n",
      "    picker: float or callable[[Artist, Event], tuple[bool, dict]]\n",
      "    pickradius: float\n",
      "    rasterized: bool\n",
      "    sketch_params: (scale: float, length: float, randomness: float)\n",
      "    snap: bool or None\n",
      "    solid_capstyle: `.CapStyle` or {'butt', 'projecting', 'round'}\n",
      "    solid_joinstyle: `.JoinStyle` or {'miter', 'round', 'bevel'}\n",
      "    transform: unknown\n",
      "    url: str\n",
      "    visible: bool\n",
      "    xdata: 1D array\n",
      "    ydata: 1D array\n",
      "    zorder: float\n",
      "\n",
      "See Also\n",
      "--------\n",
      "scatter : XY scatter plot with markers of varying size and/or color (\n",
      "    sometimes also called bubble chart).\n",
      "\n",
      "Notes\n",
      "-----\n",
      "**Format Strings**\n",
      "\n",
      "A format string consists of a part for color, marker and line::\n",
      "\n",
      "    fmt = '[marker][line][color]'\n",
      "\n",
      "Each of them is optional. If not provided, the value from the style\n",
      "cycle is used. Exception: If ``line`` is given, but no ``marker``,\n",
      "the data will be a line without markers.\n",
      "\n",
      "Other combinations such as ``[color][marker][line]`` are also\n",
      "supported, but note that their parsing may be ambiguous.\n",
      "\n",
      "**Markers**\n",
      "\n",
      "=============   ===============================\n",
      "character       description\n",
      "=============   ===============================\n",
      "``'.'``         point marker\n",
      "``','``         pixel marker\n",
      "``'o'``         circle marker\n",
      "``'v'``         triangle_down marker\n",
      "``'^'``         triangle_up marker\n",
      "``'<'``         triangle_left marker\n",
      "``'>'``         triangle_right marker\n",
      "``'1'``         tri_down marker\n",
      "``'2'``         tri_up marker\n",
      "``'3'``         tri_left marker\n",
      "``'4'``         tri_right marker\n",
      "``'8'``         octagon marker\n",
      "``'s'``         square marker\n",
      "``'p'``         pentagon marker\n",
      "``'P'``         plus (filled) marker\n",
      "``'*'``         star marker\n",
      "``'h'``         hexagon1 marker\n",
      "``'H'``         hexagon2 marker\n",
      "``'+'``         plus marker\n",
      "``'x'``         x marker\n",
      "``'X'``         x (filled) marker\n",
      "``'D'``         diamond marker\n",
      "``'d'``         thin_diamond marker\n",
      "``'|'``         vline marker\n",
      "``'_'``         hline marker\n",
      "=============   ===============================\n",
      "\n",
      "**Line Styles**\n",
      "\n",
      "=============    ===============================\n",
      "character        description\n",
      "=============    ===============================\n",
      "``'-'``          solid line style\n",
      "``'--'``         dashed line style\n",
      "``'-.'``         dash-dot line style\n",
      "``':'``          dotted line style\n",
      "=============    ===============================\n",
      "\n",
      "Example format strings::\n",
      "\n",
      "    'b'    # blue markers with default shape\n",
      "    'or'   # red circles\n",
      "    '-g'   # green solid line\n",
      "    '--'   # dashed line with default color\n",
      "    '^k:'  # black triangle_up markers connected by a dotted line\n",
      "\n",
      "**Colors**\n",
      "\n",
      "The supported color abbreviations are the single letter codes\n",
      "\n",
      "=============    ===============================\n",
      "character        color\n",
      "=============    ===============================\n",
      "``'b'``          blue\n",
      "``'g'``          green\n",
      "``'r'``          red\n",
      "``'c'``          cyan\n",
      "``'m'``          magenta\n",
      "``'y'``          yellow\n",
      "``'k'``          black\n",
      "``'w'``          white\n",
      "=============    ===============================\n",
      "\n",
      "and the ``'CN'`` colors that index into the default property cycle.\n",
      "\n",
      "If the color is the only part of the format string, you can\n",
      "additionally use any  `matplotlib.colors` spec, e.g. full names\n",
      "(``'green'``) or hex strings (``'#008000'``).\n",
      "\u001b[0;31mFile:\u001b[0m      /opt/conda/lib/python3.11/site-packages/matplotlib/pyplot.py\n",
      "\u001b[0;31mType:\u001b[0m      function"
     ]
    }
   ],
   "source": [
    "plt.plot?"
   ]
  },
  {
   "cell_type": "code",
   "execution_count": null,
   "id": "81b88f78",
   "metadata": {},
   "outputs": [],
   "source": []
  }
 ],
 "metadata": {
  "kernelspec": {
   "display_name": "Python 3",
   "language": "python",
   "name": "python3"
  },
  "language_info": {
   "codemirror_mode": {
    "name": "ipython",
    "version": 3
   },
   "file_extension": ".py",
   "mimetype": "text/x-python",
   "name": "python",
   "nbconvert_exporter": "python",
   "pygments_lexer": "ipython3",
   "version": "3.11.5"
  }
 },
 "nbformat": 4,
 "nbformat_minor": 5
}
