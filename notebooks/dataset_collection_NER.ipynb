{
 "cells": [
  {
   "cell_type": "code",
   "execution_count": 1,
   "metadata": {},
   "outputs": [],
   "source": [
    "import pandas as pd\n",
    "import json\n",
    "import os\n",
    "import sys\n",
    "import tqdm\n",
    "import time\n",
    "import datasets"
   ]
  },
  {
   "cell_type": "code",
   "execution_count": 3,
   "metadata": {},
   "outputs": [],
   "source": [
    "data_path=\"/home/aberhe/Projects/SANTAL/ASLR/data/ner\""
   ]
  },
  {
   "cell_type": "code",
   "execution_count": 4,
   "metadata": {},
   "outputs": [
    {
     "data": {
      "text/plain": [
       "['bc5cdr',\n",
       " 'BC5CDR-chem',\n",
       " 'BC5CDR-disease',\n",
       " 'JNLPBA',\n",
       " 'linnaeus',\n",
       " 'NCBI-disease',\n",
       " 's800']"
      ]
     },
     "execution_count": 4,
     "metadata": {},
     "output_type": "execute_result"
    }
   ],
   "source": [
    "os.listdir(data_path)"
   ]
  },
  {
   "cell_type": "code",
   "execution_count": 5,
   "metadata": {},
   "outputs": [
    {
     "data": {
      "text/plain": [
       "['dev.txt', 'test.txt', 'train.txt']"
      ]
     },
     "execution_count": 5,
     "metadata": {},
     "output_type": "execute_result"
    }
   ],
   "source": [
    "os.listdir(os.path.join(data_path,\"bc5cdr\"))"
   ]
  },
  {
   "cell_type": "code",
   "execution_count": 120,
   "metadata": {},
   "outputs": [
    {
     "ename": "FileNotFoundError",
     "evalue": "[Errno 2] No such file or directory: '/home/aberhe/Projects/SANTAL/ASLR/data/ner/BC5CDR-chem/train.txt'",
     "output_type": "error",
     "traceback": [
      "\u001b[0;31m---------------------------------------------------------------------------\u001b[0m",
      "\u001b[0;31mFileNotFoundError\u001b[0m                         Traceback (most recent call last)",
      "\u001b[1;32m/home/aberhe/Projects/SANTAL/ASLR/notebooks/dataset_collection_NER.ipynb Cell 5\u001b[0m line \u001b[0;36m1\n\u001b[0;32m----> <a href='vscode-notebook-cell://ssh-remote%2Bhpc-cng4.ummisco.ioit/home/aberhe/Projects/SANTAL/ASLR/notebooks/dataset_collection_NER.ipynb#W4sdnNjb2RlLXJlbW90ZQ%3D%3D?line=0'>1</a>\u001b[0m \u001b[39mwith\u001b[39;00m \u001b[39mopen\u001b[39;49m(os\u001b[39m.\u001b[39;49mpath\u001b[39m.\u001b[39;49mjoin(os\u001b[39m.\u001b[39;49mpath\u001b[39m.\u001b[39;49mjoin(data_path,\u001b[39m\"\u001b[39;49m\u001b[39mBC5CDR-chem\u001b[39;49m\u001b[39m\"\u001b[39;49m),\u001b[39m\"\u001b[39;49m\u001b[39mtrain.txt\u001b[39;49m\u001b[39m\"\u001b[39;49m),\u001b[39m\"\u001b[39;49m\u001b[39mr\u001b[39;49m\u001b[39m\"\u001b[39;49m) \u001b[39mas\u001b[39;00m f:\n\u001b[1;32m      <a href='vscode-notebook-cell://ssh-remote%2Bhpc-cng4.ummisco.ioit/home/aberhe/Projects/SANTAL/ASLR/notebooks/dataset_collection_NER.ipynb#W4sdnNjb2RlLXJlbW90ZQ%3D%3D?line=1'>2</a>\u001b[0m     lines\u001b[39m=\u001b[39mf\u001b[39m.\u001b[39mreadlines()\n",
      "File \u001b[0;32m/opt/conda/lib/python3.11/site-packages/IPython/core/interactiveshell.py:286\u001b[0m, in \u001b[0;36m_modified_open\u001b[0;34m(file, *args, **kwargs)\u001b[0m\n\u001b[1;32m    279\u001b[0m \u001b[39mif\u001b[39;00m file \u001b[39min\u001b[39;00m {\u001b[39m0\u001b[39m, \u001b[39m1\u001b[39m, \u001b[39m2\u001b[39m}:\n\u001b[1;32m    280\u001b[0m     \u001b[39mraise\u001b[39;00m \u001b[39mValueError\u001b[39;00m(\n\u001b[1;32m    281\u001b[0m         \u001b[39mf\u001b[39m\u001b[39m\"\u001b[39m\u001b[39mIPython won\u001b[39m\u001b[39m'\u001b[39m\u001b[39mt let you open fd=\u001b[39m\u001b[39m{\u001b[39;00mfile\u001b[39m}\u001b[39;00m\u001b[39m by default \u001b[39m\u001b[39m\"\u001b[39m\n\u001b[1;32m    282\u001b[0m         \u001b[39m\"\u001b[39m\u001b[39mas it is likely to crash IPython. If you know what you are doing, \u001b[39m\u001b[39m\"\u001b[39m\n\u001b[1;32m    283\u001b[0m         \u001b[39m\"\u001b[39m\u001b[39myou can use builtins\u001b[39m\u001b[39m'\u001b[39m\u001b[39m open.\u001b[39m\u001b[39m\"\u001b[39m\n\u001b[1;32m    284\u001b[0m     )\n\u001b[0;32m--> 286\u001b[0m \u001b[39mreturn\u001b[39;00m io_open(file, \u001b[39m*\u001b[39;49margs, \u001b[39m*\u001b[39;49m\u001b[39m*\u001b[39;49mkwargs)\n",
      "\u001b[0;31mFileNotFoundError\u001b[0m: [Errno 2] No such file or directory: '/home/aberhe/Projects/SANTAL/ASLR/data/ner/BC5CDR-chem/train.txt'"
     ]
    }
   ],
   "source": [
    "with open(os.path.join(os.path.join(data_path,\"BC5CDR-chem\"),\"train.txt\"),\"r\") as f:\n",
    "    lines=f.readlines()"
   ]
  },
  {
   "cell_type": "code",
   "execution_count": 119,
   "metadata": {},
   "outputs": [
    {
     "data": {
      "text/plain": [
       "['IL-2\\tNN\\tO\\tB-DNA\\n',\n",
       " 'gene\\tNN\\tO\\tI-DNA\\n',\n",
       " 'expression\\tNN\\tO\\tO\\n',\n",
       " 'and\\tNN\\tO\\tO\\n',\n",
       " 'NF-kappa\\tNN\\tO\\tB-protein\\n',\n",
       " 'B\\tNN\\tO\\tI-protein\\n',\n",
       " 'activation\\tNN\\tO\\tO\\n',\n",
       " 'through\\tNN\\tO\\tO\\n',\n",
       " 'CD28\\tNN\\tO\\tB-protein\\n',\n",
       " 'requires\\tNN\\tO\\tO\\n',\n",
       " 'reactive\\tNN\\tO\\tO\\n',\n",
       " 'oxygen\\tNN\\tO\\tO\\n',\n",
       " 'production\\tNN\\tO\\tO\\n',\n",
       " 'by\\tNN\\tO\\tO\\n',\n",
       " '5-lipoxygenase\\tNN\\tO\\tB-protein\\n',\n",
       " '.\\tNN\\tO\\tO\\n',\n",
       " '\\n',\n",
       " 'Activation\\tNN\\tO\\tO\\n']"
      ]
     },
     "execution_count": 119,
     "metadata": {},
     "output_type": "execute_result"
    }
   ],
   "source": [
    "lines[2:20]"
   ]
  },
  {
   "cell_type": "code",
   "execution_count": null,
   "metadata": {},
   "outputs": [],
   "source": [
    "###  bc5cdr,JNLPBA= \"-DOCSTART-\"\"\n",
    "### BC5CDR-disease, BC5CDR-chem,s800=\"\\n\"\n",
    "### linnaeus, NCBI-disease=\"Abstarct\""
   ]
  },
  {
   "cell_type": "code",
   "execution_count": 126,
   "metadata": {},
   "outputs": [],
   "source": [
    "def getDocSequences(path_to_file,entity_label=\"Chemical\"):\n",
    "    with open(path_to_file,\"r\") as f:\n",
    "        lines=f.readlines()\n",
    "    doc_seq=[]\n",
    "    doc_labels=[]\n",
    "    word_seq=[]\n",
    "    label_seq=[]\n",
    "    for i in range (1,len(lines)):\n",
    "        if lines[i]!=\"\\n\":\n",
    "            if not \"-DOCSTART-\" in lines[i]:\n",
    "                word_seq.append(lines[i].split(\"\\t\")[0])\n",
    "                if \"-\" in lines[i].split(\"\\t\")[-1]:\n",
    "                    label_seq.append(lines[i].split(\"\\t\")[-1].replace(\"\\n\",\"\"))#.split(\"-\")[0]+\"-\"+entity_label)\n",
    "                else:\n",
    "                    label_seq.append(lines[i].split(\"\\t\")[-1].replace(\"\\n\",\"\"))             \n",
    "            else:\n",
    "                if word_seq!=[]:\n",
    "                    doc_seq.append(word_seq)\n",
    "                    doc_labels.append(label_seq)\n",
    "                label_seq=[]\n",
    "                word_seq=[]\n",
    "    \n",
    "    return doc_seq,doc_labels"
   ]
  },
  {
   "cell_type": "code",
   "execution_count": 9,
   "metadata": {},
   "outputs": [],
   "source": [
    "def cleanBrackets(doc_seq,doc_labels):\n",
    "    doc_seq_cl,doc_labels_cl=[],[]\n",
    "    pending_bracket=None\n",
    "    previous=None\n",
    "    c=0\n",
    "    for i in range(1,len(doc_seq)):#,doc_labels):\n",
    "        if \"[\" in doc_seq[i] or \"(\" in doc_seq[i] or \"{\" in doc_seq[i]:\n",
    "            if \"]\" in doc_seq[i] or \")\" in doc_seq[i] or \"}\" in doc_seq[i]:\n",
    "                joined_item=previous+\" \".join(doc_seq[i-c:i+1])\n",
    "                doc_seq_cl.append(joined_item)\n",
    "                doc_labels_cl.append(doc_labels[i])\n",
    "                c=0\n",
    "                doc_seq_cl.append(joined_item)\n",
    "                #previous=doc_seq[i]\n",
    "            else:\n",
    "                previous=doc_seq[i]\n",
    "                c=c+1\n",
    "        else:\n",
    "            doc_seq_cl.append(doc_seq[i])\n",
    "            doc_labels_cl.append(doc_labels[i])\n",
    "            c=0\n",
    "\n",
    "    return doc_seq_cl,doc_labels_cl\n",
    "\n"
   ]
  },
  {
   "cell_type": "code",
   "execution_count": 147,
   "metadata": {},
   "outputs": [],
   "source": [
    "file_path=os.path.join(os.path.join(data_path,\"s800\"),\"train.tsv\")\n",
    "doc_seq,doc_labels=getDocSequences(path_to_file=file_path,entity_label=\"Species\")\n",
    "file_path=os.path.join(os.path.join(data_path,\"s800\"),\"test.tsv\")\n",
    "doc_seq_t,doc_labels_t=getDocSequences(path_to_file=file_path,entity_label=\"Species\")\n",
    "file_path=os.path.join(os.path.join(data_path,\"s800\"),\"devel.tsv\")\n",
    "doc_seq_v,doc_labels_v=getDocSequences(path_to_file=file_path,entity_label=\"Species\")"
   ]
  },
  {
   "cell_type": "code",
   "execution_count": 148,
   "metadata": {},
   "outputs": [
    {
     "data": {
      "text/plain": [
       "(0, 0, 0, 0, 0, 0)"
      ]
     },
     "execution_count": 148,
     "metadata": {},
     "output_type": "execute_result"
    }
   ],
   "source": [
    "len(doc_seq),len(doc_labels),len(doc_seq_t),len(doc_labels_t),len(doc_seq_v),len(doc_labels_v)"
   ]
  },
  {
   "cell_type": "code",
   "execution_count": 130,
   "metadata": {},
   "outputs": [
    {
     "data": {
      "text/plain": [
       "['IL-2',\n",
       " 'gene',\n",
       " 'expression',\n",
       " 'and',\n",
       " 'NF-kappa',\n",
       " 'B',\n",
       " 'activation',\n",
       " 'through',\n",
       " 'CD28',\n",
       " 'requires',\n",
       " 'reactive',\n",
       " 'oxygen',\n",
       " 'production',\n",
       " 'by',\n",
       " '5-lipoxygenase',\n",
       " '.',\n",
       " 'Activation',\n",
       " 'of',\n",
       " 'the',\n",
       " 'CD28',\n",
       " 'surface',\n",
       " 'receptor',\n",
       " 'provides',\n",
       " 'a',\n",
       " 'major',\n",
       " 'costimulatory',\n",
       " 'signal',\n",
       " 'for',\n",
       " 'T',\n",
       " 'cell',\n",
       " 'activation',\n",
       " 'resulting',\n",
       " 'in',\n",
       " 'enhanced',\n",
       " 'production',\n",
       " 'of',\n",
       " 'interleukin-2',\n",
       " '(',\n",
       " 'IL-2',\n",
       " ')',\n",
       " 'and',\n",
       " 'cell',\n",
       " 'proliferation',\n",
       " '.',\n",
       " 'In',\n",
       " 'primary',\n",
       " 'T',\n",
       " 'lymphocytes',\n",
       " 'we',\n",
       " 'show',\n",
       " 'that',\n",
       " 'CD28',\n",
       " 'ligation',\n",
       " 'leads',\n",
       " 'to',\n",
       " 'the',\n",
       " 'rapid',\n",
       " 'intracellular',\n",
       " 'formation',\n",
       " 'of',\n",
       " 'reactive',\n",
       " 'oxygen',\n",
       " 'intermediates',\n",
       " '(',\n",
       " 'ROIs',\n",
       " ')',\n",
       " 'which',\n",
       " 'are',\n",
       " 'required',\n",
       " 'for',\n",
       " 'CD28',\n",
       " '-mediated',\n",
       " 'activation',\n",
       " 'of',\n",
       " 'the',\n",
       " 'NF-kappa',\n",
       " 'B',\n",
       " '/',\n",
       " 'CD28-responsive',\n",
       " 'complex',\n",
       " 'and',\n",
       " 'IL-2',\n",
       " 'expression',\n",
       " '.',\n",
       " 'Delineation',\n",
       " 'of',\n",
       " 'the',\n",
       " 'CD28',\n",
       " 'signaling',\n",
       " 'cascade',\n",
       " 'was',\n",
       " 'found',\n",
       " 'to',\n",
       " 'involve',\n",
       " 'protein',\n",
       " 'tyrosine',\n",
       " 'kinase',\n",
       " 'activity',\n",
       " ',',\n",
       " 'followed',\n",
       " 'by',\n",
       " 'the',\n",
       " 'activation',\n",
       " 'of',\n",
       " 'phospholipase',\n",
       " 'A2',\n",
       " 'and',\n",
       " '5-lipoxygenase',\n",
       " '.',\n",
       " 'Our',\n",
       " 'data',\n",
       " 'suggest',\n",
       " 'that',\n",
       " 'lipoxygenase',\n",
       " 'metabolites',\n",
       " 'activate',\n",
       " 'ROI',\n",
       " 'formation',\n",
       " 'which',\n",
       " 'then',\n",
       " 'induce',\n",
       " 'IL-2',\n",
       " 'expression',\n",
       " 'via',\n",
       " 'NF-kappa',\n",
       " 'B',\n",
       " 'activation',\n",
       " '.',\n",
       " 'These',\n",
       " 'findings',\n",
       " 'should',\n",
       " 'be',\n",
       " 'useful',\n",
       " 'for',\n",
       " 'therapeutic',\n",
       " 'strategies',\n",
       " 'and',\n",
       " 'the',\n",
       " 'development',\n",
       " 'of',\n",
       " 'immunosuppressants',\n",
       " 'targeting',\n",
       " 'the',\n",
       " 'CD28',\n",
       " 'costimulatory',\n",
       " 'pathway',\n",
       " '.']"
      ]
     },
     "execution_count": 130,
     "metadata": {},
     "output_type": "execute_result"
    }
   ],
   "source": [
    "\n",
    "doc_seq[0]"
   ]
  },
  {
   "cell_type": "code",
   "execution_count": 131,
   "metadata": {},
   "outputs": [
    {
     "data": {
      "text/plain": [
       "['O',\n",
       " 'B-DNA',\n",
       " 'I-DNA',\n",
       " 'I-DNA',\n",
       " 'O',\n",
       " 'B-DNA',\n",
       " 'I-DNA',\n",
       " 'I-DNA',\n",
       " 'I-DNA',\n",
       " 'I-DNA',\n",
       " 'I-DNA',\n",
       " 'O',\n",
       " 'O',\n",
       " 'B-cell_type',\n",
       " 'O',\n",
       " 'O',\n",
       " 'O',\n",
       " 'B-cell_type',\n",
       " 'I-cell_type',\n",
       " 'O',\n",
       " 'O',\n",
       " 'O',\n",
       " 'O',\n",
       " 'O',\n",
       " 'O',\n",
       " 'O',\n",
       " 'O',\n",
       " 'O',\n",
       " 'O',\n",
       " 'O',\n",
       " 'O',\n",
       " 'O',\n",
       " 'O',\n",
       " 'O',\n",
       " 'O',\n",
       " 'O',\n",
       " 'O',\n",
       " 'O',\n",
       " 'O',\n",
       " 'O',\n",
       " 'O',\n",
       " 'O',\n",
       " 'O',\n",
       " 'O',\n",
       " 'O',\n",
       " 'O',\n",
       " 'O',\n",
       " 'O',\n",
       " 'O',\n",
       " 'O',\n",
       " 'O',\n",
       " 'O',\n",
       " 'O',\n",
       " 'O',\n",
       " 'O',\n",
       " 'O',\n",
       " 'O',\n",
       " 'O',\n",
       " 'O',\n",
       " 'O',\n",
       " 'O',\n",
       " 'O',\n",
       " 'O',\n",
       " 'O',\n",
       " 'O',\n",
       " 'O',\n",
       " 'O',\n",
       " 'O',\n",
       " 'O',\n",
       " 'O',\n",
       " 'O',\n",
       " 'O',\n",
       " 'O',\n",
       " 'O',\n",
       " 'O',\n",
       " 'B-DNA',\n",
       " 'I-DNA',\n",
       " 'O',\n",
       " 'O',\n",
       " 'O',\n",
       " 'O',\n",
       " 'O',\n",
       " 'O',\n",
       " 'O',\n",
       " 'O',\n",
       " 'O',\n",
       " 'O',\n",
       " 'O',\n",
       " 'O',\n",
       " 'O',\n",
       " 'O',\n",
       " 'B-DNA',\n",
       " 'I-DNA',\n",
       " 'O',\n",
       " 'O',\n",
       " 'O',\n",
       " 'O',\n",
       " 'O',\n",
       " 'O',\n",
       " 'O',\n",
       " 'O',\n",
       " 'O',\n",
       " 'O',\n",
       " 'B-protein',\n",
       " 'I-protein',\n",
       " 'B-protein',\n",
       " 'I-protein',\n",
       " 'O',\n",
       " 'O',\n",
       " 'O',\n",
       " 'B-DNA',\n",
       " 'I-DNA',\n",
       " 'I-DNA',\n",
       " 'O',\n",
       " 'O',\n",
       " 'B-DNA',\n",
       " 'I-DNA',\n",
       " 'I-DNA',\n",
       " 'I-DNA',\n",
       " 'O',\n",
       " 'O',\n",
       " 'O',\n",
       " 'O',\n",
       " 'B-DNA',\n",
       " 'I-DNA',\n",
       " 'O',\n",
       " 'B-cell_type',\n",
       " 'O',\n",
       " 'B-cell_type',\n",
       " 'I-cell_type',\n",
       " 'O',\n",
       " 'O',\n",
       " 'O',\n",
       " 'O',\n",
       " 'B-DNA',\n",
       " 'I-DNA',\n",
       " 'O',\n",
       " 'O',\n",
       " 'O',\n",
       " 'B-DNA',\n",
       " 'I-DNA',\n",
       " 'I-DNA',\n",
       " 'O',\n",
       " 'O',\n",
       " 'B-DNA',\n",
       " 'I-DNA',\n",
       " 'I-DNA',\n",
       " 'O',\n",
       " 'B-DNA',\n",
       " 'O',\n",
       " 'B-DNA',\n",
       " 'O',\n",
       " 'O',\n",
       " 'O',\n",
       " 'B-DNA',\n",
       " 'I-DNA',\n",
       " 'O',\n",
       " 'O',\n",
       " 'O',\n",
       " 'O',\n",
       " 'O',\n",
       " 'O',\n",
       " 'O',\n",
       " 'B-DNA',\n",
       " 'I-DNA',\n",
       " 'O',\n",
       " 'O',\n",
       " 'B-DNA',\n",
       " 'I-DNA',\n",
       " 'O',\n",
       " 'O',\n",
       " 'O',\n",
       " 'O',\n",
       " 'O',\n",
       " 'B-DNA',\n",
       " 'I-DNA',\n",
       " 'I-DNA',\n",
       " 'O',\n",
       " 'O',\n",
       " 'B-DNA',\n",
       " 'I-DNA',\n",
       " 'O',\n",
       " 'O',\n",
       " 'O',\n",
       " 'O',\n",
       " 'O',\n",
       " 'O',\n",
       " 'O',\n",
       " 'O',\n",
       " 'O',\n",
       " 'O',\n",
       " 'O',\n",
       " 'O',\n",
       " 'O',\n",
       " 'O',\n",
       " 'O',\n",
       " 'O',\n",
       " 'O',\n",
       " 'O',\n",
       " 'O',\n",
       " 'O',\n",
       " 'O',\n",
       " 'O',\n",
       " 'O',\n",
       " 'O',\n",
       " 'O',\n",
       " 'B-DNA',\n",
       " 'I-DNA',\n",
       " 'O',\n",
       " 'O',\n",
       " 'O',\n",
       " 'O',\n",
       " 'B-cell_line',\n",
       " 'O',\n",
       " 'O',\n",
       " 'B-cell_line',\n",
       " 'I-cell_line',\n",
       " 'O',\n",
       " 'O',\n",
       " 'O',\n",
       " 'O',\n",
       " 'O',\n",
       " 'O',\n",
       " 'O',\n",
       " 'O',\n",
       " 'B-DNA',\n",
       " 'I-DNA',\n",
       " 'I-DNA',\n",
       " 'O',\n",
       " 'O',\n",
       " 'O',\n",
       " 'O',\n",
       " 'O',\n",
       " 'O',\n",
       " 'O',\n",
       " 'O',\n",
       " 'O',\n",
       " 'B-DNA',\n",
       " 'I-DNA',\n",
       " 'O',\n",
       " 'O',\n",
       " 'O',\n",
       " 'O',\n",
       " 'O',\n",
       " 'O',\n",
       " 'O',\n",
       " 'O',\n",
       " 'O',\n",
       " 'B-protein',\n",
       " 'I-protein',\n",
       " 'O',\n",
       " 'O',\n",
       " 'O',\n",
       " 'O',\n",
       " 'O',\n",
       " 'B-cell_type',\n",
       " 'I-cell_type',\n",
       " 'I-cell_type',\n",
       " 'O',\n",
       " 'B-cell_type',\n",
       " 'I-cell_type',\n",
       " 'O',\n",
       " 'O',\n",
       " 'B-DNA',\n",
       " 'I-DNA',\n",
       " 'I-DNA',\n",
       " 'O',\n",
       " 'O',\n",
       " 'O',\n",
       " 'O',\n",
       " 'O',\n",
       " 'O',\n",
       " 'O',\n",
       " 'O',\n",
       " 'O',\n",
       " 'O',\n",
       " 'O',\n",
       " 'O',\n",
       " 'O',\n",
       " 'O',\n",
       " 'O',\n",
       " 'O',\n",
       " 'B-cell_type',\n",
       " 'O',\n",
       " 'B-cell_type',\n",
       " 'I-cell_type',\n",
       " 'O',\n",
       " 'O',\n",
       " 'O',\n",
       " 'O',\n",
       " 'O',\n",
       " 'O',\n",
       " 'B-DNA',\n",
       " 'I-DNA',\n",
       " 'O',\n",
       " 'O',\n",
       " 'O',\n",
       " 'O',\n",
       " 'B-cell_type',\n",
       " 'O',\n",
       " 'B-cell_type',\n",
       " 'I-cell_type',\n",
       " 'O',\n",
       " 'O',\n",
       " 'O',\n",
       " 'O',\n",
       " 'O',\n",
       " 'O',\n",
       " 'O',\n",
       " 'O',\n",
       " 'O',\n",
       " 'O',\n",
       " 'O',\n",
       " 'O',\n",
       " 'O',\n",
       " 'O',\n",
       " 'O',\n",
       " 'B-DNA',\n",
       " 'I-DNA',\n",
       " 'I-DNA',\n",
       " 'O',\n",
       " 'O',\n",
       " 'O',\n",
       " 'B-cell_type',\n",
       " 'O',\n",
       " 'O',\n",
       " 'O',\n",
       " 'O',\n",
       " 'O',\n",
       " 'O',\n",
       " 'O',\n",
       " 'O',\n",
       " 'O',\n",
       " 'O',\n",
       " 'O',\n",
       " 'O',\n",
       " 'O',\n",
       " 'O',\n",
       " 'O',\n",
       " 'O',\n",
       " 'O',\n",
       " 'B-protein',\n",
       " 'I-protein',\n",
       " 'I-protein',\n",
       " 'O',\n",
       " 'O',\n",
       " 'O',\n",
       " 'O',\n",
       " 'O',\n",
       " 'O',\n",
       " 'O',\n",
       " 'O',\n",
       " 'B-cell_type',\n",
       " 'O',\n",
       " 'B-cell_type',\n",
       " 'I-cell_type',\n",
       " 'O',\n",
       " 'O',\n",
       " 'O',\n",
       " 'O',\n",
       " 'O']"
      ]
     },
     "execution_count": 131,
     "metadata": {},
     "output_type": "execute_result"
    }
   ],
   "source": [
    "doc_labels[1]"
   ]
  },
  {
   "cell_type": "code",
   "execution_count": 87,
   "metadata": {},
   "outputs": [
    {
     "data": {
      "text/plain": [
       "['Tricuspid',\n",
       " 'valve',\n",
       " 'regurgitation',\n",
       " 'and',\n",
       " 'lithium',\n",
       " 'carbonate',\n",
       " 'toxicity',\n",
       " 'in',\n",
       " 'a',\n",
       " 'newborn',\n",
       " 'infant',\n",
       " '.',\n",
       " 'A',\n",
       " 'newborn',\n",
       " 'with',\n",
       " 'massive',\n",
       " 'tricuspid',\n",
       " 'regurgitation',\n",
       " ',',\n",
       " 'atrial',\n",
       " 'flutter',\n",
       " ',',\n",
       " 'congestive',\n",
       " 'heart',\n",
       " 'failure',\n",
       " ',',\n",
       " 'and',\n",
       " 'a',\n",
       " 'high',\n",
       " 'serum',\n",
       " 'lithium',\n",
       " 'level',\n",
       " 'is',\n",
       " 'described',\n",
       " '.',\n",
       " 'This',\n",
       " 'is',\n",
       " 'the',\n",
       " 'first',\n",
       " 'patient',\n",
       " 'to',\n",
       " 'initially',\n",
       " 'manifest',\n",
       " 'tricuspid',\n",
       " 'regurgitation',\n",
       " 'and',\n",
       " 'atrial',\n",
       " 'flutter',\n",
       " ',',\n",
       " 'and',\n",
       " 'the',\n",
       " '11th',\n",
       " 'described',\n",
       " 'patient',\n",
       " 'with',\n",
       " 'cardiac',\n",
       " 'disease',\n",
       " 'among',\n",
       " 'infants',\n",
       " 'exposed',\n",
       " 'to',\n",
       " 'lithium',\n",
       " 'compounds',\n",
       " 'in',\n",
       " 'the',\n",
       " 'first',\n",
       " 'trimester',\n",
       " 'of',\n",
       " 'pregnancy',\n",
       " '.',\n",
       " 'Lithium',\n",
       " 'carbonate',\n",
       " 'may',\n",
       " 'be',\n",
       " 'a',\n",
       " 'factor',\n",
       " 'in',\n",
       " 'the',\n",
       " 'increasing',\n",
       " 'incidence',\n",
       " 'of',\n",
       " 'congenital',\n",
       " 'heart',\n",
       " 'disease',\n",
       " 'when',\n",
       " 'taken',\n",
       " 'during',\n",
       " 'early',\n",
       " 'pregnancy',\n",
       " '.',\n",
       " 'It',\n",
       " 'also',\n",
       " 'causes',\n",
       " 'neurologic',\n",
       " 'depression',\n",
       " ',',\n",
       " 'cyanosis',\n",
       " ',',\n",
       " 'and',\n",
       " 'cardiac',\n",
       " 'arrhythmia',\n",
       " 'when',\n",
       " 'consumed',\n",
       " 'prior',\n",
       " 'to',\n",
       " 'delivery',\n",
       " '.']"
      ]
     },
     "execution_count": 87,
     "metadata": {},
     "output_type": "execute_result"
    }
   ],
   "source": [
    "doc_seq_v[0]"
   ]
  },
  {
   "cell_type": "code",
   "execution_count": 168,
   "metadata": {},
   "outputs": [
    {
     "name": "stdout",
     "output_type": "stream",
     "text": [
      "[201, 67, 131, 86, 291, 204, 61, 75, 182, 149, 92, 149, 92, 137, 252, 133, 243, 97, 212, 157, 120, 219, 221, 68, 298, 108, 81, 108, 117, 51, 153, 206, 194, 130, 142, 209, 123, 262, 59, 168, 101, 125, 152, 152, 110, 291, 217, 117, 63, 116, 96, 104, 215, 346, 610, 352, 49, 125, 169, 392, 318, 256, 265, 325, 128, 331, 51, 286, 193, 167, 323, 326, 293, 166, 315, 166, 126, 257, 235, 105, 311, 278, 379, 210, 211, 133, 97, 260, 249, 213, 81, 197, 72, 158, 177, 104, 72, 157, 84, 176, 119, 216, 72, 182, 55, 57, 138, 77, 88, 109, 74, 242, 225, 287, 183, 99, 128, 371, 102, 266, 274, 267, 167, 238, 191, 144, 147, 267, 242, 35, 57, 233, 137, 141, 155, 277, 279, 231, 128, 355, 51, 357, 305, 271, 130, 327, 63, 93, 321, 281, 179, 252, 147, 164, 196, 115, 312, 154, 210, 293, 173, 311, 200, 283, 154, 99, 250, 246, 168, 94, 251, 143, 354, 203, 242, 137, 225, 164, 288, 277, 121, 153, 249, 202, 168, 122, 94, 146, 159, 147, 182, 62, 363, 136, 194, 84, 67, 97, 86, 101, 226, 108, 184, 100, 187, 236, 156, 94, 202, 232, 96, 164, 97, 75, 268, 147, 149, 122, 184, 229, 60, 146, 427, 311, 298, 181, 221, 228, 246, 396, 74, 270, 158, 162, 181, 188, 214, 93, 168, 240, 159, 52, 42, 196, 148, 237, 182, 359, 235, 132, 353, 252, 242, 52, 297, 127, 314, 254, 134, 302, 126, 308, 244, 239, 345, 139, 84, 115, 62, 211, 215, 258, 234, 91, 208, 206, 161, 421, 181, 249, 159, 296, 239, 104, 58, 172, 249, 209, 301, 71, 75, 84, 125, 51, 308, 67, 43, 240, 198, 50, 141, 76, 68, 101, 170, 186, 164, 155, 254, 113, 110, 199, 57, 147, 211, 164, 102, 339, 193, 319, 133, 104, 167, 139, 109, 72, 170, 282, 220, 302, 177, 306, 286, 161, 285, 240, 189, 166, 152, 90, 136, 186, 145, 221, 165, 182, 286, 265, 208, 146, 129, 427, 195, 182, 225, 199, 248, 233, 241, 354, 213, 203, 372, 178, 338, 228, 218, 269, 206, 109, 288, 140, 247, 105, 211, 121, 147, 197, 313, 170, 336, 118, 328, 113, 54, 66, 143, 274, 253, 237, 258, 387, 201, 31, 238, 250, 164, 236, 174, 286, 371, 271, 410, 310, 250, 173, 136, 126, 96, 311, 26, 223, 142, 149, 111, 216, 54, 72, 94, 101, 265, 306, 59, 148, 276, 76, 213, 126, 232, 210, 149, 311, 319, 201, 181, 147, 233, 100, 303, 288, 184, 46, 288, 124, 127, 78, 82, 336, 154, 144, 244, 225, 325, 410, 167, 172, 190, 156, 230, 335, 241, 120, 192, 170, 166, 249, 290, 114, 80, 100, 258, 295, 233, 252, 146, 180, 346, 455, 188, 167, 284, 226, 227, 157, 94, 253, 204, 72, 372, 306, 278, 274, 173, 83, 286, 142, 183, 124, 129]\n"
     ]
    },
    {
     "data": {
      "text/plain": [
       "(610, 26)"
      ]
     },
     "execution_count": 168,
     "metadata": {},
     "output_type": "execute_result"
    }
   ],
   "source": [
    "len_docs=[len(doc) for doc in doc_seq]\n",
    "print(len_docs)\n",
    "max(len_docs),min(len_docs)"
   ]
  },
  {
   "cell_type": "code",
   "execution_count": 163,
   "metadata": {},
   "outputs": [
    {
     "name": "stdout",
     "output_type": "stream",
     "text": [
      "74 499\n"
     ]
    }
   ],
   "source": [
    "ct=0\n",
    "for l in len_docs:\n",
    "    if l>300:\n",
    "        ct=ct+1\n",
    "print(ct,len(doc_seq))"
   ]
  },
  {
   "cell_type": "code",
   "execution_count": 11,
   "metadata": {},
   "outputs": [],
   "source": [
    "def isclosed(text):\n",
    "    \"\"\"\n",
    "    Check is there is an opening bracket but not a closing bracket\n",
    "    \"\"\"\n",
    "    openings=['(','{','[']\n",
    "    closings=[')','}',']']\n",
    "    close=1\n",
    "    for i,op in enumerate(openings):\n",
    "        if op in text:\n",
    "            if closings[i] in text:\n",
    "                close=1\n",
    "            else:\n",
    "                close=0\n",
    "                return False\n",
    "        else:\n",
    "            continue\n",
    "    if close:\n",
    "        return True\n",
    "    else:\n",
    "        return False\n",
    "    \n",
    "    print(\"no brackets\")\n",
    "\n"
   ]
  },
  {
   "cell_type": "code",
   "execution_count": 12,
   "metadata": {},
   "outputs": [
    {
     "data": {
      "text/plain": [
       "False"
      ]
     },
     "execution_count": 12,
     "metadata": {},
     "output_type": "execute_result"
    }
   ],
   "source": [
    "isclosed(\"[\")"
   ]
  },
  {
   "cell_type": "code",
   "execution_count": 222,
   "metadata": {},
   "outputs": [],
   "source": [
    "def getCleanEntities(doc_seq,doc_labels):\n",
    "    entities_list=[]\n",
    "    labels_list=[]\n",
    "    for d in tqdm.tqdm(range(len(doc_seq))):\n",
    "        entities=[]\n",
    "        labels=[]\n",
    "        text=doc_seq[d][0]\n",
    "        lbl=doc_labels[d][0]\n",
    "        for  i in range(1,len(doc_seq[d])):\n",
    "            #if \"Chemical\" in doc_labels[0][i]:\n",
    "            #print(i,\":\",doc_seq[d][i],\":\",doc_labels[d][i])\n",
    "            if isclosed(text):\n",
    "                entities.append(text)\n",
    "                labels.append(lbl)\n",
    "                text=doc_seq[d][i]\n",
    "                lbl=doc_labels[d][i]\n",
    "            else:\n",
    "                text=text+doc_seq[d][i]\n",
    "                lbl=doc_labels[d][i]\n",
    "        entities.append(text)\n",
    "        labels.append(lbl)\n",
    "        entities_list.append(entities)\n",
    "        labels_list.append(labels)\n",
    "\n",
    "    return entities_list,labels_list"
   ]
  },
  {
   "cell_type": "code",
   "execution_count": 82,
   "metadata": {},
   "outputs": [
    {
     "name": "stderr",
     "output_type": "stream",
     "text": [
      "100%|██████████| 499/499 [00:00<00:00, 8075.49it/s]\n",
      "100%|██████████| 499/499 [00:00<00:00, 7227.14it/s]\n",
      "100%|██████████| 499/499 [00:00<00:00, 9672.87it/s]\n"
     ]
    }
   ],
   "source": [
    "entities_list,labels_list=getCleanEntities(doc_seq=doc_seq,doc_labels=doc_labels)\n",
    "entities_list_test,labels_list_test=getCleanEntities(doc_seq=doc_seq_t,doc_labels=doc_labels_t)\n",
    "entities_list_valid,labels_list_valid=getCleanEntities(doc_seq=doc_seq_v,doc_labels=doc_labels_v)"
   ]
  },
  {
   "cell_type": "code",
   "execution_count": 88,
   "metadata": {},
   "outputs": [],
   "source": [
    "dic_train=datasets.Dataset.from_dict({\"tokens\":entities_list,\"ner_tags\":labels_list})\n",
    "dic_test=datasets.Dataset.from_dict({\"tokens\":entities_list_test,\"ner_tags\":labels_list_test})\n",
    "dic_val=datasets.Dataset.from_dict({\"tokens\":entities_list_valid,\"ner_tags\":labels_list_valid})\n",
    "chemical_dataset=datasets.DatasetDict({\"train\":dic_train,\"valid\":dic_val,\"test\":dic_test})"
   ]
  },
  {
   "cell_type": "code",
   "execution_count": 96,
   "metadata": {},
   "outputs": [],
   "source": [
    "chemical_dataset=datasets.DatasetDict({\"train\":dic_train,\"valid\":dic_val,\"test\":dic_test})"
   ]
  },
  {
   "cell_type": "code",
   "execution_count": 106,
   "metadata": {},
   "outputs": [
    {
     "data": {
      "application/vnd.jupyter.widget-view+json": {
       "model_id": "64f58b78fa2541dca768a30d0b6fbe38",
       "version_major": 2,
       "version_minor": 0
      },
      "text/plain": [
       "Saving the dataset (0/1 shards):   0%|          | 0/499 [00:00<?, ? examples/s]"
      ]
     },
     "metadata": {},
     "output_type": "display_data"
    },
    {
     "data": {
      "application/vnd.jupyter.widget-view+json": {
       "model_id": "99b94372f61a485984b0fc43e0d14df9",
       "version_major": 2,
       "version_minor": 0
      },
      "text/plain": [
       "Saving the dataset (0/1 shards):   0%|          | 0/499 [00:00<?, ? examples/s]"
      ]
     },
     "metadata": {},
     "output_type": "display_data"
    },
    {
     "data": {
      "application/vnd.jupyter.widget-view+json": {
       "model_id": "1d94e34e06464173b65f3951164bb8af",
       "version_major": 2,
       "version_minor": 0
      },
      "text/plain": [
       "Saving the dataset (0/1 shards):   0%|          | 0/499 [00:00<?, ? examples/s]"
      ]
     },
     "metadata": {},
     "output_type": "display_data"
    }
   ],
   "source": [
    "chemical_dataset.save_to_disk(os.path.join(data_path,\"Chemical_bc5cdr_dataset_ner\"))"
   ]
  },
  {
   "cell_type": "code",
   "execution_count": 90,
   "metadata": {},
   "outputs": [
    {
     "data": {
      "text/plain": [
       "Dataset({\n",
       "    features: ['tokens', 'ner_tags'],\n",
       "    num_rows: 1497\n",
       "})"
      ]
     },
     "execution_count": 90,
     "metadata": {},
     "output_type": "execute_result"
    }
   ],
   "source": [
    "chemical_dataset"
   ]
  },
  {
   "cell_type": "code",
   "execution_count": 61,
   "metadata": {},
   "outputs": [
    {
     "name": "stdout",
     "output_type": "stream",
     "text": [
      "Naloxone -- I-Chemical -->reverses -- O -->the -- O -->antihypertensive -- O -->effect -- O -->of -- O -->clonidine -- I-Chemical -->. -- O -->In -- O -->unanesthetized -- O -->, -- O -->spontaneously -- O -->hypertensive -- I-Chemical -->rats -- O -->the -- O -->decrease -- O -->in -- O -->blood -- O -->pressure -- O -->and -- O -->heart -- O -->rate -- O -->produced -- O -->by -- O -->intravenous -- O -->clonidine -- I-Chemical -->, -- O -->5 -- O -->to -- O -->20 -- O -->micrograms -- O -->/ -- O -->kg -- O -->, -- O -->was -- O -->inhibited -- O -->or -- O -->reversed -- O -->by -- O -->nalozone -- I-Chemical -->, -- O -->0.2 -- O -->to -- O -->2 -- O -->mg -- O -->/ -- O -->kg -- O -->. -- O -->The -- O -->hypotensive -- I-Chemical -->effect -- O -->of -- O -->100 -- O -->mg -- O -->/ -- O -->kg -- O -->alpha -- B-Chemical -->- -- I-Chemical -->methyldopa -- I-Chemical -->was -- O -->also -- O -->partially -- O -->reversed -- O -->by -- O -->naloxone -- I-Chemical -->. -- O -->Naloxone -- I-Chemical -->alone -- O -->did -- O -->not -- O -->affect -- O -->either -- O -->blood -- O -->pressure -- O -->or -- O -->heart -- O -->rate -- O -->. -- O -->In -- O -->brain -- O -->membranes -- O -->from -- O -->spontaneously -- O -->hypertensive -- I-Chemical -->rats -- O -->clonidine -- I-Chemical -->, -- O -->10(-8 -- O -->) -- O -->to -- O -->10(-5 -- O -->) -- O -->M -- O -->, -- O -->did -- O -->not -- O -->influence -- O -->stereoselective -- O -->binding -- O -->of -- O -->[ -- B-Chemical -->3H]-naloxone -- I-Chemical -->( -- O -->8 -- O -->nM -- O -->) -- O -->, -- O -->and -- O -->naloxone -- I-Chemical -->, -- O -->10(-8 -- O -->) -- O -->to -- O -->10(-4 -- O -->) -- O -->M -- O -->, -- O -->did -- O -->not -- O -->influence -- O -->clonidine -- I-Chemical -->- -- O -->suppressible -- O -->binding -- O -->of -- O -->[ -- B-Chemical -->3H]-dihydroergocryptine -- I-Chemical -->( -- O -->1 -- O -->nM -- O -->) -- O -->. -- O -->These -- O -->findings -- O -->indicate -- O -->that -- O -->in -- O -->spontaneously -- O -->hypertensive -- I-Chemical -->rats -- O -->the -- O -->effects -- O -->of -- O -->central -- O -->alpha -- O -->- -- O -->adrenoceptor -- O -->stimulation -- O -->involve -- O -->activation -- O -->of -- O -->opiate -- O -->receptors -- O -->. -- O -->As -- O -->naloxone -- I-Chemical -->and -- O -->clonidine -- I-Chemical -->do -- O -->not -- O -->appear -- O -->to -- O -->interact -- O -->with -- O -->the -- O -->same -- O -->receptor -- O -->site -- O -->, -- O -->the -- O -->observed -- O -->functional -- O -->antagonism -- O -->suggests -- O -->the -- O -->release -- O -->of -- O -->an -- O -->endogenous -- O -->opiate -- O -->by -- O -->clonidine -- I-Chemical -->or -- O -->alpha -- B-Chemical -->- -- I-Chemical -->methyldopa -- I-Chemical -->and -- O -->the -- O -->possible -- O -->role -- O -->of -- O -->the -- O -->opiate -- O -->in -- O -->the -- O -->central -- O -->control -- O -->of -- O -->sympathetic -- O -->tone -- O -->. -- O -->"
     ]
    }
   ],
   "source": [
    "d=0\n",
    "for i in range(len(doc_seq[d])):\n",
    "    print(doc_seq[d][i],\"--\",doc_labels[d][i],end=\" -->\")\n"
   ]
  },
  {
   "cell_type": "code",
   "execution_count": 79,
   "metadata": {},
   "outputs": [
    {
     "name": "stdout",
     "output_type": "stream",
     "text": [
      "Naloxone -- I-Chemical -->reverses -- O -->the -- O -->antihypertensive -- O -->effect -- O -->of -- O -->clonidine -- I-Chemical -->. -- O -->In -- O -->unanesthetized -- O -->, -- O -->spontaneously -- O -->hypertensive -- I-Chemical -->rats -- O -->the -- O -->decrease -- O -->in -- O -->blood -- O -->pressure -- O -->and -- O -->heart -- O -->rate -- O -->produced -- O -->by -- O -->intravenous -- O -->clonidine -- I-Chemical -->, -- O -->5 -- O -->to -- O -->20 -- O -->micrograms -- O -->/ -- O -->kg -- O -->, -- O -->was -- O -->inhibited -- O -->or -- O -->reversed -- O -->by -- O -->nalozone -- I-Chemical -->, -- O -->0.2 -- O -->to -- O -->2 -- O -->mg -- O -->/ -- O -->kg -- O -->. -- O -->The -- O -->hypotensive -- I-Chemical -->effect -- O -->of -- O -->100 -- O -->mg -- O -->/ -- O -->kg -- O -->alpha -- B-Chemical -->- -- I-Chemical -->methyldopa -- I-Chemical -->was -- O -->also -- O -->partially -- O -->reversed -- O -->by -- O -->naloxone -- I-Chemical -->. -- O -->Naloxone -- I-Chemical -->alone -- O -->did -- O -->not -- O -->affect -- O -->either -- O -->blood -- O -->pressure -- O -->or -- O -->heart -- O -->rate -- O -->. -- O -->In -- O -->brain -- O -->membranes -- O -->from -- O -->spontaneously -- O -->hypertensive -- I-Chemical -->rats -- O -->clonidine -- I-Chemical -->, -- O -->10(-8) -- O -->to -- O -->10(-5) -- O -->M -- O -->, -- O -->did -- O -->not -- O -->influence -- O -->stereoselective -- O -->binding -- O -->of -- O -->[3H]-naloxone -- I-Chemical -->(8nM) -- O -->, -- O -->and -- O -->naloxone -- I-Chemical -->, -- O -->10(-8) -- O -->to -- O -->10(-4) -- O -->M -- O -->, -- O -->did -- O -->not -- O -->influence -- O -->clonidine -- I-Chemical -->- -- O -->suppressible -- O -->binding -- O -->of -- O -->[3H]-dihydroergocryptine -- I-Chemical -->(1nM) -- O -->. -- O -->These -- O -->findings -- O -->indicate -- O -->that -- O -->in -- O -->spontaneously -- O -->hypertensive -- I-Chemical -->rats -- O -->the -- O -->effects -- O -->of -- O -->central -- O -->alpha -- O -->- -- O -->adrenoceptor -- O -->stimulation -- O -->involve -- O -->activation -- O -->of -- O -->opiate -- O -->receptors -- O -->. -- O -->As -- O -->naloxone -- I-Chemical -->and -- O -->clonidine -- I-Chemical -->do -- O -->not -- O -->appear -- O -->to -- O -->interact -- O -->with -- O -->the -- O -->same -- O -->receptor -- O -->site -- O -->, -- O -->the -- O -->observed -- O -->functional -- O -->antagonism -- O -->suggests -- O -->the -- O -->release -- O -->of -- O -->an -- O -->endogenous -- O -->opiate -- O -->by -- O -->clonidine -- I-Chemical -->or -- O -->alpha -- B-Chemical -->- -- I-Chemical -->methyldopa -- I-Chemical -->and -- O -->the -- O -->possible -- O -->role -- O -->of -- O -->the -- O -->opiate -- O -->in -- O -->the -- O -->central -- O -->control -- O -->of -- O -->sympathetic -- O -->tone -- O -->"
     ]
    }
   ],
   "source": [
    "#print(entities_list1[0])\n",
    "#print(labels_list1[0])\n",
    "for i in range(len(entities_list[0])):\n",
    "    print(entities_list[0][i],\"--\",labels_list[0][i],end=\" -->\")"
   ]
  },
  {
   "cell_type": "code",
   "execution_count": 53,
   "metadata": {},
   "outputs": [
    {
     "name": "stdout",
     "output_type": "stream",
     "text": [
      "['I-Chemical', 'O', 'O', 'O', 'O', 'O', 'I-Chemical', 'O', 'O', 'O', 'O', 'O', 'I-Chemical', 'O', 'O', 'O', 'O', 'O', 'O', 'O', 'O', 'O', 'O', 'O', 'O', 'I-Chemical', 'O', 'O', 'O', 'O', 'O', 'O', 'O', 'O', 'O', 'O', 'O', 'O', 'O', 'I-Chemical', 'O', 'O', 'O', 'O', 'O', 'O', 'O', 'O', 'O', 'I-Chemical', 'O', 'O', 'O', 'O', 'O', 'O', 'B-Chemical', 'I-Chemical', 'I-Chemical', 'O', 'O', 'O', 'O', 'O', 'I-Chemical', 'O', 'I-Chemical', 'O', 'O', 'O', 'O', 'O', 'O', 'O', 'O', 'O', 'O', 'O', 'O', 'O', 'O', 'O', 'O', 'I-Chemical', 'O', 'I-Chemical', 'O', 'O', 'O', 'O', 'O', 'O', 'O', 'O', 'O', 'O', 'O', 'O', 'O', 'O', 'B-Chemical', 'I-Chemical', 'O', 'O', 'O', 'O', 'O', 'O', 'I-Chemical', 'O', 'O', 'O', 'O', 'O', 'O', 'O', 'O', 'O', 'O', 'O', 'I-Chemical', 'O', 'O', 'O', 'O', 'B-Chemical', 'I-Chemical', 'O', 'O', 'O', 'O', 'O', 'O', 'O', 'O', 'O', 'O', 'O', 'I-Chemical', 'O', 'O', 'O', 'O', 'O', 'O', 'O', 'O', 'O', 'O', 'O', 'O', 'O', 'O', 'O', 'O', 'I-Chemical', 'O', 'I-Chemical', 'O', 'O', 'O', 'O', 'O', 'O', 'O', 'O', 'O', 'O', 'O', 'O', 'O', 'O', 'O', 'O', 'O', 'O', 'O', 'O', 'O', 'O', 'O', 'I-Chemical', 'O', 'B-Chemical', 'I-Chemical', 'I-Chemical', 'O', 'O', 'O', 'O', 'O', 'O', 'O', 'O', 'O', 'O', 'O', 'O', 'O', 'O', 'O']\n"
     ]
    }
   ],
   "source": [
    "print(doc_labels[0])"
   ]
  },
  {
   "cell_type": "code",
   "execution_count": 81,
   "metadata": {},
   "outputs": [
    {
     "name": "stdout",
     "output_type": "stream",
     "text": [
      "0 Naloxone I-Chemical\n",
      "6 clonidine I-Chemical\n",
      "12 hypertensive I-Chemical\n",
      "25 clonidine I-Chemical\n",
      "39 nalozone I-Chemical\n",
      "49 hypotensive I-Chemical\n",
      "56 alpha B-Chemical\n",
      "57 - I-Chemical\n",
      "58 methyldopa I-Chemical\n",
      "64 naloxone I-Chemical\n",
      "66 Naloxone I-Chemical\n",
      "83 hypertensive I-Chemical\n",
      "85 clonidine I-Chemical\n",
      "98 [3H]-naloxone I-Chemical\n",
      "102 naloxone I-Chemical\n",
      "112 clonidine I-Chemical\n",
      "117 [3H]-dihydroergocryptine I-Chemical\n",
      "126 hypertensive I-Chemical\n",
      "143 naloxone I-Chemical\n",
      "145 clonidine I-Chemical\n",
      "169 clonidine I-Chemical\n",
      "171 alpha B-Chemical\n",
      "172 - I-Chemical\n",
      "173 methyldopa I-Chemical\n"
     ]
    }
   ],
   "source": [
    "for i,(e,l) in enumerate(zip(entities_list[0],labels_list[0])):\n",
    "    if \"Chemical\" in l:\n",
    "        print(i,e,l)"
   ]
  },
  {
   "cell_type": "code",
   "execution_count": 172,
   "metadata": {},
   "outputs": [
    {
     "name": "stdout",
     "output_type": "stream",
     "text": [
      "B-Chemical\n"
     ]
    }
   ],
   "source": [
    "print(doc_labels[0][doc_seq[0].index('3H]-naloxone')-1])"
   ]
  },
  {
   "cell_type": "code",
   "execution_count": 80,
   "metadata": {},
   "outputs": [
    {
     "data": {
      "text/plain": [
       "499"
      ]
     },
     "execution_count": 80,
     "metadata": {},
     "output_type": "execute_result"
    }
   ],
   "source": [
    "len(doc_labels)"
   ]
  },
  {
   "cell_type": "code",
   "execution_count": 60,
   "metadata": {},
   "outputs": [],
   "source": [
    "sentences=[]\n",
    "sent=\"\"\n",
    "\n",
    "for i in range (2,len(lines)):\n",
    "    if not lines[i].split(\"\\t\")[0] in [\"?\",\".\",\"!\"] and \"-DOCSTART-\" in lines[i]:\n",
    "        sent=sent+\" \"+lines[i].split(\"\\t\")[0]\n",
    "    else:\n",
    "        sent=sent+\"\"+lines[i].split(\"\\t\")[0]\n",
    "        sentences.append(sent.strip().replace(\" , \",\", \").replace(\" / \",\"/\"))\n",
    "        sent=\"\""
   ]
  },
  {
   "cell_type": "code",
   "execution_count": 61,
   "metadata": {},
   "outputs": [
    {
     "data": {
      "text/plain": [
       "['Naloxone reverses the antihypertensive effect of clonidine.',\n",
       " 'In unanesthetized, spontaneously hypertensive rats the decrease in blood pressure and heart rate produced by intravenous clonidine, 5 to 20 micrograms/kg, was inhibited or reversed by nalozone, 0.2 to 2 mg/kg.',\n",
       " 'The hypotensive effect of 100 mg/kg alpha - methyldopa was also partially reversed by naloxone.',\n",
       " 'Naloxone alone did not affect either blood pressure or heart rate.',\n",
       " 'In brain membranes from spontaneously hypertensive rats clonidine, 10(-8 ) to 10(-5 ) \\n M, did not influence stereoselective binding of [ 3H]-naloxone ( 8 nM ), and naloxone, 10(-8 ) to 10(-4 ) \\n M, did not influence clonidine - suppressible binding of [ 3H]-dihydroergocryptine ( 1 nM ).',\n",
       " 'These findings indicate that in spontaneously hypertensive rats the effects of central alpha - adrenoceptor stimulation involve activation of opiate receptors.',\n",
       " 'As naloxone and clonidine do not appear to interact with the same receptor site, the observed functional antagonism suggests the release of an endogenous opiate by clonidine or alpha - methyldopa and the possible role of the opiate in the central control of sympathetic tone.',\n",
       " '-DOCSTART- (354896)\\n \\n Lidocaine - induced cardiac asystole.',\n",
       " 'Intravenous administration of a single 50-mg bolus of lidocaine in a 67-year - old man resulted in profound depression of the activity of the sinoatrial and atrioventricular nodal pacemakers.',\n",
       " 'The patient had no apparent associated conditions which might have predisposed him to the development of bradyarrhythmias ; and, thus, this probably represented a true idiosyncrasy to lidocaine.']"
      ]
     },
     "execution_count": 61,
     "metadata": {},
     "output_type": "execute_result"
    }
   ],
   "source": [
    "sentences[0:10]"
   ]
  },
  {
   "cell_type": "code",
   "execution_count": 206,
   "metadata": {},
   "outputs": [],
   "source": [
    "def readannotation_tsv(filepath):\n",
    "    with open (filepath, \"r\") as f:\n",
    "        lines=f.readlines()\n",
    "    c=0\n",
    "    doc_seq=[]\n",
    "    doc_labels=[]\n",
    "    seq=[]\n",
    "    lbl=[]\n",
    "    print(lines[0])\n",
    "    for line in lines:\n",
    "        if line !=\"\\n\":\n",
    "            split_line=line.split(\"\\t\")\n",
    "            seq.append(split_line[0])\n",
    "            lbl.append(split_line[-1])\n",
    "        else:\n",
    "            doc_seq.append(seq)\n",
    "            doc_labels.append(lbl)\n",
    "            seq=[]\n",
    "            lbl=[]\n",
    "    return doc_seq,doc_labels"
   ]
  },
  {
   "cell_type": "code",
   "execution_count": 229,
   "metadata": {},
   "outputs": [
    {
     "name": "stdout",
     "output_type": "stream",
     "text": [
      "Methanoregula\tB\n",
      "\n",
      "Streptococcus\tB\n",
      "\n",
      "Flavobacterium\tO\n",
      "\n"
     ]
    }
   ],
   "source": [
    "doc_seq,doc_labels=readannotation_tsv(os.path.join(os.path.join(data_path,\"s800\"),\"train.tsv\"))\n",
    "doc_seq_t,doc_labels_t=readannotation_tsv(os.path.join(os.path.join(data_path,\"s800\"),\"test.tsv\"))\n",
    "doc_seq_v,doc_labels_v=readannotation_tsv(os.path.join(os.path.join(data_path,\"s800\"),\"devel.tsv\"))"
   ]
  },
  {
   "cell_type": "code",
   "execution_count": 230,
   "metadata": {},
   "outputs": [
    {
     "data": {
      "text/plain": [
       "(5733, 5733, 830, 830, 1630, 1630)"
      ]
     },
     "execution_count": 230,
     "metadata": {},
     "output_type": "execute_result"
    }
   ],
   "source": [
    "len(doc_seq),len(doc_labels),len(doc_seq_v),len(doc_labels_v),len(doc_seq_t),len(doc_labels_t)"
   ]
  },
  {
   "cell_type": "code",
   "execution_count": 232,
   "metadata": {},
   "outputs": [
    {
     "data": {
      "text/plain": [
       "['Methanoregula',\n",
       " 'formicica',\n",
       " 'sp',\n",
       " '.',\n",
       " 'nov',\n",
       " '.',\n",
       " ',',\n",
       " 'a',\n",
       " 'methane',\n",
       " '-',\n",
       " 'producing',\n",
       " 'archaeon',\n",
       " 'isolated',\n",
       " 'from',\n",
       " 'methanogenic',\n",
       " 'sludge',\n",
       " '.']"
      ]
     },
     "execution_count": 232,
     "metadata": {},
     "output_type": "execute_result"
    }
   ],
   "source": [
    "doc_seq[0]"
   ]
  },
  {
   "cell_type": "code",
   "execution_count": 233,
   "metadata": {},
   "outputs": [
    {
     "name": "stderr",
     "output_type": "stream",
     "text": [
      "100%|██████████| 5733/5733 [00:00<00:00, 93384.49it/s]\n",
      "100%|██████████| 1630/1630 [00:00<00:00, 79235.03it/s]\n",
      "100%|██████████| 830/830 [00:00<00:00, 86474.05it/s]\n"
     ]
    }
   ],
   "source": [
    "entities_list,labels_list=getCleanEntities(doc_seq=doc_seq,doc_labels=doc_labels)\n",
    "entities_list_test,labels_list_test=getCleanEntities(doc_seq=doc_seq_t,doc_labels=doc_labels_t)\n",
    "entities_list_valid,labels_list_valid=getCleanEntities(doc_seq=doc_seq_v,doc_labels=doc_labels_v)"
   ]
  },
  {
   "cell_type": "code",
   "execution_count": 234,
   "metadata": {},
   "outputs": [
    {
     "data": {
      "text/plain": [
       "['Methanoregula',\n",
       " 'formicica',\n",
       " 'sp',\n",
       " '.',\n",
       " 'nov',\n",
       " '.',\n",
       " ',',\n",
       " 'a',\n",
       " 'methane',\n",
       " '-',\n",
       " 'producing',\n",
       " 'archaeon',\n",
       " 'isolated',\n",
       " 'from',\n",
       " 'methanogenic',\n",
       " 'sludge',\n",
       " '.']"
      ]
     },
     "execution_count": 234,
     "metadata": {},
     "output_type": "execute_result"
    }
   ],
   "source": [
    "entities_list[0]"
   ]
  },
  {
   "cell_type": "code",
   "execution_count": 235,
   "metadata": {},
   "outputs": [],
   "source": [
    "dic_train=datasets.Dataset.from_dict({\"tokens\":entities_list,\"ner_tags\":labels_list})\n",
    "dic_test=datasets.Dataset.from_dict({\"tokens\":entities_list_test,\"ner_tags\":labels_list_test})\n",
    "dic_val=datasets.Dataset.from_dict({\"tokens\":entities_list_valid,\"ner_tags\":labels_list_valid})\n",
    "species_dataset=datasets.DatasetDict({\"train\":dic_train,\"valid\":dic_val,\"test\":dic_test})"
   ]
  },
  {
   "cell_type": "code",
   "execution_count": 236,
   "metadata": {},
   "outputs": [
    {
     "data": {
      "text/plain": [
       "DatasetDict({\n",
       "    train: Dataset({\n",
       "        features: ['tokens', 'ner_tags'],\n",
       "        num_rows: 5733\n",
       "    })\n",
       "    valid: Dataset({\n",
       "        features: ['tokens', 'ner_tags'],\n",
       "        num_rows: 830\n",
       "    })\n",
       "    test: Dataset({\n",
       "        features: ['tokens', 'ner_tags'],\n",
       "        num_rows: 1630\n",
       "    })\n",
       "})"
      ]
     },
     "execution_count": 236,
     "metadata": {},
     "output_type": "execute_result"
    }
   ],
   "source": [
    "species_dataset"
   ]
  },
  {
   "cell_type": "code",
   "execution_count": 237,
   "metadata": {},
   "outputs": [
    {
     "data": {
      "application/vnd.jupyter.widget-view+json": {
       "model_id": "e8711f0416aa4f29a2d304c5efdac03a",
       "version_major": 2,
       "version_minor": 0
      },
      "text/plain": [
       "Saving the dataset (0/1 shards):   0%|          | 0/5733 [00:00<?, ? examples/s]"
      ]
     },
     "metadata": {},
     "output_type": "display_data"
    },
    {
     "data": {
      "application/vnd.jupyter.widget-view+json": {
       "model_id": "9bc4627ece7240a4b649db78097312ba",
       "version_major": 2,
       "version_minor": 0
      },
      "text/plain": [
       "Saving the dataset (0/1 shards):   0%|          | 0/830 [00:00<?, ? examples/s]"
      ]
     },
     "metadata": {},
     "output_type": "display_data"
    },
    {
     "data": {
      "application/vnd.jupyter.widget-view+json": {
       "model_id": "ba9c2afc43aa48829c7c79b14a98d568",
       "version_major": 2,
       "version_minor": 0
      },
      "text/plain": [
       "Saving the dataset (0/1 shards):   0%|          | 0/1630 [00:00<?, ? examples/s]"
      ]
     },
     "metadata": {},
     "output_type": "display_data"
    }
   ],
   "source": [
    "species_dataset.save_to_disk(os.path.join(data_path,\"Species_s800_dataset_ner\"))"
   ]
  },
  {
   "cell_type": "code",
   "execution_count": 242,
   "metadata": {},
   "outputs": [
    {
     "name": "stdout",
     "output_type": "stream",
     "text": [
      "Scp160p\tO\n",
      "\n",
      "In\tO\n",
      "\n",
      "Gene\tO\n",
      "\n"
     ]
    }
   ],
   "source": [
    "doc_seq,doc_labels=readannotation_tsv(os.path.join(os.path.join(data_path,\"linnaeus\"),\"train.tsv\"))\n",
    "doc_seq_t,doc_labels_t=readannotation_tsv(os.path.join(os.path.join(data_path,\"linnaeus\"),\"test.tsv\"))\n",
    "doc_seq_v,doc_labels_v=readannotation_tsv(os.path.join(os.path.join(data_path,\"linnaeus\"),\"devel.tsv\"))\n",
    "#doc_seq_d,doc_labels_d=readannotation_tsv(os.path.join(os.path.join(data_path,\"linnaeus\"),\"train_dev.tsv\"))"
   ]
  },
  {
   "cell_type": "code",
   "execution_count": 243,
   "metadata": {},
   "outputs": [
    {
     "data": {
      "text/plain": [
       "(11935, 11935, 4078, 4078, 7142, 7142)"
      ]
     },
     "execution_count": 243,
     "metadata": {},
     "output_type": "execute_result"
    }
   ],
   "source": [
    "len(doc_seq),len(doc_labels),len(doc_seq_v),len(doc_labels_v),len(doc_seq_t),len(doc_labels_t)"
   ]
  },
  {
   "cell_type": "code",
   "execution_count": 247,
   "metadata": {},
   "outputs": [
    {
     "data": {
      "text/plain": [
       "['Scp160p',\n",
       " 'is',\n",
       " 'a',\n",
       " '160',\n",
       " 'kDa',\n",
       " 'protein',\n",
       " 'in',\n",
       " 'the',\n",
       " 'yeast',\n",
       " 'Saccharomyces',\n",
       " 'cerevisiae',\n",
       " 'that',\n",
       " 'contains',\n",
       " '14',\n",
       " 'repeats',\n",
       " 'of',\n",
       " 'the',\n",
       " 'hnRNP',\n",
       " 'K',\n",
       " '-',\n",
       " 'homology',\n",
       " '(',\n",
       " 'KH',\n",
       " ')',\n",
       " 'domain',\n",
       " ',',\n",
       " 'and',\n",
       " 'demonstrates',\n",
       " 'significant',\n",
       " 'sequence',\n",
       " 'homology',\n",
       " 'to',\n",
       " 'a',\n",
       " 'family',\n",
       " 'of',\n",
       " 'proteins',\n",
       " 'collectively',\n",
       " 'known',\n",
       " 'as',\n",
       " 'vigilins',\n",
       " '.']"
      ]
     },
     "execution_count": 247,
     "metadata": {},
     "output_type": "execute_result"
    }
   ],
   "source": [
    "doc_seq[2]"
   ]
  },
  {
   "cell_type": "code",
   "execution_count": 244,
   "metadata": {},
   "outputs": [
    {
     "name": "stderr",
     "output_type": "stream",
     "text": [
      "100%|██████████| 11935/11935 [00:00<00:00, 45809.50it/s]\n",
      "100%|██████████| 7142/7142 [00:00<00:00, 119723.27it/s]\n",
      "100%|██████████| 4078/4078 [00:00<00:00, 116266.10it/s]\n"
     ]
    }
   ],
   "source": [
    "entities_list,labels_list=getCleanEntities(doc_seq=doc_seq,doc_labels=doc_labels)\n",
    "entities_list_test,labels_list_test=getCleanEntities(doc_seq=doc_seq_t,doc_labels=doc_labels_t)\n",
    "entities_list_valid,labels_list_valid=getCleanEntities(doc_seq=doc_seq_v,doc_labels=doc_labels_v)"
   ]
  },
  {
   "cell_type": "code",
   "execution_count": 248,
   "metadata": {},
   "outputs": [
    {
     "data": {
      "text/plain": [
       "['Scp160p',\n",
       " 'is',\n",
       " 'a',\n",
       " '160',\n",
       " 'kDa',\n",
       " 'protein',\n",
       " 'in',\n",
       " 'the',\n",
       " 'yeast',\n",
       " 'Saccharomyces',\n",
       " 'cerevisiae',\n",
       " 'that',\n",
       " 'contains',\n",
       " '14',\n",
       " 'repeats',\n",
       " 'of',\n",
       " 'the',\n",
       " 'hnRNP',\n",
       " 'K',\n",
       " '-',\n",
       " 'homology',\n",
       " '(KH)',\n",
       " 'domain',\n",
       " ',',\n",
       " 'and',\n",
       " 'demonstrates',\n",
       " 'significant',\n",
       " 'sequence',\n",
       " 'homology',\n",
       " 'to',\n",
       " 'a',\n",
       " 'family',\n",
       " 'of',\n",
       " 'proteins',\n",
       " 'collectively',\n",
       " 'known',\n",
       " 'as',\n",
       " 'vigilins',\n",
       " '.']"
      ]
     },
     "execution_count": 248,
     "metadata": {},
     "output_type": "execute_result"
    }
   ],
   "source": [
    "entities_list[2]"
   ]
  },
  {
   "cell_type": "code",
   "execution_count": 249,
   "metadata": {},
   "outputs": [],
   "source": [
    "dic_train=datasets.Dataset.from_dict({\"tokens\":entities_list,\"ner_tags\":labels_list})\n",
    "dic_test=datasets.Dataset.from_dict({\"tokens\":entities_list_test,\"ner_tags\":labels_list_test})\n",
    "dic_val=datasets.Dataset.from_dict({\"tokens\":entities_list_valid,\"ner_tags\":labels_list_valid})\n",
    "species_dataset_lin=datasets.DatasetDict({\"train\":dic_train,\"valid\":dic_val,\"test\":dic_test})"
   ]
  },
  {
   "cell_type": "code",
   "execution_count": 250,
   "metadata": {},
   "outputs": [
    {
     "data": {
      "application/vnd.jupyter.widget-view+json": {
       "model_id": "dc0b095071004b7e9e81d5c30311b2d9",
       "version_major": 2,
       "version_minor": 0
      },
      "text/plain": [
       "Saving the dataset (0/1 shards):   0%|          | 0/11935 [00:00<?, ? examples/s]"
      ]
     },
     "metadata": {},
     "output_type": "display_data"
    },
    {
     "data": {
      "application/vnd.jupyter.widget-view+json": {
       "model_id": "861de9d2b0c84c438ffe719fdfda18d7",
       "version_major": 2,
       "version_minor": 0
      },
      "text/plain": [
       "Saving the dataset (0/1 shards):   0%|          | 0/4078 [00:00<?, ? examples/s]"
      ]
     },
     "metadata": {},
     "output_type": "display_data"
    },
    {
     "data": {
      "application/vnd.jupyter.widget-view+json": {
       "model_id": "b727f47da8134b4cbb68d1a72d680f2d",
       "version_major": 2,
       "version_minor": 0
      },
      "text/plain": [
       "Saving the dataset (0/1 shards):   0%|          | 0/7142 [00:00<?, ? examples/s]"
      ]
     },
     "metadata": {},
     "output_type": "display_data"
    }
   ],
   "source": [
    "species_dataset_lin.save_to_disk(os.path.join(data_path,\"Species_linnaeus_dataset_ner\"))"
   ]
  },
  {
   "cell_type": "code",
   "execution_count": 201,
   "metadata": {},
   "outputs": [
    {
     "name": "stdout",
     "output_type": "stream",
     "text": [
      "Identification\tNN\tO\tO\n",
      "\n"
     ]
    }
   ],
   "source": [
    "doc_seq,doc_labels,lines=readannotation_tsv(os.path.join(os.path.join(data_path,\"NCBI-disease\"),\"train.txt\"))\n"
   ]
  },
  {
   "cell_type": "code",
   "execution_count": 209,
   "metadata": {},
   "outputs": [
    {
     "name": "stdout",
     "output_type": "stream",
     "text": [
      "['Identification', 'of', 'APC2', ',', 'a', 'homologue', 'of', 'the', 'adenomatous', 'polyposis', 'coli', 'tumour', 'suppressor', '.']\n"
     ]
    }
   ],
   "source": [
    "print(doc_seq[0])"
   ]
  },
  {
   "cell_type": "code",
   "execution_count": 204,
   "metadata": {},
   "outputs": [
    {
     "data": {
      "text/plain": [
       "['Identification\\tNN\\tO\\tO\\n',\n",
       " 'of\\tNN\\tO\\tO\\n',\n",
       " 'APC2\\tNN\\tO\\tO\\n',\n",
       " ',\\tNN\\tO\\tO\\n',\n",
       " 'a\\tNN\\tO\\tO\\n',\n",
       " 'homologue\\tNN\\tO\\tO\\n',\n",
       " 'of\\tNN\\tO\\tO\\n',\n",
       " 'the\\tNN\\tO\\tO\\n',\n",
       " 'adenomatous\\tNN\\tO\\tB-Disease\\n',\n",
       " 'polyposis\\tNN\\tO\\tI-Disease\\n',\n",
       " 'coli\\tNN\\tO\\tI-Disease\\n',\n",
       " 'tumour\\tNN\\tO\\tI-Disease\\n',\n",
       " 'suppressor\\tNN\\tO\\tO\\n',\n",
       " '.\\tNN\\tO\\tO\\n',\n",
       " '\\n']"
      ]
     },
     "execution_count": 204,
     "metadata": {},
     "output_type": "execute_result"
    }
   ],
   "source": [
    "lines[0:15]"
   ]
  },
  {
   "cell_type": "code",
   "execution_count": 207,
   "metadata": {},
   "outputs": [
    {
     "name": "stdout",
     "output_type": "stream",
     "text": [
      "Identification\tNN\tO\tO\n",
      "\n",
      "Clustering\tNN\tO\tO\n",
      "\n",
      "BRCA1\tNN\tO\tO\n",
      "\n"
     ]
    }
   ],
   "source": [
    "doc_seq,doc_labels=readannotation_tsv(os.path.join(os.path.join(data_path,\"NCBI-disease\"),\"train.txt\"))\n",
    "doc_seq_t,doc_labels_t=readannotation_tsv(os.path.join(os.path.join(data_path,\"NCBI-disease\"),\"test.txt\"))\n",
    "doc_seq_v,doc_labels_v=readannotation_tsv(os.path.join(os.path.join(data_path,\"NCBI-disease\"),\"dev.txt\"))"
   ]
  },
  {
   "cell_type": "code",
   "execution_count": 191,
   "metadata": {},
   "outputs": [
    {
     "data": {
      "text/plain": [
       "(5424, 5424, 923, 923, 940, 940)"
      ]
     },
     "execution_count": 191,
     "metadata": {},
     "output_type": "execute_result"
    }
   ],
   "source": [
    "len(doc_seq),len(doc_labels),len(doc_seq_v),len(doc_labels_v),len(doc_seq_t),len(doc_labels_t)"
   ]
  },
  {
   "cell_type": "code",
   "execution_count": 223,
   "metadata": {},
   "outputs": [
    {
     "name": "stderr",
     "output_type": "stream",
     "text": [
      "100%|██████████| 5424/5424 [00:00<00:00, 93519.41it/s]\n",
      "100%|██████████| 940/940 [00:00<00:00, 87587.10it/s]\n",
      "100%|██████████| 923/923 [00:00<00:00, 86750.83it/s]\n"
     ]
    }
   ],
   "source": [
    "entities_list,labels_list=getCleanEntities(doc_seq=doc_seq,doc_labels=doc_labels)\n",
    "entities_list_test,labels_list_test=getCleanEntities(doc_seq=doc_seq_t,doc_labels=doc_labels_t)\n",
    "entities_list_valid,labels_list_valid=getCleanEntities(doc_seq=doc_seq_v,doc_labels=doc_labels_v)"
   ]
  },
  {
   "cell_type": "code",
   "execution_count": 224,
   "metadata": {},
   "outputs": [
    {
     "data": {
      "text/plain": [
       "['Identification',\n",
       " 'of',\n",
       " 'APC2',\n",
       " ',',\n",
       " 'a',\n",
       " 'homologue',\n",
       " 'of',\n",
       " 'the',\n",
       " 'adenomatous',\n",
       " 'polyposis',\n",
       " 'coli',\n",
       " 'tumour',\n",
       " 'suppressor',\n",
       " '.']"
      ]
     },
     "execution_count": 224,
     "metadata": {},
     "output_type": "execute_result"
    }
   ],
   "source": [
    "doc_seq[0]"
   ]
  },
  {
   "cell_type": "code",
   "execution_count": 225,
   "metadata": {},
   "outputs": [
    {
     "data": {
      "text/plain": [
       "['Identification',\n",
       " 'of',\n",
       " 'APC2',\n",
       " ',',\n",
       " 'a',\n",
       " 'homologue',\n",
       " 'of',\n",
       " 'the',\n",
       " 'adenomatous',\n",
       " 'polyposis',\n",
       " 'coli',\n",
       " 'tumour',\n",
       " 'suppressor',\n",
       " '.']"
      ]
     },
     "execution_count": 225,
     "metadata": {},
     "output_type": "execute_result"
    }
   ],
   "source": [
    "entities_list[0]"
   ]
  },
  {
   "cell_type": "code",
   "execution_count": 227,
   "metadata": {},
   "outputs": [],
   "source": [
    "dic_train=datasets.Dataset.from_dict({\"tokens\":entities_list,\"ner_tags\":labels_list})\n",
    "dic_test=datasets.Dataset.from_dict({\"tokens\":entities_list_test,\"ner_tags\":labels_list_test})\n",
    "dic_val=datasets.Dataset.from_dict({\"tokens\":entities_list_valid,\"ner_tags\":labels_list_valid})\n",
    "ncbiDisease_dataset=datasets.DatasetDict({\"train\":dic_train,\"valid\":dic_val,\"test\":dic_test})"
   ]
  },
  {
   "cell_type": "code",
   "execution_count": 228,
   "metadata": {},
   "outputs": [
    {
     "data": {
      "application/vnd.jupyter.widget-view+json": {
       "model_id": "2b08880c0d454a60801bd727d826f044",
       "version_major": 2,
       "version_minor": 0
      },
      "text/plain": [
       "Saving the dataset (0/1 shards):   0%|          | 0/5424 [00:00<?, ? examples/s]"
      ]
     },
     "metadata": {},
     "output_type": "display_data"
    },
    {
     "data": {
      "application/vnd.jupyter.widget-view+json": {
       "model_id": "62c805e052894725973c51ea4d757988",
       "version_major": 2,
       "version_minor": 0
      },
      "text/plain": [
       "Saving the dataset (0/1 shards):   0%|          | 0/923 [00:00<?, ? examples/s]"
      ]
     },
     "metadata": {},
     "output_type": "display_data"
    },
    {
     "data": {
      "application/vnd.jupyter.widget-view+json": {
       "model_id": "e78c705f18164d13bfb6514e2bcde93e",
       "version_major": 2,
       "version_minor": 0
      },
      "text/plain": [
       "Saving the dataset (0/1 shards):   0%|          | 0/940 [00:00<?, ? examples/s]"
      ]
     },
     "metadata": {},
     "output_type": "display_data"
    }
   ],
   "source": [
    "ncbiDisease_dataset.save_to_disk(os.path.join(data_path,\"Disease_NCBI-disease_dataset_ner\"))"
   ]
  },
  {
   "cell_type": "code",
   "execution_count": 132,
   "metadata": {},
   "outputs": [],
   "source": [
    "df = pd.read_csv(os.path.join(os.path.join(data_path,\"s800\"),\"train.tsv\"), delimiter='\\t',header=None)"
   ]
  },
  {
   "cell_type": "code",
   "execution_count": 135,
   "metadata": {},
   "outputs": [
    {
     "data": {
      "text/html": [
       "<div>\n",
       "<style scoped>\n",
       "    .dataframe tbody tr th:only-of-type {\n",
       "        vertical-align: middle;\n",
       "    }\n",
       "\n",
       "    .dataframe tbody tr th {\n",
       "        vertical-align: top;\n",
       "    }\n",
       "\n",
       "    .dataframe thead th {\n",
       "        text-align: right;\n",
       "    }\n",
       "</style>\n",
       "<table border=\"1\" class=\"dataframe\">\n",
       "  <thead>\n",
       "    <tr style=\"text-align: right;\">\n",
       "      <th></th>\n",
       "      <th>0</th>\n",
       "      <th>1</th>\n",
       "    </tr>\n",
       "  </thead>\n",
       "  <tbody>\n",
       "    <tr>\n",
       "      <th>0</th>\n",
       "      <td>Methanoregula</td>\n",
       "      <td>B</td>\n",
       "    </tr>\n",
       "    <tr>\n",
       "      <th>1</th>\n",
       "      <td>formicica</td>\n",
       "      <td>I</td>\n",
       "    </tr>\n",
       "    <tr>\n",
       "      <th>2</th>\n",
       "      <td>sp</td>\n",
       "      <td>O</td>\n",
       "    </tr>\n",
       "    <tr>\n",
       "      <th>3</th>\n",
       "      <td>.</td>\n",
       "      <td>O</td>\n",
       "    </tr>\n",
       "    <tr>\n",
       "      <th>4</th>\n",
       "      <td>nov</td>\n",
       "      <td>O</td>\n",
       "    </tr>\n",
       "    <tr>\n",
       "      <th>...</th>\n",
       "      <td>...</td>\n",
       "      <td>...</td>\n",
       "    </tr>\n",
       "    <tr>\n",
       "      <th>95</th>\n",
       "      <td>;</td>\n",
       "      <td>O</td>\n",
       "    </tr>\n",
       "    <tr>\n",
       "      <th>96</th>\n",
       "      <td>cells</td>\n",
       "      <td>O</td>\n",
       "    </tr>\n",
       "    <tr>\n",
       "      <th>97</th>\n",
       "      <td>were</td>\n",
       "      <td>O</td>\n",
       "    </tr>\n",
       "    <tr>\n",
       "      <th>98</th>\n",
       "      <td>sometimes</td>\n",
       "      <td>O</td>\n",
       "    </tr>\n",
       "    <tr>\n",
       "      <th>99</th>\n",
       "      <td>up</td>\n",
       "      <td>O</td>\n",
       "    </tr>\n",
       "  </tbody>\n",
       "</table>\n",
       "<p>100 rows × 2 columns</p>\n",
       "</div>"
      ],
      "text/plain": [
       "                0  1\n",
       "0   Methanoregula  B\n",
       "1       formicica  I\n",
       "2              sp  O\n",
       "3               .  O\n",
       "4             nov  O\n",
       "..            ... ..\n",
       "95              ;  O\n",
       "96          cells  O\n",
       "97           were  O\n",
       "98      sometimes  O\n",
       "99             up  O\n",
       "\n",
       "[100 rows x 2 columns]"
      ]
     },
     "execution_count": 135,
     "metadata": {},
     "output_type": "execute_result"
    }
   ],
   "source": [
    "df.head(100)"
   ]
  },
  {
   "cell_type": "code",
   "execution_count": 134,
   "metadata": {},
   "outputs": [
    {
     "data": {
      "text/plain": [
       "1\n",
       "O    141402\n",
       "I      3310\n",
       "B      2557\n",
       "Name: count, dtype: int64"
      ]
     },
     "execution_count": 134,
     "metadata": {},
     "output_type": "execute_result"
    }
   ],
   "source": [
    "df[1].value_counts()"
   ]
  },
  {
   "cell_type": "code",
   "execution_count": 140,
   "metadata": {},
   "outputs": [],
   "source": [
    "docs_seq_l=[]\n",
    "doc_label_l=[]\n",
    "word_seq=[]\n",
    "label_seq=[]\n",
    "for i in range(len(df)):\n",
    "    if df[0][i]!=\"Abstract\":\n",
    "        word_seq.append(df[0][i])\n",
    "        label_seq.append(df[1][i])\n",
    "    else:\n",
    "        doc_label_l.append(label_seq)\n",
    "        docs_seq_l.append(word_seq)\n",
    "        word_seq=[]\n",
    "        label_seq=[]"
   ]
  },
  {
   "cell_type": "code",
   "execution_count": 141,
   "metadata": {},
   "outputs": [
    {
     "data": {
      "text/plain": [
       "1"
      ]
     },
     "execution_count": 141,
     "metadata": {},
     "output_type": "execute_result"
    }
   ],
   "source": [
    "len(docs_seq_l)"
   ]
  },
  {
   "cell_type": "code",
   "execution_count": 142,
   "metadata": {},
   "outputs": [
    {
     "ename": "IndexError",
     "evalue": "list index out of range",
     "output_type": "error",
     "traceback": [
      "\u001b[0;31m---------------------------------------------------------------------------\u001b[0m",
      "\u001b[0;31mIndexError\u001b[0m                                Traceback (most recent call last)",
      "\u001b[1;32m/home/aberhe/Projects/SANTAL/ASLR/notebooks/dataset_collection_NER.ipynb Cell 38\u001b[0m line \u001b[0;36m1\n\u001b[0;32m----> <a href='vscode-notebook-cell://ssh-remote%2Bhpc-cng4.ummisco.ioit/home/aberhe/Projects/SANTAL/ASLR/notebooks/dataset_collection_NER.ipynb#X40sdnNjb2RlLXJlbW90ZQ%3D%3D?line=0'>1</a>\u001b[0m \u001b[39mprint\u001b[39m([i \u001b[39mfor\u001b[39;00m i \u001b[39min\u001b[39;00m \u001b[39mrange\u001b[39m(\u001b[39mlen\u001b[39m(doc_label_l[\u001b[39m2\u001b[39;49m]))])\n\u001b[1;32m      <a href='vscode-notebook-cell://ssh-remote%2Bhpc-cng4.ummisco.ioit/home/aberhe/Projects/SANTAL/ASLR/notebooks/dataset_collection_NER.ipynb#X40sdnNjb2RlLXJlbW90ZQ%3D%3D?line=1'>2</a>\u001b[0m \u001b[39mprint\u001b[39m(docs_seq_l[\u001b[39m2\u001b[39m])\n\u001b[1;32m      <a href='vscode-notebook-cell://ssh-remote%2Bhpc-cng4.ummisco.ioit/home/aberhe/Projects/SANTAL/ASLR/notebooks/dataset_collection_NER.ipynb#X40sdnNjb2RlLXJlbW90ZQ%3D%3D?line=2'>3</a>\u001b[0m \u001b[39mprint\u001b[39m(doc_label_l[\u001b[39m2\u001b[39m])\n",
      "\u001b[0;31mIndexError\u001b[0m: list index out of range"
     ]
    }
   ],
   "source": [
    "print([i for i in range(len(doc_label_l[2]))])\n",
    "print(docs_seq_l[2])\n",
    "print(doc_label_l[2])"
   ]
  },
  {
   "cell_type": "code",
   "execution_count": 102,
   "metadata": {},
   "outputs": [
    {
     "data": {
      "text/plain": [
       "28"
      ]
     },
     "execution_count": 102,
     "metadata": {},
     "output_type": "execute_result"
    }
   ],
   "source": [
    "df[0].tolist().index('Abstract')"
   ]
  },
  {
   "cell_type": "code",
   "execution_count": 144,
   "metadata": {},
   "outputs": [
    {
     "name": "stdout",
     "output_type": "stream",
     "text": [
      "['Methanoregula', 'formicica', 'sp', '.', 'nov', '.', ',', 'a', 'methane', '-', 'producing', 'archaeon', 'isolated', 'from', 'methanogenic', 'sludge', '.', 'A', 'novel', 'methane', '-', 'producing', 'archaeon', ',', 'strain', 'SMSP', '(', 'T', ')', ',', 'was', 'isolated', 'from', 'an', 'anaerobic', ',', 'propionate', '-', 'degrading', 'enrichment', 'culture', 'that', 'was', 'originally', 'obtained', 'from', 'granular', 'sludge', 'in', 'a', 'mesophilic', 'upflow', 'anaerobic', 'sludge', 'blanket', '(', 'UASB', ')', 'reactor', 'used', 'to', 'treat', 'a', 'beer', 'brewery', 'effluent', '.', 'Cells', 'were', 'non', '-', 'motile', ',', 'blunt', '-', 'ended', ',', 'straight', 'rods', ',', '1', '.', '0', '-', '2', '.', '6', 'mum', 'long', 'by', '0', '.', '5', 'mum', 'wide', ';', 'cells', 'were', 'sometimes', 'up', 'to', '7', 'mum', 'long', '.', 'Asymmetrical', 'cell', 'division', 'was', 'observed', 'in', 'rod', '-', 'shaped', 'cells', '.', 'Coccoid', 'cells', '(', '0', '.', '5', '-', '1', '.', '0', 'mum', 'in', 'diameter', ')', 'were', 'also', 'observed', 'in', 'mid', '-', 'to', 'late', '-', 'exponential', 'phase', 'cultures', '.', 'Growth', 'was', 'observed', 'between', '10', 'and', '40', '^', '0C', '(', 'optimum', ',', '30', '-', '33', '^', '0C', ')', 'and', 'pH', '7', '.', '0', 'and', '7', '.', '6', '(', 'optimum', ',', 'pH', '7', '.', '4', ')', '.', 'The', 'G', '+', 'C', 'content', 'of', 'the', 'genomic', 'DNA', 'was', '56', '.', '2', 'mol', '%', '.', 'The', 'strain', 'utilized', 'formate', 'and', 'hydrogen', 'for', 'growth', 'and', 'methane', 'production', '.', 'Based', 'on', 'comparative', 'sequence', 'analyses', 'of', 'the', '16S', 'rRNA', 'and', 'mcrA', '(', 'encoding', 'the', 'alpha', 'subunit', 'of', 'methyl', '-', 'coenzyme', 'M', 'reductase', ',', 'a', 'key', 'enzyme', 'in', 'the', 'methane', '-', 'producing', 'pathway', ')', 'genes', ',', 'strain', 'SMSP', '(', 'T', ')', 'was', 'affiliated', 'with', 'group', 'E1', '/', 'E2', 'within', 'the', 'order', 'Methanomicrobiales', '.', 'The', 'closest', 'relative', 'based', 'on', 'both', '16S', 'rRNA', 'and', 'mcrA', 'gene', 'sequences', 'was', 'Methanoregula', 'boonei', '6A8', '(', 'T', ')', '(', '96', '.', '3', '%', '16S', 'rRNA', 'gene', 'sequence', 'similarity', ',', '85', '.', '4', '%', 'deduced', 'McrA', 'amino', 'acid', 'sequence', 'similarity', ')', '.', 'The', 'percentage', 'of', '16S', 'rRNA', 'gene', 'sequence', 'similarity', 'indicates', 'that', 'strain', 'SMSP', '(', 'T', ')', 'and', 'Methanoregula', 'boonei', '6A8', '(', 'T', ')', 'represent', 'different', 'species', 'within', 'the', 'same', 'genus', '.', 'This', 'is', 'supported', 'by', 'our', 'findings', 'of', 'shared', 'phenotypic', 'properties', ',', 'including', 'cell', 'morphology', 'and', 'growth', 'temperature', 'range', ',', 'and', 'phenotypic', 'differences', 'in', 'substrate', 'usage', 'and', 'pH', 'range', '.', 'Based', 'on', 'these', 'genetic', 'and', 'phenotypic', 'properties', ',', 'we', 'propose', 'that', 'strain', 'SMSP', '(', 'T', ')', 'represents', 'a', 'novel', 'species', 'of', 'the', 'genus', 'Methanoregula', ',', 'for', 'which', 'we', 'propose', 'the', 'name', 'Methanoregula', 'formicica', 'sp', '.', 'nov', '.', ',', 'with', 'the', 'type', 'strain', 'SMSP', '(', 'T', ')', '(', '=', 'NBRC', '105244', '(', 'T', ')', '=', 'DSM', '22288', '(', 'T', ')', ')', '.', 'Characterizing', 'the', 'role', 'of', 'the', 'microtubule', 'binding', 'protein', 'Bim1', 'in', 'Cryptococcus', 'neoformans', '.', 'During', 'sexual', 'development', 'the', 'human', 'fungal', 'pathogen', 'Cryptococcus', 'neoformans', 'undergoes', 'a', 'developmental', 'transition', 'from', 'yeast', '-', 'form', 'growth', 'to', 'filamentous', 'growth', '.', 'This', 'transition', 'requires', 'cellular', 'restructuring', 'to', 'form', 'a', 'filamentous', 'dikaryon', '.', 'Dikaryotic', 'growth', 'also', 'requires', 'tightly', 'controlled', 'nuclear', 'migration', 'to', 'ensure', 'faithful', 'replication', 'and', 'dissemination', 'of', 'genetic', 'material', 'to', 'spore', 'progeny', '.', 'Although', 'the', 'gross', 'morphological', 'changes', 'that', 'take', 'place', 'during', 'dikaryotic', 'growth', 'are']\n"
     ]
    }
   ],
   "source": [
    "print(df[0].tolist()[0:500])"
   ]
  },
  {
   "cell_type": "code",
   "execution_count": 21,
   "metadata": {},
   "outputs": [
    {
     "data": {
      "text/html": [
       "<div>\n",
       "<style scoped>\n",
       "    .dataframe tbody tr th:only-of-type {\n",
       "        vertical-align: middle;\n",
       "    }\n",
       "\n",
       "    .dataframe tbody tr th {\n",
       "        vertical-align: top;\n",
       "    }\n",
       "\n",
       "    .dataframe thead th {\n",
       "        text-align: right;\n",
       "    }\n",
       "</style>\n",
       "<table border=\"1\" class=\"dataframe\">\n",
       "  <thead>\n",
       "    <tr style=\"text-align: right;\">\n",
       "      <th></th>\n",
       "      <th></th>\n",
       "      <th></th>\n",
       "      <th>-DOCSTART- (227508)</th>\n",
       "    </tr>\n",
       "  </thead>\n",
       "  <tbody>\n",
       "    <tr>\n",
       "      <th>Naloxone</th>\n",
       "      <th>PROPN</th>\n",
       "      <th>O</th>\n",
       "      <td>I-Entity</td>\n",
       "    </tr>\n",
       "    <tr>\n",
       "      <th>reverses</th>\n",
       "      <th>VERB</th>\n",
       "      <th>O</th>\n",
       "      <td>O</td>\n",
       "    </tr>\n",
       "    <tr>\n",
       "      <th>the</th>\n",
       "      <th>DET</th>\n",
       "      <th>O</th>\n",
       "      <td>O</td>\n",
       "    </tr>\n",
       "    <tr>\n",
       "      <th>antihypertensive</th>\n",
       "      <th>ADJ</th>\n",
       "      <th>O</th>\n",
       "      <td>O</td>\n",
       "    </tr>\n",
       "    <tr>\n",
       "      <th>effect</th>\n",
       "      <th>NOUN</th>\n",
       "      <th>O</th>\n",
       "      <td>O</td>\n",
       "    </tr>\n",
       "  </tbody>\n",
       "</table>\n",
       "</div>"
      ],
      "text/plain": [
       "                         -DOCSTART- (227508)\n",
       "Naloxone         PROPN O            I-Entity\n",
       "reverses         VERB  O                   O\n",
       "the              DET   O                   O\n",
       "antihypertensive ADJ   O                   O\n",
       "effect           NOUN  O                   O"
      ]
     },
     "execution_count": 21,
     "metadata": {},
     "output_type": "execute_result"
    }
   ],
   "source": [
    "df.head()"
   ]
  },
  {
   "cell_type": "code",
   "execution_count": 22,
   "metadata": {},
   "outputs": [
    {
     "data": {
      "text/plain": [
       "(95079, 1)"
      ]
     },
     "execution_count": 22,
     "metadata": {},
     "output_type": "execute_result"
    }
   ],
   "source": [
    "df.shape"
   ]
  },
  {
   "cell_type": "code",
   "execution_count": null,
   "metadata": {},
   "outputs": [],
   "source": []
  }
 ],
 "metadata": {
  "kernelspec": {
   "display_name": "base",
   "language": "python",
   "name": "python3"
  },
  "language_info": {
   "codemirror_mode": {
    "name": "ipython",
    "version": 3
   },
   "file_extension": ".py",
   "mimetype": "text/x-python",
   "name": "python",
   "nbconvert_exporter": "python",
   "pygments_lexer": "ipython3",
   "version": "3.11.4"
  },
  "orig_nbformat": 4
 },
 "nbformat": 4,
 "nbformat_minor": 2
}
