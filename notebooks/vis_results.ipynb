{
 "cells": [
  {
   "cell_type": "code",
   "execution_count": 1,
   "id": "475ba981-1557-47df-baf6-773ccb4232dd",
   "metadata": {},
   "outputs": [],
   "source": [
    "import os\n",
    "import json\n",
    "import pandas as pd\n",
    "import numpy as np\n",
    "import matplotlib.pyplot as plt"
   ]
  },
  {
   "cell_type": "code",
   "execution_count": 10,
   "id": "94593a7c-468a-4b77-aba0-7d06766c179c",
   "metadata": {},
   "outputs": [],
   "source": [
    "import sys\n",
    "sys.path.append(r\"C:\\Users\\aberhe\\Desktop\\PostDoc\\Projects\\SANTAL\\Results\")"
   ]
  },
  {
   "cell_type": "code",
   "execution_count": 15,
   "id": "798bfdac-500b-4615-8997-d3a433d42dd3",
   "metadata": {},
   "outputs": [],
   "source": [
    "path=r\"C:\\Users\\aberhe\\Desktop\\PostDoc\\Projects\\SANTAL\\Results\""
   ]
  },
  {
   "cell_type": "code",
   "execution_count": 16,
   "id": "3a5f95a1-a0b6-472b-999c-d1021c8f5b36",
   "metadata": {},
   "outputs": [],
   "source": [
    "path_fabry=r\"C:/Users/aberhe/Desktop/PostDoc/Projects/SANTAL/Results/BioNER/Fabry/\""
   ]
  },
  {
   "cell_type": "code",
   "execution_count": 17,
   "id": "b21f6361-0fdf-485d-a02c-aa128adcf456",
   "metadata": {},
   "outputs": [],
   "source": [
    "doc=['abstract','fullArticle']"
   ]
  },
  {
   "cell_type": "code",
   "execution_count": 18,
   "id": "c41a2099-ed02-4aca-b5ad-736691a6d0bb",
   "metadata": {},
   "outputs": [],
   "source": [
    "path_csv=os.path.join(path,\"BioNER\\Veillonella\\Veillonella_PMC6563668\"+doc[0]+\".csv\")"
   ]
  },
  {
   "cell_type": "code",
   "execution_count": 6,
   "id": "746b64ec-a6e6-45c7-b686-fdd1eabe93d6",
   "metadata": {},
   "outputs": [],
   "source": [
    "term=[\"Fabry\",'cirrhosis']"
   ]
  },
  {
   "cell_type": "code",
   "execution_count": 19,
   "id": "af447db0-fdb6-4c15-aff5-82263af7a970",
   "metadata": {},
   "outputs": [],
   "source": [
    "load_ner_res=pd.read_csv(path_csv)"
   ]
  },
  {
   "cell_type": "code",
   "execution_count": 20,
   "id": "17ba1c77-11d3-45a9-b113-270d92dec29d",
   "metadata": {},
   "outputs": [
    {
     "data": {
      "text/plain": [
       "'human'"
      ]
     },
     "execution_count": 20,
     "metadata": {},
     "output_type": "execute_result"
    }
   ],
   "source": [
    "load_ner_res.sentence[0][load_ner_res.start_chunck[0]:load_ner_res.end_chunk[0]]"
   ]
  },
  {
   "cell_type": "code",
   "execution_count": 20,
   "id": "18aaf9c2-ba49-4120-944f-e9cfdf44cfe9",
   "metadata": {},
   "outputs": [],
   "source": [
    "path_signature=r\"C:\\Users\\aberhe\\Desktop\\PostDoc\\Projects\\SANTAL\\Datasets\\Articles\\Predomics\\Included Articles\\Veillonella\""
   ]
  },
  {
   "cell_type": "code",
   "execution_count": 21,
   "id": "bb09048a-1a41-49f6-a762-52f2d9ec2a9e",
   "metadata": {},
   "outputs": [],
   "source": [
    "veillonela_articles=os.listdir(path_signature)"
   ]
  },
  {
   "cell_type": "code",
   "execution_count": 22,
   "id": "fa8873b2-f35c-40cf-adf0-18547010b03c",
   "metadata": {},
   "outputs": [
    {
     "data": {
      "text/plain": [
       "104"
      ]
     },
     "execution_count": 22,
     "metadata": {},
     "output_type": "execute_result"
    }
   ],
   "source": [
    "len(veillonela_articles)"
   ]
  },
  {
   "cell_type": "code",
   "execution_count": 28,
   "id": "cc9f9fc8-f090-4661-a4e5-42e159fede62",
   "metadata": {},
   "outputs": [],
   "source": [
    "from articleDetails import ArticleDetails"
   ]
  },
  {
   "cell_type": "code",
   "execution_count": 27,
   "id": "c13f1586-9126-49ad-8717-131aa01a0440",
   "metadata": {},
   "outputs": [],
   "source": [
    "def loadArticle(filePath):\n",
    "    f=open(filePath)\n",
    "    jsonData=json.load(f)\n",
    "    \n",
    "    return jsonData"
   ]
  },
  {
   "cell_type": "code",
   "execution_count": null,
   "id": "9e0a638a-51ea-4d43-92b4-82cdd038a0e9",
   "metadata": {},
   "outputs": [],
   "source": [
    "path_fabry_art=\"\""
   ]
  },
  {
   "cell_type": "code",
   "execution_count": 51,
   "id": "26b2fbca-e8a9-4d98-846d-4287293cff7f",
   "metadata": {},
   "outputs": [],
   "source": [
    "veillonela_art=[]\n",
    "for file in veillonela_articles:\n",
    "    jsonData=loadArticle(os.path.join(path_signature,file))\n",
    "\n",
    "    artDet=ArticleDetails(jsonData)\n",
    "\n",
    "    artDet.getDetails()\n",
    "    \n",
    "    if term[0] in artDet.fullArticle.lower() and term[1] in artDet.fullArticle.lower():\n",
    "        #print(file):\n",
    "        #print(file)\n",
    "        veillonela_art.append(file)"
   ]
  },
  {
   "cell_type": "code",
   "execution_count": 52,
   "id": "f0f7020d-cf09-4d96-8aa3-4cca3089aa94",
   "metadata": {},
   "outputs": [
    {
     "data": {
      "text/plain": [
       "['PMC7284173.json',\n",
       " 'PMC8268159.json',\n",
       " 'PMC9048649.json',\n",
       " 'PMC9082752.json',\n",
       " 'PMC9121469.json',\n",
       " 'PMC9122699.json',\n",
       " 'PMC9142314.json',\n",
       " 'PMC9146349.json',\n",
       " 'PMC9175091.json',\n",
       " 'PMC9219895.json',\n",
       " 'PMC9220082.json']"
      ]
     },
     "execution_count": 52,
     "metadata": {},
     "output_type": "execute_result"
    }
   ],
   "source": [
    "veillonela_art"
   ]
  },
  {
   "cell_type": "code",
   "execution_count": 15,
   "id": "5e532ac8-4584-410e-a3b2-8a7848c7ab8a",
   "metadata": {},
   "outputs": [
    {
     "data": {
      "text/plain": [
       "'C:\\\\Users\\\\aberhe\\\\Desktop\\\\PostDoc\\\\Projects\\\\SANTAL\\\\Datasets\\\\Articles\\\\Predomics\\\\Included Articles\\\\Veillonella\\\\PMC7459721.json'"
      ]
     },
     "execution_count": 15,
     "metadata": {},
     "output_type": "execute_result"
    }
   ],
   "source": [
    "os.path.join(path_signature,\"PMC7459721.json\")"
   ]
  },
  {
   "cell_type": "code",
   "execution_count": 5,
   "id": "1c6eda6a-e224-49a5-888f-4ef6eafba34b",
   "metadata": {},
   "outputs": [],
   "source": [
    "pred_Path=r'C:\\\\Users\\\\aberhe\\\\Desktop\\\\PostDoc\\\\Projects\\\\SANTAL\\\\codes\\\\Article_Extraction\\\\veillonella\\\\PMC7062144.json'"
   ]
  },
  {
   "cell_type": "code",
   "execution_count": 61,
   "id": "82ac23a4-8506-4004-975d-d3c7f4a086c7",
   "metadata": {},
   "outputs": [],
   "source": [
    "jsonData=loadArticle(pred_Path)\n",
    "artDet=ArticleDetails(jsonData)\n",
    "artDet.getDetails()"
   ]
  },
  {
   "cell_type": "code",
   "execution_count": 66,
   "id": "16e0be5f-363c-4282-a8c8-c1bf6bf7800f",
   "metadata": {},
   "outputs": [
    {
     "data": {
      "text/plain": [
       "False"
      ]
     },
     "execution_count": 66,
     "metadata": {},
     "output_type": "execute_result"
    }
   ],
   "source": [
    "'veillonella' in artDet.fullArticle.strip()"
   ]
  },
  {
   "cell_type": "code",
   "execution_count": null,
   "id": "714103d4-ff0c-4193-a2cf-f30840dd3d25",
   "metadata": {},
   "outputs": [],
   "source": [
    "artDet.fullArticle"
   ]
  },
  {
   "cell_type": "code",
   "execution_count": 53,
   "id": "bf9ea0da-ac6f-4af6-a9e1-700ecf9987f5",
   "metadata": {},
   "outputs": [],
   "source": [
    "titles=[]\n",
    "for art in veillonela_art:\n",
    "    #print(art)\n",
    "    jsonData=loadArticle(os.path.join(path_signature,art))\n",
    "    artDet=ArticleDetails(jsonData)\n",
    "    artDet.getDetails()\n",
    "    titles.append(artDet.title.strip().lower())\n",
    "    if artDet.title.strip().lower()==\"Alterations of the human gut microbiome in liver cirrhosis\".lower():\n",
    "        print(art,\"FOUND\")\n",
    "    else:\n",
    "        continue\n",
    "        #print(f\"{artDet.title.strip()} \\n not it\")"
   ]
  },
  {
   "cell_type": "code",
   "execution_count": 54,
   "id": "fde15613-31bc-46a4-9c97-3e309ec37069",
   "metadata": {},
   "outputs": [
    {
     "name": "stdout",
     "output_type": "stream",
     "text": [
      "['gut microbiome in primary sclerosing cholangitis: a review', 'the role of microbiota in primary sclerosing cholangitis and related biliary malignancies', 'inflammatory bowel disease biomarkers of human gut microbiota selected via different feature selection methods', 'the influence of nutrition on intestinal permeability and the microbiome in health and disease', 'changes in the gut microbiome associated with liver stiffness improvement in nonalcoholic steatohepatitis', 'characteristics and clinical significance of intestinal microbiota in patients with chronic hepatitis b cirrhosis and type 2 diabetes mellitus', 'gut microbiota: target for modulation of gut-liver-adipose tissue axis in ethanol-induced liver disease', 'trust your gut: the association of gut microbiota and liver disease', 'a nine-strain bacterial consortium improves portal hypertension and insulin signaling and delays nafld progression in vivo', 'the beneficial effects of natural extracts and bioactive compounds on the gut-liver axis: a promising intervention for alcoholic liver disease', 'primary biliary cholangitis and primary sclerosing cholangitis: current knowledge of pathogenesis and therapeutics']\n"
     ]
    }
   ],
   "source": [
    "print(titles)"
   ]
  },
  {
   "cell_type": "code",
   "execution_count": 25,
   "id": "49bcf885-706a-4577-9ed1-4a53b1646e08",
   "metadata": {},
   "outputs": [],
   "source": [
    "jsonData=loadArticle(os.path.join(path_signature,\"PMC7459721.json\"))\n",
    "artDet=ArticleDetails(jsonData)\n",
    "artDet.getDetails()"
   ]
  },
  {
   "cell_type": "code",
   "execution_count": 26,
   "id": "5b5f3096-e9ef-49b2-8731-8adbe23298e3",
   "metadata": {},
   "outputs": [
    {
     "data": {
      "text/plain": [
       "' The modification of the microbiome through fecal microbiota transplantation (FMT) is becoming a very promising therapeutic option for inflammatory bowel disease (IBD) patients. Our pilot study aimed to assess the effectiveness of multi-session FMT treatment in active ulcerative colitis (UC) patients. Ten patients with UC were treated with multi-session FMT (200 mL) from healthy donors, via colonoscopy/gastroscopy. Patients were evaluated as follows: at baseline, at week 7, and after 6 months, routine blood tests (including C reactive protein (CRP) and calprotectin) were performed. 16S rRNA gene (V3V4) sequencing was used for metagenomic analysis. The severity of UC was classified based on the Truelove–Witts index. The assessment of microbial diversity showed significant differences between recipients and healthy donors. FMT contributed to long-term, significant clinical and biochemical improvement. Metagenomic analysis revealed an increase in the amount of Lactobacillaceaea, Micrococcaceae, Prevotellaceae, and TM7 phylumsp.oral clone EW055 during FMT, whereas Staphylococcaceae and Bacillaceae declined significantly. A positive increase in the proportion of the genera Bifidobacterium, Lactobacillus, Rothia, Streptococcus, and Veillonella and a decrease in Bacillus, Bacteroides, and Staphylococcus were observed based on the correlation between calprotectin and Bacillus and Staphylococcus; ferritin and Lactobacillus, Veillonella, and Bifidobacterium abundance was indicated. A positive change in the abundance of Firmicutes was observed during FMT and after 6 months. The application of multi-session FMT led to the restoration of recipients’ microbiota and resulted in the remission of patients with active UC.'"
      ]
     },
     "execution_count": 26,
     "metadata": {},
     "output_type": "execute_result"
    }
   ],
   "source": [
    "artDet.abstract"
   ]
  },
  {
   "cell_type": "code",
   "execution_count": 6,
   "id": "3630e7c8-b8ba-4f92-87b0-ff45103a508c",
   "metadata": {},
   "outputs": [
    {
     "ename": "NameError",
     "evalue": "name 'path' is not defined",
     "output_type": "error",
     "traceback": [
      "\u001b[1;31m---------------------------------------------------------------------------\u001b[0m",
      "\u001b[1;31mNameError\u001b[0m                                 Traceback (most recent call last)",
      "Input \u001b[1;32mIn [6]\u001b[0m, in \u001b[0;36m<cell line: 1>\u001b[1;34m()\u001b[0m\n\u001b[1;32m----> 1\u001b[0m path_csv\u001b[38;5;241m=\u001b[39mos\u001b[38;5;241m.\u001b[39mpath\u001b[38;5;241m.\u001b[39mjoin(\u001b[43mpath\u001b[49m,\u001b[38;5;124m\"\u001b[39m\u001b[38;5;124mBioNER\u001b[39m\u001b[38;5;124m\\\u001b[39m\u001b[38;5;124mVeillonella\u001b[39m\u001b[38;5;124m\\\u001b[39m\u001b[38;5;124mVeillonella_PMC6906406\u001b[39m\u001b[38;5;124m\"\u001b[39m\u001b[38;5;241m+\u001b[39mdoc[\u001b[38;5;241m1\u001b[39m]\u001b[38;5;241m+\u001b[39m\u001b[38;5;124m\"\u001b[39m\u001b[38;5;124m.csv\u001b[39m\u001b[38;5;124m\"\u001b[39m)\n",
      "\u001b[1;31mNameError\u001b[0m: name 'path' is not defined"
     ]
    }
   ],
   "source": [
    "path_csv=os.path.join(path,\"BioNER\\Veillonella\\Veillonella_PMC6906406\"+doc[1]+\".csv\")"
   ]
  },
  {
   "cell_type": "code",
   "execution_count": null,
   "id": "5dff9149-bb1b-48ff-92c9-1f3be904971b",
   "metadata": {},
   "outputs": [],
   "source": [
    "load_ner_res=pd.read_csv(path_csv)"
   ]
  },
  {
   "cell_type": "code",
   "execution_count": 75,
   "id": "df6c10a5-1bbb-45d6-9fe9-e092b831e49d",
   "metadata": {},
   "outputs": [],
   "source": [
    "load_ner_res['entity'] = load_ner_res['entity'].replace(['inflammatory bowel diseases','Crohn ’s disease'], ['IBD','CD'])"
   ]
  },
  {
   "cell_type": "code",
   "execution_count": null,
   "id": "562979f6-8c55-4602-bfa3-89b9fb67d3ae",
   "metadata": {},
   "outputs": [],
   "source": []
  },
  {
   "cell_type": "code",
   "execution_count": 77,
   "id": "6677e4dd-28a6-42d7-9513-db3836b9b760",
   "metadata": {},
   "outputs": [],
   "source": [
    "disease=[load_ner_res.entity[i]  for i in range(len(load_ner_res)) if load_ner_res.label[i]=='Disease']"
   ]
  },
  {
   "cell_type": "code",
   "execution_count": 11,
   "id": "f22797c3-6dcb-4d1a-942f-0f0852bf0e21",
   "metadata": {},
   "outputs": [],
   "source": [
    "##Load csv having extracted entities from each sentence"
   ]
  },
  {
   "cell_type": "code",
   "execution_count": 12,
   "id": "f96e1026-12f2-426b-a337-ddf7dc145641",
   "metadata": {},
   "outputs": [],
   "source": [
    "fabry_files=os.listdir(path_fabry)"
   ]
  },
  {
   "cell_type": "code",
   "execution_count": null,
   "id": "02d058bb-2a3c-44ee-9988-6c06281ee78a",
   "metadata": {},
   "outputs": [],
   "source": [
    "newPath=os.mkdir(os.path.join(path_fabry),\"To\")"
   ]
  },
  {
   "cell_type": "code",
   "execution_count": 7,
   "id": "9d94c9f8-449b-43ed-935a-132e1db36472",
   "metadata": {},
   "outputs": [],
   "source": [
    "path_fabry_Art=path_signature=r\"C:\\Users\\aberhe\\Desktop\\PostDoc\\Projects\\SANTAL\\Datasets\\Articles\\Predomics\\Downloads\\Disease\\Fabry\""
   ]
  },
  {
   "cell_type": "code",
   "execution_count": 32,
   "id": "f6bee50c-e899-4875-bd56-0eec7e191414",
   "metadata": {},
   "outputs": [
    {
     "data": {
      "text/plain": [
       "'Abstract_PMID10077184.json'"
      ]
     },
     "execution_count": 32,
     "metadata": {},
     "output_type": "execute_result"
    }
   ],
   "source": [
    "os.listdir(path_fabry_Art)[10]"
   ]
  },
  {
   "cell_type": "code",
   "execution_count": 26,
   "id": "c0201e20-db0a-455c-b52a-a3f82117f0ed",
   "metadata": {},
   "outputs": [
    {
     "data": {
      "text/plain": [
       "Index(['Unnamed: 0', 'sentence', 'entity', 'start_chunck', 'end_chunk',\n",
       "       'label', 'score'],\n",
       "      dtype='object')"
      ]
     },
     "execution_count": 26,
     "metadata": {},
     "output_type": "execute_result"
    }
   ],
   "source": [
    "fabry_example.columns"
   ]
  },
  {
   "cell_type": "code",
   "execution_count": 34,
   "id": "0fe77f9e-41f1-4935-8899-ccad5122857c",
   "metadata": {},
   "outputs": [],
   "source": [
    "fabry_Data=loadArticle(os.path.join(path_fabry_Art,fabry_files[10].replace(\"abstract.csv\",\".json\")))\n",
    "artDet=ArticleDetails(fabry_Data)\n",
    "artDet.getDetails()"
   ]
  },
  {
   "cell_type": "code",
   "execution_count": 47,
   "id": "d1096dc9-c4dc-435c-b355-7a8bb220f152",
   "metadata": {},
   "outputs": [
    {
     "data": {
      "text/plain": [
       "'C:/Users/aberhe/Desktop/PostDoc/Projects/SANTAL/Results/BioNER/Fabry/'"
      ]
     },
     "execution_count": 47,
     "metadata": {},
     "output_type": "execute_result"
    }
   ],
   "source": [
    "path_fabry"
   ]
  },
  {
   "cell_type": "code",
   "execution_count": 50,
   "id": "f9169006-2c15-4a20-a8f1-902c5e0f3ea6",
   "metadata": {},
   "outputs": [],
   "source": [
    "abs_id=0\n",
    "df_fabry_Annotation_challeng=pd.DataFrame(columns=['abstract', 'start_chuncks', 'end_chunks',\n",
    "       'entities','label','rank'])\n",
    "for file in fabry_files:\n",
    "    fabry_example=pd.read_csv(os.path.join(path_fabry,file))\n",
    "    if \"fullArticle\" not in file and len(fabry_example)!=0:\n",
    "        rank=(sum(fabry_example.score.tolist())/len(fabry_example))+0.5*len(fabry_example)\n",
    "        fabry_Data=loadArticle(os.path.join(path_fabry_Art,file.replace(\"abstract.csv\",\".json\")))\n",
    "        artDet=ArticleDetails(fabry_Data)\n",
    "        artDet.getDetails() \n",
    "        \n",
    "        chuncks_start=fabry_example.start_chunck.tolist()\n",
    "        chuncks_end=fabry_example.end_chunk.tolist()\n",
    "        labels=fabry_example.label.tolist()\n",
    "        entities=fabry_example.entity.tolist()\n",
    "        df_fabry_Annotation_challeng.loc[len(df_fabry_Annotation_challeng)]=[artDet.abstract,chuncks_start,chuncks_end,entities,labels,rank]"
   ]
  },
  {
   "cell_type": "code",
   "execution_count": 51,
   "id": "189f0c22-868b-4cb0-9255-2369777e07fa",
   "metadata": {},
   "outputs": [
    {
     "data": {
      "text/plain": [
       "(131, 6)"
      ]
     },
     "execution_count": 51,
     "metadata": {},
     "output_type": "execute_result"
    }
   ],
   "source": [
    "df_fabry_Annotation_challeng.shape"
   ]
  },
  {
   "cell_type": "code",
   "execution_count": null,
   "id": "1e634c0a-0c66-4d1a-a322-6b68a9355817",
   "metadata": {},
   "outputs": [],
   "source": []
  },
  {
   "cell_type": "code",
   "execution_count": 8,
   "id": "ffb1130e-c67f-4099-a8ee-ede4d507a509",
   "metadata": {},
   "outputs": [
    {
     "ename": "NameError",
     "evalue": "name 'path_fabry' is not defined",
     "output_type": "error",
     "traceback": [
      "\u001b[1;31m---------------------------------------------------------------------------\u001b[0m",
      "\u001b[1;31mNameError\u001b[0m                                 Traceback (most recent call last)",
      "Input \u001b[1;32mIn [8]\u001b[0m, in \u001b[0;36m<cell line: 1>\u001b[1;34m()\u001b[0m\n\u001b[1;32m----> 1\u001b[0m df_fabry_Annotation_challeng\u001b[38;5;241m=\u001b[39mpd\u001b[38;5;241m.\u001b[39mread_csv(os\u001b[38;5;241m.\u001b[39mpath\u001b[38;5;241m.\u001b[39mjoin(\u001b[43mpath_fabry\u001b[49m,\u001b[38;5;124m\"\u001b[39m\u001b[38;5;124mFabry_Disease_Abstarcts_Annotation_Challenge.csv\u001b[39m\u001b[38;5;124m\"\u001b[39m))\n",
      "\u001b[1;31mNameError\u001b[0m: name 'path_fabry' is not defined"
     ]
    }
   ],
   "source": [
    "df_fabry_Annotation_challeng=pd.read_csv(os.path.join(path_fabry,\"Fabry_Disease_Abstarcts_Annotation_Challenge.csv\"))"
   ]
  },
  {
   "cell_type": "code",
   "execution_count": 11,
   "id": "c053eb36-d3a5-41fb-b531-156701420470",
   "metadata": {},
   "outputs": [
    {
     "data": {
      "text/html": [
       "<div>\n",
       "<style scoped>\n",
       "    .dataframe tbody tr th:only-of-type {\n",
       "        vertical-align: middle;\n",
       "    }\n",
       "\n",
       "    .dataframe tbody tr th {\n",
       "        vertical-align: top;\n",
       "    }\n",
       "\n",
       "    .dataframe thead th {\n",
       "        text-align: right;\n",
       "    }\n",
       "</style>\n",
       "<table border=\"1\" class=\"dataframe\">\n",
       "  <thead>\n",
       "    <tr style=\"text-align: right;\">\n",
       "      <th></th>\n",
       "      <th>Unnamed: 0</th>\n",
       "      <th>abstract</th>\n",
       "      <th>start_chuncks</th>\n",
       "      <th>end_chunks</th>\n",
       "      <th>entities</th>\n",
       "      <th>label</th>\n",
       "      <th>rank</th>\n",
       "    </tr>\n",
       "  </thead>\n",
       "  <tbody>\n",
       "    <tr>\n",
       "      <th>0</th>\n",
       "      <td>0</td>\n",
       "      <td>Coronary flow reserve was assessed in a patie...</td>\n",
       "      <td>[54, 102, 41, 63, 20, 126]</td>\n",
       "      <td>[76, 130, 48, 76, 42, 148]</td>\n",
       "      <td>['Anderson - Fabry disease', 'left ventricular...</td>\n",
       "      <td>['Disease', 'Disease', 'Species', 'Disease', '...</td>\n",
       "      <td>3.810500</td>\n",
       "    </tr>\n",
       "    <tr>\n",
       "      <th>1</th>\n",
       "      <td>1</td>\n",
       "      <td>Fabry disease is a lysosomal X-linked enzyme ...</td>\n",
       "      <td>[1, 30, 138, 153, 185, 60, 157, 187, 238, 22, ...</td>\n",
       "      <td>[14, 77, 151, 168, 191, 77, 170, 195, 251, 30,...</td>\n",
       "      <td>['Fabry disease', 'X - linked enzyme deficienc...</td>\n",
       "      <td>['Disease', 'Disease', 'Disease', 'Disease', '...</td>\n",
       "      <td>9.382941</td>\n",
       "    </tr>\n",
       "    <tr>\n",
       "      <th>2</th>\n",
       "      <td>2</td>\n",
       "      <td>Fabry disease (FD, OMIM 301500) is an X-linke...</td>\n",
       "      <td>[64, 1, 16, 39, 126, 55, 134, 99, 44, 66, 14, ...</td>\n",
       "      <td>[81, 14, 18, 92, 147, 73, 136, 107, 46, 83, 22...</td>\n",
       "      <td>['glycosphingolipid', 'Fabry disease', 'FD', '...</td>\n",
       "      <td>['Chemical', 'Disease', 'Disease', 'Disease', ...</td>\n",
       "      <td>14.292000</td>\n",
       "    </tr>\n",
       "    <tr>\n",
       "      <th>3</th>\n",
       "      <td>3</td>\n",
       "      <td>Two different enzyme preparations, agalsidase...</td>\n",
       "      <td>[137, 36, 61, 12, 79, 26, 187, 84, 149, 72, 52...</td>\n",
       "      <td>[150, 51, 71, 25, 94, 34, 208, 118, 153, 93, 5...</td>\n",
       "      <td>['Fabry disease', 'agalsidase alfa', 'agalsida...</td>\n",
       "      <td>['Disease', 'Gene', 'Gene', 'Disease', 'Gene',...</td>\n",
       "      <td>8.793812</td>\n",
       "    </tr>\n",
       "    <tr>\n",
       "      <th>4</th>\n",
       "      <td>4</td>\n",
       "      <td>Ehlers-Danlos syndrome type IV, the vascular ...</td>\n",
       "      <td>[1, 54, 79, 91, 171, 275, 292, 420, 33, 75, 99...</td>\n",
       "      <td>[31, 77, 82, 127, 180, 285, 300, 423, 36, 86, ...</td>\n",
       "      <td>['Ehlers - Danlos syndrome type IV', 'Ehlers -...</td>\n",
       "      <td>['Disease', 'Disease', 'Disease', 'Disease', '...</td>\n",
       "      <td>13.864808</td>\n",
       "    </tr>\n",
       "  </tbody>\n",
       "</table>\n",
       "</div>"
      ],
      "text/plain": [
       "   Unnamed: 0                                           abstract  \\\n",
       "0           0   Coronary flow reserve was assessed in a patie...   \n",
       "1           1   Fabry disease is a lysosomal X-linked enzyme ...   \n",
       "2           2   Fabry disease (FD, OMIM 301500) is an X-linke...   \n",
       "3           3   Two different enzyme preparations, agalsidase...   \n",
       "4           4   Ehlers-Danlos syndrome type IV, the vascular ...   \n",
       "\n",
       "                                       start_chuncks  \\\n",
       "0                         [54, 102, 41, 63, 20, 126]   \n",
       "1  [1, 30, 138, 153, 185, 60, 157, 187, 238, 22, ...   \n",
       "2  [64, 1, 16, 39, 126, 55, 134, 99, 44, 66, 14, ...   \n",
       "3  [137, 36, 61, 12, 79, 26, 187, 84, 149, 72, 52...   \n",
       "4  [1, 54, 79, 91, 171, 275, 292, 420, 33, 75, 99...   \n",
       "\n",
       "                                          end_chunks  \\\n",
       "0                         [76, 130, 48, 76, 42, 148]   \n",
       "1  [14, 77, 151, 168, 191, 77, 170, 195, 251, 30,...   \n",
       "2  [81, 14, 18, 92, 147, 73, 136, 107, 46, 83, 22...   \n",
       "3  [150, 51, 71, 25, 94, 34, 208, 118, 153, 93, 5...   \n",
       "4  [31, 77, 82, 127, 180, 285, 300, 423, 36, 86, ...   \n",
       "\n",
       "                                            entities  \\\n",
       "0  ['Anderson - Fabry disease', 'left ventricular...   \n",
       "1  ['Fabry disease', 'X - linked enzyme deficienc...   \n",
       "2  ['glycosphingolipid', 'Fabry disease', 'FD', '...   \n",
       "3  ['Fabry disease', 'agalsidase alfa', 'agalsida...   \n",
       "4  ['Ehlers - Danlos syndrome type IV', 'Ehlers -...   \n",
       "\n",
       "                                               label       rank  \n",
       "0  ['Disease', 'Disease', 'Species', 'Disease', '...   3.810500  \n",
       "1  ['Disease', 'Disease', 'Disease', 'Disease', '...   9.382941  \n",
       "2  ['Chemical', 'Disease', 'Disease', 'Disease', ...  14.292000  \n",
       "3  ['Disease', 'Gene', 'Gene', 'Disease', 'Gene',...   8.793812  \n",
       "4  ['Disease', 'Disease', 'Disease', 'Disease', '...  13.864808  "
      ]
     },
     "execution_count": 11,
     "metadata": {},
     "output_type": "execute_result"
    }
   ],
   "source": [
    "df_fabry_Annotation_challeng.head()"
   ]
  },
  {
   "cell_type": "code",
   "execution_count": 36,
   "id": "412ce72d-1b4c-44e8-aecc-a93d2cd00a94",
   "metadata": {},
   "outputs": [],
   "source": [
    "fabry_example=pd.read_csv(os.path.join(path_fabry,fabry_files[10]))"
   ]
  },
  {
   "cell_type": "code",
   "execution_count": 37,
   "id": "3fc9f449-8b28-41b0-8a87-145908690cf0",
   "metadata": {},
   "outputs": [
    {
     "data": {
      "text/html": [
       "<div>\n",
       "<style scoped>\n",
       "    .dataframe tbody tr th:only-of-type {\n",
       "        vertical-align: middle;\n",
       "    }\n",
       "\n",
       "    .dataframe tbody tr th {\n",
       "        vertical-align: top;\n",
       "    }\n",
       "\n",
       "    .dataframe thead th {\n",
       "        text-align: right;\n",
       "    }\n",
       "</style>\n",
       "<table border=\"1\" class=\"dataframe\">\n",
       "  <thead>\n",
       "    <tr style=\"text-align: right;\">\n",
       "      <th></th>\n",
       "      <th>Unnamed: 0</th>\n",
       "      <th>sentence</th>\n",
       "      <th>entity</th>\n",
       "      <th>start_chunck</th>\n",
       "      <th>end_chunk</th>\n",
       "      <th>label</th>\n",
       "      <th>score</th>\n",
       "    </tr>\n",
       "  </thead>\n",
       "  <tbody>\n",
       "    <tr>\n",
       "      <th>0</th>\n",
       "      <td>0</td>\n",
       "      <td>Ehlers-Danlos syndrome type IV, the vascular ...</td>\n",
       "      <td>Ehlers - Danlos syndrome type IV</td>\n",
       "      <td>1</td>\n",
       "      <td>31</td>\n",
       "      <td>Disease</td>\n",
       "      <td>0.851</td>\n",
       "    </tr>\n",
       "    <tr>\n",
       "      <th>1</th>\n",
       "      <td>1</td>\n",
       "      <td>Ehlers-Danlos syndrome type IV, the vascular ...</td>\n",
       "      <td>Ehlers - Danlos syndromes</td>\n",
       "      <td>54</td>\n",
       "      <td>77</td>\n",
       "      <td>Disease</td>\n",
       "      <td>0.976</td>\n",
       "    </tr>\n",
       "    <tr>\n",
       "      <th>2</th>\n",
       "      <td>2</td>\n",
       "      <td>Ehlers-Danlos syndrome type IV, the vascular ...</td>\n",
       "      <td>EDS</td>\n",
       "      <td>79</td>\n",
       "      <td>82</td>\n",
       "      <td>Disease</td>\n",
       "      <td>0.999</td>\n",
       "    </tr>\n",
       "    <tr>\n",
       "      <th>3</th>\n",
       "      <td>3</td>\n",
       "      <td>Ehlers-Danlos syndrome type IV, the vascular ...</td>\n",
       "      <td>inherited connective tissue disorder</td>\n",
       "      <td>91</td>\n",
       "      <td>127</td>\n",
       "      <td>Disease</td>\n",
       "      <td>0.865</td>\n",
       "    </tr>\n",
       "    <tr>\n",
       "      <th>4</th>\n",
       "      <td>4</td>\n",
       "      <td>Ehlers-Danlos syndrome type IV, the vascular ...</td>\n",
       "      <td>acrogeria</td>\n",
       "      <td>171</td>\n",
       "      <td>180</td>\n",
       "      <td>Disease</td>\n",
       "      <td>0.996</td>\n",
       "    </tr>\n",
       "    <tr>\n",
       "      <th>5</th>\n",
       "      <td>5</td>\n",
       "      <td>Ehlers-Danlos syndrome type IV, the vascular ...</td>\n",
       "      <td>lower back</td>\n",
       "      <td>275</td>\n",
       "      <td>285</td>\n",
       "      <td>Disease</td>\n",
       "      <td>0.853</td>\n",
       "    </tr>\n",
       "    <tr>\n",
       "      <th>6</th>\n",
       "      <td>6</td>\n",
       "      <td>Ehlers-Danlos syndrome type IV, the vascular ...</td>\n",
       "      <td>bruising</td>\n",
       "      <td>292</td>\n",
       "      <td>300</td>\n",
       "      <td>Disease</td>\n",
       "      <td>0.705</td>\n",
       "    </tr>\n",
       "    <tr>\n",
       "      <th>7</th>\n",
       "      <td>7</td>\n",
       "      <td>Ehlers-Danlos syndrome type IV, the vascular ...</td>\n",
       "      <td>EDS</td>\n",
       "      <td>420</td>\n",
       "      <td>423</td>\n",
       "      <td>Disease</td>\n",
       "      <td>0.998</td>\n",
       "    </tr>\n",
       "    <tr>\n",
       "      <th>8</th>\n",
       "      <td>8</td>\n",
       "      <td>The estimated prevalence for all EDS varies be...</td>\n",
       "      <td>EDS</td>\n",
       "      <td>33</td>\n",
       "      <td>36</td>\n",
       "      <td>Disease</td>\n",
       "      <td>0.997</td>\n",
       "    </tr>\n",
       "    <tr>\n",
       "      <th>9</th>\n",
       "      <td>9</td>\n",
       "      <td>The estimated prevalence for all EDS varies be...</td>\n",
       "      <td>EDS type IV</td>\n",
       "      <td>75</td>\n",
       "      <td>86</td>\n",
       "      <td>Disease</td>\n",
       "      <td>0.769</td>\n",
       "    </tr>\n",
       "    <tr>\n",
       "      <th>10</th>\n",
       "      <td>10</td>\n",
       "      <td>Dissections of the vertebral arteries and the ...</td>\n",
       "      <td>carotid - cavernous fistulae</td>\n",
       "      <td>99</td>\n",
       "      <td>125</td>\n",
       "      <td>Disease</td>\n",
       "      <td>0.879</td>\n",
       "    </tr>\n",
       "    <tr>\n",
       "      <th>11</th>\n",
       "      <td>11</td>\n",
       "      <td>There is a high risk of recurrent colonic perf...</td>\n",
       "      <td>colonic perforations</td>\n",
       "      <td>34</td>\n",
       "      <td>54</td>\n",
       "      <td>Disease</td>\n",
       "      <td>0.752</td>\n",
       "    </tr>\n",
       "    <tr>\n",
       "      <th>12</th>\n",
       "      <td>12</td>\n",
       "      <td>Pregnancy increases the likelihood of a uterin...</td>\n",
       "      <td>uterine or vascular rupture</td>\n",
       "      <td>40</td>\n",
       "      <td>67</td>\n",
       "      <td>Disease</td>\n",
       "      <td>0.686</td>\n",
       "    </tr>\n",
       "    <tr>\n",
       "      <th>13</th>\n",
       "      <td>13</td>\n",
       "      <td>EDS type IV is inherited as an autosomal domin...</td>\n",
       "      <td>EDS type IV</td>\n",
       "      <td>0</td>\n",
       "      <td>11</td>\n",
       "      <td>Disease</td>\n",
       "      <td>0.783</td>\n",
       "    </tr>\n",
       "    <tr>\n",
       "      <th>14</th>\n",
       "      <td>14</td>\n",
       "      <td>EDS type IV is inherited as an autosomal domin...</td>\n",
       "      <td>COL3A1</td>\n",
       "      <td>91</td>\n",
       "      <td>97</td>\n",
       "      <td>Gene</td>\n",
       "      <td>0.936</td>\n",
       "    </tr>\n",
       "    <tr>\n",
       "      <th>15</th>\n",
       "      <td>15</td>\n",
       "      <td>EDS type IV is inherited as an autosomal domin...</td>\n",
       "      <td>type III procollagen</td>\n",
       "      <td>114</td>\n",
       "      <td>134</td>\n",
       "      <td>Gene</td>\n",
       "      <td>0.685</td>\n",
       "    </tr>\n",
       "    <tr>\n",
       "      <th>16</th>\n",
       "      <td>16</td>\n",
       "      <td>Diagnosis is based on clinical signs, non-inva...</td>\n",
       "      <td>COL3A1</td>\n",
       "      <td>104</td>\n",
       "      <td>110</td>\n",
       "      <td>Gene</td>\n",
       "      <td>0.959</td>\n",
       "    </tr>\n",
       "    <tr>\n",
       "      <th>17</th>\n",
       "      <td>17</td>\n",
       "      <td>In childhood, coagulation disorders and Silver...</td>\n",
       "      <td>coagulation disorders</td>\n",
       "      <td>14</td>\n",
       "      <td>35</td>\n",
       "      <td>Disease</td>\n",
       "      <td>0.829</td>\n",
       "    </tr>\n",
       "    <tr>\n",
       "      <th>18</th>\n",
       "      <td>18</td>\n",
       "      <td>In childhood, coagulation disorders and Silver...</td>\n",
       "      <td>Silverman 's syndrome</td>\n",
       "      <td>40</td>\n",
       "      <td>60</td>\n",
       "      <td>Disease</td>\n",
       "      <td>0.989</td>\n",
       "    </tr>\n",
       "    <tr>\n",
       "      <th>19</th>\n",
       "      <td>19</td>\n",
       "      <td>In childhood, coagulation disorders and Silver...</td>\n",
       "      <td>Ehlers - Danlos syndromes</td>\n",
       "      <td>154</td>\n",
       "      <td>177</td>\n",
       "      <td>Disease</td>\n",
       "      <td>0.985</td>\n",
       "    </tr>\n",
       "    <tr>\n",
       "      <th>20</th>\n",
       "      <td>20</td>\n",
       "      <td>In childhood, coagulation disorders and Silver...</td>\n",
       "      <td>Marfan syndrome</td>\n",
       "      <td>179</td>\n",
       "      <td>194</td>\n",
       "      <td>Disease</td>\n",
       "      <td>0.992</td>\n",
       "    </tr>\n",
       "    <tr>\n",
       "      <th>21</th>\n",
       "      <td>21</td>\n",
       "      <td>In childhood, coagulation disorders and Silver...</td>\n",
       "      <td>Loeys - Dietz syndrome</td>\n",
       "      <td>199</td>\n",
       "      <td>219</td>\n",
       "      <td>Disease</td>\n",
       "      <td>0.997</td>\n",
       "    </tr>\n",
       "    <tr>\n",
       "      <th>22</th>\n",
       "      <td>22</td>\n",
       "      <td>Choriocentesis or amniocentesis, however, may ...</td>\n",
       "      <td>Choriocentesis</td>\n",
       "      <td>0</td>\n",
       "      <td>14</td>\n",
       "      <td>Disease</td>\n",
       "      <td>0.756</td>\n",
       "    </tr>\n",
       "    <tr>\n",
       "      <th>23</th>\n",
       "      <td>23</td>\n",
       "      <td>In the absence of specific treatment for EDS t...</td>\n",
       "      <td>EDS type IV</td>\n",
       "      <td>41</td>\n",
       "      <td>52</td>\n",
       "      <td>Disease</td>\n",
       "      <td>0.702</td>\n",
       "    </tr>\n",
       "    <tr>\n",
       "      <th>24</th>\n",
       "      <td>24</td>\n",
       "      <td>Conservative approach is usually recommended w...</td>\n",
       "      <td>EDS type IV</td>\n",
       "      <td>113</td>\n",
       "      <td>124</td>\n",
       "      <td>Disease</td>\n",
       "      <td>0.827</td>\n",
       "    </tr>\n",
       "    <tr>\n",
       "      <th>25</th>\n",
       "      <td>25</td>\n",
       "      <td>Conservative approach is usually recommended w...</td>\n",
       "      <td>patient</td>\n",
       "      <td>90</td>\n",
       "      <td>97</td>\n",
       "      <td>Species</td>\n",
       "      <td>0.719</td>\n",
       "    </tr>\n",
       "  </tbody>\n",
       "</table>\n",
       "</div>"
      ],
      "text/plain": [
       "    Unnamed: 0                                           sentence  \\\n",
       "0            0   Ehlers-Danlos syndrome type IV, the vascular ...   \n",
       "1            1   Ehlers-Danlos syndrome type IV, the vascular ...   \n",
       "2            2   Ehlers-Danlos syndrome type IV, the vascular ...   \n",
       "3            3   Ehlers-Danlos syndrome type IV, the vascular ...   \n",
       "4            4   Ehlers-Danlos syndrome type IV, the vascular ...   \n",
       "5            5   Ehlers-Danlos syndrome type IV, the vascular ...   \n",
       "6            6   Ehlers-Danlos syndrome type IV, the vascular ...   \n",
       "7            7   Ehlers-Danlos syndrome type IV, the vascular ...   \n",
       "8            8  The estimated prevalence for all EDS varies be...   \n",
       "9            9  The estimated prevalence for all EDS varies be...   \n",
       "10          10  Dissections of the vertebral arteries and the ...   \n",
       "11          11  There is a high risk of recurrent colonic perf...   \n",
       "12          12  Pregnancy increases the likelihood of a uterin...   \n",
       "13          13  EDS type IV is inherited as an autosomal domin...   \n",
       "14          14  EDS type IV is inherited as an autosomal domin...   \n",
       "15          15  EDS type IV is inherited as an autosomal domin...   \n",
       "16          16  Diagnosis is based on clinical signs, non-inva...   \n",
       "17          17  In childhood, coagulation disorders and Silver...   \n",
       "18          18  In childhood, coagulation disorders and Silver...   \n",
       "19          19  In childhood, coagulation disorders and Silver...   \n",
       "20          20  In childhood, coagulation disorders and Silver...   \n",
       "21          21  In childhood, coagulation disorders and Silver...   \n",
       "22          22  Choriocentesis or amniocentesis, however, may ...   \n",
       "23          23  In the absence of specific treatment for EDS t...   \n",
       "24          24  Conservative approach is usually recommended w...   \n",
       "25          25  Conservative approach is usually recommended w...   \n",
       "\n",
       "                                  entity  start_chunck  end_chunk    label  \\\n",
       "0       Ehlers - Danlos syndrome type IV             1         31  Disease   \n",
       "1              Ehlers - Danlos syndromes            54         77  Disease   \n",
       "2                                    EDS            79         82  Disease   \n",
       "3   inherited connective tissue disorder            91        127  Disease   \n",
       "4                              acrogeria           171        180  Disease   \n",
       "5                             lower back           275        285  Disease   \n",
       "6                               bruising           292        300  Disease   \n",
       "7                                    EDS           420        423  Disease   \n",
       "8                                    EDS            33         36  Disease   \n",
       "9                            EDS type IV            75         86  Disease   \n",
       "10          carotid - cavernous fistulae            99        125  Disease   \n",
       "11                  colonic perforations            34         54  Disease   \n",
       "12           uterine or vascular rupture            40         67  Disease   \n",
       "13                           EDS type IV             0         11  Disease   \n",
       "14                                COL3A1            91         97     Gene   \n",
       "15                  type III procollagen           114        134     Gene   \n",
       "16                                COL3A1           104        110     Gene   \n",
       "17                 coagulation disorders            14         35  Disease   \n",
       "18                 Silverman 's syndrome            40         60  Disease   \n",
       "19             Ehlers - Danlos syndromes           154        177  Disease   \n",
       "20                       Marfan syndrome           179        194  Disease   \n",
       "21                Loeys - Dietz syndrome           199        219  Disease   \n",
       "22                        Choriocentesis             0         14  Disease   \n",
       "23                           EDS type IV            41         52  Disease   \n",
       "24                           EDS type IV           113        124  Disease   \n",
       "25                               patient            90         97  Species   \n",
       "\n",
       "    score  \n",
       "0   0.851  \n",
       "1   0.976  \n",
       "2   0.999  \n",
       "3   0.865  \n",
       "4   0.996  \n",
       "5   0.853  \n",
       "6   0.705  \n",
       "7   0.998  \n",
       "8   0.997  \n",
       "9   0.769  \n",
       "10  0.879  \n",
       "11  0.752  \n",
       "12  0.686  \n",
       "13  0.783  \n",
       "14  0.936  \n",
       "15  0.685  \n",
       "16  0.959  \n",
       "17  0.829  \n",
       "18  0.989  \n",
       "19  0.985  \n",
       "20  0.992  \n",
       "21  0.997  \n",
       "22  0.756  \n",
       "23  0.702  \n",
       "24  0.827  \n",
       "25  0.719  "
      ]
     },
     "execution_count": 37,
     "metadata": {},
     "output_type": "execute_result"
    }
   ],
   "source": [
    "fabry_example"
   ]
  },
  {
   "cell_type": "code",
   "execution_count": 22,
   "id": "5d9c8949-b015-4a1e-bb1a-6fb0fb8cd331",
   "metadata": {},
   "outputs": [],
   "source": [
    "rank=(sum(fabry_example.score.tolist())/len(fabry_example))+0.5*len(fabry_example)"
   ]
  },
  {
   "cell_type": "code",
   "execution_count": 23,
   "id": "a32cc979-8128-4bb7-a8a5-588604c1aa84",
   "metadata": {},
   "outputs": [
    {
     "data": {
      "text/plain": [
       "13.864807692307693"
      ]
     },
     "execution_count": 23,
     "metadata": {},
     "output_type": "execute_result"
    }
   ],
   "source": [
    "rank"
   ]
  },
  {
   "cell_type": "code",
   "execution_count": 67,
   "id": "1b4bdc51-9ea3-4829-9bb8-4f315a6797a5",
   "metadata": {},
   "outputs": [
    {
     "data": {
      "text/plain": [
       "'coal worker’s pneumoconiosis (cwp) is an occupationally induced progressive fibrotic lung disease. this irreversible but preventable disease currently affects millions across the world, mainly in countries with developed coal mining industries. here, we report a pilot study that explores the sputum microbiome as a potential non-invasive bacterial biomarker of cwp status. sputum samples were collected from 35 former and active coal miners diagnosed with cwp and 35 healthy controls. sequencing of bacterial 16s rrna genes was used to study the taxonomic composition of the respiratory microbiome. there was no difference in alpha diversity between cwp and controls. the structure of bacterial communities in sputum samples (β diversity) differed significantly between cases and controls (pseudo-f = 3.61; p = 0.004). a significant increase in the abundance of streptococcus (25.12 ± 11.37 vs. 16.85 ± 11.35%; p = 0.0003) was detected in samples from cwp subjects as compared to controls. the increased representation of streptococcus in sputum from cwp patients was associated only with the presence of occupational pulmonary fibrosis, but did not depend on age, and did not differ between former and current miners. the study shows, for the first time, that the sputum microbiota of cwp subjects differs from that of controls. the results of our present exploratory study warrant further investigations on a larger cohort.'"
      ]
     },
     "execution_count": 67,
     "metadata": {},
     "output_type": "execute_result"
    }
   ],
   "source": [
    "artDet.abstract.lower().strip()"
   ]
  },
  {
   "cell_type": "code",
   "execution_count": 64,
   "id": "db210b97-daa7-4026-a64a-14d0d836eb34",
   "metadata": {},
   "outputs": [
    {
     "data": {
      "text/plain": [
       "False"
      ]
     },
     "execution_count": 64,
     "metadata": {},
     "output_type": "execute_result"
    }
   ],
   "source": [
    "term[0] in artDet.abstract.lower()"
   ]
  },
  {
   "cell_type": "code",
   "execution_count": 65,
   "id": "1ab2e4f5-62d0-4342-88d5-b008492397ae",
   "metadata": {},
   "outputs": [
    {
     "data": {
      "text/plain": [
       "'veillonella'"
      ]
     },
     "execution_count": 65,
     "metadata": {},
     "output_type": "execute_result"
    }
   ],
   "source": [
    "df_fabry_Annotation_challeng=pd.read_csv(os.path.join(path_fabry,\"Fabry_Disease_Abstarcts_Annotation_Challenge.csv\"))"
   ]
  },
  {
   "cell_type": "code",
   "execution_count": 46,
   "id": "443055f0-b5a5-4a04-ad5f-07d60b9dfc43",
   "metadata": {},
   "outputs": [],
   "source": [
    "term=['veillonella', 'cirrhosis']"
   ]
  },
  {
   "cell_type": "code",
   "execution_count": 41,
   "id": "50961dd6-8f97-4719-8f7c-6da28a23ff77",
   "metadata": {},
   "outputs": [
    {
     "data": {
      "text/markdown": [
       "We analyzed the healthy  <text style=color:green>human</text>  gut microbiomes of 495 datasets available in the European Nucleotide Archive (ENA) database derived from fifteen countries from four continents."
      ],
      "text/plain": [
       "<IPython.core.display.Markdown object>"
      ]
     },
     "metadata": {},
     "output_type": "display_data"
    }
   ],
   "source": [
    "display(Markdown((f'{load_ner_res.sentence[0][0:load_ner_res.start_chunck[0]]} <text style=color:green>{load_ner_res.sentence[0][load_ner_res.start_chunck[0]:load_ner_res.end_chunk[0]]}</text> {load_ner_res.sentence[0][load_ner_res.end_chunk[0]:]}')))"
   ]
  },
  {
   "cell_type": "code",
   "execution_count": null,
   "id": "04f6d978-d94e-45ab-914c-daa12a02162d",
   "metadata": {},
   "outputs": [],
   "source": [
    "display(Markdown((f'{load_ner_res.sentence[0][0:load_ner_res.start_chunck[0]]} <text style=color:green>{load_ner_res.sentence[0][load_ner_res.start_chunck[0]:load_ner_res.end_chunk[0]]}</text> {load_ner_res.sentence[0][load_ner_res.end_chunk[0]:]}')))"
   ]
  },
  {
   "cell_type": "code",
   "execution_count": 6,
   "id": "8ec042ff-3ab9-4f87-9c4e-193101e73ef5",
   "metadata": {},
   "outputs": [
    {
     "data": {
      "text/plain": [
       "{'Chemical', 'Disease', 'Gene', 'Species'}"
      ]
     },
     "execution_count": 6,
     "metadata": {},
     "output_type": "execute_result"
    }
   ],
   "source": [
    "set(load_ner_res.label.tolist())"
   ]
  },
  {
   "cell_type": "code",
   "execution_count": 7,
   "id": "cf0ae123-6e3b-4903-a7e9-29d87358b711",
   "metadata": {},
   "outputs": [
    {
     "data": {
      "text/html": [
       "<div>\n",
       "<style scoped>\n",
       "    .dataframe tbody tr th:only-of-type {\n",
       "        vertical-align: middle;\n",
       "    }\n",
       "\n",
       "    .dataframe tbody tr th {\n",
       "        vertical-align: top;\n",
       "    }\n",
       "\n",
       "    .dataframe thead th {\n",
       "        text-align: right;\n",
       "    }\n",
       "</style>\n",
       "<table border=\"1\" class=\"dataframe\">\n",
       "  <thead>\n",
       "    <tr style=\"text-align: right;\">\n",
       "      <th></th>\n",
       "      <th>Unnamed: 0</th>\n",
       "      <th>sentence</th>\n",
       "      <th>entity</th>\n",
       "      <th>start_chunck</th>\n",
       "      <th>end_chunk</th>\n",
       "      <th>label</th>\n",
       "      <th>score</th>\n",
       "    </tr>\n",
       "  </thead>\n",
       "  <tbody>\n",
       "    <tr>\n",
       "      <th>0</th>\n",
       "      <td>0</td>\n",
       "      <td>Healthy human harbors trillions of microbial c...</td>\n",
       "      <td>human</td>\n",
       "      <td>8</td>\n",
       "      <td>13</td>\n",
       "      <td>Species</td>\n",
       "      <td>0.926</td>\n",
       "    </tr>\n",
       "    <tr>\n",
       "      <th>1</th>\n",
       "      <td>1</td>\n",
       "      <td>Healthy human harbors trillions of microbial c...</td>\n",
       "      <td>human</td>\n",
       "      <td>135</td>\n",
       "      <td>140</td>\n",
       "      <td>Species</td>\n",
       "      <td>0.840</td>\n",
       "    </tr>\n",
       "    <tr>\n",
       "      <th>2</th>\n",
       "      <td>2</td>\n",
       "      <td>With the advancements in the sequencing techno...</td>\n",
       "      <td>Human</td>\n",
       "      <td>82</td>\n",
       "      <td>87</td>\n",
       "      <td>Species</td>\n",
       "      <td>0.867</td>\n",
       "    </tr>\n",
       "    <tr>\n",
       "      <th>3</th>\n",
       "      <td>3</td>\n",
       "      <td>With the advancements in the sequencing techno...</td>\n",
       "      <td>Human</td>\n",
       "      <td>153</td>\n",
       "      <td>158</td>\n",
       "      <td>Species</td>\n",
       "      <td>0.716</td>\n",
       "    </tr>\n",
       "    <tr>\n",
       "      <th>4</th>\n",
       "      <td>4</td>\n",
       "      <td>With the advancements in the sequencing techno...</td>\n",
       "      <td>human</td>\n",
       "      <td>271</td>\n",
       "      <td>276</td>\n",
       "      <td>Species</td>\n",
       "      <td>0.933</td>\n",
       "    </tr>\n",
       "  </tbody>\n",
       "</table>\n",
       "</div>"
      ],
      "text/plain": [
       "   Unnamed: 0                                           sentence entity  \\\n",
       "0           0  Healthy human harbors trillions of microbial c...  human   \n",
       "1           1  Healthy human harbors trillions of microbial c...  human   \n",
       "2           2  With the advancements in the sequencing techno...  Human   \n",
       "3           3  With the advancements in the sequencing techno...  Human   \n",
       "4           4  With the advancements in the sequencing techno...  human   \n",
       "\n",
       "   start_chunck  end_chunk    label  score  \n",
       "0             8         13  Species  0.926  \n",
       "1           135        140  Species  0.840  \n",
       "2            82         87  Species  0.867  \n",
       "3           153        158  Species  0.716  \n",
       "4           271        276  Species  0.933  "
      ]
     },
     "execution_count": 7,
     "metadata": {},
     "output_type": "execute_result"
    }
   ],
   "source": [
    "load_ner_res.head()"
   ]
  },
  {
   "cell_type": "code",
   "execution_count": 8,
   "id": "6cc881f7-b9cf-4f0d-8b94-446383557ac2",
   "metadata": {},
   "outputs": [
    {
     "data": {
      "text/plain": [
       "(78, 7)"
      ]
     },
     "execution_count": 8,
     "metadata": {},
     "output_type": "execute_result"
    }
   ],
   "source": [
    "load_ner_res.shape"
   ]
  },
  {
   "cell_type": "code",
   "execution_count": 10,
   "id": "2f9119f3-dc60-4745-bc8b-e4520496a191",
   "metadata": {},
   "outputs": [
    {
     "data": {
      "text/plain": [
       "'human'"
      ]
     },
     "execution_count": 10,
     "metadata": {},
     "output_type": "execute_result"
    }
   ],
   "source": [
    "load_ner_res.entity[0]"
   ]
  },
  {
   "cell_type": "code",
   "execution_count": 11,
   "id": "ee759473-ad0b-4afb-a658-2dd71e2414b7",
   "metadata": {},
   "outputs": [],
   "source": [
    "text=\"\"\n",
    "for i in range(len(load_ner_res)):\n",
    "    #text+=load_ner_res.sentence[i].split(load_ner_res.entity[i][i])\n",
    "    if load_ner_res.entity[i] =='Spacies':\n",
    "        text+=termcolor.colored(load_ner_res.entity[i],\"blue\")\n",
    "    if load_ner_res.entity[i] =='Disease':\n",
    "        text+=termcolor.colored(load_ner_res.entity[i],\"red\")\n",
    "    if load_ner_res.entity[i] =='Chemical':\n",
    "        text+=termcolor.colored(load_ner_res.entity[i],\"green\")\n",
    "    if load_ner_res.entity[i] =='Gene':\n",
    "        text+=termcolor.colored(load_ner_res.entity[i],\"violate\")"
   ]
  },
  {
   "cell_type": "code",
   "execution_count": 14,
   "id": "99373c17-4b50-412d-ac1e-759c8f01ef63",
   "metadata": {},
   "outputs": [
    {
     "name": "stdout",
     "output_type": "stream",
     "text": [
      "left foot right foot left foot right. feet in the day, feet at night.\n"
     ]
    }
   ],
   "source": [
    "from termcolor import colored,cprint\n",
    "text='left foot right foot left foot right. Feet in the day, feet at night.'\n",
    "l1=['foot','feet']\n",
    "result = \" \".join(colored(t,'green',attrs=['reverse', 'blink']) if t in l1 else t for t in text.lower().split())\n",
    "print(result)"
   ]
  },
  {
   "cell_type": "code",
   "execution_count": 20,
   "id": "72d6e3c1-f9f0-4b98-b092-c02e478b7dcd",
   "metadata": {},
   "outputs": [],
   "source": [
    "from time import sleep"
   ]
  },
  {
   "cell_type": "code",
   "execution_count": 23,
   "id": "bf2067bf-6fe7-4897-be69-3318e4285c4b",
   "metadata": {},
   "outputs": [
    {
     "name": "stdout",
     "output_type": "stream",
     "text": [
      "0 heure(s) 1 minute(s) 37 secondes"
     ]
    },
    {
     "ename": "KeyboardInterrupt",
     "evalue": "",
     "output_type": "error",
     "traceback": [
      "\u001b[1;31m---------------------------------------------------------------------------\u001b[0m",
      "\u001b[1;31mKeyboardInterrupt\u001b[0m                         Traceback (most recent call last)",
      "Input \u001b[1;32mIn [23]\u001b[0m, in \u001b[0;36m<cell line: 2>\u001b[1;34m()\u001b[0m\n\u001b[0;32m      3\u001b[0m s\u001b[38;5;241m=\u001b[39m\u001b[38;5;241m0\u001b[39m\n\u001b[0;32m      4\u001b[0m \u001b[38;5;28;01mwhile\u001b[39;00m s\u001b[38;5;241m<\u001b[39m\u001b[38;5;241m60\u001b[39m:\n\u001b[1;32m----> 5\u001b[0m     \u001b[43msleep\u001b[49m\u001b[43m(\u001b[49m\u001b[38;5;241;43m1\u001b[39;49m\u001b[43m)\u001b[49m\n\u001b[0;32m      6\u001b[0m     sys\u001b[38;5;241m.\u001b[39mstdout\u001b[38;5;241m.\u001b[39mwrite(\u001b[38;5;124m\"\u001b[39m\u001b[38;5;130;01m\\r\u001b[39;00m\u001b[38;5;124m\"\u001b[39m \u001b[38;5;241m+\u001b[39m colored(\u001b[38;5;28mstr\u001b[39m(h)\u001b[38;5;241m+\u001b[39m\u001b[38;5;124m\"\u001b[39m\u001b[38;5;124m heure(s) \u001b[39m\u001b[38;5;124m\"\u001b[39m \u001b[38;5;241m+\u001b[39m \u001b[38;5;28mstr\u001b[39m(m) \u001b[38;5;241m+\u001b[39m \u001b[38;5;124m\"\u001b[39m\u001b[38;5;124m minute(s) \u001b[39m\u001b[38;5;124m\"\u001b[39m \u001b[38;5;241m+\u001b[39m\u001b[38;5;28mstr\u001b[39m(s)\u001b[38;5;241m+\u001b[39m\u001b[38;5;124m\"\u001b[39m\u001b[38;5;124m secondes\u001b[39m\u001b[38;5;124m\"\u001b[39m, color\u001b[38;5;241m=\u001b[39m\u001b[38;5;124m\"\u001b[39m\u001b[38;5;124mgreen\u001b[39m\u001b[38;5;124m\"\u001b[39m, on_color\u001b[38;5;241m=\u001b[39m\u001b[38;5;124m\"\u001b[39m\u001b[38;5;124mon_grey\u001b[39m\u001b[38;5;124m\"\u001b[39m))\n\u001b[0;32m      7\u001b[0m     sys\u001b[38;5;241m.\u001b[39mstdout\u001b[38;5;241m.\u001b[39mflush()\n",
      "\u001b[1;31mKeyboardInterrupt\u001b[0m: "
     ]
    }
   ],
   "source": [
    "m=0\n",
    "while m<2:\n",
    "    s=0\n",
    "    while s<60:\n",
    "        sleep(1)\n",
    "        sys.stdout.write(\"\\r\" + colored(str(h)+\" heure(s) \" + str(m) + \" minute(s) \" +str(s)+\" secondes\", color=\"green\", on_color=\"on_grey\"))\n",
    "        sys.stdout.flush()\n",
    "        s+=1\n",
    "    m+=1"
   ]
  },
  {
   "cell_type": "code",
   "execution_count": 25,
   "id": "02fed5b3-ccc8-4b63-8703-3812017c8c87",
   "metadata": {},
   "outputs": [
    {
     "name": "stdout",
     "output_type": "stream",
     "text": [
      "hello\n"
     ]
    }
   ],
   "source": [
    "import colorama\n",
    "colorama.init()\n",
    "cprint('hello', 'green')"
   ]
  },
  {
   "cell_type": "code",
   "execution_count": 27,
   "id": "1764a077-c614-4aca-aad6-6442f3a57658",
   "metadata": {},
   "outputs": [],
   "source": [
    "import html"
   ]
  },
  {
   "cell_type": "code",
   "execution_count": 28,
   "id": "5e2e119f-fcb5-4c8c-adc4-34277fcfc50c",
   "metadata": {},
   "outputs": [
    {
     "data": {
      "text/markdown": [
       "this is your tag: <text style=color:green>&lt;div&gt;</text>"
      ],
      "text/plain": [
       "<IPython.core.display.Markdown object>"
      ]
     },
     "metadata": {},
     "output_type": "display_data"
    },
    {
     "data": {
      "text/markdown": [
       "this is your tag: <text style=color:green>&lt;body&gt;</text>"
      ],
      "text/plain": [
       "<IPython.core.display.Markdown object>"
      ]
     },
     "metadata": {},
     "output_type": "display_data"
    },
    {
     "data": {
      "text/markdown": [
       "this is your tag: <text style=color:green>&lt;h1&gt;</text>"
      ],
      "text/plain": [
       "<IPython.core.display.Markdown object>"
      ]
     },
     "metadata": {},
     "output_type": "display_data"
    }
   ],
   "source": [
    "from IPython.display import Markdown, display\n",
    "import html\n",
    "\n",
    "tags = ['<div>','<body>','<h1>']\n",
    "for tag in tags:    \n",
    "    tag = html.escape(tag)\n",
    "    display(Markdown((f'this is your tag: <text style=color:green>{tag}</text>')))"
   ]
  },
  {
   "cell_type": "code",
   "execution_count": 4,
   "id": "5c5bb763-4e7a-4688-b7a3-5bedd1ffa02d",
   "metadata": {},
   "outputs": [],
   "source": [
    "import termcolor"
   ]
  },
  {
   "cell_type": "code",
   "execution_count": 5,
   "id": "e616f88b-aa3f-4ee4-bed9-bfa06556ba94",
   "metadata": {},
   "outputs": [],
   "source": [
    "def printColoredText(tokens,predictedLabels,trueLables,vocab):\n",
    "    text=\"\"\n",
    "    for i in range(len(trueLables)):\n",
    "        token = tokens['input_ids'][i]\n",
    "        if token==3:\n",
    "            token=2\n",
    "        word = vocab[token]\n",
    "        if predictedLabels[i]==1 and trueLables[i]==1:\n",
    "            text+=termcolor.colored(word, 'blue', attrs=['reverse', 'blink'])\n",
    "        elif predictedLabels[i]==1 and trueLables[i]==0:\n",
    "            text+=termcolor.colored(word, 'red', attrs=['reverse', 'blink'])\n",
    "        elif predictedLabels[i]==0 and trueLables[i]==1:\n",
    "            text+=termcolor.colored(word, 'green', attrs=['reverse', 'blink'])\n",
    "        else:\n",
    "            text+=vocab[token]\n",
    "    print(text)"
   ]
  },
  {
   "cell_type": "code",
   "execution_count": 80,
   "id": "09722588-95e4-4f70-93b1-e92e4e250683",
   "metadata": {},
   "outputs": [
    {
     "data": {
      "text/plain": [
       "Index(['Unnamed: 0', 'sentence', 'entity', 'start_chunck', 'end_chunk',\n",
       "       'label', 'score'],\n",
       "      dtype='object')"
      ]
     },
     "execution_count": 80,
     "metadata": {},
     "output_type": "execute_result"
    }
   ],
   "source": [
    "load_ner_res.columns"
   ]
  },
  {
   "cell_type": "code",
   "execution_count": 2,
   "id": "39f9b519",
   "metadata": {},
   "outputs": [
    {
     "name": "stdout",
     "output_type": "stream",
     "text": [
      "hello\n"
     ]
    }
   ],
   "source": [
    "print(\"hello\")"
   ]
  },
  {
   "cell_type": "code",
   "execution_count": 79,
   "id": "ad8d0c10-a732-4b82-91cf-1b1ad33df102",
   "metadata": {},
   "outputs": [],
   "source": [
    "import networkx"
   ]
  },
  {
   "cell_type": "code",
   "execution_count": null,
   "id": "e36c5a76-2086-425b-9368-98be63c33099",
   "metadata": {},
   "outputs": [],
   "source": [
    "G=nx.from_pandas_edgelist(kg_df, \"source\", \"target\", edge_attr=True, create_using=nx.MultiDiGraph())plt.figure(figsize=(12,12))\n",
    "pos = nx.spring_layout(G)nx.draw(G, with_labels=True, node_color='skyblue', edge_cmap=plt.cm.Blues, pos = pos)nx.draw_networkx_edge_labels(G, pos=pos)\n",
    "plt.show()"
   ]
  }
 ],
 "metadata": {
  "kernelspec": {
   "display_name": "Python 3 (ipykernel)",
   "language": "python",
   "name": "python3"
  },
  "language_info": {
   "codemirror_mode": {
    "name": "ipython",
    "version": 3
   },
   "file_extension": ".py",
   "mimetype": "text/x-python",
   "name": "python",
   "nbconvert_exporter": "python",
   "pygments_lexer": "ipython3",
   "version": "3.10.9"
  },
  "vscode": {
   "interpreter": {
    "hash": "ad2bdc8ecc057115af97d19610ffacc2b4e99fae6737bb82f5d7fb13d2f2c186"
   }
  }
 },
 "nbformat": 4,
 "nbformat_minor": 5
}
