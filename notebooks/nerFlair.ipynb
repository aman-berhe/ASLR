{
 "cells": [
  {
   "cell_type": "code",
   "execution_count": 1,
   "id": "71c5651c-2eac-48bc-a044-f7d7a30e385b",
   "metadata": {
    "tags": []
   },
   "outputs": [
    {
     "name": "stderr",
     "output_type": "stream",
     "text": [
      "2023-07-19 12:22:27.183117: I tensorflow/core/platform/cpu_feature_guard.cc:182] This TensorFlow binary is optimized to use available CPU instructions in performance-critical operations.\n",
      "To enable the following instructions: AVX2 FMA, in other operations, rebuild TensorFlow with the appropriate compiler flags.\n",
      "2023-07-19 12:22:28.125292: W tensorflow/compiler/tf2tensorrt/utils/py_utils.cc:38] TF-TRT Warning: Could not find TensorRT\n"
     ]
    }
   ],
   "source": [
    "from flair.data import Sentence\n",
    "from flair.nn import Classifier\n",
    "from flair.models import SequenceTagger\n",
    "#from flair.models import MultiTagger\n",
    "from flair.models import MultitaskModel\n",
    "import flair"
   ]
  },
  {
   "cell_type": "code",
   "execution_count": 2,
   "id": "86fd0af1-a1ef-45bf-9d97-0c0ad37aa150",
   "metadata": {
    "tags": []
   },
   "outputs": [],
   "source": [
    "import os\n",
    "import json\n",
    "import nltk\n",
    "import pandas as pd\n",
    "from tqdm import tqdm\n",
    "from warnings import filterwarnings\n",
    "#from articleDetails import ArticleDetails"
   ]
  },
  {
   "cell_type": "code",
   "execution_count": 3,
   "id": "f8c51942-5afb-436d-bc7a-d808055cfc14",
   "metadata": {
    "tags": []
   },
   "outputs": [],
   "source": [
    "#tagger = Classifier.load(\"hunflair\")"
   ]
  },
  {
   "cell_type": "code",
   "execution_count": 16,
   "id": "a22def59-4988-44a9-8913-0f4c37597ff1",
   "metadata": {
    "tags": []
   },
   "outputs": [
    {
     "name": "stdout",
     "output_type": "stream",
     "text": [
      "Downloading 1OletxmPYNkz2ltOr9pyT0b0iBtUWxslh into /home/aberhe/Projects/SANTAL/ASLR/data/BC4CHEMD/biobert_common/NERdata.zip... Done.\n",
      "Unzipping..."
     ]
    },
    {
     "name": "stderr",
     "output_type": "stream",
     "text": [
      "/home/aberhe/.local/lib/python3.10/site-packages/google_drive_downloader/google_drive_downloader.py:78: UserWarning: Ignoring `unzip` since \"1OletxmPYNkz2ltOr9pyT0b0iBtUWxslh\" does not look like a valid zip file\n",
      "  warnings.warn('Ignoring `unzip` since \"{}\" does not look like a valid zip file'.format(file_id))\n"
     ]
    },
    {
     "ename": "FileNotFoundError",
     "evalue": "[Errno 2] No such file or directory: '/home/aberhe/Projects/SANTAL/ASLR/data/BC4CHEMD/biobert_common/BC4CHEMD/train.tsv'",
     "output_type": "error",
     "traceback": [
      "\u001b[0;31m---------------------------------------------------------------------------\u001b[0m",
      "\u001b[0;31mFileNotFoundError\u001b[0m                         Traceback (most recent call last)",
      "Cell \u001b[0;32mIn[16], line 1\u001b[0m\n\u001b[0;32m----> 1\u001b[0m training_datasets\u001b[38;5;241m=\u001b[39m\u001b[43mflair\u001b[49m\u001b[38;5;241;43m.\u001b[39;49m\u001b[43mdatasets\u001b[49m\u001b[38;5;241;43m.\u001b[39;49m\u001b[43mbiomedical\u001b[49m\u001b[38;5;241;43m.\u001b[39;49m\u001b[43mBIOBERT_CHEMICAL_BC4CHEMD\u001b[49m\u001b[43m(\u001b[49m\u001b[43mbase_path\u001b[49m\u001b[38;5;241;43m=\u001b[39;49m\u001b[38;5;124;43m\"\u001b[39;49m\u001b[38;5;124;43m/home/aberhe/Projects/SANTAL/ASLR/data/BC4CHEMD\u001b[39;49m\u001b[38;5;124;43m\"\u001b[39;49m\u001b[43m)\u001b[49m\n",
      "File \u001b[0;32m~/.local/lib/python3.10/site-packages/flair/datasets/biomedical.py:4308\u001b[0m, in \u001b[0;36mBIOBERT_CHEMICAL_BC4CHEMD.__init__\u001b[0;34m(self, base_path, in_memory)\u001b[0m\n\u001b[1;32m   4305\u001b[0m     \u001b[38;5;28;01mif\u001b[39;00m \u001b[38;5;129;01mnot\u001b[39;00m (common_path \u001b[38;5;241m/\u001b[39m \u001b[38;5;124m\"\u001b[39m\u001b[38;5;124mBC4CHEMD\u001b[39m\u001b[38;5;124m\"\u001b[39m)\u001b[38;5;241m.\u001b[39mexists():\n\u001b[1;32m   4306\u001b[0m         BioBertHelper\u001b[38;5;241m.\u001b[39mdownload_corpora(common_path)\n\u001b[0;32m-> 4308\u001b[0m     \u001b[43mBioBertHelper\u001b[49m\u001b[38;5;241;43m.\u001b[39;49m\u001b[43mconvert_and_write\u001b[49m\u001b[43m(\u001b[49m\u001b[43mcommon_path\u001b[49m\u001b[43m \u001b[49m\u001b[38;5;241;43m/\u001b[39;49m\u001b[43m \u001b[49m\u001b[38;5;124;43m\"\u001b[39;49m\u001b[38;5;124;43mBC4CHEMD\u001b[39;49m\u001b[38;5;124;43m\"\u001b[39;49m\u001b[43m,\u001b[49m\u001b[43m \u001b[49m\u001b[43mdata_folder\u001b[49m\u001b[43m,\u001b[49m\u001b[43m \u001b[49m\u001b[43mtag_type\u001b[49m\u001b[38;5;241;43m=\u001b[39;49m\u001b[43mCHEMICAL_TAG\u001b[49m\u001b[43m)\u001b[49m\n\u001b[1;32m   4309\u001b[0m \u001b[38;5;28msuper\u001b[39m(BIOBERT_CHEMICAL_BC4CHEMD, \u001b[38;5;28mself\u001b[39m)\u001b[38;5;241m.\u001b[39m\u001b[38;5;21m__init__\u001b[39m(data_folder, columns, in_memory\u001b[38;5;241m=\u001b[39min_memory)\n",
      "File \u001b[0;32m~/.local/lib/python3.10/site-packages/flair/datasets/biomedical.py:4239\u001b[0m, in \u001b[0;36mBioBertHelper.convert_and_write\u001b[0;34m(download_folder, data_folder, tag_type)\u001b[0m\n\u001b[1;32m   4236\u001b[0m \u001b[38;5;129m@staticmethod\u001b[39m\n\u001b[1;32m   4237\u001b[0m \u001b[38;5;28;01mdef\u001b[39;00m \u001b[38;5;21mconvert_and_write\u001b[39m(download_folder, data_folder, tag_type):\n\u001b[1;32m   4238\u001b[0m     data_folder\u001b[38;5;241m.\u001b[39mmkdir(parents\u001b[38;5;241m=\u001b[39m\u001b[38;5;28;01mTrue\u001b[39;00m, exist_ok\u001b[38;5;241m=\u001b[39m\u001b[38;5;28;01mTrue\u001b[39;00m)\n\u001b[0;32m-> 4239\u001b[0m     \u001b[38;5;28;01mwith\u001b[39;00m \u001b[43m(\u001b[49m\u001b[43mdownload_folder\u001b[49m\u001b[43m \u001b[49m\u001b[38;5;241;43m/\u001b[39;49m\u001b[43m \u001b[49m\u001b[38;5;124;43m\"\u001b[39;49m\u001b[38;5;124;43mtrain.tsv\u001b[39;49m\u001b[38;5;124;43m\"\u001b[39;49m\u001b[43m)\u001b[49m\u001b[38;5;241;43m.\u001b[39;49m\u001b[43mopen\u001b[49m\u001b[43m(\u001b[49m\u001b[43mencoding\u001b[49m\u001b[38;5;241;43m=\u001b[39;49m\u001b[38;5;124;43m\"\u001b[39;49m\u001b[38;5;124;43mutf8\u001b[39;49m\u001b[38;5;124;43m\"\u001b[39;49m\u001b[43m)\u001b[49m \u001b[38;5;28;01mas\u001b[39;00m f_in, (data_folder \u001b[38;5;241m/\u001b[39m \u001b[38;5;124m\"\u001b[39m\u001b[38;5;124mtrain.conll\u001b[39m\u001b[38;5;124m\"\u001b[39m)\u001b[38;5;241m.\u001b[39mopen(\n\u001b[1;32m   4240\u001b[0m         \u001b[38;5;124m\"\u001b[39m\u001b[38;5;124mw\u001b[39m\u001b[38;5;124m\"\u001b[39m, encoding\u001b[38;5;241m=\u001b[39m\u001b[38;5;124m\"\u001b[39m\u001b[38;5;124mutf8\u001b[39m\u001b[38;5;124m\"\u001b[39m\n\u001b[1;32m   4241\u001b[0m     ) \u001b[38;5;28;01mas\u001b[39;00m f_out:\n\u001b[1;32m   4242\u001b[0m         \u001b[38;5;28;01mfor\u001b[39;00m line \u001b[38;5;129;01min\u001b[39;00m f_in:\n\u001b[1;32m   4243\u001b[0m             \u001b[38;5;28;01mif\u001b[39;00m \u001b[38;5;129;01mnot\u001b[39;00m line\u001b[38;5;241m.\u001b[39mstrip():\n",
      "File \u001b[0;32m/opt/conda/lib/python3.10/pathlib.py:1119\u001b[0m, in \u001b[0;36mPath.open\u001b[0;34m(self, mode, buffering, encoding, errors, newline)\u001b[0m\n\u001b[1;32m   1117\u001b[0m \u001b[38;5;28;01mif\u001b[39;00m \u001b[38;5;124m\"\u001b[39m\u001b[38;5;124mb\u001b[39m\u001b[38;5;124m\"\u001b[39m \u001b[38;5;129;01mnot\u001b[39;00m \u001b[38;5;129;01min\u001b[39;00m mode:\n\u001b[1;32m   1118\u001b[0m     encoding \u001b[38;5;241m=\u001b[39m io\u001b[38;5;241m.\u001b[39mtext_encoding(encoding)\n\u001b[0;32m-> 1119\u001b[0m \u001b[38;5;28;01mreturn\u001b[39;00m \u001b[38;5;28;43mself\u001b[39;49m\u001b[38;5;241;43m.\u001b[39;49m\u001b[43m_accessor\u001b[49m\u001b[38;5;241;43m.\u001b[39;49m\u001b[43mopen\u001b[49m\u001b[43m(\u001b[49m\u001b[38;5;28;43mself\u001b[39;49m\u001b[43m,\u001b[49m\u001b[43m \u001b[49m\u001b[43mmode\u001b[49m\u001b[43m,\u001b[49m\u001b[43m \u001b[49m\u001b[43mbuffering\u001b[49m\u001b[43m,\u001b[49m\u001b[43m \u001b[49m\u001b[43mencoding\u001b[49m\u001b[43m,\u001b[49m\u001b[43m \u001b[49m\u001b[43merrors\u001b[49m\u001b[43m,\u001b[49m\n\u001b[1;32m   1120\u001b[0m \u001b[43m                           \u001b[49m\u001b[43mnewline\u001b[49m\u001b[43m)\u001b[49m\n",
      "\u001b[0;31mFileNotFoundError\u001b[0m: [Errno 2] No such file or directory: '/home/aberhe/Projects/SANTAL/ASLR/data/BC4CHEMD/biobert_common/BC4CHEMD/train.tsv'"
     ]
    }
   ],
   "source": [
    "training_datasets=flair.datasets.biomedical.BIOBERT_CHEMICAL_BC4CHEMD(base_path=\"/home/aberhe/Projects/SANTAL/ASLR/data/BC4CHEMD\")"
   ]
  },
  {
   "cell_type": "code",
   "execution_count": 10,
   "id": "208ae9b0-29ca-4b3c-9faa-87a423d1f114",
   "metadata": {
    "tags": []
   },
   "outputs": [
    {
     "ename": "NameError",
     "evalue": "name 'training_datasets' is not defined",
     "output_type": "error",
     "traceback": [
      "\u001b[0;31m---------------------------------------------------------------------------\u001b[0m",
      "\u001b[0;31mNameError\u001b[0m                                 Traceback (most recent call last)",
      "Cell \u001b[0;32mIn[10], line 1\u001b[0m\n\u001b[0;32m----> 1\u001b[0m \u001b[43mtraining_datasets\u001b[49m\n",
      "\u001b[0;31mNameError\u001b[0m: name 'training_datasets' is not defined"
     ]
    }
   ],
   "source": [
    "training_datasets"
   ]
  },
  {
   "cell_type": "code",
   "execution_count": 22,
   "id": "1619ce71-8a3c-4a3b-b159-cc5367132cea",
   "metadata": {
    "tags": []
   },
   "outputs": [
    {
     "ename": "TypeError",
     "evalue": "Corpus.train() missing 1 required positional argument: 'self'",
     "output_type": "error",
     "traceback": [
      "\u001b[0;31m---------------------------------------------------------------------------\u001b[0m",
      "\u001b[0;31mTypeError\u001b[0m                                 Traceback (most recent call last)",
      "Cell \u001b[0;32mIn[22], line 1\u001b[0m\n\u001b[0;32m----> 1\u001b[0m \u001b[38;5;28mlen\u001b[39m(\u001b[43mtraining_datasets\u001b[49m\u001b[38;5;241;43m.\u001b[39;49m\u001b[43mtrain\u001b[49m\u001b[38;5;241;43m.\u001b[39;49m\u001b[43mfget\u001b[49m\u001b[43m(\u001b[49m\u001b[43m)\u001b[49m)\n",
      "\u001b[0;31mTypeError\u001b[0m: Corpus.train() missing 1 required positional argument: 'self'"
     ]
    }
   ],
   "source": [
    "len(training_datasets.train.fget())"
   ]
  },
  {
   "cell_type": "code",
   "execution_count": 3,
   "id": "a3d72aeb-19f0-4f62-b4cc-b8101c48c785",
   "metadata": {
    "tags": []
   },
   "outputs": [
    {
     "name": "stdout",
     "output_type": "stream",
     "text": [
      "2023-07-19 12:22:51,699 SequenceTagger predicts: Dictionary with 8 tags: <unk>, O, B-Disease, E-Disease, I-Disease, S-Disease, <START>, <STOP>\n",
      "2023-07-19 12:22:52,631 SequenceTagger predicts: Dictionary with 8 tags: <unk>, O, S-Gene, B-Gene, I-Gene, E-Gene, <START>, <STOP>\n",
      "2023-07-19 12:22:53,558 SequenceTagger predicts: Dictionary with 8 tags: <unk>, O, S-Species, B-Species, I-Species, E-Species, <START>, <STOP>\n",
      "2023-07-19 12:22:54,467 SequenceTagger predicts: Dictionary with 8 tags: <unk>, O, S-CellLine, B-CellLine, I-CellLine, E-CellLine, <START>, <STOP>\n",
      "2023-07-19 12:22:55,387 SequenceTagger predicts: Dictionary with 8 tags: <unk>, O, S-Chemical, B-Chemical, I-Chemical, E-Chemical, <START>, <STOP>\n"
     ]
    }
   ],
   "source": [
    "sentence = Sentence(\"Behavioral abnormalities in the Fmr1 KO2 Mouse Model of Fragile X Syndrome\")\n",
    "tagger = Classifier.load(\"hunflair\")\n",
    "df=pd.DataFrame(columns=(\"sentence\",\"entity\",\"start_chunck\",\"end_chunk\",\"label\",\"score\"))\n",
    "\n",
    "#sentence=nltk.sent_tokenize(document)\n",
    "tagger.predict(sentence)\n"
   ]
  },
  {
   "cell_type": "code",
   "execution_count": 4,
   "id": "653fbc76-20f6-4627-931c-1dc14fbbdf1a",
   "metadata": {
    "tags": []
   },
   "outputs": [
    {
     "data": {
      "text/plain": [
       "MultitaskModel(\n",
       "  (Task_0): SequenceTagger(\n",
       "    (embeddings): StackedEmbeddings(\n",
       "      (list_embedding_0): WordEmbeddings(\n",
       "        '/home/alan/.flair/embeddings/pubmed_pmc_wiki_sg_1M.gensim'\n",
       "        (embedding): Embedding(1000001, 200)\n",
       "      )\n",
       "      (list_embedding_1): FlairEmbeddings(\n",
       "        (lm): LanguageModel(\n",
       "          (drop): Dropout(p=0.1, inplace=False)\n",
       "          (encoder): Embedding(275, 100)\n",
       "          (rnn): LSTM(100, 2048)\n",
       "          (decoder): Linear(in_features=2048, out_features=275, bias=True)\n",
       "        )\n",
       "      )\n",
       "      (list_embedding_2): FlairEmbeddings(\n",
       "        (lm): LanguageModel(\n",
       "          (drop): Dropout(p=0.1, inplace=False)\n",
       "          (encoder): Embedding(275, 100)\n",
       "          (rnn): LSTM(100, 2048)\n",
       "          (decoder): Linear(in_features=2048, out_features=275, bias=True)\n",
       "        )\n",
       "      )\n",
       "    )\n",
       "    (word_dropout): WordDropout(p=0.05)\n",
       "    (locked_dropout): LockedDropout(p=0.5)\n",
       "    (embedding2nn): Linear(in_features=4296, out_features=4296, bias=True)\n",
       "    (rnn): LSTM(4296, 256, batch_first=True, bidirectional=True)\n",
       "    (linear): Linear(in_features=512, out_features=8, bias=True)\n",
       "    (loss_function): ViterbiLoss()\n",
       "    (crf): CRF()\n",
       "  )\n",
       "  (Task_1): SequenceTagger(\n",
       "    (embeddings): StackedEmbeddings(\n",
       "      (list_embedding_0): WordEmbeddings(\n",
       "        '/home/alan/.flair/embeddings/pubmed_pmc_wiki_sg_1M.gensim'\n",
       "        (embedding): Embedding(1000001, 200)\n",
       "      )\n",
       "      (list_embedding_1): FlairEmbeddings(\n",
       "        (lm): LanguageModel(\n",
       "          (drop): Dropout(p=0.1, inplace=False)\n",
       "          (encoder): Embedding(275, 100)\n",
       "          (rnn): LSTM(100, 2048)\n",
       "          (decoder): Linear(in_features=2048, out_features=275, bias=True)\n",
       "        )\n",
       "      )\n",
       "      (list_embedding_2): FlairEmbeddings(\n",
       "        (lm): LanguageModel(\n",
       "          (drop): Dropout(p=0.1, inplace=False)\n",
       "          (encoder): Embedding(275, 100)\n",
       "          (rnn): LSTM(100, 2048)\n",
       "          (decoder): Linear(in_features=2048, out_features=275, bias=True)\n",
       "        )\n",
       "      )\n",
       "    )\n",
       "    (word_dropout): WordDropout(p=0.05)\n",
       "    (locked_dropout): LockedDropout(p=0.5)\n",
       "    (embedding2nn): Linear(in_features=4296, out_features=4296, bias=True)\n",
       "    (rnn): LSTM(4296, 256, batch_first=True, bidirectional=True)\n",
       "    (linear): Linear(in_features=512, out_features=8, bias=True)\n",
       "    (loss_function): ViterbiLoss()\n",
       "    (crf): CRF()\n",
       "  )\n",
       "  (Task_2): SequenceTagger(\n",
       "    (embeddings): StackedEmbeddings(\n",
       "      (list_embedding_0): WordEmbeddings(\n",
       "        '/home/alan/.flair/embeddings/pubmed_pmc_wiki_sg_1M.gensim'\n",
       "        (embedding): Embedding(1000001, 200)\n",
       "      )\n",
       "      (list_embedding_1): FlairEmbeddings(\n",
       "        (lm): LanguageModel(\n",
       "          (drop): Dropout(p=0.1, inplace=False)\n",
       "          (encoder): Embedding(275, 100)\n",
       "          (rnn): LSTM(100, 2048)\n",
       "          (decoder): Linear(in_features=2048, out_features=275, bias=True)\n",
       "        )\n",
       "      )\n",
       "      (list_embedding_2): FlairEmbeddings(\n",
       "        (lm): LanguageModel(\n",
       "          (drop): Dropout(p=0.1, inplace=False)\n",
       "          (encoder): Embedding(275, 100)\n",
       "          (rnn): LSTM(100, 2048)\n",
       "          (decoder): Linear(in_features=2048, out_features=275, bias=True)\n",
       "        )\n",
       "      )\n",
       "    )\n",
       "    (word_dropout): WordDropout(p=0.05)\n",
       "    (locked_dropout): LockedDropout(p=0.5)\n",
       "    (embedding2nn): Linear(in_features=4296, out_features=4296, bias=True)\n",
       "    (rnn): LSTM(4296, 256, batch_first=True, bidirectional=True)\n",
       "    (linear): Linear(in_features=512, out_features=8, bias=True)\n",
       "    (loss_function): ViterbiLoss()\n",
       "    (crf): CRF()\n",
       "  )\n",
       "  (Task_3): SequenceTagger(\n",
       "    (embeddings): StackedEmbeddings(\n",
       "      (list_embedding_0): WordEmbeddings(\n",
       "        '/home/alan/.flair/embeddings/pubmed_pmc_wiki_sg_1M.gensim'\n",
       "        (embedding): Embedding(1000001, 200)\n",
       "      )\n",
       "      (list_embedding_1): FlairEmbeddings(\n",
       "        (lm): LanguageModel(\n",
       "          (drop): Dropout(p=0.1, inplace=False)\n",
       "          (encoder): Embedding(275, 100)\n",
       "          (rnn): LSTM(100, 2048)\n",
       "          (decoder): Linear(in_features=2048, out_features=275, bias=True)\n",
       "        )\n",
       "      )\n",
       "      (list_embedding_2): FlairEmbeddings(\n",
       "        (lm): LanguageModel(\n",
       "          (drop): Dropout(p=0.1, inplace=False)\n",
       "          (encoder): Embedding(275, 100)\n",
       "          (rnn): LSTM(100, 2048)\n",
       "          (decoder): Linear(in_features=2048, out_features=275, bias=True)\n",
       "        )\n",
       "      )\n",
       "    )\n",
       "    (word_dropout): WordDropout(p=0.05)\n",
       "    (locked_dropout): LockedDropout(p=0.5)\n",
       "    (embedding2nn): Linear(in_features=4296, out_features=4296, bias=True)\n",
       "    (rnn): LSTM(4296, 256, batch_first=True, bidirectional=True)\n",
       "    (linear): Linear(in_features=512, out_features=8, bias=True)\n",
       "    (loss_function): ViterbiLoss()\n",
       "    (crf): CRF()\n",
       "  )\n",
       "  (Task_4): SequenceTagger(\n",
       "    (embeddings): StackedEmbeddings(\n",
       "      (list_embedding_0): WordEmbeddings(\n",
       "        '/home/alan/.flair/embeddings/pubmed_pmc_wiki_sg_1M.gensim'\n",
       "        (embedding): Embedding(1000001, 200)\n",
       "      )\n",
       "      (list_embedding_1): FlairEmbeddings(\n",
       "        (lm): LanguageModel(\n",
       "          (drop): Dropout(p=0.1, inplace=False)\n",
       "          (encoder): Embedding(275, 100)\n",
       "          (rnn): LSTM(100, 2048)\n",
       "          (decoder): Linear(in_features=2048, out_features=275, bias=True)\n",
       "        )\n",
       "      )\n",
       "      (list_embedding_2): FlairEmbeddings(\n",
       "        (lm): LanguageModel(\n",
       "          (drop): Dropout(p=0.1, inplace=False)\n",
       "          (encoder): Embedding(275, 100)\n",
       "          (rnn): LSTM(100, 2048)\n",
       "          (decoder): Linear(in_features=2048, out_features=275, bias=True)\n",
       "        )\n",
       "      )\n",
       "    )\n",
       "    (word_dropout): WordDropout(p=0.05)\n",
       "    (locked_dropout): LockedDropout(p=0.5)\n",
       "    (embedding2nn): Linear(in_features=4296, out_features=4296, bias=True)\n",
       "    (rnn): LSTM(4296, 256, batch_first=True, bidirectional=True)\n",
       "    (linear): Linear(in_features=512, out_features=8, bias=True)\n",
       "    (loss_function): ViterbiLoss()\n",
       "    (crf): CRF()\n",
       "  )\n",
       ")"
      ]
     },
     "execution_count": 4,
     "metadata": {},
     "output_type": "execute_result"
    }
   ],
   "source": [
    "tagger.to('cuda')"
   ]
  },
  {
   "cell_type": "code",
   "execution_count": 12,
   "id": "00177dbc-8957-422c-895c-3ce3bf7fcd46",
   "metadata": {
    "tags": []
   },
   "outputs": [],
   "source": [
    "import multiprocessing as mp\n",
    "import multiprocessing.spawn.spawn"
   ]
  },
  {
   "cell_type": "code",
   "execution_count": null,
   "id": "97d49737-ed43-481a-8515-0c57d992fe1b",
   "metadata": {},
   "outputs": [],
   "source": [
    "mp.sp"
   ]
  },
  {
   "cell_type": "code",
   "execution_count": 5,
   "id": "af06de41-a9b8-4b15-95a3-3cdc277c076e",
   "metadata": {
    "tags": []
   },
   "outputs": [],
   "source": [
    "df=pd.DataFrame(columns=(\"sentence\",\"entity\",\"start_chunck\",\"end_chunk\",\"label\",\"score\"))"
   ]
  },
  {
   "cell_type": "code",
   "execution_count": 4,
   "id": "fae5f6b1-82d1-42dd-8ccc-9b00c7850578",
   "metadata": {
    "tags": []
   },
   "outputs": [],
   "source": [
    "#sentence.get_spans(\"species\")"
   ]
  },
  {
   "cell_type": "code",
   "execution_count": 11,
   "id": "76e3cc49-f9a9-423d-be43-c25f2a0d6ff0",
   "metadata": {
    "tags": []
   },
   "outputs": [
    {
     "name": "stdout",
     "output_type": "stream",
     "text": [
      "FILE READ!!\n"
     ]
    }
   ],
   "source": [
    "file_xml='/data/projects/santal/data/PMC_Articles/oa_comm/xml/all/PMC10000167.xml'#PMC10000014.xml'\n",
    "with open(file_xml, 'r') as f:\n",
    "    data = f.read()\n",
    "articleDetails=ad.ArticleDetails(file_xml)\n",
    "articleDetails.getDetails()\n",
    "sent_id_d=file_xml.split(\"/\")[-1].replace(\".xml\",\"\")\n",
    "df=pd.DataFrame(columns=(\"sent_id\",\"sentence\",\"entity\",\"start_chunck\",\"end_chunk\",\"label\",\"score\"))\n",
    "i=0\n",
    "for key in articleDetails.sections:\n",
    "    sentences = nltk.sent_tokenize(articleDetails.sections[key])\n",
    "    for sentence in sentences:\n",
    "        sentence=Sentence(sentence)\n",
    "        tagger.predict(sentence)\n",
    "        sent_id=sent_id_d+\"_\"+str(i)\n",
    "        for labels in sentence.get_labels():\n",
    "            #print(la.value,la.data_point.text,la.data_point.start_position,la.data_point.end_position)\n",
    "            taggedEntities=[sent_id,sentence.tokenized,labels.data_point.text,labels.data_point.start_position,labels.data_point.end_position,labels.value,round(labels.score,3)]\n",
    "            df.loc[len(df)]=taggedEntities\n",
    "        i=i+1"
   ]
  },
  {
   "cell_type": "code",
   "execution_count": null,
   "id": "f2e61033-4cf1-4608-8fbb-c3922847252c",
   "metadata": {
    "tags": []
   },
   "outputs": [
    {
     "data": {
      "text/html": [
       "<div>\n",
       "<style scoped>\n",
       "    .dataframe tbody tr th:only-of-type {\n",
       "        vertical-align: middle;\n",
       "    }\n",
       "\n",
       "    .dataframe tbody tr th {\n",
       "        vertical-align: top;\n",
       "    }\n",
       "\n",
       "    .dataframe thead th {\n",
       "        text-align: right;\n",
       "    }\n",
       "</style>\n",
       "<table border=\"1\" class=\"dataframe\">\n",
       "  <thead>\n",
       "    <tr style=\"text-align: right;\">\n",
       "      <th></th>\n",
       "      <th>sent_id</th>\n",
       "      <th>sentence</th>\n",
       "      <th>entity</th>\n",
       "      <th>start_chunck</th>\n",
       "      <th>end_chunk</th>\n",
       "      <th>label</th>\n",
       "      <th>score</th>\n",
       "    </tr>\n",
       "  </thead>\n",
       "  <tbody>\n",
       "    <tr>\n",
       "      <th>0</th>\n",
       "      <td>PMC10000167_2</td>\n",
       "      <td>Warm - and cool-season grasses have different ...</td>\n",
       "      <td>carbohydrates</td>\n",
       "      <td>79</td>\n",
       "      <td>92</td>\n",
       "      <td>Chemical</td>\n",
       "      <td>0.991</td>\n",
       "    </tr>\n",
       "    <tr>\n",
       "      <th>1</th>\n",
       "      <td>PMC10000167_2</td>\n",
       "      <td>Warm - and cool-season grasses have different ...</td>\n",
       "      <td>carbohydrate</td>\n",
       "      <td>118</td>\n",
       "      <td>130</td>\n",
       "      <td>Chemical</td>\n",
       "      <td>0.992</td>\n",
       "    </tr>\n",
       "    <tr>\n",
       "      <th>2</th>\n",
       "      <td>PMC10000167_2</td>\n",
       "      <td>Warm - and cool-season grasses have different ...</td>\n",
       "      <td>sugars</td>\n",
       "      <td>138</td>\n",
       "      <td>144</td>\n",
       "      <td>Chemical</td>\n",
       "      <td>0.897</td>\n",
       "    </tr>\n",
       "    <tr>\n",
       "      <th>3</th>\n",
       "      <td>PMC10000167_3</td>\n",
       "      <td>These differences in NSC content are of intere...</td>\n",
       "      <td>equine</td>\n",
       "      <td>52</td>\n",
       "      <td>58</td>\n",
       "      <td>Species</td>\n",
       "      <td>0.742</td>\n",
       "    </tr>\n",
       "    <tr>\n",
       "      <th>4</th>\n",
       "      <td>PMC10000167_3</td>\n",
       "      <td>These differences in NSC content are of intere...</td>\n",
       "      <td>horses</td>\n",
       "      <td>109</td>\n",
       "      <td>115</td>\n",
       "      <td>Species</td>\n",
       "      <td>0.968</td>\n",
       "    </tr>\n",
       "    <tr>\n",
       "      <th>...</th>\n",
       "      <td>...</td>\n",
       "      <td>...</td>\n",
       "      <td>...</td>\n",
       "      <td>...</td>\n",
       "      <td>...</td>\n",
       "      <td>...</td>\n",
       "      <td>...</td>\n",
       "    </tr>\n",
       "    <tr>\n",
       "      <th>706</th>\n",
       "      <td>PMC10000167_624</td>\n",
       "      <td>Fecal BCFA and SCFA concentrations were higher...</td>\n",
       "      <td>SCFA</td>\n",
       "      <td>15</td>\n",
       "      <td>19</td>\n",
       "      <td>Chemical</td>\n",
       "      <td>0.930</td>\n",
       "    </tr>\n",
       "    <tr>\n",
       "      <th>707</th>\n",
       "      <td>PMC10000167_624</td>\n",
       "      <td>Fecal BCFA and SCFA concentrations were higher...</td>\n",
       "      <td>horses</td>\n",
       "      <td>50</td>\n",
       "      <td>56</td>\n",
       "      <td>Species</td>\n",
       "      <td>0.770</td>\n",
       "    </tr>\n",
       "    <tr>\n",
       "      <th>708</th>\n",
       "      <td>PMC10000167_625</td>\n",
       "      <td>The guild-based analytical approach utilized i...</td>\n",
       "      <td>sugar</td>\n",
       "      <td>280</td>\n",
       "      <td>285</td>\n",
       "      <td>Chemical</td>\n",
       "      <td>0.897</td>\n",
       "    </tr>\n",
       "    <tr>\n",
       "      <th>709</th>\n",
       "      <td>PMC10000167_627</td>\n",
       "      <td>and Clostridium butyricum in the hindgut micro...</td>\n",
       "      <td>Clostridium butyricum</td>\n",
       "      <td>4</td>\n",
       "      <td>25</td>\n",
       "      <td>Species</td>\n",
       "      <td>0.770</td>\n",
       "    </tr>\n",
       "    <tr>\n",
       "      <th>710</th>\n",
       "      <td>PMC10000167_627</td>\n",
       "      <td>and Clostridium butyricum in the hindgut micro...</td>\n",
       "      <td>horses</td>\n",
       "      <td>63</td>\n",
       "      <td>69</td>\n",
       "      <td>Species</td>\n",
       "      <td>0.554</td>\n",
       "    </tr>\n",
       "  </tbody>\n",
       "</table>\n",
       "<p>711 rows × 7 columns</p>\n",
       "</div>"
      ],
      "text/plain": [
       "             sent_id                                           sentence  \\\n",
       "0      PMC10000167_2  Warm - and cool-season grasses have different ...   \n",
       "1      PMC10000167_2  Warm - and cool-season grasses have different ...   \n",
       "2      PMC10000167_2  Warm - and cool-season grasses have different ...   \n",
       "3      PMC10000167_3  These differences in NSC content are of intere...   \n",
       "4      PMC10000167_3  These differences in NSC content are of intere...   \n",
       "..               ...                                                ...   \n",
       "706  PMC10000167_624  Fecal BCFA and SCFA concentrations were higher...   \n",
       "707  PMC10000167_624  Fecal BCFA and SCFA concentrations were higher...   \n",
       "708  PMC10000167_625  The guild-based analytical approach utilized i...   \n",
       "709  PMC10000167_627  and Clostridium butyricum in the hindgut micro...   \n",
       "710  PMC10000167_627  and Clostridium butyricum in the hindgut micro...   \n",
       "\n",
       "                    entity  start_chunck  end_chunk     label  score  \n",
       "0            carbohydrates            79         92  Chemical  0.991  \n",
       "1             carbohydrate           118        130  Chemical  0.992  \n",
       "2                   sugars           138        144  Chemical  0.897  \n",
       "3                   equine            52         58   Species  0.742  \n",
       "4                   horses           109        115   Species  0.968  \n",
       "..                     ...           ...        ...       ...    ...  \n",
       "706                   SCFA            15         19  Chemical  0.930  \n",
       "707                 horses            50         56   Species  0.770  \n",
       "708                  sugar           280        285  Chemical  0.897  \n",
       "709  Clostridium butyricum             4         25   Species  0.770  \n",
       "710                 horses            63         69   Species  0.554  \n",
       "\n",
       "[711 rows x 7 columns]"
      ]
     },
     "execution_count": 166,
     "metadata": {},
     "output_type": "execute_result"
    }
   ],
   "source": [
    "df"
   ]
  },
  {
   "cell_type": "code",
   "execution_count": 23,
   "id": "a3138888-a5d5-4dee-9675-7c7285aed77a",
   "metadata": {
    "tags": []
   },
   "outputs": [
    {
     "data": {
      "text/plain": [
       "[]"
      ]
     },
     "execution_count": 23,
     "metadata": {},
     "output_type": "execute_result"
    }
   ],
   "source": [
    "sentTag.get_labels()"
   ]
  },
  {
   "cell_type": "code",
   "execution_count": 13,
   "id": "6611dbc0-3105-420d-b66b-bb9016302a7d",
   "metadata": {
    "tags": []
   },
   "outputs": [
    {
     "data": {
      "text/plain": [
       "'Behavioral abnormalities in the Fmr1 KO2 Mouse Model of Fragile X Syndrome'"
      ]
     },
     "execution_count": 13,
     "metadata": {},
     "output_type": "execute_result"
    }
   ],
   "source": [
    "sentence.text"
   ]
  },
  {
   "cell_type": "code",
   "execution_count": 129,
   "id": "27f00c08-74b7-42e1-a855-296e0f667960",
   "metadata": {
    "tags": []
   },
   "outputs": [],
   "source": [
    "sentence = Sentence(\"Behavioral abnormalities in the Fmr1 KO2 Mouse Model of Fragile X Syndrome\")\n",
    "tagger.predict(sentence)"
   ]
  },
  {
   "cell_type": "code",
   "execution_count": 131,
   "id": "21d3b2d2-233a-471e-9233-d4942fc8184c",
   "metadata": {
    "tags": []
   },
   "outputs": [
    {
     "data": {
      "text/plain": [
       "flair.data.Sentence"
      ]
     },
     "execution_count": 131,
     "metadata": {},
     "output_type": "execute_result"
    }
   ],
   "source": [
    "type(sentence)"
   ]
  },
  {
   "cell_type": "code",
   "execution_count": 60,
   "id": "24538218-beed-4961-9949-860c8a3bd27b",
   "metadata": {
    "tags": []
   },
   "outputs": [
    {
     "name": "stdout",
     "output_type": "stream",
     "text": [
      "Span[0:2]: \"Behavioral abnormalities\" → Disease (0.6736)\n"
     ]
    },
    {
     "ename": "AttributeError",
     "evalue": "'Label' object has no attribute 'labels'",
     "output_type": "error",
     "traceback": [
      "\u001b[0;31m---------------------------------------------------------------------------\u001b[0m",
      "\u001b[0;31mAttributeError\u001b[0m                            Traceback (most recent call last)",
      "Cell \u001b[0;32mIn[60], line 3\u001b[0m\n\u001b[1;32m      1\u001b[0m \u001b[38;5;28;01mfor\u001b[39;00m entity \u001b[38;5;129;01min\u001b[39;00m sentence\u001b[38;5;241m.\u001b[39mget_labels():\n\u001b[1;32m      2\u001b[0m     \u001b[38;5;28mprint\u001b[39m(entity)\n\u001b[0;32m----> 3\u001b[0m     \u001b[38;5;28;01mfor\u001b[39;00m e \u001b[38;5;129;01min\u001b[39;00m \u001b[43mentity\u001b[49m\u001b[38;5;241;43m.\u001b[39;49m\u001b[43mlabels\u001b[49m:\n\u001b[1;32m      4\u001b[0m         \u001b[38;5;28mprint\u001b[39m(e,entity\u001b[38;5;241m.\u001b[39mtext)\n",
      "\u001b[0;31mAttributeError\u001b[0m: 'Label' object has no attribute 'labels'"
     ]
    }
   ],
   "source": [
    "for keys in sentence.annotation_layers.keys():\n",
    "    print(sentence.annotation_layers[\"key\"])\n",
    "    for e in entity.labels:\n",
    "        print(e,entity.text)"
   ]
  },
  {
   "cell_type": "code",
   "execution_count": 100,
   "id": "63c049f0-115a-4835-8aa1-03dbe17ab75a",
   "metadata": {
    "tags": []
   },
   "outputs": [
    {
     "name": "stdout",
     "output_type": "stream",
     "text": [
      "Span[0:2]: \"Behavioral abnormalities\" → Disease (0.6736)\n",
      "Span[0:2]: \"Behavioral abnormalities\" → Disease (0.6736)\n",
      "Span[0:2]: \"Behavioral abnormalities\" → Disease (0.6736)\n"
     ]
    }
   ],
   "source": [
    "for key in sentence.annotation_layers.keys():\n",
    "    print(sentence.get_label())\n"
   ]
  },
  {
   "cell_type": "code",
   "execution_count": 105,
   "id": "5fa5647d-5627-4f6c-8d94-803559c90da3",
   "metadata": {
    "tags": []
   },
   "outputs": [
    {
     "name": "stdout",
     "output_type": "stream",
     "text": [
      "Disease Behavioral abnormalities 0 24\n",
      "Gene Fmr1 32 36\n",
      "Species Mouse 41 46\n",
      "Disease Fragile X Syndrome 56 74\n"
     ]
    },
    {
     "data": {
      "text/plain": [
       "('Disease', 'Behavioral abnormalities')"
      ]
     },
     "execution_count": 105,
     "metadata": {},
     "output_type": "execute_result"
    }
   ],
   "source": [
    "for la in sentence.get_labels():\n",
    "    print(la.value,la.data_point.text,la.data_point.start_position,la.data_point.end_position)"
   ]
  },
  {
   "cell_type": "code",
   "execution_count": 63,
   "id": "c212b069-fc0a-440c-a51e-6ea84d5486c5",
   "metadata": {
    "tags": []
   },
   "outputs": [],
   "source": [
    "import flair"
   ]
  },
  {
   "cell_type": "code",
   "execution_count": 9,
   "id": "b164ff01-045d-45ab-a314-547c64e67d0a",
   "metadata": {
    "tags": []
   },
   "outputs": [
    {
     "name": "stdout",
     "output_type": "stream",
     "text": [
      "Species\n"
     ]
    }
   ],
   "source": [
    "print(sentence.to_dict()[\"all labels\"][-1][\"value\"])"
   ]
  },
  {
   "cell_type": "code",
   "execution_count": 8,
   "id": "921fb0e2-c9aa-4b4c-86fc-97ac2db036a3",
   "metadata": {
    "tags": []
   },
   "outputs": [],
   "source": [
    "import sys"
   ]
  },
  {
   "cell_type": "code",
   "execution_count": 9,
   "id": "6495a094-2889-4d8c-a939-405b5ff2ee4e",
   "metadata": {
    "tags": []
   },
   "outputs": [],
   "source": [
    "sys.path.append(\"/home/aberhe/Projects/SANTAL/ASLR/\")"
   ]
  },
  {
   "cell_type": "code",
   "execution_count": 10,
   "id": "9b94a379-dc57-4009-bac6-4b3bac840466",
   "metadata": {
    "tags": []
   },
   "outputs": [],
   "source": [
    "import src.artcileDetail_xml as ad"
   ]
  },
  {
   "cell_type": "code",
   "execution_count": 113,
   "id": "fecff486-688b-49a1-a158-29e8c2b976b8",
   "metadata": {
    "tags": []
   },
   "outputs": [],
   "source": [
    "file_xml='/data/projects/santal/data/PMC_Articles/oa_comm/xml/all/PMC10000167.xml'#PMC10000014.xml'\n",
    "with open(file_xml, 'r') as f:\n",
    "    data = f.read()"
   ]
  },
  {
   "cell_type": "code",
   "execution_count": 114,
   "id": "40cd4563-2796-4012-9401-0375b32b8011",
   "metadata": {
    "tags": []
   },
   "outputs": [
    {
     "name": "stdout",
     "output_type": "stream",
     "text": [
      "FILE READ!!\n"
     ]
    }
   ],
   "source": [
    "articleDetails=ad.ArticleDetails(file_xml)\n",
    "articleDetails.getDetails()"
   ]
  },
  {
   "cell_type": "code",
   "execution_count": 115,
   "id": "cedcc09b-7eee-4c88-99d9-105c57cd0a3b",
   "metadata": {
    "tags": []
   },
   "outputs": [
    {
     "data": {
      "text/plain": [
       "{'Simple Summary': 'Incorporating warm-season grasses into traditional cool-season grass equine rotational grazing systems can increase pasture availability during hot, dry months and bridge the “summer slump” forage gap. The objective of this study was to evaluate the impacts of this pasture management practice on the equine microbiome and to explore relationships between the fecal microbiota, forage nutrients, and metabolic responses of grazing horses. Results of this study indicate that distinct changes in microbial community structure and composition occur as horses adapt to different forages and that shifts in the microbial community were most influenced by forage non-structural carbohydrates and crude protein, rather than fiber. Interrelationships were found between these nutrients, glycemic responses, and Akkermansia and Clostridium butyricum. These bacteria were also found to be enriched in horses adapted to warm-season grasses. While the results of this study suggest that integrating warm-season grasses may not offer substantial metabolic benefits in healthy adult horses, this study did reveal new insights and targets for future research necessary to better understand the function of Akkermansia and Clostridium butyricum in the hindgut microbiome of grazing horses and possible roles in modulation of equine metabolic health. \\n',\n",
       " 'Abstract': 'Integrating warm-season grasses into cool-season equine grazing systems can increase pasture availability during summer months. The objective of this study was to evaluate effects of this management strategy on the fecal microbiome and relationships between fecal microbiota, forage nutrients, and metabolic responses of grazing horses. Fecal samples were collected from 8 mares after grazing cool-season pasture in spring, warm-season pasture in summer, and cool-season pasture in fall as well as after adaptation to standardized hay diets prior to spring grazing and at the end of the grazing season. Random forest classification was able to predict forage type based on microbial composition (accuracy: 0.90 ± 0.09); regression predicted forage crude protein (CP) and non-structural carbohydrate (NSC) concentrations (p < 0.0001). Akkermansia and Clostridium butyricum were enriched in horses grazing warm-season pasture and were positively correlated with CP and negatively with NSC; Clostridum butyricum was negatively correlated with peak plasma glucose concentrations following oral sugar tests (p ≤ 0.05). These results indicate that distinct shifts in the equine fecal microbiota occur in response different forages. Based on relationships identified between the microbiota, forage nutrients, and metabolic responses, further research should focus on the roles of Akkermansia spp. and Clostridium butyricum within the equine hindgut.\\n'}"
      ]
     },
     "execution_count": 115,
     "metadata": {},
     "output_type": "execute_result"
    }
   ],
   "source": [
    "articleDetails.abstract"
   ]
  },
  {
   "cell_type": "code",
   "execution_count": 128,
   "id": "fae5b1e5-6542-4b38-9d3e-d98ae19b222a",
   "metadata": {
    "tags": []
   },
   "outputs": [
    {
     "data": {
      "text/plain": [
       "46"
      ]
     },
     "execution_count": 128,
     "metadata": {},
     "output_type": "execute_result"
    }
   ],
   "source": [
    "len(sentence)"
   ]
  },
  {
   "cell_type": "code",
   "execution_count": 39,
   "id": "b3de83ba-e32b-4702-b3b7-ac2b62831be7",
   "metadata": {
    "tags": []
   },
   "outputs": [
    {
     "data": {
      "text/plain": [
       "{'Simple Summary': 'The capital shortage for marine ranch construction will reduce their economic, ecological, and social benefits. By constructing the supply chain decision model to solve and analyze the results, we found that the change of the products’ environmental friendliness and the environmental enrichment degree of the marine ranching companies will affect the marine ranching construction level, and they are positively correlated. In addition, the enhancement of the guiding effect of government guidance fund can break through the dilemma of enterprise capital shortage and optimize the establishment and development level of marine ranching.\\n',\n",
       " 'Abstract': 'The construction of marine ranching is a concrete practice to fulfil the strategic objective of China’s maritime power. The shortage of funds has turned into an important issue to be resolved urgently in the modernization of marine ranching. This study constructs a supply chain system, involving a leading enterprise of marine ranching with short funds and a retailer, and introduces the government guidance fund to solve the issue of capital shortage. Then, we discuss the supply chain financing decision under two different power structure modes, and analyze the product environmental attribute (the product’s environmental friendliness and the environmental enrichment) and the guiding effect of government investment on the operation of different modes. The research shows that: (1) The wholesale price of products is mainly influenced by the dominant position of the marine ranching leading enterprise. Furthermore, the wholesale price and the marine ranching company’s profits increase with the growth of the product environmental attribute. (2) The retailer’s profit and the supply chain system’s profit are mainly affected by the dominant power of the retailer and are positively correlated with the product environmental attribute. In addition, the supply chain system’s overall profits are negatively related to the guiding effect of government investment. \\n'}"
      ]
     },
     "execution_count": 39,
     "metadata": {},
     "output_type": "execute_result"
    }
   ],
   "source": [
    "articleDetails.abstract"
   ]
  },
  {
   "cell_type": "code",
   "execution_count": 45,
   "id": "3990ad7c-52d2-4206-bed6-7f80dfc4ef59",
   "metadata": {
    "tags": []
   },
   "outputs": [
    {
     "data": {
      "text/plain": [
       "dict_keys(['metadata', 'title', 'abstract', 'keywords', 'sections', 'references', 'soup'])"
      ]
     },
     "execution_count": 45,
     "metadata": {},
     "output_type": "execute_result"
    }
   ],
   "source": [
    "articleDetails.__dict__.keys()"
   ]
  },
  {
   "cell_type": "code",
   "execution_count": 154,
   "id": "efbace97-4cd8-468c-b523-4b47856ed1ba",
   "metadata": {
    "tags": []
   },
   "outputs": [],
   "source": [
    "sentences = nltk.sent_tokenize(articleDetails.sections[key])\n",
    "sentences=Sentence(sentences)"
   ]
  },
  {
   "cell_type": "code",
   "execution_count": 149,
   "id": "f4804dde-c2fa-401f-97ba-9da751e7dd53",
   "metadata": {
    "tags": []
   },
   "outputs": [],
   "source": [
    "sentences=tagger.predict(sentences)"
   ]
  },
  {
   "cell_type": "code",
   "execution_count": 153,
   "id": "1be900cb-9b53-427e-8a9b-48840ad1f48e",
   "metadata": {
    "tags": []
   },
   "outputs": [
    {
     "name": "stdout",
     "output_type": "stream",
     "text": [
      "None\n"
     ]
    }
   ],
   "source": [
    "print(sentences)"
   ]
  },
  {
   "cell_type": "code",
   "execution_count": 116,
   "id": "4d56c99f-e91c-4608-86ad-21dcc54034e1",
   "metadata": {
    "tags": []
   },
   "outputs": [
    {
     "name": "stdout",
     "output_type": "stream",
     "text": [
      "Warm- and cool-season grasses have different mechanisms for storage of soluble carbohydrates [4], with non-structural carbohydrate (NSC = sugars + starch + fructans) concentrations in cool-season grasses typically greater than that of warm-season grasses [1,5].\n",
      "Span[12:13]: \"carbohydrates\" → Chemical (0.9907)\n",
      "Span[19:20]: \"carbohydrate\" → Chemical (0.9919)\n",
      "Span[23:24]: \"sugars\" → Chemical (0.8969)\n",
      "********************\n",
      "These differences in NSC content are of interest in equine management as current feeding recommendations for horses with existing metabolic dysfunction include limiting dietary NSC concentrations [6,7,8].\n",
      "Span[9:10]: \"equine\" → Species (0.7423)\n",
      "Span[16:17]: \"horses\" → Species (0.9682)\n",
      "Span[19:21]: \"metabolic dysfunction\" → Disease (0.7248)\n",
      "Span[24:25]: \"NSC\" → Chemical (0.661)\n",
      "********************\n",
      "Feeding supplemental concentrate higher in NSC has been shown to lower insulin sensitivity in horses [10,11,12], but over the relatively smaller range of NSC concentrations observed in forages, potential benefits of limiting NSC intake are less clear [13,14,15].\n",
      "Span[5:6]: \"NSC\" → CellLine (0.9263)\n",
      "Span[11:12]: \"insulin\" → Gene (0.9421)\n",
      "Span[14:15]: \"horses\" → Species (0.949)\n",
      "********************\n",
      "However, glycemic and insulinemic responses of horses grazing low-NSC warm-season grasses have not been extensively evaluated.\n",
      "Span[7:8]: \"horses\" → Species (0.9124)\n",
      "********************\n",
      "In addition to the potential metabolic effects, transitioning horses between forage types may also have implications for equine gastrointestinal health.\n",
      "Span[9:10]: \"horses\" → Species (0.9318)\n",
      "********************\n",
      "Diet has been identified as a dominant factor shaping the community structure of the gut microbiota both in humans and across animal species including horses [16,17].\n",
      "Span[18:19]: \"humans\" → Species (0.9154)\n",
      "Span[24:25]: \"horses\" → Species (0.7653)\n",
      "********************\n",
      "However, prior studies on the influence of diet on the equine hindgut microbiome have focused primarily on concentrate vs. concentrate or concentrate vs. forage diets [18,19,20,21].\n",
      "Span[11:12]: \"equine\" → Species (0.7798)\n",
      "********************\n",
      "Recent studies have demonstrated that type of hay (alfalfa vs. grass) and transitions between hay and pasture grass can impact equine cecal or fecal microbial community composition [22,23].\n",
      "Span[9:10]: \"alfalfa\" → Species (0.8291)\n",
      "********************\n",
      "Overall, few studies have evaluated the hindgut microbiome of grazing horses and only one previous study has been conducted in horses grazing cool- vs. warm-season pasture grasses [24].\n",
      "Span[11:12]: \"horses\" → Species (0.6651)\n",
      "Span[21:22]: \"horses\" → Species (0.8042)\n",
      "********************\n",
      "[28] explored relationships between abundance profiles of fecal microbial taxa, feed types (pasture, hay, or hay supplemented with concentrate), and blood analytes including circulating glucose and insulin, finding negative correlations between insulin and over 50 taxa.\n",
      "Span[18:19]: \"hay\" → Species (0.7525)\n",
      "Span[21:22]: \"hay\" → Species (0.5594)\n",
      "Span[32:33]: \"glucose\" → Chemical (0.9902)\n",
      "Span[34:35]: \"insulin\" → Gene (0.9037)\n",
      "Span[40:41]: \"insulin\" → Gene (0.9327)\n",
      "********************\n",
      "Studies conducted in mouse models have conclusively demonstrated that changes in diet influence host metabolism in a microbiome-dependent manner [29,30].\n",
      "Span[3:4]: \"mouse\" → Species (0.9009)\n",
      "********************\n",
      "Therefore, the aims of this study were to characterize shifts in glucose metabolism and the fecal microbiota of horses adapted to different forage types and to explore relationships between forage nutrients, microbial composition, fecal metabolites, and metabolic responses of grazing horses.\n",
      "Span[12:13]: \"glucose\" → Chemical (0.9881)\n",
      "Span[19:20]: \"horses\" → Species (0.81)\n",
      "Span[44:45]: \"horses\" → Species (0.5491)\n",
      "********************\n"
     ]
    }
   ],
   "source": [
    "# initialize the sentence splitter\n",
    "#splitter = SciSpacySentenceSplitter()\n",
    "for key in articleDetails.sections.keys():\n",
    "    sentences = nltk.sent_tokenize(articleDetails.sections[key])\n",
    "    for sentence in sentences:\n",
    "        #print(sentence.replace(\"\\n\",\"\").strip())\n",
    "        sentence1=sentence.replace(\"\\n\",\"\").strip()\n",
    "        sentence = Sentence(sentence1)\n",
    "        tagger.predict(sentence)\n",
    "        if sentence.get_labels()!=[]:\n",
    "            print(sentence1)\n",
    "            for entity in sentence.get_labels():\n",
    "                print(entity)\n",
    "            print(\"*\"*20)\n",
    "    break"
   ]
  },
  {
   "cell_type": "code",
   "execution_count": 3,
   "id": "5e01afe9-4a40-4161-a704-3ffd5eced167",
   "metadata": {},
   "outputs": [],
   "source": [
    "def loadArticle(filePath):\n",
    "    f=open(filePath)\n",
    "    jsonData=json.load(f)\n",
    "    \n",
    "    return jsonData"
   ]
  },
  {
   "cell_type": "code",
   "execution_count": 4,
   "id": "f398b918-b570-4fe5-a505-948388a80005",
   "metadata": {},
   "outputs": [],
   "source": [
    "def flairNER(sentences,tagger):\n",
    "    sentence = Sentence(sentences)\n",
    "    # run NER over sentence\n",
    "    tagger.predict(sentence)\n",
    "    \n",
    "    return sentence"
   ]
  },
  {
   "cell_type": "code",
   "execution_count": 5,
   "id": "ed513dc2-a20d-4b74-93dd-adb98e2e98e1",
   "metadata": {},
   "outputs": [
    {
     "name": "stdout",
     "output_type": "stream",
     "text": [
      "2023-01-16 13:54:22,069 loading file C:\\Users\\aberhe\\.flair\\models\\hunflair-celline-v1.0.pt\n",
      "2023-01-16 13:54:31,557 loading file C:\\Users\\aberhe\\.flair\\models\\hunflair-chemical-full-v1.0.pt\n",
      "2023-01-16 13:54:45,461 loading file C:\\Users\\aberhe\\.flair\\models\\hunflair-disease-full-v1.0.pt\n",
      "2023-01-16 13:55:05,041 loading file C:\\Users\\aberhe\\.flair\\models\\hunflair-gene-full-v1.0.pt\n",
      "2023-01-16 13:55:19,577 loading file C:\\Users\\aberhe\\.flair\\models\\hunflair-species-full-v1.1.pt\n"
     ]
    }
   ],
   "source": [
    "# load the NER tagger: just once\n",
    "#tagger = SequenceTagger.load('hunflair-disease')\n",
    "mTagger=MultiTagger.load('hunflair')"
   ]
  },
  {
   "cell_type": "code",
   "execution_count": 2,
   "id": "f9664c80-a540-4f89-9580-13dcf266e147",
   "metadata": {},
   "outputs": [],
   "source": [
    "MODEL_NAMES=['disease','cell-line','chemicals','gene','species']"
   ]
  },
  {
   "cell_type": "code",
   "execution_count": null,
   "id": "353aa7e9-32e3-4d52-a004-f12082a62db7",
   "metadata": {
    "tags": []
   },
   "outputs": [],
   "source": [
    "print('The aetiology of inflammatory bowel diseases (IBD) seems to be strongly connected to changes in the enteral microbiome. The dysbiosis pattern seen in Crohn’s disease (CD) differs among published studies depending on patients’ age, disease phenotype and microbiome research methods. The aims was to investigate microbiome in treatment-naive paediatric patients to get an insight into its structure at the early stage of the disease in comparison to healthy. Stool samples were obtained from controls and newly diagnosed patients prior to any intervention. Microbiota was analysed by 16SrRNAnext-generation-sequencing (NGS). Differences in the within-sample phylotype richness and evenness (alpha diversity) were detected between controls and patients. Statistically significant dissimilarities between samples were present for all used metrics. We also found a significant increase in the abundance of OTUs of the Enterococcus genus and reduction in, among others, Bifidobacterium (B. adolescentis), Roseburia (R.faecis), Faecalibacterium (F. prausnitzii), Gemmiger (G. formicilis), Ruminococcus (R. bromii) and Veillonellaceae (Dialister). Moreover, differences in alpha and beta diversities in respect to calprotectin and PCDAI were observed: patients with calprotectin <100\\u2009µg/g and with PCDAI below 10 points vs those with calprotectin >100\\u2009µg/g and mild (10–27.7 points), moderate (27.5–40 points) or severe (>40 points) CD disease activity had higher richness and diversity of gut microbiota. The results of our study highlight reduced diversity and dysbiosis at the earliest stage of the disease. Microbial imbalance and low abundance of butyrate-producing bacteria, including Bifidobacterium adolescentis, may suggest benefits of microbial modification therapy.')"
   ]
  },
  {
   "cell_type": "code",
   "execution_count": 6,
   "id": "637d8d7f-ac18-42c0-9aa6-813375c591f0",
   "metadata": {},
   "outputs": [
    {
     "name": "stdout",
     "output_type": "stream",
     "text": [
      "2023-01-16 13:57:22,684 loading file C:\\Users\\aberhe\\.flair\\models\\hunflair-celline-v1.0.pt\n",
      "2023-01-16 13:57:29,606 loading file C:\\Users\\aberhe\\.flair\\models\\hunflair-chemical-full-v1.0.pt\n",
      "2023-01-16 13:57:38,916 loading file C:\\Users\\aberhe\\.flair\\models\\hunflair-disease-full-v1.0.pt\n",
      "2023-01-16 13:57:52,219 loading file C:\\Users\\aberhe\\.flair\\models\\hunflair-gene-full-v1.0.pt\n",
      "2023-01-16 13:58:01,269 loading file C:\\Users\\aberhe\\.flair\\models\\hunflair-species-full-v1.1.pt\n"
     ]
    },
    {
     "name": "stderr",
     "output_type": "stream",
     "text": [
      "c:\\ProgramData\\Anaconda3\\envs\\qenv\\lib\\site-packages\\flair\\models\\sequence_tagger_model.py:1046: UserWarning: We recommend to use SciSpaCy for tokenization and sentence splitting if HunFlair is applied to biomedical text, e.g.\n",
      "\n",
      "from flair.tokenization import SciSpacySentenceSplitter\n",
      "sentence = Sentence('Your biomed text', use_tokenizer=SciSpacySentenceSplitter())\n",
      "\n",
      "  warn(\n"
     ]
    }
   ],
   "source": [
    "sentence = Sentence('The aetiology of inflammatory bowel diseases (IBD) seems to be strongly connected to changes in the enteral microbiome. The dysbiosis pattern seen in Crohn’s disease (CD) differs among published studies depending on patients’ age, disease phenotype and microbiome research methods. The aims was to investigate microbiome in treatment-naive paediatric patients to get an insight into its structure at the early stage of the disease in comparison to healthy. Stool samples were obtained from controls and newly diagnosed patients prior to any intervention. Microbiota was analysed by 16SrRNAnext-generation-sequencing (NGS). Differences in the within-sample phylotype richness and evenness (alpha diversity) were detected between controls and patients. Statistically significant dissimilarities between samples were present for all used metrics. We also found a significant increase in the abundance of OTUs of the Enterococcus genus and reduction in, among others, Bifidobacterium (B. adolescentis), Roseburia (R.faecis), Faecalibacterium (F. prausnitzii), Gemmiger (G. formicilis), Ruminococcus (R. bromii) and Veillonellaceae (Dialister). Moreover, differences in alpha and beta diversities in respect to calprotectin and PCDAI were observed: patients with calprotectin <100\\u2009µg/g and with PCDAI below 10 points vs those with calprotectin >100\\u2009µg/g and mild (10–27.7 points), moderate (27.5–40 points) or severe (>40 points) CD disease activity had higher richness and diversity of gut microbiota. The results of our study highlight reduced diversity and dysbiosis at the earliest stage of the disease. Microbial imbalance and low abundance of butyrate-producing bacteria, including Bifidobacterium adolescentis, may suggest benefits of microbial modification therapy.')\n",
    "\n",
    "# load the NER tagger\n",
    "#tagger = SequenceTagger.load('hunflair-disease')\n",
    "tagger=MultiTagger.load(\"hunflair\")\n",
    "\n",
    "# run NER over sentence\n",
    "tagger.predict(sentence)"
   ]
  },
  {
   "cell_type": "code",
   "execution_count": 16,
   "id": "b6231e1f-b768-42c1-b33d-34de6e6b8a45",
   "metadata": {},
   "outputs": [
    {
     "name": "stdout",
     "output_type": "stream",
     "text": [
      "The aetiology of inflammatory <B-Disease> bowel <I-Disease> diseases <E-Disease> ( IBD <S-Disease> ) seems to be strongly connected to changes in the enteral microbiome . The dysbiosis pattern seen in Crohn <B-Disease> ’s <I-Disease> disease <E-Disease> ( CD <S-Disease> ) differs among published studies depending on patients’ age , disease phenotype and microbiome research methods . The aims was to investigate microbiome in treatment-naive paediatric patients to get an insight into its structure at the early stage of the disease in comparison to healthy . Stool samples were obtained from controls and newly diagnosed patients prior to any intervention . Microbiota was analysed by 16SrRNAnext-generation-sequencing ( NGS ) . Differences in the within-sample phylotype richness and evenness ( alpha diversity ) were detected between controls and patients . Statistically significant dissimilarities between samples were present for all used metrics . We also found a significant increase in the abundance of OTUs of the Enterococcus genus and reduction in , among others , Bifidobacterium ( B. <B-Species> adolescentis <E-Species> ) , Roseburia ( R.faecis <S-Species> ) , Faecalibacterium ( F. <B-Species> prausnitzii <E-Species> ) , Gemmiger ( G. <B-Species> formicilis <E-Species> ) , Ruminococcus ( R. <B-Species> bromii <E-Species> ) and Veillonellaceae ( Dialister ) . Moreover , differences in alpha and beta diversities in respect to calprotectin <S-Gene> and PCDAI were observed : patients with calprotectin <S-Gene> < 100 µg / g and with PCDAI below 10 points vs those with calprotectin <S-Gene> > 100 µg / g and mild ( 10 – 27.7 points ) , moderate ( 27.5 – 40 points ) or severe (> 40 points ) CD <S-Disease> disease activity had higher richness and diversity of gut microbiota . The results of our study highlight reduced diversity and dysbiosis at the earliest stage of the disease . Microbial imbalance and low abundance of butyrate-producing bacteria , including Bifidobacterium <B-Species> adolescentis <E-Species> , may suggest benefits of microbial modification therapy .\n"
     ]
    }
   ],
   "source": [
    "print(sentence.to_tagged_string())"
   ]
  },
  {
   "cell_type": "code",
   "execution_count": 9,
   "id": "07cbcc91-3c25-4532-a3ea-0fc3d5addf58",
   "metadata": {},
   "outputs": [],
   "source": [
    "#Load Articles from the following Path\n",
    "pathArticles=r\"C:\\\\Users\\\\aberhe\\\\Desktop\\\\PostDoc\\\\Projects\\\\SR\\\\SR project\\\\downloadedArticles\\\\Included Articles\\\\Cirrhosis\\\\Veillonella\"\n",
    "\n",
    "folder=r\"Alistipes\"\n",
    "file=pathArticles+'\\\\'+os.listdir(pathArticles)[2]\n",
    "\n",
    "#A file to the predomics papers\n",
    "file=r'C:\\\\Users\\\\aberhe\\\\Desktop\\\\PostDoc\\\\Projects\\\\SANTAL\\\\codes\\\\Article_Extraction\\\\veillonella\\\\PMC7062144.json'"
   ]
  },
  {
   "cell_type": "code",
   "execution_count": 10,
   "id": "009cbdbf-b8c3-41a8-a7cc-5d7246b9879d",
   "metadata": {},
   "outputs": [
    {
     "data": {
      "text/plain": [
       "9"
      ]
     },
     "execution_count": 10,
     "metadata": {},
     "output_type": "execute_result"
    }
   ],
   "source": [
    "file_Veillonella=os.listdir(pathArticles)\n",
    "len(file_Veillonella)"
   ]
  },
  {
   "cell_type": "code",
   "execution_count": null,
   "id": "3457c22c-d036-48db-8561-138dc9948554",
   "metadata": {},
   "outputs": [],
   "source": [
    "fileList=[os.path.join(pathArticles,file) for file in file_Veillonella]"
   ]
  },
  {
   "cell_type": "code",
   "execution_count": 5,
   "id": "dace7d5f-6e84-4834-8f95-cc7c40258ef3",
   "metadata": {
    "tags": []
   },
   "outputs": [],
   "source": [
    "def getEntitiesSpaciesDisease(filesList=None,part_of_article='full',output_file=\"All_Vellonella_Articles\"):\n",
    "    df=pd.DataFrame(columns=[\"text\",\"entity1\",\"entity2\",\"joined_text\"])\n",
    "    if filesList==None:\n",
    "        return None\n",
    "    else:\n",
    "        for file in filesList:\n",
    "            jsonData=loadArticle(file)\n",
    "            artDet=ArticleDetails(jsonData)\n",
    "            artDet.getDetails() \n",
    "            \n",
    "            if part_of_article=='full':\n",
    "                absSent=artDet.fullArticle.strip()\n",
    "            \n",
    "            elif part_of_article=='abstract':\n",
    "                absSent=artDet.abstract.strip()\n",
    "            \n",
    "            absSent=nltk.sent_tokenize(absSent)\n",
    "            for sent in tqdm(absSent): \n",
    "                nerAbs=flairNER(sent,tagger=mTagger)\n",
    "                chemicals=nerAbs.to_dict('hunflair-chemical')\n",
    "                disease=nerAbs.to_dict('hunflair-disease')\n",
    "                spacies=nerAbs.to_dict('hunflair-species')\n",
    "                genes=nerAbs.to_dict('hunflair-gene')\n",
    "                cell_line=nerAbs.to_dict('hunflair-celline')\n",
    "                \n",
    "                s=[e[\"text\"] if spacies[\"entities\"]!=[] else [] for e in spacies[\"entities\"]]\n",
    "                d=[e[\"text\"] if disease[\"entities\"]!=[] else [] for e in disease[\"entities\"] ]\n",
    "                c=[e[\"text\"] if chemicals[\"entities\"]!=[] else [] for e in chemicals[\"entities\"]]\n",
    "                g=[e[\"text\"] if genes[\"entities\"]!=[] else [] for e in genes[\"entities\"]]\n",
    "                l=[e[\"text\"] if cell_line[\"entities\"]!=[] else [] for e in cell_line[\"entities\"]]\n",
    "                \n",
    "                pairs_d_s=[[a, b] for a in d for b in s]\n",
    "                \n",
    "                pairs_c_s=[[a, b] for a in c for b in s]\n",
    "                \n",
    "                pairs_g_s=[[a, b] for a in g for b in s]\n",
    "                \n",
    "                pairs_l_s=[[a, b] for a in l for b in s]\n",
    "                \n",
    "                all_pairs=pairs_d_s+pairs_c_s+pairs_g_s+pairs_l_s\n",
    "                \n",
    "                for pairs in all_pairs:\n",
    "                    joined_text=pairs[1]+\" , \"+ sent+\" , \"+pairs[0]\n",
    "                    df.loc[len(df)]=[sent,pairs[1],pairs[0],joined_text]\n",
    "        df.to_csv(output_file+\".csv\")\n",
    "        return df"
   ]
  },
  {
   "cell_type": "code",
   "execution_count": null,
   "id": "afaba783-c79a-470f-94ea-53fede67b4c8",
   "metadata": {},
   "outputs": [],
   "source": []
  },
  {
   "cell_type": "code",
   "execution_count": 95,
   "id": "9fda52e3-45d8-4bc7-b793-3dd4a60843d3",
   "metadata": {},
   "outputs": [
    {
     "name": "stderr",
     "output_type": "stream",
     "text": [
      "100%|████████████████████████████████████████████████████████████████████████████████| 133/133 [03:40<00:00,  1.66s/it]\n",
      "100%|████████████████████████████████████████████████████████████████████████████████| 125/125 [03:22<00:00,  1.62s/it]\n",
      "100%|████████████████████████████████████████████████████████████████████████████████| 174/174 [04:07<00:00,  1.43s/it]\n",
      "100%|████████████████████████████████████████████████████████████████████████████████| 321/321 [08:06<00:00,  1.52s/it]\n",
      "100%|████████████████████████████████████████████████████████████████████████████████| 368/368 [08:13<00:00,  1.34s/it]\n",
      "100%|████████████████████████████████████████████████████████████████████████████████| 246/246 [06:22<00:00,  1.56s/it]\n",
      "100%|████████████████████████████████████████████████████████████████████████████████| 236/236 [05:14<00:00,  1.33s/it]\n",
      "100%|████████████████████████████████████████████████████████████████████████████████| 405/405 [09:53<00:00,  1.47s/it]\n",
      "100%|████████████████████████████████████████████████████████████████████████████████| 163/163 [03:52<00:00,  1.42s/it]\n"
     ]
    }
   ],
   "source": [
    "df_Veillonella=getEntitiesSpaciesDisease(filesList=fileList)"
   ]
  },
  {
   "cell_type": "code",
   "execution_count": 8,
   "id": "89f9ca1c-ceb2-4e0a-9886-a9142506a5f1",
   "metadata": {},
   "outputs": [
    {
     "ename": "NameError",
     "evalue": "name 'file' is not defined",
     "output_type": "error",
     "traceback": [
      "\u001b[1;31m---------------------------------------------------------------------------\u001b[0m",
      "\u001b[1;31mNameError\u001b[0m                                 Traceback (most recent call last)",
      "\u001b[1;32mc:\\Users\\aberhe\\Desktop\\PostDoc\\Projects\\SANTAL\\codes\\Article_Extraction\\nerFlair.ipynb Cell 20\u001b[0m in \u001b[0;36m<cell line: 1>\u001b[1;34m()\u001b[0m\n\u001b[1;32m----> <a href='vscode-notebook-cell:/c%3A/Users/aberhe/Desktop/PostDoc/Projects/SANTAL/codes/Article_Extraction/nerFlair.ipynb#X25sZmlsZQ%3D%3D?line=0'>1</a>\u001b[0m jsonData\u001b[39m=\u001b[39mloadArticle(file)\n\u001b[0;32m      <a href='vscode-notebook-cell:/c%3A/Users/aberhe/Desktop/PostDoc/Projects/SANTAL/codes/Article_Extraction/nerFlair.ipynb#X25sZmlsZQ%3D%3D?line=2'>3</a>\u001b[0m artDet\u001b[39m=\u001b[39mArticleDetails(jsonData)\n\u001b[0;32m      <a href='vscode-notebook-cell:/c%3A/Users/aberhe/Desktop/PostDoc/Projects/SANTAL/codes/Article_Extraction/nerFlair.ipynb#X25sZmlsZQ%3D%3D?line=4'>5</a>\u001b[0m artDet\u001b[39m.\u001b[39mgetDetails()\n",
      "\u001b[1;31mNameError\u001b[0m: name 'file' is not defined"
     ]
    }
   ],
   "source": [
    "jsonData=loadArticle(file)\n",
    "\n",
    "artDet=ArticleDetails(jsonData)\n",
    "\n",
    "artDet.getDetails()"
   ]
  },
  {
   "cell_type": "code",
   "execution_count": 59,
   "id": "5c76c3d9-8047-423d-ab4f-e567e33ea7c4",
   "metadata": {},
   "outputs": [
    {
     "data": {
      "text/plain": [
       "[]"
      ]
     },
     "execution_count": 59,
     "metadata": {},
     "output_type": "execute_result"
    }
   ],
   "source": [
    "list(set([]))"
   ]
  },
  {
   "cell_type": "code",
   "execution_count": 27,
   "id": "d595d684-d2ad-4357-8926-dd37e97ee632",
   "metadata": {},
   "outputs": [
    {
     "name": "stdout",
     "output_type": "stream",
     "text": [
      "The title of the article is: \n",
      "Interpretable and accurate prediction models for metagenomics data\n"
     ]
    }
   ],
   "source": [
    "print(f'The title of the article is: \\n{artDet.title.strip()}')"
   ]
  },
  {
   "cell_type": "code",
   "execution_count": 72,
   "id": "15ea72db-141c-4353-b40f-ec487a5183ad",
   "metadata": {},
   "outputs": [],
   "source": [
    "nerAbs=flairNER(\"Alterations of the human gut microbiome in liver cirrhosis and cancer\",tagger=mTagger)\n",
    "chemicals=nerAbs.to_dict('hunflair-chemical')\n",
    "disease=nerAbs.to_dict('hunflair-disease')\n",
    "spacies=nerAbs.to_dict('hunflair-species')\n",
    "genes=nerAbs.to_dict('hunflair-gene')\n",
    "cell_line=nerAbs.to_dict('hunflair-celline')"
   ]
  },
  {
   "cell_type": "code",
   "execution_count": 74,
   "id": "a1181a77-dd19-4bcb-91bd-ac785fb7d632",
   "metadata": {},
   "outputs": [],
   "source": [
    "d=[e[\"text\"] for e in disease[\"entities\"] if disease[\"entities\"]!=[]]\n",
    "s=[e[\"text\"] for e in spacies[\"entities\"] if spacies[\"entities\"]!=[]]"
   ]
  },
  {
   "cell_type": "code",
   "execution_count": null,
   "id": "70d4f598-8233-464c-992b-a0fbdc199bd3",
   "metadata": {},
   "outputs": [],
   "source": [
    "s=[e[\"text\"] if spacies[\"entities\"]!=[] else [] for e in enumerate(spacies[\"entities\"]) ]\n",
    "d=[e[\"text\"] if disease[\"entities\"]!=[] else [] for e in enumerate(disease[\"entities\"]) ]\n",
    "c=[e[\"text\"] if chemicals[\"entities\"]!=[] else [] for e in enumerate(chemicals[\"entities\"])]\n",
    "g=[e[\"text\"] if genes[\"entities\"]!=[] else [] for e in enumerate(genes[\"entities\"]) ]\n",
    "l=[e[\"text\"] if cell_line[\"entities\"]!=[] else [] for e in enumerate(cell_line[\"entities\"])]"
   ]
  },
  {
   "cell_type": "code",
   "execution_count": 64,
   "id": "e9b49065-47cb-4848-9c7b-d97ed13da2d1",
   "metadata": {},
   "outputs": [],
   "source": [
    "output = [[a, b] for a in [] for b in s]"
   ]
  },
  {
   "cell_type": "code",
   "execution_count": 65,
   "id": "135c829c-d2ac-4b3e-a198-102dd6e235e5",
   "metadata": {},
   "outputs": [
    {
     "data": {
      "text/plain": [
       "[]"
      ]
     },
     "execution_count": 65,
     "metadata": {},
     "output_type": "execute_result"
    }
   ],
   "source": [
    "output"
   ]
  },
  {
   "cell_type": "code",
   "execution_count": 13,
   "id": "5a513247-e971-47ff-8d28-3ea3f86a80d0",
   "metadata": {},
   "outputs": [
    {
     "name": "stdout",
     "output_type": "stream",
     "text": [
      "The title of the article is: \n",
      "Microbiome biomarker discovery for patient diagnosis, prognosis, and risk evaluation is attracting broad interest. Selected groups of microbial features provide signatures that characterize host disease states such as cancer or cardio-metabolic diseases. Yet, the current predictive models stemming from machine learning still behave as black boxes and seldom generalize well. Their interpretation is challenging for physicians and biologists, which makes them difficult to trust and use routinely in the physician–patient decision-making process. Novel methods that provide interpretability and biological insight are needed. Here, we introduce “predomics”, an original machine learning approach inspired by microbial ecosystem interactions that is tailored for metagenomics data. It discovers accurate predictive signatures and provides unprecedented interpretability. The decision provided by the predictive model is based on a simple, yet powerful score computed by adding, subtracting, or dividing cumulative abundance of microbiome measurements. Tested on >100 datasets, we demonstrate that predomics models are simple and highly interpretable. Even with such simplicity, they are at least as accurate as state-of-the-art methods. The family of best models, discovered during the learning process, offers the ability to distil biological information and to decipher the predictability signatures of the studied condition. In a proof-of-concept experiment, we successfully predicted body corpulence and metabolic improvement after bariatric surgery using pre-surgery microbiome data. Predomics is a new algorithm that helps in providing reliable and trustworthy diagnostic decisions in the microbiome field. Predomics is in accord with societal and legal requirements that plead for an explainable artificial intelligence approach in the medical field.\n"
     ]
    }
   ],
   "source": [
    "print(f'The abstract of the article is: \\n{artDet.abstract.strip()}')"
   ]
  },
  {
   "cell_type": "code",
   "execution_count": 36,
   "id": "35a15878-6ee2-4f49-a583-d6ce5139a041",
   "metadata": {},
   "outputs": [],
   "source": [
    "#absSent=artDet.fullArticle.strip()\n",
    "absSent=\"opportunistic pathogens like Megasphaera micronuciformis that proliferate in patients with liver cirrhosis.\""
   ]
  },
  {
   "cell_type": "code",
   "execution_count": 37,
   "id": "32795420-6682-41c9-ab00-540711a757a0",
   "metadata": {},
   "outputs": [],
   "source": [
    "absSent=nltk.sent_tokenize(absSent)"
   ]
  },
  {
   "cell_type": "code",
   "execution_count": 30,
   "id": "50433f19-cbdf-49ef-bfff-e3b6226fdff2",
   "metadata": {},
   "outputs": [
    {
     "data": {
      "text/plain": [
       "['opportunistic pathogens like Megasphaera micronuciformis that proliferate in patients with liver cirrhosis.']"
      ]
     },
     "execution_count": 38,
     "metadata": {},
     "output_type": "execute_result"
    }
   ],
   "source": [
    "absSent"
   ]
  },
  {
   "cell_type": "code",
   "execution_count": 39,
   "id": "4c3e99ee-fa26-48d8-91d5-fce679f4fd3c",
   "metadata": {},
   "outputs": [
    {
     "name": "stderr",
     "output_type": "stream",
     "text": [
      "C:\\ProgramData\\Anaconda3\\envs\\qenv\\lib\\site-packages\\flair\\models\\sequence_tagger_model.py:1046: UserWarning: We recommend to use SciSpaCy for tokenization and sentence splitting if HunFlair is applied to biomedical text, e.g.\n",
      "\n",
      "from flair.tokenization import SciSpacySentenceSplitter\n",
      "sentence = Sentence('Your biomed text', use_tokenizer=SciSpacySentenceSplitter())\n",
      "\n",
      "  warn(\n"
     ]
    }
   ],
   "source": [
    "nerAbs=flairNER(absSent[0],tagger=mTagger)"
   ]
  },
  {
   "cell_type": "code",
   "execution_count": 60,
   "id": "d626c339-8c1c-4133-b018-36885c220cbc",
   "metadata": {
    "tags": []
   },
   "outputs": [
    {
     "name": "stdout",
     "output_type": "stream",
     "text": [
      "opportunistic  pathogens  like  Megasphaera  micronuciformis  that  proliferate  in  patients  with  liver  cirrhosis  .  "
     ]
    }
   ],
   "source": [
    "for token in nerAbs.tokens:\n",
    "    print(token.text,end=\"  \")"
   ]
  },
  {
   "cell_type": "code",
   "execution_count": 54,
   "id": "ffc46c91-32a6-47bc-9007-930387e68590",
   "metadata": {},
   "outputs": [
    {
     "data": {
      "text/plain": [
       "'opportunistic pathogens like Megasphaera <B-Species> micronuciformis <E-Species> that proliferate in patients with liver <B-Disease> cirrhosis <E-Disease> .'"
      ]
     },
     "execution_count": 54,
     "metadata": {},
     "output_type": "execute_result"
    }
   ],
   "source": [
    "nerAbs.to_tagged_string()"
   ]
  },
  {
   "cell_type": "code",
   "execution_count": 47,
   "id": "d497634a-4c8c-4777-af92-f16dc5baf85c",
   "metadata": {},
   "outputs": [
    {
     "data": {
      "text/plain": [
       "str"
      ]
     },
     "execution_count": 47,
     "metadata": {},
     "output_type": "execute_result"
    }
   ],
   "source": [
    "type(nerAbs.tokens[0].text)"
   ]
  },
  {
   "cell_type": "code",
   "execution_count": 35,
   "id": "46f5345c-6840-4459-b474-a391d345558f",
   "metadata": {},
   "outputs": [
    {
     "name": "stdout",
     "output_type": "stream",
     "text": [
      "[Token: 1 The, Token: 2 best, Token: 3 Ratio, Token: 4 and, Token: 5 Ter, Token: 6 models, Token: 7 (, Token: 8 1, Token: 9 –, Token: 10 3, Token: 11 ), Token: 12 include, Token: 13 oral, Token: 14 bacterial, Token: 15 species, Token: 16 of, Token: 17 the, Token: 18 genus, Token: 19 Veillonella, Token: 20 (, Token: 21 Veillonellaunclassified, Token: 22 ), Token: 23 ,, Token: 24 Streptococcus, Token: 25 (, Token: 26 S., Token: 27 parasanguinis, Token: 28 and, Token: 29 S., Token: 30 anginosus, Token: 31 ), Token: 32 ,, Token: 33 and, Token: 34 opportunistic, Token: 35 pathogens, Token: 36 like, Token: 37 Megasphaera, Token: 38 micronuciformis, Token: 39 that, Token: 40 proliferate, Token: 41 in, Token: 42 patients, Token: 43 with, Token: 44 liver, Token: 45 cirrhosis, Token: 46 ,, Token: 47 whereas, Token: 48 butyrate, Token: 49 producers, Token: 50 of, Token: 51 the, Token: 52 genus, Token: 53 Subdoligranilum, Token: 54 (, Token: 55 Subdoligranilumunclassified, Token: 56 ), Token: 57 closely, Token: 58 related, Token: 59 to, Token: 60 Faecalibacterium, Token: 61 prausnitzii, Token: 62 and, Token: 63 complex, Token: 64 polysaccharide-degrading, Token: 65 species, Token: 66 like, Token: 67 Bacteroides, Token: 68 cellulosilyticus, Token: 69 characterize, Token: 70 control, Token: 71 subjects, Token: 72 .]\n"
     ]
    }
   ],
   "source": [
    "nerAbs.tokens\n",
    "print(nerAbs.tokens)"
   ]
  },
  {
   "cell_type": "code",
   "execution_count": 2,
   "id": "66182d86-6843-495e-b46a-6d4eed03dc7c",
   "metadata": {},
   "outputs": [],
   "source": [
    "#print(absSent)"
   ]
  },
  {
   "cell_type": "code",
   "execution_count": 13,
   "id": "93b9854c-fbe6-45ea-a931-a243810ca2e3",
   "metadata": {},
   "outputs": [
    {
     "name": "stderr",
     "output_type": "stream",
     "text": [
      "C:\\ProgramData\\Anaconda3\\envs\\qenv\\lib\\site-packages\\flair\\models\\sequence_tagger_model.py:1046: UserWarning: We recommend to use SciSpaCy for tokenization and sentence splitting if HunFlair is applied to biomedical text, e.g.\n",
      "\n",
      "from flair.tokenization import SciSpacySentenceSplitter\n",
      "sentence = Sentence('Your biomed text', use_tokenizer=SciSpacySentenceSplitter())\n",
      "\n",
      "  warn(\n"
     ]
    },
    {
     "name": "stdout",
     "output_type": "stream",
     "text": [
      "The best Ratio and Ter models ( 1 – 3 ) include oral bacterial species of the genus Veillonella ( Veillonellaunclassified ) , Streptococcus <S-Species> ( S. <B-Species> parasanguinis <E-Species> and S. <B-Species> anginosus <E-Species> ) , and opportunistic pathogens like Megasphaera <B-Species> micronuciformis <E-Species> that proliferate in patients with liver <B-Disease> cirrhosis <E-Disease> , whereas butyrate <S-Chemical> producers of the genus Subdoligranilum ( Subdoligranilumunclassified ) closely related to Faecalibacterium <B-Species> prausnitzii <E-Species> and complex polysaccharide-degrading species like Bacteroides <B-Species> cellulosilyticus <E-Species> characterize control subjects .\n",
      "dict_keys([])\n",
      "{'text': 'The best Ratio and Ter models (1–3) include oral bacterial species of the genus Veillonella (Veillonellaunclassified), Streptococcus (S. parasanguinis and S. anginosus), and opportunistic pathogens like Megasphaera micronuciformis that proliferate in patients with liver cirrhosis, whereas butyrate producers of the genus Subdoligranilum (Subdoligranilumunclassified) closely related to Faecalibacterium prausnitzii and complex polysaccharide-degrading species like Bacteroides cellulosilyticus characterize control subjects.', 'labels': [], 'entities': [{'text': 'Streptococcus', 'start_pos': 119, 'end_pos': 132, 'labels': [Species (0.7683)]}, {'text': 'S. parasanguinis', 'start_pos': 134, 'end_pos': 150, 'labels': [Species (0.7893)]}, {'text': 'S. anginosus', 'start_pos': 155, 'end_pos': 167, 'labels': [Species (0.7591)]}, {'text': 'Megasphaera micronuciformis', 'start_pos': 203, 'end_pos': 230, 'labels': [Species (0.8325)]}, {'text': 'Faecalibacterium prausnitzii', 'start_pos': 387, 'end_pos': 415, 'labels': [Species (0.7336)]}, {'text': 'Bacteroides cellulosilyticus', 'start_pos': 466, 'end_pos': 494, 'labels': [Species (0.8165)]}]}\n",
      "-------->NER<------\n"
     ]
    }
   ],
   "source": [
    "chemicals=[]\n",
    "disease=[]\n",
    "genes=[]\n",
    "spacies=[]\n",
    "cell_line=[]\n",
    "for sent in absSent: \n",
    "    nerAbs=flairNER(sent,tagger=mTagger)\n",
    "    print(nerAbs.to_tagged_string())\n",
    "    print(nerAbs.annotation_layers.keys())\n",
    "    print(nerAbs.to_dict('hunflair-species'))\n",
    "    chemicals.append(nerAbs.to_dict('hunflair-chemical'))\n",
    "    disease.append(nerAbs.to_dict('hunflair-disease'))\n",
    "    spacies.append(nerAbs.to_dict('hunflair-species'))\n",
    "    genes.append(nerAbs.to_dict('hunflair-gene'))\n",
    "    cell_line.append(nerAbs.to_dict('hunflair-celline'))\n",
    "    #print(nerAbs.to_dict('hunflair-disease'))\n",
    "    print(\"-------->NER<------\")\n",
    "    for annLayer in nerAbs.annotation_layers.keys():\n",
    "        print(\"Here: \",annLayer)\n",
    "        for entity in nerAbs.get_spans(annLayer):\n",
    "            print(entity)"
   ]
  },
  {
   "cell_type": "code",
   "execution_count": 14,
   "id": "57aacc92-5557-4952-9961-d8cd89028db2",
   "metadata": {},
   "outputs": [],
   "source": [
    "s=[se for i, se in enumerate(spacies) if se[\"entities\"]!=[]]\n",
    "d=[de for i, de in enumerate(disease) if de[\"entities\"]!=[]]\n",
    "c=[de for i, de in enumerate(chemicals) if de[\"entities\"]!=[]]\n",
    "g=[de for i, de in enumerate(genes) if de[\"entities\"]!=[]]"
   ]
  },
  {
   "cell_type": "code",
   "execution_count": 15,
   "id": "46c98d71-13a8-4fab-b922-ac97b79643cf",
   "metadata": {},
   "outputs": [
    {
     "data": {
      "text/plain": [
       "{'text': 'The best Ratio and Ter models (1–3) include oral bacterial species of the genus Veillonella (Veillonellaunclassified), Streptococcus (S. parasanguinis and S. anginosus), and opportunistic pathogens like Megasphaera micronuciformis that proliferate in patients with liver cirrhosis, whereas butyrate producers of the genus Subdoligranilum (Subdoligranilumunclassified) closely related to Faecalibacterium prausnitzii and complex polysaccharide-degrading species like Bacteroides cellulosilyticus characterize control subjects.',\n",
       " 'labels': [],\n",
       " 'entities': [{'text': 'Streptococcus',\n",
       "   'start_pos': 119,\n",
       "   'end_pos': 132,\n",
       "   'labels': [Species (0.7683)]},\n",
       "  {'text': 'S. parasanguinis',\n",
       "   'start_pos': 134,\n",
       "   'end_pos': 150,\n",
       "   'labels': [Species (0.7893)]},\n",
       "  {'text': 'S. anginosus',\n",
       "   'start_pos': 155,\n",
       "   'end_pos': 167,\n",
       "   'labels': [Species (0.7591)]},\n",
       "  {'text': 'Megasphaera micronuciformis',\n",
       "   'start_pos': 203,\n",
       "   'end_pos': 230,\n",
       "   'labels': [Species (0.8325)]},\n",
       "  {'text': 'Faecalibacterium prausnitzii',\n",
       "   'start_pos': 387,\n",
       "   'end_pos': 415,\n",
       "   'labels': [Species (0.7336)]},\n",
       "  {'text': 'Bacteroides cellulosilyticus',\n",
       "   'start_pos': 466,\n",
       "   'end_pos': 494,\n",
       "   'labels': [Species (0.8165)]}]}"
      ]
     },
     "execution_count": 15,
     "metadata": {},
     "output_type": "execute_result"
    }
   ],
   "source": [
    "s[0]"
   ]
  },
  {
   "cell_type": "code",
   "execution_count": 16,
   "id": "77a2f558-0529-4028-beed-d0aa6afc0b21",
   "metadata": {},
   "outputs": [],
   "source": [
    "ch_ext=[abc['text'] for ab in c for abc in ab['entities']]\n",
    "gn_ext=[abc['text'] for ab in g for abc in ab['entities']]\n",
    "sp_ext=[abc['text'] for ab in s for abc in ab['entities']]\n",
    "di_ext=[abc['text'] for ab in d for abc in ab['entities']]"
   ]
  },
  {
   "cell_type": "code",
   "execution_count": 17,
   "id": "a89bed3d-8489-4fc6-b5c4-c6fd351188dc",
   "metadata": {},
   "outputs": [
    {
     "data": {
      "text/plain": [
       "['Streptococcus',\n",
       " 'S. parasanguinis',\n",
       " 'S. anginosus',\n",
       " 'Megasphaera micronuciformis',\n",
       " 'Faecalibacterium prausnitzii',\n",
       " 'Bacteroides cellulosilyticus']"
      ]
     },
     "execution_count": 17,
     "metadata": {},
     "output_type": "execute_result"
    }
   ],
   "source": [
    "sp_ext"
   ]
  },
  {
   "cell_type": "code",
   "execution_count": 18,
   "id": "a7a62d88-a9a9-4e77-b9fc-895052394901",
   "metadata": {},
   "outputs": [
    {
     "data": {
      "text/plain": [
       "['liver cirrhosis']"
      ]
     },
     "execution_count": 18,
     "metadata": {},
     "output_type": "execute_result"
    }
   ],
   "source": [
    "di_ext"
   ]
  },
  {
   "cell_type": "code",
   "execution_count": 19,
   "id": "a55cb52b-447a-4450-ae3d-24c8997212fc",
   "metadata": {},
   "outputs": [
    {
     "data": {
      "text/plain": [
       "[]"
      ]
     },
     "execution_count": 19,
     "metadata": {},
     "output_type": "execute_result"
    }
   ],
   "source": [
    "gn_ext"
   ]
  },
  {
   "cell_type": "code",
   "execution_count": 20,
   "id": "0cec7a20-0abc-4ea9-8cc3-5d77fe959a02",
   "metadata": {},
   "outputs": [
    {
     "data": {
      "text/plain": [
       "['butyrate']"
      ]
     },
     "execution_count": 20,
     "metadata": {},
     "output_type": "execute_result"
    }
   ],
   "source": [
    "ch_ext"
   ]
  },
  {
   "cell_type": "code",
   "execution_count": 47,
   "id": "110d3548-6190-4b1d-8e51-605e27e3d147",
   "metadata": {},
   "outputs": [],
   "source": [
    "def get_EntityPairs(entity1,entity2):\n",
    "    e1=[se for i, se in enumerate(entity1) if se[\"entities\"]!=[]]\n",
    "    e2=[de for i, de in enumerate(entity2) if de[\"entities\"]!=[]]\n",
    "    \n",
    "    e1_ext=[[ent1_only['text'],ent1['text']] for ent1 in e1 for ent1_only in ent1['entities']]\n",
    "    e2_ext=[[ent2_only['text'],ent2['text']] for ent2 in e2 for ent2_only in ent2['entities']]\n",
    "    \n",
    "    return e1_ext,e2_ext"
   ]
  },
  {
   "cell_type": "code",
   "execution_count": 100,
   "id": "c43edcca-a87b-4f31-b1d3-85ab5489476b",
   "metadata": {},
   "outputs": [],
   "source": [
    "e1_ext,e2_ext=get_EntityPairs(spacies,disease)"
   ]
  },
  {
   "cell_type": "code",
   "execution_count": 95,
   "id": "0f079709-526d-4292-b932-6788891d08ae",
   "metadata": {},
   "outputs": [
    {
     "data": {
      "text/plain": [
       "(8, 2)"
      ]
     },
     "execution_count": 95,
     "metadata": {},
     "output_type": "execute_result"
    }
   ],
   "source": [
    "len(e1_ext),len(e2_ext)"
   ]
  },
  {
   "cell_type": "code",
   "execution_count": 101,
   "id": "334d1129-d33d-44b7-b55a-59f4ddf57d91",
   "metadata": {},
   "outputs": [
    {
     "data": {
      "text/plain": [
       "[['disease',\n",
       "  'In a linear model, a patient is predicted in a disease group with a probability of p > 0.5 if , where  are real coefficients.'],\n",
       " ['Cirrhosis',\n",
       "  'When learning from the different types of variables based on taxonomic levels (Cirrhosis Stage 1), the performance of the models varies accordingly.'],\n",
       " ['disease',\n",
       "  'Indeed, in this space, models can be powerful because they can summarize more complex rules such as: “if (abundance of all Firmicutes − abundance of all Clostridiales order) > threshold then disease.” We tested the generalization of Bin, Ter, Ratio and also TerLog models trained in Cirrhosis Stage 1, in a second, independent dataset (i.e., Cirrhosis Stage 2).'],\n",
       " ['Cirrhosis',\n",
       "  'Indeed, in this space, models can be powerful because they can summarize more complex rules such as: “if (abundance of all Firmicutes − abundance of all Clostridiales order) > threshold then disease.” We tested the generalization of Bin, Ter, Ratio and also TerLog models trained in Cirrhosis Stage 1, in a second, independent dataset (i.e., Cirrhosis Stage 2).'],\n",
       " ['Cirrhosis',\n",
       "  'Indeed, in this space, models can be powerful because they can summarize more complex rules such as: “if (abundance of all Firmicutes − abundance of all Clostridiales order) > threshold then disease.” We tested the generalization of Bin, Ter, Ratio and also TerLog models trained in Cirrhosis Stage 1, in a second, independent dataset (i.e., Cirrhosis Stage 2).'],\n",
       " ['Cirrhosis',\n",
       "  'For instance, in the Cirrhosis Stage 1 (species) dataset, the 268 models in the FBM with model size < 6 rely on only 67 features (i.e., 16% of the whole dataset), which can be used to infer a \"feature co-presence network in models\" (Fig.'],\n",
       " ['liver cirrhosis',\n",
       "  'We focused on the liver cirrhosis dataset, where major patient dysbiosis was observed with decreased microbial richness, depletion of gut commensals, and an invasion of oral bacteria.'],\n",
       " ['liver cirrhosis',\n",
       "  'Some authors have modelled liver cirrhosis–associated microbiome features using curated information from the literature, such as the ratio of autochthonous (butyrate-producer bacteria) to non-autochthonous (oral bacteria, opportunistic pathogens).'],\n",
       " ['cirrhosis',\n",
       "  'They used these taxa to build a cirrhosis dysbiosis ratio (CDR) score.'],\n",
       " ['Liver Cirrhosis',\n",
       "  'On the basis of their description we built 3 redundant ratio models using family taxonomic features to reproduce their score and applied them in the Liver Cirrhosis Stage 1 (family) dataset (Fig.'],\n",
       " ['liver cirrhosis',\n",
       "  'The reason for the CDR lower performance can be explained by the inclusion of the Bacteroidaceae family in the liver cirrhosis group by the authors, while we observe the opposite association in the current dataset.'],\n",
       " ['liver cirrhosis',\n",
       "  'These models are in line with a decrease in Bacteroides and an increase in Proteobacteria and Fusobacteria in the liver cirrhosis group, reported in the original study.'],\n",
       " ['chronic inflammation',\n",
       "  'The decrease in Bacteroidetes indicates a decrease in highly prevalent gut bacteria, whereas the increase of Proteobacteria has been repeatedly reported in dysbiotic microbiomes of patients and has been associated with chronic inflammation and serum lipopolysaccharides.'],\n",
       " ['liver cirrhosis',\n",
       "  'The Virus prevalence in the liver cirrhosis group may reflect the oral microbiome signature or increased incidence of viral infections together with opportunistic pathogens.'],\n",
       " ['viral infections',\n",
       "  'The Virus prevalence in the liver cirrhosis group may reflect the oral microbiome signature or increased incidence of viral infections together with opportunistic pathogens.'],\n",
       " ['liver cirrhosis',\n",
       "  'The potential competition between oral and gut microbes reported in previous studies is best reflected by Ter and Ratio models with genus abundance data, which combine Veillonella (oral bacteria; opportunistic pathogen) enriched in liver cirrhosis at 1 side and Bacteroides plus Eubacterium(S9) or Coprococcus(S8) enriched in controls.'],\n",
       " ['liver cirrhosis',\n",
       "  'The best Ratio and Ter models (1–3) include oral bacterial species of the genus Veillonella(Veillonellaunclassified), Streptococcus(S. parasanguinis and S. anginosus), and opportunistic pathogens like Megasphaera micronuciformis that proliferate in patients with liver cirrhosis, whereas butyrate producers of the genus Subdoligranilum (Subdoligranilumunclassified) closely related to Faecalibacterium prausnitzii and complex polysaccharide-degrading species like Bacteroides cellulosilyticus characterize control subjects.'],\n",
       " ['primary biliary cirrhosis',\n",
       "  'M. micronuciformis was previously associated with primary biliary cirrhosis on the basis of 16S ribosomal RNA quantification.'],\n",
       " ['colitis',\n",
       "  'Interestingly, increase in aerobic respiration profiles has also been identified as a metabolic signature of inflammation-associated dysbiosis in models of colitis.'],\n",
       " ['liver cirrhosis',\n",
       "  'It has been described as an elicitor of inflammatory response associated with the progression of liver cirrhosis, in agreement with a more inflammatory profile of cirrhotic patients.'],\n",
       " ['cirrhotic',\n",
       "  'It has been described as an elicitor of inflammatory response associated with the progression of liver cirrhosis, in agreement with a more inflammatory profile of cirrhotic patients.'],\n",
       " ['liver cirrhosis',\n",
       "  'For instance, the oral-originated species found in the gut of patients with liver cirrhosis along with the absence of usual commensals may reflect a global difference in the environment where they live rather than direct interaction.'],\n",
       " ['obese',\n",
       "  'The raw data were generated in independent studies using shotgun metagenomics (Table S1) and were processed bioinformatically and curated by Pasolli et al.. For the regression experiments, we used shotgun metagenomics data from a recently published study, where morbidly obese patients underwent bariatric surgery.'],\n",
       " ['Cirrhosis',\n",
       "  'Figure S7: BTR and SOTA performance across different taxonomic levels in Cirrhosis Stage 1 species normalized abundance data.'],\n",
       " ['Cirrhosis',\n",
       "  'Figure S9: Feature composition and feature importance of the family of best models for the Cirrhosis Stage 1 dataset.'],\n",
       " ['Cirrhosis',\n",
       "  'Figure S10: Feature abundance and prevalence of the family of best models for the Cirrhosis Stage 1 dataset.'],\n",
       " ['cirrhosis',\n",
       "  'AI: artificial intelligence; AUC: area under the curve; BTR: Bin, Ter, Ratio models; CDR: cirrhosis dysbiosis ratio; ENET: elastic net; FBM: family of best models; FI: feature importance; MDA: mean decrease accuracy, indicating the importance of features in prediction; ML: machine learning; RF: random forest; SD: standard deviation; SER: standard error of regression; SOTA: state of the art; SVM: Support Vector Machine; SVMLIN: SVM with linear kernel; TerLog: Ter models when applied to log-transformed data.']]"
      ]
     },
     "execution_count": 101,
     "metadata": {},
     "output_type": "execute_result"
    }
   ],
   "source": [
    "e2_ext"
   ]
  },
  {
   "cell_type": "code",
   "execution_count": 108,
   "id": "731c571b-d91e-47f6-b494-d085c5fd878e",
   "metadata": {},
   "outputs": [],
   "source": [
    "df=pd.DataFrame(columns=[\"text\",\"entity1\",\"entity2\",\"joined_text\"])"
   ]
  },
  {
   "cell_type": "code",
   "execution_count": null,
   "id": "a588e86b-913f-484a-9399-2000113c443d",
   "metadata": {},
   "outputs": [],
   "source": []
  },
  {
   "cell_type": "code",
   "execution_count": 109,
   "id": "7fce46f4-3f91-491a-9045-ffcd298af3dd",
   "metadata": {},
   "outputs": [],
   "source": [
    "for e1 in e1_ext:\n",
    "    for e2 in e2_ext:\n",
    "        if e1[1]==e2[1]:\n",
    "            if \"Veillonella\" in e1[1]:\n",
    "                joined_text=\"Veillonella\"+\" , \"+e1[1]+ \" , \"+e2[0]\n",
    "                df.loc[len(df)]=[e1[1],\"Veillonella\",e2[0],joined_text]\n",
    "            joined_text=e1[0]+\" , \"+e1[1]+ \" , \"+e2[0]\n",
    "            df.loc[len(df)]=[e1[1],e1[0],e2[0],joined_text]"
   ]
  },
  {
   "cell_type": "code",
   "execution_count": 111,
   "id": "93a00d05-47a8-425b-bc16-219de1b0ab2f",
   "metadata": {},
   "outputs": [
    {
     "data": {
      "text/html": [
       "<div>\n",
       "<style scoped>\n",
       "    .dataframe tbody tr th:only-of-type {\n",
       "        vertical-align: middle;\n",
       "    }\n",
       "\n",
       "    .dataframe tbody tr th {\n",
       "        vertical-align: top;\n",
       "    }\n",
       "\n",
       "    .dataframe thead th {\n",
       "        text-align: right;\n",
       "    }\n",
       "</style>\n",
       "<table border=\"1\" class=\"dataframe\">\n",
       "  <thead>\n",
       "    <tr style=\"text-align: right;\">\n",
       "      <th></th>\n",
       "      <th>text</th>\n",
       "      <th>entity1</th>\n",
       "      <th>entity2</th>\n",
       "      <th>joined_text</th>\n",
       "    </tr>\n",
       "  </thead>\n",
       "  <tbody>\n",
       "    <tr>\n",
       "      <th>0</th>\n",
       "      <td>The potential competition between oral and gut...</td>\n",
       "      <td>Veillonella</td>\n",
       "      <td>liver cirrhosis</td>\n",
       "      <td>Veillonella , The potential competition betwee...</td>\n",
       "    </tr>\n",
       "    <tr>\n",
       "      <th>1</th>\n",
       "      <td>The potential competition between oral and gut...</td>\n",
       "      <td>S9</td>\n",
       "      <td>liver cirrhosis</td>\n",
       "      <td>S9 , The potential competition between oral an...</td>\n",
       "    </tr>\n",
       "    <tr>\n",
       "      <th>2</th>\n",
       "      <td>The best Ratio and Ter models (1–3) include or...</td>\n",
       "      <td>Veillonella</td>\n",
       "      <td>liver cirrhosis</td>\n",
       "      <td>Veillonella , The best Ratio and Ter models (1...</td>\n",
       "    </tr>\n",
       "    <tr>\n",
       "      <th>3</th>\n",
       "      <td>The best Ratio and Ter models (1–3) include or...</td>\n",
       "      <td>Streptococcus</td>\n",
       "      <td>liver cirrhosis</td>\n",
       "      <td>Streptococcus , The best Ratio and Ter models ...</td>\n",
       "    </tr>\n",
       "    <tr>\n",
       "      <th>4</th>\n",
       "      <td>The best Ratio and Ter models (1–3) include or...</td>\n",
       "      <td>Veillonella</td>\n",
       "      <td>liver cirrhosis</td>\n",
       "      <td>Veillonella , The best Ratio and Ter models (1...</td>\n",
       "    </tr>\n",
       "    <tr>\n",
       "      <th>5</th>\n",
       "      <td>The best Ratio and Ter models (1–3) include or...</td>\n",
       "      <td>S. parasanguinis</td>\n",
       "      <td>liver cirrhosis</td>\n",
       "      <td>S. parasanguinis , The best Ratio and Ter mode...</td>\n",
       "    </tr>\n",
       "    <tr>\n",
       "      <th>6</th>\n",
       "      <td>The best Ratio and Ter models (1–3) include or...</td>\n",
       "      <td>Veillonella</td>\n",
       "      <td>liver cirrhosis</td>\n",
       "      <td>Veillonella , The best Ratio and Ter models (1...</td>\n",
       "    </tr>\n",
       "    <tr>\n",
       "      <th>7</th>\n",
       "      <td>The best Ratio and Ter models (1–3) include or...</td>\n",
       "      <td>S. anginosus</td>\n",
       "      <td>liver cirrhosis</td>\n",
       "      <td>S. anginosus , The best Ratio and Ter models (...</td>\n",
       "    </tr>\n",
       "    <tr>\n",
       "      <th>8</th>\n",
       "      <td>The best Ratio and Ter models (1–3) include or...</td>\n",
       "      <td>Veillonella</td>\n",
       "      <td>liver cirrhosis</td>\n",
       "      <td>Veillonella , The best Ratio and Ter models (1...</td>\n",
       "    </tr>\n",
       "    <tr>\n",
       "      <th>9</th>\n",
       "      <td>The best Ratio and Ter models (1–3) include or...</td>\n",
       "      <td>Megasphaera micronuciformis</td>\n",
       "      <td>liver cirrhosis</td>\n",
       "      <td>Megasphaera micronuciformis , The best Ratio a...</td>\n",
       "    </tr>\n",
       "    <tr>\n",
       "      <th>10</th>\n",
       "      <td>The best Ratio and Ter models (1–3) include or...</td>\n",
       "      <td>Veillonella</td>\n",
       "      <td>liver cirrhosis</td>\n",
       "      <td>Veillonella , The best Ratio and Ter models (1...</td>\n",
       "    </tr>\n",
       "    <tr>\n",
       "      <th>11</th>\n",
       "      <td>The best Ratio and Ter models (1–3) include or...</td>\n",
       "      <td>Faecalibacterium prausnitzii</td>\n",
       "      <td>liver cirrhosis</td>\n",
       "      <td>Faecalibacterium prausnitzii , The best Ratio ...</td>\n",
       "    </tr>\n",
       "    <tr>\n",
       "      <th>12</th>\n",
       "      <td>The best Ratio and Ter models (1–3) include or...</td>\n",
       "      <td>Veillonella</td>\n",
       "      <td>liver cirrhosis</td>\n",
       "      <td>Veillonella , The best Ratio and Ter models (1...</td>\n",
       "    </tr>\n",
       "    <tr>\n",
       "      <th>13</th>\n",
       "      <td>The best Ratio and Ter models (1–3) include or...</td>\n",
       "      <td>Bacteroides cellulosilyticus</td>\n",
       "      <td>liver cirrhosis</td>\n",
       "      <td>Bacteroides cellulosilyticus , The best Ratio ...</td>\n",
       "    </tr>\n",
       "    <tr>\n",
       "      <th>14</th>\n",
       "      <td>M. micronuciformis was previously associated w...</td>\n",
       "      <td>M. micronuciformis</td>\n",
       "      <td>primary biliary cirrhosis</td>\n",
       "      <td>M. micronuciformis , M. micronuciformis was pr...</td>\n",
       "    </tr>\n",
       "    <tr>\n",
       "      <th>15</th>\n",
       "      <td>It has been described as an elicitor of inflam...</td>\n",
       "      <td>patients</td>\n",
       "      <td>liver cirrhosis</td>\n",
       "      <td>patients , It has been described as an elicito...</td>\n",
       "    </tr>\n",
       "    <tr>\n",
       "      <th>16</th>\n",
       "      <td>It has been described as an elicitor of inflam...</td>\n",
       "      <td>patients</td>\n",
       "      <td>cirrhotic</td>\n",
       "      <td>patients , It has been described as an elicito...</td>\n",
       "    </tr>\n",
       "  </tbody>\n",
       "</table>\n",
       "</div>"
      ],
      "text/plain": [
       "                                                 text  \\\n",
       "0   The potential competition between oral and gut...   \n",
       "1   The potential competition between oral and gut...   \n",
       "2   The best Ratio and Ter models (1–3) include or...   \n",
       "3   The best Ratio and Ter models (1–3) include or...   \n",
       "4   The best Ratio and Ter models (1–3) include or...   \n",
       "5   The best Ratio and Ter models (1–3) include or...   \n",
       "6   The best Ratio and Ter models (1–3) include or...   \n",
       "7   The best Ratio and Ter models (1–3) include or...   \n",
       "8   The best Ratio and Ter models (1–3) include or...   \n",
       "9   The best Ratio and Ter models (1–3) include or...   \n",
       "10  The best Ratio and Ter models (1–3) include or...   \n",
       "11  The best Ratio and Ter models (1–3) include or...   \n",
       "12  The best Ratio and Ter models (1–3) include or...   \n",
       "13  The best Ratio and Ter models (1–3) include or...   \n",
       "14  M. micronuciformis was previously associated w...   \n",
       "15  It has been described as an elicitor of inflam...   \n",
       "16  It has been described as an elicitor of inflam...   \n",
       "\n",
       "                         entity1                    entity2  \\\n",
       "0                    Veillonella            liver cirrhosis   \n",
       "1                             S9            liver cirrhosis   \n",
       "2                    Veillonella            liver cirrhosis   \n",
       "3                  Streptococcus            liver cirrhosis   \n",
       "4                    Veillonella            liver cirrhosis   \n",
       "5               S. parasanguinis            liver cirrhosis   \n",
       "6                    Veillonella            liver cirrhosis   \n",
       "7                   S. anginosus            liver cirrhosis   \n",
       "8                    Veillonella            liver cirrhosis   \n",
       "9    Megasphaera micronuciformis            liver cirrhosis   \n",
       "10                   Veillonella            liver cirrhosis   \n",
       "11  Faecalibacterium prausnitzii            liver cirrhosis   \n",
       "12                   Veillonella            liver cirrhosis   \n",
       "13  Bacteroides cellulosilyticus            liver cirrhosis   \n",
       "14            M. micronuciformis  primary biliary cirrhosis   \n",
       "15                      patients            liver cirrhosis   \n",
       "16                      patients                  cirrhotic   \n",
       "\n",
       "                                          joined_text  \n",
       "0   Veillonella , The potential competition betwee...  \n",
       "1   S9 , The potential competition between oral an...  \n",
       "2   Veillonella , The best Ratio and Ter models (1...  \n",
       "3   Streptococcus , The best Ratio and Ter models ...  \n",
       "4   Veillonella , The best Ratio and Ter models (1...  \n",
       "5   S. parasanguinis , The best Ratio and Ter mode...  \n",
       "6   Veillonella , The best Ratio and Ter models (1...  \n",
       "7   S. anginosus , The best Ratio and Ter models (...  \n",
       "8   Veillonella , The best Ratio and Ter models (1...  \n",
       "9   Megasphaera micronuciformis , The best Ratio a...  \n",
       "10  Veillonella , The best Ratio and Ter models (1...  \n",
       "11  Faecalibacterium prausnitzii , The best Ratio ...  \n",
       "12  Veillonella , The best Ratio and Ter models (1...  \n",
       "13  Bacteroides cellulosilyticus , The best Ratio ...  \n",
       "14  M. micronuciformis , M. micronuciformis was pr...  \n",
       "15  patients , It has been described as an elicito...  \n",
       "16  patients , It has been described as an elicito...  "
      ]
     },
     "execution_count": 111,
     "metadata": {},
     "output_type": "execute_result"
    }
   ],
   "source": [
    "df"
   ]
  },
  {
   "cell_type": "code",
   "execution_count": 114,
   "id": "d7957672-a783-4416-859f-da28e5adba1f",
   "metadata": {},
   "outputs": [
    {
     "data": {
      "text/plain": [
       "'The best Ratio and Ter models (1–3) include oral bacterial species of the genus Veillonella(Veillonellaunclassified), Streptococcus(S. parasanguinis and S. anginosus), and opportunistic pathogens like Megasphaera micronuciformis that proliferate in patients with liver cirrhosis, whereas butyrate producers of the genus Subdoligranilum (Subdoligranilumunclassified) closely related to Faecalibacterium prausnitzii and complex polysaccharide-degrading species like Bacteroides cellulosilyticus characterize control subjects.'"
      ]
     },
     "execution_count": 114,
     "metadata": {},
     "output_type": "execute_result"
    }
   ],
   "source": [
    "df.text[2]"
   ]
  },
  {
   "cell_type": "code",
   "execution_count": 113,
   "id": "b55a3d6a-d230-4f8c-8eab-2c0fe8570700",
   "metadata": {},
   "outputs": [],
   "source": [
    "df.to_csv(\"Predomics_Entities.csv\")"
   ]
  },
  {
   "cell_type": "code",
   "execution_count": 15,
   "id": "fba36920-0a17-4a16-ba2a-23aa688304ac",
   "metadata": {},
   "outputs": [
    {
     "data": {
      "text/plain": [
       "(11, 11)"
      ]
     },
     "execution_count": 15,
     "metadata": {},
     "output_type": "execute_result"
    }
   ],
   "source": [
    "len(absSent),len(chemicals)"
   ]
  },
  {
   "cell_type": "code",
   "execution_count": 25,
   "id": "e4c5fc7c-06f4-4d85-ab27-545c6c3ba97f",
   "metadata": {},
   "outputs": [
    {
     "data": {
      "text/plain": [
       "[{'text': 'Microbiome biomarker discovery for patient diagnosis, prognosis, and risk evaluation is attracting broad interest.',\n",
       "  'labels': [],\n",
       "  'entities': []},\n",
       " {'text': 'Selected groups of microbial features provide signatures that characterize host disease states such as cancer or cardio-metabolic diseases.',\n",
       "  'labels': [],\n",
       "  'entities': []},\n",
       " {'text': 'Yet, the current predictive models stemming from machine learning still behave as black boxes and seldom generalize well.',\n",
       "  'labels': [],\n",
       "  'entities': []},\n",
       " {'text': 'Their interpretation is challenging for physicians and biologists, which makes them difficult to trust and use routinely in the physician–patient decision-making process.',\n",
       "  'labels': [],\n",
       "  'entities': []},\n",
       " {'text': 'Novel methods that provide interpretability and biological insight are needed.',\n",
       "  'labels': [],\n",
       "  'entities': []},\n",
       " {'text': 'Here, we introduce “predomics”, an original machine learning approach inspired by microbial ecosystem interactions that is tailored for metagenomics data.',\n",
       "  'labels': [],\n",
       "  'entities': []},\n",
       " {'text': 'It discovers accurate predictive signatures and provides unprecedented interpretability.',\n",
       "  'labels': [],\n",
       "  'entities': []},\n",
       " {'text': 'The decision provided by the predictive model is based on a simple, yet powerful score computed by adding, subtracting, or dividing cumulative abundance of microbiome measurements.',\n",
       "  'labels': [],\n",
       "  'entities': []},\n",
       " {'text': 'Tested on >100 datasets, we demonstrate that predomics models are simple and highly interpretable.',\n",
       "  'labels': [],\n",
       "  'entities': []},\n",
       " {'text': 'Even with such simplicity, they are at least as accurate as state-of-the-art methods.',\n",
       "  'labels': [],\n",
       "  'entities': []},\n",
       " {'text': 'The family of best models, discovered during the learning process, offers the ability to distil biological information and to decipher the predictability signatures of the studied condition.',\n",
       "  'labels': [],\n",
       "  'entities': []},\n",
       " {'text': 'In a proof-of-concept experiment, we successfully predicted body corpulence and metabolic improvement after bariatric surgery using pre-surgery microbiome data.',\n",
       "  'labels': [],\n",
       "  'entities': []},\n",
       " {'text': 'Predomics is a new algorithm that helps in providing reliable and trustworthy diagnostic decisions in the microbiome field.',\n",
       "  'labels': [],\n",
       "  'entities': []},\n",
       " {'text': 'Predomics is in accord with societal and legal requirements that plead for an explainable artificial intelligence approach in the medical field.',\n",
       "  'labels': [],\n",
       "  'entities': []}]"
      ]
     },
     "execution_count": 25,
     "metadata": {},
     "output_type": "execute_result"
    }
   ],
   "source": [
    "genes"
   ]
  },
  {
   "cell_type": "code",
   "execution_count": 25,
   "id": "efc827d5-0de9-4994-8358-6c5ae354e03f",
   "metadata": {},
   "outputs": [
    {
     "data": {
      "text/plain": [
       "'inflammatory bowel diseases'"
      ]
     },
     "execution_count": 26,
     "metadata": {},
     "output_type": "execute_result"
    }
   ],
   "source": [
    "disease[0]['entities'][0]['text']"
   ]
  },
  {
   "cell_type": "code",
   "execution_count": 50,
   "id": "527818cc-f1f6-4b0d-8574-575aa86975eb",
   "metadata": {},
   "outputs": [
    {
     "name": "stdout",
     "output_type": "stream",
     "text": [
      "primary sclerosing cholangitis\n",
      "psc\n",
      "cholestatic liver disease\n",
      "biliary inflammation\n",
      "psc\n",
      "inflammatory bowel disease\n",
      "psc\n",
      "psc\n",
      "psc\n"
     ]
    }
   ],
   "source": [
    "for dea in disease:\n",
    "    if len(dea['entities'])>0:\n",
    "        for j in range(len(dea['entities'])):\n",
    "            print(dea['entities'][j]['text'])"
   ]
  },
  {
   "cell_type": "code",
   "execution_count": 27,
   "id": "0853c793-b3ae-47c2-b36c-24930fd73e0e",
   "metadata": {},
   "outputs": [
    {
     "ename": "IndexError",
     "evalue": "list index out of range",
     "output_type": "error",
     "traceback": [
      "\u001b[1;31m---------------------------------------------------------------------------\u001b[0m",
      "\u001b[1;31mIndexError\u001b[0m                                Traceback (most recent call last)",
      "Input \u001b[1;32mIn [27]\u001b[0m, in \u001b[0;36m<cell line: 1>\u001b[1;34m()\u001b[0m\n\u001b[0;32m      1\u001b[0m \u001b[38;5;28;01mfor\u001b[39;00m i \u001b[38;5;129;01min\u001b[39;00m \u001b[38;5;28mrange\u001b[39m(\u001b[38;5;241m11\u001b[39m):\n\u001b[1;32m----> 2\u001b[0m     \u001b[38;5;28mprint\u001b[39m(\u001b[38;5;124m'\u001b[39m\u001b[38;5;124mchemical: \u001b[39m\u001b[38;5;132;01m{}\u001b[39;00m\u001b[38;5;124m disease: \u001b[39m\u001b[38;5;132;01m{}\u001b[39;00m\u001b[38;5;124m gene: \u001b[39m\u001b[38;5;132;01m{}\u001b[39;00m\u001b[38;5;124m spacies: \u001b[39m\u001b[38;5;132;01m{}\u001b[39;00m\u001b[38;5;124m'\u001b[39m\u001b[38;5;241m.\u001b[39mformat(\u001b[43mchemicals\u001b[49m\u001b[43m[\u001b[49m\u001b[43mi\u001b[49m\u001b[43m]\u001b[49m\u001b[43m[\u001b[49m\u001b[38;5;124;43m'\u001b[39;49m\u001b[38;5;124;43mentities\u001b[39;49m\u001b[38;5;124;43m'\u001b[39;49m\u001b[43m]\u001b[49m\u001b[43m[\u001b[49m\u001b[38;5;241;43m0\u001b[39;49m\u001b[43m]\u001b[49m[\u001b[38;5;124m'\u001b[39m\u001b[38;5;124mtext\u001b[39m\u001b[38;5;124m'\u001b[39m],disease[i][\u001b[38;5;124m'\u001b[39m\u001b[38;5;124mentities\u001b[39m\u001b[38;5;124m'\u001b[39m][\u001b[38;5;241m0\u001b[39m][\u001b[38;5;124m'\u001b[39m\u001b[38;5;124mtext\u001b[39m\u001b[38;5;124m'\u001b[39m],genes[i][\u001b[38;5;124m'\u001b[39m\u001b[38;5;124mentities\u001b[39m\u001b[38;5;124m'\u001b[39m][\u001b[38;5;241m0\u001b[39m][\u001b[38;5;124m'\u001b[39m\u001b[38;5;124mtext\u001b[39m\u001b[38;5;124m'\u001b[39m],spacies[i][\u001b[38;5;124m'\u001b[39m\u001b[38;5;124mentities\u001b[39m\u001b[38;5;124m'\u001b[39m][\u001b[38;5;241m0\u001b[39m][\u001b[38;5;124m'\u001b[39m\u001b[38;5;124mtext\u001b[39m\u001b[38;5;124m'\u001b[39m]))\n\u001b[0;32m      3\u001b[0m     \u001b[38;5;28mprint\u001b[39m()\n",
      "\u001b[1;31mIndexError\u001b[0m: list index out of range"
     ]
    }
   ],
   "source": [
    "for i in range(11):\n",
    "    print('chemical: {} disease: {} gene: {} spacies: {}'.format(chemicals[i]['entities'][0]['text'],disease[i]['entities'][0]['text'],genes[i]['entities'][0]['text'],spacies[i]['entities'][0]['text']))\n",
    "    print()"
   ]
  },
  {
   "cell_type": "code",
   "execution_count": 16,
   "id": "c87d5a40-d749-4b36-a149-5133f0df6751",
   "metadata": {},
   "outputs": [],
   "source": [
    "fullArt=artDet.fullArticle\n",
    "fullArtSent=nltk.sent_tokenize(fullArt)"
   ]
  },
  {
   "cell_type": "code",
   "execution_count": 17,
   "id": "d1ec8d7d-af9d-4e4e-bf21-b80ba262e6b0",
   "metadata": {},
   "outputs": [
    {
     "name": "stderr",
     "output_type": "stream",
     "text": [
      "C:\\ProgramData\\Anaconda3\\envs\\qenv\\lib\\site-packages\\flair\\models\\sequence_tagger_model.py:1046: UserWarning: We recommend to use SciSpaCy for tokenization and sentence splitting if HunFlair is applied to biomedical text, e.g.\n",
      "\n",
      "from flair.tokenization import SciSpacySentenceSplitter\n",
      "sentence = Sentence('Your biomed text', use_tokenizer=SciSpacySentenceSplitter())\n",
      "\n",
      "  warn(\n"
     ]
    },
    {
     "name": "stdout",
     "output_type": "stream",
     "text": [
      "Inflammatory <B-Disease> bowel <I-Disease> disease <E-Disease> ( IBD <S-Disease> ) is a chronic progressive and idiopathic <B-Disease> inflammatory <I-Disease> disorder <E-Disease> of the gastrointestinal tract ( GI ) tract , which includes ulcerative <B-Disease> colitis <E-Disease> ( UC <S-Disease> ) and Crohn <B-Disease> ’s <I-Disease> disease <E-Disease> ( CD <S-Disease> ) .\n",
      "-------->NER<------\n",
      "Although the etiology of IBD <S-Disease> remains largely unknown , it involves a complex interaction between the genetic , environmental , and aberrant immune responses .\n",
      "-------->NER<------\n",
      "In recent times , the involvement of gut microbiota is considered a new probable factor strongly connected with IBD <S-Disease> pathogenesis .\n",
      "-------->NER<------\n",
      "However , it is still unclear whether this dysbiosis is a primary or secondary event in the relationship with IBD <S-Disease> .\n",
      "-------->NER<------\n",
      "In this regard , Tomasello et al .\n",
      "-------->NER<------\n",
      "reported several mechanisms that are responsible for gut dysbiosis .\n",
      "-------->NER<------\n",
      "Among the various etiopathogenic hypotheses , the most important one suggests that change in the saprophytic microbial flora causes mucosal damage .\n",
      "-------->NER<------\n",
      "Modifications of intracellular tight junctions cause significant penetration of antigens , which leads to activation of the intestinal lymphatic system ( MALT ) .\n",
      "-------->NER<------\n",
      "Moreover , commensal microbiota plays a crucial role in the regulation of intestinal immune homeostasis .\n",
      "-------->NER<------\n",
      "For example , Bacteroides <B-Species> fragilis <E-Species> through the action of the bacterial-derived polysaccharide A ( PSA ) affects systemic Th1 response .\n",
      "-------->NER<------\n",
      "Additionally , intestinal microbiota composition is regulated by specialized ileal epithelial cells .\n",
      "-------->NER<------\n",
      "Paneth cells act by secreting granule contents that include antimicrobial peptides ( secretory <B-Gene> phospholipase <I-Gene> A2 <E-Gene> and α-defensins <S-Gene> ) , thus any defects in the autophagy pathway lead to cell pathology .\n",
      "-------->NER<------\n",
      "So far , previous studies have presented inconsistent and inconclusive results on alterations in the intestinal microbiota in IBD <S-Disease> patients .\n",
      "-------->NER<------\n",
      "The gut microbial composition of patients with IBD <S-Disease> is characterized by lower taxonomic levels of the most frequently assessed beneficial bacteria , such as Faecalibacterium <B-Species> prausnitzii <E-Species> and Roseburia <B-Species> intestinalis <E-Species> .\n",
      "-------->NER<------\n",
      "These microbes are responsible for butyric <B-Chemical> acid <E-Chemical> production , and as a result , can protect and modulate the intestinal immune response .\n",
      "-------->NER<------\n",
      "Additionally , UC <S-Disease> patients’ microbiota may harbor adherent / invasive Escherichia <B-Species> coli <E-Species> and Shigella species of the Enterobacteriaceae family .\n",
      "-------->NER<------\n",
      "Nevertheless , some changes in microbiota composition are observed in CD <S-Disease> patients only , with no further confirmation in UC <S-Disease> patients ( i.e. , in Actinobacteria , Firmicutes , Proteobacteria , Bacteroidetes , and Verrucomicrobia ) , which makes the clinical investigation of microbiota in this group of patients even more complicated .\n",
      "-------->NER<------\n",
      "Currently , one of the recent therapeutic options for UC <S-Disease> patients , fecal microbiota transplantation ( FMT ) , is applied in the clinical setting with a focus on restoring dysbiosis .\n",
      "-------->NER<------\n",
      "FMT is an infusion of stool from a healthy donor into the colon , or its delivery through the upper gastrointestinal tract , to a recipient with a disease believed to be related to an unhealthy gut microbiome .\n",
      "-------->NER<------\n",
      "Recent studies have proven the efficacy of FMT in the treatment of Clostridium <B-Disease/B-Species> difficile <I-Disease/E-Species> infection <E-Disease> , with cure rates up to 90 % .\n",
      "-------->NER<------\n",
      "From a long-term perspective , it might be possible that FMT will be useful in the maintenance of IBD <S-Disease> remission , which is of high importance in this treatment .\n",
      "-------->NER<------\n",
      "This was a clinically controlled intervention study conducted at the Department of Gastroenterology of Heliodor Swiecicki Clinical Hospital , at Poznan University of Medical Sciences between January 2018 and December 2019 .\n",
      "-------->NER<------\n",
      "The study protocol was approved on 10 November 2016 by the Research Ethical Committee of Poznan University of Medical Sciences in Poland ( No .\n",
      "-------->NER<------\n",
      "1004 / 16 ) and followed the requirements of the Declaration of Helsinki .\n",
      "-------->NER<------\n",
      "All patients ( donors and recipients of FMT ) provided written consent .\n",
      "-------->NER<------\n",
      "Ten patients <S-Species> participated in the study , where multi-session FMT treatment was performed in weeks 1 – 6 .\n",
      "-------->NER<------\n",
      "Simultaneously , at the baseline , after the 6th course of FMT administration ( week 7 ) , and at the end of the follow-up period ( 6 months ) , stool sample analyses were performed to assess the changes in the microbiome and the concentration of fecal calprotectin <S-Gene> .\n",
      "-------->NER<------\n",
      "Six healthy stool donors were recruited from volunteers who reported to Heliodor Swiecicki Clinical Hospital in Poznan .\n",
      "-------->NER<------\n",
      "Finally , 42 fecal samples collected from donors and recipients were used for microbial profiling .\n",
      "-------->NER<------\n",
      "Eligible patients were adults ( aged over 18 ) with moderately to severely active UC <S-Disease> ( Truelove – Witts Severity Index 2 – 3 ) , with no previous FMT history .\n",
      "-------->NER<------\n",
      "The prevailing body mass index ( BMI ) of enrolled patients <S-Species> was 22 ± 2.75 kg / m2 .\n",
      "-------->NER<------\n",
      "UC <S-Disease> was diagnosed based on clinical , endoscopic , and histological criteria .\n",
      "-------->NER<------\n",
      "Exclusion criteria were as follows : colonic surgery , gastrointestinal <B-Disease> infection <E-Disease> including parasitic <B-Disease> and <I-Disease> C. <I-Disease/B-Species> difficile <I-Disease/E-Species> infections <E-Disease> , indeterminate <B-Disease> colitis <E-Disease> , irritable <B-Disease> bowel <I-Disease> syndrome <E-Disease> , food <B-Disease> allergy <E-Disease> , co-morbid chronic <B-Disease> disease <E-Disease> , history of cancer <S-Disease> , pregnancy , use of antibiotics or probiotics during the 3 months before enrolment .\n",
      "-------->NER<------\n",
      "During the study , concomitant treatments using 5-aminosalicylic <B-Chemical> acid <E-Chemical> immunomodulators were permitted , as long as the dose was stable for 4 weeks , and oral corticosteroids <S-Chemical> with the mandatory taper of 4 – 5 mg per week .\n",
      "-------->NER<------\n",
      "However , neither the use of antibiotics nor probiotics was allowed .\n",
      "-------->NER<------\n",
      "Fecal donors were healthy individuals with regular Body Mass Index ( BMI : 18.5 – 24.9 kg / m2 ) , who consumed a diet following the principles of proper nutrition , were unrelated to recipients , and underwent detailed tests to rule out some diseases .\n",
      "-------->NER<------\n",
      "A detailed medical history interview , physical examination , body composition analysis , and evaluation according to the following criteria were performed .\n",
      "-------->NER<------\n",
      "Following the guidelines by Cammarota et al. , the exclusion criteria for fecal donors were as follows : the presence of HIV <S-Species> , hepatitis <B-Species> B <I-Species> and <I-Species> C <I-Species> virus <E-Species> , cytomegalovirus , Epstein <B-Disease/B-Species> – <I-Disease/I-Species> Barr <I-Disease/I-Species> virus <E-Disease/E-Species> , toxoplasmosis <S-Disease> , syphilis <S-Disease> , Clostridium <B-Species> difficile <E-Species> , Yersinia <B-Species> spp. <E-Species> , Campylobacter <B-Species> jejuni <E-Species> Shigella spp. , Helicobacter <B-Species> pylori <E-Species> , parasites and potential carriers of methicillin-resistant Staphylococcus <B-Species> aureus <E-Species> ( MRSA <S-Species> ) , vancomycin-resistant Enterococcus <S-Species> ( VRE <S-Species> ) , extended-spectrum-β-lactamase ( ESBL ) producing bacteria , carbapenem-resistant Enterobacteriaceae ( CRE ) , New Delhi metallo-β-lactamase ( NDM ) , Klebsiella <B-Species> pneumoniae <E-Species> carbapenemase ( KPC ) , and OXA-48 .\n",
      "-------->NER<------\n",
      "An additional exclusion criterion was the use of antibiotic therapy in the last 6 months .\n",
      "-------->NER<------\n",
      "Basic biochemical tests ( CRP <S-Gene> , TSH <S-Gene> , creatinine <S-Chemical> ) and complete blood count ( CBC ) were performed .\n",
      "-------->NER<------\n",
      "All samples were stored at − 80 ° C immediately after collection .\n",
      "-------->NER<------\n",
      "Donors’ fecal samples were examined twice in the pre-screening period and 6 weeks later to minimize the risk of disease transmission .\n",
      "-------->NER<------\n",
      "From the collection of feces to the preparation of the transplant , strict procedures were followed to ensure sterile conditions .\n",
      "-------->NER<------\n",
      "In the filtration process , the material was deprived of food residues ; 180 mL of the mixture was taken successively , poured into disposable sterile sealed bottles , and then 20 mL of sterile glycerol <S-Chemical> as a cryoprotectant was added to achieve the mixture of feces : saline : glycerol <S-Chemical> in a ratio of 2:7:1 .\n",
      "-------->NER<------\n",
      "The bottles were successively frozen at − 80 ° C to ensure that the value of the material was identical to fresh material .\n",
      "-------->NER<------\n",
      "On the day of transplantation , the material was thawed according to the procedure .\n",
      "-------->NER<------\n",
      "The bottles with the material were additionally wrapped with aluminum <S-Chemical> foil to minimize the harmful effects of light and provide the patient with psychological comfort during the procedure .\n",
      "-------->NER<------\n",
      "Intestinal microbiota transplantation was performed via colonoscopy or gastroduodenoscopy issues .\n",
      "-------->NER<------\n",
      "Participants received loperamide <S-Chemical> 2 mg orally to reduce intestinal peristalsis and to maintain the suspension for a longer period .\n",
      "-------->NER<------\n",
      "Fifty grams of fecal material was diluted with 150 – 200 mL sterile saline solution ( 0.9 %) .\n",
      "-------->NER<------\n",
      "Infusion of the fecal suspension was ongoing via the biopsy channel of the flexible endoscope using the biopsy channel cap with extension tubing over the course of 5 min followed by 100 mL of physiological saline .\n",
      "-------->NER<------\n",
      "The first dosage of FMT <S-Chemical> was given during the colonoscopy approach , throughout which 200 mL of a fecal suspension of donor stool was injected into the cecum .\n",
      "-------->NER<------\n",
      "Additionally , during colonoscopy , the severity and extent of UC <S-Disease> were estimated .\n",
      "-------->NER<------\n",
      "Five subsequent sessions of FMT were performed via the upper GI tract route once a week for five consecutive weeks .\n",
      "-------->NER<------\n",
      "A volume of 200 mL of fecal suspension was infused into the descending part of the duodenum .\n",
      "-------->NER<------\n",
      "No side effects were reported .\n",
      "-------->NER<------\n",
      "Stool samples from donors and recipients ( before and 1 month and 6 months after FMT ) were immediately stored at − 80 ° C until genetic material isolation .\n",
      "-------->NER<------\n",
      "From an approximately 200 μL feces aliquot , the bacterial <S-Species> DNA was extracted by using a Genomic Mini AX Bacteria + Kit ( A & A Biotechnology , Gdansk , Poland ) according to the manufacturer ’s protocol .\n",
      "-------->NER<------\n",
      "16S rRNA gene variable regions V3 and V4 were amplified in a two-step barcoding approach according to the 16S Metagenomic Sequencing Library Preparation protocol ( , Part # 15044223Rev.B , Nov 27 , 2013 ) using Illumina primers with overhang adapters ( Forward : 5′TCGTCGGCAGCGTCAGATGTGTATAAGAGACAGCCTACGGGNGGCWGCAG3′ , Reverse : 5′GTCTCGTGGGCTCGGAGATGTGTATAAGAGACAGGACTACHVGGGTATCTAATC3′ ) , indices ( Nextera ® XT Index Kit 96 , Illumina , San Diego , CA , USA ) , and KAPA HiFi HotStart ReadyMix PCR Kit ( KAPA Biosystems , Cape Town , South Africa ) .\n",
      "-------->NER<------\n",
      "Library concentration and quality were assessed on the Qubit ® 2.0 Fluorometer ( Thermo Fisher Scientific , Inc. , Waltham , MA , USA ) and the Agilent 2100 Bioanalyzer System ( Agilent , Santa Clara , CA , USA ) .\n",
      "-------->NER<------\n",
      "Subsequently , an 8 pM pooled library was enriched with a 20 % PhiX Control v3 ( Illumina , San Diego , CA , USA ) , and paired-end sequencing was performed on the Illumina MiSeq platform using the MiSeq Reagent <S-Chemical> Kit v3 ( 600 cycles ) .\n",
      "-------->NER<------\n",
      "In order to monitor the patient <S-Species> ’s clinical features , routine diagnostic blood tests were performed including a hemoglobin <S-Gene> count ( Hb <S-Gene> ( g / L )) , white cell count ( WBC ( 109 / L )) , red blood count ( RBC ( 1012 / L )) , platelet count ( PLT ( 109 / L )) , markers of inflammation <S-Disease> such as C <B-Gene> reactive <I-Gene> protein <E-Gene> ( CRP <S-Gene> ( mg / dL )) , iron <S-Chemical> ( Fe <S-Chemical> ( ug / dL )) , total iron-binding capacity ( TIBC ( ug / dL )) , serum <B-Gene> ferritin <E-Gene> ( ug / L ) as an indicator of iron <S-Chemical> storage , total protein level ( TP g / dL ) , and albumin <S-Gene> ( g / dL ) .\n",
      "-------->NER<------\n",
      "Additionally , fecal calprotectin <S-Gene> as a non-invasive test for the direct evaluation of intestinal inflammation <S-Disease> was measured using a commercially available quantitative enzyme-linked immunoassay ( PhiCal Calprotectin Elisa Kit , Immunodiagnostic , Bensheim , Germany ) .\n",
      "-------->NER<------\n",
      "Blood samples were taken after 14 h of fasting .\n",
      "-------->NER<------\n",
      "Biochemical assessments and metagenomic analysis were performed in a certified laboratory according to standardized procedures and good laboratory practice at the baseline ( week 0 ) , after the 6th course of therapeutic intervention , and at the end of the follow-up study .\n",
      "-------->NER<------\n",
      "Obtained sequencing reads were processed for quality check , demultiplexing , trimming , and alignment using CLC Genomic Workbench 8.5 and CLC Microbial Genomics Module 1.2 .\n",
      "-------->NER<------\n",
      "( Qiagen Bioinformatics , Aarhus , Denmark ) .\n",
      "-------->NER<------\n",
      "Chimeric sequences were removed and operational taxonomic units ( OTUs ) were clustered against the SILVA v119 97 % 16S rDNA gene database , following Quast et al. .\n",
      "-------->NER<------\n",
      "The results are presented as percentage average with 1 standard deviation for normally distributed continuous variables , or median ( interquartile range ) for non-normally distributed continuous variables as tested by the Shapiro – Wilk test .\n",
      "-------->NER<------\n",
      "A p-value of less than 0.05 was considered significant .\n",
      "-------->NER<------\n",
      "The associations between clinical parameters and bacteria were tested by the Spearman rank coefficient .\n",
      "-------->NER<------\n",
      "For comparison of OTU richness in all studied groups , Kruskal – Wallis ( p = 0.0013 ) and U Mann – Whitney tests were used .\n",
      "-------->NER<------\n",
      "Comparisons between two groups were analyzed by the U Mann – Whitney test , and for more than two groups by ANOVA with post hoc Tukey test or Friedman with post hoc Dunn test for normally distributed continuous variables or non-normally distributed variables , respectively .\n",
      "-------->NER<------\n",
      "Statistical analysis was performed using Dell Inc . ( 2016 ) .\n",
      "-------->NER<------\n",
      "Dell Statistica ( data analysis software system ) , version 13 . software.dell.com .\n",
      "-------->NER<------\n",
      "The clinical characteristics of patients are presented in Table 1 .\n",
      "-------->NER<------\n",
      "The diversity and richness of the fecal microbiota were significantly higher in donors compared with UC <S-Disease> patients .\n",
      "-------->NER<------\n",
      "At week 7 after FMT , the diversity and richness of the recipients’ fecal microbiota increased but then slightly decreased after 6 months ( Figure 1 ) .\n",
      "-------->NER<------\n",
      "Assessment of phylum microbial diversity between recipients and donors indicated statistically significant changes in Verrucomicrobiota ( Figure 2 ) .\n",
      "-------->NER<------\n",
      "Metagenomic analysis also indicated statistical changes in the family diversity of Christensenellaceae , Family XIII , Ruminococcaceae , and Verrucomicrobiaceae ( Figure 3A ) .\n",
      "-------->NER<------\n",
      "Within the range of genera , significant changes between donors’ and recipients’ microbiota were observed in the numbers of Akkermansia , Alloprevotella , Christensenella , Coprococcus , Dorea , Faecalibacterium , Incertae Sedis-03 , Incertae Sedis-04 , Incertae Sedis-06 , Ruminococcus , and Subdoligranulum ( Figure 4A ) .\n",
      "-------->NER<------\n",
      "Positive changes in the abundance of the phylum Firmicutes over the course of FMT were indicated in recipient patients , where a statistically significant increase was observed between baseline and the end of the follow-up period ( 6 months ) ( Figure 5 ) .\n",
      "-------->NER<------\n",
      "Metagenomic analysis indicated a significant increase in the family abundance of Lactobacillaceaea , Micrococcaceae , Prevotellaceae , and TM7 phylum sp .\n",
      "-------->NER<------\n",
      "oral clone EW055 during FMT , whereas Bacillaceae and Staphylococcaceae <S-Species> declined significantly ( p < 0.05 ) ( Figure 3B ) .\n",
      "-------->NER<------\n",
      "Moreover , positive , significant changes in the genus diversity were shown in the abundance of Anaerococcus , Bifidobacterium , Lactobacillus , Rothia , TM7 phylum sp .\n",
      "-------->NER<------\n",
      "oral clone EW055 , and Veillonella .\n",
      "-------->NER<------\n",
      "In contrast , we observed a decreased richness of Bacillus , Bacteroides , and Staphylococcus <S-Species> after FMT and 6 months later , while Streptococcus <S-Species> decreased after FMT but increased at 6 months post FMT ( Figure 4B ) .\n",
      "-------->NER<------\n",
      "Biochemical results are shown in Table 2 .\n",
      "-------->NER<------\n",
      "The disease activity was determined based on clinical and biochemical indicators .\n",
      "-------->NER<------\n",
      "The comparison of biomarkers such as red blood count ( RBC ) , hematocrit HCT , total iron-binding capacity ( TIBC ) , C <B-Gene> reactive <I-Gene> protein <E-Gene> ( CRP <S-Gene> ) , total protein level ( TP ) , and calprotectin <S-Gene> over the three time points of analysis ( baseline , 7 weeks , and 6 months ) showed statistically significant and clinically beneficial changes ( p < 0.05 ) .\n",
      "-------->NER<------\n",
      "These significant , positive changes in biomarker concentrations were maintained during the follow-up period ( 6 months after FMT ) for all of them .\n",
      "-------->NER<------\n",
      "However , directly after FMT ( at the 7th week ) , statistically significant changes were observed only for CRP <S-Gene> and TP <S-Gene> .\n",
      "-------->NER<------\n",
      "Disease activity was classified based on the Truelove and Witts score ( p < 0.05 ) , which was also significant in the follow-up period .\n",
      "-------->NER<------\n",
      "Additionally , before FMT administration we observed a positive correlation in recipients’ stool between calprotectin <S-Gene> level and Bacillus and Staphylococcus <S-Species> genera , and Staphylococcaceae family richness .\n",
      "-------->NER<------\n",
      "Furthermore , we noted that low serum ferritin <S-Gene> concentration coexisted with decreased abundance of the Lactobacillaceae family , Lactobacillus genera , and Veillonella species , whereas augmented Bifidobacterium in recipients’ stool 6 months after FMT contributed to an increase in the level of serum ferritin <S-Gene> ( Table 3 ) .\n",
      "-------->NER<------\n",
      "In the current study , the effectiveness of multi-session FMT was proven as a promising therapeutic option for moderately to severely active UC <S-Disease> patients .\n",
      "-------->NER<------\n",
      "The high percentage of patients ( 60 %) that achieved clinically significant improvement highlights the importance of FMT in long-term microbial diversity modulation in UC <S-Disease> patients .\n",
      "-------->NER<------\n",
      "No serious adverse effects were observed .\n",
      "-------->NER<------\n",
      "Therefore , FMT can be characterized as a safe procedure in the clinical setting .\n",
      "-------->NER<------\n",
      "There are several factors such as delivery route , frequency , dosage , and microbiota resources that may significantly affect the outcome of FMT in UC <S-Disease> patients .\n",
      "-------->NER<------\n",
      "The most adequate route of administration for FMT remains to be defined .\n",
      "-------->NER<------\n",
      "Multiple approaches to FMT including upper-gut delivery ( oral capsules of fecal microbiota ) , mid-gut delivery ( naso-intestinal tubes , gastroduodenoscopy , transendoscopic enteral tubing ( TET ) , intestinal stoma , percutaneous endoscopic gastrostomy with jejunal tubes ( PEG-J )) , or lower-gut delivery ( colonoscopy , enema , infusions through colonic stomas and a new delivering technic colonic transendoscopic enteral tubing ( TET ) or combinations ) have been described in several studies .\n",
      "-------->NER<------\n",
      "Moayyedi et al .\n",
      "-------->NER<------\n",
      "performed FMT via enema , and Rossen et al .\n",
      "-------->NER<------\n",
      "used a nasoduodenal tube .\n",
      "-------->NER<------\n",
      "The numerous adverse effects noted with the use of the naso-intestinal route convinced us that FMT should be performed using colonoscopy and gastroscopy .\n",
      "-------->NER<------\n",
      "The same approach was followed by Goyal et al. .\n",
      "-------->NER<------\n",
      "It has to be mentioned that the intensity and duration of FMT may also affect the outcome .\n",
      "-------->NER<------\n",
      "In the current study , patients <S-Species> received fecal material once weekly for six consecutive weeks .\n",
      "-------->NER<------\n",
      "In another study , stool was administered five days per week for eight weeks .\n",
      "-------->NER<------\n",
      "Rossen et al .\n",
      "-------->NER<------\n",
      "delivered fecal material at weeks 0 and 3 .\n",
      "-------->NER<------\n",
      "Clinical improvement was observed in cases with higher frequency and longer duration of FMT , thus indicating this approach as superior to rare and short-term interventions , in which no significant differences in clinical and endoscopic remission in UC <S-Disease> patients were observed .\n",
      "-------->NER<------\n",
      "In general , greater intensity and duration of FMT result in a higher rate of remission in patients <S-Species> with UC <S-Disease> .\n",
      "-------->NER<------\n",
      "Moreover , the efficacy of FMT in UC <S-Disease> patients is influenced by the taxonomic composition of the donor ’s intestinal microbiota .\n",
      "-------->NER<------\n",
      "According to the literature published so far , no statistically significant differences were found when fresh stools were used for FMT as compared to frozen-thawed fecal material .\n",
      "-------->NER<------\n",
      "However , it has not been established whether single donor vs. multi-donor stool has better efficacy in re-establishing enteric homeostasis .\n",
      "-------->NER<------\n",
      "It would seem that multi-donor stools may present with greater microbial diversity .\n",
      "-------->NER<------\n",
      "It should be highlighted that microbial diversity also plays a crucial role in preventing the overgrowth of pathogens in UC <S-Disease> .\n",
      "-------->NER<------\n",
      "Therefore , donors chosen for the study were healthy individuals with a beneficial microbiota composition , without any co-morbidities .\n",
      "-------->NER<------\n",
      "The metagenomics analysis indicated statistically significant differences between donors and recipients in the family diversity of Christensenellaceae , Family XIII , Ruminococcaceae , and Verrucomicrobiaceae , which could directly influence changes in specific genus microbial diversity .\n",
      "-------->NER<------\n",
      "As shown in the meta-analysis by Mancabelli et al. , Christensenellaceae is an indicator of a healthy gut .\n",
      "-------->NER<------\n",
      "Indeed , a growing body of evidence supports the consistent reduction of Christensenellaceae in patients with UC <S-Disease> and Crohn <B-Disease> ’s <I-Disease> disease <E-Disease> .\n",
      "-------->NER<------\n",
      "Christensenellaceae is a recently described family associated with a lean BMI and short-chain fatty <B-Chemical> acids <E-Chemical> ( SCFAs <S-Chemical> ) .\n",
      "-------->NER<------\n",
      "A noteworthy phylum is the Verrucomicrobia .\n",
      "-------->NER<------\n",
      "It is a widely held view that reduced levels of Verrucomicrobia in the gastrointestinal tract are indicative of gut dysbiosis and are observed in UC <S-Disease> patients .\n",
      "-------->NER<------\n",
      "This is consistent with our metagenomic analysis , in which microbiota of healthy donors revealed a relatively higher abundance of Verrucomicrobia .\n",
      "-------->NER<------\n",
      "Alam et al .\n",
      "-------->NER<------\n",
      "reported in a mouse <S-Species> model that Akkermansia <B-Species> muciniphila <E-Species> ( which belongs to the Verrucomicrobia phylum ) plays a major role in intestinal wound <S-Disease> healing and is considered to be a “ probiont ” species that contributes towards the repair of mucosal wounds .\n",
      "-------->NER<------\n",
      "Furthermore , Akkermansia is associated with the immune response and the induction of interleukin-10 <S-Gene> ( IL-10 <S-Gene> ) cytokine <S-Gene> and SFCA <S-Gene> production , supplying energy to goblet cells that produce mucin <S-Gene> .\n",
      "-------->NER<------\n",
      "Patients with refractory UC <S-Disease> , who achieved remission after FMT had a significantly higher relative abundance of Ruminococcaceae including Ruminococcus spp .\n",
      "-------->NER<------\n",
      "and Akkermansia <B-Species> muciniphila <E-Species> .\n",
      "-------->NER<------\n",
      "This could be due to their ability to process nondigestible carbohydrates <S-Chemical> and promote the production of SFCAs <S-Gene> as well .\n",
      "-------->NER<------\n",
      "According to Paramsothy et al. , increased abundance of Bacteroides ( B. <B-Species> fragilis <E-Species> and B. <B-Species> finegoldii <E-Species> ) in donor stool may be associated with observed remission in patients receiving FMT , while changes in Streptococcus <S-Species> may not be related to FMT response .\n",
      "-------->NER<------\n",
      "Santoru et al .\n",
      "-------->NER<------\n",
      "also showed that the microbial profile is characterized by a significantly higher presence of Verrucomicrobia , Firmicutes , Proteobacteria , and Fusobacteria in the IBD <S-Disease> group .\n",
      "-------->NER<------\n",
      "Additionally , bacterial taxa such as Coprococcus , Mucispirillum , Odoribacter , Prevotella , and Oscillospira were increased in abundance specifically in the early regenerative mucosa .\n",
      "-------->NER<------\n",
      "Six months after FMT , a rise in the abundance of the Micrococcaceae family in the recipients’ stools was observed .\n",
      "-------->NER<------\n",
      "Walujkar et al .\n",
      "-------->NER<------\n",
      "showed an increase in the abundance of the genus Micrococcus in mucosal-associated microbiota ( MAM ) of exacerbated UC <S-Disease> patients when compared with the remission phase .\n",
      "-------->NER<------\n",
      "This was in the line with a study by Kiernan et al .\n",
      "-------->NER<------\n",
      "where a lower abundance of Actinobacteria phyla including Mycobacteriaceae , Micrococcaceae , and Streptomycineae was detected in healthy individuals .\n",
      "-------->NER<------\n",
      "In the current study , an increase in the Micrococcaceae family may be an indication that microbiota composition is going to change in the pro-inflammatory direction , and from a long-term perspective , FMT will be needed in UC <S-Disease> patients as a regular repeated procedure .\n",
      "-------->NER<------\n",
      "Chen et al .\n",
      "-------->NER<------\n",
      "reported changes in the abundance of Faecalibacterium <B-Species> prausnitzii <E-Species> following FMT , which is of high importance for inflammatory <B-Disease> diseases <E-Disease> .\n",
      "-------->NER<------\n",
      "In the intestine , F. <B-Species> prausnitzii <E-Species> produces butyrate <S-Chemical> , which can reduce intestinal mucosa inflammation <S-Disease> by inhibiting the nuclear <B-Gene> factor <I-Gene> kappa-light-chain-enhancer <I-Gene> of <I-Gene> activated <I-Gene> B <I-Gene> cells <E-Gene> ( NF-κB <S-Gene> ) transcription <B-Gene> factor <E-Gene> .\n",
      "-------->NER<------\n",
      "Another study showed differences in the abundance of bacteria such as Lachnospiraceae , Bacteroidetes , Proteobacteria , and Clostridium clusters IV and XIVa ( Firmicutes ) in UC <S-Disease> patients after FMT .\n",
      "-------->NER<------\n",
      "This is in line with the current study , where beneficial changes in the abundance of the phylum Firmicutes over the course of FMT were indicated in recipient UC <S-Disease> patients .\n",
      "-------->NER<------\n",
      "Dutta et al .\n",
      "-------->NER<------\n",
      "also reported , during FMT , a significant rise in Lachnospiraceae , which have anti-inflammatory qualities .\n",
      "-------->NER<------\n",
      "Data concerning the Bacteroidetes phylum are not unambiguous .\n",
      "-------->NER<------\n",
      "According to our baseline data , a relatively higher abundance of Bacteroides was noted in recipients compared to donors , and it declined after FMT .\n",
      "-------->NER<------\n",
      "Some studies reported a decrease in the abundance of the Bacteroides in Crohn <B-Disease> ’s <I-Disease> disease <E-Disease> and UC <S-Disease> patients .\n",
      "-------->NER<------\n",
      "In contrast , Andoh et al .\n",
      "-------->NER<------\n",
      "reported an increased abundance of this phylum in IBD <S-Disease> patients .\n",
      "-------->NER<------\n",
      "Analysis of our recipients’ stools indicated a significantly different abundance of Bifidobacterium and Lactobacillus genera , comparing the pre and post-fecal microbiota transplantation samples and at 6 months after FMT .\n",
      "-------->NER<------\n",
      "The Lactobacilli and Bifidobacteria <S-Species> are responsible for the process of dietary carbohydrate <S-Chemical> fermentation in the colon , leading to the production of SCFAs <S-Chemical> such as butyrate <S-Chemical> , propionate <S-Chemical> , and acetate <S-Chemical> .\n",
      "-------->NER<------\n",
      "Due to their potential therapeutic anti-inflammatory components , some strains of Lactobacilli might positively influence the activity of inflammation <S-Disease> in IBD <S-Disease> patients .\n",
      "-------->NER<------\n",
      "According to Nishida et al. , an increasing proportion of Bifidobacterium and Lactobacillus <S-Species> in recipients’ stools might contribute to a favorable response to FMT .\n",
      "-------->NER<------\n",
      "Nevertheless , some studies conducted in IBD <S-Disease> patients have shown a significant depletion of beneficial Lactobacillus in both UC <S-Disease> and CD <S-Disease> individuals .\n",
      "-------->NER<------\n",
      "At the baseline of our study , an overabundance of Staphylococcus taxa was observed in recipients , and it was consistently depleted after FMT .\n",
      "-------->NER<------\n",
      "The mechanism of colonization of Staphylococcus <S-Species> in the human <S-Species> gut is still barely understood .\n",
      "-------->NER<------\n",
      "However , some studies suggest an association of Staphylococcus <B-Species> aureus <E-Species> with IBD <S-Disease> .\n",
      "-------->NER<------\n",
      "The Staphylococcus genus was found more frequently in UC <S-Disease> patients with coexisting arthritis <S-Disease> .\n",
      "-------->NER<------\n",
      "Furthermore , we observed an increased abundance of the Prevotellecaeae family in our recipients’ microbiota concomitantly after FMT and 6 months later .\n",
      "-------->NER<------\n",
      "A similar observation was presented by Paramsmothy et al. , showing that Prevotella was a prominent feature in several patients during and after fecal microbiota transplantation .\n",
      "-------->NER<------\n",
      "Several studies have shown associations between the Mediterranean diet and an increased abundance of Prevotella .\n",
      "-------->NER<------\n",
      "From the clinical point of view , there are also several biomarkers such as C <B-Gene> reactive <I-Gene> protein <E-Gene> ( CRP <S-Gene> ) , erythrocyte sedimentation rate ( ESR ) , platelets , and fecal <B-Gene> calprotectin <E-Gene> that can be used for objective evaluation of disease activity and inflammation <S-Disease> in IBD <S-Disease> patients .\n",
      "-------->NER<------\n",
      "In the current study , the concentration of CRP <S-Gene> and calprotectin <S-Gene> significantly improved directly after FMT ( p < 0.05 ) , and the effect was maintained in the follow-up period of observation .\n",
      "-------->NER<------\n",
      "Similarly to our results , Uygun et al .\n",
      "-------->NER<------\n",
      "reported that CRP <S-Gene> and sedimentation level improved after FMT in both responder and non-responder to this therapy groups of patients <S-Species> .\n",
      "-------->NER<------\n",
      "Comparably , Cold et al .\n",
      "-------->NER<------\n",
      "in an open-labeled pilot study confirmed that median fecal calprotectin <S-Gene> decreased significantly during the FMT treatment period , but increased again in the follow-up .\n",
      "-------->NER<------\n",
      "Additionally , we observed a positive correlation between calprotectin <S-Gene> level and Bacillus and Staphylococcus <S-Species> richness in recipients’ stools before FMT administration .\n",
      "-------->NER<------\n",
      "Calprotectin <S-Gene> belongs to the antimicrobial proteins that inhibit the growth of microbial species .\n",
      "-------->NER<------\n",
      "Damo et al .\n",
      "-------->NER<------\n",
      "reported that calprotectin <S-Gene> hinders the growth of bacterial pathogens such as Staphylococcus <B-Species> aureus <E-Species> , S. <B-Species> epidermidis <E-Species> , S. <B-Species> lugdunesis <E-Species> , and Enterococcus <B-Species> fecalis <E-Species> , etc .\n",
      "-------->NER<------\n",
      "Furthermore , we noticed that low serum ferritin <S-Gene> concentration coexisted with decreased abundance of Lactobacillus and Veillonella species , whereas augmented Bifidobacterium in recipients’ stools 6 months after FMT contributed to an increased level of serum ferritin <S-Gene> .\n",
      "-------->NER<------\n",
      "One third of IBD <S-Disease> patients suffer from iron <S-Chemical/B-Disease> deficiency <I-Disease> anemia <E-Disease> ( IDA <S-Disease> ) or anemia <B-Disease> of <I-Disease> chronic <I-Disease> disease <E-Disease> ( ACD <S-Disease> ) .\n",
      "-------->NER<------\n",
      "Das et al .\n",
      "-------->NER<------\n",
      "showed that gut microbial metabolites may regulate host systemic iron <S-Chemical> homeostasis via ferritin <S-Gene> regulation .\n",
      "-------->NER<------\n",
      "Lactobacillus species are the crucial bacteria in ascertaining intestinal iron <S-Chemical> levels and attenuating host iron <S-Chemical> absorption .\n",
      "-------->NER<------\n",
      "This study has some limitations .\n",
      "-------->NER<------\n",
      "The small number of patients who enrolled in this study means that it should be treated as a pilot in the further evaluation of FMT efficacy in UC <S-Disease> patients , where a control group should be introduced to avoid potential bias in the data analysis .\n",
      "-------->NER<------\n",
      "FMT seems to be a promising therapy for the management of moderately to severely active UC <S-Disease> .\n",
      "-------->NER<------\n",
      "Our pilot study demonstrated that six rounds of intensive , weekly FMT administration contributed to clinical ( Truelove and Witts score ) and biochemical ( CRP <S-Gene> , calprotectin <S-Gene> ) improvement not only immediately after FMT , but also persisting up to 6 months of follow-up .\n",
      "-------->NER<------\n",
      "Metagenomic analysis revealed significant differences in microbial diversity and richness between recipients and donors .\n",
      "-------->NER<------\n",
      "After FMT , we observed a positive increase in the amount of Lactobacillaceaea , Micrococcaceae , Prevotellaceae , and TM7 phylum sp .\n",
      "-------->NER<------\n",
      "oral clone EW055 , whereas Staphylococcaceae and Bacillaceae declined significantly .\n",
      "-------->NER<------\n",
      "Furthermore , we revealed a positive change in the abundance of Firmicutes both during FMT and after 6 months .\n",
      "-------->NER<------\n",
      "It seems that the efficacy of this study might be related to the good donor microbial characteristics and the planned scheme and route ( one colonoscopy and five rounds of gastroduodenoscopy ) of FMT .\n",
      "-------->NER<------\n",
      "Conceptualization , D.M. - W. ; methodology , D.M. - W. , H.T. , and O.Z. - B .\n",
      "-------->NER<------\n",
      "; software , A.S. and Ł.W .\n",
      "-------->NER<------\n",
      "; formal analysis , O.Z. - B .\n",
      "-------->NER<------\n",
      "and M.S. - Z .\n",
      "-------->NER<------\n",
      "; investigation , D.M. - W. , M.G. , H.T. , and A.B .\n",
      "-------->NER<------\n",
      "; resources , D.M. , and M.G .\n",
      "-------->NER<------\n",
      "; data curation , D.M. - W. and M.G .\n",
      "-------->NER<------\n",
      "; writing — original draft preparation , D.M. - W. and M.S. - M. ; figures , M.S. - Z .\n",
      "-------->NER<------\n",
      "; writing — review and editing , D.M. - W. and M.S. - M. ; supervision , R.S .\n",
      "-------->NER<------\n",
      "and A.D . All authors have read and agreed to the published version of the manuscript .\n",
      "-------->NER<------\n",
      "This study was supported by a grant ( number 502-01-222-38-000 ) for young scientists from Poznan University of Medical Sciences , Poznan , Poland .\n",
      "-------->NER<------\n",
      "The authors declare no conflict of interest .\n",
      "-------->NER<------\n"
     ]
    }
   ],
   "source": [
    "chemicals=[]\n",
    "disease=[]\n",
    "genes=[]\n",
    "spacies=[]\n",
    "for sent in fullArtSent: \n",
    "    nerAbs=flairNER(sent)\n",
    "    print(nerAbs.to_tagged_string())\n",
    "    chemicals.append(nerAbs.to_dict('hunflair-chemical'))\n",
    "    disease.append(nerAbs.to_dict('hunflair-disease'))\n",
    "    spacies.append(nerAbs.to_dict('hunflair-spacies'))\n",
    "    genes.append(nerAbs.to_dict('hunflair-gene'))\n",
    "    #print(nerAbs.to_dict('hunflair-disease'))\n",
    "    print(\"-------->NER<------\")\n",
    "    for annLayer in nerAbs.annotation_layers.keys():\n",
    "        print(\"Here: \",annLayer)\n",
    "        for entity in nerAbs.get_spans(annLayer):\n",
    "            print(entity)"
   ]
  },
  {
   "cell_type": "code",
   "execution_count": 20,
   "id": "7d3af6c1-69d4-42e9-a482-639de78fa2c4",
   "metadata": {},
   "outputs": [
    {
     "data": {
      "text/plain": [
       "203"
      ]
     },
     "execution_count": 20,
     "metadata": {},
     "output_type": "execute_result"
    }
   ],
   "source": [
    "len(genes)"
   ]
  },
  {
   "cell_type": "code",
   "execution_count": 33,
   "id": "14632050-bf8a-4386-9b73-c5668a65bb7f",
   "metadata": {},
   "outputs": [],
   "source": [
    "sentence=[]\n",
    "entities=[]\n",
    "for i in range(len(chemicals)):\n",
    "    if genes[i]['entities']!=[] and disease[i]['entities']!=[]:\n",
    "        entyTemp=[]\n",
    "        for j in range(len(disease[i]['entities'])):\n",
    "            entyTemp.append((disease[i]['entities'][j]['text'],genes[i]['entities'][0]['text']))\n",
    "        sentence.append(genes[i]['text'])\n",
    "        entities.append(entyTemp)"
   ]
  },
  {
   "cell_type": "code",
   "execution_count": 34,
   "id": "c28d46e6-b750-4e7c-9ae2-7fc9eabbf43b",
   "metadata": {},
   "outputs": [
    {
     "name": "stdout",
     "output_type": "stream",
     "text": [
      "In order to monitor the patient’s clinical features, routine diagnostic blood tests were performed including a hemoglobin count (Hb (g/L)), white cell count (WBC (109/L)), red blood count (RBC (1012/L)), platelet count (PLT (109/L)), markers of inflammation such as C reactive protein (CRP (mg/dL)), iron (Fe (ug/dL)), total iron-binding capacity (TIBC (ug/dL)), serum ferritin (ug/L) as an indicator of iron storage, total protein level (TP g/dL), and albumin (g/dL).\n",
      "[('inflammation', 'hemoglobin')]\n",
      "Additionally, fecal calprotectin as a non-invasive test for the direct evaluation of intestinal inflammation was measured using a commercially available quantitative enzyme-linked immunoassay (PhiCal Calprotectin Elisa Kit, Immunodiagnostic, Bensheim, Germany).\n",
      "[('inflammation', 'calprotectin')]\n",
      "In the intestine, F. prausnitzii produces butyrate, which can reduce intestinal mucosa inflammation by inhibiting the nuclear factor kappa-light-chain-enhancer of activated B cells (NF-κB) transcription factor.\n",
      "[('inflammation', 'nuclear factor kappa-light-chain-enhancer of activated B cells')]\n",
      "From the clinical point of view, there are also several biomarkers such as C reactive protein (CRP), erythrocyte sedimentation rate (ESR), platelets, and fecal calprotectin that can be used for objective evaluation of disease activity and inflammation in IBD patients.\n",
      "[('inflammation', 'C reactive protein'), ('IBD', 'C reactive protein')]\n"
     ]
    }
   ],
   "source": [
    "for sent, ent in zip(sentence,entities):\n",
    "    print(sent)\n",
    "    print(ent)"
   ]
  },
  {
   "cell_type": "code",
   "execution_count": 15,
   "id": "3d1d074d-61d4-4612-847a-8c58ae6aaa7e",
   "metadata": {},
   "outputs": [],
   "source": [
    "from flair.tokenization import SciSpacySentenceSplitter, SciSpacyTokenizer"
   ]
  },
  {
   "cell_type": "code",
   "execution_count": 16,
   "id": "7dd551ac-d391-4fc3-a525-94c4a76b706c",
   "metadata": {},
   "outputs": [],
   "source": [
    "sentSpliter=SciSpacySentenceSplitter()"
   ]
  },
  {
   "cell_type": "code",
   "execution_count": 17,
   "id": "eca921b1-7003-4450-9816-47cfc84ff85d",
   "metadata": {},
   "outputs": [],
   "source": [
    "sentencesSplited=sentSpliter.split(artDet.abstract)"
   ]
  },
  {
   "cell_type": "code",
   "execution_count": 25,
   "id": "5388336a-16c2-4fca-a3f5-949150f41ae7",
   "metadata": {},
   "outputs": [
    {
     "name": "stdout",
     "output_type": "stream",
     "text": [
      "[Sentence: \"  Consumption of alcohol ( ethanol ) in various forms has been an integral part of human civilization .\"   [− Tokens: 19  − Token-Labels: \"  Consumption of alcohol <S-Chemical> ( ethanol <S-Chemical> ) in various forms has been an integral part of human <S-Species> civilization .\"], Sentence: \"Since ages , it also has been an important cause of death and health impairment across the globe .\"   [− Tokens: 19], Sentence: \"Ethanol - mediated liver injury , known as alcoholic liver disease ( ALD ) , is caused by surplus intake of alcohol .\"   [− Tokens: 23  − Token-Labels: \"Ethanol <S-Chemical> - mediated liver <B-Disease> injury <E-Disease> , known as alcoholic <B-Disease> liver <I-Disease> disease <E-Disease> ( ALD <S-Disease> ) , is caused by surplus intake of alcohol <S-Chemical> .\"], Sentence: \"Several studies have proposed the different pathways that may be lead to ALD .\"   [− Tokens: 14  − Token-Labels: \"Several studies have proposed the different pathways that may be lead to ALD <S-Disease> .\"], Sentence: \"One of the factors that may affect the cytochrome P450 ( CYP2E1 ) metabolic pathway is gut dysbiosis .\"   [− Tokens: 19  − Token-Labels: \"One of the factors that may affect the cytochrome <B-Gene> P450 <E-Gene> ( CYP2E1 <S-Gene> ) metabolic pathway is gut dysbiosis .\"], Sentence: \"The gut microbiota produces various compounds that play an important role in regulating healthy functions of distal organs such as the adipose tissue and liver .\"   [− Tokens: 26], Sentence: \"Dysbiosis causes bacteremia , hepatic encephalopathy , and increased intestinal permeability .\"   [− Tokens: 12  − Token-Labels: \"Dysbiosis <S-Disease> causes bacteremia <S-Disease> , hepatic <B-Disease> encephalopathy <E-Disease> , and increased intestinal permeability .\"], Sentence: \"Recent clinical studies have found better understanding of the gut and liver axis .\"   [− Tokens: 14], Sentence: \"Another factor that may affect the ALD pathway is dysfunction of adipose tissue metabolism .\"   [− Tokens: 15  − Token-Labels: \"Another factor that may affect the ALD <S-Disease> pathway is dysfunction <B-Disease> of <I-Disease> adipose <I-Disease> tissue <I-Disease> metabolism <E-Disease> .\"], Sentence: \"Moreover , dysfunction of adipose tissue leads to ectopic fat deposition within the liver and disturbs lipid metabolism by increasing lipolysis / decreasing lipogenesis and impaired glucose tolerance of adipose tissue which leads to ectopic fat deposition within the liver .\"   [− Tokens: 41  − Token-Labels: \"Moreover , dysfunction of adipose tissue leads to ectopic fat deposition within the liver and disturbs lipid metabolism by increasing lipolysis / decreasing lipogenesis and impaired glucose <S-Chemical> tolerance of adipose tissue which leads to ectopic fat deposition within the liver .\"], Sentence: \"Adipokine secretion of resistin , leptin , and adiponectin is adversely modified upon prolonged alcohol consumption .\"   [− Tokens: 17  − Token-Labels: \"Adipokine <S-Gene> secretion of resistin <S-Gene> , leptin <S-Gene> , and adiponectin <S-Gene> is adversely modified upon prolonged alcohol <S-Chemical> consumption .\"], Sentence: \"In the combination of these two factors , a proinflammatory state is developed within the patient leading to the progression of ALD .\"   [− Tokens: 23  − Token-Labels: \"In the combination of these two factors , a proinflammatory state is developed within the patient <S-Species> leading to the progression of ALD <S-Disease> .\"], Sentence: \"Thus , the therapeutic approach for treatments and prevention for liver cirrhosis patients must be focused on the gut - liver - adipose tissue network modification with the use of probiotics , synbiotics , and prebiotics .\"   [− Tokens: 37  − Token-Labels: \"Thus , the therapeutic approach for treatments and prevention for liver <B-Disease> cirrhosis <E-Disease> patients must be focused on the gut - liver - adipose tissue network modification with the use of probiotics , synbiotics , and prebiotics .\"], Sentence: \"This review is aimed at the effect of ethanol on gut and adipose tissue in both rodent and human alcoholic models .\"   [− Tokens: 22  − Token-Labels: \"This review is aimed at the effect of ethanol <S-Chemical> on gut and adipose tissue in both rodent <S-Species> and human <S-Species> alcoholic <S-Disease> models .\"]]\n"
     ]
    }
   ],
   "source": [
    "print(sentencesSplited)"
   ]
  },
  {
   "cell_type": "code",
   "execution_count": 19,
   "id": "4267d840-237d-4fe3-9154-d5ab7943dc67",
   "metadata": {},
   "outputs": [
    {
     "name": "stdout",
     "output_type": "stream",
     "text": [
      "['Consumption of alcohol (ethanol) in various forms has been an integral part of human civilization.', 'Since ages, it also has been an important cause of death and health impairment across the globe.', 'Ethanol-mediated liver injury, known as alcoholic liver disease (ALD), is caused by surplus intake of alcohol.', 'Several studies have proposed the different pathways that may be lead to ALD.', 'One of the factors that may affect the cytochrome P450 (CYP2E1) metabolic pathway is gut dysbiosis.', 'The gut microbiota produces various compounds that play an important role in regulating healthy functions of distal organs such as the adipose tissue and liver.', 'Dysbiosis causes bacteremia, hepatic encephalopathy, and increased intestinal permeability.', 'Recent clinical studies have found better understanding of the gut and liver axis.', 'Another factor that may affect the ALD pathway is dysfunction of adipose tissue metabolism.', 'Moreover, dysfunction of adipose tissue leads to ectopic fat deposition within the liver and disturbs lipid metabolism by increasing lipolysis/decreasing lipogenesis and impaired glucose tolerance of adipose tissue which leads to ectopic fat deposition within the liver.', 'Adipokine secretion of resistin, leptin, and adiponectin is adversely modified upon prolonged alcohol consumption.', 'In the combination of these two factors, a proinflammatory state is developed within the patient leading to the progression of ALD.', 'Thus, the therapeutic approach for treatments and prevention for liver cirrhosis patients must be focused on the gut-liver-adipose tissue network modification with the use of probiotics, synbiotics, and prebiotics.', 'This review is aimed at the effect of ethanol on gut and adipose tissue in both rodent and human alcoholic models.']\n"
     ]
    }
   ],
   "source": [
    "print(absSent)"
   ]
  },
  {
   "cell_type": "code",
   "execution_count": 21,
   "id": "45977d7a-677f-4de6-81ab-dcc295b2c26a",
   "metadata": {},
   "outputs": [
    {
     "name": "stdout",
     "output_type": "stream",
     "text": [
      "2022-08-02 14:19:24,016 loading file C:\\Users\\aberhe\\.flair\\models\\hunflair-celline-v1.0.pt\n",
      "2022-08-02 14:19:33,492 loading file C:\\Users\\aberhe\\.flair\\models\\hunflair-chemical-full-v1.0.pt\n",
      "2022-08-02 14:19:41,411 loading file C:\\Users\\aberhe\\.flair\\models\\hunflair-disease-full-v1.0.pt\n",
      "2022-08-02 14:19:50,437 loading file C:\\Users\\aberhe\\.flair\\models\\hunflair-gene-full-v1.0.pt\n",
      "2022-08-02 14:19:59,090 loading file C:\\Users\\aberhe\\.flair\\models\\hunflair-species-full-v1.1.pt\n"
     ]
    }
   ],
   "source": [
    "tagger=MultiTagger.load('hunflair')"
   ]
  },
  {
   "cell_type": "code",
   "execution_count": 22,
   "id": "ac4edbd3-2bc0-460e-a2b5-fc07fbd9cfca",
   "metadata": {},
   "outputs": [],
   "source": [
    "tagger.predict(sentencesSplited)"
   ]
  },
  {
   "cell_type": "code",
   "execution_count": 126,
   "id": "785d9fda-2415-4523-aeae-0332adb9ded9",
   "metadata": {},
   "outputs": [
    {
     "data": {
      "text/plain": [
       "'This review is aimed at the effect of ethanol on gut and adipose tissue in both rodent and human alcoholic models.'"
      ]
     },
     "execution_count": 126,
     "metadata": {},
     "output_type": "execute_result"
    }
   ],
   "source": [
    "sents.to_original_text()"
   ]
  },
  {
   "cell_type": "code",
   "execution_count": 119,
   "id": "26f0912f-c46d-4a48-b20e-5bafcede2a6d",
   "metadata": {},
   "outputs": [
    {
     "name": "stdout",
     "output_type": "stream",
     "text": [
      "human Species 0.965\n"
     ]
    }
   ],
   "source": [
    "print(i.text,i.tag,round(i.score,3))"
   ]
  },
  {
   "cell_type": "code",
   "execution_count": 150,
   "id": "46d418f0-8858-4290-8588-c654956489eb",
   "metadata": {},
   "outputs": [],
   "source": [
    "jsonDataL=[]\n",
    "for sentTag in sentencesSplited:\n",
    "    s=sentTag.to_original_text()\n",
    "    jsonData={\"setence\":s,\"entities\":[]}\n",
    "    entityDicL=[]\n",
    "    for spanTag in sentTag.get_spans():\n",
    "        #taggedEntities=[s,spanTag.text,spanTag.start_pos,spanTag.end_pos,spanTag.tag,round(spanTag.score,3)]\n",
    "        entityDic={\"text\":spanTag.text,\"start_chunk\":spanTag.start_pos, \"end_chunk\":spanTag.end_pos,\"label\":spanTag.tag,\"score\":spanTag.score}\n",
    "        entityDicL.append(entityDic)\n",
    "        jsonData['entities'].append(entityDic)\n",
    "    jsonDataL.append(jsonData)\n",
    "with open('outputfile.json', 'w') as fout:\n",
    "    json.dump(jsonDataL, fout)"
   ]
  },
  {
   "cell_type": "code",
   "execution_count": 151,
   "id": "921f86d3-b132-4ca5-bf3f-42b0ad2a8c4d",
   "metadata": {},
   "outputs": [],
   "source": [
    "with open('outputfile.json', 'r') as fout:\n",
    "    jsonD=json.load(fout)"
   ]
  },
  {
   "cell_type": "code",
   "execution_count": 152,
   "id": "5cfae0a9-355d-4fd5-a27e-5f1e7493db91",
   "metadata": {},
   "outputs": [
    {
     "data": {
      "text/plain": [
       "[{'setence': ' Consumption of alcohol (ethanol) in various forms has been an integral part of human civilization.',\n",
       "  'entities': [{'text': 'alcohol',\n",
       "    'start_chunk': 16,\n",
       "    'end_chunk': 23,\n",
       "    'label': 'Chemical',\n",
       "    'score': 0.974072277545929},\n",
       "   {'text': 'ethanol',\n",
       "    'start_chunk': 25,\n",
       "    'end_chunk': 32,\n",
       "    'label': 'Chemical',\n",
       "    'score': 0.9896111488342285},\n",
       "   {'text': 'human',\n",
       "    'start_chunk': 80,\n",
       "    'end_chunk': 85,\n",
       "    'label': 'Species',\n",
       "    'score': 0.9929239749908447}]},\n",
       " {'setence': 'Since ages, it also has been an important cause of death and health impairment across the globe.',\n",
       "  'entities': []},\n",
       " {'setence': 'Ethanol-mediated liver injury, known as alcoholic liver disease (ALD), is caused by surplus intake of alcohol.',\n",
       "  'entities': [{'text': 'Ethanol',\n",
       "    'start_chunk': 0,\n",
       "    'end_chunk': 7,\n",
       "    'label': 'Chemical',\n",
       "    'score': 0.9916825294494629},\n",
       "   {'text': 'alcohol',\n",
       "    'start_chunk': 102,\n",
       "    'end_chunk': 109,\n",
       "    'label': 'Chemical',\n",
       "    'score': 0.950615406036377},\n",
       "   {'text': 'liver injury',\n",
       "    'start_chunk': 17,\n",
       "    'end_chunk': 29,\n",
       "    'label': 'Disease',\n",
       "    'score': 0.7316704243421555},\n",
       "   {'text': 'alcoholic liver disease',\n",
       "    'start_chunk': 40,\n",
       "    'end_chunk': 63,\n",
       "    'label': 'Disease',\n",
       "    'score': 0.9324611226717631},\n",
       "   {'text': 'ALD',\n",
       "    'start_chunk': 65,\n",
       "    'end_chunk': 68,\n",
       "    'label': 'Disease',\n",
       "    'score': 0.9997567534446716}]},\n",
       " {'setence': 'Several studies have proposed the different pathways that may be lead to ALD.',\n",
       "  'entities': [{'text': 'ALD',\n",
       "    'start_chunk': 73,\n",
       "    'end_chunk': 76,\n",
       "    'label': 'Disease',\n",
       "    'score': 0.9991872906684875}]},\n",
       " {'setence': 'One of the factors that may affect the cytochrome P450 (CYP2E1) metabolic pathway is gut dysbiosis.',\n",
       "  'entities': [{'text': 'cytochrome P450',\n",
       "    'start_chunk': 39,\n",
       "    'end_chunk': 54,\n",
       "    'label': 'Gene',\n",
       "    'score': 0.7613010108470917},\n",
       "   {'text': 'CYP2E1',\n",
       "    'start_chunk': 56,\n",
       "    'end_chunk': 62,\n",
       "    'label': 'Gene',\n",
       "    'score': 0.980262815952301}]},\n",
       " {'setence': 'The gut microbiota produces various compounds that play an important role in regulating healthy functions of distal organs such as the adipose tissue and liver.',\n",
       "  'entities': []},\n",
       " {'setence': 'Dysbiosis causes bacteremia, hepatic encephalopathy, and increased intestinal permeability.',\n",
       "  'entities': [{'text': 'Dysbiosis',\n",
       "    'start_chunk': 0,\n",
       "    'end_chunk': 9,\n",
       "    'label': 'Disease',\n",
       "    'score': 0.7517150640487671},\n",
       "   {'text': 'bacteremia',\n",
       "    'start_chunk': 17,\n",
       "    'end_chunk': 27,\n",
       "    'label': 'Disease',\n",
       "    'score': 0.985645592212677},\n",
       "   {'text': 'hepatic encephalopathy',\n",
       "    'start_chunk': 29,\n",
       "    'end_chunk': 51,\n",
       "    'label': 'Disease',\n",
       "    'score': 0.8272889256477356}]},\n",
       " {'setence': 'Recent clinical studies have found better understanding of the gut and liver axis.',\n",
       "  'entities': []},\n",
       " {'setence': 'Another factor that may affect the ALD pathway is dysfunction of adipose tissue metabolism.',\n",
       "  'entities': [{'text': 'ALD',\n",
       "    'start_chunk': 35,\n",
       "    'end_chunk': 38,\n",
       "    'label': 'Disease',\n",
       "    'score': 0.997582197189331},\n",
       "   {'text': 'dysfunction of adipose tissue metabolism',\n",
       "    'start_chunk': 50,\n",
       "    'end_chunk': 90,\n",
       "    'label': 'Disease',\n",
       "    'score': 0.6872280180454254}]},\n",
       " {'setence': 'Moreover, dysfunction of adipose tissue leads to ectopic fat deposition within the liver and disturbs lipid metabolism by increasing lipolysis/decreasing lipogenesis and impaired glucose tolerance of adipose tissue which leads to ectopic fat deposition within the liver.',\n",
       "  'entities': [{'text': 'glucose',\n",
       "    'start_chunk': 179,\n",
       "    'end_chunk': 186,\n",
       "    'label': 'Chemical',\n",
       "    'score': 0.9387404322624207}]},\n",
       " {'setence': 'Adipokine secretion of resistin, leptin, and adiponectin is adversely modified upon prolonged alcohol consumption.',\n",
       "  'entities': [{'text': 'alcohol',\n",
       "    'start_chunk': 94,\n",
       "    'end_chunk': 101,\n",
       "    'label': 'Chemical',\n",
       "    'score': 0.9332741498947144},\n",
       "   {'text': 'Adipokine',\n",
       "    'start_chunk': 0,\n",
       "    'end_chunk': 9,\n",
       "    'label': 'Gene',\n",
       "    'score': 0.6136584281921387},\n",
       "   {'text': 'resistin',\n",
       "    'start_chunk': 23,\n",
       "    'end_chunk': 31,\n",
       "    'label': 'Gene',\n",
       "    'score': 0.9541232585906982},\n",
       "   {'text': 'leptin',\n",
       "    'start_chunk': 33,\n",
       "    'end_chunk': 39,\n",
       "    'label': 'Gene',\n",
       "    'score': 0.8749932050704956},\n",
       "   {'text': 'adiponectin',\n",
       "    'start_chunk': 45,\n",
       "    'end_chunk': 56,\n",
       "    'label': 'Gene',\n",
       "    'score': 0.9444684386253357}]},\n",
       " {'setence': 'In the combination of these two factors, a proinflammatory state is developed within the patient leading to the progression of ALD.',\n",
       "  'entities': [{'text': 'ALD',\n",
       "    'start_chunk': 127,\n",
       "    'end_chunk': 130,\n",
       "    'label': 'Disease',\n",
       "    'score': 0.9989043474197388},\n",
       "   {'text': 'patient',\n",
       "    'start_chunk': 89,\n",
       "    'end_chunk': 96,\n",
       "    'label': 'Species',\n",
       "    'score': 0.7007342576980591}]},\n",
       " {'setence': 'Thus, the therapeutic approach for treatments and prevention for liver cirrhosis patients must be focused on the gut-liver-adipose tissue network modification with the use of probiotics, synbiotics, and prebiotics.',\n",
       "  'entities': [{'text': 'liver cirrhosis',\n",
       "    'start_chunk': 65,\n",
       "    'end_chunk': 80,\n",
       "    'label': 'Disease',\n",
       "    'score': 0.7461123764514923}]},\n",
       " {'setence': 'This review is aimed at the effect of ethanol on gut and adipose tissue in both rodent and human alcoholic models.',\n",
       "  'entities': [{'text': 'ethanol',\n",
       "    'start_chunk': 38,\n",
       "    'end_chunk': 45,\n",
       "    'label': 'Chemical',\n",
       "    'score': 0.989700198173523},\n",
       "   {'text': 'alcoholic',\n",
       "    'start_chunk': 97,\n",
       "    'end_chunk': 106,\n",
       "    'label': 'Disease',\n",
       "    'score': 0.7020844221115112},\n",
       "   {'text': 'rodent',\n",
       "    'start_chunk': 80,\n",
       "    'end_chunk': 86,\n",
       "    'label': 'Species',\n",
       "    'score': 0.5621833205223083},\n",
       "   {'text': 'human',\n",
       "    'start_chunk': 91,\n",
       "    'end_chunk': 96,\n",
       "    'label': 'Species',\n",
       "    'score': 0.9653974771499634}]}]"
      ]
     },
     "execution_count": 152,
     "metadata": {},
     "output_type": "execute_result"
    }
   ],
   "source": [
    "jsonD"
   ]
  },
  {
   "cell_type": "code",
   "execution_count": 143,
   "id": "27dce931-914c-4f5b-b91f-5a32b8579451",
   "metadata": {},
   "outputs": [
    {
     "data": {
      "text/plain": [
       "[{'text': ' Consumption of alcohol (ethanol) in various forms has been an integral part of human civilization.',\n",
       "  'entities': [[{'text': 'alcohol',\n",
       "     'start_chunk': 16,\n",
       "     'end_chunk': 23,\n",
       "     'label': 'Chemical',\n",
       "     'score': 0.974072277545929},\n",
       "    {'text': 'ethanol',\n",
       "     'start_chunk': 25,\n",
       "     'end_chunk': 32,\n",
       "     'label': 'Chemical',\n",
       "     'score': 0.9896111488342285},\n",
       "    {'text': 'human',\n",
       "     'start_chunk': 80,\n",
       "     'end_chunk': 85,\n",
       "     'label': 'Species',\n",
       "     'score': 0.9929239749908447}]]},\n",
       " {'text': 'Since ages, it also has been an important cause of death and health impairment across the globe.',\n",
       "  'entities': [[]]},\n",
       " {'text': 'Ethanol-mediated liver injury, known as alcoholic liver disease (ALD), is caused by surplus intake of alcohol.',\n",
       "  'entities': [[{'text': 'Ethanol',\n",
       "     'start_chunk': 0,\n",
       "     'end_chunk': 7,\n",
       "     'label': 'Chemical',\n",
       "     'score': 0.9916825294494629},\n",
       "    {'text': 'alcohol',\n",
       "     'start_chunk': 102,\n",
       "     'end_chunk': 109,\n",
       "     'label': 'Chemical',\n",
       "     'score': 0.950615406036377},\n",
       "    {'text': 'liver injury',\n",
       "     'start_chunk': 17,\n",
       "     'end_chunk': 29,\n",
       "     'label': 'Disease',\n",
       "     'score': 0.7316704243421555},\n",
       "    {'text': 'alcoholic liver disease',\n",
       "     'start_chunk': 40,\n",
       "     'end_chunk': 63,\n",
       "     'label': 'Disease',\n",
       "     'score': 0.9324611226717631},\n",
       "    {'text': 'ALD',\n",
       "     'start_chunk': 65,\n",
       "     'end_chunk': 68,\n",
       "     'label': 'Disease',\n",
       "     'score': 0.9997567534446716}]]},\n",
       " {'text': 'Several studies have proposed the different pathways that may be lead to ALD.',\n",
       "  'entities': [[{'text': 'ALD',\n",
       "     'start_chunk': 73,\n",
       "     'end_chunk': 76,\n",
       "     'label': 'Disease',\n",
       "     'score': 0.9991872906684875}]]},\n",
       " {'text': 'One of the factors that may affect the cytochrome P450 (CYP2E1) metabolic pathway is gut dysbiosis.',\n",
       "  'entities': [[{'text': 'cytochrome P450',\n",
       "     'start_chunk': 39,\n",
       "     'end_chunk': 54,\n",
       "     'label': 'Gene',\n",
       "     'score': 0.7613010108470917},\n",
       "    {'text': 'CYP2E1',\n",
       "     'start_chunk': 56,\n",
       "     'end_chunk': 62,\n",
       "     'label': 'Gene',\n",
       "     'score': 0.980262815952301}]]},\n",
       " {'text': 'The gut microbiota produces various compounds that play an important role in regulating healthy functions of distal organs such as the adipose tissue and liver.',\n",
       "  'entities': [[]]},\n",
       " {'text': 'Dysbiosis causes bacteremia, hepatic encephalopathy, and increased intestinal permeability.',\n",
       "  'entities': [[{'text': 'Dysbiosis',\n",
       "     'start_chunk': 0,\n",
       "     'end_chunk': 9,\n",
       "     'label': 'Disease',\n",
       "     'score': 0.7517150640487671},\n",
       "    {'text': 'bacteremia',\n",
       "     'start_chunk': 17,\n",
       "     'end_chunk': 27,\n",
       "     'label': 'Disease',\n",
       "     'score': 0.985645592212677},\n",
       "    {'text': 'hepatic encephalopathy',\n",
       "     'start_chunk': 29,\n",
       "     'end_chunk': 51,\n",
       "     'label': 'Disease',\n",
       "     'score': 0.8272889256477356}]]},\n",
       " {'text': 'Recent clinical studies have found better understanding of the gut and liver axis.',\n",
       "  'entities': [[]]},\n",
       " {'text': 'Another factor that may affect the ALD pathway is dysfunction of adipose tissue metabolism.',\n",
       "  'entities': [[{'text': 'ALD',\n",
       "     'start_chunk': 35,\n",
       "     'end_chunk': 38,\n",
       "     'label': 'Disease',\n",
       "     'score': 0.997582197189331},\n",
       "    {'text': 'dysfunction of adipose tissue metabolism',\n",
       "     'start_chunk': 50,\n",
       "     'end_chunk': 90,\n",
       "     'label': 'Disease',\n",
       "     'score': 0.6872280180454254}]]},\n",
       " {'text': 'Moreover, dysfunction of adipose tissue leads to ectopic fat deposition within the liver and disturbs lipid metabolism by increasing lipolysis/decreasing lipogenesis and impaired glucose tolerance of adipose tissue which leads to ectopic fat deposition within the liver.',\n",
       "  'entities': [[{'text': 'glucose',\n",
       "     'start_chunk': 179,\n",
       "     'end_chunk': 186,\n",
       "     'label': 'Chemical',\n",
       "     'score': 0.9387404322624207}]]},\n",
       " {'text': 'Adipokine secretion of resistin, leptin, and adiponectin is adversely modified upon prolonged alcohol consumption.',\n",
       "  'entities': [[{'text': 'alcohol',\n",
       "     'start_chunk': 94,\n",
       "     'end_chunk': 101,\n",
       "     'label': 'Chemical',\n",
       "     'score': 0.9332741498947144},\n",
       "    {'text': 'Adipokine',\n",
       "     'start_chunk': 0,\n",
       "     'end_chunk': 9,\n",
       "     'label': 'Gene',\n",
       "     'score': 0.6136584281921387},\n",
       "    {'text': 'resistin',\n",
       "     'start_chunk': 23,\n",
       "     'end_chunk': 31,\n",
       "     'label': 'Gene',\n",
       "     'score': 0.9541232585906982},\n",
       "    {'text': 'leptin',\n",
       "     'start_chunk': 33,\n",
       "     'end_chunk': 39,\n",
       "     'label': 'Gene',\n",
       "     'score': 0.8749932050704956},\n",
       "    {'text': 'adiponectin',\n",
       "     'start_chunk': 45,\n",
       "     'end_chunk': 56,\n",
       "     'label': 'Gene',\n",
       "     'score': 0.9444684386253357}]]},\n",
       " {'text': 'In the combination of these two factors, a proinflammatory state is developed within the patient leading to the progression of ALD.',\n",
       "  'entities': [[{'text': 'ALD',\n",
       "     'start_chunk': 127,\n",
       "     'end_chunk': 130,\n",
       "     'label': 'Disease',\n",
       "     'score': 0.9989043474197388},\n",
       "    {'text': 'patient',\n",
       "     'start_chunk': 89,\n",
       "     'end_chunk': 96,\n",
       "     'label': 'Species',\n",
       "     'score': 0.7007342576980591}]]},\n",
       " {'text': 'Thus, the therapeutic approach for treatments and prevention for liver cirrhosis patients must be focused on the gut-liver-adipose tissue network modification with the use of probiotics, synbiotics, and prebiotics.',\n",
       "  'entities': [[{'text': 'liver cirrhosis',\n",
       "     'start_chunk': 65,\n",
       "     'end_chunk': 80,\n",
       "     'label': 'Disease',\n",
       "     'score': 0.7461123764514923}]]},\n",
       " {'text': 'This review is aimed at the effect of ethanol on gut and adipose tissue in both rodent and human alcoholic models.',\n",
       "  'entities': [[{'text': 'ethanol',\n",
       "     'start_chunk': 38,\n",
       "     'end_chunk': 45,\n",
       "     'label': 'Chemical',\n",
       "     'score': 0.989700198173523},\n",
       "    {'text': 'alcoholic',\n",
       "     'start_chunk': 97,\n",
       "     'end_chunk': 106,\n",
       "     'label': 'Disease',\n",
       "     'score': 0.7020844221115112},\n",
       "    {'text': 'rodent',\n",
       "     'start_chunk': 80,\n",
       "     'end_chunk': 86,\n",
       "     'label': 'Species',\n",
       "     'score': 0.5621833205223083},\n",
       "    {'text': 'human',\n",
       "     'start_chunk': 91,\n",
       "     'end_chunk': 96,\n",
       "     'label': 'Species',\n",
       "     'score': 0.9653974771499634}]]}]"
      ]
     },
     "execution_count": 143,
     "metadata": {},
     "output_type": "execute_result"
    }
   ],
   "source": [
    "jsonDataL"
   ]
  },
  {
   "cell_type": "code",
   "execution_count": 130,
   "id": "6478167b-f258-4c6a-a601-199291e14c4d",
   "metadata": {},
   "outputs": [
    {
     "name": "stdout",
     "output_type": "stream",
     "text": [
      " Consumption of alcohol (ethanol) in various forms has been an integral part of human civilization. alcohol 16 23 Chemical 0.974\n",
      " Consumption of alcohol (ethanol) in various forms has been an integral part of human civilization. ethanol 25 32 Chemical 0.99\n",
      " Consumption of alcohol (ethanol) in various forms has been an integral part of human civilization. human 80 85 Species 0.993\n",
      "Ethanol-mediated liver injury, known as alcoholic liver disease (ALD), is caused by surplus intake of alcohol. Ethanol 0 7 Chemical 0.992\n",
      "Ethanol-mediated liver injury, known as alcoholic liver disease (ALD), is caused by surplus intake of alcohol. alcohol 102 109 Chemical 0.951\n",
      "Ethanol-mediated liver injury, known as alcoholic liver disease (ALD), is caused by surplus intake of alcohol. liver injury 17 29 Disease 0.732\n",
      "Ethanol-mediated liver injury, known as alcoholic liver disease (ALD), is caused by surplus intake of alcohol. alcoholic liver disease 40 63 Disease 0.932\n",
      "Ethanol-mediated liver injury, known as alcoholic liver disease (ALD), is caused by surplus intake of alcohol. ALD 65 68 Disease 1.0\n",
      "Several studies have proposed the different pathways that may be lead to ALD. ALD 73 76 Disease 0.999\n",
      "One of the factors that may affect the cytochrome P450 (CYP2E1) metabolic pathway is gut dysbiosis. cytochrome P450 39 54 Gene 0.761\n",
      "One of the factors that may affect the cytochrome P450 (CYP2E1) metabolic pathway is gut dysbiosis. CYP2E1 56 62 Gene 0.98\n",
      "Dysbiosis causes bacteremia, hepatic encephalopathy, and increased intestinal permeability. Dysbiosis 0 9 Disease 0.752\n",
      "Dysbiosis causes bacteremia, hepatic encephalopathy, and increased intestinal permeability. bacteremia 17 27 Disease 0.986\n",
      "Dysbiosis causes bacteremia, hepatic encephalopathy, and increased intestinal permeability. hepatic encephalopathy 29 51 Disease 0.827\n",
      "Another factor that may affect the ALD pathway is dysfunction of adipose tissue metabolism. ALD 35 38 Disease 0.998\n",
      "Another factor that may affect the ALD pathway is dysfunction of adipose tissue metabolism. dysfunction of adipose tissue metabolism 50 90 Disease 0.687\n",
      "Moreover, dysfunction of adipose tissue leads to ectopic fat deposition within the liver and disturbs lipid metabolism by increasing lipolysis/decreasing lipogenesis and impaired glucose tolerance of adipose tissue which leads to ectopic fat deposition within the liver. glucose 179 186 Chemical 0.939\n",
      "Adipokine secretion of resistin, leptin, and adiponectin is adversely modified upon prolonged alcohol consumption. alcohol 94 101 Chemical 0.933\n",
      "Adipokine secretion of resistin, leptin, and adiponectin is adversely modified upon prolonged alcohol consumption. Adipokine 0 9 Gene 0.614\n",
      "Adipokine secretion of resistin, leptin, and adiponectin is adversely modified upon prolonged alcohol consumption. resistin 23 31 Gene 0.954\n",
      "Adipokine secretion of resistin, leptin, and adiponectin is adversely modified upon prolonged alcohol consumption. leptin 33 39 Gene 0.875\n",
      "Adipokine secretion of resistin, leptin, and adiponectin is adversely modified upon prolonged alcohol consumption. adiponectin 45 56 Gene 0.944\n",
      "In the combination of these two factors, a proinflammatory state is developed within the patient leading to the progression of ALD. ALD 127 130 Disease 0.999\n",
      "In the combination of these two factors, a proinflammatory state is developed within the patient leading to the progression of ALD. patient 89 96 Species 0.701\n",
      "Thus, the therapeutic approach for treatments and prevention for liver cirrhosis patients must be focused on the gut-liver-adipose tissue network modification with the use of probiotics, synbiotics, and prebiotics. liver cirrhosis 65 80 Disease 0.746\n",
      "This review is aimed at the effect of ethanol on gut and adipose tissue in both rodent and human alcoholic models. ethanol 38 45 Chemical 0.99\n",
      "This review is aimed at the effect of ethanol on gut and adipose tissue in both rodent and human alcoholic models. alcoholic 97 106 Disease 0.702\n",
      "This review is aimed at the effect of ethanol on gut and adipose tissue in both rodent and human alcoholic models. rodent 80 86 Species 0.562\n",
      "This review is aimed at the effect of ethanol on gut and adipose tissue in both rodent and human alcoholic models. human 91 96 Species 0.965\n"
     ]
    }
   ],
   "source": [
    "df=pd.DataFrame(columns=(\"sentence\",\"entity\",\"start_chunk\",\"end_chunk\",\"lable\",\"score\"))\n",
    "for sents in sentencesSplited:\n",
    "    s=sents.to_original_text()\n",
    "    for i in sents.get_spans():\n",
    "        print(s,i.text,i.start_pos,i.end_pos,i.tag,round(i.score,3))\n",
    "        df.loc[len(df)]=[s,i.text,i.start_pos,i.end_pos,i.tag,round(i.score,3)]"
   ]
  },
  {
   "cell_type": "code",
   "execution_count": 131,
   "id": "6f63602b-e77e-40fc-b53b-00a3bd494f1c",
   "metadata": {},
   "outputs": [
    {
     "data": {
      "text/html": [
       "<div>\n",
       "<style scoped>\n",
       "    .dataframe tbody tr th:only-of-type {\n",
       "        vertical-align: middle;\n",
       "    }\n",
       "\n",
       "    .dataframe tbody tr th {\n",
       "        vertical-align: top;\n",
       "    }\n",
       "\n",
       "    .dataframe thead th {\n",
       "        text-align: right;\n",
       "    }\n",
       "</style>\n",
       "<table border=\"1\" class=\"dataframe\">\n",
       "  <thead>\n",
       "    <tr style=\"text-align: right;\">\n",
       "      <th></th>\n",
       "      <th>sentence</th>\n",
       "      <th>entity</th>\n",
       "      <th>start_chunk</th>\n",
       "      <th>end_chunk</th>\n",
       "      <th>lable</th>\n",
       "      <th>score</th>\n",
       "    </tr>\n",
       "  </thead>\n",
       "  <tbody>\n",
       "    <tr>\n",
       "      <th>0</th>\n",
       "      <td>Consumption of alcohol (ethanol) in various f...</td>\n",
       "      <td>alcohol</td>\n",
       "      <td>16</td>\n",
       "      <td>23</td>\n",
       "      <td>Chemical</td>\n",
       "      <td>0.974</td>\n",
       "    </tr>\n",
       "    <tr>\n",
       "      <th>1</th>\n",
       "      <td>Consumption of alcohol (ethanol) in various f...</td>\n",
       "      <td>ethanol</td>\n",
       "      <td>25</td>\n",
       "      <td>32</td>\n",
       "      <td>Chemical</td>\n",
       "      <td>0.990</td>\n",
       "    </tr>\n",
       "    <tr>\n",
       "      <th>2</th>\n",
       "      <td>Consumption of alcohol (ethanol) in various f...</td>\n",
       "      <td>human</td>\n",
       "      <td>80</td>\n",
       "      <td>85</td>\n",
       "      <td>Species</td>\n",
       "      <td>0.993</td>\n",
       "    </tr>\n",
       "    <tr>\n",
       "      <th>3</th>\n",
       "      <td>Ethanol-mediated liver injury, known as alcoho...</td>\n",
       "      <td>Ethanol</td>\n",
       "      <td>0</td>\n",
       "      <td>7</td>\n",
       "      <td>Chemical</td>\n",
       "      <td>0.992</td>\n",
       "    </tr>\n",
       "    <tr>\n",
       "      <th>4</th>\n",
       "      <td>Ethanol-mediated liver injury, known as alcoho...</td>\n",
       "      <td>alcohol</td>\n",
       "      <td>102</td>\n",
       "      <td>109</td>\n",
       "      <td>Chemical</td>\n",
       "      <td>0.951</td>\n",
       "    </tr>\n",
       "    <tr>\n",
       "      <th>5</th>\n",
       "      <td>Ethanol-mediated liver injury, known as alcoho...</td>\n",
       "      <td>liver injury</td>\n",
       "      <td>17</td>\n",
       "      <td>29</td>\n",
       "      <td>Disease</td>\n",
       "      <td>0.732</td>\n",
       "    </tr>\n",
       "    <tr>\n",
       "      <th>6</th>\n",
       "      <td>Ethanol-mediated liver injury, known as alcoho...</td>\n",
       "      <td>alcoholic liver disease</td>\n",
       "      <td>40</td>\n",
       "      <td>63</td>\n",
       "      <td>Disease</td>\n",
       "      <td>0.932</td>\n",
       "    </tr>\n",
       "    <tr>\n",
       "      <th>7</th>\n",
       "      <td>Ethanol-mediated liver injury, known as alcoho...</td>\n",
       "      <td>ALD</td>\n",
       "      <td>65</td>\n",
       "      <td>68</td>\n",
       "      <td>Disease</td>\n",
       "      <td>1.000</td>\n",
       "    </tr>\n",
       "    <tr>\n",
       "      <th>8</th>\n",
       "      <td>Several studies have proposed the different pa...</td>\n",
       "      <td>ALD</td>\n",
       "      <td>73</td>\n",
       "      <td>76</td>\n",
       "      <td>Disease</td>\n",
       "      <td>0.999</td>\n",
       "    </tr>\n",
       "    <tr>\n",
       "      <th>9</th>\n",
       "      <td>One of the factors that may affect the cytochr...</td>\n",
       "      <td>cytochrome P450</td>\n",
       "      <td>39</td>\n",
       "      <td>54</td>\n",
       "      <td>Gene</td>\n",
       "      <td>0.761</td>\n",
       "    </tr>\n",
       "    <tr>\n",
       "      <th>10</th>\n",
       "      <td>One of the factors that may affect the cytochr...</td>\n",
       "      <td>CYP2E1</td>\n",
       "      <td>56</td>\n",
       "      <td>62</td>\n",
       "      <td>Gene</td>\n",
       "      <td>0.980</td>\n",
       "    </tr>\n",
       "    <tr>\n",
       "      <th>11</th>\n",
       "      <td>Dysbiosis causes bacteremia, hepatic encephalo...</td>\n",
       "      <td>Dysbiosis</td>\n",
       "      <td>0</td>\n",
       "      <td>9</td>\n",
       "      <td>Disease</td>\n",
       "      <td>0.752</td>\n",
       "    </tr>\n",
       "    <tr>\n",
       "      <th>12</th>\n",
       "      <td>Dysbiosis causes bacteremia, hepatic encephalo...</td>\n",
       "      <td>bacteremia</td>\n",
       "      <td>17</td>\n",
       "      <td>27</td>\n",
       "      <td>Disease</td>\n",
       "      <td>0.986</td>\n",
       "    </tr>\n",
       "    <tr>\n",
       "      <th>13</th>\n",
       "      <td>Dysbiosis causes bacteremia, hepatic encephalo...</td>\n",
       "      <td>hepatic encephalopathy</td>\n",
       "      <td>29</td>\n",
       "      <td>51</td>\n",
       "      <td>Disease</td>\n",
       "      <td>0.827</td>\n",
       "    </tr>\n",
       "    <tr>\n",
       "      <th>14</th>\n",
       "      <td>Another factor that may affect the ALD pathway...</td>\n",
       "      <td>ALD</td>\n",
       "      <td>35</td>\n",
       "      <td>38</td>\n",
       "      <td>Disease</td>\n",
       "      <td>0.998</td>\n",
       "    </tr>\n",
       "    <tr>\n",
       "      <th>15</th>\n",
       "      <td>Another factor that may affect the ALD pathway...</td>\n",
       "      <td>dysfunction of adipose tissue metabolism</td>\n",
       "      <td>50</td>\n",
       "      <td>90</td>\n",
       "      <td>Disease</td>\n",
       "      <td>0.687</td>\n",
       "    </tr>\n",
       "    <tr>\n",
       "      <th>16</th>\n",
       "      <td>Moreover, dysfunction of adipose tissue leads ...</td>\n",
       "      <td>glucose</td>\n",
       "      <td>179</td>\n",
       "      <td>186</td>\n",
       "      <td>Chemical</td>\n",
       "      <td>0.939</td>\n",
       "    </tr>\n",
       "    <tr>\n",
       "      <th>17</th>\n",
       "      <td>Adipokine secretion of resistin, leptin, and a...</td>\n",
       "      <td>alcohol</td>\n",
       "      <td>94</td>\n",
       "      <td>101</td>\n",
       "      <td>Chemical</td>\n",
       "      <td>0.933</td>\n",
       "    </tr>\n",
       "    <tr>\n",
       "      <th>18</th>\n",
       "      <td>Adipokine secretion of resistin, leptin, and a...</td>\n",
       "      <td>Adipokine</td>\n",
       "      <td>0</td>\n",
       "      <td>9</td>\n",
       "      <td>Gene</td>\n",
       "      <td>0.614</td>\n",
       "    </tr>\n",
       "    <tr>\n",
       "      <th>19</th>\n",
       "      <td>Adipokine secretion of resistin, leptin, and a...</td>\n",
       "      <td>resistin</td>\n",
       "      <td>23</td>\n",
       "      <td>31</td>\n",
       "      <td>Gene</td>\n",
       "      <td>0.954</td>\n",
       "    </tr>\n",
       "    <tr>\n",
       "      <th>20</th>\n",
       "      <td>Adipokine secretion of resistin, leptin, and a...</td>\n",
       "      <td>leptin</td>\n",
       "      <td>33</td>\n",
       "      <td>39</td>\n",
       "      <td>Gene</td>\n",
       "      <td>0.875</td>\n",
       "    </tr>\n",
       "    <tr>\n",
       "      <th>21</th>\n",
       "      <td>Adipokine secretion of resistin, leptin, and a...</td>\n",
       "      <td>adiponectin</td>\n",
       "      <td>45</td>\n",
       "      <td>56</td>\n",
       "      <td>Gene</td>\n",
       "      <td>0.944</td>\n",
       "    </tr>\n",
       "    <tr>\n",
       "      <th>22</th>\n",
       "      <td>In the combination of these two factors, a pro...</td>\n",
       "      <td>ALD</td>\n",
       "      <td>127</td>\n",
       "      <td>130</td>\n",
       "      <td>Disease</td>\n",
       "      <td>0.999</td>\n",
       "    </tr>\n",
       "    <tr>\n",
       "      <th>23</th>\n",
       "      <td>In the combination of these two factors, a pro...</td>\n",
       "      <td>patient</td>\n",
       "      <td>89</td>\n",
       "      <td>96</td>\n",
       "      <td>Species</td>\n",
       "      <td>0.701</td>\n",
       "    </tr>\n",
       "    <tr>\n",
       "      <th>24</th>\n",
       "      <td>Thus, the therapeutic approach for treatments ...</td>\n",
       "      <td>liver cirrhosis</td>\n",
       "      <td>65</td>\n",
       "      <td>80</td>\n",
       "      <td>Disease</td>\n",
       "      <td>0.746</td>\n",
       "    </tr>\n",
       "    <tr>\n",
       "      <th>25</th>\n",
       "      <td>This review is aimed at the effect of ethanol ...</td>\n",
       "      <td>ethanol</td>\n",
       "      <td>38</td>\n",
       "      <td>45</td>\n",
       "      <td>Chemical</td>\n",
       "      <td>0.990</td>\n",
       "    </tr>\n",
       "    <tr>\n",
       "      <th>26</th>\n",
       "      <td>This review is aimed at the effect of ethanol ...</td>\n",
       "      <td>alcoholic</td>\n",
       "      <td>97</td>\n",
       "      <td>106</td>\n",
       "      <td>Disease</td>\n",
       "      <td>0.702</td>\n",
       "    </tr>\n",
       "    <tr>\n",
       "      <th>27</th>\n",
       "      <td>This review is aimed at the effect of ethanol ...</td>\n",
       "      <td>rodent</td>\n",
       "      <td>80</td>\n",
       "      <td>86</td>\n",
       "      <td>Species</td>\n",
       "      <td>0.562</td>\n",
       "    </tr>\n",
       "    <tr>\n",
       "      <th>28</th>\n",
       "      <td>This review is aimed at the effect of ethanol ...</td>\n",
       "      <td>human</td>\n",
       "      <td>91</td>\n",
       "      <td>96</td>\n",
       "      <td>Species</td>\n",
       "      <td>0.965</td>\n",
       "    </tr>\n",
       "  </tbody>\n",
       "</table>\n",
       "</div>"
      ],
      "text/plain": [
       "                                             sentence  \\\n",
       "0    Consumption of alcohol (ethanol) in various f...   \n",
       "1    Consumption of alcohol (ethanol) in various f...   \n",
       "2    Consumption of alcohol (ethanol) in various f...   \n",
       "3   Ethanol-mediated liver injury, known as alcoho...   \n",
       "4   Ethanol-mediated liver injury, known as alcoho...   \n",
       "5   Ethanol-mediated liver injury, known as alcoho...   \n",
       "6   Ethanol-mediated liver injury, known as alcoho...   \n",
       "7   Ethanol-mediated liver injury, known as alcoho...   \n",
       "8   Several studies have proposed the different pa...   \n",
       "9   One of the factors that may affect the cytochr...   \n",
       "10  One of the factors that may affect the cytochr...   \n",
       "11  Dysbiosis causes bacteremia, hepatic encephalo...   \n",
       "12  Dysbiosis causes bacteremia, hepatic encephalo...   \n",
       "13  Dysbiosis causes bacteremia, hepatic encephalo...   \n",
       "14  Another factor that may affect the ALD pathway...   \n",
       "15  Another factor that may affect the ALD pathway...   \n",
       "16  Moreover, dysfunction of adipose tissue leads ...   \n",
       "17  Adipokine secretion of resistin, leptin, and a...   \n",
       "18  Adipokine secretion of resistin, leptin, and a...   \n",
       "19  Adipokine secretion of resistin, leptin, and a...   \n",
       "20  Adipokine secretion of resistin, leptin, and a...   \n",
       "21  Adipokine secretion of resistin, leptin, and a...   \n",
       "22  In the combination of these two factors, a pro...   \n",
       "23  In the combination of these two factors, a pro...   \n",
       "24  Thus, the therapeutic approach for treatments ...   \n",
       "25  This review is aimed at the effect of ethanol ...   \n",
       "26  This review is aimed at the effect of ethanol ...   \n",
       "27  This review is aimed at the effect of ethanol ...   \n",
       "28  This review is aimed at the effect of ethanol ...   \n",
       "\n",
       "                                      entity  start_chunk  end_chunk  \\\n",
       "0                                    alcohol           16         23   \n",
       "1                                    ethanol           25         32   \n",
       "2                                      human           80         85   \n",
       "3                                    Ethanol            0          7   \n",
       "4                                    alcohol          102        109   \n",
       "5                               liver injury           17         29   \n",
       "6                    alcoholic liver disease           40         63   \n",
       "7                                        ALD           65         68   \n",
       "8                                        ALD           73         76   \n",
       "9                            cytochrome P450           39         54   \n",
       "10                                    CYP2E1           56         62   \n",
       "11                                 Dysbiosis            0          9   \n",
       "12                                bacteremia           17         27   \n",
       "13                    hepatic encephalopathy           29         51   \n",
       "14                                       ALD           35         38   \n",
       "15  dysfunction of adipose tissue metabolism           50         90   \n",
       "16                                   glucose          179        186   \n",
       "17                                   alcohol           94        101   \n",
       "18                                 Adipokine            0          9   \n",
       "19                                  resistin           23         31   \n",
       "20                                    leptin           33         39   \n",
       "21                               adiponectin           45         56   \n",
       "22                                       ALD          127        130   \n",
       "23                                   patient           89         96   \n",
       "24                           liver cirrhosis           65         80   \n",
       "25                                   ethanol           38         45   \n",
       "26                                 alcoholic           97        106   \n",
       "27                                    rodent           80         86   \n",
       "28                                     human           91         96   \n",
       "\n",
       "       lable  score  \n",
       "0   Chemical  0.974  \n",
       "1   Chemical  0.990  \n",
       "2    Species  0.993  \n",
       "3   Chemical  0.992  \n",
       "4   Chemical  0.951  \n",
       "5    Disease  0.732  \n",
       "6    Disease  0.932  \n",
       "7    Disease  1.000  \n",
       "8    Disease  0.999  \n",
       "9       Gene  0.761  \n",
       "10      Gene  0.980  \n",
       "11   Disease  0.752  \n",
       "12   Disease  0.986  \n",
       "13   Disease  0.827  \n",
       "14   Disease  0.998  \n",
       "15   Disease  0.687  \n",
       "16  Chemical  0.939  \n",
       "17  Chemical  0.933  \n",
       "18      Gene  0.614  \n",
       "19      Gene  0.954  \n",
       "20      Gene  0.875  \n",
       "21      Gene  0.944  \n",
       "22   Disease  0.999  \n",
       "23   Species  0.701  \n",
       "24   Disease  0.746  \n",
       "25  Chemical  0.990  \n",
       "26   Disease  0.702  \n",
       "27   Species  0.562  \n",
       "28   Species  0.965  "
      ]
     },
     "execution_count": 131,
     "metadata": {},
     "output_type": "execute_result"
    }
   ],
   "source": [
    "df"
   ]
  },
  {
   "cell_type": "code",
   "execution_count": 75,
   "id": "302056a1-a0fb-4214-a2d5-c04a0aa1eff1",
   "metadata": {},
   "outputs": [
    {
     "name": "stdout",
     "output_type": "stream",
     "text": [
      "  Consumption of alcohol <S-Chemical> ( ethanol <S-Chemical> ) in various forms has been an integral part of human <S-Species> civilization .\n",
      "Since ages , it also has been an important cause of death and health impairment across the globe .\n",
      "Ethanol <S-Chemical> - mediated liver <B-Disease> injury <E-Disease> , known as alcoholic <B-Disease> liver <I-Disease> disease <E-Disease> ( ALD <S-Disease> ) , is caused by surplus intake of alcohol <S-Chemical> .\n",
      "Several studies have proposed the different pathways that may be lead to ALD <S-Disease> .\n",
      "One of the factors that may affect the cytochrome <B-Gene> P450 <E-Gene> ( CYP2E1 <S-Gene> ) metabolic pathway is gut dysbiosis .\n",
      "The gut microbiota produces various compounds that play an important role in regulating healthy functions of distal organs such as the adipose tissue and liver .\n",
      "Dysbiosis <S-Disease> causes bacteremia <S-Disease> , hepatic <B-Disease> encephalopathy <E-Disease> , and increased intestinal permeability .\n",
      "Recent clinical studies have found better understanding of the gut and liver axis .\n",
      "Another factor that may affect the ALD <S-Disease> pathway is dysfunction <B-Disease> of <I-Disease> adipose <I-Disease> tissue <I-Disease> metabolism <E-Disease> .\n",
      "Moreover , dysfunction of adipose tissue leads to ectopic fat deposition within the liver and disturbs lipid metabolism by increasing lipolysis / decreasing lipogenesis and impaired glucose <S-Chemical> tolerance of adipose tissue which leads to ectopic fat deposition within the liver .\n",
      "Adipokine <S-Gene> secretion of resistin <S-Gene> , leptin <S-Gene> , and adiponectin <S-Gene> is adversely modified upon prolonged alcohol <S-Chemical> consumption .\n",
      "In the combination of these two factors , a proinflammatory state is developed within the patient <S-Species> leading to the progression of ALD <S-Disease> .\n",
      "Thus , the therapeutic approach for treatments and prevention for liver <B-Disease> cirrhosis <E-Disease> patients must be focused on the gut - liver - adipose tissue network modification with the use of probiotics , synbiotics , and prebiotics .\n",
      "This review is aimed at the effect of ethanol <S-Chemical> on gut and adipose tissue in both rodent <S-Species> and human <S-Species> alcoholic <S-Disease> models .\n"
     ]
    }
   ],
   "source": [
    "for sents in sentencesSplited:\n",
    "    print(sents.to_tagged_string())\n",
    "    #print(\"#\"*30)\n",
    "    set"
   ]
  },
  {
   "cell_type": "code",
   "execution_count": 87,
   "id": "e406b266-29e4-4395-970e-f8802caeccaa",
   "metadata": {},
   "outputs": [
    {
     "name": "stdout",
     "output_type": "stream",
     "text": [
      "Sentence: \"  Consumption of alcohol ( ethanol ) in various forms has been an integral part of human civilization .\"   [− Tokens: 19  − Token-Labels: \"  Consumption of alcohol <S-Chemical> ( ethanol <S-Chemical> ) in various forms has been an integral part of human <S-Species> civilization .\"]\n",
      "[{'text': 'alcohol', 'start_pos': 16, 'end_pos': 23, 'labels': [Chemical (0.9741)]}, {'text': 'ethanol', 'start_pos': 25, 'end_pos': 32, 'labels': [Chemical (0.9896)]}]\n",
      "we have chemical\n",
      "Sentence: \"Since ages , it also has been an important cause of death and health impairment across the globe .\"   [− Tokens: 19]\n",
      "Sentence: \"Ethanol - mediated liver injury , known as alcoholic liver disease ( ALD ) , is caused by surplus intake of alcohol .\"   [− Tokens: 23  − Token-Labels: \"Ethanol <S-Chemical> - mediated liver <B-Disease> injury <E-Disease> , known as alcoholic <B-Disease> liver <I-Disease> disease <E-Disease> ( ALD <S-Disease> ) , is caused by surplus intake of alcohol <S-Chemical> .\"]\n",
      "[{'text': 'Ethanol', 'start_pos': 0, 'end_pos': 7, 'labels': [Chemical (0.9917)]}, {'text': 'alcohol', 'start_pos': 102, 'end_pos': 109, 'labels': [Chemical (0.9506)]}]\n",
      "we have chemical\n",
      "Sentence: \"Several studies have proposed the different pathways that may be lead to ALD .\"   [− Tokens: 14  − Token-Labels: \"Several studies have proposed the different pathways that may be lead to ALD <S-Disease> .\"]\n",
      "[{'text': 'ALD', 'start_pos': 73, 'end_pos': 76, 'labels': [Disease (0.9992)]}]\n",
      "we have disease\n",
      "Sentence: \"One of the factors that may affect the cytochrome P450 ( CYP2E1 ) metabolic pathway is gut dysbiosis .\"   [− Tokens: 19  − Token-Labels: \"One of the factors that may affect the cytochrome <B-Gene> P450 <E-Gene> ( CYP2E1 <S-Gene> ) metabolic pathway is gut dysbiosis .\"]\n",
      "[{'text': 'cytochrome P450', 'start_pos': 39, 'end_pos': 54, 'labels': [Gene (0.7613)]}, {'text': 'CYP2E1', 'start_pos': 56, 'end_pos': 62, 'labels': [Gene (0.9803)]}]\n",
      "we have gene\n",
      "Sentence: \"The gut microbiota produces various compounds that play an important role in regulating healthy functions of distal organs such as the adipose tissue and liver .\"   [− Tokens: 26]\n",
      "Sentence: \"Dysbiosis causes bacteremia , hepatic encephalopathy , and increased intestinal permeability .\"   [− Tokens: 12  − Token-Labels: \"Dysbiosis <S-Disease> causes bacteremia <S-Disease> , hepatic <B-Disease> encephalopathy <E-Disease> , and increased intestinal permeability .\"]\n",
      "[{'text': 'Dysbiosis', 'start_pos': 0, 'end_pos': 9, 'labels': [Disease (0.7517)]}, {'text': 'bacteremia', 'start_pos': 17, 'end_pos': 27, 'labels': [Disease (0.9856)]}, {'text': 'hepatic encephalopathy', 'start_pos': 29, 'end_pos': 51, 'labels': [Disease (0.8273)]}]\n",
      "we have disease\n",
      "Sentence: \"Recent clinical studies have found better understanding of the gut and liver axis .\"   [− Tokens: 14]\n",
      "Sentence: \"Another factor that may affect the ALD pathway is dysfunction of adipose tissue metabolism .\"   [− Tokens: 15  − Token-Labels: \"Another factor that may affect the ALD <S-Disease> pathway is dysfunction <B-Disease> of <I-Disease> adipose <I-Disease> tissue <I-Disease> metabolism <E-Disease> .\"]\n",
      "[{'text': 'ALD', 'start_pos': 35, 'end_pos': 38, 'labels': [Disease (0.9976)]}, {'text': 'dysfunction of adipose tissue metabolism', 'start_pos': 50, 'end_pos': 90, 'labels': [Disease (0.6872)]}]\n",
      "we have disease\n",
      "Sentence: \"Moreover , dysfunction of adipose tissue leads to ectopic fat deposition within the liver and disturbs lipid metabolism by increasing lipolysis / decreasing lipogenesis and impaired glucose tolerance of adipose tissue which leads to ectopic fat deposition within the liver .\"   [− Tokens: 41  − Token-Labels: \"Moreover , dysfunction of adipose tissue leads to ectopic fat deposition within the liver and disturbs lipid metabolism by increasing lipolysis / decreasing lipogenesis and impaired glucose <S-Chemical> tolerance of adipose tissue which leads to ectopic fat deposition within the liver .\"]\n",
      "[{'text': 'glucose', 'start_pos': 179, 'end_pos': 186, 'labels': [Chemical (0.9387)]}]\n",
      "we have chemical\n",
      "Sentence: \"Adipokine secretion of resistin , leptin , and adiponectin is adversely modified upon prolonged alcohol consumption .\"   [− Tokens: 17  − Token-Labels: \"Adipokine <S-Gene> secretion of resistin <S-Gene> , leptin <S-Gene> , and adiponectin <S-Gene> is adversely modified upon prolonged alcohol <S-Chemical> consumption .\"]\n",
      "[{'text': 'alcohol', 'start_pos': 94, 'end_pos': 101, 'labels': [Chemical (0.9333)]}]\n",
      "we have chemical\n",
      "Sentence: \"In the combination of these two factors , a proinflammatory state is developed within the patient leading to the progression of ALD .\"   [− Tokens: 23  − Token-Labels: \"In the combination of these two factors , a proinflammatory state is developed within the patient <S-Species> leading to the progression of ALD <S-Disease> .\"]\n",
      "[{'text': 'ALD', 'start_pos': 127, 'end_pos': 130, 'labels': [Disease (0.9989)]}]\n",
      "we have disease\n",
      "Sentence: \"Thus , the therapeutic approach for treatments and prevention for liver cirrhosis patients must be focused on the gut - liver - adipose tissue network modification with the use of probiotics , synbiotics , and prebiotics .\"   [− Tokens: 37  − Token-Labels: \"Thus , the therapeutic approach for treatments and prevention for liver <B-Disease> cirrhosis <E-Disease> patients must be focused on the gut - liver - adipose tissue network modification with the use of probiotics , synbiotics , and prebiotics .\"]\n",
      "[{'text': 'liver cirrhosis', 'start_pos': 65, 'end_pos': 80, 'labels': [Disease (0.7461)]}]\n",
      "we have disease\n",
      "Sentence: \"This review is aimed at the effect of ethanol on gut and adipose tissue in both rodent and human alcoholic models .\"   [− Tokens: 22  − Token-Labels: \"This review is aimed at the effect of ethanol <S-Chemical> on gut and adipose tissue in both rodent <S-Species> and human <S-Species> alcoholic <S-Disease> models .\"]\n",
      "[{'text': 'ethanol', 'start_pos': 38, 'end_pos': 45, 'labels': [Chemical (0.9897)]}]\n",
      "we have chemical\n"
     ]
    }
   ],
   "source": [
    "chemicals=[]\n",
    "disease=[]\n",
    "genes=[]\n",
    "spacies=[]\n",
    "hun=[]\n",
    "for sent in sentencesSplited: \n",
    "    #nerAbs=flairNER(sent)\n",
    "    #print(nerAbs.to_tagged_string())\n",
    "    c=sent.to_dict('hunflair-chemical')['entities']\n",
    "    d=sent.to_dict('hunflair-disease')['entities']\n",
    "    g=sent.to_dict('hunflair-gene')['entities']\n",
    "    s=sent.to_dict('hunflair-spacies')['entities']\n",
    "    print(sent)\n",
    "    if  c:\n",
    "        print(c)\n",
    "        print(\"we have chemical\")\n",
    "    elif  d:\n",
    "        print(d)\n",
    "        print(\"we have disease\")\n",
    "    elif  g:\n",
    "        print(g)\n",
    "        print(\"we have gene\")\n",
    "    elif  s:\n",
    "        print(s)\n",
    "        print(\"we have spacies\")\n",
    "    chemicals.append(sent.to_dict('hunflair-chemical'))\n",
    "    disease.append(sent.to_dict('hunflair-disease'))\n",
    "    spacies.append(sent.to_dict('hunflair-spacies'))\n",
    "    genes.append(sent.to_dict('hunflair-gene'))"
   ]
  },
  {
   "cell_type": "code",
   "execution_count": 100,
   "id": "b3a8ccc0-0960-46e8-b8ed-354c98c3f1ad",
   "metadata": {},
   "outputs": [
    {
     "data": {
      "text/plain": [
       "'Chemical'"
      ]
     },
     "execution_count": 100,
     "metadata": {},
     "output_type": "execute_result"
    }
   ],
   "source": [
    "chemicals[0]['entities'][0]['labels'][0].value"
   ]
  },
  {
   "cell_type": "code",
   "execution_count": 54,
   "id": "adb45cc1-b974-47eb-9872-fb20e2e658dc",
   "metadata": {},
   "outputs": [],
   "source": [
    "def getMaxEntitiesLength(c,d,g,s):\n",
    "    nerList=['chemicals','disease','genes','spacies']\n",
    "    lenList=[len(c['entities']),len(d['entities']),len(g['entities']),len(s['entities'])]\n",
    "    \n",
    "    return nerList[lenList.index(max(lenList))]"
   ]
  },
  {
   "cell_type": "code",
   "execution_count": 49,
   "id": "620fda5a-a4ec-461a-89b8-494c24c60a97",
   "metadata": {},
   "outputs": [
    {
     "data": {
      "text/plain": [
       "(2, 14, 0, 0, 0)"
      ]
     },
     "execution_count": 49,
     "metadata": {},
     "output_type": "execute_result"
    }
   ],
   "source": [
    "len(chemicals[0]['entities']),len(sentencesSplited),len(disease[0]['entities']),len(spacies[0]['entities']),len(genes[0]['entities'])"
   ]
  },
  {
   "cell_type": "code",
   "execution_count": null,
   "id": "db78e73e-59fc-4ce1-be02-ffe3c3fe2bde",
   "metadata": {},
   "outputs": [],
   "source": [
    "nerList=[chemicals[0],disease[0],genes[0],spacies[0]]"
   ]
  },
  {
   "cell_type": "code",
   "execution_count": 55,
   "id": "bc499a10-59a1-437f-86ce-e942f6a1970f",
   "metadata": {},
   "outputs": [
    {
     "data": {
      "text/plain": [
       "'chemicals'"
      ]
     },
     "execution_count": 55,
     "metadata": {},
     "output_type": "execute_result"
    }
   ],
   "source": [
    "getMaxEntitiesLength(chemicals[0],disease[0],genes[0],spacies[0])"
   ]
  },
  {
   "cell_type": "code",
   "execution_count": null,
   "id": "daa1bee1-5577-4f82-b83f-9671810826dc",
   "metadata": {},
   "outputs": [],
   "source": [
    "print(\"Sentnce \\t Chemical \\t Disease \\t gene \\t Spacies\")\n",
    "for i in range(len(chemicals)):\n",
    "    for j in range(len(chemicals[i]))\n",
    "    print(chemicals[i]+ stat)"
   ]
  },
  {
   "cell_type": "code",
   "execution_count": 158,
   "id": "3ef909b9-c7f4-4fd2-ba60-9f40b103e7d1",
   "metadata": {},
   "outputs": [
    {
     "data": {
      "text/plain": [
       "[{'text': 'An increasing wealth of data from high-throughput molecular and imaging technologies is connecting biomedical sciences and machine learning (ML).',\n",
       "  'labels': [],\n",
       "  'entities': []},\n",
       " {'text': 'The latter is affecting numerous areas of medicine, including disease diagnosis and prognosis.',\n",
       "  'labels': [],\n",
       "  'entities': []},\n",
       " {'text': 'It is now argued that ML, and more globally artificial intelligence (AI), will dramatically improve prognosis within the coming years.',\n",
       "  'labels': [],\n",
       "  'entities': []},\n",
       " {'text': 'Simultaneously, progress made in high-throughput technologies has contributed to developing new fields such as metagenomics.',\n",
       "  'labels': [],\n",
       "  'entities': []},\n",
       " {'text': 'The association of the gut microbiota with human health and disease has been widely discussed, and links with numerous diseases are described.',\n",
       "  'labels': [],\n",
       "  'entities': []},\n",
       " {'text': 'Specifically, ecological relationships among bacterial species such as mutualism, parasitism, and competition may change along with a shift in microbial equilibrium.',\n",
       "  'labels': [],\n",
       "  'entities': []},\n",
       " {'text': 'Although these signatures allow predicting disease onset and states, many of these findings are only correlative and require controlling for confounding factors—a task that remains challenging.',\n",
       "  'labels': [],\n",
       "  'entities': []},\n",
       " {'text': 'Metagenomics data must be interpreted carefully because they are often analyzed in a small number of samples (N) compared to a very large number of variables (p).',\n",
       "  'labels': [],\n",
       "  'entities': []},\n",
       " {'text': 'Current microbial catalogues, which are composed of millions of genes and thousands of bacterial species and functional profiles, allow the characterization and comparison of sampled ecosystems.',\n",
       "  'labels': [],\n",
       "  'entities': []},\n",
       " {'text': 'Consequently, most models tend to overfit the training data and result in predictions arising from random sampling fluctuations.',\n",
       "  'labels': [],\n",
       "  'entities': []},\n",
       " {'text': 'To reduce overfitting and allow for better generalization in unseen data, some authors use learning algorithms that include a dimension reduction or regularization methods, e.g., logistic regression with elastic-net regularization (ENET) or Support Vector Machine (SVM).',\n",
       "  'labels': [],\n",
       "  'entities': []},\n",
       " {'text': 'While these algorithms are more straightforward than others, they generate complex models that are difficult to interpret.',\n",
       "  'labels': [],\n",
       "  'entities': []},\n",
       " {'text': 'ML research has focused on building accurate models for large data collections, often at the expense of interpretability.',\n",
       "  'labels': [],\n",
       "  'entities': []},\n",
       " {'text': 'Providing an explanation of the prediction process is increasingly requested when not mandatory, especially in precision medicine.',\n",
       "  'labels': [],\n",
       "  'entities': []},\n",
       " {'text': 'Interpretable models have 2 desirable properties: conciseness and readability by non-experts.',\n",
       "  'labels': [],\n",
       "  'entities': []},\n",
       " {'text': 'They should contain simple operations and be limited in size.',\n",
       "  'labels': [],\n",
       "  'entities': []},\n",
       " {'text': 'Causality, as the holy grail of modern biology, is beyond the scope of the interpretability property of a predictive model.',\n",
       "  'labels': [],\n",
       "  'entities': []},\n",
       " {'text': 'Here, we investigated whether models inspired by ecosystem relationships and sparse microbial signatures can be both accurate and more interpretable than more complex well-established state-of-the-art (SOTA) models, including logistic regression with ENET and SVM.',\n",
       "  'labels': [],\n",
       "  'entities': []},\n",
       " {'text': 'We used public datasets to test the \"predomics\" algorithm and compare it with SOTA methods.',\n",
       "  'labels': [],\n",
       "  'entities': []},\n",
       " {'text': 'For the classification tasks we used curated metagenomic datasets from ExperimentHub (see Supplementary Table S1 for more information).',\n",
       "  'labels': [],\n",
       "  'entities': []},\n",
       " {'text': 'The code used to query and process the data is provided in the supporting dataset of this article doi: 10.55.24/100698.',\n",
       "  'labels': [],\n",
       "  'entities': []},\n",
       " {'text': 'In total, 54 datasets were derived (i.e., 6 different cohorts and for each 6 taxonomic levels, a marker gene, and a pathway table along with a fused taxonomic dataset).',\n",
       "  'labels': [],\n",
       "  'entities': []},\n",
       " {'text': 'Moreover, these datasets were transformed as \"presence/absence\" for additional experiments (n = 54).',\n",
       "  'labels': [],\n",
       "  'entities': []},\n",
       " {'text': 'Baseline microbiome data were also used to predict the clinical outcome of bariatric surgery on morbidly obese patients.',\n",
       "  'labels': [],\n",
       "  'entities': []},\n",
       " {'text': 'Their microbiome was sequenced at baseline and at 1, 3, and 12 months after surgery (see original paper for methods).',\n",
       "  'labels': [],\n",
       "  'entities': []},\n",
       " {'text': 'We propose a new family of models, named BTR for binary/ternary/ratio, which are a simplification of linear models aiming at making their output even more interpretable.',\n",
       "  'labels': [],\n",
       "  'entities': []},\n",
       " {'text': 'For each ecosystem , the abundance or presence of genes, taxonomy levels, functions, or other microbial qualities are represented by  predictor variables.',\n",
       "  'labels': [],\n",
       "  'entities': []},\n",
       " {'text': 'In a linear model, a patient is predicted in a disease group with a probability of p > 0.5 if , where  are real coefficients.',\n",
       "  'labels': [],\n",
       "  'entities': [{'text': 'disease',\n",
       "    'start_pos': 47,\n",
       "    'end_pos': 54,\n",
       "    'labels': [Disease (0.8342)]}]},\n",
       " {'text': 'The biological assumption is that the contribution of each bacterial species to the prediction is proportional to its abundance and that only a limited number of species is sufficient to support the prediction.',\n",
       "  'labels': [],\n",
       "  'entities': []},\n",
       " {'text': 'BTR models are much simpler and are inspired by 3 hypotheses emphasizing relationships between species and associated ecosystem (Fig.',\n",
       "  'labels': [],\n",
       "  'entities': []},\n",
       " {'text': '1).', 'labels': [], 'entities': []},\n",
       " {'text': 'Hypothesis 1: The unweighted cumulative abundance of a group of species can predict disease states.',\n",
       "  'labels': [],\n",
       "  'entities': []},\n",
       " {'text': 'We define \"binary models\" (Bin) as linear models with the additional constraint that each coefficient  (omitting the intercept ) must be binary—{0, 1} (Fig.',\n",
       "  'labels': [],\n",
       "  'entities': []},\n",
       " {'text': '1 top).', 'labels': [], 'entities': []},\n",
       " {'text': 'An example is in (1) and is interpreted as “if the cumulative abundance of s_Veillonella_unclassified and s_Lachnospiraceae_bacterium_3_1_57FAA_CT1 is <9.7% of the total microbial abundance, then the individual is classified as healthy.” These species may share the same ecological niche or interact directly with one another.',\n",
       "  'labels': [],\n",
       "  'entities': []},\n",
       " {'text': '(2) If s_Veillonella_unclassified + s_Lachnospiraceae_bacterium_3_1_ 57FAA_CT1 < 0.097 then class = healthy Hypothesis 2: The difference of unweighted cumulative abundance of 2 groups of species can predict disease state.',\n",
       "  'labels': [],\n",
       "  'entities': []},\n",
       " {'text': 'This assumption is implemented by \"ternary models\" (Ter), also linear models with the constraint that each coefficient  (omitting the intercept ) be limited to the values {−1, 0, 1} (Fig.',\n",
       "  'labels': [],\n",
       "  'entities': []},\n",
       " {'text': '1 middle).', 'labels': [], 'entities': []},\n",
       " {'text': 'An example of a ternary model in (2) can be interpreted as follows: “if the cumulative abundance of s_Streptococcus_anginosus and s_Veillonella_unclassified minus the abundance of s_Alistipes_indistinctus is ≥8.3% of the total microbial abundance, then the patient is classified as healthy.” (2) If(s_Streptococcus_anginosus + s_Veillonella_unclassified)/s_Alistipes_indistinctus ≤ 0.083thenclass=healthy Hypothesis 3: The ratio of unweighted cumulative abundance of 2 groups of species can predict disease state.',\n",
       "  'labels': [],\n",
       "  'entities': []},\n",
       " {'text': 'This assumption is implemented by \"ratio models\" (Ratio), also linear models with an additional constraint: each coefficient  is limited to a value of −, 0, or 1, where  is a positive real number, and the intercept  is set to zero (Fig.',\n",
       "  'labels': [],\n",
       "  'entities': []},\n",
       " {'text': '1 bottom).', 'labels': [], 'entities': []},\n",
       " {'text': 'An example in (3) can be interpreted as follows: “if the abundance of s__Subdoligranulum_unclassified is  times greater than the cumulative abundance of s__Megasphaera_micronuciformis+s__Streptococcus_anginosus then the individual is classified as healthy.” (3) Ifs__Subdoligranulum_unclassified > 81 * (s__Megasphaera_ micronuciformis + s__Streptococcus_anginosus)thenclass=healthy Biologically, both Ter and Ratio models can correspond to interactions of different types of species, including cooperation and competition among species.',\n",
       "  'labels': [],\n",
       "  'entities': []},\n",
       " {'text': 'BTR models can be illustrated as balances, where species abundance is symbolized by the cumulative weights (Fig.',\n",
       "  'labels': [],\n",
       "  'entities': []},\n",
       " {'text': '1).', 'labels': [], 'entities': []},\n",
       " {'text': 'The concept of balance is not new in ecology and was first proposed to address the compositionality problem in microbiome data.',\n",
       "  'labels': [],\n",
       "  'entities': []},\n",
       " {'text': 'A balance-based representation can bypass this issue and reveal pertinent biological patterns.',\n",
       "  'labels': [],\n",
       "  'entities': []},\n",
       " {'text': 'Recently, other authors have applied the balance representation in the classification context.',\n",
       "  'labels': [],\n",
       "  'entities': []},\n",
       " {'text': 'Here, we propose a more general framework of models that encompass such balances.',\n",
       "  'labels': [],\n",
       "  'entities': []},\n",
       " {'text': 'Indeed, they would correspond to our Ter models when applied to log-transformed data—named TerLog (see Supplementary Fig.',\n",
       "  'labels': [],\n",
       "  'entities': []},\n",
       " {'text': 'S14).', 'labels': [], 'entities': []},\n",
       " {'text': 'Learning linear models on log-transformed relative abundance data corresponds to identifying balances of multiplicative relationships.',\n",
       "  'labels': [],\n",
       "  'entities': []},\n",
       " {'text': 'However, which characterizes best microbial ecosystems (i.e., multiplicative or additive) remains an open question.',\n",
       "  'labels': [],\n",
       "  'entities': []},\n",
       " {'text': 'We propose here different types of models that could be useful in tackling such questions.',\n",
       "  'labels': [],\n",
       "  'entities': []},\n",
       " {'text': 'The predomics algorithm was developed to specifically learn BTR models.',\n",
       "  'labels': [],\n",
       "  'entities': []},\n",
       " {'text': 'We tested our approach on 6 different public metagenomic datasets (Table S1) and 9 derived types of variables (6 different taxonomic levels, a merged multi-taxonomic level, marker genes, and a functional MetaCyc pathway table, i.e., a total of 54 datasets; see Methods).',\n",
       "  'labels': [],\n",
       "  'entities': []},\n",
       " {'text': 'We trained and tested models with different numbers of features (i.e., model size, k_#) and noticed an effect on accuracy.',\n",
       "  'labels': [],\n",
       "  'entities': []},\n",
       " {'text': 'As expected, the testing performance on unseen data was lower compared to training performance.',\n",
       "  'labels': [],\n",
       "  'entities': []},\n",
       " {'text': 'However, this difference was more pronounced for the SOTA, indicating a significant overfitting effect, compared with BTR models as discussed previously.',\n",
       "  'labels': [],\n",
       "  'entities': []},\n",
       " {'text': 'The simplicity and sparsity of the BTR models reduces overfitting on studied datasets (Fig.',\n",
       "  'labels': [],\n",
       "  'entities': []},\n",
       " {'text': '2).', 'labels': [], 'entities': []},\n",
       " {'text': 'Because BTR models come with an embedded feature selection strategy, we used a Mann-Whitney test to select the k_# most correlated features for random forest (RF) and SVM to allow comparison.',\n",
       "  'labels': [],\n",
       "  'entities': []},\n",
       " {'text': 'For ENET we used the embedded regularization path and selected the first k_# from it.',\n",
       "  'labels': [],\n",
       "  'entities': []},\n",
       " {'text': 'We applied a model size penalization technique on the empirical (training) accuracy to select the best model.',\n",
       "  'labels': [],\n",
       "  'entities': []},\n",
       " {'text': 'BTR models performed at least as well as the SOTA in 46 of 54 (85%) of the cases.',\n",
       "  'labels': [],\n",
       "  'entities': []},\n",
       " {'text': 'They outperformed SOTA in 19 of 54 (35%) and were outperformed in 8 of 54 (15%) (Fig.',\n",
       "  'labels': [],\n",
       "  'entities': []},\n",
       " {'text': '3; Fig.', 'labels': [], 'entities': []},\n",
       " {'text': 'S1A–C).', 'labels': [], 'entities': []},\n",
       " {'text': 'Similar results were observed even when all the variables in the dataset were used (no penalization) for the SOTA (Fig.',\n",
       "  'labels': [],\n",
       "  'entities': []},\n",
       " {'text': 'S2A–C) or when fixing the same model size for all the compared models (Fig.',\n",
       "  'labels': [],\n",
       "  'entities': []},\n",
       " {'text': 'S3A–C).', 'labels': [], 'entities': []},\n",
       " {'text': 'Similar results are obtained for additional performance scores including recall, precision, and f1 score (Figs S6 and S7).',\n",
       "  'labels': [],\n",
       "  'entities': []},\n",
       " {'text': 'When learning from the different types of variables based on taxonomic levels (Cirrhosis Stage 1), the performance of the models varies accordingly.',\n",
       "  'labels': [],\n",
       "  'entities': [{'text': 'Cirrhosis',\n",
       "    'start_pos': 79,\n",
       "    'end_pos': 88,\n",
       "    'labels': [Disease (0.9499)]}]},\n",
       " {'text': 'Higher performance is obtained at the gene marker, species, and genus levels and decreases with higher taxonomic levels.',\n",
       "  'labels': [],\n",
       "  'entities': []},\n",
       " {'text': 'Similar results are reported elsewhere.',\n",
       "  'labels': [],\n",
       "  'entities': []},\n",
       " {'text': 'Moreover, when applied to a multi-taxonomic level dataset (from strain to phylum as generated by Pasolli et al.',\n",
       "  'labels': [],\n",
       "  'entities': []},\n",
       " {'text': 'with different specificity levels mixed together; i.e., \"whole tax\"), models displayed surprisingly good performance (Fig.',\n",
       "  'labels': [],\n",
       "  'entities': []},\n",
       " {'text': '3B).', 'labels': [], 'entities': []},\n",
       " {'text': 'Indeed, in this space, models can be powerful because they can summarize more complex rules such as: “if (abundance of all Firmicutes − abundance of all Clostridiales order) > threshold then disease.” We tested the generalization of Bin, Ter, Ratio and also TerLog models trained in Cirrhosis Stage 1, in a second, independent dataset (i.e., Cirrhosis Stage 2).',\n",
       "  'labels': [],\n",
       "  'entities': [{'text': 'disease',\n",
       "    'start_pos': 191,\n",
       "    'end_pos': 198,\n",
       "    'labels': [Disease (0.8134)]},\n",
       "   {'text': 'Cirrhosis',\n",
       "    'start_pos': 283,\n",
       "    'end_pos': 292,\n",
       "    'labels': [Disease (0.9467)]},\n",
       "   {'text': 'Cirrhosis',\n",
       "    'start_pos': 342,\n",
       "    'end_pos': 351,\n",
       "    'labels': [Disease (0.9193)]}]},\n",
       " {'text': 'Results illustrated in Fig.', 'labels': [], 'entities': []},\n",
       " {'text': 'S5 indicate very good external validation with an average training accuracy = 0.89 (SD = 0.02) and testing accuracy = 0.85 (SD = 0.04).',\n",
       "  'labels': [],\n",
       "  'entities': []},\n",
       " {'text': 'Ter and Ratio models generalized better compared to Bin and TerLog.',\n",
       "  'labels': [],\n",
       "  'entities': []},\n",
       " {'text': 'In addition to the abundance datasets described above, we trained and tested similar models on presence/absence binary data derived from the previous 54 abundance datasets.',\n",
       "  'labels': [],\n",
       "  'entities': []},\n",
       " {'text': 'Overall results are similar, indicating that the detection of species alone can be powerful enough in some prediction tasks (see Supplementary Figs S1D–F, S2D–F, S3D–F, and S4).',\n",
       "  'labels': [],\n",
       "  'entities': []},\n",
       " {'text': 'It is noteworthy that, when applied to presence data, BTR models indicate relationships between sub-ecosystem complexity or richness.',\n",
       "  'labels': [],\n",
       "  'entities': []},\n",
       " {'text': 'These can be useful to detect switch-like mechanisms in the microbiome.',\n",
       "  'labels': [],\n",
       "  'entities': []},\n",
       " {'text': 'A graphical barcode representation illustrates the simplicity of BTR models.',\n",
       "  'labels': [],\n",
       "  'entities': []},\n",
       " {'text': 'In Fig.', 'labels': [], 'entities': []},\n",
       " {'text': '4A–Cleft, the models are represented by red and blue horizontal lines, corresponding, respectively, to positive and negative coefficients (either 1 or −1).',\n",
       "  'labels': [],\n",
       "  'entities': []},\n",
       " {'text': 'The same representation is used to visualize the normalized coefficients of ENET and SVMLIN models (the line length is proportional to the coefficient in the interval [−1, 1]) (Fig.',\n",
       "  'labels': [],\n",
       "  'entities': []},\n",
       " {'text': '4D–E).', 'labels': [], 'entities': []},\n",
       " {'text': 'For the RF model only 1 of the 500 decision trees used in the model is illustrated (Fig.',\n",
       "  'labels': [],\n",
       "  'entities': []},\n",
       " {'text': '4F).', 'labels': [], 'entities': []},\n",
       " {'text': 'Additionally, for each variable selected by BTR models, we assessed their importance in prediction, using a variant of the well-known mean decrease accuracy (MDA) (Fig.',\n",
       "  'labels': [],\n",
       "  'entities': []},\n",
       " {'text': '4A–C, middle).', 'labels': [], 'entities': []},\n",
       " {'text': 'The feature importance (FI) score of BTR models correlates strongly with the FI of the well-established but more complex RF model (respectively, R = 0.68, R = 0.81, R = 0.7, with Bin, Ter, and Ratio models; Figs S11 and S12).',\n",
       "  'labels': [],\n",
       "  'entities': []},\n",
       " {'text': 'This information allows prioritizing further exploration of the features in the context of the predicted phenomenon.',\n",
       "  'labels': [],\n",
       "  'entities': []},\n",
       " {'text': 'Predomics generates a family of BTR models with equivalent predictive power in a given model size range (i.e., family of best models [FBM]; Fig.',\n",
       "  'labels': [],\n",
       "  'entities': []},\n",
       " {'text': 'S8; see methods and supplementary material).',\n",
       "  'labels': [],\n",
       "  'entities': []},\n",
       " {'text': 'The FBM is analyzed to identify the common features that are found in the models.',\n",
       "  'labels': [],\n",
       "  'entities': []},\n",
       " {'text': 'For instance, in the Cirrhosis Stage 1 (species) dataset, the 268 models in the FBM with model size < 6 rely on only 67 features (i.e., 16% of the whole dataset), which can be used to infer a \"feature co-presence network in models\" (Fig.',\n",
       "  'labels': [],\n",
       "  'entities': [{'text': 'Cirrhosis',\n",
       "    'start_pos': 21,\n",
       "    'end_pos': 30,\n",
       "    'labels': [Disease (0.9251)]}]},\n",
       " {'text': '5A).', 'labels': [], 'entities': []},\n",
       " {'text': 'An emerging property of this network is the clustering of phylogenetically related species, such as Firmicutes enriched in patients (blue tones) and Proteobacteria and Actinobacteria enriched in controls (green tones).',\n",
       "  'labels': [],\n",
       "  'entities': []},\n",
       " {'text': 'Co-presence of the features indicate complementarity in prediction (red edges), while replacement of the features by one another indicate redundancy (blue edges).',\n",
       "  'labels': [],\n",
       "  'entities': []},\n",
       " {'text': 'This can also be observed with the inverse relation of feature pairs in the data and in the models (Fig.',\n",
       "  'labels': [],\n",
       "  'entities': []},\n",
       " {'text': '5C)—the most correlated pairs in the dataset are those that do not occur together in the models.',\n",
       "  'labels': [],\n",
       "  'entities': []},\n",
       " {'text': 'This network provides precious information to decipher the sub-ecosystem that is associated with the disease (Figs S8–S10).',\n",
       "  'labels': [],\n",
       "  'entities': []},\n",
       " {'text': 'We focused on the liver cirrhosis dataset, where major patient dysbiosis was observed with decreased microbial richness, depletion of gut commensals, and an invasion of oral bacteria.',\n",
       "  'labels': [],\n",
       "  'entities': [{'text': 'liver cirrhosis',\n",
       "    'start_pos': 18,\n",
       "    'end_pos': 33,\n",
       "    'labels': [Disease (0.7371)]}]},\n",
       " {'text': 'Several markers at taxonomic and functional levels were associated with the disease.',\n",
       "  'labels': [],\n",
       "  'entities': []},\n",
       " {'text': 'Some authors have modelled liver cirrhosis–associated microbiome features using curated information from the literature, such as the ratio of autochthonous (butyrate-producer bacteria) to non-autochthonous (oral bacteria, opportunistic pathogens).',\n",
       "  'labels': [],\n",
       "  'entities': [{'text': 'liver cirrhosis',\n",
       "    'start_pos': 27,\n",
       "    'end_pos': 42,\n",
       "    'labels': [Disease (0.749)]}]},\n",
       " {'text': 'They used these taxa to build a cirrhosis dysbiosis ratio (CDR) score.',\n",
       "  'labels': [],\n",
       "  'entities': [{'text': 'cirrhosis',\n",
       "    'start_pos': 32,\n",
       "    'end_pos': 41,\n",
       "    'labels': [Disease (0.9738)]}]},\n",
       " {'text': 'On the basis of their description we built 3 redundant ratio models using family taxonomic features to reproduce their score and applied them in the Liver Cirrhosis Stage 1 (family) dataset (Fig.',\n",
       "  'labels': [],\n",
       "  'entities': [{'text': 'Liver Cirrhosis',\n",
       "    'start_pos': 149,\n",
       "    'end_pos': 164,\n",
       "    'labels': [Disease (0.7166)]}]},\n",
       " {'text': '6B–D).', 'labels': [], 'entities': []},\n",
       " {'text': 'We searched the same family-level dataset for Ratio models.',\n",
       "  'labels': [],\n",
       "  'entities': []},\n",
       " {'text': 'The models that were identified provided superior performance (accuracy = 0.86; Fig.',\n",
       "  'labels': [],\n",
       "  'entities': []},\n",
       " {'text': '6A) compared with CDR-based models (i.e.',\n",
       "  'labels': [],\n",
       "  'entities': []},\n",
       " {'text': 'mod1, mod2, mod3; accuracy = 0.56 in average; Fig.',\n",
       "  'labels': [],\n",
       "  'entities': []},\n",
       " {'text': '6F).', 'labels': [], 'entities': []},\n",
       " {'text': 'The reason for the CDR lower performance can be explained by the inclusion of the Bacteroidaceae family in the liver cirrhosis group by the authors, while we observe the opposite association in the current dataset.',\n",
       "  'labels': [],\n",
       "  'entities': [{'text': 'liver cirrhosis',\n",
       "    'start_pos': 111,\n",
       "    'end_pos': 126,\n",
       "    'labels': [Disease (0.8424)]}]},\n",
       " {'text': 'Bacteroidetes-related features are enriched in the control group, and this is consistent for different taxonomic levels (Fig.',\n",
       "  'labels': [],\n",
       "  'entities': []},\n",
       " {'text': '6E, see supplementary material).', 'labels': [], 'entities': []},\n",
       " {'text': 'At the phylum level, the Ratio model (S6) points at a mutual exclusion between Bacteroidetes and the combination of Proteobacteria and Viruses, which is also picked up by the Bin model (S4).',\n",
       "  'labels': [],\n",
       "  'entities': []},\n",
       " {'text': 'These models are in line with a decrease in Bacteroides and an increase in Proteobacteria and Fusobacteria in the liver cirrhosis group, reported in the original study.',\n",
       "  'labels': [],\n",
       "  'entities': [{'text': 'liver cirrhosis',\n",
       "    'start_pos': 114,\n",
       "    'end_pos': 129,\n",
       "    'labels': [Disease (0.7746)]}]},\n",
       " {'text': 'The decrease in Bacteroidetes indicates a decrease in highly prevalent gut bacteria, whereas the increase of Proteobacteria has been repeatedly reported in dysbiotic microbiomes of patients and has been associated with chronic inflammation and serum lipopolysaccharides.',\n",
       "  'labels': [],\n",
       "  'entities': [{'text': 'chronic inflammation',\n",
       "    'start_pos': 219,\n",
       "    'end_pos': 239,\n",
       "    'labels': [Disease (0.6843)]}]},\n",
       " {'text': 'The Virus prevalence in the liver cirrhosis group may reflect the oral microbiome signature or increased incidence of viral infections together with opportunistic pathogens.',\n",
       "  'labels': [],\n",
       "  'entities': [{'text': 'liver cirrhosis',\n",
       "    'start_pos': 28,\n",
       "    'end_pos': 43,\n",
       "    'labels': [Disease (0.768)]},\n",
       "   {'text': 'viral infections',\n",
       "    'start_pos': 118,\n",
       "    'end_pos': 134,\n",
       "    'labels': [Disease (0.7815)]}]},\n",
       " {'text': 'The potential competition between oral and gut microbes reported in previous studies is best reflected by Ter and Ratio models with genus abundance data, which combine Veillonella (oral bacteria; opportunistic pathogen) enriched in liver cirrhosis at 1 side and Bacteroides plus Eubacterium(S9) or Coprococcus(S8) enriched in controls.',\n",
       "  'labels': [],\n",
       "  'entities': [{'text': 'liver cirrhosis',\n",
       "    'start_pos': 232,\n",
       "    'end_pos': 247,\n",
       "    'labels': [Disease (0.7913)]}]},\n",
       " {'text': 'The latter represent butyrate producers (Coprococcus and Eubacterium) and complex polysaccharide degraders (Bacteroides genus).',\n",
       "  'labels': [],\n",
       "  'entities': []},\n",
       " {'text': 'Among the most important genera in the FBM we find Veillonella, Streptococcus, Haemophilus, Coprococcus, and Lactobacillus, all more abundant/prevalent in patients.',\n",
       "  'labels': [],\n",
       "  'entities': []},\n",
       " {'text': 'The best Ratio and Ter models (1–3) include oral bacterial species of the genus Veillonella(Veillonellaunclassified), Streptococcus(S. parasanguinis and S. anginosus), and opportunistic pathogens like Megasphaera micronuciformis that proliferate in patients with liver cirrhosis, whereas butyrate producers of the genus Subdoligranilum (Subdoligranilumunclassified) closely related to Faecalibacterium prausnitzii and complex polysaccharide-degrading species like Bacteroides cellulosilyticus characterize control subjects.',\n",
       "  'labels': [],\n",
       "  'entities': [{'text': 'liver cirrhosis',\n",
       "    'start_pos': 263,\n",
       "    'end_pos': 278,\n",
       "    'labels': [Disease (0.7274)]}]},\n",
       " {'text': 'M. micronuciformis was previously associated with primary biliary cirrhosis on the basis of 16S ribosomal RNA quantification.',\n",
       "  'labels': [],\n",
       "  'entities': [{'text': 'primary biliary cirrhosis',\n",
       "    'start_pos': 50,\n",
       "    'end_pos': 75,\n",
       "    'labels': [Disease (0.782)]}]},\n",
       " {'text': 'A more in-depth exploration of the FBM (Figs S8–S10) and the feature-model co-occurrence network (Fig.',\n",
       "  'labels': [],\n",
       "  'entities': []},\n",
       " {'text': '5) delineates detailed relations of the predictive sub-ecosystem.',\n",
       "  'labels': [],\n",
       "  'entities': []},\n",
       " {'text': 'At the functional level, predictive models (S10–S12) from MetaCyc pathway abundance data include pathways that suggest an increased aerobic metabolism (HEMESYN2−PWY: heme biosynthesis II [anaerobic], essential for cytochromes and heme-containing globins; PWY−922: mevalonate pathway I, needed for the biosynthesis of ubiquinone and menaquinone complexes of respiratory chains).',\n",
       "  'labels': [],\n",
       "  'entities': []},\n",
       " {'text': 'Interestingly, increase in aerobic respiration profiles has also been identified as a metabolic signature of inflammation-associated dysbiosis in models of colitis.',\n",
       "  'labels': [],\n",
       "  'entities': [{'text': 'colitis',\n",
       "    'start_pos': 156,\n",
       "    'end_pos': 163,\n",
       "    'labels': [Disease (0.9792)]}]},\n",
       " {'text': 'Moreover, we observe the presence of modules related to bacterial peptidoglycan biosynthesis in the FBM (PWY−6470: peptidoglycan biosynthesis V).',\n",
       "  'labels': [],\n",
       "  'entities': []},\n",
       " {'text': 'It has been described as an elicitor of inflammatory response associated with the progression of liver cirrhosis, in agreement with a more inflammatory profile of cirrhotic patients.',\n",
       "  'labels': [],\n",
       "  'entities': [{'text': 'liver cirrhosis',\n",
       "    'start_pos': 97,\n",
       "    'end_pos': 112,\n",
       "    'labels': [Disease (0.8091)]},\n",
       "   {'text': 'cirrhotic',\n",
       "    'start_pos': 163,\n",
       "    'end_pos': 172,\n",
       "    'labels': [Disease (0.7595)]}]},\n",
       " {'text': 'Altogether, these results indicate that BTR models discover important features with relevant biological information.',\n",
       "  'labels': [],\n",
       "  'entities': []},\n",
       " {'text': 'BTR models are more accurate than literature-based ones and have the ability to distil and capture the predictive biological information embedded in the data.',\n",
       "  'labels': [],\n",
       "  'entities': []},\n",
       " {'text': 'Here, we introduced “predomics,” an original ML approach, inspired by microbial ecosystem interactions.',\n",
       "  'labels': [],\n",
       "  'entities': []},\n",
       " {'text': 'We have demonstrated that it discovers not only accurate predictive signatures that generalize well, but also provides unprecedented interpretability.',\n",
       "  'labels': [],\n",
       "  'entities': []},\n",
       " {'text': 'Moreover, the FBM offers the ability to distil biological information and to decipher the predictability signatures of the studied condition.',\n",
       "  'labels': [],\n",
       "  'entities': []},\n",
       " {'text': 'In principle, BTR models could be applied to any type of data.',\n",
       "  'labels': [],\n",
       "  'entities': []},\n",
       " {'text': 'However, they are best suited to commensurable measurements (i.e., variables measurable by the same standard or measure).',\n",
       "  'labels': [],\n",
       "  'entities': []},\n",
       " {'text': 'In the growing field of metagenomics, issues related to compositionality and data processing still remain to be solved.',\n",
       "  'labels': [],\n",
       "  'entities': []},\n",
       " {'text': 'An advantage of the Ratio models that we proposed is that they are scale-invariant given they do not depend on absolute measurements, thus avoiding compositionality issues.',\n",
       "  'labels': [],\n",
       "  'entities': []},\n",
       " {'text': 'Other issues related to data quantification can affect predictive models.',\n",
       "  'labels': [],\n",
       "  'entities': []},\n",
       " {'text': 'Recent work has shown the importance of data acquisition in subsequent analytical inferences.',\n",
       "  'labels': [],\n",
       "  'entities': []},\n",
       " {'text': 'In particular, microbial loads differ significantly between individuals and are associated with specific types of microbial ecosystems.',\n",
       "  'labels': [],\n",
       "  'entities': []},\n",
       " {'text': 'Moreover, varying sequencing depth can over- or under-estimate less abundant taxa that may be selected by the models.',\n",
       "  'labels': [],\n",
       "  'entities': []},\n",
       " {'text': 'It is thus advisable to pre-filter rare taxa from the dataset before training the models.',\n",
       "  'labels': [],\n",
       "  'entities': []},\n",
       " {'text': 'However, the sparsity constraint in our approach will force important taxa to be selected by the models, improving their generalization.',\n",
       "  'labels': [],\n",
       "  'entities': []},\n",
       " {'text': 'The simplicity of BTR models may come with the risk of over-interpretation.',\n",
       "  'labels': [],\n",
       "  'entities': []},\n",
       " {'text': 'The existence of k species in a model may correspond to different explanations ranging from simple correlation to causal relation.',\n",
       "  'labels': [],\n",
       "  'entities': []},\n",
       " {'text': 'They may or may not interact, as in the case of a niche differentiation.',\n",
       "  'labels': [],\n",
       "  'entities': []},\n",
       " {'text': 'For instance, the oral-originated species found in the gut of patients with liver cirrhosis along with the absence of usual commensals may reflect a global difference in the environment where they live rather than direct interaction.',\n",
       "  'labels': [],\n",
       "  'entities': [{'text': 'liver cirrhosis',\n",
       "    'start_pos': 76,\n",
       "    'end_pos': 91,\n",
       "    'labels': [Disease (0.7478)]}]},\n",
       " {'text': 'Explicit identification of co-varying species provides important knowledge that can be used to propose functional interactions between species or between the species of interest and the host.',\n",
       "  'labels': [],\n",
       "  'entities': []},\n",
       " {'text': 'Yet, even if BTR models represent real interactions between species, it is not recommended to propose a causal interpretation without further experimental validation.',\n",
       "  'labels': [],\n",
       "  'entities': []},\n",
       " {'text': 'We also stress that the quality of reference datasets used in establishing predictive models is crucial for model interpretability.',\n",
       "  'labels': [],\n",
       "  'entities': []},\n",
       " {'text': 'The propagation of errors and inaccuracies in genomic datasets is a well-known issue that negatively affects the outcome of automated methods used for functional annotation.',\n",
       "  'labels': [],\n",
       "  'entities': []},\n",
       " {'text': 'Moreover, orphan enzymatic activities, by definition, cannot be associated with gene sequences while the number of sequences with unknown functions is extremely large and keeps increasing, making error percolation a widespread feature (see supplementary material).',\n",
       "  'labels': [],\n",
       "  'entities': []},\n",
       " {'text': 'Another important issue that plagues microbiome studies is the influence of potential confounders modulating microbial ecosystems.',\n",
       "  'labels': [],\n",
       "  'entities': []},\n",
       " {'text': 'For instance, it has been shown that metformin can alter the bacterial ecosystem in such a way that some bacterial species (e.g., Escherichia coli) are increased in abundance while others are depleted.',\n",
       "  'labels': [],\n",
       "  'entities': []},\n",
       " {'text': 'In this context, we advise users to filter out confounder-related species from the data or to discard models that are sensitive to confounders.',\n",
       "  'labels': [],\n",
       "  'entities': []},\n",
       " {'text': 'Finally, besides quantifying taxa abundance through whole shotgun or 16S ribosomal RNA sequencing, BTR models can be used to develop specific acquisition technologies such as microarray DNA chips or qPCR-based tests, built with primers that are specific to the species/taxa found in the models.',\n",
       "  'labels': [],\n",
       "  'entities': []},\n",
       " {'text': 'From a clinical perspective, because BTR models rely on a small number of variables, quantifying a relatively small subset of variables (genes, species, pathways, operational taxonomic units, etc.)',\n",
       "  'labels': [],\n",
       "  'entities': []},\n",
       " {'text': 'can be sufficient to simultaneously predict multiple tasks, and this can be developed for a limited cost.',\n",
       "  'labels': [],\n",
       "  'entities': []},\n",
       " {'text': 'Such applications, after being properly validated, will be important to the medical community in their translational quest in improving patient care.',\n",
       "  'labels': [],\n",
       "  'entities': []},\n",
       " {'text': 'Our approach brings us a step closer towards useful clinical predictions while preserving interpretability.',\n",
       "  'labels': [],\n",
       "  'entities': []},\n",
       " {'text': 'In our article, we propose an original ML method, called predomics, which is tailored for metagenomics data.',\n",
       "  'labels': [],\n",
       "  'entities': []},\n",
       " {'text': 'Because it is generic, it can be applied to other fields as well.',\n",
       "  'labels': [],\n",
       "  'entities': []},\n",
       " {'text': 'We strongly believe that this original approach will have significant impact on both the development of predictive models based on metagenomics data as well as their applications to medical conditions.',\n",
       "  'labels': [],\n",
       "  'entities': []},\n",
       " {'text': 'This approach will support clinical decisions in the context of precision medicine.',\n",
       "  'labels': [],\n",
       "  'entities': []},\n",
       " {'text': 'The interpretability of the models will ease acceptability and suggest candidates for microbiome targeted treatments.',\n",
       "  'labels': [],\n",
       "  'entities': []},\n",
       " {'text': 'Moreover, it will serve as a bridge to further develop cross-fertilization between AI, biology, and precision medicine.',\n",
       "  'labels': [],\n",
       "  'entities': []},\n",
       " {'text': 'Here, we propose a new family of models, named \"BTR\" for Binary/Ternary/Ratio.',\n",
       "  'labels': [],\n",
       "  'entities': []},\n",
       " {'text': 'Learning optimal BTR models is computationally difficult.',\n",
       "  'labels': [],\n",
       "  'entities': []},\n",
       " {'text': 'Because weights are discrete, usual techniques coming from convex optimization do not apply.',\n",
       "  'labels': [],\n",
       "  'entities': []},\n",
       " {'text': 'A naive way would be to perform an exhaustive search through the whole space of models.',\n",
       "  'labels': [],\n",
       "  'entities': []},\n",
       " {'text': 'Unfortunately, this is not practically feasible because the computation time would increase exponentially with the number of features.',\n",
       "  'labels': [],\n",
       "  'entities': []},\n",
       " {'text': 'The BTR learning problem is known as NP-Hard, which means that no algorithm can solve this problem exactly in polynomial time.',\n",
       "  'labels': [],\n",
       "  'entities': []},\n",
       " {'text': 'We can nevertheless apply heuristics that provide good models without guarantee on their optimality.',\n",
       "  'labels': [],\n",
       "  'entities': []},\n",
       " {'text': 'Genetic algorithm is a stochastic optimization technique that can be of great use in such context.',\n",
       "  'labels': [],\n",
       "  'entities': []},\n",
       " {'text': 'It adopts concepts from evolutionary biology—populations, reproduction, mutation, and generations.',\n",
       "  'labels': [],\n",
       "  'entities': []},\n",
       " {'text': 'The outline of the algorithm is described in the supplementary materials section.',\n",
       "  'labels': [],\n",
       "  'entities': []},\n",
       " {'text': 'After the evolution process, a final population of predictive models is provided.',\n",
       "  'labels': [],\n",
       "  'entities': []},\n",
       " {'text': 'The best model is obtained by applying a so-called \"model size penalization\" (accuracypenalized = accuracy − ƛ k), where k is the number of features in the model (i.e., parsimony) and ƛ is a hyperparameter controlling the penalization of the accuracy.',\n",
       "  'labels': [],\n",
       "  'entities': []},\n",
       " {'text': 'Here, we used ƛ = 1%, which means that a model that is using 1 additional feature will only be preferred if it improves the accuracy by >1%.',\n",
       "  'labels': [],\n",
       "  'entities': []},\n",
       " {'text': 'For classification, predomics may be set to optimize different parameters such as the accuracy (default), AUC, F1, precision, or recall, while for regression it can optimize R2 (default), Spearman ρ, or the standard error of the regression.',\n",
       "  'labels': [],\n",
       "  'entities': []},\n",
       " {'text': 'The experimental pipeline proceeds as follows: Feature normalization: frequency tables are used as processed by Pasolli et al.',\n",
       "  'labels': [],\n",
       "  'entities': []},\n",
       " {'text': 'Features with low standard deviation are filtered out.',\n",
       "  'labels': [],\n",
       "  'entities': []},\n",
       " {'text': \"The threshold corresponds to the maximum second derivative of the distribution of the feature's standard deviation.\",\n",
       "  'labels': [],\n",
       "  'entities': []},\n",
       " {'text': 'The generalized performance of each method is estimated by 10-times 10-fold cross-validation for the classification tasks and a 20-times 5-fold cross-validation for the regression tasks.',\n",
       "  'labels': [],\n",
       "  'entities': []},\n",
       " {'text': 'The feature selection is embedded for the BTR models and Elastic Net (ENET).',\n",
       "  'labels': [],\n",
       "  'entities': []},\n",
       " {'text': 'For SVM and RF, feature selection is based on the Mann-Whitney score as introduced in Aron-Wisnewsky et al.. Algorithm performances are compared with a paired t-test using the 100 CV estimations.',\n",
       "  'labels': [],\n",
       "  'entities': []},\n",
       " {'text': 'Those that are not significantly different (P < 0.05) are considered equivalent.',\n",
       "  'labels': [],\n",
       "  'entities': []},\n",
       " {'text': 'The BTR models are tested on 109 different datasets (see Table S1) and compared with the methods from the SOTA algorithms: SVM with linear and Gaussian kernel (data not shown), random forest, and ENET (an improvement of Lasso, α = 0.5).',\n",
       "  'labels': [],\n",
       "  'entities': []},\n",
       " {'text': 'All algorithms were evaluated by measuring test accuracy in a cross-validation setting and compared among them using paired t-tests.',\n",
       "  'labels': [],\n",
       "  'entities': []},\n",
       " {'text': 'A specific comparison between TerLog models (i.e., Ter model with log-transformed data) and the geometric mean balance algorithm is provided in the supplementary material.',\n",
       "  'labels': [],\n",
       "  'entities': []},\n",
       " {'text': 'An FBM is defined as the set of models returned by the algorithm, whose accuracy is within a statistically equivalent window, defined by a threshold assuming a binomial distribution (P < 0.05).',\n",
       "  'labels': [],\n",
       "  'entities': []},\n",
       " {'text': 'An FBM can be analyzed in detail to distil biological information in the predictive context (see supplementary material).',\n",
       "  'labels': [],\n",
       "  'entities': []},\n",
       " {'text': 'Similar to RF, \"feature importance\" is defined as the usefulness of features to be predictive, given all other features and best models of the FBM.',\n",
       "  'labels': [],\n",
       "  'entities': []},\n",
       " {'text': 'During each cross-validation fold, the out-of-bag error on each model of the FBM is computed.',\n",
       "  'labels': [],\n",
       "  'entities': []},\n",
       " {'text': 'The importance of the  feature is measured by permuting all features within the out-of-bag data.',\n",
       "  'labels': [],\n",
       "  'entities': []},\n",
       " {'text': 'The out-of-bag error is computed on these perturbed data for each FBM model.',\n",
       "  'labels': [],\n",
       "  'entities': []},\n",
       " {'text': 'The overall feature importance for the  feature is obtained by averaging over all FBM models the difference in out-of-bag error before and after the permutation.',\n",
       "  'labels': [],\n",
       "  'entities': []},\n",
       " {'text': 'This is performed on all the features of the dataset that are found in the FBM models, on which errors before and after permutations are computed.',\n",
       "  'labels': [],\n",
       "  'entities': []},\n",
       " {'text': 'Finally, the MDA is computed as the average of these values over all the folds and is displayed along with the standard error of the mean.',\n",
       "  'labels': [],\n",
       "  'entities': []},\n",
       " {'text': 'The threshold used in the model is optimized to maximize the performance in the training set.',\n",
       "  'labels': [],\n",
       "  'entities': []},\n",
       " {'text': \"This approach consists in computing the model's score for each observation in the training set.\",\n",
       "  'labels': [],\n",
       "  'entities': []},\n",
       " {'text': 'The observations are ordered on the basis of this score.',\n",
       "  'labels': [],\n",
       "  'entities': []},\n",
       " {'text': 'Next, the cumulative error is computed following the same order—each time an example is misclassified, the cumulative error is increased when sliding through the score.',\n",
       "  'labels': [],\n",
       "  'entities': []},\n",
       " {'text': 'The index example on which the cumulative error minimizes will provide the value of the score, which will be used as a threshold in the final model.',\n",
       "  'labels': [],\n",
       "  'entities': []},\n",
       " {'text': 'Predomics can learn regression models, which are evaluated by maximizing either Spearman ρ or Spearman R2 or minimizing the scaled standard error of regression.',\n",
       "  'labels': [],\n",
       "  'entities': []},\n",
       " {'text': \"The model's score at this stage reflects the cumulative/difference/ratio of relative abundance of the species and needs to be scaled in the range of the variable to predict.\",\n",
       "  'labels': [],\n",
       "  'entities': []},\n",
       " {'text': 'Two additional parameters α (i.e., multiplication factor) and β (i.e., intercept) are estimated.',\n",
       "  'labels': [],\n",
       "  'entities': []},\n",
       " {'text': 'We used Scalenet to reconstruct the feature co-presence network in model selection data.',\n",
       "  'labels': [],\n",
       "  'entities': []},\n",
       " {'text': 'Here we used the top 5% strongest edges inferred by bayes_hc and aracne methods in the FBM-presence table.',\n",
       "  'labels': [],\n",
       "  'entities': []},\n",
       " {'text': 'ScaleNet first reduces the reconstruction problem to a number of simpler reconstruction problems, then uses SOTA reconstruction methods to solve them.',\n",
       "  'labels': [],\n",
       "  'entities': []},\n",
       " {'text': 'Finally, a consensual voting strategy between the methods is adopted to identify accurate subgraphs, which are then overlapped together.',\n",
       "  'labels': [],\n",
       "  'entities': []},\n",
       " {'text': 'Supplementary information and source data files are available online and the predomics package in https://github.com/eprifti/predomics.',\n",
       "  'labels': [],\n",
       "  'entities': []},\n",
       " {'text': 'The software is registered in the scicrunch.org repository under the RRID:SCR_017415.',\n",
       "  'labels': [],\n",
       "  'entities': []},\n",
       " {'text': 'Project name: Predomics Project home page: e.g., https://github.com/eprifti/predomics Operating system(s): Platform independent Programming language: R Other requirements: R (version ≥2.15.0).',\n",
       "  'labels': [],\n",
       "  'entities': []},\n",
       " {'text': 'Predomics imports the following R packages: reshape2, plyr, BioQC, foreach, snow, doRNG, yaml, ggplot2, gridExtra, grid, gtools, RColorBrewer, glmnet, pROC, viridis, kernlab, randomForest.',\n",
       "  'labels': [],\n",
       "  'entities': []},\n",
       " {'text': 'License: GNU General Public License v3.0  RRID:SCR_017415  The supplementary material includes additional experiments and results.',\n",
       "  'labels': [],\n",
       "  'entities': []},\n",
       " {'text': 'The datasets used here are public in respective repositories.',\n",
       "  'labels': [],\n",
       "  'entities': []},\n",
       " {'text': 'For the classification tasks we downloaded 5 curated metagenomic datasets from the ExperimentHub.',\n",
       "  'labels': [],\n",
       "  'entities': []},\n",
       " {'text': 'The raw data were generated in independent studies using shotgun metagenomics (Table S1) and were processed bioinformatically and curated by Pasolli et al.. For the regression experiments, we used shotgun metagenomics data from a recently published study, where morbidly obese patients underwent bariatric surgery.',\n",
       "  'labels': [],\n",
       "  'entities': [{'text': 'obese',\n",
       "    'start_pos': 271,\n",
       "    'end_pos': 276,\n",
       "    'labels': [Disease (0.5621)]}]},\n",
       " {'text': \"The code for processing the data is made available in the project's home repository.\",\n",
       "  'labels': [],\n",
       "  'entities': []},\n",
       " {'text': 'Snapshots of our code and other data further supporting this work are openly available in the GigaScience repository, GigaDB.',\n",
       "  'labels': [],\n",
       "  'entities': []},\n",
       " {'text': 'Table S1: Summary of the datasets considered in the experiments.',\n",
       "  'labels': [],\n",
       "  'entities': []},\n",
       " {'text': 'Figure S1: Best model performance across all experiments (penalization strategy).',\n",
       "  'labels': [],\n",
       "  'entities': []},\n",
       " {'text': 'Figure S2: Best model performance across all experiments (no-penalization for SOTA).',\n",
       "  'labels': [],\n",
       "  'entities': []},\n",
       " {'text': 'Figure S3: Best model performance across all experiments (fixed k = 5 for BTR and SOTA).',\n",
       "  'labels': [],\n",
       "  'entities': []},\n",
       " {'text': 'Figure S4: BTR and SOTA performance across different disease and taxonomic levels in presence/absence data.',\n",
       "  'labels': [],\n",
       "  'entities': []},\n",
       " {'text': 'Figure S5: Validation of BTR models in an external dataset.',\n",
       "  'labels': [],\n",
       "  'entities': []},\n",
       " {'text': 'Figure S6: Best model performance across all experiments (penalization strategy) different measurements.',\n",
       "  'labels': [],\n",
       "  'entities': []},\n",
       " {'text': 'Figure S7: BTR and SOTA performance across different taxonomic levels in Cirrhosis Stage 1 species normalized abundance data.',\n",
       "  'labels': [],\n",
       "  'entities': [{'text': 'Cirrhosis',\n",
       "    'start_pos': 73,\n",
       "    'end_pos': 82,\n",
       "    'labels': [Disease (0.8822)]}]},\n",
       " {'text': 'Figure S8: Performance of the family of best models (FBM) across model size and model type.',\n",
       "  'labels': [],\n",
       "  'entities': []},\n",
       " {'text': 'Figure S9: Feature composition and feature importance of the family of best models for the Cirrhosis Stage 1 dataset.',\n",
       "  'labels': [],\n",
       "  'entities': [{'text': 'Cirrhosis',\n",
       "    'start_pos': 91,\n",
       "    'end_pos': 100,\n",
       "    'labels': [Disease (0.8748)]}]},\n",
       " {'text': 'Figure S10: Feature abundance and prevalence of the family of best models for the Cirrhosis Stage 1 dataset.',\n",
       "  'labels': [],\n",
       "  'entities': [{'text': 'Cirrhosis',\n",
       "    'start_pos': 82,\n",
       "    'end_pos': 91,\n",
       "    'labels': [Disease (0.8677)]}]},\n",
       " {'text': 'Figure S11: Comparison of feature importance between BTR models and RF as well as statistical ranking.',\n",
       "  'labels': [],\n",
       "  'entities': []},\n",
       " {'text': 'Figure S12: Comparison of feature importance between TER models and RF.',\n",
       "  'labels': [],\n",
       "  'entities': []},\n",
       " {'text': 'Figure S13: Quantitative prediction of phenotypic outcome after bypass surgery.',\n",
       "  'labels': [],\n",
       "  'entities': []},\n",
       " {'text': 'Figure S14: Comparison of selbal balances with TerLog predomics models.',\n",
       "  'labels': [],\n",
       "  'entities': []},\n",
       " {'text': 'AI: artificial intelligence; AUC: area under the curve; BTR: Bin, Ter, Ratio models; CDR: cirrhosis dysbiosis ratio; ENET: elastic net; FBM: family of best models; FI: feature importance; MDA: mean decrease accuracy, indicating the importance of features in prediction; ML: machine learning; RF: random forest; SD: standard deviation; SER: standard error of regression; SOTA: state of the art; SVM: Support Vector Machine; SVMLIN: SVM with linear kernel; TerLog: Ter models when applied to log-transformed data.',\n",
       "  'labels': [],\n",
       "  'entities': [{'text': 'cirrhosis',\n",
       "    'start_pos': 90,\n",
       "    'end_pos': 99,\n",
       "    'labels': [Disease (0.9774)]}]},\n",
       " {'text': 'The authors declare that they have no competing interests.',\n",
       "  'labels': [],\n",
       "  'entities': []},\n",
       " {'text': \"This work was supported by the French National Agency through the national program Investissements d'Avenir (reference no.\",\n",
       "  'labels': [],\n",
       "  'entities': []},\n",
       " {'text': \"ANR-10-IAHU-05) IHU ICAN; by the Funding Support of European Union's Seventh Framework Program under grant agreement HEALTH-F4-2012-305312, by the Assistance Publique-Hôpitaux de Paris promoter of the clinic program, and by Assistance Publique-Hôpitaux de Paris Contrat d'interface chercheurs 2015–2018.\",\n",
       "  'labels': [],\n",
       "  'entities': []},\n",
       " {'text': 'E.P.', 'labels': [], 'entities': []},\n",
       " {'text': ': overall conception, design and interpretation; designing and coding the software; conducting all experiments; writing the manuscript.',\n",
       "  'labels': [],\n",
       "  'entities': []},\n",
       " {'text': 'Y.C.', 'labels': [], 'entities': []},\n",
       " {'text': 'conception and interpretation of the approach; coding; drafting the manuscript.',\n",
       "  'labels': [],\n",
       "  'entities': []},\n",
       " {'text': 'B.H.', 'labels': [], 'entities': []},\n",
       " {'text': ': conception, design and interpretation of the approach; coding; drafting the manuscript.',\n",
       "  'labels': [],\n",
       "  'entities': []},\n",
       " {'text': 'E.B.', 'labels': [], 'entities': []},\n",
       " {'text': ': biological interpretation of the results; drafting the manuscript.',\n",
       "  'labels': [],\n",
       "  'entities': []},\n",
       " {'text': 'A.D.: biological interpretation of the results; drafting the manuscript.',\n",
       "  'labels': [],\n",
       "  'entities': []},\n",
       " {'text': 'K.C.', 'labels': [], 'entities': []},\n",
       " {'text': ': data production (bariatric model); biological interpretation of results.',\n",
       "  'labels': [],\n",
       "  'entities': []},\n",
       " {'text': 'J.D.Z.', 'labels': [], 'entities': []},\n",
       " {'text': ': conception, early prototyping, design and interpretation of results; drafting and writing the manuscript.',\n",
       "  'labels': [],\n",
       "  'entities': []},\n",
       " {'text': 'All authors approved the manuscript.',\n",
       "  'labels': [],\n",
       "  'entities': []}]"
      ]
     },
     "execution_count": 158,
     "metadata": {},
     "output_type": "execute_result"
    }
   ],
   "source": [
    "disease"
   ]
  },
  {
   "cell_type": "code",
   "execution_count": 37,
   "id": "f404b926-acf8-4259-8e28-805e74be81f1",
   "metadata": {},
   "outputs": [
    {
     "name": "stdout",
     "output_type": "stream",
     "text": [
      "  Consumption of alcohol <S-Chemical> ( ethanol <S-Chemical> ) in various forms has been an integral part of human <S-Species> civilization .\n",
      "##############################\n",
      "Since ages , it also has been an important cause of death and health impairment across the globe .\n",
      "##############################\n",
      "Ethanol <S-Chemical> - mediated liver <B-Disease> injury <E-Disease> , known as alcoholic <B-Disease> liver <I-Disease> disease <E-Disease> ( ALD <S-Disease> ) , is caused by surplus intake of alcohol <S-Chemical> .\n",
      "##############################\n",
      "Several studies have proposed the different pathways that may be lead to ALD <S-Disease> .\n",
      "##############################\n",
      "One of the factors that may affect the cytochrome <B-Gene> P450 <E-Gene> ( CYP2E1 <S-Gene> ) metabolic pathway is gut dysbiosis .\n",
      "##############################\n",
      "The gut microbiota produces various compounds that play an important role in regulating healthy functions of distal organs such as the adipose tissue and liver .\n",
      "##############################\n",
      "Dysbiosis <S-Disease> causes bacteremia <S-Disease> , hepatic <B-Disease> encephalopathy <E-Disease> , and increased intestinal permeability .\n",
      "##############################\n",
      "Recent clinical studies have found better understanding of the gut and liver axis .\n",
      "##############################\n",
      "Another factor that may affect the ALD <S-Disease> pathway is dysfunction <B-Disease> of <I-Disease> adipose <I-Disease> tissue <I-Disease> metabolism <E-Disease> .\n",
      "##############################\n",
      "Moreover , dysfunction of adipose tissue leads to ectopic fat deposition within the liver and disturbs lipid metabolism by increasing lipolysis / decreasing lipogenesis and impaired glucose <S-Chemical> tolerance of adipose tissue which leads to ectopic fat deposition within the liver .\n",
      "##############################\n",
      "Adipokine <S-Gene> secretion of resistin <S-Gene> , leptin <S-Gene> , and adiponectin <S-Gene> is adversely modified upon prolonged alcohol <S-Chemical> consumption .\n",
      "##############################\n",
      "In the combination of these two factors , a proinflammatory state is developed within the patient <S-Species> leading to the progression of ALD <S-Disease> .\n",
      "##############################\n",
      "Thus , the therapeutic approach for treatments and prevention for liver <B-Disease> cirrhosis <E-Disease> patients must be focused on the gut - liver - adipose tissue network modification with the use of probiotics , synbiotics , and prebiotics .\n",
      "##############################\n",
      "This review is aimed at the effect of ethanol <S-Chemical> on gut and adipose tissue in both rodent <S-Species> and human <S-Species> alcoholic <S-Disease> models .\n",
      "##############################\n"
     ]
    }
   ],
   "source": [
    "for sents in sentencesSplited:\n",
    "    print(sents.to_tagged_string())\n",
    "    print(\"#\"*30)\n",
    "    for annotation_layer in sents.annotation_layers.keys():\n",
    "        print(annotation_layer)\n",
    "        for entity in sents.get_spans(annotation_layer):\n",
    "            print(\"*\"*30)\n",
    "            print(entity)"
   ]
  },
  {
   "cell_type": "code",
   "execution_count": 33,
   "id": "5b4e6e42-73e6-4c97-a8ee-f4c7cf8c507e",
   "metadata": {},
   "outputs": [
    {
     "data": {
      "text/plain": [
       "{}"
      ]
     },
     "execution_count": 33,
     "metadata": {},
     "output_type": "execute_result"
    }
   ],
   "source": [
    "sents.annotation_layers"
   ]
  },
  {
   "cell_type": "code",
   "execution_count": 6,
   "id": "8bac17ad-2817-47e5-af14-82c7913eb2f5",
   "metadata": {},
   "outputs": [],
   "source": [
    "from bioFlairBasedNER import FlairBasedNER"
   ]
  },
  {
   "cell_type": "code",
   "execution_count": 7,
   "id": "5674f70e-b551-4f55-baba-ee6b8dd7daf4",
   "metadata": {},
   "outputs": [
    {
     "name": "stdout",
     "output_type": "stream",
     "text": [
      "2022-08-02 18:22:35,576 loading file C:\\Users\\aberhe\\.flair\\models\\hunflair-celline-v1.0.pt\n",
      "2022-08-02 18:22:40,973 loading file C:\\Users\\aberhe\\.flair\\models\\hunflair-chemical-full-v1.0.pt\n",
      "2022-08-02 18:22:46,222 loading file C:\\Users\\aberhe\\.flair\\models\\hunflair-disease-full-v1.0.pt\n",
      "2022-08-02 18:22:53,234 loading file C:\\Users\\aberhe\\.flair\\models\\hunflair-gene-full-v1.0.pt\n",
      "2022-08-02 18:22:59,353 loading file C:\\Users\\aberhe\\.flair\\models\\hunflair-species-full-v1.1.pt\n"
     ]
    }
   ],
   "source": [
    "fbNER=FlairBasedNER()"
   ]
  },
  {
   "cell_type": "code",
   "execution_count": 8,
   "id": "f0162d85-6b15-45a5-a3e6-7f82b931fc6c",
   "metadata": {},
   "outputs": [],
   "source": [
    "senteces=fbNER.tagDocument(artDet.abstract.strip())"
   ]
  },
  {
   "cell_type": "code",
   "execution_count": 9,
   "id": "95d2e1f8-d38d-4ea6-acf7-c2bd3427e2f3",
   "metadata": {},
   "outputs": [],
   "source": [
    "df=fbNER.extractNER(outputFile=\"NER_first_output\",outputFormat=\"csv\")"
   ]
  },
  {
   "cell_type": "code",
   "execution_count": 10,
   "id": "80735fd1-cef3-4759-bc2e-ca18360a295f",
   "metadata": {},
   "outputs": [
    {
     "data": {
      "text/html": [
       "<div>\n",
       "<style scoped>\n",
       "    .dataframe tbody tr th:only-of-type {\n",
       "        vertical-align: middle;\n",
       "    }\n",
       "\n",
       "    .dataframe tbody tr th {\n",
       "        vertical-align: top;\n",
       "    }\n",
       "\n",
       "    .dataframe thead th {\n",
       "        text-align: right;\n",
       "    }\n",
       "</style>\n",
       "<table border=\"1\" class=\"dataframe\">\n",
       "  <thead>\n",
       "    <tr style=\"text-align: right;\">\n",
       "      <th></th>\n",
       "      <th>sentence</th>\n",
       "      <th>entity</th>\n",
       "      <th>start_chunck</th>\n",
       "      <th>end_chunk</th>\n",
       "      <th>label</th>\n",
       "      <th>score</th>\n",
       "    </tr>\n",
       "  </thead>\n",
       "  <tbody>\n",
       "    <tr>\n",
       "      <th>0</th>\n",
       "      <td>Consumption of alcohol (ethanol) in various fo...</td>\n",
       "      <td>alcohol</td>\n",
       "      <td>15</td>\n",
       "      <td>22</td>\n",
       "      <td>Chemical</td>\n",
       "      <td>0.974</td>\n",
       "    </tr>\n",
       "    <tr>\n",
       "      <th>1</th>\n",
       "      <td>Consumption of alcohol (ethanol) in various fo...</td>\n",
       "      <td>ethanol</td>\n",
       "      <td>24</td>\n",
       "      <td>31</td>\n",
       "      <td>Chemical</td>\n",
       "      <td>0.989</td>\n",
       "    </tr>\n",
       "    <tr>\n",
       "      <th>2</th>\n",
       "      <td>Consumption of alcohol (ethanol) in various fo...</td>\n",
       "      <td>human</td>\n",
       "      <td>79</td>\n",
       "      <td>84</td>\n",
       "      <td>Species</td>\n",
       "      <td>0.993</td>\n",
       "    </tr>\n",
       "    <tr>\n",
       "      <th>3</th>\n",
       "      <td>Ethanol-mediated liver injury, known as alcoho...</td>\n",
       "      <td>Ethanol</td>\n",
       "      <td>0</td>\n",
       "      <td>7</td>\n",
       "      <td>Chemical</td>\n",
       "      <td>0.992</td>\n",
       "    </tr>\n",
       "    <tr>\n",
       "      <th>4</th>\n",
       "      <td>Ethanol-mediated liver injury, known as alcoho...</td>\n",
       "      <td>alcohol</td>\n",
       "      <td>102</td>\n",
       "      <td>109</td>\n",
       "      <td>Chemical</td>\n",
       "      <td>0.951</td>\n",
       "    </tr>\n",
       "    <tr>\n",
       "      <th>5</th>\n",
       "      <td>Ethanol-mediated liver injury, known as alcoho...</td>\n",
       "      <td>liver injury</td>\n",
       "      <td>17</td>\n",
       "      <td>29</td>\n",
       "      <td>Disease</td>\n",
       "      <td>0.732</td>\n",
       "    </tr>\n",
       "    <tr>\n",
       "      <th>6</th>\n",
       "      <td>Ethanol-mediated liver injury, known as alcoho...</td>\n",
       "      <td>alcoholic liver disease</td>\n",
       "      <td>40</td>\n",
       "      <td>63</td>\n",
       "      <td>Disease</td>\n",
       "      <td>0.932</td>\n",
       "    </tr>\n",
       "    <tr>\n",
       "      <th>7</th>\n",
       "      <td>Ethanol-mediated liver injury, known as alcoho...</td>\n",
       "      <td>ALD</td>\n",
       "      <td>65</td>\n",
       "      <td>68</td>\n",
       "      <td>Disease</td>\n",
       "      <td>1.000</td>\n",
       "    </tr>\n",
       "    <tr>\n",
       "      <th>8</th>\n",
       "      <td>Several studies have proposed the different pa...</td>\n",
       "      <td>ALD</td>\n",
       "      <td>73</td>\n",
       "      <td>76</td>\n",
       "      <td>Disease</td>\n",
       "      <td>0.999</td>\n",
       "    </tr>\n",
       "    <tr>\n",
       "      <th>9</th>\n",
       "      <td>One of the factors that may affect the cytochr...</td>\n",
       "      <td>cytochrome P450</td>\n",
       "      <td>39</td>\n",
       "      <td>54</td>\n",
       "      <td>Gene</td>\n",
       "      <td>0.761</td>\n",
       "    </tr>\n",
       "    <tr>\n",
       "      <th>10</th>\n",
       "      <td>One of the factors that may affect the cytochr...</td>\n",
       "      <td>CYP2E1</td>\n",
       "      <td>56</td>\n",
       "      <td>62</td>\n",
       "      <td>Gene</td>\n",
       "      <td>0.980</td>\n",
       "    </tr>\n",
       "    <tr>\n",
       "      <th>11</th>\n",
       "      <td>Dysbiosis causes bacteremia, hepatic encephalo...</td>\n",
       "      <td>Dysbiosis</td>\n",
       "      <td>0</td>\n",
       "      <td>9</td>\n",
       "      <td>Disease</td>\n",
       "      <td>0.752</td>\n",
       "    </tr>\n",
       "    <tr>\n",
       "      <th>12</th>\n",
       "      <td>Dysbiosis causes bacteremia, hepatic encephalo...</td>\n",
       "      <td>bacteremia</td>\n",
       "      <td>17</td>\n",
       "      <td>27</td>\n",
       "      <td>Disease</td>\n",
       "      <td>0.986</td>\n",
       "    </tr>\n",
       "    <tr>\n",
       "      <th>13</th>\n",
       "      <td>Dysbiosis causes bacteremia, hepatic encephalo...</td>\n",
       "      <td>hepatic encephalopathy</td>\n",
       "      <td>29</td>\n",
       "      <td>51</td>\n",
       "      <td>Disease</td>\n",
       "      <td>0.827</td>\n",
       "    </tr>\n",
       "    <tr>\n",
       "      <th>14</th>\n",
       "      <td>Another factor that may affect the ALD pathway...</td>\n",
       "      <td>ALD</td>\n",
       "      <td>35</td>\n",
       "      <td>38</td>\n",
       "      <td>Disease</td>\n",
       "      <td>0.998</td>\n",
       "    </tr>\n",
       "    <tr>\n",
       "      <th>15</th>\n",
       "      <td>Another factor that may affect the ALD pathway...</td>\n",
       "      <td>dysfunction of adipose tissue metabolism</td>\n",
       "      <td>50</td>\n",
       "      <td>90</td>\n",
       "      <td>Disease</td>\n",
       "      <td>0.687</td>\n",
       "    </tr>\n",
       "    <tr>\n",
       "      <th>16</th>\n",
       "      <td>Moreover, dysfunction of adipose tissue leads ...</td>\n",
       "      <td>glucose</td>\n",
       "      <td>179</td>\n",
       "      <td>186</td>\n",
       "      <td>Chemical</td>\n",
       "      <td>0.939</td>\n",
       "    </tr>\n",
       "    <tr>\n",
       "      <th>17</th>\n",
       "      <td>Adipokine secretion of resistin, leptin, and a...</td>\n",
       "      <td>alcohol</td>\n",
       "      <td>94</td>\n",
       "      <td>101</td>\n",
       "      <td>Chemical</td>\n",
       "      <td>0.933</td>\n",
       "    </tr>\n",
       "    <tr>\n",
       "      <th>18</th>\n",
       "      <td>Adipokine secretion of resistin, leptin, and a...</td>\n",
       "      <td>Adipokine</td>\n",
       "      <td>0</td>\n",
       "      <td>9</td>\n",
       "      <td>Gene</td>\n",
       "      <td>0.614</td>\n",
       "    </tr>\n",
       "    <tr>\n",
       "      <th>19</th>\n",
       "      <td>Adipokine secretion of resistin, leptin, and a...</td>\n",
       "      <td>resistin</td>\n",
       "      <td>23</td>\n",
       "      <td>31</td>\n",
       "      <td>Gene</td>\n",
       "      <td>0.954</td>\n",
       "    </tr>\n",
       "    <tr>\n",
       "      <th>20</th>\n",
       "      <td>Adipokine secretion of resistin, leptin, and a...</td>\n",
       "      <td>leptin</td>\n",
       "      <td>33</td>\n",
       "      <td>39</td>\n",
       "      <td>Gene</td>\n",
       "      <td>0.875</td>\n",
       "    </tr>\n",
       "    <tr>\n",
       "      <th>21</th>\n",
       "      <td>Adipokine secretion of resistin, leptin, and a...</td>\n",
       "      <td>adiponectin</td>\n",
       "      <td>45</td>\n",
       "      <td>56</td>\n",
       "      <td>Gene</td>\n",
       "      <td>0.944</td>\n",
       "    </tr>\n",
       "    <tr>\n",
       "      <th>22</th>\n",
       "      <td>In the combination of these two factors, a pro...</td>\n",
       "      <td>ALD</td>\n",
       "      <td>127</td>\n",
       "      <td>130</td>\n",
       "      <td>Disease</td>\n",
       "      <td>0.999</td>\n",
       "    </tr>\n",
       "    <tr>\n",
       "      <th>23</th>\n",
       "      <td>In the combination of these two factors, a pro...</td>\n",
       "      <td>patient</td>\n",
       "      <td>89</td>\n",
       "      <td>96</td>\n",
       "      <td>Species</td>\n",
       "      <td>0.701</td>\n",
       "    </tr>\n",
       "    <tr>\n",
       "      <th>24</th>\n",
       "      <td>Thus, the therapeutic approach for treatments ...</td>\n",
       "      <td>liver cirrhosis</td>\n",
       "      <td>65</td>\n",
       "      <td>80</td>\n",
       "      <td>Disease</td>\n",
       "      <td>0.746</td>\n",
       "    </tr>\n",
       "    <tr>\n",
       "      <th>25</th>\n",
       "      <td>This review is aimed at the effect of ethanol ...</td>\n",
       "      <td>ethanol</td>\n",
       "      <td>38</td>\n",
       "      <td>45</td>\n",
       "      <td>Chemical</td>\n",
       "      <td>0.990</td>\n",
       "    </tr>\n",
       "    <tr>\n",
       "      <th>26</th>\n",
       "      <td>This review is aimed at the effect of ethanol ...</td>\n",
       "      <td>alcoholic</td>\n",
       "      <td>97</td>\n",
       "      <td>106</td>\n",
       "      <td>Disease</td>\n",
       "      <td>0.702</td>\n",
       "    </tr>\n",
       "    <tr>\n",
       "      <th>27</th>\n",
       "      <td>This review is aimed at the effect of ethanol ...</td>\n",
       "      <td>rodent</td>\n",
       "      <td>80</td>\n",
       "      <td>86</td>\n",
       "      <td>Species</td>\n",
       "      <td>0.562</td>\n",
       "    </tr>\n",
       "    <tr>\n",
       "      <th>28</th>\n",
       "      <td>This review is aimed at the effect of ethanol ...</td>\n",
       "      <td>human</td>\n",
       "      <td>91</td>\n",
       "      <td>96</td>\n",
       "      <td>Species</td>\n",
       "      <td>0.965</td>\n",
       "    </tr>\n",
       "  </tbody>\n",
       "</table>\n",
       "</div>"
      ],
      "text/plain": [
       "                                             sentence  \\\n",
       "0   Consumption of alcohol (ethanol) in various fo...   \n",
       "1   Consumption of alcohol (ethanol) in various fo...   \n",
       "2   Consumption of alcohol (ethanol) in various fo...   \n",
       "3   Ethanol-mediated liver injury, known as alcoho...   \n",
       "4   Ethanol-mediated liver injury, known as alcoho...   \n",
       "5   Ethanol-mediated liver injury, known as alcoho...   \n",
       "6   Ethanol-mediated liver injury, known as alcoho...   \n",
       "7   Ethanol-mediated liver injury, known as alcoho...   \n",
       "8   Several studies have proposed the different pa...   \n",
       "9   One of the factors that may affect the cytochr...   \n",
       "10  One of the factors that may affect the cytochr...   \n",
       "11  Dysbiosis causes bacteremia, hepatic encephalo...   \n",
       "12  Dysbiosis causes bacteremia, hepatic encephalo...   \n",
       "13  Dysbiosis causes bacteremia, hepatic encephalo...   \n",
       "14  Another factor that may affect the ALD pathway...   \n",
       "15  Another factor that may affect the ALD pathway...   \n",
       "16  Moreover, dysfunction of adipose tissue leads ...   \n",
       "17  Adipokine secretion of resistin, leptin, and a...   \n",
       "18  Adipokine secretion of resistin, leptin, and a...   \n",
       "19  Adipokine secretion of resistin, leptin, and a...   \n",
       "20  Adipokine secretion of resistin, leptin, and a...   \n",
       "21  Adipokine secretion of resistin, leptin, and a...   \n",
       "22  In the combination of these two factors, a pro...   \n",
       "23  In the combination of these two factors, a pro...   \n",
       "24  Thus, the therapeutic approach for treatments ...   \n",
       "25  This review is aimed at the effect of ethanol ...   \n",
       "26  This review is aimed at the effect of ethanol ...   \n",
       "27  This review is aimed at the effect of ethanol ...   \n",
       "28  This review is aimed at the effect of ethanol ...   \n",
       "\n",
       "                                      entity  start_chunck  end_chunk  \\\n",
       "0                                    alcohol            15         22   \n",
       "1                                    ethanol            24         31   \n",
       "2                                      human            79         84   \n",
       "3                                    Ethanol             0          7   \n",
       "4                                    alcohol           102        109   \n",
       "5                               liver injury            17         29   \n",
       "6                    alcoholic liver disease            40         63   \n",
       "7                                        ALD            65         68   \n",
       "8                                        ALD            73         76   \n",
       "9                            cytochrome P450            39         54   \n",
       "10                                    CYP2E1            56         62   \n",
       "11                                 Dysbiosis             0          9   \n",
       "12                                bacteremia            17         27   \n",
       "13                    hepatic encephalopathy            29         51   \n",
       "14                                       ALD            35         38   \n",
       "15  dysfunction of adipose tissue metabolism            50         90   \n",
       "16                                   glucose           179        186   \n",
       "17                                   alcohol            94        101   \n",
       "18                                 Adipokine             0          9   \n",
       "19                                  resistin            23         31   \n",
       "20                                    leptin            33         39   \n",
       "21                               adiponectin            45         56   \n",
       "22                                       ALD           127        130   \n",
       "23                                   patient            89         96   \n",
       "24                           liver cirrhosis            65         80   \n",
       "25                                   ethanol            38         45   \n",
       "26                                 alcoholic            97        106   \n",
       "27                                    rodent            80         86   \n",
       "28                                     human            91         96   \n",
       "\n",
       "       label  score  \n",
       "0   Chemical  0.974  \n",
       "1   Chemical  0.989  \n",
       "2    Species  0.993  \n",
       "3   Chemical  0.992  \n",
       "4   Chemical  0.951  \n",
       "5    Disease  0.732  \n",
       "6    Disease  0.932  \n",
       "7    Disease  1.000  \n",
       "8    Disease  0.999  \n",
       "9       Gene  0.761  \n",
       "10      Gene  0.980  \n",
       "11   Disease  0.752  \n",
       "12   Disease  0.986  \n",
       "13   Disease  0.827  \n",
       "14   Disease  0.998  \n",
       "15   Disease  0.687  \n",
       "16  Chemical  0.939  \n",
       "17  Chemical  0.933  \n",
       "18      Gene  0.614  \n",
       "19      Gene  0.954  \n",
       "20      Gene  0.875  \n",
       "21      Gene  0.944  \n",
       "22   Disease  0.999  \n",
       "23   Species  0.701  \n",
       "24   Disease  0.746  \n",
       "25  Chemical  0.990  \n",
       "26   Disease  0.702  \n",
       "27   Species  0.562  \n",
       "28   Species  0.965  "
      ]
     },
     "execution_count": 10,
     "metadata": {},
     "output_type": "execute_result"
    }
   ],
   "source": [
    "df"
   ]
  },
  {
   "cell_type": "code",
   "execution_count": 13,
   "id": "98ae5c11-003c-45fd-9760-aa61ad84f596",
   "metadata": {},
   "outputs": [],
   "source": [
    "jsonData=fbNER.extractNER(outputFile=\"NER_first_output\",outputFormat=\"json\")"
   ]
  },
  {
   "cell_type": "code",
   "execution_count": 14,
   "id": "3fc8670b-45a6-440a-9e41-2c96c38b53a1",
   "metadata": {},
   "outputs": [
    {
     "data": {
      "text/plain": [
       "[{'setence': 'Consumption of alcohol (ethanol) in various forms has been an integral part of human civilization.',\n",
       "  'entities': [{'text': 'alcohol',\n",
       "    'start_chunk': 15,\n",
       "    'end_chunk': 22,\n",
       "    'label': 'Chemical',\n",
       "    'score': 0.9738338589668274},\n",
       "   {'text': 'ethanol',\n",
       "    'start_chunk': 24,\n",
       "    'end_chunk': 31,\n",
       "    'label': 'Chemical',\n",
       "    'score': 0.9892321825027466},\n",
       "   {'text': 'human',\n",
       "    'start_chunk': 79,\n",
       "    'end_chunk': 84,\n",
       "    'label': 'Species',\n",
       "    'score': 0.9929606318473816}]},\n",
       " {'setence': 'Since ages, it also has been an important cause of death and health impairment across the globe.',\n",
       "  'entities': []},\n",
       " {'setence': 'Ethanol-mediated liver injury, known as alcoholic liver disease (ALD), is caused by surplus intake of alcohol.',\n",
       "  'entities': [{'text': 'Ethanol',\n",
       "    'start_chunk': 0,\n",
       "    'end_chunk': 7,\n",
       "    'label': 'Chemical',\n",
       "    'score': 0.9916825294494629},\n",
       "   {'text': 'alcohol',\n",
       "    'start_chunk': 102,\n",
       "    'end_chunk': 109,\n",
       "    'label': 'Chemical',\n",
       "    'score': 0.950615406036377},\n",
       "   {'text': 'liver injury',\n",
       "    'start_chunk': 17,\n",
       "    'end_chunk': 29,\n",
       "    'label': 'Disease',\n",
       "    'score': 0.7316704243421555},\n",
       "   {'text': 'alcoholic liver disease',\n",
       "    'start_chunk': 40,\n",
       "    'end_chunk': 63,\n",
       "    'label': 'Disease',\n",
       "    'score': 0.9324611226717631},\n",
       "   {'text': 'ALD',\n",
       "    'start_chunk': 65,\n",
       "    'end_chunk': 68,\n",
       "    'label': 'Disease',\n",
       "    'score': 0.9997567534446716}]},\n",
       " {'setence': 'Several studies have proposed the different pathways that may be lead to ALD.',\n",
       "  'entities': [{'text': 'ALD',\n",
       "    'start_chunk': 73,\n",
       "    'end_chunk': 76,\n",
       "    'label': 'Disease',\n",
       "    'score': 0.9991872906684875}]},\n",
       " {'setence': 'One of the factors that may affect the cytochrome P450 (CYP2E1) metabolic pathway is gut dysbiosis.',\n",
       "  'entities': [{'text': 'cytochrome P450',\n",
       "    'start_chunk': 39,\n",
       "    'end_chunk': 54,\n",
       "    'label': 'Gene',\n",
       "    'score': 0.7613010108470917},\n",
       "   {'text': 'CYP2E1',\n",
       "    'start_chunk': 56,\n",
       "    'end_chunk': 62,\n",
       "    'label': 'Gene',\n",
       "    'score': 0.980262815952301}]},\n",
       " {'setence': 'The gut microbiota produces various compounds that play an important role in regulating healthy functions of distal organs such as the adipose tissue and liver.',\n",
       "  'entities': []},\n",
       " {'setence': 'Dysbiosis causes bacteremia, hepatic encephalopathy, and increased intestinal permeability.',\n",
       "  'entities': [{'text': 'Dysbiosis',\n",
       "    'start_chunk': 0,\n",
       "    'end_chunk': 9,\n",
       "    'label': 'Disease',\n",
       "    'score': 0.7517150640487671},\n",
       "   {'text': 'bacteremia',\n",
       "    'start_chunk': 17,\n",
       "    'end_chunk': 27,\n",
       "    'label': 'Disease',\n",
       "    'score': 0.985645592212677},\n",
       "   {'text': 'hepatic encephalopathy',\n",
       "    'start_chunk': 29,\n",
       "    'end_chunk': 51,\n",
       "    'label': 'Disease',\n",
       "    'score': 0.8272889256477356}]},\n",
       " {'setence': 'Recent clinical studies have found better understanding of the gut and liver axis.',\n",
       "  'entities': []},\n",
       " {'setence': 'Another factor that may affect the ALD pathway is dysfunction of adipose tissue metabolism.',\n",
       "  'entities': [{'text': 'ALD',\n",
       "    'start_chunk': 35,\n",
       "    'end_chunk': 38,\n",
       "    'label': 'Disease',\n",
       "    'score': 0.997582197189331},\n",
       "   {'text': 'dysfunction of adipose tissue metabolism',\n",
       "    'start_chunk': 50,\n",
       "    'end_chunk': 90,\n",
       "    'label': 'Disease',\n",
       "    'score': 0.6872280180454254}]},\n",
       " {'setence': 'Moreover, dysfunction of adipose tissue leads to ectopic fat deposition within the liver and disturbs lipid metabolism by increasing lipolysis/decreasing lipogenesis and impaired glucose tolerance of adipose tissue which leads to ectopic fat deposition within the liver.',\n",
       "  'entities': [{'text': 'glucose',\n",
       "    'start_chunk': 179,\n",
       "    'end_chunk': 186,\n",
       "    'label': 'Chemical',\n",
       "    'score': 0.9387404322624207}]},\n",
       " {'setence': 'Adipokine secretion of resistin, leptin, and adiponectin is adversely modified upon prolonged alcohol consumption.',\n",
       "  'entities': [{'text': 'alcohol',\n",
       "    'start_chunk': 94,\n",
       "    'end_chunk': 101,\n",
       "    'label': 'Chemical',\n",
       "    'score': 0.9332741498947144},\n",
       "   {'text': 'Adipokine',\n",
       "    'start_chunk': 0,\n",
       "    'end_chunk': 9,\n",
       "    'label': 'Gene',\n",
       "    'score': 0.6136584281921387},\n",
       "   {'text': 'resistin',\n",
       "    'start_chunk': 23,\n",
       "    'end_chunk': 31,\n",
       "    'label': 'Gene',\n",
       "    'score': 0.9541232585906982},\n",
       "   {'text': 'leptin',\n",
       "    'start_chunk': 33,\n",
       "    'end_chunk': 39,\n",
       "    'label': 'Gene',\n",
       "    'score': 0.8749932050704956},\n",
       "   {'text': 'adiponectin',\n",
       "    'start_chunk': 45,\n",
       "    'end_chunk': 56,\n",
       "    'label': 'Gene',\n",
       "    'score': 0.9444684386253357}]},\n",
       " {'setence': 'In the combination of these two factors, a proinflammatory state is developed within the patient leading to the progression of ALD.',\n",
       "  'entities': [{'text': 'ALD',\n",
       "    'start_chunk': 127,\n",
       "    'end_chunk': 130,\n",
       "    'label': 'Disease',\n",
       "    'score': 0.9989043474197388},\n",
       "   {'text': 'patient',\n",
       "    'start_chunk': 89,\n",
       "    'end_chunk': 96,\n",
       "    'label': 'Species',\n",
       "    'score': 0.7007342576980591}]},\n",
       " {'setence': 'Thus, the therapeutic approach for treatments and prevention for liver cirrhosis patients must be focused on the gut-liver-adipose tissue network modification with the use of probiotics, synbiotics, and prebiotics.',\n",
       "  'entities': [{'text': 'liver cirrhosis',\n",
       "    'start_chunk': 65,\n",
       "    'end_chunk': 80,\n",
       "    'label': 'Disease',\n",
       "    'score': 0.7461123764514923}]},\n",
       " {'setence': 'This review is aimed at the effect of ethanol on gut and adipose tissue in both rodent and human alcoholic models.',\n",
       "  'entities': [{'text': 'ethanol',\n",
       "    'start_chunk': 38,\n",
       "    'end_chunk': 45,\n",
       "    'label': 'Chemical',\n",
       "    'score': 0.989700198173523},\n",
       "   {'text': 'alcoholic',\n",
       "    'start_chunk': 97,\n",
       "    'end_chunk': 106,\n",
       "    'label': 'Disease',\n",
       "    'score': 0.7020844221115112},\n",
       "   {'text': 'rodent',\n",
       "    'start_chunk': 80,\n",
       "    'end_chunk': 86,\n",
       "    'label': 'Species',\n",
       "    'score': 0.5621833205223083},\n",
       "   {'text': 'human',\n",
       "    'start_chunk': 91,\n",
       "    'end_chunk': 96,\n",
       "    'label': 'Species',\n",
       "    'score': 0.9653974771499634}]}]"
      ]
     },
     "execution_count": 14,
     "metadata": {},
     "output_type": "execute_result"
    }
   ],
   "source": [
    "jsonData"
   ]
  },
  {
   "cell_type": "code",
   "execution_count": 116,
   "id": "81f1e2be-1bc9-4af5-8052-95b0f64bab32",
   "metadata": {},
   "outputs": [
    {
     "data": {
      "application/vnd.jupyter.widget-view+json": {
       "model_id": "de582c41d38e4cd3824a1a7ce34a519f",
       "version_major": 2,
       "version_minor": 0
      },
      "text/plain": [
       "Downloading:   0%|          | 0.00/373 [00:00<?, ?B/s]"
      ]
     },
     "metadata": {},
     "output_type": "display_data"
    },
    {
     "data": {
      "application/vnd.jupyter.widget-view+json": {
       "model_id": "df7b1fcf30c94d98957e1bf774368e33",
       "version_major": 2,
       "version_minor": 0
      },
      "text/plain": [
       "Downloading:   0%|          | 0.00/226k [00:00<?, ?B/s]"
      ]
     },
     "metadata": {},
     "output_type": "display_data"
    },
    {
     "data": {
      "application/vnd.jupyter.widget-view+json": {
       "model_id": "7e23594d4dd84dcb906de50acdef30dd",
       "version_major": 2,
       "version_minor": 0
      },
      "text/plain": [
       "Downloading:   0%|          | 0.00/695k [00:00<?, ?B/s]"
      ]
     },
     "metadata": {},
     "output_type": "display_data"
    },
    {
     "data": {
      "application/vnd.jupyter.widget-view+json": {
       "model_id": "49756520cedc42ecb87330c2e3fb7253",
       "version_major": 2,
       "version_minor": 0
      },
      "text/plain": [
       "Downloading:   0%|          | 0.00/125 [00:00<?, ?B/s]"
      ]
     },
     "metadata": {},
     "output_type": "display_data"
    },
    {
     "data": {
      "application/vnd.jupyter.widget-view+json": {
       "model_id": "04ebfd74c86f4a22aaad63d735dd576e",
       "version_major": 2,
       "version_minor": 0
      },
      "text/plain": [
       "Downloading:   0%|          | 0.00/4.88k [00:00<?, ?B/s]"
      ]
     },
     "metadata": {},
     "output_type": "display_data"
    },
    {
     "data": {
      "application/vnd.jupyter.widget-view+json": {
       "model_id": "a08a1032ef4e45da87e06ab7525879f7",
       "version_major": 2,
       "version_minor": 0
      },
      "text/plain": [
       "Downloading:   0%|          | 0.00/253M [00:00<?, ?B/s]"
      ]
     },
     "metadata": {},
     "output_type": "display_data"
    }
   ],
   "source": [
    "from transformers import AutoTokenizer, AutoModelForTokenClassification\n",
    "\n",
    "tokenizer = AutoTokenizer.from_pretrained(\"d4data/biomedical-ner-all\")\n",
    "\n",
    "model = AutoModelForTokenClassification.from_pretrained(\"d4data/biomedical-ner-all\")"
   ]
  },
  {
   "cell_type": "code",
   "execution_count": 125,
   "id": "81aebdd4-51bf-41f6-aba8-1b521ffab372",
   "metadata": {},
   "outputs": [],
   "source": [
    "from transformers import pipeline\n",
    "import numpy as np"
   ]
  },
  {
   "cell_type": "code",
   "execution_count": 119,
   "id": "27b0682b-1150-4f73-99cc-d5cb7686bd60",
   "metadata": {},
   "outputs": [
    {
     "data": {
      "text/plain": [
       "[{'entity_group': 'Sign_symptom',\n",
       "  'score': 0.9999311,\n",
       "  'word': 'pal',\n",
       "  'start': 38,\n",
       "  'end': 41},\n",
       " {'entity_group': 'Sign_symptom',\n",
       "  'score': 0.9063319,\n",
       "  'word': '##pitations',\n",
       "  'start': 41,\n",
       "  'end': 50},\n",
       " {'entity_group': 'Clinical_event',\n",
       "  'score': 0.99975544,\n",
       "  'word': 'follow',\n",
       "  'start': 54,\n",
       "  'end': 60},\n",
       " {'entity_group': 'Date',\n",
       "  'score': 0.999867,\n",
       "  'word': '6 months after',\n",
       "  'start': 64,\n",
       "  'end': 78}]"
      ]
     },
     "execution_count": 119,
     "metadata": {},
     "output_type": "execute_result"
    }
   ],
   "source": [
    "pipe = pipeline(\"ner\", model=model, tokenizer=tokenizer, aggregation_strategy=\"simple\") # pass device=0 if using gpu\n",
    "pipe(\"\"\"The patient reported no recurrence of palpitations at follow-up 6 months after the ablation.\"\"\")"
   ]
  },
  {
   "cell_type": "code",
   "execution_count": 121,
   "id": "119771f8-7131-4924-9f3e-9f3868f3c848",
   "metadata": {},
   "outputs": [
    {
     "data": {
      "text/plain": [
       "'Microbiome biomarker discovery for patient diagnosis, prognosis, and risk evaluation is attracting broad interest. Selected groups of microbial features provide signatures that characterize host disease states such as cancer or cardio-metabolic diseases. Yet, the current predictive models stemming from machine learning still behave as black boxes and seldom generalize well. Their interpretation is challenging for physicians and biologists, which makes them difficult to trust and use routinely in the physician–patient decision-making process. Novel methods that provide interpretability and biological insight are needed. Here, we introduce “predomics”, an original machine learning approach inspired by microbial ecosystem interactions that is tailored for metagenomics data. It discovers accurate predictive signatures and provides unprecedented interpretability. The decision provided by the predictive model is based on a simple, yet powerful score computed by adding, subtracting, or dividing cumulative abundance of microbiome measurements. Tested on >100 datasets, we demonstrate that predomics models are simple and highly interpretable. Even with such simplicity, they are at least as accurate as state-of-the-art methods. The family of best models, discovered during the learning process, offers the ability to distil biological information and to decipher the predictability signatures of the studied condition. In a proof-of-concept experiment, we successfully predicted body corpulence and metabolic improvement after bariatric surgery using pre-surgery microbiome data. Predomics is a new algorithm that helps in providing reliable and trustworthy diagnostic decisions in the microbiome field. Predomics is in accord with societal and legal requirements that plead for an explainable artificial intelligence approach in the medical field.'"
      ]
     },
     "execution_count": 121,
     "metadata": {},
     "output_type": "execute_result"
    }
   ],
   "source": [
    "artDet.abstract.strip()"
   ]
  },
  {
   "cell_type": "code",
   "execution_count": 152,
   "id": "845741eb-1a64-4953-9cfc-cb57211a7bda",
   "metadata": {},
   "outputs": [],
   "source": [
    "sents=artDet.fullArticle.strip()\n",
    "sents=nltk.sent_tokenize(sents)"
   ]
  },
  {
   "cell_type": "code",
   "execution_count": 154,
   "id": "64ae72e4-b3c9-4d72-b627-debb3bac9fb8",
   "metadata": {},
   "outputs": [
    {
     "name": "stdout",
     "output_type": "stream",
     "text": [
      "['Detailed_description'] high - throughput molecular and imaging technologies machine learning 2\n",
      "Lab_value 0.97734386 improve 1\n",
      "['Detailed_description', 'Lab_value'] progress high - throughput technologies meta 3\n",
      "Diagnostic_procedure 0.5880131 ecological 1\n",
      "['Diagnostic_procedure', 'Detailed_description', 'Lab_value'] metagenomics small number of samples number variables 5\n",
      "['Diagnostic_procedure', 'Detailed_description'] micro catalogue millions 3\n",
      "Coreference 0.8570305 models 1\n",
      "['Diagnostic_procedure', 'Detailed_description'] learning algorithms dimension reduction regularization methods logistic regression elastic - net regularization ( en ##et support vector machine sv 11\n",
      "Coreference 0.8491056 algorithms 1\n",
      "Biological_structure 0.5493733 ml 1\n",
      "Diagnostic_procedure 0.9861579 interpretable models 1\n",
      "['Detailed_description', 'Coreference'] they operations limited 3\n",
      "Detailed_description 0.46022114 causal 1\n",
      "['Diagnostic_procedure', 'Sign_symptom', 'Lab_value'] models ecosystem relationships sparse micro ##bial signatures more ##able so log ##istic regression en sv 14\n",
      "['Diagnostic_procedure', 'Detailed_description'] public dataset ##domics sota 3\n",
      "['Diagnostic_procedure', 'Detailed_description'] curated metagenomic dataset experiment 3\n",
      "['Detailed_description', 'Lab_value'] 54 6 different 3\n",
      "Lab_value 0.96880674 presence / absence 1\n",
      "['Diagnostic_procedure', 'Therapeutic_procedure', 'Detailed_description'] micro ##biome data bariat mor ##bid 5\n",
      "['Diagnostic_procedure', 'Date', 'Detailed_description'] sequence baseline 1 , and 12 months after surgery 5\n",
      "Detailed_description 0.7052016 models 1\n",
      "['Sign_symptom', 'Disease_disorder', 'Lab_value'] predicted in disease group probability of p > 0. 5 4\n",
      "['Diagnostic_procedure', 'Sign_symptom'] btr models between 2\n",
      "['Diagnostic_procedure', 'Lab_value'] unweight abundance 2\n",
      "['Detailed_description'] linear models binary — 0, 1 } 3\n",
      "Dosage 0.5032745 1 1\n",
      "['Diagnostic_procedure', 'Lab_value'] s _ veillonella _ unclassified s _ lachnospiraceae _ bacterium 1 _ 57faa _ ct1 < 9. 7 % 8\n",
      "['Diagnostic_procedure', 'Sign_symptom', 'Coreference', 'Detailed_description', 'Lab_value'] s veil ##lone ##lla un + s _ lachnospiraceae 3 1 _ 57faa _ ct < 0. 097 difference abundance 2 groups 14\n",
      "['Diagnostic_procedure', 'Lab_value'] ter ##nary models linear models ##1, 0, 1 } 4\n",
      "Dosage 0.53478676 1 1\n",
      "['Diagnostic_procedure', 'Sign_symptom', 'Coreference', 'Detailed_description', 'Disease_disorder', 'Lab_value'] ter ##nary model s _ streptococcus _ ang ##ino ##sus s _ veillonella _ un ##ified s _ alistipes _ indistin ##ctus ≥8. 3 s streptococcus _ ang ##ino ##sus veillone s _ alistipes _ ind ##ist ##inctus ≤ 0. 083 healthy 2 groups 28\n",
      "['Diagnostic_procedure', 'Lab_value'] ratio models linear models zero 3\n",
      "['Diagnostic_procedure', 'Sign_symptom', 'Coreference', 'Detailed_description', 'Disease_disorder', 'Lab_value'] ##nu times greater abundance ##nuciform ##is s _ ang ##inosus healthy if un > 81 micronuci ##form ##is ang healthy ter ratio cooperation 22\n",
      "['Diagnostic_procedure', 'Detailed_description'] btr balance species abundance cumulative weights 4\n",
      "Sign_symptom 0.91979885 balance 1\n",
      "['Diagnostic_procedure', 'Detailed_description'] balance - based representation 2\n",
      "Detailed_description 0.9792105 balance representation 1\n",
      "['Diagnostic_procedure', 'Detailed_description'] ter models log - transformed data — terlog 4\n",
      "['Diagnostic_procedure', 'Detailed_description'] linear models log - transformed relative abundance 3\n",
      "Detailed_description 0.80632085 different 1\n",
      "Detailed_description 0.5059927 bt 1\n",
      "['Diagnostic_procedure', 'Detailed_description', 'Lab_value'] 6 different metagenomic dataset 9 derived types of variables 6 meta 54 8\n",
      "Detailed_description 0.89375675 different numbers of features 1\n",
      "['Detailed_description', 'Lab_value'] unseen data lower 2\n",
      "Coreference 0.9262801 so 1\n",
      "['Coreference', 'Lab_value'] spa btr models 2\n",
      "Detailed_description 0.6542424 2 1\n",
      "['Diagnostic_procedure', 'Lab_value'] btr mann - whitney test k _ # features random forest rf svm 7\n",
      "['Detailed_description', 'Coreference'] enet embedded regularization path 2\n",
      "Detailed_description 0.8750145 model size penalization technique 1\n",
      "['Diagnostic_procedure', 'Lab_value'] btr models so 46 54 4\n",
      "['Lab_value', 'Coreference'] they outperformed sota 19 54 outperformed 8 54 8\n",
      "Diagnostic_procedure 0.6448657 s 1\n",
      "Coreference 0.9711045 sota 1\n",
      "Detailed_description 0.4692423 compared 1\n",
      "Diagnostic_procedure 0.910537 s3 1\n",
      "Detailed_description 0.89594835 different types of variables 1\n",
      "Lab_value 0.9979358 higher 1\n",
      "['Diagnostic_procedure', 'Detailed_description', 'Biological_structure'] multi - taxonomic level dataset strain paso 3\n",
      "['Diagnostic_procedure', 'Lab_value'] different specific ##ity surprisingly good performance 3\n",
      "['Diagnostic_procedure', 'Coreference', 'Detailed_description', 'Disease_disorder', 'Lab_value'] models ##icute > threshold ter models ci ##rr ##hosis independent ci ##hosis 12\n",
      "['Diagnostic_procedure', 'Lab_value'] s5 very external validation training accuracy 0. 89 testing accuracy 0. 85 7\n",
      "['Diagnostic_procedure', 'Lab_value'] ter ratio better 3\n",
      "['Diagnostic_procedure', 'Sign_symptom'] abundance presence / absence abundance 3\n",
      "Sign_symptom 0.74951816 switch - like mechanisms 1\n",
      "Detailed_description 0.9873624 bt 1\n",
      "['Lab_value'] positive negative 2\n",
      "Lab_value 0.66631764 normal 1\n",
      "Detailed_description 0.99003613 4 1\n",
      "['Diagnostic_procedure', 'Lab_value', 'Coreference'] rf model only 1 of the 500 decision trees model 5\n",
      "Detailed_description 0.93009454 4 1\n",
      "['Diagnostic_procedure', 'Detailed_description'] bt the mean decrease accuracy ( mda 4\n",
      "['Diagnostic_procedure', 'Detailed_description'] btr fi more rf model 4\n",
      "['Diagnostic_procedure', 'Lab_value', 'Detailed_description', 'Coreference'] ##dom btr models equivalent predictive power model size range 5\n",
      "Coreference 0.8740722 fbm 1\n",
      "['Sign_symptom', 'Detailed_description', 'Lab_value', 'Disease_disorder', 'Coreference'] ##hosis stage 1 268 fbm model < 6 features presence network 8\n",
      "Lab_value 0.95347387 5 1\n",
      "['Diagnostic_procedure', 'Lab_value'] firmicutes enriched pro ##teob ##eria actinobacteria enriched 7\n",
      "['Sign_symptom', 'Coreference', 'Detailed_description', 'Lab_value'] presence features complement ##ty replacement features another red 8\n",
      "['Diagnostic_procedure', 'Detailed_description', 'Coreference'] this inverse relation of feature pairs models 4\n",
      "['Diagnostic_procedure', 'Lab_value'] most correlated pairs 2\n",
      "Coreference 0.8601085 disease 1\n",
      "['Sign_symptom', 'Biological_structure', 'Lab_value'] liver d ##ys ##biosis decreased de ##ple ##tion invasion oral 10\n",
      "['Detailed_description', 'Administration', 'Biological_structure', 'Lab_value'] liver curated ratio ##chthonous ( ##yrate - producer bacteria non autochthonous oral 8\n",
      "['Diagnostic_procedure', 'Detailed_description', 'Biological_structure', 'Lab_value'] 3 redundant ratio models family taxonomic features liver ##hosis stage 1 ( family 7\n",
      "Detailed_description 0.9158186 6 1\n",
      "['Diagnostic_procedure', 'Lab_value'] models superior performance 2\n",
      "['Detailed_description', 'Lab_value'] 6 cdr - based models 2\n",
      "Diagnostic_procedure 0.92483455 accuracy 1\n",
      "Detailed_description 0.9490782 6 1\n",
      "['Diagnostic_procedure', 'Biological_structure', 'Family_history', 'Lab_value', 'Coreference'] cdr lower ba ##cteroidaceae family liver 5\n",
      "['Diagnostic_procedure'] bacteroidetes related features 2\n",
      "Detailed_description 0.9319115 6 1\n",
      "['Diagnostic_procedure', 'Lab_value'] ratio mutual exclusion ba ##cter ##ete bin model 6\n",
      "['Diagnostic_procedure', 'Biological_structure', 'Lab_value'] decrease ba ##cteroides increase proteobacteria fusobacteria liver 7\n",
      "['Diagnostic_procedure', 'Biological_structure', 'Sign_symptom', 'Detailed_description', 'Clinical_event', 'Lab_value'] decrease ba ##cteroidetes gut increase proteobacteria reported d ##biotic ##biomes chronic inflammation serum lip ##op 15\n",
      "['Disease_disorder', 'Biological_structure'] virus liver viral infections 4\n",
      "['Diagnostic_procedure', 'Biological_structure', 'Detailed_description', 'Lab_value', 'Administration', 'Coreference'] competition oral ##bes ter ratio models genus veil oral enriched liver 1 side ba ##cteroides eubacterium ( s coprococcus ( 16\n",
      "['Diagnostic_procedure', 'Detailed_description', 'Lab_value'] butyrate producers complex polysaccharide degrade 3\n",
      "['Detailed_description', 'Coreference'] f ##bm st ha 4\n",
      "['Diagnostic_procedure', 'Biological_structure', 'Sign_symptom', 'Detailed_description', 'Disease_disorder', 'Coreference'] ratio ter models oral bacterial veil ##lonella veil st ##reptococcus opport ##unistic pathogens megasphaera micronuciformis ##liferate liver but ##yrate producers sub ##do ##li ##gra ##ni ##lum sub ##do faecalibacterium ##nitz complex poly ##saccharide - degrad ##ing ba ##cteroides cellulosilyticus 33\n",
      "['Disease_disorder', 'Detailed_description'] micronuciformis primary ##lia ##hosis 16 5\n",
      "['Diagnostic_procedure', 'Sign_symptom', 'Disease_disorder', 'Detailed_description'] in fbm feature - model co - occurrence network 6\n",
      "['Diagnostic_procedure', 'Lab_value', 'Coreference'] predict models metacy increased aerobic metabolism cytochromes heme - containing globins ubiquin menaquinone 9\n",
      "['Diagnostic_procedure', 'Sign_symptom', 'Detailed_description', 'Lab_value'] increase aerobic respiration profiles inflammation associated dysbiosis 5\n",
      "['Diagnostic_procedure', 'Detailed_description', 'Coreference'] modules related to bacterial pep ##tidog ##lycan ##synthesis f ##bm 6\n",
      "Biological_structure 0.9998976 liver 1\n",
      "['Detailed_description', 'Coreference'] bt ##r 2\n",
      "['Diagnostic_procedure', 'Lab_value'] btr models more accurate literature 3\n",
      "Diagnostic_procedure 0.61954594 ml 1\n",
      "['Lab_value', 'Sign_symptom', 'Coreference'] it predict ##ive signatures 3\n",
      "['Lab_value', 'Coreference'] fbm distil ##her 3\n",
      "Diagnostic_procedure 0.9176977 bt 1\n",
      "['Detailed_description'] com measurements 2\n",
      "['Diagnostic_procedure', 'Detailed_description'] data processing 2\n",
      "['Lab_value', 'Coreference'] ratio models scale invariant 3\n",
      "Diagnostic_procedure 0.97931886 microbial loads 1\n",
      "['Diagnostic_procedure', 'Lab_value'] varying sequencing depth under 3\n",
      "Detailed_description 0.88513166 rare 1\n",
      "['Diagnostic_procedure', 'Detailed_description'] bt ##r 2\n",
      "['Diagnostic_procedure', 'Sign_symptom'] k species 2\n",
      "Coreference 0.7442067 they 1\n",
      "['Sign_symptom', 'Disease_disorder', 'Detailed_description', 'Biological_structure'] oral originated gut liver cirrhosis usual commensals 6\n",
      "Detailed_description 0.76591814 co - varying species 1\n",
      "Diagnostic_procedure 0.7068876 bt 1\n",
      "Coreference 0.51405853 predict 1\n",
      "['Diagnostic_procedure', 'Sign_symptom'] propagation of errors ina ##uracies gen dataset 5\n",
      "['Sign_symptom', 'Detailed_description'] sequences unknown functions error percolation 3\n",
      "['Disease_disorder', 'Medication', 'Lab_value'] metformin es ##ichia coli increased in abundance 4\n",
      "['Detailed_description'] whole shotgun 16s ribosomal rna bt acquisition technologies microarray dna chips qpcr - based with primers 7\n",
      "Detailed_description 0.43744558 bt 1\n",
      "['Diagnostic_procedure'] predictive models meta 2\n",
      "Coreference 0.90045786 models 1\n",
      "['Detailed_description'] bt binary / 3\n",
      "['Diagnostic_procedure', 'Detailed_description'] optimal btr models 2\n",
      "['Therapeutic_procedure', 'Detailed_description'] convex optimization 2\n",
      "Diagnostic_procedure 0.745298 computation 1\n",
      "['Disease_disorder', 'Detailed_description'] bt ##r learning algorithm 3\n",
      "Other_entity 0.6643259 ##stics 1\n",
      "['Detailed_description'] genetic algorithm stochastic optimization technique 2\n",
      "Coreference 0.502581 it 1\n",
      "Diagnostic_procedure 0.8626459 predictive models 1\n",
      "['Diagnostic_procedure', 'Coreference', 'Detailed_description', 'Lab_value'] accuracy k of features model ƛ hyper ##parameter 7\n",
      "['Detailed_description', 'Lab_value'] ƛ feature 2\n",
      "['Diagnostic_procedure', 'Detailed_description'] frequency tables paso 2\n",
      "Lab_value 0.9860234 low standard deviation 1\n",
      "['Diagnostic_procedure', 'Detailed_description', 'Lab_value'] 10 - times 10 - fold cross validation classification 20 - times 5 - fold validation regression 6\n",
      "['Detailed_description'] btr elastic 2\n",
      "['Diagnostic_procedure', 'Detailed_description', 'Lab_value'] sv mann - whitney score paired t - test 100 cv 10\n",
      "Lab_value 0.96946955 significantly different 1\n",
      "['Diagnostic_procedure', 'Detailed_description', 'Lab_value'] btr 109 different ##set so algorithms svm linear and gaussian kernel random en ##et 10\n",
      "['Diagnostic_procedure', 'Detailed_description', 'Coreference'] algorithms accuracy paired 3\n",
      "['Diagnostic_procedure'] terlog models ter model geometric mean balance algorithm 3\n",
      "['Diagnostic_procedure', 'Lab_value', 'Coreference'] f ##bm bin ##omial distribution 4\n",
      "Coreference 0.8504091 fbm 1\n",
      "Detailed_description 0.8334476 of 1\n",
      "['Diagnostic_procedure', 'Lab_value'] fbm models of - bag error 2\n",
      "['Sign_symptom', 'Detailed_description', 'Coreference'] ##bm errors permutations 3\n",
      "Diagnostic_procedure 0.97656226 mda 1\n",
      "Diagnostic_procedure 0.8328746 observations 1\n",
      "['Diagnostic_procedure', 'Lab_value'] cumulative cumulative increased 3\n",
      "Diagnostic_procedure 0.9741452 cumulative error minimize 1\n",
      "['Diagnostic_procedure'] spearman spearman 2\n",
      "['Detailed_description', 'Coreference'] model variable 2\n",
      "['Diagnostic_procedure'] parameters α β 3\n",
      "['Sign_symptom', 'Detailed_description'] scalenet presence network 3\n",
      "['Diagnostic_procedure', 'Detailed_description', 'Lab_value'] % strongest edges bay ##es _ hc ara ##cne f 8\n",
      "['Detailed_description'] scalenet sota reconstruction methods 2\n",
      "['Detailed_description'] con voting 2\n",
      "['Detailed_description'] platform independent programming requirements 2\n",
      "['Detailed_description'] pre ##dom res pl bioq fore snow dorn ya g ##lot grid grid gtools rcolorbrewer glm pro vi 18\n",
      "['Detailed_description'] gnu public 0 3\n",
      "['Diagnostic_procedure', 'Clinical_event', 'Detailed_description', 'Lab_value'] classification downloaded 5 curated metagenomic dataset 5\n",
      "['Diagnostic_procedure', 'Disease_disorder', 'Detailed_description', 'Biological_structure'] independent studies shotgun metagenomics processed bioinformatically shotgun metagenomics morbidly obese bariatric 8\n",
      "Diagnostic_procedure 0.9432836 performance 1\n",
      "['Diagnostic_procedure'] performance bt 2\n",
      "['Diagnostic_procedure', 'Detailed_description', 'Coreference'] btr sota disease presence 4\n",
      "Diagnostic_procedure 0.86925054 btr models 1\n",
      "['Diagnostic_procedure', 'Lab_value', 'Detailed_description', 'Coreference'] btr sota performance different ci ##hosis stage 1 normal 7\n",
      "Coreference 0.5737543 ##hosis 1\n",
      "['Disease_disorder', 'Detailed_description', 'Coreference'] ci ##hosis stage 3\n",
      "['Diagnostic_procedure', 'Detailed_description'] bt rf 2\n",
      "Detailed_description 0.89534575 ter 1\n",
      "Diagnostic_procedure 0.43466803 outcome 1\n",
      "Diagnostic_procedure 0.9948586 selbal balance 1\n",
      "['Diagnostic_procedure', 'Lab_value'] ai sv sv ter 4\n",
      "Detailed_description 0.3338616 ##ments 1\n",
      "['Nonbiological_location', 'Detailed_description', 'Coreference'] framework assistance ##lique hopita ##ux hopitaux contrat d'interface chercheurs 7\n",
      "Detailed_description 0.7340093 e 1\n",
      "Detailed_description 0.44512033 y 1\n",
      "Detailed_description 0.59845704 b 1\n",
      "Activity 0.33488956 e 1\n",
      "Diagnostic_procedure 0.9320512 biological 1\n",
      "Detailed_description 0.78862333 k 1\n"
     ]
    }
   ],
   "source": [
    "for sent in sents:\n",
    "    pred=pipe(sent)\n",
    "    if len(pred)>0:\n",
    "        if len(pred)<2:\n",
    "            print(pred[0]['entity_group'],pred[0]['score'],pred[0]['word'],len(pred))\n",
    "            #i = np.argmax([x['score'] for x in pred])\n",
    "        else:\n",
    "            words=[]\n",
    "            entGroup=[]\n",
    "            for k in range(len(pred)):\n",
    "                words+=[pred[k]['word']]\n",
    "                entGroup+=[pred[k]['entity_group']]\n",
    "            enti_joined=\" \".join(words)\n",
    "            entity_groupSe=list(set(entGroup))\n",
    "            print(entity_groupSe,enti_joined,len(pred))"
   ]
  },
  {
   "cell_type": "code",
   "execution_count": 9,
   "id": "42603eb8-172b-4f0a-b2b8-1b2fd7426a47",
   "metadata": {
    "tags": []
   },
   "outputs": [],
   "source": [
    "import pandas as pd\n",
    "import os"
   ]
  },
  {
   "cell_type": "code",
   "execution_count": 2,
   "id": "840549fa-e11b-470e-8167-1a1a754c6952",
   "metadata": {},
   "outputs": [],
   "source": [
    "dataframe=pd.read_csv(\"All_Vellonella_Articles.csv\")"
   ]
  },
  {
   "cell_type": "code",
   "execution_count": 3,
   "id": "a51caec3-3400-4371-9ce2-7aad9d2f6a6b",
   "metadata": {},
   "outputs": [
    {
     "data": {
      "text/plain": [
       "(1499, 5)"
      ]
     },
     "execution_count": 3,
     "metadata": {},
     "output_type": "execute_result"
    }
   ],
   "source": [
    "dataframe.shape"
   ]
  },
  {
   "cell_type": "code",
   "execution_count": 5,
   "id": "51381a08-682e-48c1-ae6c-cde93f87465b",
   "metadata": {
    "tags": []
   },
   "outputs": [
    {
     "name": "stdout",
     "output_type": "stream",
     "text": [
      "2023-06-29 13:27:23,596 SequenceTagger predicts: Dictionary with 8 tags: <unk>, O, B-Disease, E-Disease, I-Disease, S-Disease, <START>, <STOP>\n",
      "2023-06-29 13:27:24,336 SequenceTagger predicts: Dictionary with 8 tags: <unk>, O, S-Gene, B-Gene, I-Gene, E-Gene, <START>, <STOP>\n",
      "2023-06-29 13:27:25,045 SequenceTagger predicts: Dictionary with 8 tags: <unk>, O, S-Species, B-Species, I-Species, E-Species, <START>, <STOP>\n",
      "2023-06-29 13:27:25,784 SequenceTagger predicts: Dictionary with 8 tags: <unk>, O, S-CellLine, B-CellLine, I-CellLine, E-CellLine, <START>, <STOP>\n",
      "2023-06-29 13:27:26,566 SequenceTagger predicts: Dictionary with 8 tags: <unk>, O, S-Chemical, B-Chemical, I-Chemical, E-Chemical, <START>, <STOP>\n"
     ]
    },
    {
     "name": "stderr",
     "output_type": "stream",
     "text": [
      "100%|██████████| 7872/7872 [00:02<00:00, 2921.83it/s]\n"
     ]
    }
   ],
   "source": [
    "tagger = Classifier.load(\"hunflair\")\n",
    "def extractSave(file_xml,bacteria_name=\"Veillonella\",tagger=tagger):\n",
    "    \n",
    "    #file_xml='/data/projects/santal/data/PMC_Articles/oa_comm/xml/all/PMC10000167.xml'#PMC10000014.xml'\n",
    "    with open(file_xml, 'r') as f:\n",
    "        data = f.read()\n",
    "    articleDetails=ad.ArticleDetails(file_xml)\n",
    "    try:\n",
    "        articleDetails.getArticleContent()\n",
    "    except:\n",
    "        return \"FILE ERROR\"\n",
    "    sent_id_d=file_xml.split(\"/\")[-1].replace(\".xml\",\"\")\n",
    "    folder_path=\"/home/aberhe/Projects/SANTAL/ASLR/Results/BioNER/\"+bacteria_name\n",
    "    if not os.path.exists(folder_path):\n",
    "        os.mkdir(folder_path)\n",
    "    else:\n",
    "        os.path.exists(folder_path+\"/\"+sent_id_d+\".csv\")\n",
    "    \n",
    "    df=pd.DataFrame(columns=(\"sent_id\",\"sentence\",\"entity\",\"start_chunck\",\"end_chunk\",\"label\",\"score\"))\n",
    "    i=0\n",
    "    #for key in tqdm(articleDetails.sections):\n",
    "    sentences = nltk.sent_tokenize(articleDetails.articleContent[key])\n",
    "    for sentence in sentences:\n",
    "        sentence=Sentence(sentence)\n",
    "        tagger.predict(sentence)\n",
    "        sent_id=sent_id_d+\"_\"+str(i)\n",
    "        for labels in sentence.get_labels():\n",
    "            #print(la.value,la.data_point.text,la.data_point.start_position,la.data_point.end_position)\n",
    "            taggedEntities=[sent_id,sentence.tokenized,labels.data_point.text,labels.data_point.start_position,labels.data_point.end_position,labels.value,round(labels.score,3)]\n",
    "            df.loc[len(df)]=taggedEntities\n",
    "        i=i+1\n",
    "    folder_path=\"/home/aberhe/Projects/SANTAL/ASLR/Results/BioNER/\"+bacteria_name\n",
    "    if not os.path.exists(folder_path):\n",
    "        os.mkdir(folder_path)\n",
    "        \n",
    "    df.to_csv(folder_path+\"/\"+sent_id_d+\".csv\")\n",
    "\n",
    "#if __name__==\"__main__\":\n",
    "with open(\"/home/aberhe/Projects/SANTAL/ASLR/data/Veillonella_articles_found_exits77.txt\", \"r\") as f:\n",
    "    files_veillonella=f.readlines()\n",
    "for file in tqdm(files_veillonella):\n",
    "    bacteria_name=\"Veillonella\"\n",
    "    folder_path=\"/home/aberhe/Projects/SANTAL/ASLR/Results/BioNER/\"+bacteria_name\n",
    "    sent_id_d=file.split(\"/\")[-1].replace(\".xml\",\"\")\n",
    "    if not os.path.exists(folder_path):\n",
    "        os.mkdir(folder_path)\n",
    "        try:\n",
    "            extractSave(file_xml=file.replace(\"\\n\",\"\"),bacteria_name=bacteria_name)\n",
    "        except:\n",
    "            continue\n",
    "    else:\n",
    "        if os.path.exists(folder_path+\"/\"+sent_id_d+\".csv\"):\n",
    "            continue\n",
    "        else:\n",
    "            try:\n",
    "                extractSave(file_xml=file.replace(\"\\n\",\"\"),bacteria_name=bacteria_name)\n",
    "            except:\n",
    "                continue"
   ]
  },
  {
   "cell_type": "code",
   "execution_count": 179,
   "id": "5011abf4-504b-41f7-9e1d-0c5ec0535c9b",
   "metadata": {
    "tags": []
   },
   "outputs": [
    {
     "data": {
      "text/plain": [
       "7872"
      ]
     },
     "execution_count": 179,
     "metadata": {},
     "output_type": "execute_result"
    }
   ],
   "source": [
    "len(files_veillonella)"
   ]
  },
  {
   "cell_type": "code",
   "execution_count": 174,
   "id": "784944a3-600f-458b-ae92-331bf9be956c",
   "metadata": {
    "tags": []
   },
   "outputs": [
    {
     "data": {
      "text/plain": [
       "0"
      ]
     },
     "execution_count": 174,
     "metadata": {},
     "output_type": "execute_result"
    }
   ],
   "source": [
    "len(files_veillonella)"
   ]
  },
  {
   "cell_type": "code",
   "execution_count": 175,
   "id": "acb43a5d-6011-4807-b784-53ece8fcd5de",
   "metadata": {
    "tags": []
   },
   "outputs": [
    {
     "data": {
      "text/plain": [
       "[]"
      ]
     },
     "execution_count": 175,
     "metadata": {},
     "output_type": "execute_result"
    }
   ],
   "source": [
    "files_veillonella"
   ]
  },
  {
   "cell_type": "code",
   "execution_count": 176,
   "id": "27adec47-d880-443e-a1d2-9c0edebadf4c",
   "metadata": {
    "tags": []
   },
   "outputs": [],
   "source": [
    "with open(\"/home/aberhe/Projects/SANTAL/ASLR/data/Veillonella_articles_found_exits.txt\", \"r\") as f:\n",
    "    files_veillonella=f.readlines()"
   ]
  },
  {
   "cell_type": "code",
   "execution_count": null,
   "id": "5adceca8-5230-4cb0-bf5f-1eb1a3c0362b",
   "metadata": {},
   "outputs": [],
   "source": []
  }
 ],
 "metadata": {
  "kernelspec": {
   "display_name": "Python 3 (ipykernel)",
   "language": "python",
   "name": "python3"
  },
  "language_info": {
   "codemirror_mode": {
    "name": "ipython",
    "version": 3
   },
   "file_extension": ".py",
   "mimetype": "text/x-python",
   "name": "python",
   "nbconvert_exporter": "python",
   "pygments_lexer": "ipython3",
   "version": "3.10.9"
  },
  "vscode": {
   "interpreter": {
    "hash": "d4c6c2a6252e1c1ad491e375aad73fed2755e5a595cb8c3645bffdd920f89471"
   }
  }
 },
 "nbformat": 4,
 "nbformat_minor": 5
}
