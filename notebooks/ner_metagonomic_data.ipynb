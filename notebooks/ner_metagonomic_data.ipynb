{
 "cells": [
  {
   "cell_type": "code",
   "execution_count": 1,
   "metadata": {},
   "outputs": [],
   "source": [
    "from flair.data import Sentence\n",
    "from flair.models import SequenceTagger\n",
    "from flair.models import MultiTagger"
   ]
  },
  {
   "cell_type": "code",
   "execution_count": 2,
   "metadata": {},
   "outputs": [],
   "source": [
    "import os \n",
    "import pandas as pd\n",
    "import json\n",
    "from tqdm import tqdm\n",
    "import numpy as np"
   ]
  },
  {
   "cell_type": "code",
   "execution_count": 3,
   "metadata": {},
   "outputs": [
    {
     "name": "stdout",
     "output_type": "stream",
     "text": [
      "2023-02-09 14:45:41,490 loading file C:\\Users\\aberhe\\.flair\\models\\hunflair-celline-v1.0.pt\n",
      "2023-02-09 14:45:57,853 loading file C:\\Users\\aberhe\\.flair\\models\\hunflair-chemical-full-v1.0.pt\n",
      "2023-02-09 14:46:06,054 loading file C:\\Users\\aberhe\\.flair\\models\\hunflair-disease-full-v1.0.pt\n",
      "2023-02-09 14:46:16,590 loading file C:\\Users\\aberhe\\.flair\\models\\hunflair-gene-full-v1.0.pt\n",
      "2023-02-09 14:46:25,736 loading file C:\\Users\\aberhe\\.flair\\models\\hunflair-species-full-v1.1.pt\n"
     ]
    }
   ],
   "source": [
    "mTagger=MultiTagger.load('hunflair')"
   ]
  },
  {
   "cell_type": "code",
   "execution_count": 8,
   "metadata": {},
   "outputs": [],
   "source": [
    "with open (r\"C:\\Users\\aberhe\\Desktop\\PostDoc\\Projects\\SANTAL\\Datasets\\microbiome\\generatedSentence_splited_orders_2.json\",\"r\") as file:\n",
    "    metagenome_generated=json.load(file)"
   ]
  },
  {
   "cell_type": "code",
   "execution_count": 9,
   "metadata": {},
   "outputs": [
    {
     "data": {
      "text/plain": [
       "{'kingdom': 'Bacteria',\n",
       " 'phylum': 'Acidobacteria',\n",
       " 'class': 'Acidobacteriia',\n",
       " 'order': 'Acidobacteriales',\n",
       " 'family': 'Acidobacteriaceae',\n",
       " 'genus': 'Granulicella',\n",
       " 'species': 'Granulicella_sp._5B5',\n",
       " 'generated_sentence': 'Granulicella_sp._5B5 is a species in the family Acidobacteriaceae that belonging to the genus Granulicella. Granulicella_sp._5B5 is classified as a member of the order Acidobacteriales in the class Acidobacteriia and it is inside higher group known as phylum Acidobacteria, and generally belong to the kingdom Bacteria.'}"
      ]
     },
     "execution_count": 9,
     "metadata": {},
     "output_type": "execute_result"
    }
   ],
   "source": [
    "metagenome_generated[\"doc_10\"]"
   ]
  },
  {
   "cell_type": "code",
   "execution_count": 10,
   "metadata": {},
   "outputs": [
    {
     "data": {
      "text/plain": [
       "{'kingdom': 'Bacteria',\n",
       " 'phylum': '',\n",
       " 'class': '',\n",
       " 'order': '',\n",
       " 'family': 'Candidatus_Chazhemtobacteraceae',\n",
       " 'genus': 'Candidatus_Chazhemtobacterium',\n",
       " 'species': 'Candidatus_Chazhemtobacterium_aquaticus',\n",
       " 'generated_sentence': 'Candidatus_Chazhemtobacterium_aquaticus is a species in the family Candidatus_Chazhemtobacteraceae that belonging to the genus Candidatus_Chazhemtobacterium. Candidatus_Chazhemtobacterium_aquaticus is classified as a member of the order <UNKNOWN> in the class <UNKNOWN> and it is inside higher group known as phylum <UNKNOWN>, and generally belong to the kingdom Bacteria.'}"
      ]
     },
     "execution_count": 10,
     "metadata": {},
     "output_type": "execute_result"
    }
   ],
   "source": [
    "metagenome_generated[\"doc_2\"]"
   ]
  },
  {
   "cell_type": "code",
   "execution_count": 50,
   "metadata": {},
   "outputs": [
    {
     "data": {
      "text/plain": [
       "{'kingdom': 'Bacteria',\n",
       " 'phylum': '',\n",
       " 'class': 'Candidatus_Babeliae',\n",
       " 'order': 'Candidatus_Babeliales',\n",
       " 'family': 'Candidatus_Babeliaceae',\n",
       " 'genus': 'Candidatus_Babela',\n",
       " 'species': 'Candidatus_Babela_massiliensis',\n",
       " 'generated_sentence': 'Candidatus_Babela_massiliensis, belonging to the genus Candidatus_Babela, is a species in the family Candidatus_Babeliaceae and is classified as a member of the order Candidatus_Babeliales, class Candidatus_Babeliae, phylum , and kingdom Bacteria.'}"
      ]
     },
     "execution_count": 50,
     "metadata": {},
     "output_type": "execute_result"
    }
   ],
   "source": [
    "metagenome_generated[\"doc_3\"]"
   ]
  },
  {
   "cell_type": "code",
   "execution_count": 11,
   "metadata": {},
   "outputs": [],
   "source": [
    "sentence = Sentence(metagenome_generated[\"doc_1\"][\"generated_sentence\"].replace(\"_\",\" \"))"
   ]
  },
  {
   "cell_type": "code",
   "execution_count": 12,
   "metadata": {},
   "outputs": [
    {
     "name": "stderr",
     "output_type": "stream",
     "text": [
      "c:\\ProgramData\\Anaconda3\\envs\\qenv\\lib\\site-packages\\flair\\models\\sequence_tagger_model.py:1046: UserWarning: We recommend to use SciSpaCy for tokenization and sentence splitting if HunFlair is applied to biomedical text, e.g.\n",
      "\n",
      "from flair.tokenization import SciSpacySentenceSplitter\n",
      "sentence = Sentence('Your biomed text', use_tokenizer=SciSpacySentenceSplitter())\n",
      "\n",
      "  warn(\n"
     ]
    }
   ],
   "source": [
    "mTagger.predict(sentence)"
   ]
  },
  {
   "cell_type": "code",
   "execution_count": 13,
   "metadata": {},
   "outputs": [
    {
     "name": "stdout",
     "output_type": "stream",
     "text": [
      "Candidatus Babela <B-Species> massiliensis <E-Species> , belonging to the genus Candidatus Babela , is a species in the family Candidatus Babeliaceae and is classified as a member of the order Candidatus Babeliales , class Candidatus Babeliae , phylum < UNKNOWN > , and kingdom Bacteria .\n"
     ]
    }
   ],
   "source": [
    "print(sentence.to_tagged_string())"
   ]
  },
  {
   "cell_type": "code",
   "execution_count": 14,
   "metadata": {},
   "outputs": [],
   "source": [
    "chemicals=sentence.to_dict('hunflair-chemical')\n",
    "disease=sentence.to_dict('hunflair-disease')\n",
    "spacies=sentence.to_dict('hunflair-species')\n",
    "genes=sentence.to_dict('hunflair-gene')\n",
    "cell_line=sentence.to_dict('hunflair-celline')"
   ]
  },
  {
   "cell_type": "code",
   "execution_count": 15,
   "metadata": {},
   "outputs": [
    {
     "data": {
      "text/plain": [
       "{'text': 'Candidatus Babela massiliensis, belonging to the genus Candidatus Babela, is a species in the family Candidatus Babeliaceae and is classified as a member of the order Candidatus Babeliales, class Candidatus Babeliae, phylum <UNKNOWN>, and kingdom Bacteria.',\n",
       " 'labels': [],\n",
       " 'entities': [{'text': 'Babela massiliensis',\n",
       "   'start_pos': 11,\n",
       "   'end_pos': 30,\n",
       "   'labels': [Species (0.7384)]}]}"
      ]
     },
     "execution_count": 15,
     "metadata": {},
     "output_type": "execute_result"
    }
   ],
   "source": [
    "spacies"
   ]
  },
  {
   "cell_type": "code",
   "execution_count": 16,
   "metadata": {},
   "outputs": [
    {
     "name": "stderr",
     "output_type": "stream",
     "text": [
      "100%|██████████| 100/100 [05:32<00:00,  3.32s/it]\n"
     ]
    }
   ],
   "source": [
    "ner_spacies=[]\n",
    "for i in tqdm(range(100)):\n",
    "    sentence = Sentence(metagenome_generated[\"doc_\"+str(i+1)][\"generated_sentence\"].replace(\"_\",\" \"))\n",
    "    mTagger.predict(sentence)\n",
    "    spacies=sentence.to_dict('hunflair-species')\n",
    "    ner_spacies.append(spacies)"
   ]
  },
  {
   "cell_type": "code",
   "execution_count": 25,
   "metadata": {},
   "outputs": [
    {
     "data": {
      "text/plain": [
       "{'kingdom': 'Bacteria',\n",
       " 'phylum': 'Acidobacteria',\n",
       " 'class': 'Acidobacteriia',\n",
       " 'order': 'Acidobacteriales',\n",
       " 'family': 'Acidobacteriaceae',\n",
       " 'genus': 'Granulicella',\n",
       " 'species': 'Granulicella_tundricola',\n",
       " 'generated_sentence': 'Granulicella_tundricola is a species in the family Acidobacteriaceae that belonging to the genus Granulicella. Granulicella_tundricola is classified as a member of the order Acidobacteriales in the class Acidobacteriia and it is inside higher group known as phylum Acidobacteria, and generally belong to the kingdom Bacteria.'}"
      ]
     },
     "execution_count": 25,
     "metadata": {},
     "output_type": "execute_result"
    }
   ],
   "source": [
    "metagenome_generated[\"doc_12\"]"
   ]
  },
  {
   "cell_type": "code",
   "execution_count": 26,
   "metadata": {},
   "outputs": [
    {
     "data": {
      "text/plain": [
       "[{'text': 'Granulicella tundricola',\n",
       "  'start_pos': 0,\n",
       "  'end_pos': 23,\n",
       "  'labels': [Species (0.8126)]},\n",
       " {'text': 'Granulicella tundricola',\n",
       "  'start_pos': 111,\n",
       "  'end_pos': 134,\n",
       "  'labels': [Species (0.7267)]}]"
      ]
     },
     "execution_count": 26,
     "metadata": {},
     "output_type": "execute_result"
    }
   ],
   "source": [
    "ner_spacies[11][\"entities\"]"
   ]
  },
  {
   "cell_type": "code",
   "execution_count": 24,
   "metadata": {},
   "outputs": [
    {
     "data": {
      "text/plain": [
       "{'text': 'Gardnerella leopoldii is a species in the family Bifidobacteriaceae that belonging to the genus Gardnerella. Gardnerella leopoldii is classified as a member of the order Bifidobacteriales in the class Actinomycetia and it is inside higher group known as phylum Actinobacteria, and generally belong to the kingdom Bacteria.',\n",
       " 'labels': [],\n",
       " 'entities': [{'text': 'Gardnerella leopoldii',\n",
       "   'start_pos': 0,\n",
       "   'end_pos': 21,\n",
       "   'labels': [Species (0.825)]},\n",
       "  {'text': 'Gardnerella leopoldii',\n",
       "   'start_pos': 109,\n",
       "   'end_pos': 130,\n",
       "   'labels': [Species (0.7713)]}]}"
      ]
     },
     "execution_count": 24,
     "metadata": {},
     "output_type": "execute_result"
    }
   ],
   "source": [
    "ner_spacies[99]"
   ]
  },
  {
   "cell_type": "code",
   "execution_count": 48,
   "metadata": {},
   "outputs": [
    {
     "data": {
      "text/plain": [
       "{'text': 'Candidatus Babela massiliensis, is a species in the family Candidatus Babeliaceae that belonging to the genus Candidatus Babela. Candidatus Babela massiliensis is classified as a member of the order Candidatus Babeliales in the class Candidatus Babeliae and it is inside higher group known as phylum , and generally belong to the kingdom Bacteria.',\n",
       " 'labels': [],\n",
       " 'entities': [{'text': 'Babela massiliensis',\n",
       "   'start_pos': 11,\n",
       "   'end_pos': 30,\n",
       "   'labels': [Species (0.6742)]},\n",
       "  {'text': 'Babela massiliensis',\n",
       "   'start_pos': 140,\n",
       "   'end_pos': 159,\n",
       "   'labels': [Species (0.7895)]}]}"
      ]
     },
     "execution_count": 48,
     "metadata": {},
     "output_type": "execute_result"
    }
   ],
   "source": [
    "ner_spacies[201]"
   ]
  },
  {
   "cell_type": "code",
   "execution_count": 69,
   "metadata": {},
   "outputs": [
    {
     "name": "stderr",
     "output_type": "stream",
     "text": [
      "100%|██████████| 6499/6499 [00:00<00:00, 79281.90it/s]\n"
     ]
    }
   ],
   "source": [
    "ner_metagenome_extracted={}\n",
    "for i in tqdm(range(len(ner_spacies))):\n",
    "    ner_metagenome_extracted[\"doc_\"+str(i+1)]=ner_spacies[i]"
   ]
  },
  {
   "cell_type": "code",
   "execution_count": 101,
   "metadata": {},
   "outputs": [],
   "source": [
    "import csv\n",
    "w = csv.writer(open(\"ner_metagenome_extracted.csv\", \"w\"))\n",
    "\n",
    "# loop over dictionary keys and values\n",
    "for key, val in ner_metagenome_extracted.items():\n",
    "\n",
    "    # write every key and value to file\n",
    "    w.writerow([key, val])"
   ]
  },
  {
   "cell_type": "code",
   "execution_count": 35,
   "metadata": {},
   "outputs": [],
   "source": [
    "import csv"
   ]
  },
  {
   "cell_type": "code",
   "execution_count": 39,
   "metadata": {},
   "outputs": [],
   "source": [
    "csvreader=csv.reader(open(\"ner_metagenome_extracted.csv\", \"r\"))\n",
    "rows = []\n",
    "for row in csvreader:\n",
    "        rows.append(row)\n",
    "rows=[i for i in rows if i!=[]]"
   ]
  },
  {
   "cell_type": "code",
   "execution_count": 54,
   "metadata": {},
   "outputs": [
    {
     "data": {
      "text/plain": [
       "\"{'text': 'Candidatus Babela massiliensis, belonging to the genus Candidatus Babela, is a species in the family Candidatus Babeliaceae and is classified as a member of the order Candidatus Babeliales, class Candidatus Babeliae, phylum , and kingdom Bacteria.', 'labels': [], 'entities': [{'text': 'Babela massiliensis', 'start_pos': 11, 'end_pos': 30, 'labels': [Species (0.7379)]}]}\""
      ]
     },
     "execution_count": 54,
     "metadata": {},
     "output_type": "execute_result"
    }
   ],
   "source": [
    "rows[0][1]"
   ]
  },
  {
   "cell_type": "code",
   "execution_count": 61,
   "metadata": {},
   "outputs": [
    {
     "ename": "TypeError",
     "evalue": "'_csv.reader' object is not subscriptable",
     "output_type": "error",
     "traceback": [
      "\u001b[1;31m---------------------------------------------------------------------------\u001b[0m",
      "\u001b[1;31mTypeError\u001b[0m                                 Traceback (most recent call last)",
      "\u001b[1;32mc:\\Users\\aberhe\\Desktop\\PostDoc\\Projects\\SANTAL\\codes\\Article_Extraction\\ner_metagonomic_data.ipynb Cell 25\u001b[0m in \u001b[0;36m<cell line: 1>\u001b[1;34m()\u001b[0m\n\u001b[1;32m----> <a href='vscode-notebook-cell:/c%3A/Users/aberhe/Desktop/PostDoc/Projects/SANTAL/codes/Article_Extraction/ner_metagonomic_data.ipynb#X30sZmlsZQ%3D%3D?line=0'>1</a>\u001b[0m \u001b[39mprint\u001b[39m(df[\u001b[39m1\u001b[39;49m][\u001b[39m0\u001b[39m])\n",
      "\u001b[1;31mTypeError\u001b[0m: '_csv.reader' object is not subscriptable"
     ]
    }
   ],
   "source": [
    "print(df[1][0])"
   ]
  },
  {
   "cell_type": "code",
   "execution_count": 91,
   "metadata": {},
   "outputs": [
    {
     "data": {
      "text/plain": [
       "list"
      ]
     },
     "execution_count": 91,
     "metadata": {},
     "output_type": "execute_result"
    }
   ],
   "source": [
    "type(ner_spacies)"
   ]
  },
  {
   "cell_type": "code",
   "execution_count": 93,
   "metadata": {},
   "outputs": [
    {
     "data": {
      "text/plain": [
       "2987110"
      ]
     },
     "execution_count": 93,
     "metadata": {},
     "output_type": "execute_result"
    }
   ],
   "source": [
    "f = open(\"ner_metagonome_extracted.txt\",\"w\")\n",
    "\n",
    "# write file\n",
    "f.write( str(ner_metagenome_extracted) )"
   ]
  },
  {
   "cell_type": "code",
   "execution_count": 66,
   "metadata": {},
   "outputs": [
    {
     "name": "stdout",
     "output_type": "stream",
     "text": [
      "1\n"
     ]
    }
   ],
   "source": [
    "with open('ner_metagonome_extracted.txt', 'r') as file:\n",
    "    # Read the contents of the file into a string\n",
    "    print(len(file.readlines()))\n",
    "    data_string=[]\n",
    "    for i in file.readline():\n",
    "       #print(i)\n",
    "        data_string.append(i)\n",
    "\n",
    "# Deserialize the string to a Python dictionary"
   ]
  },
  {
   "cell_type": "code",
   "execution_count": 67,
   "metadata": {},
   "outputs": [],
   "source": [
    "ner_metagenome_extracted=pd.read_csv(\"ner_metagenome_extracted.csv\",header=None)"
   ]
  },
  {
   "cell_type": "code",
   "execution_count": 68,
   "metadata": {},
   "outputs": [
    {
     "data": {
      "text/html": [
       "<div>\n",
       "<style scoped>\n",
       "    .dataframe tbody tr th:only-of-type {\n",
       "        vertical-align: middle;\n",
       "    }\n",
       "\n",
       "    .dataframe tbody tr th {\n",
       "        vertical-align: top;\n",
       "    }\n",
       "\n",
       "    .dataframe thead th {\n",
       "        text-align: right;\n",
       "    }\n",
       "</style>\n",
       "<table border=\"1\" class=\"dataframe\">\n",
       "  <thead>\n",
       "    <tr style=\"text-align: right;\">\n",
       "      <th></th>\n",
       "      <th>0</th>\n",
       "      <th>1</th>\n",
       "    </tr>\n",
       "  </thead>\n",
       "  <tbody>\n",
       "    <tr>\n",
       "      <th>0</th>\n",
       "      <td>doc_1</td>\n",
       "      <td>{'text': 'Candidatus Babela massiliensis, belo...</td>\n",
       "    </tr>\n",
       "    <tr>\n",
       "      <th>1</th>\n",
       "      <td>doc_2</td>\n",
       "      <td>{'text': 'Candidatus Chazhemtobacterium aquati...</td>\n",
       "    </tr>\n",
       "    <tr>\n",
       "      <th>2</th>\n",
       "      <td>doc_3</td>\n",
       "      <td>{'text': 'Acidisarcina polymorpha, belonging t...</td>\n",
       "    </tr>\n",
       "    <tr>\n",
       "      <th>3</th>\n",
       "      <td>doc_4</td>\n",
       "      <td>{'text': 'Acidobacterium capsulatum, is a spec...</td>\n",
       "    </tr>\n",
       "    <tr>\n",
       "      <th>4</th>\n",
       "      <td>doc_5</td>\n",
       "      <td>{'text': 'Acidobacterium sp. 4Y35, belonging t...</td>\n",
       "    </tr>\n",
       "  </tbody>\n",
       "</table>\n",
       "</div>"
      ],
      "text/plain": [
       "       0                                                  1\n",
       "0  doc_1  {'text': 'Candidatus Babela massiliensis, belo...\n",
       "1  doc_2  {'text': 'Candidatus Chazhemtobacterium aquati...\n",
       "2  doc_3  {'text': 'Acidisarcina polymorpha, belonging t...\n",
       "3  doc_4  {'text': 'Acidobacterium capsulatum, is a spec...\n",
       "4  doc_5  {'text': 'Acidobacterium sp. 4Y35, belonging t..."
      ]
     },
     "execution_count": 68,
     "metadata": {},
     "output_type": "execute_result"
    }
   ],
   "source": [
    "ner_metagenome_extracted.head()"
   ]
  },
  {
   "cell_type": "code",
   "execution_count": 72,
   "metadata": {},
   "outputs": [
    {
     "data": {
      "text/plain": [
       "\"{'text': 'Candidatus Babela massiliensis, belonging to the genus Candidatus Babela, is a species in the family Candidatus Babeliaceae and is classified as a member of the order Candidatus Babeliales, class Candidatus Babeliae, phylum , and kingdom Bacteria.', 'labels': [], 'entities': [{'text': 'Babela massiliensis', 'start_pos': 11, 'end_pos': 30, 'labels': [Species (0.7379)]}]}\""
      ]
     },
     "execution_count": 72,
     "metadata": {},
     "output_type": "execute_result"
    }
   ],
   "source": [
    "ner_metagenome_extracted[1][0]"
   ]
  },
  {
   "cell_type": "code",
   "execution_count": 25,
   "metadata": {},
   "outputs": [
    {
     "data": {
      "text/plain": [
       "str"
      ]
     },
     "execution_count": 25,
     "metadata": {},
     "output_type": "execute_result"
    }
   ],
   "source": [
    "type(ner_metagenome_extracted[1][0])"
   ]
  },
  {
   "cell_type": "code",
   "execution_count": 83,
   "metadata": {},
   "outputs": [],
   "source": [
    "json_dict = json.load(open('ner_metagenome_extracted.json'))\n"
   ]
  },
  {
   "cell_type": "code",
   "execution_count": 85,
   "metadata": {},
   "outputs": [],
   "source": [
    "json_dict=json.loads(json_dict)"
   ]
  },
  {
   "cell_type": "code",
   "execution_count": 102,
   "metadata": {},
   "outputs": [],
   "source": [
    "json_data = ast.literal_eval(json.dumps(json_dict[0]))"
   ]
  },
  {
   "cell_type": "code",
   "execution_count": 112,
   "metadata": {},
   "outputs": [],
   "source": [
    "s=json_dict[0]\n",
    "s=s.split(\"entities\")"
   ]
  },
  {
   "cell_type": "code",
   "execution_count": 116,
   "metadata": {},
   "outputs": [],
   "source": [
    "ss=s[-1]"
   ]
  },
  {
   "cell_type": "code",
   "execution_count": 121,
   "metadata": {},
   "outputs": [
    {
     "data": {
      "text/plain": [
       "\"': [{'text': 'Babela massiliensis', 'start_pos': 11, 'end_pos': 30, 'labels': [Species (0.7379)]}]}\""
      ]
     },
     "execution_count": 121,
     "metadata": {},
     "output_type": "execute_result"
    }
   ],
   "source": [
    "ss"
   ]
  },
  {
   "cell_type": "code",
   "execution_count": 134,
   "metadata": {},
   "outputs": [],
   "source": [
    "a=ss[ss.find(\"[\")+1:ss.find(\"]\")]+\"]}\".replace(\"\\'\",\"\\\"\")"
   ]
  },
  {
   "cell_type": "code",
   "execution_count": 135,
   "metadata": {},
   "outputs": [
    {
     "data": {
      "text/plain": [
       "\"{'text': 'Babela massiliensis', 'start_pos': 11, 'end_pos': 30, 'labels': [Species (0.7379)]}\""
      ]
     },
     "execution_count": 135,
     "metadata": {},
     "output_type": "execute_result"
    }
   ],
   "source": [
    "a"
   ]
  },
  {
   "cell_type": "code",
   "execution_count": null,
   "metadata": {},
   "outputs": [],
   "source": []
  },
  {
   "cell_type": "code",
   "execution_count": 133,
   "metadata": {},
   "outputs": [
    {
     "ename": "JSONDecodeError",
     "evalue": "Expecting property name enclosed in double quotes: line 1 column 2 (char 1)",
     "output_type": "error",
     "traceback": [
      "\u001b[1;31m---------------------------------------------------------------------------\u001b[0m",
      "\u001b[1;31mJSONDecodeError\u001b[0m                           Traceback (most recent call last)",
      "\u001b[1;32mc:\\Users\\aberhe\\Desktop\\PostDoc\\Projects\\SANTAL\\codes\\Article_Extraction\\ner_metagonomic_data.ipynb Cell 40\u001b[0m in \u001b[0;36m<cell line: 1>\u001b[1;34m()\u001b[0m\n\u001b[1;32m----> <a href='vscode-notebook-cell:/c%3A/Users/aberhe/Desktop/PostDoc/Projects/SANTAL/codes/Article_Extraction/ner_metagonomic_data.ipynb#Y103sZmlsZQ%3D%3D?line=0'>1</a>\u001b[0m d_a\u001b[39m=\u001b[39mjson\u001b[39m.\u001b[39;49mloads(a)\n",
      "File \u001b[1;32mc:\\ProgramData\\Anaconda3\\envs\\qenv\\lib\\json\\__init__.py:357\u001b[0m, in \u001b[0;36mloads\u001b[1;34m(s, cls, object_hook, parse_float, parse_int, parse_constant, object_pairs_hook, **kw)\u001b[0m\n\u001b[0;32m    352\u001b[0m     \u001b[39mdel\u001b[39;00m kw[\u001b[39m'\u001b[39m\u001b[39mencoding\u001b[39m\u001b[39m'\u001b[39m]\n\u001b[0;32m    354\u001b[0m \u001b[39mif\u001b[39;00m (\u001b[39mcls\u001b[39m \u001b[39mis\u001b[39;00m \u001b[39mNone\u001b[39;00m \u001b[39mand\u001b[39;00m object_hook \u001b[39mis\u001b[39;00m \u001b[39mNone\u001b[39;00m \u001b[39mand\u001b[39;00m\n\u001b[0;32m    355\u001b[0m         parse_int \u001b[39mis\u001b[39;00m \u001b[39mNone\u001b[39;00m \u001b[39mand\u001b[39;00m parse_float \u001b[39mis\u001b[39;00m \u001b[39mNone\u001b[39;00m \u001b[39mand\u001b[39;00m\n\u001b[0;32m    356\u001b[0m         parse_constant \u001b[39mis\u001b[39;00m \u001b[39mNone\u001b[39;00m \u001b[39mand\u001b[39;00m object_pairs_hook \u001b[39mis\u001b[39;00m \u001b[39mNone\u001b[39;00m \u001b[39mand\u001b[39;00m \u001b[39mnot\u001b[39;00m kw):\n\u001b[1;32m--> 357\u001b[0m     \u001b[39mreturn\u001b[39;00m _default_decoder\u001b[39m.\u001b[39;49mdecode(s)\n\u001b[0;32m    358\u001b[0m \u001b[39mif\u001b[39;00m \u001b[39mcls\u001b[39m \u001b[39mis\u001b[39;00m \u001b[39mNone\u001b[39;00m:\n\u001b[0;32m    359\u001b[0m     \u001b[39mcls\u001b[39m \u001b[39m=\u001b[39m JSONDecoder\n",
      "File \u001b[1;32mc:\\ProgramData\\Anaconda3\\envs\\qenv\\lib\\json\\decoder.py:337\u001b[0m, in \u001b[0;36mJSONDecoder.decode\u001b[1;34m(self, s, _w)\u001b[0m\n\u001b[0;32m    332\u001b[0m \u001b[39mdef\u001b[39;00m \u001b[39mdecode\u001b[39m(\u001b[39mself\u001b[39m, s, _w\u001b[39m=\u001b[39mWHITESPACE\u001b[39m.\u001b[39mmatch):\n\u001b[0;32m    333\u001b[0m     \u001b[39m\"\"\"Return the Python representation of ``s`` (a ``str`` instance\u001b[39;00m\n\u001b[0;32m    334\u001b[0m \u001b[39m    containing a JSON document).\u001b[39;00m\n\u001b[0;32m    335\u001b[0m \n\u001b[0;32m    336\u001b[0m \u001b[39m    \"\"\"\u001b[39;00m\n\u001b[1;32m--> 337\u001b[0m     obj, end \u001b[39m=\u001b[39m \u001b[39mself\u001b[39;49m\u001b[39m.\u001b[39;49mraw_decode(s, idx\u001b[39m=\u001b[39;49m_w(s, \u001b[39m0\u001b[39;49m)\u001b[39m.\u001b[39;49mend())\n\u001b[0;32m    338\u001b[0m     end \u001b[39m=\u001b[39m _w(s, end)\u001b[39m.\u001b[39mend()\n\u001b[0;32m    339\u001b[0m     \u001b[39mif\u001b[39;00m end \u001b[39m!=\u001b[39m \u001b[39mlen\u001b[39m(s):\n",
      "File \u001b[1;32mc:\\ProgramData\\Anaconda3\\envs\\qenv\\lib\\json\\decoder.py:353\u001b[0m, in \u001b[0;36mJSONDecoder.raw_decode\u001b[1;34m(self, s, idx)\u001b[0m\n\u001b[0;32m    344\u001b[0m \u001b[39m\"\"\"Decode a JSON document from ``s`` (a ``str`` beginning with\u001b[39;00m\n\u001b[0;32m    345\u001b[0m \u001b[39ma JSON document) and return a 2-tuple of the Python\u001b[39;00m\n\u001b[0;32m    346\u001b[0m \u001b[39mrepresentation and the index in ``s`` where the document ended.\u001b[39;00m\n\u001b[1;32m   (...)\u001b[0m\n\u001b[0;32m    350\u001b[0m \n\u001b[0;32m    351\u001b[0m \u001b[39m\"\"\"\u001b[39;00m\n\u001b[0;32m    352\u001b[0m \u001b[39mtry\u001b[39;00m:\n\u001b[1;32m--> 353\u001b[0m     obj, end \u001b[39m=\u001b[39m \u001b[39mself\u001b[39;49m\u001b[39m.\u001b[39;49mscan_once(s, idx)\n\u001b[0;32m    354\u001b[0m \u001b[39mexcept\u001b[39;00m \u001b[39mStopIteration\u001b[39;00m \u001b[39mas\u001b[39;00m err:\n\u001b[0;32m    355\u001b[0m     \u001b[39mraise\u001b[39;00m JSONDecodeError(\u001b[39m\"\u001b[39m\u001b[39mExpecting value\u001b[39m\u001b[39m\"\u001b[39m, s, err\u001b[39m.\u001b[39mvalue) \u001b[39mfrom\u001b[39;00m \u001b[39mNone\u001b[39m\n",
      "\u001b[1;31mJSONDecodeError\u001b[0m: Expecting property name enclosed in double quotes: line 1 column 2 (char 1)"
     ]
    }
   ],
   "source": [
    "d_a=json.loads(a)"
   ]
  },
  {
   "cell_type": "code",
   "execution_count": 120,
   "metadata": {},
   "outputs": [],
   "source": [
    "list_dic=[str(ner_metagenome_extracted[\"doc_\"+str(i+1)]) for i in range(len(ner_metagenome_extracted))]"
   ]
  },
  {
   "cell_type": "code",
   "execution_count": 122,
   "metadata": {},
   "outputs": [],
   "source": [
    "data=json.dumps(list_dic)"
   ]
  },
  {
   "cell_type": "code",
   "execution_count": 124,
   "metadata": {},
   "outputs": [],
   "source": [
    "with open(\"ner_metagenome_extracted.json\",\"r\") as f:\n",
    "    json.load(f)"
   ]
  },
  {
   "cell_type": "code",
   "execution_count": 26,
   "metadata": {},
   "outputs": [],
   "source": [
    "with open(\"ner_metagenome_extracted.json\",\"r\") as f:\n",
    "    metagenomData=json.load(f)"
   ]
  },
  {
   "cell_type": "code",
   "execution_count": 98,
   "metadata": {},
   "outputs": [],
   "source": [
    "#metagenomData"
   ]
  },
  {
   "cell_type": "code",
   "execution_count": 99,
   "metadata": {},
   "outputs": [],
   "source": [
    "#\n",
    "# print(metagenomData)"
   ]
  },
  {
   "cell_type": "code",
   "execution_count": null,
   "metadata": {},
   "outputs": [],
   "source": []
  }
 ],
 "metadata": {
  "kernelspec": {
   "display_name": "Python 3 (ipykernel)",
   "language": "python",
   "name": "python3"
  },
  "language_info": {
   "codemirror_mode": {
    "name": "ipython",
    "version": 3
   },
   "file_extension": ".py",
   "mimetype": "text/x-python",
   "name": "python",
   "nbconvert_exporter": "python",
   "pygments_lexer": "ipython3",
   "version": "3.10.9"
  },
  "vscode": {
   "interpreter": {
    "hash": "d4c6c2a6252e1c1ad491e375aad73fed2755e5a595cb8c3645bffdd920f89471"
   }
  }
 },
 "nbformat": 4,
 "nbformat_minor": 4
}
